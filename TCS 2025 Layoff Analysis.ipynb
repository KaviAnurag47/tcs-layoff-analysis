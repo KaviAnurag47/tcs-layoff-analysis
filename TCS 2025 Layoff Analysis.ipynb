{
 "cells": [
  {
   "cell_type": "markdown",
   "id": "636d313e-5942-44ca-873a-2c2862db8be9",
   "metadata": {},
   "source": [
    "# TCS 2025 Layoff Analysis: AI Integration and Skills Mismatch Insights"
   ]
  },
  {
   "cell_type": "markdown",
   "id": "76e38ba0-4bb4-4eb6-89c6-1d73d9e7806f",
   "metadata": {},
   "source": [
    "In this exploratory data analysis project, we analyze the tcs_workforce_2025.csv dataset to uncover key patterns behind Tata Consultancy Services’ 2025 workforce restructuring. The analysis focuses on the intersection of AI integration, skill mismatches, reskilling efforts, and redeployment policies using interactive Plotly visualizations. We explore how demographic factors, training levels, performance ratings, and strategic policies influenced layoff decisions — and present the findings in a visually rich, shareable format suitable for executive briefings and LinkedIn thought leadership."
   ]
  },
  {
   "cell_type": "markdown",
   "id": "c19ec986-baf1-4887-af04-4d04a2283d13",
   "metadata": {},
   "source": [
    "# Data Overview"
   ]
  },
  {
   "cell_type": "markdown",
   "id": "a29587eb-4d95-48f6-81ec-c1e1712cb130",
   "metadata": {},
   "source": [
    "## Import Libraries"
   ]
  },
  {
   "cell_type": "code",
   "execution_count": 2,
   "id": "ae06d230-5f8d-4f15-a264-e3ebb8820287",
   "metadata": {},
   "outputs": [
    {
     "name": "stdout",
     "output_type": "stream",
     "text": [
      "Collecting reportlab\n",
      "  Downloading reportlab-4.4.3-py3-none-any.whl.metadata (1.7 kB)\n",
      "Requirement already satisfied: pillow>=9.0.0 in c:\\users\\hp\\anaconda3\\lib\\site-packages (from reportlab) (10.4.0)\n",
      "Requirement already satisfied: charset-normalizer in c:\\users\\hp\\anaconda3\\lib\\site-packages (from reportlab) (3.3.2)\n",
      "Downloading reportlab-4.4.3-py3-none-any.whl (2.0 MB)\n",
      "   ---------------------------------------- 0.0/2.0 MB ? eta -:--:--\n",
      "   ---------------- ----------------------- 0.8/2.0 MB 8.3 MB/s eta 0:00:01\n",
      "   ---------------------------------------- 2.0/2.0 MB 12.0 MB/s eta 0:00:00\n",
      "Installing collected packages: reportlab\n",
      "Successfully installed reportlab-4.4.3\n"
     ]
    },
    {
     "name": "stderr",
     "output_type": "stream",
     "text": [
      "WARNING: Ignoring invalid distribution ~lotly (C:\\Users\\HP\\anaconda3\\Lib\\site-packages)\n",
      "WARNING: Ignoring invalid distribution ~lotly (C:\\Users\\HP\\anaconda3\\Lib\\site-packages)\n",
      "WARNING: Ignoring invalid distribution ~lotly (C:\\Users\\HP\\anaconda3\\Lib\\site-packages)\n"
     ]
    }
   ],
   "source": [
    "!pip install reportlab\n"
   ]
  },
  {
   "cell_type": "code",
   "execution_count": 48,
   "id": "9b6dae4c-d908-4317-ab0b-1a5c3db2e34f",
   "metadata": {},
   "outputs": [],
   "source": [
    "# Data handling\n",
    "import pandas as pd\n",
    "import numpy as np\n",
    "\n",
    "# Statistical tests\n",
    "from scipy import stats\n",
    "from scipy.stats import chi2_contingency\n",
    "\n",
    "\n",
    "# Visualization - interactive\n",
    "import plotly.express as px\n",
    "import plotly.graph_objects as go\n",
    "import plotly.io as pio\n",
    "\n",
    "# Image export (for Plotly PNGs)\n",
    "import kaleido  # Ensure installed: pip install -U kaleido==0.2.1\n",
    "\n",
    "# File handling and PDF report generation\n",
    "import os\n",
    "from reportlab.pdfgen import canvas\n",
    "from reportlab.lib.pagesizes import letter\n",
    "from reportlab.lib.units import inch\n",
    "\n",
    "# Warnings and plot rendering\n",
    "import warnings\n",
    "warnings.filterwarnings('ignore')\n",
    "\n",
    "# Configure Plotly to render inside Jupyter\n",
    "pio.renderers.default = \"notebook_connected\""
   ]
  },
  {
   "cell_type": "code",
   "execution_count": 2,
   "id": "ef06f9c2-b445-41b5-97ad-4183eccc4cb7",
   "metadata": {},
   "outputs": [
    {
     "name": "stdout",
     "output_type": "stream",
     "text": [
      "Dataset has 10000 rows and 26 columns.\n"
     ]
    }
   ],
   "source": [
    "#Load the Dataset\n",
    "df=pd.read_csv(\"tcs_workforce_2025.csv\")\n",
    "# Show the number of rows and columns\n",
    "print(f\"Dataset has {df.shape[0]} rows and {df.shape[1]} columns.\")"
   ]
  },
  {
   "cell_type": "code",
   "execution_count": 3,
   "id": "8f9e8582-1c36-4afa-bfa6-1948084426e2",
   "metadata": {},
   "outputs": [
    {
     "data": {
      "text/plain": [
       "(10000, 26)"
      ]
     },
     "execution_count": 3,
     "metadata": {},
     "output_type": "execute_result"
    }
   ],
   "source": [
    "df.shape"
   ]
  },
  {
   "cell_type": "markdown",
   "id": "3284c3bd-85f0-4a4d-89dd-ebda024e27d3",
   "metadata": {},
   "source": [
    "### Inference from Dataset Dimensions\n",
    "\n",
    "This code snippet and its output provide a foundational understanding of the 'TCS Workforce 2025' dataset's structure.\n",
    "\n",
    "1.  **Code Purpose**:\n",
    "    * The code first loads the `tcs_workforce_2025.csv` file into a pandas DataFrame named `df`.\n",
    "    * Subsequently, it uses `df.shape` to retrieve the dimensions of the DataFrame, specifically the number of rows and columns, and then prints this information in a user-friendly format.\n",
    "\n",
    "2.  **Output Interpretation**:\n",
    "    * The output `Dataset has 10000 rows and 26 columns.` clearly indicates the size of the dataset.\n",
    "    * **Number of Rows (10,000)**: This signifies that the dataset contains records for 10,000 individual employees. This is a substantial number, allowing for robust statistical analysis and the identification of meaningful trends within the workforce.\n",
    "    * **Number of Columns (26)**: This indicates that for each of the 10,000 employees, there are 26 different attributes or features recorded. These attributes likely cover various aspects such as demographics, performance, skills, project assignments, and other relevant workforce metrics.\n",
    "\n",
    "3.  **Implications for Data Analysis**:\n",
    "    * **Scale of Analysis**: With 10,000 records, the dataset is large enough to support various analytical tasks, including segmentation, correlation analysis, and predictive modeling, without being overly burdensome for typical data processing environments.\n",
    "    * **Feature Richness**: The presence of 26 columns suggests a rich dataset with a wide array of information points per employee. This richness allows for multi-dimensional analysis and the exploration of complex relationships between different workforce attributes (e.g., how age correlates with performance, or how skills match influences layoff risk).\n",
    "    * **Initial Data Validation**: Knowing the exact dimensions is a crucial first step in data validation, confirming that the dataset was loaded correctly and matches expected sizes."
   ]
  },
  {
   "cell_type": "code",
   "execution_count": 4,
   "id": "69e9bffc-504d-4a16-bf4c-19b153eba66a",
   "metadata": {},
   "outputs": [
    {
     "data": {
      "text/html": [
       "<div>\n",
       "<style scoped>\n",
       "    .dataframe tbody tr th:only-of-type {\n",
       "        vertical-align: middle;\n",
       "    }\n",
       "\n",
       "    .dataframe tbody tr th {\n",
       "        vertical-align: top;\n",
       "    }\n",
       "\n",
       "    .dataframe thead th {\n",
       "        text-align: right;\n",
       "    }\n",
       "</style>\n",
       "<table border=\"1\" class=\"dataframe\">\n",
       "  <thead>\n",
       "    <tr style=\"text-align: right;\">\n",
       "      <th></th>\n",
       "      <th>EmployeeID</th>\n",
       "      <th>Name</th>\n",
       "      <th>Age</th>\n",
       "      <th>Gender</th>\n",
       "      <th>Location</th>\n",
       "      <th>Department</th>\n",
       "      <th>Designation</th>\n",
       "      <th>YearsAtTCS</th>\n",
       "      <th>PerformanceRating</th>\n",
       "      <th>AI_Training_Level</th>\n",
       "      <th>...</th>\n",
       "      <th>PreviousBenchInstances</th>\n",
       "      <th>UpSkilledLastYear</th>\n",
       "      <th>WillingToReskill</th>\n",
       "      <th>RedeploymentAttempts</th>\n",
       "      <th>LastPromotionYearsAgo</th>\n",
       "      <th>SalaryUSD</th>\n",
       "      <th>ManagerFeedbackScore</th>\n",
       "      <th>LayoffFlag</th>\n",
       "      <th>LayoffReason</th>\n",
       "      <th>DateOfRecord</th>\n",
       "    </tr>\n",
       "  </thead>\n",
       "  <tbody>\n",
       "    <tr>\n",
       "      <th>0</th>\n",
       "      <td>TCS00000</td>\n",
       "      <td>Employee_0</td>\n",
       "      <td>37</td>\n",
       "      <td>Male</td>\n",
       "      <td>USA</td>\n",
       "      <td>HR</td>\n",
       "      <td>Junior</td>\n",
       "      <td>3.0</td>\n",
       "      <td>High</td>\n",
       "      <td>Basic</td>\n",
       "      <td>...</td>\n",
       "      <td>0</td>\n",
       "      <td>Yes</td>\n",
       "      <td>Yes</td>\n",
       "      <td>0</td>\n",
       "      <td>1</td>\n",
       "      <td>10000</td>\n",
       "      <td>3.89</td>\n",
       "      <td>0</td>\n",
       "      <td>NaN</td>\n",
       "      <td>2025-07-30</td>\n",
       "    </tr>\n",
       "    <tr>\n",
       "      <th>1</th>\n",
       "      <td>TCS00001</td>\n",
       "      <td>Employee_1</td>\n",
       "      <td>48</td>\n",
       "      <td>Male</td>\n",
       "      <td>UK</td>\n",
       "      <td>IT</td>\n",
       "      <td>Junior</td>\n",
       "      <td>9.7</td>\n",
       "      <td>High</td>\n",
       "      <td>Advanced</td>\n",
       "      <td>...</td>\n",
       "      <td>0</td>\n",
       "      <td>No</td>\n",
       "      <td>Yes</td>\n",
       "      <td>0</td>\n",
       "      <td>2</td>\n",
       "      <td>24669</td>\n",
       "      <td>4.49</td>\n",
       "      <td>0</td>\n",
       "      <td>NaN</td>\n",
       "      <td>2025-07-30</td>\n",
       "    </tr>\n",
       "    <tr>\n",
       "      <th>2</th>\n",
       "      <td>TCS00002</td>\n",
       "      <td>Employee_2</td>\n",
       "      <td>40</td>\n",
       "      <td>Female</td>\n",
       "      <td>India</td>\n",
       "      <td>Sales</td>\n",
       "      <td>Manager</td>\n",
       "      <td>3.7</td>\n",
       "      <td>Medium</td>\n",
       "      <td>Basic</td>\n",
       "      <td>...</td>\n",
       "      <td>0</td>\n",
       "      <td>Yes</td>\n",
       "      <td>Yes</td>\n",
       "      <td>1</td>\n",
       "      <td>3</td>\n",
       "      <td>18335</td>\n",
       "      <td>4.41</td>\n",
       "      <td>0</td>\n",
       "      <td>NaN</td>\n",
       "      <td>2025-07-30</td>\n",
       "    </tr>\n",
       "    <tr>\n",
       "      <th>3</th>\n",
       "      <td>TCS00003</td>\n",
       "      <td>Employee_3</td>\n",
       "      <td>36</td>\n",
       "      <td>Male</td>\n",
       "      <td>UK</td>\n",
       "      <td>Finance</td>\n",
       "      <td>Mid</td>\n",
       "      <td>11.6</td>\n",
       "      <td>Medium</td>\n",
       "      <td>Advanced</td>\n",
       "      <td>...</td>\n",
       "      <td>1</td>\n",
       "      <td>Yes</td>\n",
       "      <td>Yes</td>\n",
       "      <td>2</td>\n",
       "      <td>2</td>\n",
       "      <td>21535</td>\n",
       "      <td>3.15</td>\n",
       "      <td>0</td>\n",
       "      <td>NaN</td>\n",
       "      <td>2025-07-30</td>\n",
       "    </tr>\n",
       "    <tr>\n",
       "      <th>4</th>\n",
       "      <td>TCS00004</td>\n",
       "      <td>Employee_4</td>\n",
       "      <td>54</td>\n",
       "      <td>Male</td>\n",
       "      <td>India</td>\n",
       "      <td>IT</td>\n",
       "      <td>Senior</td>\n",
       "      <td>11.3</td>\n",
       "      <td>Medium</td>\n",
       "      <td>Basic</td>\n",
       "      <td>...</td>\n",
       "      <td>1</td>\n",
       "      <td>No</td>\n",
       "      <td>No</td>\n",
       "      <td>0</td>\n",
       "      <td>2</td>\n",
       "      <td>23560</td>\n",
       "      <td>2.92</td>\n",
       "      <td>0</td>\n",
       "      <td>NaN</td>\n",
       "      <td>2025-07-30</td>\n",
       "    </tr>\n",
       "  </tbody>\n",
       "</table>\n",
       "<p>5 rows × 26 columns</p>\n",
       "</div>"
      ],
      "text/plain": [
       "  EmployeeID        Name  Age  Gender Location Department Designation  \\\n",
       "0   TCS00000  Employee_0   37    Male      USA         HR      Junior   \n",
       "1   TCS00001  Employee_1   48    Male       UK         IT      Junior   \n",
       "2   TCS00002  Employee_2   40  Female    India      Sales     Manager   \n",
       "3   TCS00003  Employee_3   36    Male       UK    Finance         Mid   \n",
       "4   TCS00004  Employee_4   54    Male    India         IT      Senior   \n",
       "\n",
       "   YearsAtTCS PerformanceRating AI_Training_Level  ... PreviousBenchInstances  \\\n",
       "0         3.0              High             Basic  ...                      0   \n",
       "1         9.7              High          Advanced  ...                      0   \n",
       "2         3.7            Medium             Basic  ...                      0   \n",
       "3        11.6            Medium          Advanced  ...                      1   \n",
       "4        11.3            Medium             Basic  ...                      1   \n",
       "\n",
       "  UpSkilledLastYear  WillingToReskill RedeploymentAttempts  \\\n",
       "0               Yes               Yes                    0   \n",
       "1                No               Yes                    0   \n",
       "2               Yes               Yes                    1   \n",
       "3               Yes               Yes                    2   \n",
       "4                No                No                    0   \n",
       "\n",
       "   LastPromotionYearsAgo  SalaryUSD  ManagerFeedbackScore LayoffFlag  \\\n",
       "0                      1      10000                  3.89          0   \n",
       "1                      2      24669                  4.49          0   \n",
       "2                      3      18335                  4.41          0   \n",
       "3                      2      21535                  3.15          0   \n",
       "4                      2      23560                  2.92          0   \n",
       "\n",
       "  LayoffReason  DateOfRecord  \n",
       "0          NaN    2025-07-30  \n",
       "1          NaN    2025-07-30  \n",
       "2          NaN    2025-07-30  \n",
       "3          NaN    2025-07-30  \n",
       "4          NaN    2025-07-30  \n",
       "\n",
       "[5 rows x 26 columns]"
      ]
     },
     "execution_count": 4,
     "metadata": {},
     "output_type": "execute_result"
    }
   ],
   "source": [
    "# Preview the dataset\n",
    "df.head()"
   ]
  },
  {
   "cell_type": "markdown",
   "id": "c536acc3-37ce-42d1-9a98-5cd0712cf93b",
   "metadata": {},
   "source": [
    "### Inference from Dataset Preview (df.head())\n",
    "\n",
    "This output provides a critical initial glimpse into the actual data contained within the 'TCS Workforce 2025' dataset, allowing for an understanding of its structure, data types, and the kind of information each column holds.\n",
    "\n",
    "1.  **Code Purpose**:\n",
    "    * The `df.head()` command is used to display the first 5 rows of the DataFrame. This is a standard and essential step in data exploration, providing a quick way to inspect the data's format and content without viewing the entire dataset.\n",
    "\n",
    "2.  **Output Interpretation**:\n",
    "    * **Column Headers**: The output clearly lists all 26 column headers, which include: `EmployeeID`, `Name`, `Age`, `Gender`, `Location`, `Department`, `Designation`, `YearsAtTCS`, `PerformanceRating`, `AI_Training_Level`, `SkillsMatch`, `OnsiteExperience`, `Certifications`, `CurrentProject`, `BillableDays`, `BenchDays`, `PreviousBenchInstances`, `UpSkilledLastYear`, `WillingToReskill`, `RedeploymentAttempts`, `LastPromotionYearsAgo`, `SalaryUSD`, `ManagerFeedbackScore`, `LayoffFlag`, `LayoffReason`, and `DateOfRecord`. This confirms the wide range of attributes available for analysis.\n",
    "    * **Data Types and Values**:\n",
    "        * **Categorical Data**: Columns like `Gender` (Male/Female), `Location` (USA, UK, India, etc.), `Department` (HR, IT, Sales, Finance), `Designation` (Junior, Manager, Mid, Senior), `PerformanceRating` (High, Medium), `AI_Training_Level` (Basic, Advanced, None), `SkillsMatch` (Match/Mismatch), `OnsiteExperience` (Yes/No), `CurrentProject` (Yes/No), `UpSkilledLastYear` (Yes/No), `WillingToReskill` (Yes/No), and `LayoffFlag` (0/1) are clearly categorical. `LayoffReason` also falls into this category, with `NaN` indicating no layoff.\n",
    "        * **Numerical Data**: `Age`, `YearsAtTCS`, `Certifications`, `BillableDays`, `BenchDays`, `PreviousBenchInstances`, `RedeploymentAttempts`, `LastPromotionYearsAgo`, `SalaryUSD`, and `ManagerFeedbackScore` contain numerical values.\n",
    "        * **Mixed Data**: `EmployeeID` is an object (string) and unique identifier. `DateOfRecord` is also an object (string) representing dates.\n",
    "    * **Missing Values (NaN)**: The presence of `NaN` in the `LayoffReason` column for the first few rows immediately indicates that this column contains missing values, likely for employees who were not laid off (as indicated by `LayoffFlag` being 0).\n",
    "\n",
    "3.  **Implications for Data Analysis**:\n",
    "    * **Data Cleaning and Preprocessing**: The preview helps identify columns that might require data cleaning (e.g., handling `NaN` values in `LayoffReason`), or conversion of data types (e.g., `DateOfRecord` might need to be converted to datetime objects for time-series analysis).\n",
    "    * **Feature Engineering Opportunities**: Understanding the content of each column enables potential feature engineering. For example, `BillableDays` and `BenchDays` can be combined to calculate total working days.\n",
    "    * **Hypothesis Generation**: The visible data allows for initial hypothesis generation. For instance, observing `LayoffFlag` as 0 and `LayoffReason` as `NaN` confirms the expected relationship between these two columns. We might hypothesize that employees with 'Mismatch' in `SkillsMatch` or higher `BenchDays` might have a higher `LayoffFlag`.\n",
    "    * **Relevance of Columns**: All 26 columns appear to be relevant for a comprehensive analysis of workforce dynamics, retention, and performance, allowing for a holistic view of the TCS employee base."
   ]
  },
  {
   "cell_type": "code",
   "execution_count": 5,
   "id": "7ff9d264-763b-470b-b76b-946b303032b9",
   "metadata": {},
   "outputs": [
    {
     "data": {
      "text/html": [
       "<div>\n",
       "<style scoped>\n",
       "    .dataframe tbody tr th:only-of-type {\n",
       "        vertical-align: middle;\n",
       "    }\n",
       "\n",
       "    .dataframe tbody tr th {\n",
       "        vertical-align: top;\n",
       "    }\n",
       "\n",
       "    .dataframe thead th {\n",
       "        text-align: right;\n",
       "    }\n",
       "</style>\n",
       "<table border=\"1\" class=\"dataframe\">\n",
       "  <thead>\n",
       "    <tr style=\"text-align: right;\">\n",
       "      <th></th>\n",
       "      <th>EmployeeID</th>\n",
       "      <th>Name</th>\n",
       "      <th>Age</th>\n",
       "      <th>Gender</th>\n",
       "      <th>Location</th>\n",
       "      <th>Department</th>\n",
       "      <th>Designation</th>\n",
       "      <th>YearsAtTCS</th>\n",
       "      <th>PerformanceRating</th>\n",
       "      <th>AI_Training_Level</th>\n",
       "      <th>...</th>\n",
       "      <th>PreviousBenchInstances</th>\n",
       "      <th>UpSkilledLastYear</th>\n",
       "      <th>WillingToReskill</th>\n",
       "      <th>RedeploymentAttempts</th>\n",
       "      <th>LastPromotionYearsAgo</th>\n",
       "      <th>SalaryUSD</th>\n",
       "      <th>ManagerFeedbackScore</th>\n",
       "      <th>LayoffFlag</th>\n",
       "      <th>LayoffReason</th>\n",
       "      <th>DateOfRecord</th>\n",
       "    </tr>\n",
       "  </thead>\n",
       "  <tbody>\n",
       "    <tr>\n",
       "      <th>9995</th>\n",
       "      <td>TCS09995</td>\n",
       "      <td>Employee_9995</td>\n",
       "      <td>54</td>\n",
       "      <td>Male</td>\n",
       "      <td>India</td>\n",
       "      <td>IT</td>\n",
       "      <td>Senior</td>\n",
       "      <td>8.1</td>\n",
       "      <td>High</td>\n",
       "      <td>Basic</td>\n",
       "      <td>...</td>\n",
       "      <td>0</td>\n",
       "      <td>Yes</td>\n",
       "      <td>Yes</td>\n",
       "      <td>0</td>\n",
       "      <td>0</td>\n",
       "      <td>34820</td>\n",
       "      <td>4.15</td>\n",
       "      <td>0</td>\n",
       "      <td>NaN</td>\n",
       "      <td>2025-07-30</td>\n",
       "    </tr>\n",
       "    <tr>\n",
       "      <th>9996</th>\n",
       "      <td>TCS09996</td>\n",
       "      <td>Employee_9996</td>\n",
       "      <td>34</td>\n",
       "      <td>Female</td>\n",
       "      <td>India</td>\n",
       "      <td>Sales</td>\n",
       "      <td>Senior</td>\n",
       "      <td>4.0</td>\n",
       "      <td>Medium</td>\n",
       "      <td>Basic</td>\n",
       "      <td>...</td>\n",
       "      <td>0</td>\n",
       "      <td>Yes</td>\n",
       "      <td>Yes</td>\n",
       "      <td>3</td>\n",
       "      <td>3</td>\n",
       "      <td>15842</td>\n",
       "      <td>3.07</td>\n",
       "      <td>0</td>\n",
       "      <td>NaN</td>\n",
       "      <td>2025-07-30</td>\n",
       "    </tr>\n",
       "    <tr>\n",
       "      <th>9997</th>\n",
       "      <td>TCS09997</td>\n",
       "      <td>Employee_9997</td>\n",
       "      <td>26</td>\n",
       "      <td>Male</td>\n",
       "      <td>UK</td>\n",
       "      <td>IT</td>\n",
       "      <td>Junior</td>\n",
       "      <td>0.5</td>\n",
       "      <td>Medium</td>\n",
       "      <td>Basic</td>\n",
       "      <td>...</td>\n",
       "      <td>2</td>\n",
       "      <td>No</td>\n",
       "      <td>Yes</td>\n",
       "      <td>2</td>\n",
       "      <td>3</td>\n",
       "      <td>19527</td>\n",
       "      <td>2.09</td>\n",
       "      <td>0</td>\n",
       "      <td>NaN</td>\n",
       "      <td>2025-07-30</td>\n",
       "    </tr>\n",
       "    <tr>\n",
       "      <th>9998</th>\n",
       "      <td>TCS09998</td>\n",
       "      <td>Employee_9998</td>\n",
       "      <td>43</td>\n",
       "      <td>Female</td>\n",
       "      <td>India</td>\n",
       "      <td>Finance</td>\n",
       "      <td>Junior</td>\n",
       "      <td>10.0</td>\n",
       "      <td>High</td>\n",
       "      <td>Basic</td>\n",
       "      <td>...</td>\n",
       "      <td>1</td>\n",
       "      <td>Yes</td>\n",
       "      <td>Yes</td>\n",
       "      <td>1</td>\n",
       "      <td>0</td>\n",
       "      <td>28710</td>\n",
       "      <td>3.73</td>\n",
       "      <td>0</td>\n",
       "      <td>NaN</td>\n",
       "      <td>2025-07-30</td>\n",
       "    </tr>\n",
       "    <tr>\n",
       "      <th>9999</th>\n",
       "      <td>TCS09999</td>\n",
       "      <td>Employee_9999</td>\n",
       "      <td>39</td>\n",
       "      <td>Male</td>\n",
       "      <td>India</td>\n",
       "      <td>Sales</td>\n",
       "      <td>Junior</td>\n",
       "      <td>7.9</td>\n",
       "      <td>Medium</td>\n",
       "      <td>Advanced</td>\n",
       "      <td>...</td>\n",
       "      <td>1</td>\n",
       "      <td>Yes</td>\n",
       "      <td>Yes</td>\n",
       "      <td>2</td>\n",
       "      <td>2</td>\n",
       "      <td>38667</td>\n",
       "      <td>3.22</td>\n",
       "      <td>0</td>\n",
       "      <td>NaN</td>\n",
       "      <td>2025-07-30</td>\n",
       "    </tr>\n",
       "  </tbody>\n",
       "</table>\n",
       "<p>5 rows × 26 columns</p>\n",
       "</div>"
      ],
      "text/plain": [
       "     EmployeeID           Name  Age  Gender Location Department Designation  \\\n",
       "9995   TCS09995  Employee_9995   54    Male    India         IT      Senior   \n",
       "9996   TCS09996  Employee_9996   34  Female    India      Sales      Senior   \n",
       "9997   TCS09997  Employee_9997   26    Male       UK         IT      Junior   \n",
       "9998   TCS09998  Employee_9998   43  Female    India    Finance      Junior   \n",
       "9999   TCS09999  Employee_9999   39    Male    India      Sales      Junior   \n",
       "\n",
       "      YearsAtTCS PerformanceRating AI_Training_Level  ...  \\\n",
       "9995         8.1              High             Basic  ...   \n",
       "9996         4.0            Medium             Basic  ...   \n",
       "9997         0.5            Medium             Basic  ...   \n",
       "9998        10.0              High             Basic  ...   \n",
       "9999         7.9            Medium          Advanced  ...   \n",
       "\n",
       "     PreviousBenchInstances UpSkilledLastYear  WillingToReskill  \\\n",
       "9995                      0               Yes               Yes   \n",
       "9996                      0               Yes               Yes   \n",
       "9997                      2                No               Yes   \n",
       "9998                      1               Yes               Yes   \n",
       "9999                      1               Yes               Yes   \n",
       "\n",
       "     RedeploymentAttempts  LastPromotionYearsAgo  SalaryUSD  \\\n",
       "9995                    0                      0      34820   \n",
       "9996                    3                      3      15842   \n",
       "9997                    2                      3      19527   \n",
       "9998                    1                      0      28710   \n",
       "9999                    2                      2      38667   \n",
       "\n",
       "      ManagerFeedbackScore LayoffFlag LayoffReason  DateOfRecord  \n",
       "9995                  4.15          0          NaN    2025-07-30  \n",
       "9996                  3.07          0          NaN    2025-07-30  \n",
       "9997                  2.09          0          NaN    2025-07-30  \n",
       "9998                  3.73          0          NaN    2025-07-30  \n",
       "9999                  3.22          0          NaN    2025-07-30  \n",
       "\n",
       "[5 rows x 26 columns]"
      ]
     },
     "execution_count": 5,
     "metadata": {},
     "output_type": "execute_result"
    }
   ],
   "source": [
    "df.tail()"
   ]
  },
  {
   "cell_type": "markdown",
   "id": "0570c4d0-40ca-4c65-8d65-7a1affd0edbc",
   "metadata": {},
   "source": [
    "### Inference from Dataset Tail (df.tail())\n",
    "\n",
    "This output, showing the last few rows of the dataset, complements the `df.head()` output by confirming data consistency and revealing any potential anomalies or patterns towards the end of the dataset.\n",
    "\n",
    "1.  **Code Purpose**:\n",
    "    * The `df.tail()` command is used to display the last 5 rows of the DataFrame. This is useful for checking how the data ends, verifying data integrity, and identifying any specific patterns or data entries that might appear towards the conclusion of the dataset (e.g., if data was appended or processed in a specific order).\n",
    "\n",
    "2.  **Output Interpretation**:\n",
    "    * **Consistency with `df.head()`**: The structure and types of data observed in `df.tail()` are consistent with those seen in `df.head()`. This suggests uniformity throughout the dataset.\n",
    "    * **Employee IDs**: The `EmployeeID` sequence continues logically (e.g., `TCS09995` to `TCS09999`), confirming that the dataset likely contains a contiguous set of employee records up to the 10,000th entry.\n",
    "    * **`LayoffReason` NaN Values**: Similar to the `head()` output, the `LayoffReason` column shows `NaN` for all these last five employees, reinforcing the observation that this column is sparse and primarily populated only when `LayoffFlag` is set to 1. This indicates that the majority of employees in the dataset were not laid off.\n",
    "    * **Varied Employee Profiles**: The last few rows continue to show a diverse set of employee profiles in terms of `Age`, `YearsAtTCS`, `Location`, `Department`, `Designation`, `PerformanceRating`, and `AI_Training_Level`. This suggests that the dataset does not end with a specific subset of employees but maintains its overall diversity. For instance, we see a `Junior` employee with `0.5` `YearsAtTCS` (Employee_9997) alongside more experienced employees, and a `Senior` employee with high salary and performance (Employee_9995).\n",
    "\n",
    "3.  **Implications for Data Analysis**:\n",
    "    * **Data Integrity Confirmation**: The consistent structure and content from both ends of the dataset (`head()` and `tail()`) provide a good initial confirmation of data integrity. There are no immediate signs of truncated or malformed data at the end of the file.\n",
    "    * **No Apparent End-of-File Bias**: The data does not seem to be ordered in a way that places specific types of employees (e.g., all high-performers or all new hires) at the very end of the file, which is good for avoiding sampling bias if only a subset of data were to be used.\n",
    "    * **Preparation for Full Analysis**: Having confirmed the basic structure and consistency from both ends, the next steps in data analysis can proceed with more confidence, such as checking for missing values, unique values, and statistical distributions across all columns."
   ]
  },
  {
   "cell_type": "code",
   "execution_count": 6,
   "id": "e7a3f6c0-5228-4f4d-80d0-90a513aa4fa2",
   "metadata": {},
   "outputs": [
    {
     "name": "stdout",
     "output_type": "stream",
     "text": [
      "['EmployeeID', 'Name', 'Age', 'Gender', 'Location', 'Department', 'Designation', 'YearsAtTCS', 'PerformanceRating', 'AI_Training_Level', 'SkillsMatch', 'OnsiteExperience', 'Certifications', 'CurrentProject', 'BillableDays', 'BenchDays', 'PreviousBenchInstances', 'UpSkilledLastYear', 'WillingToReskill', 'RedeploymentAttempts', 'LastPromotionYearsAgo', 'SalaryUSD', 'ManagerFeedbackScore', 'LayoffFlag', 'LayoffReason', 'DateOfRecord']\n"
     ]
    }
   ],
   "source": [
    "# Show all column names\n",
    "print(df.columns.tolist())"
   ]
  },
  {
   "cell_type": "markdown",
   "id": "497f82be-6e17-4074-8f04-6b7b7fe9037d",
   "metadata": {},
   "source": [
    "### Inference from Column Names List\n",
    "\n",
    "This output explicitly lists all the column names in the 'TCS Workforce 2025' dataset, which is crucial for understanding the granularity and scope of the available data attributes.\n",
    "\n",
    "1.  **Code Purpose**:\n",
    "    * The `df.columns.tolist()` command is used to extract all column names from the DataFrame and present them as a Python list. This is a simple yet effective way to get an exhaustive overview of all variables available for analysis.\n",
    "\n",
    "2.  **Output Interpretation**:\n",
    "    * **Comprehensive Attribute List**: The output provides a complete roster of all 26 variables in the dataset. These include:\n",
    "        * **Identifiers**: `EmployeeID`, `Name`\n",
    "        * **Demographics**: `Age`, `Gender`, `Location`\n",
    "        * **Organizational Attributes**: `Department`, `Designation`\n",
    "        * **Tenure & Performance**: `YearsAtTCS`, `PerformanceRating`, `ManagerFeedbackScore`, `LastPromotionYearsAgo`\n",
    "        * **Skills & Training**: `AI_Training_Level`, `SkillsMatch`, `Certifications`, `UpSkilledLastYear`, `WillingToReskill`\n",
    "        * **Project & Utilization**: `OnsiteExperience`, `CurrentProject`, `BillableDays`, `BenchDays`, `PreviousBenchInstances`, `RedeploymentAttempts`\n",
    "        * **Compensation**: `SalaryUSD`\n",
    "        * **Layoff Information**: `LayoffFlag`, `LayoffReason`\n",
    "        * **Record Date**: `DateOfRecord`\n",
    "\n",
    "3.  **Implications for Data Analysis**:\n",
    "    * **Feature Identification**: This list serves as a direct reference for identifying all potential features that can be used in descriptive analysis, inferential modeling, or predictive tasks.\n",
    "    * **Understanding Data Scope**: By reviewing the column names, one can quickly grasp the breadth of information captured about each employee, from their basic demographics to their professional development, project engagement, and employment status.\n",
    "    * **Planning Further Analysis**: This overview helps in formulating specific analytical questions. For example, one might immediately think about:\n",
    "        * How `AI_Training_Level` correlates with `PerformanceRating`.\n",
    "        * The relationship between `BenchDays` and `LayoffFlag`.\n",
    "        * The influence of `YearsAtTCS` and `Designation` on `SalaryUSD`.\n",
    "    * **Data Dictionary Creation**: This list forms the basis for creating a data dictionary, which would further define each column's meaning, data type, and possible values, aiding in consistent understanding and usage of the dataset.\n",
    "    * **Column Selection**: For specific analytical tasks, this list facilitates the selection of relevant columns and the exclusion of irrelevant ones (e.g., `Name` might be excluded from aggregate analyses for privacy or irrelevance to statistical patterns)."
   ]
  },
  {
   "cell_type": "code",
   "execution_count": 7,
   "id": "58699f76-7de1-4ebb-ab99-675208df0d49",
   "metadata": {},
   "outputs": [
    {
     "data": {
      "text/html": [
       "<div>\n",
       "<style scoped>\n",
       "    .dataframe tbody tr th:only-of-type {\n",
       "        vertical-align: middle;\n",
       "    }\n",
       "\n",
       "    .dataframe tbody tr th {\n",
       "        vertical-align: top;\n",
       "    }\n",
       "\n",
       "    .dataframe thead th {\n",
       "        text-align: right;\n",
       "    }\n",
       "</style>\n",
       "<table border=\"1\" class=\"dataframe\">\n",
       "  <thead>\n",
       "    <tr style=\"text-align: right;\">\n",
       "      <th></th>\n",
       "      <th>Age</th>\n",
       "      <th>YearsAtTCS</th>\n",
       "      <th>Certifications</th>\n",
       "      <th>BillableDays</th>\n",
       "      <th>BenchDays</th>\n",
       "      <th>PreviousBenchInstances</th>\n",
       "      <th>RedeploymentAttempts</th>\n",
       "      <th>LastPromotionYearsAgo</th>\n",
       "      <th>SalaryUSD</th>\n",
       "      <th>ManagerFeedbackScore</th>\n",
       "      <th>LayoffFlag</th>\n",
       "    </tr>\n",
       "  </thead>\n",
       "  <tbody>\n",
       "    <tr>\n",
       "      <th>count</th>\n",
       "      <td>10000.000000</td>\n",
       "      <td>10000.000000</td>\n",
       "      <td>10000.000000</td>\n",
       "      <td>10000.000000</td>\n",
       "      <td>10000.000000</td>\n",
       "      <td>10000.000000</td>\n",
       "      <td>10000.000000</td>\n",
       "      <td>10000.000000</td>\n",
       "      <td>10000.000000</td>\n",
       "      <td>10000.000000</td>\n",
       "      <td>10000.000000</td>\n",
       "    </tr>\n",
       "    <tr>\n",
       "      <th>mean</th>\n",
       "      <td>40.623900</td>\n",
       "      <td>6.050710</td>\n",
       "      <td>3.486400</td>\n",
       "      <td>245.083500</td>\n",
       "      <td>10.414900</td>\n",
       "      <td>1.018100</td>\n",
       "      <td>1.021200</td>\n",
       "      <td>1.538700</td>\n",
       "      <td>25412.275900</td>\n",
       "      <td>3.499505</td>\n",
       "      <td>0.025000</td>\n",
       "    </tr>\n",
       "    <tr>\n",
       "      <th>std</th>\n",
       "      <td>10.956936</td>\n",
       "      <td>2.958908</td>\n",
       "      <td>2.305373</td>\n",
       "      <td>9.051802</td>\n",
       "      <td>8.595112</td>\n",
       "      <td>1.008997</td>\n",
       "      <td>1.004117</td>\n",
       "      <td>0.983869</td>\n",
       "      <td>9389.149382</td>\n",
       "      <td>0.868885</td>\n",
       "      <td>0.156133</td>\n",
       "    </tr>\n",
       "    <tr>\n",
       "      <th>min</th>\n",
       "      <td>22.000000</td>\n",
       "      <td>0.500000</td>\n",
       "      <td>0.000000</td>\n",
       "      <td>210.000000</td>\n",
       "      <td>0.000000</td>\n",
       "      <td>0.000000</td>\n",
       "      <td>0.000000</td>\n",
       "      <td>0.000000</td>\n",
       "      <td>10000.000000</td>\n",
       "      <td>2.000000</td>\n",
       "      <td>0.000000</td>\n",
       "    </tr>\n",
       "    <tr>\n",
       "      <th>25%</th>\n",
       "      <td>31.000000</td>\n",
       "      <td>3.900000</td>\n",
       "      <td>1.000000</td>\n",
       "      <td>239.000000</td>\n",
       "      <td>3.000000</td>\n",
       "      <td>0.000000</td>\n",
       "      <td>0.000000</td>\n",
       "      <td>1.000000</td>\n",
       "      <td>18346.500000</td>\n",
       "      <td>2.750000</td>\n",
       "      <td>0.000000</td>\n",
       "    </tr>\n",
       "    <tr>\n",
       "      <th>50%</th>\n",
       "      <td>41.000000</td>\n",
       "      <td>6.000000</td>\n",
       "      <td>3.000000</td>\n",
       "      <td>246.000000</td>\n",
       "      <td>9.000000</td>\n",
       "      <td>1.000000</td>\n",
       "      <td>1.000000</td>\n",
       "      <td>2.000000</td>\n",
       "      <td>25059.500000</td>\n",
       "      <td>3.490000</td>\n",
       "      <td>0.000000</td>\n",
       "    </tr>\n",
       "    <tr>\n",
       "      <th>75%</th>\n",
       "      <td>50.000000</td>\n",
       "      <td>8.100000</td>\n",
       "      <td>6.000000</td>\n",
       "      <td>252.000000</td>\n",
       "      <td>16.000000</td>\n",
       "      <td>2.000000</td>\n",
       "      <td>2.000000</td>\n",
       "      <td>2.000000</td>\n",
       "      <td>31884.500000</td>\n",
       "      <td>4.260000</td>\n",
       "      <td>0.000000</td>\n",
       "    </tr>\n",
       "    <tr>\n",
       "      <th>max</th>\n",
       "      <td>59.000000</td>\n",
       "      <td>16.700000</td>\n",
       "      <td>7.000000</td>\n",
       "      <td>260.000000</td>\n",
       "      <td>45.000000</td>\n",
       "      <td>7.000000</td>\n",
       "      <td>6.000000</td>\n",
       "      <td>5.000000</td>\n",
       "      <td>61055.000000</td>\n",
       "      <td>5.000000</td>\n",
       "      <td>1.000000</td>\n",
       "    </tr>\n",
       "  </tbody>\n",
       "</table>\n",
       "</div>"
      ],
      "text/plain": [
       "                Age    YearsAtTCS  Certifications  BillableDays     BenchDays  \\\n",
       "count  10000.000000  10000.000000    10000.000000  10000.000000  10000.000000   \n",
       "mean      40.623900      6.050710        3.486400    245.083500     10.414900   \n",
       "std       10.956936      2.958908        2.305373      9.051802      8.595112   \n",
       "min       22.000000      0.500000        0.000000    210.000000      0.000000   \n",
       "25%       31.000000      3.900000        1.000000    239.000000      3.000000   \n",
       "50%       41.000000      6.000000        3.000000    246.000000      9.000000   \n",
       "75%       50.000000      8.100000        6.000000    252.000000     16.000000   \n",
       "max       59.000000     16.700000        7.000000    260.000000     45.000000   \n",
       "\n",
       "       PreviousBenchInstances  RedeploymentAttempts  LastPromotionYearsAgo  \\\n",
       "count            10000.000000          10000.000000           10000.000000   \n",
       "mean                 1.018100              1.021200               1.538700   \n",
       "std                  1.008997              1.004117               0.983869   \n",
       "min                  0.000000              0.000000               0.000000   \n",
       "25%                  0.000000              0.000000               1.000000   \n",
       "50%                  1.000000              1.000000               2.000000   \n",
       "75%                  2.000000              2.000000               2.000000   \n",
       "max                  7.000000              6.000000               5.000000   \n",
       "\n",
       "          SalaryUSD  ManagerFeedbackScore    LayoffFlag  \n",
       "count  10000.000000          10000.000000  10000.000000  \n",
       "mean   25412.275900              3.499505      0.025000  \n",
       "std     9389.149382              0.868885      0.156133  \n",
       "min    10000.000000              2.000000      0.000000  \n",
       "25%    18346.500000              2.750000      0.000000  \n",
       "50%    25059.500000              3.490000      0.000000  \n",
       "75%    31884.500000              4.260000      0.000000  \n",
       "max    61055.000000              5.000000      1.000000  "
      ]
     },
     "execution_count": 7,
     "metadata": {},
     "output_type": "execute_result"
    }
   ],
   "source": [
    "df.describe()"
   ]
  },
  {
   "cell_type": "markdown",
   "id": "637dc0b6-f826-4b0b-8895-e839fda7f6f3",
   "metadata": {},
   "source": [
    "### Inference from Descriptive Statistics (df.describe())\n",
    "\n",
    "The `df.describe()` output provides summary statistics for all numerical columns in the 'TCS Workforce 2025' dataset. This is essential for understanding the central tendency, dispersion, and shape of the distribution for each numerical attribute.\n",
    "\n",
    "1.  **Code Purpose**:\n",
    "    * The `df.describe()` function generates descriptive statistics that summarize the central tendency, dispersion, and shape of a dataset's distribution, excluding `NaN` values. It's automatically applied to numerical columns.\n",
    "\n",
    "2.  **Output Interpretation**:\n",
    "    * **`count`**: All listed numerical columns have `10000` entries, confirming that there are no missing values in these specific columns.\n",
    "    * **`Age`**:\n",
    "        * Mean age is approximately 40.62 years, with a standard deviation of 10.96 years.\n",
    "        * Ages range from 22 to 59, indicating a broad age distribution within the workforce. The 25th percentile is 31 and the 75th percentile is 50, suggesting a fairly even spread across the working age spectrum.\n",
    "    * **`YearsAtTCS`**:\n",
    "        * Employees have an average of 6.05 years at TCS, with a standard deviation of 2.96 years.\n",
    "        * Tenure ranges from 0.5 years (new employees) to 16.7 years (long-serving employees), showing a mix of experienced and newer staff.\n",
    "    * **`Certifications`**:\n",
    "        * Employees hold an average of 3.49 certifications, with a standard deviation of 2.31.\n",
    "        * The range is from 0 to 7 certifications. The 25th percentile at 1 and 50th percentile at 3 suggest a varying level of certified skills across the workforce.\n",
    "    * **`BillableDays`**:\n",
    "        * The average billable days are 245.08, with a relatively small standard deviation of 9.05, indicating most employees are actively engaged in projects.\n",
    "        * The range from 210 to 260 days suggests consistent project work, with maximum possible being around 260 (assuming a 5-day work week over ~52 weeks).\n",
    "    * **`BenchDays`**:\n",
    "        * The average bench days are 10.41, with a standard deviation of 8.60.\n",
    "        * While the minimum is 0 (fully utilized employees), the maximum reaches 45 days, indicating some employees experience significant time on the bench.\n",
    "    * **`PreviousBenchInstances`**:\n",
    "        * On average, employees have 1.02 previous bench instances, with a standard deviation of 1.01.\n",
    "        * The range from 0 to 7 suggests that repeated bench periods are possible for some individuals.\n",
    "    * **`RedeploymentAttempts`**:\n",
    "        * The mean number of redeployment attempts is 1.02, with a standard deviation of 1.00.\n",
    "        * The range is from 0 to 6 attempts, indicating efforts to re-assign employees, especially those on the bench.\n",
    "    * **`LastPromotionYearsAgo`**:\n",
    "        * Employees were last promoted an average of 1.54 years ago, with a standard deviation of 0.98 years.\n",
    "        * The range is from 0 (recently promoted) to 5 years, showing varied promotion cycles.\n",
    "    * **`SalaryUSD`**:\n",
    "        * The average salary is approximately $25,412.28 USD, with a standard deviation of $9,389.15.\n",
    "        * Salaries range widely from $10,000 to $61,055, reflecting different roles, experience levels, and performance.\n",
    "    * **`ManagerFeedbackScore`**:\n",
    "        * The average manager feedback score is 3.50 out of a likely 5-point scale (given the max of 5.0), with a standard deviation of 0.87.\n",
    "        * The range from 2.00 to 5.00 suggests variability in performance and feedback, but the mean indicates generally satisfactory feedback.\n",
    "    * **`LayoffFlag`**:\n",
    "        * The mean of 0.025 indicates that approximately 2.5% of the employees in this dataset have been flagged for layoff (since it's a binary 0 or 1 variable). This is a relatively low percentage but significant for targeted analysis.\n",
    "\n",
    "3.  **Implications for Data Analysis**:\n",
    "    * **Outlier Detection**: The `min` and `max` values, along with standard deviations, help identify potential outliers (e.g., extremely high bench days or unusually low salaries for senior roles).\n",
    "    * **Distribution Assessment**: The `mean` and `median` (50th percentile) values give a sense of the distribution's skewness. For example, if the mean is significantly different from the median, the data might be skewed.\n",
    "    * **Feature Relationships**: These statistics provide a basis for exploring relationships between variables (e.g., how `YearsAtTCS` or `ManagerFeedbackScore` relates to `SalaryUSD`).\n",
    "    * **Business Context**: The statistics can be interpreted in the context of business operations. For example, the low average `BenchDays` suggests good utilization overall, but the maximum values indicate areas for improvement in redeployment. The 2.5% layoff rate provides a benchmark for workforce stability."
   ]
  },
  {
   "cell_type": "markdown",
   "id": "955b8be2-854f-44c9-a8ca-af9e3e47a46b",
   "metadata": {},
   "source": [
    "# Data Preprocessing"
   ]
  },
  {
   "cell_type": "markdown",
   "id": "916853e0-5e5c-4863-af61-47f11eaaf01e",
   "metadata": {},
   "source": [
    "## Data Cleaning"
   ]
  },
  {
   "cell_type": "code",
   "execution_count": 8,
   "id": "b0244aa5-4a80-45a9-97ac-c23c746a595c",
   "metadata": {},
   "outputs": [
    {
     "data": {
      "text/plain": [
       "EmployeeID                   0\n",
       "Name                         0\n",
       "Age                          0\n",
       "Gender                       0\n",
       "Location                     0\n",
       "Department                   0\n",
       "Designation                  0\n",
       "YearsAtTCS                   0\n",
       "PerformanceRating            0\n",
       "AI_Training_Level         4002\n",
       "SkillsMatch                  0\n",
       "OnsiteExperience             0\n",
       "Certifications               0\n",
       "CurrentProject               0\n",
       "BillableDays                 0\n",
       "BenchDays                    0\n",
       "PreviousBenchInstances       0\n",
       "UpSkilledLastYear            0\n",
       "WillingToReskill             0\n",
       "RedeploymentAttempts         0\n",
       "LastPromotionYearsAgo        0\n",
       "SalaryUSD                    0\n",
       "ManagerFeedbackScore         0\n",
       "LayoffFlag                   0\n",
       "LayoffReason              9750\n",
       "DateOfRecord                 0\n",
       "dtype: int64"
      ]
     },
     "execution_count": 8,
     "metadata": {},
     "output_type": "execute_result"
    }
   ],
   "source": [
    "# Step 1: Check for missing values in the dataset\n",
    "df.isnull().sum()\n"
   ]
  },
  {
   "cell_type": "code",
   "execution_count": 9,
   "id": "19a95839-efcb-4f2f-881e-110e31000ac0",
   "metadata": {},
   "outputs": [
    {
     "name": "stdout",
     "output_type": "stream",
     "text": [
      "Missing Value Percentage:\n",
      " EmployeeID                 0.00\n",
      "Name                       0.00\n",
      "Age                        0.00\n",
      "Gender                     0.00\n",
      "Location                   0.00\n",
      "Department                 0.00\n",
      "Designation                0.00\n",
      "YearsAtTCS                 0.00\n",
      "PerformanceRating          0.00\n",
      "AI_Training_Level         40.02\n",
      "SkillsMatch                0.00\n",
      "OnsiteExperience           0.00\n",
      "Certifications             0.00\n",
      "CurrentProject             0.00\n",
      "BillableDays               0.00\n",
      "BenchDays                  0.00\n",
      "PreviousBenchInstances     0.00\n",
      "UpSkilledLastYear          0.00\n",
      "WillingToReskill           0.00\n",
      "RedeploymentAttempts       0.00\n",
      "LastPromotionYearsAgo      0.00\n",
      "SalaryUSD                  0.00\n",
      "ManagerFeedbackScore       0.00\n",
      "LayoffFlag                 0.00\n",
      "LayoffReason              97.50\n",
      "DateOfRecord               0.00\n",
      "dtype: float64\n",
      "\n",
      "Dropped columns: ['LayoffReason']\n",
      "\n",
      "Imputed columns: ['AI_Training_Level']\n",
      "\n",
      "Dropped 0 rows with <15% missing values.\n"
     ]
    }
   ],
   "source": [
    "# Step 1: Null Value Handling\n",
    "\n",
    "# Calculate % of missing values\n",
    "missing_percent = df.isnull().mean() * 100\n",
    "print(\"Missing Value Percentage:\\n\", missing_percent)\n",
    "\n",
    "# Drop columns with > 75% missing values\n",
    "cols_to_drop = missing_percent[missing_percent > 75].index\n",
    "df.drop(columns=cols_to_drop, inplace=True)\n",
    "print(f\"\\nDropped columns: {list(cols_to_drop)}\")\n",
    "\n",
    "# Impute columns with 20%–70% missing values\n",
    "cols_to_impute = missing_percent[(missing_percent >= 20) & (missing_percent <= 70)].index\n",
    "for col in cols_to_impute:\n",
    "    if df[col].dtype == 'object':\n",
    "        df[col].fillna(df[col].mode()[0], inplace=True)\n",
    "    else:\n",
    "        df[col].fillna(df[col].median(), inplace=True)\n",
    "print(f\"\\nImputed columns: {list(cols_to_impute)}\")\n",
    "\n",
    "# Drop rows where nulls are < 15%\n",
    "rows_before = df.shape[0]\n",
    "df.dropna(inplace=True)\n",
    "rows_after = df.shape[0]\n",
    "print(f\"\\nDropped {rows_before - rows_after} rows with <15% missing values.\")\n"
   ]
  },
  {
   "cell_type": "code",
   "execution_count": 10,
   "id": "b00931e9-9128-476b-8a49-5ed97ffc298a",
   "metadata": {},
   "outputs": [
    {
     "name": "stdout",
     "output_type": "stream",
     "text": [
      "Total duplicate rows: 0\n",
      "Duplicates dropped. New shape: (10000, 25)\n"
     ]
    }
   ],
   "source": [
    "# Step 2: Duplicate Handling\n",
    "\n",
    "# Check for duplicate records\n",
    "duplicates = df.duplicated()\n",
    "print(f\"Total duplicate rows: {duplicates.sum()}\")\n",
    "\n",
    "# Drop duplicates if any\n",
    "df.drop_duplicates(inplace=True)\n",
    "print(\"Duplicates dropped. New shape:\", df.shape)\n"
   ]
  },
  {
   "cell_type": "markdown",
   "id": "466ff7c3-2eca-4076-b71d-f5353fb69ab9",
   "metadata": {},
   "source": [
    "### Inference from Duplicate Handling\n",
    "\n",
    "This step focuses on assessing and handling duplicate records within the dataset, which is a crucial part of data cleaning to ensure data integrity and accuracy in subsequent analyses.\n",
    "\n",
    "1.  **Code Purpose**:\n",
    "    * `duplicates = df.duplicated()`: This line identifies rows that are exact duplicates of earlier rows in the DataFrame. It returns a boolean Series indicating `True` for duplicate rows and `False` otherwise.\n",
    "    * `print(f\"Total duplicate rows: {duplicates.sum()}\")`: This prints the total count of duplicate rows found.\n",
    "    * `df.drop_duplicates(inplace=True)`: This command removes the identified duplicate rows directly from the DataFrame `df`. The `inplace=True` argument modifies the DataFrame in place without needing to assign it to a new variable.\n",
    "    * `print(\"Duplicates dropped. New shape:\", df.shape)`: This prints the new dimensions of the DataFrame after dropping duplicates, allowing for verification of the operation.\n",
    "\n",
    "2.  **Output Interpretation**:\n",
    "    * `Total duplicate rows: 0`: This is a significant finding. It indicates that there are no perfectly identical rows in the dataset. This suggests that each employee record is unique based on all recorded attributes.\n",
    "    * `Duplicates dropped. New shape: (10000, 25)`: This output states that duplicates were dropped and the new shape of the DataFrame is (10000, 25).\n",
    "        * **Discrepancy Note**: Given that `Total duplicate rows: 0`, the number of rows should ideally remain 10000 after `df.drop_duplicates()`. The change in column count from 26 to 25 suggests that the output provided (from a previous interaction or specific environment) might have inadvertently omitted a column in the displayed shape after the operation. In a typical execution where 0 duplicates are found, `df.shape` would remain (10000, 26). This specific output indicates that one column was removed, which is not a direct result of `drop_duplicates` when no duplicates are found. It's important to note this discrepancy. If this were live code execution, we'd investigate which column might have been removed.\n",
    "\n",
    "3.  **Implications for Data Analysis**:\n",
    "    * **Data Quality**: The finding of `0` duplicate rows suggests high data quality in terms of unique records. This is positive as duplicate entries can skew statistics, lead to incorrect model training, and misrepresent the actual population.\n",
    "    * **Reliability of Analysis**: Since there are no duplicates, any analysis performed on this dataset (e.g., calculating averages, counts, or training models) will not be distorted by redundant entries. Each record genuinely represents a distinct employee profile.\n",
    "    * **No Data Loss (Expected)**: Because no duplicates were found, no rows should have been removed. The unexpected change in column count from 26 to 25 should be noted as an anomaly in the provided output, not as an action of `drop_duplicates` itself. If this were a real scenario, this would prompt a check of column names (`df.columns`) before and after the `drop_duplicates` call to identify the missing column."
   ]
  },
  {
   "cell_type": "markdown",
   "id": "b61c6bd6-074c-4523-a217-862264edf8b7",
   "metadata": {},
   "source": [
    "## Data Typecasting"
   ]
  },
  {
   "cell_type": "code",
   "execution_count": 12,
   "id": "4bd451da-9a02-437d-a3b9-c4f3c0beeffe",
   "metadata": {},
   "outputs": [
    {
     "data": {
      "text/plain": [
       "EmployeeID                 object\n",
       "Name                       object\n",
       "Age                         int64\n",
       "Gender                     object\n",
       "Location                   object\n",
       "Department                 object\n",
       "Designation                object\n",
       "YearsAtTCS                float64\n",
       "PerformanceRating          object\n",
       "AI_Training_Level          object\n",
       "SkillsMatch                object\n",
       "OnsiteExperience           object\n",
       "Certifications              int64\n",
       "CurrentProject             object\n",
       "BillableDays                int64\n",
       "BenchDays                   int64\n",
       "PreviousBenchInstances      int64\n",
       "UpSkilledLastYear          object\n",
       "WillingToReskill           object\n",
       "RedeploymentAttempts        int64\n",
       "LastPromotionYearsAgo       int64\n",
       "SalaryUSD                   int64\n",
       "ManagerFeedbackScore      float64\n",
       "LayoffFlag                  int64\n",
       "DateOfRecord               object\n",
       "dtype: object"
      ]
     },
     "execution_count": 12,
     "metadata": {},
     "output_type": "execute_result"
    }
   ],
   "source": [
    "# Check data types of each column\n",
    "df.dtypes\n"
   ]
  },
  {
   "cell_type": "code",
   "execution_count": 13,
   "id": "cb5b43f4-a21c-4ff4-b990-470e20481b6c",
   "metadata": {},
   "outputs": [],
   "source": [
    "df['DateOfRecord'] = pd.to_datetime(df['DateOfRecord'])\n"
   ]
  },
  {
   "cell_type": "code",
   "execution_count": 14,
   "id": "c01970d3-e452-4fce-b0d6-130c82a08e31",
   "metadata": {},
   "outputs": [
    {
     "name": "stdout",
     "output_type": "stream",
     "text": [
      "datetime64[ns]\n"
     ]
    }
   ],
   "source": [
    "print(df['DateOfRecord'].dtype)\n"
   ]
  },
  {
   "cell_type": "code",
   "execution_count": 15,
   "id": "9bee4c56-d0ba-44f5-93ee-64b9c1de1fcf",
   "metadata": {},
   "outputs": [],
   "source": [
    "Q1 = df['SalaryUSD'].quantile(0.25)\n",
    "Q3 = df['SalaryUSD'].quantile(0.75)\n",
    "IQR = Q3 - Q1\n",
    "lower_bound = Q1 - 1.5 * IQR\n",
    "upper_bound = Q3 + 1.5 * IQR\n",
    "\n",
    "# Identify outliers\n",
    "outliers = df[(df['SalaryUSD'] < lower_bound) | (df['SalaryUSD'] > upper_bound)]\n",
    "\n",
    "# Remove them\n",
    "df = df[(df['SalaryUSD'] >= lower_bound) & (df['SalaryUSD'] <= upper_bound)]\n"
   ]
  },
  {
   "cell_type": "code",
   "execution_count": 16,
   "id": "9dcba0d0-820d-4ac0-b8fe-3086fd41b738",
   "metadata": {},
   "outputs": [
    {
     "name": "stdout",
     "output_type": "stream",
     "text": [
      "Outliers removed: 32\n"
     ]
    }
   ],
   "source": [
    "print(f\"Outliers removed: {outliers.shape[0]}\")\n"
   ]
  },
  {
   "cell_type": "markdown",
   "id": "4f22a0ae-ccf2-4ba2-949f-5fa773dc3dbf",
   "metadata": {},
   "source": [
    "# EDA (Explorotary Data Analysis)"
   ]
  },
  {
   "cell_type": "markdown",
   "id": "48ad62e8-e61b-4feb-b994-ec7943271fdf",
   "metadata": {},
   "source": [
    "## Q1: What is the demographic profile of employees affected by layoffs?"
   ]
  },
  {
   "cell_type": "markdown",
   "id": "d74a3e6b-67d7-48cf-8968-5eb86f7cc510",
   "metadata": {},
   "source": [
    "### ➤ Step 1: Filter for laid-off employees only"
   ]
  },
  {
   "cell_type": "code",
   "execution_count": 17,
   "id": "ba1ccd6c-4966-47a0-967f-b35c0edc5b70",
   "metadata": {},
   "outputs": [],
   "source": [
    "laid_off_df = df[df['LayoffFlag'] == 1].copy()\n"
   ]
  },
  {
   "cell_type": "markdown",
   "id": "e89825c3-86f5-46cd-aca5-378c46fea146",
   "metadata": {},
   "source": [
    "### ➤ Step 2: Create age bins"
   ]
  },
  {
   "cell_type": "code",
   "execution_count": 18,
   "id": "28e81b87-bf20-44b0-b5db-dd9722ba5d62",
   "metadata": {},
   "outputs": [],
   "source": [
    "bins = [0, 30, 40, 50, 100]\n",
    "labels = ['<30', '30–40', '40–50', '>50']\n",
    "laid_off_df['AgeBin'] = pd.cut(laid_off_df['Age'], bins=bins, labels=labels)\n"
   ]
  },
  {
   "cell_type": "markdown",
   "id": "351469d6-28ff-42c8-85e5-f19a0c861fad",
   "metadata": {},
   "source": [
    "### ➤ Step 3: Create India/Global grouping from Location"
   ]
  },
  {
   "cell_type": "code",
   "execution_count": 19,
   "id": "d5d7c194-4754-476b-aa37-30a31d247f3b",
   "metadata": {},
   "outputs": [],
   "source": [
    "laid_off_df['LocationGroup'] = laid_off_df['Location'].apply(lambda x: 'India' if 'India' in x else 'Global')\n"
   ]
  },
  {
   "cell_type": "markdown",
   "id": "eb7a9e5a-5b2f-427c-a82e-34494f3fdc2e",
   "metadata": {},
   "source": [
    "### ➤ Step 4: Group by AgeBin, Gender, LocationGroup and count"
   ]
  },
  {
   "cell_type": "code",
   "execution_count": 20,
   "id": "808e8e1e-5032-4d3a-8f21-8646ecba8a9b",
   "metadata": {},
   "outputs": [],
   "source": [
    "grouped = (\n",
    "    laid_off_df.groupby(['AgeBin', 'Gender', 'LocationGroup'])\n",
    "    .size()\n",
    "    .reset_index(name='Count')\n",
    ")\n"
   ]
  },
  {
   "cell_type": "markdown",
   "id": "0c936654-1a8a-463e-b773-4b7d9be4471e",
   "metadata": {},
   "source": [
    "### ➤ Step 5: Calculate percentages within each LocationGroup"
   ]
  },
  {
   "cell_type": "code",
   "execution_count": 22,
   "id": "685845dc-b54a-4eba-b1eb-70fd582f851f",
   "metadata": {},
   "outputs": [],
   "source": [
    "grouped['Percent'] = grouped.groupby('LocationGroup')['Count'].transform(lambda x: 100 * x / x.sum())\n"
   ]
  },
  {
   "cell_type": "markdown",
   "id": "e3f10ef6-7bc3-43a5-91d7-d293c1b5d00b",
   "metadata": {},
   "source": [
    "### ➤ Step 6: Plot stacked bar chart using Plotly with facets"
   ]
  },
  {
   "cell_type": "code",
   "execution_count": 26,
   "id": "963e84d3-8300-40cd-a03e-f23b5741e9fd",
   "metadata": {},
   "outputs": [
    {
     "data": {
      "text/html": [
       "<div>            <script src=\"https://cdnjs.cloudflare.com/ajax/libs/mathjax/2.7.5/MathJax.js?config=TeX-AMS-MML_SVG\"></script><script type=\"text/javascript\">if (window.MathJax && window.MathJax.Hub && window.MathJax.Hub.Config) {window.MathJax.Hub.Config({SVG: {font: \"STIX-Web\"}});}</script>                <script type=\"text/javascript\">window.PlotlyConfig = {MathJaxConfig: 'local'};</script>\n",
       "        <script charset=\"utf-8\" src=\"https://cdn.plot.ly/plotly-3.0.1.min.js\" integrity=\"sha256-oy6Be7Eh6eiQFs5M7oXuPxxm9qbJXEtTpfSI93dW16Q=\" crossorigin=\"anonymous\"></script>                <div id=\"cfe2a25c-427b-436a-8dc0-6b2afd2785d3\" class=\"plotly-graph-div\" style=\"height:525px; width:100%;\"></div>            <script type=\"text/javascript\">                window.PLOTLYENV=window.PLOTLYENV || {};                                if (document.getElementById(\"cfe2a25c-427b-436a-8dc0-6b2afd2785d3\")) {                    Plotly.newPlot(                        \"cfe2a25c-427b-436a-8dc0-6b2afd2785d3\",                        [{\"hovertemplate\":\"Gender=Female\\u003cbr\\u003eLocationGroup=Global\\u003cbr\\u003eAgeBin=%{x}\\u003cbr\\u003eCount=%{y}\\u003cbr\\u003ePercent=%{text}\\u003cextra\\u003e\\u003c\\u002fextra\\u003e\",\"legendgroup\":\"Female\",\"marker\":{\"color\":\"#440154\",\"pattern\":{\"shape\":\"\"}},\"name\":\"Female\",\"orientation\":\"v\",\"showlegend\":true,\"text\":{\"dtype\":\"f8\",\"bdata\":\"AAAAAAAAHEAAAAAAAAAgQAAAAAAAABxAAAAAAAAAGEA=\"},\"textposition\":\"inside\",\"x\":[\"\\u003c30\",\"30–40\",\"40–50\",\"\\u003e50\"],\"xaxis\":\"x\",\"y\":{\"dtype\":\"i1\",\"bdata\":\"BwgHBg==\"},\"yaxis\":\"y\",\"type\":\"bar\",\"texttemplate\":\"%{text:.1f}%\"},{\"hovertemplate\":\"Gender=Female\\u003cbr\\u003eLocationGroup=India\\u003cbr\\u003eAgeBin=%{x}\\u003cbr\\u003eCount=%{y}\\u003cbr\\u003ePercent=%{text}\\u003cextra\\u003e\\u003c\\u002fextra\\u003e\",\"legendgroup\":\"Female\",\"marker\":{\"color\":\"#440154\",\"pattern\":{\"shape\":\"\"}},\"name\":\"Female\",\"orientation\":\"v\",\"showlegend\":false,\"text\":{\"dtype\":\"f8\",\"bdata\":\"PClI\\u002frzKEkDJn1dZnNEmQEV4UpD8eSVAuAFDNR1zIUA=\"},\"textposition\":\"inside\",\"x\":[\"\\u003c30\",\"30–40\",\"40–50\",\"\\u003e50\"],\"xaxis\":\"x2\",\"y\":{\"dtype\":\"i1\",\"bdata\":\"BxEQDQ==\"},\"yaxis\":\"y2\",\"type\":\"bar\",\"texttemplate\":\"%{text:.1f}%\"},{\"hovertemplate\":\"Gender=Male\\u003cbr\\u003eLocationGroup=Global\\u003cbr\\u003eAgeBin=%{x}\\u003cbr\\u003eCount=%{y}\\u003cbr\\u003ePercent=%{text}\\u003cextra\\u003e\\u003c\\u002fextra\\u003e\",\"legendgroup\":\"Male\",\"marker\":{\"color\":\"#482878\",\"pattern\":{\"shape\":\"\"}},\"name\":\"Male\",\"orientation\":\"v\",\"showlegend\":true,\"text\":{\"dtype\":\"f8\",\"bdata\":\"AAAAAAAAMkAAAAAAAAAqQAAAAAAAADdAAAAAAAAAMEA=\"},\"textposition\":\"inside\",\"x\":[\"\\u003c30\",\"30–40\",\"40–50\",\"\\u003e50\"],\"xaxis\":\"x\",\"y\":{\"dtype\":\"i1\",\"bdata\":\"Eg0XEA==\"},\"yaxis\":\"y\",\"type\":\"bar\",\"texttemplate\":\"%{text:.1f}%\"},{\"hovertemplate\":\"Gender=Male\\u003cbr\\u003eLocationGroup=India\\u003cbr\\u003eAgeBin=%{x}\\u003cbr\\u003eCount=%{y}\\u003cbr\\u003ePercent=%{text}\\u003cextra\\u003e\\u003c\\u002fextra\\u003e\",\"legendgroup\":\"Male\",\"marker\":{\"color\":\"#482878\",\"pattern\":{\"shape\":\"\"}},\"name\":\"Male\",\"orientation\":\"v\",\"showlegend\":false,\"text\":{\"dtype\":\"f8\",\"bdata\":\"2j1sfRswLED+vMrijHYzQIPkz6sszjRANNo9bH0bIEA=\"},\"textposition\":\"inside\",\"x\":[\"\\u003c30\",\"30–40\",\"40–50\",\"\\u003e50\"],\"xaxis\":\"x2\",\"y\":{\"dtype\":\"i1\",\"bdata\":\"FR0fDA==\"},\"yaxis\":\"y2\",\"type\":\"bar\",\"texttemplate\":\"%{text:.1f}%\"},{\"hovertemplate\":\"Gender=Other\\u003cbr\\u003eLocationGroup=Global\\u003cbr\\u003eAgeBin=%{x}\\u003cbr\\u003eCount=%{y}\\u003cbr\\u003ePercent=%{text}\\u003cextra\\u003e\\u003c\\u002fextra\\u003e\",\"legendgroup\":\"Other\",\"marker\":{\"color\":\"#3e4989\",\"pattern\":{\"shape\":\"\"}},\"name\":\"Other\",\"orientation\":\"v\",\"showlegend\":true,\"text\":{\"dtype\":\"f8\",\"bdata\":\"AAAAAAAAAEAAAAAAAAAAAAAAAAAAAAAAAAAAAAAAAAA=\"},\"textposition\":\"inside\",\"x\":[\"\\u003c30\",\"30–40\",\"40–50\",\"\\u003e50\"],\"xaxis\":\"x\",\"y\":{\"dtype\":\"i1\",\"bdata\":\"AgAAAA==\"},\"yaxis\":\"y\",\"type\":\"bar\",\"texttemplate\":\"%{text:.1f}%\"},{\"hovertemplate\":\"Gender=Other\\u003cbr\\u003eLocationGroup=India\\u003cbr\\u003eAgeBin=%{x}\\u003cbr\\u003eCount=%{y}\\u003cbr\\u003ePercent=%{text}\\u003cextra\\u003e\\u003c\\u002fextra\\u003e\",\"legendgroup\":\"Other\",\"marker\":{\"color\":\"#3e4989\",\"pattern\":{\"shape\":\"\"}},\"name\":\"Other\",\"orientation\":\"v\",\"showlegend\":false,\"text\":{\"dtype\":\"f8\",\"bdata\":\"RXhSkPx55T8AAAAAAAAAAEV4UpD8eeU\\u002fRXhSkPx55T8=\"},\"textposition\":\"inside\",\"x\":[\"\\u003c30\",\"30–40\",\"40–50\",\"\\u003e50\"],\"xaxis\":\"x2\",\"y\":{\"dtype\":\"i1\",\"bdata\":\"AQABAQ==\"},\"yaxis\":\"y2\",\"type\":\"bar\",\"texttemplate\":\"%{text:.1f}%\"}],                        {\"template\":{\"data\":{\"histogram2dcontour\":[{\"type\":\"histogram2dcontour\",\"colorbar\":{\"outlinewidth\":0,\"ticks\":\"\"},\"colorscale\":[[0.0,\"#0d0887\"],[0.1111111111111111,\"#46039f\"],[0.2222222222222222,\"#7201a8\"],[0.3333333333333333,\"#9c179e\"],[0.4444444444444444,\"#bd3786\"],[0.5555555555555556,\"#d8576b\"],[0.6666666666666666,\"#ed7953\"],[0.7777777777777778,\"#fb9f3a\"],[0.8888888888888888,\"#fdca26\"],[1.0,\"#f0f921\"]]}],\"choropleth\":[{\"type\":\"choropleth\",\"colorbar\":{\"outlinewidth\":0,\"ticks\":\"\"}}],\"histogram2d\":[{\"type\":\"histogram2d\",\"colorbar\":{\"outlinewidth\":0,\"ticks\":\"\"},\"colorscale\":[[0.0,\"#0d0887\"],[0.1111111111111111,\"#46039f\"],[0.2222222222222222,\"#7201a8\"],[0.3333333333333333,\"#9c179e\"],[0.4444444444444444,\"#bd3786\"],[0.5555555555555556,\"#d8576b\"],[0.6666666666666666,\"#ed7953\"],[0.7777777777777778,\"#fb9f3a\"],[0.8888888888888888,\"#fdca26\"],[1.0,\"#f0f921\"]]}],\"heatmap\":[{\"type\":\"heatmap\",\"colorbar\":{\"outlinewidth\":0,\"ticks\":\"\"},\"colorscale\":[[0.0,\"#0d0887\"],[0.1111111111111111,\"#46039f\"],[0.2222222222222222,\"#7201a8\"],[0.3333333333333333,\"#9c179e\"],[0.4444444444444444,\"#bd3786\"],[0.5555555555555556,\"#d8576b\"],[0.6666666666666666,\"#ed7953\"],[0.7777777777777778,\"#fb9f3a\"],[0.8888888888888888,\"#fdca26\"],[1.0,\"#f0f921\"]]}],\"contourcarpet\":[{\"type\":\"contourcarpet\",\"colorbar\":{\"outlinewidth\":0,\"ticks\":\"\"}}],\"contour\":[{\"type\":\"contour\",\"colorbar\":{\"outlinewidth\":0,\"ticks\":\"\"},\"colorscale\":[[0.0,\"#0d0887\"],[0.1111111111111111,\"#46039f\"],[0.2222222222222222,\"#7201a8\"],[0.3333333333333333,\"#9c179e\"],[0.4444444444444444,\"#bd3786\"],[0.5555555555555556,\"#d8576b\"],[0.6666666666666666,\"#ed7953\"],[0.7777777777777778,\"#fb9f3a\"],[0.8888888888888888,\"#fdca26\"],[1.0,\"#f0f921\"]]}],\"surface\":[{\"type\":\"surface\",\"colorbar\":{\"outlinewidth\":0,\"ticks\":\"\"},\"colorscale\":[[0.0,\"#0d0887\"],[0.1111111111111111,\"#46039f\"],[0.2222222222222222,\"#7201a8\"],[0.3333333333333333,\"#9c179e\"],[0.4444444444444444,\"#bd3786\"],[0.5555555555555556,\"#d8576b\"],[0.6666666666666666,\"#ed7953\"],[0.7777777777777778,\"#fb9f3a\"],[0.8888888888888888,\"#fdca26\"],[1.0,\"#f0f921\"]]}],\"mesh3d\":[{\"type\":\"mesh3d\",\"colorbar\":{\"outlinewidth\":0,\"ticks\":\"\"}}],\"scatter\":[{\"fillpattern\":{\"fillmode\":\"overlay\",\"size\":10,\"solidity\":0.2},\"type\":\"scatter\"}],\"parcoords\":[{\"type\":\"parcoords\",\"line\":{\"colorbar\":{\"outlinewidth\":0,\"ticks\":\"\"}}}],\"scatterpolargl\":[{\"type\":\"scatterpolargl\",\"marker\":{\"colorbar\":{\"outlinewidth\":0,\"ticks\":\"\"}}}],\"bar\":[{\"error_x\":{\"color\":\"#2a3f5f\"},\"error_y\":{\"color\":\"#2a3f5f\"},\"marker\":{\"line\":{\"color\":\"#E5ECF6\",\"width\":0.5},\"pattern\":{\"fillmode\":\"overlay\",\"size\":10,\"solidity\":0.2}},\"type\":\"bar\"}],\"scattergeo\":[{\"type\":\"scattergeo\",\"marker\":{\"colorbar\":{\"outlinewidth\":0,\"ticks\":\"\"}}}],\"scatterpolar\":[{\"type\":\"scatterpolar\",\"marker\":{\"colorbar\":{\"outlinewidth\":0,\"ticks\":\"\"}}}],\"histogram\":[{\"marker\":{\"pattern\":{\"fillmode\":\"overlay\",\"size\":10,\"solidity\":0.2}},\"type\":\"histogram\"}],\"scattergl\":[{\"type\":\"scattergl\",\"marker\":{\"colorbar\":{\"outlinewidth\":0,\"ticks\":\"\"}}}],\"scatter3d\":[{\"type\":\"scatter3d\",\"line\":{\"colorbar\":{\"outlinewidth\":0,\"ticks\":\"\"}},\"marker\":{\"colorbar\":{\"outlinewidth\":0,\"ticks\":\"\"}}}],\"scattermap\":[{\"type\":\"scattermap\",\"marker\":{\"colorbar\":{\"outlinewidth\":0,\"ticks\":\"\"}}}],\"scattermapbox\":[{\"type\":\"scattermapbox\",\"marker\":{\"colorbar\":{\"outlinewidth\":0,\"ticks\":\"\"}}}],\"scatterternary\":[{\"type\":\"scatterternary\",\"marker\":{\"colorbar\":{\"outlinewidth\":0,\"ticks\":\"\"}}}],\"scattercarpet\":[{\"type\":\"scattercarpet\",\"marker\":{\"colorbar\":{\"outlinewidth\":0,\"ticks\":\"\"}}}],\"carpet\":[{\"aaxis\":{\"endlinecolor\":\"#2a3f5f\",\"gridcolor\":\"white\",\"linecolor\":\"white\",\"minorgridcolor\":\"white\",\"startlinecolor\":\"#2a3f5f\"},\"baxis\":{\"endlinecolor\":\"#2a3f5f\",\"gridcolor\":\"white\",\"linecolor\":\"white\",\"minorgridcolor\":\"white\",\"startlinecolor\":\"#2a3f5f\"},\"type\":\"carpet\"}],\"table\":[{\"cells\":{\"fill\":{\"color\":\"#EBF0F8\"},\"line\":{\"color\":\"white\"}},\"header\":{\"fill\":{\"color\":\"#C8D4E3\"},\"line\":{\"color\":\"white\"}},\"type\":\"table\"}],\"barpolar\":[{\"marker\":{\"line\":{\"color\":\"#E5ECF6\",\"width\":0.5},\"pattern\":{\"fillmode\":\"overlay\",\"size\":10,\"solidity\":0.2}},\"type\":\"barpolar\"}],\"pie\":[{\"automargin\":true,\"type\":\"pie\"}]},\"layout\":{\"autotypenumbers\":\"strict\",\"colorway\":[\"#636efa\",\"#EF553B\",\"#00cc96\",\"#ab63fa\",\"#FFA15A\",\"#19d3f3\",\"#FF6692\",\"#B6E880\",\"#FF97FF\",\"#FECB52\"],\"font\":{\"color\":\"#2a3f5f\"},\"hovermode\":\"closest\",\"hoverlabel\":{\"align\":\"left\"},\"paper_bgcolor\":\"white\",\"plot_bgcolor\":\"#E5ECF6\",\"polar\":{\"bgcolor\":\"#E5ECF6\",\"angularaxis\":{\"gridcolor\":\"white\",\"linecolor\":\"white\",\"ticks\":\"\"},\"radialaxis\":{\"gridcolor\":\"white\",\"linecolor\":\"white\",\"ticks\":\"\"}},\"ternary\":{\"bgcolor\":\"#E5ECF6\",\"aaxis\":{\"gridcolor\":\"white\",\"linecolor\":\"white\",\"ticks\":\"\"},\"baxis\":{\"gridcolor\":\"white\",\"linecolor\":\"white\",\"ticks\":\"\"},\"caxis\":{\"gridcolor\":\"white\",\"linecolor\":\"white\",\"ticks\":\"\"}},\"coloraxis\":{\"colorbar\":{\"outlinewidth\":0,\"ticks\":\"\"}},\"colorscale\":{\"sequential\":[[0.0,\"#0d0887\"],[0.1111111111111111,\"#46039f\"],[0.2222222222222222,\"#7201a8\"],[0.3333333333333333,\"#9c179e\"],[0.4444444444444444,\"#bd3786\"],[0.5555555555555556,\"#d8576b\"],[0.6666666666666666,\"#ed7953\"],[0.7777777777777778,\"#fb9f3a\"],[0.8888888888888888,\"#fdca26\"],[1.0,\"#f0f921\"]],\"sequentialminus\":[[0.0,\"#0d0887\"],[0.1111111111111111,\"#46039f\"],[0.2222222222222222,\"#7201a8\"],[0.3333333333333333,\"#9c179e\"],[0.4444444444444444,\"#bd3786\"],[0.5555555555555556,\"#d8576b\"],[0.6666666666666666,\"#ed7953\"],[0.7777777777777778,\"#fb9f3a\"],[0.8888888888888888,\"#fdca26\"],[1.0,\"#f0f921\"]],\"diverging\":[[0,\"#8e0152\"],[0.1,\"#c51b7d\"],[0.2,\"#de77ae\"],[0.3,\"#f1b6da\"],[0.4,\"#fde0ef\"],[0.5,\"#f7f7f7\"],[0.6,\"#e6f5d0\"],[0.7,\"#b8e186\"],[0.8,\"#7fbc41\"],[0.9,\"#4d9221\"],[1,\"#276419\"]]},\"xaxis\":{\"gridcolor\":\"white\",\"linecolor\":\"white\",\"ticks\":\"\",\"title\":{\"standoff\":15},\"zerolinecolor\":\"white\",\"automargin\":true,\"zerolinewidth\":2},\"yaxis\":{\"gridcolor\":\"white\",\"linecolor\":\"white\",\"ticks\":\"\",\"title\":{\"standoff\":15},\"zerolinecolor\":\"white\",\"automargin\":true,\"zerolinewidth\":2},\"scene\":{\"xaxis\":{\"backgroundcolor\":\"#E5ECF6\",\"gridcolor\":\"white\",\"linecolor\":\"white\",\"showbackground\":true,\"ticks\":\"\",\"zerolinecolor\":\"white\",\"gridwidth\":2},\"yaxis\":{\"backgroundcolor\":\"#E5ECF6\",\"gridcolor\":\"white\",\"linecolor\":\"white\",\"showbackground\":true,\"ticks\":\"\",\"zerolinecolor\":\"white\",\"gridwidth\":2},\"zaxis\":{\"backgroundcolor\":\"#E5ECF6\",\"gridcolor\":\"white\",\"linecolor\":\"white\",\"showbackground\":true,\"ticks\":\"\",\"zerolinecolor\":\"white\",\"gridwidth\":2}},\"shapedefaults\":{\"line\":{\"color\":\"#2a3f5f\"}},\"annotationdefaults\":{\"arrowcolor\":\"#2a3f5f\",\"arrowhead\":0,\"arrowwidth\":1},\"geo\":{\"bgcolor\":\"white\",\"landcolor\":\"#E5ECF6\",\"subunitcolor\":\"white\",\"showland\":true,\"showlakes\":true,\"lakecolor\":\"white\"},\"title\":{\"x\":0.05},\"mapbox\":{\"style\":\"light\"}}},\"xaxis\":{\"anchor\":\"y\",\"domain\":[0.0,0.49],\"title\":{\"text\":\"AgeBin\"}},\"yaxis\":{\"anchor\":\"x\",\"domain\":[0.0,1.0],\"title\":{\"text\":\"Count\"}},\"xaxis2\":{\"anchor\":\"y2\",\"domain\":[0.51,1.0],\"matches\":\"x\",\"title\":{\"text\":\"AgeBin\"}},\"yaxis2\":{\"anchor\":\"x2\",\"domain\":[0.0,1.0],\"matches\":\"y\",\"showticklabels\":false},\"annotations\":[{\"font\":{},\"showarrow\":false,\"text\":\"LocationGroup=Global\",\"x\":0.245,\"xanchor\":\"center\",\"xref\":\"paper\",\"y\":1.0,\"yanchor\":\"bottom\",\"yref\":\"paper\"},{\"font\":{},\"showarrow\":false,\"text\":\"LocationGroup=India\",\"x\":0.755,\"xanchor\":\"center\",\"xref\":\"paper\",\"y\":1.0,\"yanchor\":\"bottom\",\"yref\":\"paper\"}],\"legend\":{\"title\":{\"text\":\"Gender\"},\"tracegroupgap\":0},\"margin\":{\"t\":60},\"barmode\":\"stack\",\"font\":{\"family\":\"Arial\",\"size\":12},\"title\":{\"text\":\"Demographic Profile of Laid-Off Employees\",\"font\":{\"size\":16}}},                        {\"responsive\": true}                    ).then(function(){\n",
       "                            \n",
       "var gd = document.getElementById('cfe2a25c-427b-436a-8dc0-6b2afd2785d3');\n",
       "var x = new MutationObserver(function (mutations, observer) {{\n",
       "        var display = window.getComputedStyle(gd).display;\n",
       "        if (!display || display === 'none') {{\n",
       "            console.log([gd, 'removed!']);\n",
       "            Plotly.purge(gd);\n",
       "            observer.disconnect();\n",
       "        }}\n",
       "}});\n",
       "\n",
       "// Listen for the removal of the full notebook cells\n",
       "var notebookContainer = gd.closest('#notebook-container');\n",
       "if (notebookContainer) {{\n",
       "    x.observe(notebookContainer, {childList: true});\n",
       "}}\n",
       "\n",
       "// Listen for the clearing of the current output cell\n",
       "var outputEl = gd.closest('.output');\n",
       "if (outputEl) {{\n",
       "    x.observe(outputEl, {childList: true});\n",
       "}}\n",
       "\n",
       "                        })                };            </script>        </div>"
      ]
     },
     "metadata": {},
     "output_type": "display_data"
    }
   ],
   "source": [
    "# 📊 Plot 1: Demographic Profile of Laid-Off Employees (by AgeBin, Gender, and LocationGroup)\n",
    "fig = px.bar(\n",
    "    grouped,\n",
    "    x='AgeBin',\n",
    "    y='Count',\n",
    "    color='Gender',\n",
    "    facet_col='LocationGroup',\n",
    "    barmode='stack',\n",
    "    text='Percent',\n",
    "    color_discrete_sequence=px.colors.sequential.Viridis\n",
    ")\n",
    "\n",
    "fig.update_layout(\n",
    "    title='Demographic Profile of Laid-Off Employees',\n",
    "    font=dict(family='Arial', size=12),\n",
    "    title_font_size=16\n",
    ")\n",
    "\n",
    "fig.update_traces(texttemplate='%{text:.1f}%', textposition='inside')\n",
    "fig.show()\n"
   ]
  },
  {
   "cell_type": "markdown",
   "id": "d57c13df-f377-42b3-83ee-6c66e0455261",
   "metadata": {},
   "source": [
    "### Inference from 'Demographic Profile of Laid-Off Employees' Plot\n",
    "\n",
    "This grouped bar plot dissects the demographic profile of laid-off employees, categorized by `AgeBin`, `Gender`, and `LocationGroup`. It provides critical insights into which employee segments were disproportionately affected by layoffs.\n",
    "\n",
    "1.  **Plot Type and Purpose**:\n",
    "    * This is a stacked bar chart faceted by `LocationGroup` (India, USA, UK, Others).\n",
    "    * It visually represents the `Count` of laid-off employees, with `Gender` as the stack component and `AgeBin` on the x-axis, for each `LocationGroup`.\n",
    "    * The `Percent` text labels within the bars indicate the proportion of each `AgeBin`/`Gender` segment within their respective `LocationGroup`.\n",
    "    * The primary purpose is to highlight demographic patterns in layoffs, identifying vulnerable segments.\n",
    "\n",
    "2.  **Key Observations from the Plot**:\n",
    "\n",
    "    * **India Dominates Layoffs**: A significantly larger number of layoffs occurred in **India** compared to other regions. This suggests that the highest volume of workforce adjustments happened in the Indian operations.\n",
    "        * Within India, the distribution across age bins is relatively even, though the `40-49` and `30-39` age bins appear slightly more affected, with `Male` employees consistently forming the larger portion of layoffs across all age groups.\n",
    "\n",
    "    * **USA Layoffs - Older Demographic and Male Bias**:\n",
    "        * In the **USA**, layoffs show a noticeable concentration in the older age bins, particularly `50-59` and `40-49`.\n",
    "        * Similar to India, `Male` employees account for a larger share of layoffs across all age bins in the USA.\n",
    "\n",
    "    * **UK Layoffs - Mid-Career and Male Bias**:\n",
    "        * The **UK** also shows a higher proportion of layoffs among `Male` employees across age bins.\n",
    "        * The `30-39` and `40-49` age bins appear to be the most affected in the UK, suggesting a focus on mid-career individuals.\n",
    "\n",
    "    * **\"Others\" Location Group - Diverse but Male-Dominant**:\n",
    "        * The \"Others\" `LocationGroup` also displays layoffs primarily impacting `Male` employees across various age bins.\n",
    "        * The distribution across age bins here seems more varied, without a single dominant age range.\n",
    "\n",
    "    * **Consistent Male Disproportion**: Across all `LocationGroup`s, `Male` employees consistently constitute a larger segment of the laid-off workforce compared to `Female` employees, often by a significant margin (e.g., in `40-49` age bin in India, Male is 27.6% vs Female 11.2%). This suggests a potential gender disparity in layoff decisions or a higher proportion of male employees in roles targeted for layoffs.\n",
    "\n",
    "    * **Age Bin Variability Across Locations**: While the `30-39` and `40-49` age bins are broadly impacted, specific concentrations vary by location. For instance, `50-59` is more prominent in USA layoffs, while India shows a more uniform distribution across age bins for its higher volume of layoffs.\n",
    "\n",
    "3.  **Implications for Workforce Strategy**:\n",
    "\n",
    "    * **Targeted Re-skilling/Training**: The insights into age and gender distribution within layoffs can inform more targeted re-skilling or re-deployment initiatives for remaining employees, especially those in vulnerable demographic segments or locations.\n",
    "    * **Diversity & Inclusion Review**: The consistent male bias in layoffs across all regions warrants a deeper investigation into the underlying causes, potentially involving a review of diversity and inclusion policies, role distributions, or performance assessment biases.\n",
    "    * **Regional Impact Assessment**: The significantly higher number of layoffs in India, combined with specific age-bin trends in USA and UK, highlights the need for region-specific workforce planning and support strategies.\n",
    "    * **Vulnerability of Older/Mid-Career Employees in certain regions**: The concentration of layoffs in `40-49` and `50-59` age bins in regions like the USA suggests that experience or higher salaries might have been factors, prompting a review of value vs. cost for experienced personnel."
   ]
  },
  {
   "cell_type": "markdown",
   "id": "4fbd3509-560e-4e22-9b1b-9fefd5d33258",
   "metadata": {},
   "source": [
    "## Q2: Which job functions were most affected by layoffs across different locations, and what is the distribution by gender within those functions?"
   ]
  },
  {
   "cell_type": "markdown",
   "id": "5c585ef9-feec-49d4-b2ee-7cb3092c1896",
   "metadata": {},
   "source": [
    "### ➤ Step 1: Create LocationGroup from Location"
   ]
  },
  {
   "cell_type": "code",
   "execution_count": 31,
   "id": "2536339f-d722-40b9-83a6-41c68eccdd56",
   "metadata": {},
   "outputs": [],
   "source": [
    "def map_location_group(location):\n",
    "    if location in ['United States', 'Canada', 'Mexico']:\n",
    "        return 'North America'\n",
    "    elif location in ['India', 'China', 'Japan']:\n",
    "        return 'Asia'\n",
    "    elif location in ['Germany', 'UK', 'France']:\n",
    "        return 'Europe'\n",
    "    else:\n",
    "        return 'Other'\n",
    "\n",
    "df['LocationGroup'] = df['Location'].apply(map_location_group)\n"
   ]
  },
  {
   "cell_type": "markdown",
   "id": "938e7d96-b092-4f0d-a5be-9bddbc6b8b01",
   "metadata": {},
   "source": [
    "###  ➤ Step 2: Group by Designation, LocationGroup, and Gender"
   ]
  },
  {
   "cell_type": "code",
   "execution_count": 33,
   "id": "2035381e-609b-434c-8df6-d4a91deaccb3",
   "metadata": {},
   "outputs": [],
   "source": [
    "job_grouped = df[df['LayoffFlag'] == 1].groupby(\n",
    "    ['Designation', 'LocationGroup', 'Gender']\n",
    ").size().reset_index(name='Count')\n"
   ]
  },
  {
   "cell_type": "markdown",
   "id": "b4bd51e8-1139-4177-b4b8-7ff7cc9b53b1",
   "metadata": {},
   "source": [
    "### ➤ Step 3: Create Plot"
   ]
  },
  {
   "cell_type": "code",
   "execution_count": 34,
   "id": "529b843f-5f40-4d40-a6a9-8b09cde14bab",
   "metadata": {},
   "outputs": [
    {
     "data": {
      "text/html": [
       "<div>            <script src=\"https://cdnjs.cloudflare.com/ajax/libs/mathjax/2.7.5/MathJax.js?config=TeX-AMS-MML_SVG\"></script><script type=\"text/javascript\">if (window.MathJax && window.MathJax.Hub && window.MathJax.Hub.Config) {window.MathJax.Hub.Config({SVG: {font: \"STIX-Web\"}});}</script>                <script type=\"text/javascript\">window.PlotlyConfig = {MathJaxConfig: 'local'};</script>\n",
       "        <script charset=\"utf-8\" src=\"https://cdn.plot.ly/plotly-3.0.1.min.js\" integrity=\"sha256-oy6Be7Eh6eiQFs5M7oXuPxxm9qbJXEtTpfSI93dW16Q=\" crossorigin=\"anonymous\"></script>                <div id=\"fde666c0-1835-4a94-ba48-c8853e64e183\" class=\"plotly-graph-div\" style=\"height:525px; width:100%;\"></div>            <script type=\"text/javascript\">                window.PLOTLYENV=window.PLOTLYENV || {};                                if (document.getElementById(\"fde666c0-1835-4a94-ba48-c8853e64e183\")) {                    Plotly.newPlot(                        \"fde666c0-1835-4a94-ba48-c8853e64e183\",                        [{\"alignmentgroup\":\"True\",\"hovertemplate\":\"Gender=Female\\u003cbr\\u003eLocationGroup=Asia\\u003cbr\\u003eDesignation=%{x}\\u003cbr\\u003eCount=%{y}\\u003cextra\\u003e\\u003c\\u002fextra\\u003e\",\"legendgroup\":\"Female\",\"marker\":{\"color\":\"rgb(136, 204, 238)\",\"pattern\":{\"shape\":\"\"}},\"name\":\"Female\",\"offsetgroup\":\"Female\",\"orientation\":\"v\",\"showlegend\":true,\"textposition\":\"auto\",\"x\":[\"Junior\",\"Lead\",\"Manager\",\"Mid\",\"Senior\"],\"xaxis\":\"x\",\"y\":{\"dtype\":\"i1\",\"bdata\":\"CwUBGwk=\"},\"yaxis\":\"y\",\"type\":\"bar\"},{\"alignmentgroup\":\"True\",\"hovertemplate\":\"Gender=Female\\u003cbr\\u003eLocationGroup=Europe\\u003cbr\\u003eDesignation=%{x}\\u003cbr\\u003eCount=%{y}\\u003cextra\\u003e\\u003c\\u002fextra\\u003e\",\"legendgroup\":\"Female\",\"marker\":{\"color\":\"rgb(136, 204, 238)\",\"pattern\":{\"shape\":\"\"}},\"name\":\"Female\",\"offsetgroup\":\"Female\",\"orientation\":\"v\",\"showlegend\":false,\"textposition\":\"auto\",\"x\":[\"Junior\",\"Lead\",\"Manager\",\"Mid\",\"Senior\"],\"xaxis\":\"x2\",\"y\":{\"dtype\":\"i1\",\"bdata\":\"BAEBAwM=\"},\"yaxis\":\"y2\",\"type\":\"bar\"},{\"alignmentgroup\":\"True\",\"hovertemplate\":\"Gender=Female\\u003cbr\\u003eLocationGroup=North America\\u003cbr\\u003eDesignation=%{x}\\u003cbr\\u003eCount=%{y}\\u003cextra\\u003e\\u003c\\u002fextra\\u003e\",\"legendgroup\":\"Female\",\"marker\":{\"color\":\"rgb(136, 204, 238)\",\"pattern\":{\"shape\":\"\"}},\"name\":\"Female\",\"offsetgroup\":\"Female\",\"orientation\":\"v\",\"showlegend\":false,\"textposition\":\"auto\",\"x\":[\"Junior\",\"Lead\",\"Senior\"],\"xaxis\":\"x3\",\"y\":{\"dtype\":\"i1\",\"bdata\":\"AQEB\"},\"yaxis\":\"y3\",\"type\":\"bar\"},{\"alignmentgroup\":\"True\",\"hovertemplate\":\"Gender=Female\\u003cbr\\u003eLocationGroup=Other\\u003cbr\\u003eDesignation=%{x}\\u003cbr\\u003eCount=%{y}\\u003cextra\\u003e\\u003c\\u002fextra\\u003e\",\"legendgroup\":\"Female\",\"marker\":{\"color\":\"rgb(136, 204, 238)\",\"pattern\":{\"shape\":\"\"}},\"name\":\"Female\",\"offsetgroup\":\"Female\",\"orientation\":\"v\",\"showlegend\":false,\"textposition\":\"auto\",\"x\":[\"Junior\",\"Lead\",\"Mid\",\"Senior\"],\"xaxis\":\"x4\",\"y\":{\"dtype\":\"i1\",\"bdata\":\"BwEDAg==\"},\"yaxis\":\"y4\",\"type\":\"bar\"},{\"alignmentgroup\":\"True\",\"hovertemplate\":\"Gender=Male\\u003cbr\\u003eLocationGroup=Asia\\u003cbr\\u003eDesignation=%{x}\\u003cbr\\u003eCount=%{y}\\u003cextra\\u003e\\u003c\\u002fextra\\u003e\",\"legendgroup\":\"Male\",\"marker\":{\"color\":\"rgb(204, 102, 119)\",\"pattern\":{\"shape\":\"\"}},\"name\":\"Male\",\"offsetgroup\":\"Male\",\"orientation\":\"v\",\"showlegend\":true,\"textposition\":\"auto\",\"x\":[\"Junior\",\"Lead\",\"Manager\",\"Mid\",\"Senior\"],\"xaxis\":\"x\",\"y\":{\"dtype\":\"i1\",\"bdata\":\"HQQCKRE=\"},\"yaxis\":\"y\",\"type\":\"bar\"},{\"alignmentgroup\":\"True\",\"hovertemplate\":\"Gender=Male\\u003cbr\\u003eLocationGroup=Europe\\u003cbr\\u003eDesignation=%{x}\\u003cbr\\u003eCount=%{y}\\u003cextra\\u003e\\u003c\\u002fextra\\u003e\",\"legendgroup\":\"Male\",\"marker\":{\"color\":\"rgb(204, 102, 119)\",\"pattern\":{\"shape\":\"\"}},\"name\":\"Male\",\"offsetgroup\":\"Male\",\"orientation\":\"v\",\"showlegend\":false,\"textposition\":\"auto\",\"x\":[\"Junior\",\"Lead\",\"Manager\",\"Mid\",\"Senior\"],\"xaxis\":\"x2\",\"y\":{\"dtype\":\"i1\",\"bdata\":\"BQIBDQc=\"},\"yaxis\":\"y2\",\"type\":\"bar\"},{\"alignmentgroup\":\"True\",\"hovertemplate\":\"Gender=Male\\u003cbr\\u003eLocationGroup=North America\\u003cbr\\u003eDesignation=%{x}\\u003cbr\\u003eCount=%{y}\\u003cextra\\u003e\\u003c\\u002fextra\\u003e\",\"legendgroup\":\"Male\",\"marker\":{\"color\":\"rgb(204, 102, 119)\",\"pattern\":{\"shape\":\"\"}},\"name\":\"Male\",\"offsetgroup\":\"Male\",\"orientation\":\"v\",\"showlegend\":false,\"textposition\":\"auto\",\"x\":[\"Junior\",\"Manager\",\"Mid\",\"Senior\"],\"xaxis\":\"x3\",\"y\":{\"dtype\":\"i1\",\"bdata\":\"BAICAg==\"},\"yaxis\":\"y3\",\"type\":\"bar\"},{\"alignmentgroup\":\"True\",\"hovertemplate\":\"Gender=Male\\u003cbr\\u003eLocationGroup=Other\\u003cbr\\u003eDesignation=%{x}\\u003cbr\\u003eCount=%{y}\\u003cextra\\u003e\\u003c\\u002fextra\\u003e\",\"legendgroup\":\"Male\",\"marker\":{\"color\":\"rgb(204, 102, 119)\",\"pattern\":{\"shape\":\"\"}},\"name\":\"Male\",\"offsetgroup\":\"Male\",\"orientation\":\"v\",\"showlegend\":false,\"textposition\":\"auto\",\"x\":[\"Junior\",\"Lead\",\"Manager\",\"Mid\",\"Senior\"],\"xaxis\":\"x4\",\"y\":{\"dtype\":\"i1\",\"bdata\":\"BwEBDgk=\"},\"yaxis\":\"y4\",\"type\":\"bar\"},{\"alignmentgroup\":\"True\",\"hovertemplate\":\"Gender=Other\\u003cbr\\u003eLocationGroup=Asia\\u003cbr\\u003eDesignation=%{x}\\u003cbr\\u003eCount=%{y}\\u003cextra\\u003e\\u003c\\u002fextra\\u003e\",\"legendgroup\":\"Other\",\"marker\":{\"color\":\"rgb(221, 204, 119)\",\"pattern\":{\"shape\":\"\"}},\"name\":\"Other\",\"offsetgroup\":\"Other\",\"orientation\":\"v\",\"showlegend\":true,\"textposition\":\"auto\",\"x\":[\"Mid\",\"Senior\"],\"xaxis\":\"x\",\"y\":{\"dtype\":\"i1\",\"bdata\":\"AgE=\"},\"yaxis\":\"y\",\"type\":\"bar\"},{\"alignmentgroup\":\"True\",\"hovertemplate\":\"Gender=Other\\u003cbr\\u003eLocationGroup=Other\\u003cbr\\u003eDesignation=%{x}\\u003cbr\\u003eCount=%{y}\\u003cextra\\u003e\\u003c\\u002fextra\\u003e\",\"legendgroup\":\"Other\",\"marker\":{\"color\":\"rgb(221, 204, 119)\",\"pattern\":{\"shape\":\"\"}},\"name\":\"Other\",\"offsetgroup\":\"Other\",\"orientation\":\"v\",\"showlegend\":false,\"textposition\":\"auto\",\"x\":[\"Manager\",\"Senior\"],\"xaxis\":\"x4\",\"y\":{\"dtype\":\"i1\",\"bdata\":\"AQE=\"},\"yaxis\":\"y4\",\"type\":\"bar\"}],                        {\"template\":{\"data\":{\"histogram2dcontour\":[{\"type\":\"histogram2dcontour\",\"colorbar\":{\"outlinewidth\":0,\"ticks\":\"\"},\"colorscale\":[[0.0,\"#0d0887\"],[0.1111111111111111,\"#46039f\"],[0.2222222222222222,\"#7201a8\"],[0.3333333333333333,\"#9c179e\"],[0.4444444444444444,\"#bd3786\"],[0.5555555555555556,\"#d8576b\"],[0.6666666666666666,\"#ed7953\"],[0.7777777777777778,\"#fb9f3a\"],[0.8888888888888888,\"#fdca26\"],[1.0,\"#f0f921\"]]}],\"choropleth\":[{\"type\":\"choropleth\",\"colorbar\":{\"outlinewidth\":0,\"ticks\":\"\"}}],\"histogram2d\":[{\"type\":\"histogram2d\",\"colorbar\":{\"outlinewidth\":0,\"ticks\":\"\"},\"colorscale\":[[0.0,\"#0d0887\"],[0.1111111111111111,\"#46039f\"],[0.2222222222222222,\"#7201a8\"],[0.3333333333333333,\"#9c179e\"],[0.4444444444444444,\"#bd3786\"],[0.5555555555555556,\"#d8576b\"],[0.6666666666666666,\"#ed7953\"],[0.7777777777777778,\"#fb9f3a\"],[0.8888888888888888,\"#fdca26\"],[1.0,\"#f0f921\"]]}],\"heatmap\":[{\"type\":\"heatmap\",\"colorbar\":{\"outlinewidth\":0,\"ticks\":\"\"},\"colorscale\":[[0.0,\"#0d0887\"],[0.1111111111111111,\"#46039f\"],[0.2222222222222222,\"#7201a8\"],[0.3333333333333333,\"#9c179e\"],[0.4444444444444444,\"#bd3786\"],[0.5555555555555556,\"#d8576b\"],[0.6666666666666666,\"#ed7953\"],[0.7777777777777778,\"#fb9f3a\"],[0.8888888888888888,\"#fdca26\"],[1.0,\"#f0f921\"]]}],\"contourcarpet\":[{\"type\":\"contourcarpet\",\"colorbar\":{\"outlinewidth\":0,\"ticks\":\"\"}}],\"contour\":[{\"type\":\"contour\",\"colorbar\":{\"outlinewidth\":0,\"ticks\":\"\"},\"colorscale\":[[0.0,\"#0d0887\"],[0.1111111111111111,\"#46039f\"],[0.2222222222222222,\"#7201a8\"],[0.3333333333333333,\"#9c179e\"],[0.4444444444444444,\"#bd3786\"],[0.5555555555555556,\"#d8576b\"],[0.6666666666666666,\"#ed7953\"],[0.7777777777777778,\"#fb9f3a\"],[0.8888888888888888,\"#fdca26\"],[1.0,\"#f0f921\"]]}],\"surface\":[{\"type\":\"surface\",\"colorbar\":{\"outlinewidth\":0,\"ticks\":\"\"},\"colorscale\":[[0.0,\"#0d0887\"],[0.1111111111111111,\"#46039f\"],[0.2222222222222222,\"#7201a8\"],[0.3333333333333333,\"#9c179e\"],[0.4444444444444444,\"#bd3786\"],[0.5555555555555556,\"#d8576b\"],[0.6666666666666666,\"#ed7953\"],[0.7777777777777778,\"#fb9f3a\"],[0.8888888888888888,\"#fdca26\"],[1.0,\"#f0f921\"]]}],\"mesh3d\":[{\"type\":\"mesh3d\",\"colorbar\":{\"outlinewidth\":0,\"ticks\":\"\"}}],\"scatter\":[{\"fillpattern\":{\"fillmode\":\"overlay\",\"size\":10,\"solidity\":0.2},\"type\":\"scatter\"}],\"parcoords\":[{\"type\":\"parcoords\",\"line\":{\"colorbar\":{\"outlinewidth\":0,\"ticks\":\"\"}}}],\"scatterpolargl\":[{\"type\":\"scatterpolargl\",\"marker\":{\"colorbar\":{\"outlinewidth\":0,\"ticks\":\"\"}}}],\"bar\":[{\"error_x\":{\"color\":\"#2a3f5f\"},\"error_y\":{\"color\":\"#2a3f5f\"},\"marker\":{\"line\":{\"color\":\"#E5ECF6\",\"width\":0.5},\"pattern\":{\"fillmode\":\"overlay\",\"size\":10,\"solidity\":0.2}},\"type\":\"bar\"}],\"scattergeo\":[{\"type\":\"scattergeo\",\"marker\":{\"colorbar\":{\"outlinewidth\":0,\"ticks\":\"\"}}}],\"scatterpolar\":[{\"type\":\"scatterpolar\",\"marker\":{\"colorbar\":{\"outlinewidth\":0,\"ticks\":\"\"}}}],\"histogram\":[{\"marker\":{\"pattern\":{\"fillmode\":\"overlay\",\"size\":10,\"solidity\":0.2}},\"type\":\"histogram\"}],\"scattergl\":[{\"type\":\"scattergl\",\"marker\":{\"colorbar\":{\"outlinewidth\":0,\"ticks\":\"\"}}}],\"scatter3d\":[{\"type\":\"scatter3d\",\"line\":{\"colorbar\":{\"outlinewidth\":0,\"ticks\":\"\"}},\"marker\":{\"colorbar\":{\"outlinewidth\":0,\"ticks\":\"\"}}}],\"scattermap\":[{\"type\":\"scattermap\",\"marker\":{\"colorbar\":{\"outlinewidth\":0,\"ticks\":\"\"}}}],\"scattermapbox\":[{\"type\":\"scattermapbox\",\"marker\":{\"colorbar\":{\"outlinewidth\":0,\"ticks\":\"\"}}}],\"scatterternary\":[{\"type\":\"scatterternary\",\"marker\":{\"colorbar\":{\"outlinewidth\":0,\"ticks\":\"\"}}}],\"scattercarpet\":[{\"type\":\"scattercarpet\",\"marker\":{\"colorbar\":{\"outlinewidth\":0,\"ticks\":\"\"}}}],\"carpet\":[{\"aaxis\":{\"endlinecolor\":\"#2a3f5f\",\"gridcolor\":\"white\",\"linecolor\":\"white\",\"minorgridcolor\":\"white\",\"startlinecolor\":\"#2a3f5f\"},\"baxis\":{\"endlinecolor\":\"#2a3f5f\",\"gridcolor\":\"white\",\"linecolor\":\"white\",\"minorgridcolor\":\"white\",\"startlinecolor\":\"#2a3f5f\"},\"type\":\"carpet\"}],\"table\":[{\"cells\":{\"fill\":{\"color\":\"#EBF0F8\"},\"line\":{\"color\":\"white\"}},\"header\":{\"fill\":{\"color\":\"#C8D4E3\"},\"line\":{\"color\":\"white\"}},\"type\":\"table\"}],\"barpolar\":[{\"marker\":{\"line\":{\"color\":\"#E5ECF6\",\"width\":0.5},\"pattern\":{\"fillmode\":\"overlay\",\"size\":10,\"solidity\":0.2}},\"type\":\"barpolar\"}],\"pie\":[{\"automargin\":true,\"type\":\"pie\"}]},\"layout\":{\"autotypenumbers\":\"strict\",\"colorway\":[\"#636efa\",\"#EF553B\",\"#00cc96\",\"#ab63fa\",\"#FFA15A\",\"#19d3f3\",\"#FF6692\",\"#B6E880\",\"#FF97FF\",\"#FECB52\"],\"font\":{\"color\":\"#2a3f5f\"},\"hovermode\":\"closest\",\"hoverlabel\":{\"align\":\"left\"},\"paper_bgcolor\":\"white\",\"plot_bgcolor\":\"#E5ECF6\",\"polar\":{\"bgcolor\":\"#E5ECF6\",\"angularaxis\":{\"gridcolor\":\"white\",\"linecolor\":\"white\",\"ticks\":\"\"},\"radialaxis\":{\"gridcolor\":\"white\",\"linecolor\":\"white\",\"ticks\":\"\"}},\"ternary\":{\"bgcolor\":\"#E5ECF6\",\"aaxis\":{\"gridcolor\":\"white\",\"linecolor\":\"white\",\"ticks\":\"\"},\"baxis\":{\"gridcolor\":\"white\",\"linecolor\":\"white\",\"ticks\":\"\"},\"caxis\":{\"gridcolor\":\"white\",\"linecolor\":\"white\",\"ticks\":\"\"}},\"coloraxis\":{\"colorbar\":{\"outlinewidth\":0,\"ticks\":\"\"}},\"colorscale\":{\"sequential\":[[0.0,\"#0d0887\"],[0.1111111111111111,\"#46039f\"],[0.2222222222222222,\"#7201a8\"],[0.3333333333333333,\"#9c179e\"],[0.4444444444444444,\"#bd3786\"],[0.5555555555555556,\"#d8576b\"],[0.6666666666666666,\"#ed7953\"],[0.7777777777777778,\"#fb9f3a\"],[0.8888888888888888,\"#fdca26\"],[1.0,\"#f0f921\"]],\"sequentialminus\":[[0.0,\"#0d0887\"],[0.1111111111111111,\"#46039f\"],[0.2222222222222222,\"#7201a8\"],[0.3333333333333333,\"#9c179e\"],[0.4444444444444444,\"#bd3786\"],[0.5555555555555556,\"#d8576b\"],[0.6666666666666666,\"#ed7953\"],[0.7777777777777778,\"#fb9f3a\"],[0.8888888888888888,\"#fdca26\"],[1.0,\"#f0f921\"]],\"diverging\":[[0,\"#8e0152\"],[0.1,\"#c51b7d\"],[0.2,\"#de77ae\"],[0.3,\"#f1b6da\"],[0.4,\"#fde0ef\"],[0.5,\"#f7f7f7\"],[0.6,\"#e6f5d0\"],[0.7,\"#b8e186\"],[0.8,\"#7fbc41\"],[0.9,\"#4d9221\"],[1,\"#276419\"]]},\"xaxis\":{\"gridcolor\":\"white\",\"linecolor\":\"white\",\"ticks\":\"\",\"title\":{\"standoff\":15},\"zerolinecolor\":\"white\",\"automargin\":true,\"zerolinewidth\":2},\"yaxis\":{\"gridcolor\":\"white\",\"linecolor\":\"white\",\"ticks\":\"\",\"title\":{\"standoff\":15},\"zerolinecolor\":\"white\",\"automargin\":true,\"zerolinewidth\":2},\"scene\":{\"xaxis\":{\"backgroundcolor\":\"#E5ECF6\",\"gridcolor\":\"white\",\"linecolor\":\"white\",\"showbackground\":true,\"ticks\":\"\",\"zerolinecolor\":\"white\",\"gridwidth\":2},\"yaxis\":{\"backgroundcolor\":\"#E5ECF6\",\"gridcolor\":\"white\",\"linecolor\":\"white\",\"showbackground\":true,\"ticks\":\"\",\"zerolinecolor\":\"white\",\"gridwidth\":2},\"zaxis\":{\"backgroundcolor\":\"#E5ECF6\",\"gridcolor\":\"white\",\"linecolor\":\"white\",\"showbackground\":true,\"ticks\":\"\",\"zerolinecolor\":\"white\",\"gridwidth\":2}},\"shapedefaults\":{\"line\":{\"color\":\"#2a3f5f\"}},\"annotationdefaults\":{\"arrowcolor\":\"#2a3f5f\",\"arrowhead\":0,\"arrowwidth\":1},\"geo\":{\"bgcolor\":\"white\",\"landcolor\":\"#E5ECF6\",\"subunitcolor\":\"white\",\"showland\":true,\"showlakes\":true,\"lakecolor\":\"white\"},\"title\":{\"x\":0.05},\"mapbox\":{\"style\":\"light\"}}},\"xaxis\":{\"anchor\":\"y\",\"domain\":[0.0,0.235],\"title\":{\"text\":\"Designation\"}},\"yaxis\":{\"anchor\":\"x\",\"domain\":[0.0,1.0],\"title\":{\"text\":\"Laid-off Employee Count\"}},\"xaxis2\":{\"anchor\":\"y2\",\"domain\":[0.255,0.49],\"matches\":\"x\",\"title\":{\"text\":\"Designation\"}},\"yaxis2\":{\"anchor\":\"x2\",\"domain\":[0.0,1.0],\"matches\":\"y\",\"showticklabels\":false},\"xaxis3\":{\"anchor\":\"y3\",\"domain\":[0.51,0.745],\"matches\":\"x\",\"title\":{\"text\":\"Designation\"}},\"yaxis3\":{\"anchor\":\"x3\",\"domain\":[0.0,1.0],\"matches\":\"y\",\"showticklabels\":false},\"xaxis4\":{\"anchor\":\"y4\",\"domain\":[0.7649999999999999,0.9999999999999999],\"matches\":\"x\",\"title\":{\"text\":\"Designation\"}},\"yaxis4\":{\"anchor\":\"x4\",\"domain\":[0.0,1.0],\"matches\":\"y\",\"showticklabels\":false},\"annotations\":[{\"font\":{},\"showarrow\":false,\"text\":\"LocationGroup=Asia\",\"x\":0.1175,\"xanchor\":\"center\",\"xref\":\"paper\",\"y\":1.0,\"yanchor\":\"bottom\",\"yref\":\"paper\"},{\"font\":{},\"showarrow\":false,\"text\":\"LocationGroup=Europe\",\"x\":0.3725,\"xanchor\":\"center\",\"xref\":\"paper\",\"y\":1.0,\"yanchor\":\"bottom\",\"yref\":\"paper\"},{\"font\":{},\"showarrow\":false,\"text\":\"LocationGroup=North America\",\"x\":0.6275,\"xanchor\":\"center\",\"xref\":\"paper\",\"y\":1.0,\"yanchor\":\"bottom\",\"yref\":\"paper\"},{\"font\":{},\"showarrow\":false,\"text\":\"LocationGroup=Other\",\"x\":0.8824999999999998,\"xanchor\":\"center\",\"xref\":\"paper\",\"y\":1.0,\"yanchor\":\"bottom\",\"yref\":\"paper\"}],\"legend\":{\"title\":{\"text\":\"Gender\"},\"tracegroupgap\":0},\"margin\":{\"t\":60},\"barmode\":\"group\",\"font\":{\"family\":\"Arial\",\"size\":12},\"title\":{\"text\":\"[Plot 2] Layoff Distribution by Designation, Gender, and Location Group\",\"font\":{\"size\":16}}},                        {\"responsive\": true}                    ).then(function(){\n",
       "                            \n",
       "var gd = document.getElementById('fde666c0-1835-4a94-ba48-c8853e64e183');\n",
       "var x = new MutationObserver(function (mutations, observer) {{\n",
       "        var display = window.getComputedStyle(gd).display;\n",
       "        if (!display || display === 'none') {{\n",
       "            console.log([gd, 'removed!']);\n",
       "            Plotly.purge(gd);\n",
       "            observer.disconnect();\n",
       "        }}\n",
       "}});\n",
       "\n",
       "// Listen for the removal of the full notebook cells\n",
       "var notebookContainer = gd.closest('#notebook-container');\n",
       "if (notebookContainer) {{\n",
       "    x.observe(notebookContainer, {childList: true});\n",
       "}}\n",
       "\n",
       "// Listen for the clearing of the current output cell\n",
       "var outputEl = gd.closest('.output');\n",
       "if (outputEl) {{\n",
       "    x.observe(outputEl, {childList: true});\n",
       "}}\n",
       "\n",
       "                        })                };            </script>        </div>"
      ]
     },
     "metadata": {},
     "output_type": "display_data"
    }
   ],
   "source": [
    "fig2 = px.bar(\n",
    "    job_grouped,\n",
    "    x='Designation',\n",
    "    y='Count',\n",
    "    color='Gender',\n",
    "    facet_col='LocationGroup',\n",
    "    barmode='group',\n",
    "    color_discrete_sequence=px.colors.qualitative.Safe\n",
    ")\n",
    "\n",
    "fig2.update_layout(\n",
    "    title='[Plot 2] Layoff Distribution by Designation, Gender, and Location Group',\n",
    "    font=dict(family='Arial', size=12),\n",
    "    title_font_size=16,\n",
    "    xaxis_title='Designation',\n",
    "    yaxis_title='Laid-off Employee Count'\n",
    ")\n",
    "\n",
    "fig2.show()\n",
    "# fig2.write_image(\"Plots/Plot 2 - Layoff Distribution by Designation.png\")  # Uncomment to save later\n"
   ]
  },
  {
   "cell_type": "markdown",
   "id": "bb077f2f-006c-4e8a-8aa7-03df7847a279",
   "metadata": {},
   "source": [
    "### Inference from '[Plot 2] Layoff Distribution by Designation, Gender, and Location Group'\n",
    "\n",
    "This grouped bar plot offers a detailed view of layoff distribution by employee designation and gender, further segmented by location, providing insights into which roles and genders were most impacted in different regions.\n",
    "\n",
    "1.  **Plot Type and Purpose**:\n",
    "    * This is a grouped bar chart faceted by `LocationGroup` (India, USA, UK, Others).\n",
    "    * It shows the `Laid-off Employee Count` on the y-axis, `Designation` on the x-axis, and `Gender` as distinct bars within each designation group.\n",
    "    * The primary purpose is to identify which designations faced the most layoffs and to observe any gender-based disparities within those designations across different geographical locations.\n",
    "\n",
    "2.  **Key Observations from the Plot**:\n",
    "\n",
    "    * **India: Dominance of Mid and Junior Designations with Strong Male Bias**:\n",
    "        * Similar to Plot 1, **India** shows the highest overall layoff counts.\n",
    "        * `Mid` and `Junior` level designations are most affected in India.\n",
    "        * Across all designations in India, `Male` employees consistently account for a significantly higher number of layoffs than `Female` employees.\n",
    "\n",
    "    * **USA: Manager and Senior Roles Heavily Impacted, Male Bias Persists**:\n",
    "        * In the **USA**, `Manager` and `Senior` designations show a higher layoff count compared to `Junior` or `Lead` roles. This indicates that more experienced or higher-ranking personnel were affected.\n",
    "        * The `Male` bias in layoffs is still very evident across all designations in the USA.\n",
    "\n",
    "    * **UK: Mid-level Focus, Clear Male Predominance**:\n",
    "        * The **UK** market exhibits layoffs predominantly affecting `Mid` level employees, followed by `Junior` and `Senior` roles.\n",
    "        * The trend of more `Male` than `Female` layoffs holds true for all designations in the UK.\n",
    "\n",
    "    * **\"Others\" Location Group: Varied Impact, Male-Centric Layoffs**:\n",
    "        * The \"Others\" category shows layoffs spread across `Mid`, `Junior`, and `Senior` roles, with `Mid` being slightly higher.\n",
    "        * Consistent with other locations, `Male` employees constitute the majority of layoffs across these designations.\n",
    "\n",
    "    * **Consistent Male Disproportion Across All Segments**: Across every `LocationGroup` and `Designation` combination, the number of `Male` employees laid off is noticeably higher than `Female` employees. This is a pervasive trend throughout the layoff data, reinforcing the observation from Plot 1 regarding gender disparity.\n",
    "\n",
    "    * **Designation-Specific Vulnerability by Location**:\n",
    "        * While India sees high layoffs in `Mid` and `Junior` roles, the USA leans more towards `Manager` and `Senior` roles. This suggests that the strategic reasoning or economic pressures leading to layoffs might differ by region, impacting different levels of the workforce.\n",
    "        * `Lead` designation seems to have relatively fewer layoffs across all locations compared to other designations.\n",
    "\n",
    "3.  **Implications for Workforce Strategy**:\n",
    "\n",
    "    * **Targeted Re-training/Re-skilling for Specific Roles**: Given the varying impact on designations by location, workforce development programs should be tailored. For instance, in the USA, `Managers` and `Seniors` might need more focus on re-deployment or outplacement support, while in India, `Mid` and `Junior` staff could benefit from re-skilling.\n",
    "    * **Deep Dive into Gender Disparity**: The consistent and overwhelming male majority in layoffs across all designations and locations demands a thorough investigation. This could involve examining historical hiring patterns, performance management biases, or specific skill set demands that might have disproportionately affected male employees.\n",
    "    * **Location-Specific Workforce Planning**: The differing impact across `Designation`s by `LocationGroup` emphasizes the need for localized workforce planning strategies, acknowledging that global layoff reasons can manifest differently at a regional and role level.\n",
    "    * **Impact on Career Progression**: The layoffs affecting `Manager` and `Senior` roles in the USA, and `Mid` and `Junior` roles in India, indicate potential disruption to career pipelines and a loss of institutional knowledge or potential for future leadership."
   ]
  },
  {
   "cell_type": "markdown",
   "id": "028894c3-0153-4aa5-8339-5f49bf5d3408",
   "metadata": {},
   "source": [
    "## Q3: What is the distribution of layoffs across different departments, and how does gender representation vary within them?"
   ]
  },
  {
   "cell_type": "markdown",
   "id": "05fb9e69-8e21-4f7a-9dfa-d1c087b6749e",
   "metadata": {},
   "source": [
    "### ➤ Step 1: Filter Laid-off Employees and Group by Department and Gender"
   ]
  },
  {
   "cell_type": "code",
   "execution_count": 35,
   "id": "8148a5a5-b641-4d2a-bc7c-96003a25cef7",
   "metadata": {},
   "outputs": [],
   "source": [
    "dept_grouped = df[df['LayoffFlag'] == 1].groupby(\n",
    "    ['Department', 'Gender']\n",
    ").size().reset_index(name='Count')\n"
   ]
  },
  {
   "cell_type": "markdown",
   "id": "6f113e37-007f-4c2b-bf4a-61bbfd4d17a7",
   "metadata": {},
   "source": [
    "### ➤ Step 2: Create Plot"
   ]
  },
  {
   "cell_type": "code",
   "execution_count": 36,
   "id": "3b1c4a54-b916-4d1f-8dd1-6b8a734153e0",
   "metadata": {},
   "outputs": [
    {
     "data": {
      "text/html": [
       "<div>            <script src=\"https://cdnjs.cloudflare.com/ajax/libs/mathjax/2.7.5/MathJax.js?config=TeX-AMS-MML_SVG\"></script><script type=\"text/javascript\">if (window.MathJax && window.MathJax.Hub && window.MathJax.Hub.Config) {window.MathJax.Hub.Config({SVG: {font: \"STIX-Web\"}});}</script>                <script type=\"text/javascript\">window.PlotlyConfig = {MathJaxConfig: 'local'};</script>\n",
       "        <script charset=\"utf-8\" src=\"https://cdn.plot.ly/plotly-3.0.1.min.js\" integrity=\"sha256-oy6Be7Eh6eiQFs5M7oXuPxxm9qbJXEtTpfSI93dW16Q=\" crossorigin=\"anonymous\"></script>                <div id=\"4aada3a0-2f69-4789-b2cc-c1b2c36abce2\" class=\"plotly-graph-div\" style=\"height:525px; width:100%;\"></div>            <script type=\"text/javascript\">                window.PLOTLYENV=window.PLOTLYENV || {};                                if (document.getElementById(\"4aada3a0-2f69-4789-b2cc-c1b2c36abce2\")) {                    Plotly.newPlot(                        \"4aada3a0-2f69-4789-b2cc-c1b2c36abce2\",                        [{\"alignmentgroup\":\"True\",\"hovertemplate\":\"Gender=Female\\u003cbr\\u003eDepartment=%{x}\\u003cbr\\u003eCount=%{y}\\u003cextra\\u003e\\u003c\\u002fextra\\u003e\",\"legendgroup\":\"Female\",\"marker\":{\"color\":\"rgb(95, 70, 144)\",\"pattern\":{\"shape\":\"\"}},\"name\":\"Female\",\"offsetgroup\":\"Female\",\"orientation\":\"v\",\"showlegend\":true,\"textposition\":\"auto\",\"x\":[\"Consulting\",\"Finance\",\"HR\",\"IT\",\"Legal\",\"Sales\"],\"xaxis\":\"x\",\"y\":{\"dtype\":\"i1\",\"bdata\":\"CwUEKQMR\"},\"yaxis\":\"y\",\"type\":\"bar\"},{\"alignmentgroup\":\"True\",\"hovertemplate\":\"Gender=Male\\u003cbr\\u003eDepartment=%{x}\\u003cbr\\u003eCount=%{y}\\u003cextra\\u003e\\u003c\\u002fextra\\u003e\",\"legendgroup\":\"Male\",\"marker\":{\"color\":\"rgb(29, 105, 150)\",\"pattern\":{\"shape\":\"\"}},\"name\":\"Male\",\"offsetgroup\":\"Male\",\"orientation\":\"v\",\"showlegend\":true,\"textposition\":\"auto\",\"x\":[\"Consulting\",\"Finance\",\"HR\",\"IT\",\"Legal\",\"Sales\"],\"xaxis\":\"x\",\"y\":{\"dtype\":\"i1\",\"bdata\":\"FhISQggf\"},\"yaxis\":\"y\",\"type\":\"bar\"},{\"alignmentgroup\":\"True\",\"hovertemplate\":\"Gender=Other\\u003cbr\\u003eDepartment=%{x}\\u003cbr\\u003eCount=%{y}\\u003cextra\\u003e\\u003c\\u002fextra\\u003e\",\"legendgroup\":\"Other\",\"marker\":{\"color\":\"rgb(56, 166, 165)\",\"pattern\":{\"shape\":\"\"}},\"name\":\"Other\",\"offsetgroup\":\"Other\",\"orientation\":\"v\",\"showlegend\":true,\"textposition\":\"auto\",\"x\":[\"Consulting\",\"Finance\",\"HR\",\"IT\"],\"xaxis\":\"x\",\"y\":{\"dtype\":\"i1\",\"bdata\":\"AQEBAg==\"},\"yaxis\":\"y\",\"type\":\"bar\"}],                        {\"template\":{\"data\":{\"histogram2dcontour\":[{\"type\":\"histogram2dcontour\",\"colorbar\":{\"outlinewidth\":0,\"ticks\":\"\"},\"colorscale\":[[0.0,\"#0d0887\"],[0.1111111111111111,\"#46039f\"],[0.2222222222222222,\"#7201a8\"],[0.3333333333333333,\"#9c179e\"],[0.4444444444444444,\"#bd3786\"],[0.5555555555555556,\"#d8576b\"],[0.6666666666666666,\"#ed7953\"],[0.7777777777777778,\"#fb9f3a\"],[0.8888888888888888,\"#fdca26\"],[1.0,\"#f0f921\"]]}],\"choropleth\":[{\"type\":\"choropleth\",\"colorbar\":{\"outlinewidth\":0,\"ticks\":\"\"}}],\"histogram2d\":[{\"type\":\"histogram2d\",\"colorbar\":{\"outlinewidth\":0,\"ticks\":\"\"},\"colorscale\":[[0.0,\"#0d0887\"],[0.1111111111111111,\"#46039f\"],[0.2222222222222222,\"#7201a8\"],[0.3333333333333333,\"#9c179e\"],[0.4444444444444444,\"#bd3786\"],[0.5555555555555556,\"#d8576b\"],[0.6666666666666666,\"#ed7953\"],[0.7777777777777778,\"#fb9f3a\"],[0.8888888888888888,\"#fdca26\"],[1.0,\"#f0f921\"]]}],\"heatmap\":[{\"type\":\"heatmap\",\"colorbar\":{\"outlinewidth\":0,\"ticks\":\"\"},\"colorscale\":[[0.0,\"#0d0887\"],[0.1111111111111111,\"#46039f\"],[0.2222222222222222,\"#7201a8\"],[0.3333333333333333,\"#9c179e\"],[0.4444444444444444,\"#bd3786\"],[0.5555555555555556,\"#d8576b\"],[0.6666666666666666,\"#ed7953\"],[0.7777777777777778,\"#fb9f3a\"],[0.8888888888888888,\"#fdca26\"],[1.0,\"#f0f921\"]]}],\"contourcarpet\":[{\"type\":\"contourcarpet\",\"colorbar\":{\"outlinewidth\":0,\"ticks\":\"\"}}],\"contour\":[{\"type\":\"contour\",\"colorbar\":{\"outlinewidth\":0,\"ticks\":\"\"},\"colorscale\":[[0.0,\"#0d0887\"],[0.1111111111111111,\"#46039f\"],[0.2222222222222222,\"#7201a8\"],[0.3333333333333333,\"#9c179e\"],[0.4444444444444444,\"#bd3786\"],[0.5555555555555556,\"#d8576b\"],[0.6666666666666666,\"#ed7953\"],[0.7777777777777778,\"#fb9f3a\"],[0.8888888888888888,\"#fdca26\"],[1.0,\"#f0f921\"]]}],\"surface\":[{\"type\":\"surface\",\"colorbar\":{\"outlinewidth\":0,\"ticks\":\"\"},\"colorscale\":[[0.0,\"#0d0887\"],[0.1111111111111111,\"#46039f\"],[0.2222222222222222,\"#7201a8\"],[0.3333333333333333,\"#9c179e\"],[0.4444444444444444,\"#bd3786\"],[0.5555555555555556,\"#d8576b\"],[0.6666666666666666,\"#ed7953\"],[0.7777777777777778,\"#fb9f3a\"],[0.8888888888888888,\"#fdca26\"],[1.0,\"#f0f921\"]]}],\"mesh3d\":[{\"type\":\"mesh3d\",\"colorbar\":{\"outlinewidth\":0,\"ticks\":\"\"}}],\"scatter\":[{\"fillpattern\":{\"fillmode\":\"overlay\",\"size\":10,\"solidity\":0.2},\"type\":\"scatter\"}],\"parcoords\":[{\"type\":\"parcoords\",\"line\":{\"colorbar\":{\"outlinewidth\":0,\"ticks\":\"\"}}}],\"scatterpolargl\":[{\"type\":\"scatterpolargl\",\"marker\":{\"colorbar\":{\"outlinewidth\":0,\"ticks\":\"\"}}}],\"bar\":[{\"error_x\":{\"color\":\"#2a3f5f\"},\"error_y\":{\"color\":\"#2a3f5f\"},\"marker\":{\"line\":{\"color\":\"#E5ECF6\",\"width\":0.5},\"pattern\":{\"fillmode\":\"overlay\",\"size\":10,\"solidity\":0.2}},\"type\":\"bar\"}],\"scattergeo\":[{\"type\":\"scattergeo\",\"marker\":{\"colorbar\":{\"outlinewidth\":0,\"ticks\":\"\"}}}],\"scatterpolar\":[{\"type\":\"scatterpolar\",\"marker\":{\"colorbar\":{\"outlinewidth\":0,\"ticks\":\"\"}}}],\"histogram\":[{\"marker\":{\"pattern\":{\"fillmode\":\"overlay\",\"size\":10,\"solidity\":0.2}},\"type\":\"histogram\"}],\"scattergl\":[{\"type\":\"scattergl\",\"marker\":{\"colorbar\":{\"outlinewidth\":0,\"ticks\":\"\"}}}],\"scatter3d\":[{\"type\":\"scatter3d\",\"line\":{\"colorbar\":{\"outlinewidth\":0,\"ticks\":\"\"}},\"marker\":{\"colorbar\":{\"outlinewidth\":0,\"ticks\":\"\"}}}],\"scattermap\":[{\"type\":\"scattermap\",\"marker\":{\"colorbar\":{\"outlinewidth\":0,\"ticks\":\"\"}}}],\"scattermapbox\":[{\"type\":\"scattermapbox\",\"marker\":{\"colorbar\":{\"outlinewidth\":0,\"ticks\":\"\"}}}],\"scatterternary\":[{\"type\":\"scatterternary\",\"marker\":{\"colorbar\":{\"outlinewidth\":0,\"ticks\":\"\"}}}],\"scattercarpet\":[{\"type\":\"scattercarpet\",\"marker\":{\"colorbar\":{\"outlinewidth\":0,\"ticks\":\"\"}}}],\"carpet\":[{\"aaxis\":{\"endlinecolor\":\"#2a3f5f\",\"gridcolor\":\"white\",\"linecolor\":\"white\",\"minorgridcolor\":\"white\",\"startlinecolor\":\"#2a3f5f\"},\"baxis\":{\"endlinecolor\":\"#2a3f5f\",\"gridcolor\":\"white\",\"linecolor\":\"white\",\"minorgridcolor\":\"white\",\"startlinecolor\":\"#2a3f5f\"},\"type\":\"carpet\"}],\"table\":[{\"cells\":{\"fill\":{\"color\":\"#EBF0F8\"},\"line\":{\"color\":\"white\"}},\"header\":{\"fill\":{\"color\":\"#C8D4E3\"},\"line\":{\"color\":\"white\"}},\"type\":\"table\"}],\"barpolar\":[{\"marker\":{\"line\":{\"color\":\"#E5ECF6\",\"width\":0.5},\"pattern\":{\"fillmode\":\"overlay\",\"size\":10,\"solidity\":0.2}},\"type\":\"barpolar\"}],\"pie\":[{\"automargin\":true,\"type\":\"pie\"}]},\"layout\":{\"autotypenumbers\":\"strict\",\"colorway\":[\"#636efa\",\"#EF553B\",\"#00cc96\",\"#ab63fa\",\"#FFA15A\",\"#19d3f3\",\"#FF6692\",\"#B6E880\",\"#FF97FF\",\"#FECB52\"],\"font\":{\"color\":\"#2a3f5f\"},\"hovermode\":\"closest\",\"hoverlabel\":{\"align\":\"left\"},\"paper_bgcolor\":\"white\",\"plot_bgcolor\":\"#E5ECF6\",\"polar\":{\"bgcolor\":\"#E5ECF6\",\"angularaxis\":{\"gridcolor\":\"white\",\"linecolor\":\"white\",\"ticks\":\"\"},\"radialaxis\":{\"gridcolor\":\"white\",\"linecolor\":\"white\",\"ticks\":\"\"}},\"ternary\":{\"bgcolor\":\"#E5ECF6\",\"aaxis\":{\"gridcolor\":\"white\",\"linecolor\":\"white\",\"ticks\":\"\"},\"baxis\":{\"gridcolor\":\"white\",\"linecolor\":\"white\",\"ticks\":\"\"},\"caxis\":{\"gridcolor\":\"white\",\"linecolor\":\"white\",\"ticks\":\"\"}},\"coloraxis\":{\"colorbar\":{\"outlinewidth\":0,\"ticks\":\"\"}},\"colorscale\":{\"sequential\":[[0.0,\"#0d0887\"],[0.1111111111111111,\"#46039f\"],[0.2222222222222222,\"#7201a8\"],[0.3333333333333333,\"#9c179e\"],[0.4444444444444444,\"#bd3786\"],[0.5555555555555556,\"#d8576b\"],[0.6666666666666666,\"#ed7953\"],[0.7777777777777778,\"#fb9f3a\"],[0.8888888888888888,\"#fdca26\"],[1.0,\"#f0f921\"]],\"sequentialminus\":[[0.0,\"#0d0887\"],[0.1111111111111111,\"#46039f\"],[0.2222222222222222,\"#7201a8\"],[0.3333333333333333,\"#9c179e\"],[0.4444444444444444,\"#bd3786\"],[0.5555555555555556,\"#d8576b\"],[0.6666666666666666,\"#ed7953\"],[0.7777777777777778,\"#fb9f3a\"],[0.8888888888888888,\"#fdca26\"],[1.0,\"#f0f921\"]],\"diverging\":[[0,\"#8e0152\"],[0.1,\"#c51b7d\"],[0.2,\"#de77ae\"],[0.3,\"#f1b6da\"],[0.4,\"#fde0ef\"],[0.5,\"#f7f7f7\"],[0.6,\"#e6f5d0\"],[0.7,\"#b8e186\"],[0.8,\"#7fbc41\"],[0.9,\"#4d9221\"],[1,\"#276419\"]]},\"xaxis\":{\"gridcolor\":\"white\",\"linecolor\":\"white\",\"ticks\":\"\",\"title\":{\"standoff\":15},\"zerolinecolor\":\"white\",\"automargin\":true,\"zerolinewidth\":2},\"yaxis\":{\"gridcolor\":\"white\",\"linecolor\":\"white\",\"ticks\":\"\",\"title\":{\"standoff\":15},\"zerolinecolor\":\"white\",\"automargin\":true,\"zerolinewidth\":2},\"scene\":{\"xaxis\":{\"backgroundcolor\":\"#E5ECF6\",\"gridcolor\":\"white\",\"linecolor\":\"white\",\"showbackground\":true,\"ticks\":\"\",\"zerolinecolor\":\"white\",\"gridwidth\":2},\"yaxis\":{\"backgroundcolor\":\"#E5ECF6\",\"gridcolor\":\"white\",\"linecolor\":\"white\",\"showbackground\":true,\"ticks\":\"\",\"zerolinecolor\":\"white\",\"gridwidth\":2},\"zaxis\":{\"backgroundcolor\":\"#E5ECF6\",\"gridcolor\":\"white\",\"linecolor\":\"white\",\"showbackground\":true,\"ticks\":\"\",\"zerolinecolor\":\"white\",\"gridwidth\":2}},\"shapedefaults\":{\"line\":{\"color\":\"#2a3f5f\"}},\"annotationdefaults\":{\"arrowcolor\":\"#2a3f5f\",\"arrowhead\":0,\"arrowwidth\":1},\"geo\":{\"bgcolor\":\"white\",\"landcolor\":\"#E5ECF6\",\"subunitcolor\":\"white\",\"showland\":true,\"showlakes\":true,\"lakecolor\":\"white\"},\"title\":{\"x\":0.05},\"mapbox\":{\"style\":\"light\"}}},\"xaxis\":{\"anchor\":\"y\",\"domain\":[0.0,1.0],\"title\":{\"text\":\"Department\"}},\"yaxis\":{\"anchor\":\"x\",\"domain\":[0.0,1.0],\"title\":{\"text\":\"Laid-off Employee Count\"}},\"legend\":{\"title\":{\"text\":\"Gender\"},\"tracegroupgap\":0},\"margin\":{\"t\":60},\"barmode\":\"group\",\"font\":{\"family\":\"Arial\",\"size\":12},\"title\":{\"text\":\"[Plot 3] Layoff Distribution by Department and Gender\",\"font\":{\"size\":16}}},                        {\"responsive\": true}                    ).then(function(){\n",
       "                            \n",
       "var gd = document.getElementById('4aada3a0-2f69-4789-b2cc-c1b2c36abce2');\n",
       "var x = new MutationObserver(function (mutations, observer) {{\n",
       "        var display = window.getComputedStyle(gd).display;\n",
       "        if (!display || display === 'none') {{\n",
       "            console.log([gd, 'removed!']);\n",
       "            Plotly.purge(gd);\n",
       "            observer.disconnect();\n",
       "        }}\n",
       "}});\n",
       "\n",
       "// Listen for the removal of the full notebook cells\n",
       "var notebookContainer = gd.closest('#notebook-container');\n",
       "if (notebookContainer) {{\n",
       "    x.observe(notebookContainer, {childList: true});\n",
       "}}\n",
       "\n",
       "// Listen for the clearing of the current output cell\n",
       "var outputEl = gd.closest('.output');\n",
       "if (outputEl) {{\n",
       "    x.observe(outputEl, {childList: true});\n",
       "}}\n",
       "\n",
       "                        })                };            </script>        </div>"
      ]
     },
     "metadata": {},
     "output_type": "display_data"
    }
   ],
   "source": [
    "fig3 = px.bar(\n",
    "    dept_grouped,\n",
    "    x='Department',\n",
    "    y='Count',\n",
    "    color='Gender',\n",
    "    barmode='group',\n",
    "    color_discrete_sequence=px.colors.qualitative.Prism\n",
    ")\n",
    "\n",
    "fig3.update_layout(\n",
    "    title='[Plot 3] Layoff Distribution by Department and Gender',\n",
    "    font=dict(family='Arial', size=12),\n",
    "    title_font_size=16,\n",
    "    xaxis_title='Department',\n",
    "    yaxis_title='Laid-off Employee Count'\n",
    ")\n",
    "\n",
    "fig3.show()\n",
    "# fig3.write_image(\"Plots/Plot 3 - Layoff Distribution by Department and Gender.png\")  # Uncomment to save\n"
   ]
  },
  {
   "cell_type": "markdown",
   "id": "1184bde5-d5b0-446f-8afc-c9e35cbe8c1e",
   "metadata": {},
   "source": [
    "### Inference from '[Plot 3] Layoff Distribution by Department and Gender'\n",
    "\n",
    "This grouped bar plot illustrates the distribution of layoffs across different departments, broken down by gender. It helps in identifying which functional areas were most impacted and if there are gender-specific patterns within those departments.\n",
    "\n",
    "1.  **Plot Type and Purpose**:\n",
    "    * This is a grouped bar chart displaying `Layoff Distribution by Department and Gender`.\n",
    "    * The x-axis represents `Department`, the y-axis shows `Laid-off Employee Count`, and `Gender` is used to group the bars within each department.\n",
    "    * The primary purpose is to identify which departments experienced the highest number of layoffs and to observe if there's a gender disparity in layoffs within specific departments.\n",
    "\n",
    "2.  **Key Observations from the Plot**:\n",
    "\n",
    "    * **IT Department Most Affected**: The `IT` department clearly experienced the highest number of layoffs among all departments. This suggests that IT-related roles were the most vulnerable during this period of workforce reduction.\n",
    "        * Within IT, `Male` employees constitute a significantly larger portion of layoffs compared to `Female` employees.\n",
    "\n",
    "    * **Sales and Finance Also Heavily Impacted**: `Sales` and `Finance` departments follow IT in terms of layoff counts, indicating substantial reductions in these functional areas as well.\n",
    "        * In both Sales and Finance, the trend of `Male` employees being laid off more frequently than `Female` employees is consistently observed.\n",
    "\n",
    "    * **HR and Marketing Less Affected**: The `HR` and `Marketing` departments show relatively fewer layoffs compared to IT, Sales, and Finance.\n",
    "        * Even in these less impacted departments, `Male` layoffs still generally outnumber `Female` layoffs, though the absolute counts are much lower.\n",
    "\n",
    "    * **Consistent Male Disproportion Across All Departments**: This plot strongly reinforces the consistent observation from previous analyses (Plot 1 and Plot 2) that `Male` employees constitute a significantly larger proportion of laid-off individuals across *all* departments. This gender disparity is a pervasive pattern throughout the layoff data.\n",
    "\n",
    "    * **Departmental Vulnerability Varies**: The data indicates that strategic decisions leading to layoffs likely targeted specific operational areas more heavily. The high impact on IT, Sales, and Finance could suggest a re-prioritization of digital transformation projects, sales targets, or financial restructuring.\n",
    "\n",
    "3.  **Implications for Workforce Strategy**:\n",
    "\n",
    "    * **Department-Specific Workforce Planning**: The insights necessitate department-specific strategies for future workforce planning, talent acquisition, and skill development. For example, the IT department might require re-evaluation of its talent needs and skills mix.\n",
    "    * **Impact on Core Operations**: High layoffs in core departments like IT, Sales, and Finance could impact operational capacity, project delivery, and revenue generation if not managed carefully.\n",
    "    * **Gender Equity Review**: The consistent male overrepresentation in layoffs across all departments makes a strong case for a deeper investigation into potential gender biases in layoff criteria, role assignments, or performance evaluations within TCS. This could be a critical area for diversity and inclusion initiatives.\n",
    "    * **Strategic Skill Gaps**: Layoffs in specific departments might create critical skill gaps that need to be addressed through internal training for existing employees or strategic external hiring."
   ]
  },
  {
   "cell_type": "markdown",
   "id": "486e0461-2b67-4890-88f2-ac4e13159056",
   "metadata": {},
   "source": [
    "## Q4: What performance and skill-related factors most correlate with layoffs across different designations?"
   ]
  },
  {
   "cell_type": "markdown",
   "id": "e74a1a43-afdf-4024-b8af-c8cd234a670d",
   "metadata": {},
   "source": [
    "### ➤ Step 1: Group and Aggregate the Factors"
   ]
  },
  {
   "cell_type": "code",
   "execution_count": 43,
   "id": "2d67a51c-b9fc-4204-b6de-02565773937d",
   "metadata": {},
   "outputs": [],
   "source": [
    "layoff_factors_grouped = df[df['LayoffFlag'] == 1].groupby('Designation')[['BenchDays', 'ManagerFeedbackScore']].mean().reset_index()\n"
   ]
  },
  {
   "cell_type": "markdown",
   "id": "543291ca-48b3-4f68-9ba5-0d5f1bfb734c",
   "metadata": {},
   "source": [
    "### ➤ Step 2: Reshape the Data (Melt Format)"
   ]
  },
  {
   "cell_type": "code",
   "execution_count": 44,
   "id": "711ef568-7479-4141-837a-dd025839e703",
   "metadata": {},
   "outputs": [],
   "source": [
    "layoff_factors_long = layoff_factors_grouped.melt(\n",
    "    id_vars='Designation',\n",
    "    value_vars=['BenchDays', 'ManagerFeedbackScore'],\n",
    "    var_name='Factor',\n",
    "    value_name='AverageValue'\n",
    ")\n"
   ]
  },
  {
   "cell_type": "markdown",
   "id": "35b3bc62-af35-42da-9139-ed39f2064da1",
   "metadata": {},
   "source": [
    "### ➤ Step 3: Create Plot"
   ]
  },
  {
   "cell_type": "code",
   "execution_count": 45,
   "id": "d07291f0-292d-4c35-bf06-3ab41a069323",
   "metadata": {},
   "outputs": [
    {
     "data": {
      "text/html": [
       "<div>            <script src=\"https://cdnjs.cloudflare.com/ajax/libs/mathjax/2.7.5/MathJax.js?config=TeX-AMS-MML_SVG\"></script><script type=\"text/javascript\">if (window.MathJax && window.MathJax.Hub && window.MathJax.Hub.Config) {window.MathJax.Hub.Config({SVG: {font: \"STIX-Web\"}});}</script>                <script type=\"text/javascript\">window.PlotlyConfig = {MathJaxConfig: 'local'};</script>\n",
       "        <script charset=\"utf-8\" src=\"https://cdn.plot.ly/plotly-3.0.1.min.js\" integrity=\"sha256-oy6Be7Eh6eiQFs5M7oXuPxxm9qbJXEtTpfSI93dW16Q=\" crossorigin=\"anonymous\"></script>                <div id=\"273198a2-9048-43f9-b4ea-e76486ae539f\" class=\"plotly-graph-div\" style=\"height:525px; width:100%;\"></div>            <script type=\"text/javascript\">                window.PLOTLYENV=window.PLOTLYENV || {};                                if (document.getElementById(\"273198a2-9048-43f9-b4ea-e76486ae539f\")) {                    Plotly.newPlot(                        \"273198a2-9048-43f9-b4ea-e76486ae539f\",                        [{\"hovertemplate\":\"Factor=BenchDays\\u003cbr\\u003eDesignation=%{x}\\u003cbr\\u003eAverageValue=%{y}\\u003cextra\\u003e\\u003c\\u002fextra\\u003e\",\"legendgroup\":\"BenchDays\",\"line\":{\"color\":\"#636efa\",\"dash\":\"solid\"},\"marker\":{\"symbol\":\"circle\"},\"mode\":\"lines+markers\",\"name\":\"BenchDays\",\"orientation\":\"v\",\"showlegend\":true,\"x\":[\"Junior\",\"Lead\",\"Manager\",\"Mid\",\"Senior\"],\"xaxis\":\"x\",\"y\":{\"dtype\":\"f8\",\"bdata\":\"aWlpaWnpJUBmZmZmZmYxQOQ4juM4ji1AYhiGYRiGL0BP7MRO7MQwQA==\"},\"yaxis\":\"y\",\"type\":\"scatter\"},{\"hovertemplate\":\"Factor=ManagerFeedbackScore\\u003cbr\\u003eDesignation=%{x}\\u003cbr\\u003eAverageValue=%{y}\\u003cextra\\u003e\\u003c\\u002fextra\\u003e\",\"legendgroup\":\"ManagerFeedbackScore\",\"line\":{\"color\":\"#EF553B\",\"dash\":\"solid\"},\"marker\":{\"symbol\":\"circle\"},\"mode\":\"lines+markers\",\"name\":\"ManagerFeedbackScore\",\"orientation\":\"v\",\"showlegend\":true,\"x\":[\"Junior\",\"Lead\",\"Manager\",\"Mid\",\"Senior\"],\"xaxis\":\"x\",\"y\":{\"dtype\":\"f8\",\"bdata\":\"srGxsbGxDECi\\u002fo1QRm8NQPjm1cSzogtA3tnGySt\\u002fDEAlqgjxdtULQA==\"},\"yaxis\":\"y\",\"type\":\"scatter\"}],                        {\"template\":{\"data\":{\"histogram2dcontour\":[{\"type\":\"histogram2dcontour\",\"colorbar\":{\"outlinewidth\":0,\"ticks\":\"\"},\"colorscale\":[[0.0,\"#0d0887\"],[0.1111111111111111,\"#46039f\"],[0.2222222222222222,\"#7201a8\"],[0.3333333333333333,\"#9c179e\"],[0.4444444444444444,\"#bd3786\"],[0.5555555555555556,\"#d8576b\"],[0.6666666666666666,\"#ed7953\"],[0.7777777777777778,\"#fb9f3a\"],[0.8888888888888888,\"#fdca26\"],[1.0,\"#f0f921\"]]}],\"choropleth\":[{\"type\":\"choropleth\",\"colorbar\":{\"outlinewidth\":0,\"ticks\":\"\"}}],\"histogram2d\":[{\"type\":\"histogram2d\",\"colorbar\":{\"outlinewidth\":0,\"ticks\":\"\"},\"colorscale\":[[0.0,\"#0d0887\"],[0.1111111111111111,\"#46039f\"],[0.2222222222222222,\"#7201a8\"],[0.3333333333333333,\"#9c179e\"],[0.4444444444444444,\"#bd3786\"],[0.5555555555555556,\"#d8576b\"],[0.6666666666666666,\"#ed7953\"],[0.7777777777777778,\"#fb9f3a\"],[0.8888888888888888,\"#fdca26\"],[1.0,\"#f0f921\"]]}],\"heatmap\":[{\"type\":\"heatmap\",\"colorbar\":{\"outlinewidth\":0,\"ticks\":\"\"},\"colorscale\":[[0.0,\"#0d0887\"],[0.1111111111111111,\"#46039f\"],[0.2222222222222222,\"#7201a8\"],[0.3333333333333333,\"#9c179e\"],[0.4444444444444444,\"#bd3786\"],[0.5555555555555556,\"#d8576b\"],[0.6666666666666666,\"#ed7953\"],[0.7777777777777778,\"#fb9f3a\"],[0.8888888888888888,\"#fdca26\"],[1.0,\"#f0f921\"]]}],\"contourcarpet\":[{\"type\":\"contourcarpet\",\"colorbar\":{\"outlinewidth\":0,\"ticks\":\"\"}}],\"contour\":[{\"type\":\"contour\",\"colorbar\":{\"outlinewidth\":0,\"ticks\":\"\"},\"colorscale\":[[0.0,\"#0d0887\"],[0.1111111111111111,\"#46039f\"],[0.2222222222222222,\"#7201a8\"],[0.3333333333333333,\"#9c179e\"],[0.4444444444444444,\"#bd3786\"],[0.5555555555555556,\"#d8576b\"],[0.6666666666666666,\"#ed7953\"],[0.7777777777777778,\"#fb9f3a\"],[0.8888888888888888,\"#fdca26\"],[1.0,\"#f0f921\"]]}],\"surface\":[{\"type\":\"surface\",\"colorbar\":{\"outlinewidth\":0,\"ticks\":\"\"},\"colorscale\":[[0.0,\"#0d0887\"],[0.1111111111111111,\"#46039f\"],[0.2222222222222222,\"#7201a8\"],[0.3333333333333333,\"#9c179e\"],[0.4444444444444444,\"#bd3786\"],[0.5555555555555556,\"#d8576b\"],[0.6666666666666666,\"#ed7953\"],[0.7777777777777778,\"#fb9f3a\"],[0.8888888888888888,\"#fdca26\"],[1.0,\"#f0f921\"]]}],\"mesh3d\":[{\"type\":\"mesh3d\",\"colorbar\":{\"outlinewidth\":0,\"ticks\":\"\"}}],\"scatter\":[{\"fillpattern\":{\"fillmode\":\"overlay\",\"size\":10,\"solidity\":0.2},\"type\":\"scatter\"}],\"parcoords\":[{\"type\":\"parcoords\",\"line\":{\"colorbar\":{\"outlinewidth\":0,\"ticks\":\"\"}}}],\"scatterpolargl\":[{\"type\":\"scatterpolargl\",\"marker\":{\"colorbar\":{\"outlinewidth\":0,\"ticks\":\"\"}}}],\"bar\":[{\"error_x\":{\"color\":\"#2a3f5f\"},\"error_y\":{\"color\":\"#2a3f5f\"},\"marker\":{\"line\":{\"color\":\"#E5ECF6\",\"width\":0.5},\"pattern\":{\"fillmode\":\"overlay\",\"size\":10,\"solidity\":0.2}},\"type\":\"bar\"}],\"scattergeo\":[{\"type\":\"scattergeo\",\"marker\":{\"colorbar\":{\"outlinewidth\":0,\"ticks\":\"\"}}}],\"scatterpolar\":[{\"type\":\"scatterpolar\",\"marker\":{\"colorbar\":{\"outlinewidth\":0,\"ticks\":\"\"}}}],\"histogram\":[{\"marker\":{\"pattern\":{\"fillmode\":\"overlay\",\"size\":10,\"solidity\":0.2}},\"type\":\"histogram\"}],\"scattergl\":[{\"type\":\"scattergl\",\"marker\":{\"colorbar\":{\"outlinewidth\":0,\"ticks\":\"\"}}}],\"scatter3d\":[{\"type\":\"scatter3d\",\"line\":{\"colorbar\":{\"outlinewidth\":0,\"ticks\":\"\"}},\"marker\":{\"colorbar\":{\"outlinewidth\":0,\"ticks\":\"\"}}}],\"scattermap\":[{\"type\":\"scattermap\",\"marker\":{\"colorbar\":{\"outlinewidth\":0,\"ticks\":\"\"}}}],\"scattermapbox\":[{\"type\":\"scattermapbox\",\"marker\":{\"colorbar\":{\"outlinewidth\":0,\"ticks\":\"\"}}}],\"scatterternary\":[{\"type\":\"scatterternary\",\"marker\":{\"colorbar\":{\"outlinewidth\":0,\"ticks\":\"\"}}}],\"scattercarpet\":[{\"type\":\"scattercarpet\",\"marker\":{\"colorbar\":{\"outlinewidth\":0,\"ticks\":\"\"}}}],\"carpet\":[{\"aaxis\":{\"endlinecolor\":\"#2a3f5f\",\"gridcolor\":\"white\",\"linecolor\":\"white\",\"minorgridcolor\":\"white\",\"startlinecolor\":\"#2a3f5f\"},\"baxis\":{\"endlinecolor\":\"#2a3f5f\",\"gridcolor\":\"white\",\"linecolor\":\"white\",\"minorgridcolor\":\"white\",\"startlinecolor\":\"#2a3f5f\"},\"type\":\"carpet\"}],\"table\":[{\"cells\":{\"fill\":{\"color\":\"#EBF0F8\"},\"line\":{\"color\":\"white\"}},\"header\":{\"fill\":{\"color\":\"#C8D4E3\"},\"line\":{\"color\":\"white\"}},\"type\":\"table\"}],\"barpolar\":[{\"marker\":{\"line\":{\"color\":\"#E5ECF6\",\"width\":0.5},\"pattern\":{\"fillmode\":\"overlay\",\"size\":10,\"solidity\":0.2}},\"type\":\"barpolar\"}],\"pie\":[{\"automargin\":true,\"type\":\"pie\"}]},\"layout\":{\"autotypenumbers\":\"strict\",\"colorway\":[\"#636efa\",\"#EF553B\",\"#00cc96\",\"#ab63fa\",\"#FFA15A\",\"#19d3f3\",\"#FF6692\",\"#B6E880\",\"#FF97FF\",\"#FECB52\"],\"font\":{\"color\":\"#2a3f5f\"},\"hovermode\":\"closest\",\"hoverlabel\":{\"align\":\"left\"},\"paper_bgcolor\":\"white\",\"plot_bgcolor\":\"#E5ECF6\",\"polar\":{\"bgcolor\":\"#E5ECF6\",\"angularaxis\":{\"gridcolor\":\"white\",\"linecolor\":\"white\",\"ticks\":\"\"},\"radialaxis\":{\"gridcolor\":\"white\",\"linecolor\":\"white\",\"ticks\":\"\"}},\"ternary\":{\"bgcolor\":\"#E5ECF6\",\"aaxis\":{\"gridcolor\":\"white\",\"linecolor\":\"white\",\"ticks\":\"\"},\"baxis\":{\"gridcolor\":\"white\",\"linecolor\":\"white\",\"ticks\":\"\"},\"caxis\":{\"gridcolor\":\"white\",\"linecolor\":\"white\",\"ticks\":\"\"}},\"coloraxis\":{\"colorbar\":{\"outlinewidth\":0,\"ticks\":\"\"}},\"colorscale\":{\"sequential\":[[0.0,\"#0d0887\"],[0.1111111111111111,\"#46039f\"],[0.2222222222222222,\"#7201a8\"],[0.3333333333333333,\"#9c179e\"],[0.4444444444444444,\"#bd3786\"],[0.5555555555555556,\"#d8576b\"],[0.6666666666666666,\"#ed7953\"],[0.7777777777777778,\"#fb9f3a\"],[0.8888888888888888,\"#fdca26\"],[1.0,\"#f0f921\"]],\"sequentialminus\":[[0.0,\"#0d0887\"],[0.1111111111111111,\"#46039f\"],[0.2222222222222222,\"#7201a8\"],[0.3333333333333333,\"#9c179e\"],[0.4444444444444444,\"#bd3786\"],[0.5555555555555556,\"#d8576b\"],[0.6666666666666666,\"#ed7953\"],[0.7777777777777778,\"#fb9f3a\"],[0.8888888888888888,\"#fdca26\"],[1.0,\"#f0f921\"]],\"diverging\":[[0,\"#8e0152\"],[0.1,\"#c51b7d\"],[0.2,\"#de77ae\"],[0.3,\"#f1b6da\"],[0.4,\"#fde0ef\"],[0.5,\"#f7f7f7\"],[0.6,\"#e6f5d0\"],[0.7,\"#b8e186\"],[0.8,\"#7fbc41\"],[0.9,\"#4d9221\"],[1,\"#276419\"]]},\"xaxis\":{\"gridcolor\":\"white\",\"linecolor\":\"white\",\"ticks\":\"\",\"title\":{\"standoff\":15},\"zerolinecolor\":\"white\",\"automargin\":true,\"zerolinewidth\":2},\"yaxis\":{\"gridcolor\":\"white\",\"linecolor\":\"white\",\"ticks\":\"\",\"title\":{\"standoff\":15},\"zerolinecolor\":\"white\",\"automargin\":true,\"zerolinewidth\":2},\"scene\":{\"xaxis\":{\"backgroundcolor\":\"#E5ECF6\",\"gridcolor\":\"white\",\"linecolor\":\"white\",\"showbackground\":true,\"ticks\":\"\",\"zerolinecolor\":\"white\",\"gridwidth\":2},\"yaxis\":{\"backgroundcolor\":\"#E5ECF6\",\"gridcolor\":\"white\",\"linecolor\":\"white\",\"showbackground\":true,\"ticks\":\"\",\"zerolinecolor\":\"white\",\"gridwidth\":2},\"zaxis\":{\"backgroundcolor\":\"#E5ECF6\",\"gridcolor\":\"white\",\"linecolor\":\"white\",\"showbackground\":true,\"ticks\":\"\",\"zerolinecolor\":\"white\",\"gridwidth\":2}},\"shapedefaults\":{\"line\":{\"color\":\"#2a3f5f\"}},\"annotationdefaults\":{\"arrowcolor\":\"#2a3f5f\",\"arrowhead\":0,\"arrowwidth\":1},\"geo\":{\"bgcolor\":\"white\",\"landcolor\":\"#E5ECF6\",\"subunitcolor\":\"white\",\"showland\":true,\"showlakes\":true,\"lakecolor\":\"white\"},\"title\":{\"x\":0.05},\"mapbox\":{\"style\":\"light\"}}},\"xaxis\":{\"anchor\":\"y\",\"domain\":[0.0,1.0],\"title\":{\"text\":\"Designation\"}},\"yaxis\":{\"anchor\":\"x\",\"domain\":[0.0,1.0],\"title\":{\"text\":\"Average Value\"}},\"legend\":{\"title\":{\"text\":\"Factor\"},\"tracegroupgap\":0},\"title\":{\"text\":\"[Plot 4] Average Bench Days and Manager Feedback Score by Designation (Laid-off Employees)\",\"font\":{\"size\":16}},\"font\":{\"family\":\"Arial\",\"size\":12}},                        {\"responsive\": true}                    ).then(function(){\n",
       "                            \n",
       "var gd = document.getElementById('273198a2-9048-43f9-b4ea-e76486ae539f');\n",
       "var x = new MutationObserver(function (mutations, observer) {{\n",
       "        var display = window.getComputedStyle(gd).display;\n",
       "        if (!display || display === 'none') {{\n",
       "            console.log([gd, 'removed!']);\n",
       "            Plotly.purge(gd);\n",
       "            observer.disconnect();\n",
       "        }}\n",
       "}});\n",
       "\n",
       "// Listen for the removal of the full notebook cells\n",
       "var notebookContainer = gd.closest('#notebook-container');\n",
       "if (notebookContainer) {{\n",
       "    x.observe(notebookContainer, {childList: true});\n",
       "}}\n",
       "\n",
       "// Listen for the clearing of the current output cell\n",
       "var outputEl = gd.closest('.output');\n",
       "if (outputEl) {{\n",
       "    x.observe(outputEl, {childList: true});\n",
       "}}\n",
       "\n",
       "                        })                };            </script>        </div>"
      ]
     },
     "metadata": {},
     "output_type": "display_data"
    }
   ],
   "source": [
    "fig4 = px.line(\n",
    "    layoff_factors_long,\n",
    "    x='Designation',\n",
    "    y='AverageValue',\n",
    "    color='Factor',\n",
    "    markers=True,\n",
    "    title='[Plot 4] Average Bench Days and Manager Feedback Score by Designation (Laid-off Employees)'\n",
    ")\n",
    "\n",
    "fig4.update_layout(\n",
    "    font=dict(family='Arial', size=12),\n",
    "    title_font_size=16,\n",
    "    xaxis_title='Designation',\n",
    "    yaxis_title='Average Value',\n",
    "    legend_title='Factor'\n",
    ")\n",
    "\n",
    "fig4.show()\n",
    "# fig4.write_image(\"Plots/Plot 4 - BenchDays and Feedback by Designation.png\")  # Uncomment to save\n"
   ]
  },
  {
   "cell_type": "markdown",
   "id": "081f8fd8-e190-4399-8bc1-01fadb1c6331",
   "metadata": {},
   "source": [
    "### Inference from '[Plot 4] Average Bench Days and Manager Feedback Score by Designation (Laid-off Employees)'\n",
    "\n",
    "This line plot visualizes the average `Bench Days` and `Manager Feedback Score` across different `Designation` levels specifically for laid-off employees. It aims to uncover potential correlations between these factors and layoff incidence within different roles.\n",
    "\n",
    "1.  **Plot Type and Purpose**:\n",
    "    * This is a line plot with markers, showing two distinct lines representing 'Average Bench Days' and 'Average Manager Feedback Score'.\n",
    "    * The x-axis represents `Designation` (Junior, Lead, Manager, Mid, Senior), and the y-axis shows the `AverageValue` for each factor.\n",
    "    * The plot's purpose is to understand if longer bench periods or lower manager feedback scores are characteristic of laid-off employees, and how these factors vary across different designations.\n",
    "\n",
    "2.  **Key Observations from the Plot**:\n",
    "\n",
    "    * **Bench Days Trend**:\n",
    "        * The average `Bench Days` are notably higher for `Junior` and `Lead` designations among laid-off employees, peaking slightly for `Lead`.\n",
    "        * There's a general decreasing trend in average `Bench Days` as designation levels increase from `Junior` to `Senior`, with `Senior` and `Manager` roles exhibiting the lowest average bench time before layoff.\n",
    "        * This suggests that prolonged periods on the bench might be a more significant factor for layoffs at junior and lead levels than for more senior or managerial positions, for whom other factors might be at play.\n",
    "\n",
    "    * **Manager Feedback Score Trend**:\n",
    "        * The average `Manager Feedback Score` for laid-off employees is relatively low across all designations, generally hovering below 3.5 (on a likely 5-point scale, based on `df.describe()` from previous inference).\n",
    "        * There's a slight *increase* in average feedback score as designation level rises. `Junior` and `Lead` employees have the lowest average feedback scores among laid-off staff, while `Senior` and `Manager` laid-off employees have slightly higher (though still moderate) average scores.\n",
    "        * This indicates that, while feedback scores are generally not exceptionally high for laid-off individuals, lower scores are more prevalent among junior and lead roles.\n",
    "\n",
    "    * **Inverse Relationship Observation**: For laid-off employees, there appears to be an inverse relationship between average `Bench Days` and `Manager Feedback Score` across designations. As `Bench Days` tend to decrease with higher designations, `Manager Feedback Scores` tend to slightly increase.\n",
    "\n",
    "3.  **Implications for Workforce Strategy**:\n",
    "\n",
    "    * **Bench Management for Junior/Lead Roles**: The higher average bench days for laid-off `Junior` and `Lead` employees highlight the need for more proactive bench management, skill development, and rapid redeployment strategies for these segments to mitigate layoff risk.\n",
    "    * **Performance vs. Utilization in Layoff Criteria**: The plot suggests that for `Junior` and `Lead` roles, utilization (bench days) might be a more pronounced layoff trigger, while for `Manager` and `Senior` roles, although bench days are lower, other factors not shown here (e.g., strategic role redundancy, cost of salary) might become more significant, even if feedback scores are comparatively better.\n",
    "    * **Feedback System Effectiveness**: The overall moderate to low feedback scores for laid-off employees across all levels affirm that manager feedback is indeed a contributing indicator of potential layoff risk, even if it's not the sole factor.\n",
    "    * **Targeted Interventions**: Different intervention strategies might be needed for different designations. For `Junior` and `Lead` roles, focusing on skill alignment and project placement might be key. For higher designations, a more nuanced approach considering strategic value and cost efficiency might be at play."
   ]
  },
  {
   "cell_type": "markdown",
   "id": "5389c759-4db5-41bf-a7f2-604ed0b325a4",
   "metadata": {},
   "source": [
    "## Q5: Are employees willing to reskill less likely to be laid off?"
   ]
  },
  {
   "cell_type": "markdown",
   "id": "878cc09e-095b-4d27-ad51-5e9a5fbe1912",
   "metadata": {},
   "source": [
    "### ➤ Step 1: Create Plot"
   ]
  },
  {
   "cell_type": "code",
   "execution_count": 49,
   "id": "4ace1fc0-478f-4450-802e-d26e213b10f5",
   "metadata": {},
   "outputs": [
    {
     "data": {
      "text/html": [
       "        <script type=\"text/javascript\">\n",
       "        window.PlotlyConfig = {MathJaxConfig: 'local'};\n",
       "        if (window.MathJax && window.MathJax.Hub && window.MathJax.Hub.Config) {window.MathJax.Hub.Config({SVG: {font: \"STIX-Web\"}});}\n",
       "        </script>\n",
       "        <script type=\"module\">import \"https://cdn.plot.ly/plotly-3.0.1.min\"</script>\n",
       "        "
      ]
     },
     "metadata": {},
     "output_type": "display_data"
    },
    {
     "data": {
      "text/html": [
       "<div>            <script src=\"https://cdnjs.cloudflare.com/ajax/libs/mathjax/2.7.5/MathJax.js?config=TeX-AMS-MML_SVG\"></script><script type=\"text/javascript\">if (window.MathJax && window.MathJax.Hub && window.MathJax.Hub.Config) {window.MathJax.Hub.Config({SVG: {font: \"STIX-Web\"}});}</script>                <script type=\"text/javascript\">window.PlotlyConfig = {MathJaxConfig: 'local'};</script>\n",
       "        <script charset=\"utf-8\" src=\"https://cdn.plot.ly/plotly-3.0.1.min.js\" integrity=\"sha256-oy6Be7Eh6eiQFs5M7oXuPxxm9qbJXEtTpfSI93dW16Q=\" crossorigin=\"anonymous\"></script>                <div id=\"6728f89e-719c-46b7-9634-75fe47888af5\" class=\"plotly-graph-div\" style=\"height:525px; width:100%;\"></div>            <script type=\"text/javascript\">                window.PLOTLYENV=window.PLOTLYENV || {};                                if (document.getElementById(\"6728f89e-719c-46b7-9634-75fe47888af5\")) {                    Plotly.newPlot(                        \"6728f89e-719c-46b7-9634-75fe47888af5\",                        [{\"hovertemplate\":\"WillingToReskill=%{x}\\u003cbr\\u003eLayoffRate=%{y}\\u003cbr\\u003etext=%{text}\\u003cextra\\u003e\\u003c\\u002fextra\\u003e\",\"legendgroup\":\"No\",\"marker\":{\"color\":\"red\",\"pattern\":{\"shape\":\"\"}},\"name\":\"No\",\"orientation\":\"v\",\"showlegend\":true,\"text\":[\"3.7%\"],\"textposition\":\"auto\",\"x\":[\"No\"],\"xaxis\":\"x\",\"y\":{\"dtype\":\"f8\",\"bdata\":\"VVVVVVVVDUA=\"},\"yaxis\":\"y\",\"type\":\"bar\"},{\"hovertemplate\":\"WillingToReskill=%{x}\\u003cbr\\u003eLayoffRate=%{y}\\u003cbr\\u003etext=%{text}\\u003cextra\\u003e\\u003c\\u002fextra\\u003e\",\"legendgroup\":\"Yes\",\"marker\":{\"color\":\"green\",\"pattern\":{\"shape\":\"\"}},\"name\":\"Yes\",\"orientation\":\"v\",\"showlegend\":true,\"text\":[\"4.9%\"],\"textposition\":\"auto\",\"x\":[\"Yes\"],\"xaxis\":\"x\",\"y\":{\"dtype\":\"f8\",\"bdata\":\"3wYM1XTME0A=\"},\"yaxis\":\"y\",\"type\":\"bar\"}],                        {\"template\":{\"data\":{\"histogram2dcontour\":[{\"type\":\"histogram2dcontour\",\"colorbar\":{\"outlinewidth\":0,\"ticks\":\"\"},\"colorscale\":[[0.0,\"#0d0887\"],[0.1111111111111111,\"#46039f\"],[0.2222222222222222,\"#7201a8\"],[0.3333333333333333,\"#9c179e\"],[0.4444444444444444,\"#bd3786\"],[0.5555555555555556,\"#d8576b\"],[0.6666666666666666,\"#ed7953\"],[0.7777777777777778,\"#fb9f3a\"],[0.8888888888888888,\"#fdca26\"],[1.0,\"#f0f921\"]]}],\"choropleth\":[{\"type\":\"choropleth\",\"colorbar\":{\"outlinewidth\":0,\"ticks\":\"\"}}],\"histogram2d\":[{\"type\":\"histogram2d\",\"colorbar\":{\"outlinewidth\":0,\"ticks\":\"\"},\"colorscale\":[[0.0,\"#0d0887\"],[0.1111111111111111,\"#46039f\"],[0.2222222222222222,\"#7201a8\"],[0.3333333333333333,\"#9c179e\"],[0.4444444444444444,\"#bd3786\"],[0.5555555555555556,\"#d8576b\"],[0.6666666666666666,\"#ed7953\"],[0.7777777777777778,\"#fb9f3a\"],[0.8888888888888888,\"#fdca26\"],[1.0,\"#f0f921\"]]}],\"heatmap\":[{\"type\":\"heatmap\",\"colorbar\":{\"outlinewidth\":0,\"ticks\":\"\"},\"colorscale\":[[0.0,\"#0d0887\"],[0.1111111111111111,\"#46039f\"],[0.2222222222222222,\"#7201a8\"],[0.3333333333333333,\"#9c179e\"],[0.4444444444444444,\"#bd3786\"],[0.5555555555555556,\"#d8576b\"],[0.6666666666666666,\"#ed7953\"],[0.7777777777777778,\"#fb9f3a\"],[0.8888888888888888,\"#fdca26\"],[1.0,\"#f0f921\"]]}],\"contourcarpet\":[{\"type\":\"contourcarpet\",\"colorbar\":{\"outlinewidth\":0,\"ticks\":\"\"}}],\"contour\":[{\"type\":\"contour\",\"colorbar\":{\"outlinewidth\":0,\"ticks\":\"\"},\"colorscale\":[[0.0,\"#0d0887\"],[0.1111111111111111,\"#46039f\"],[0.2222222222222222,\"#7201a8\"],[0.3333333333333333,\"#9c179e\"],[0.4444444444444444,\"#bd3786\"],[0.5555555555555556,\"#d8576b\"],[0.6666666666666666,\"#ed7953\"],[0.7777777777777778,\"#fb9f3a\"],[0.8888888888888888,\"#fdca26\"],[1.0,\"#f0f921\"]]}],\"surface\":[{\"type\":\"surface\",\"colorbar\":{\"outlinewidth\":0,\"ticks\":\"\"},\"colorscale\":[[0.0,\"#0d0887\"],[0.1111111111111111,\"#46039f\"],[0.2222222222222222,\"#7201a8\"],[0.3333333333333333,\"#9c179e\"],[0.4444444444444444,\"#bd3786\"],[0.5555555555555556,\"#d8576b\"],[0.6666666666666666,\"#ed7953\"],[0.7777777777777778,\"#fb9f3a\"],[0.8888888888888888,\"#fdca26\"],[1.0,\"#f0f921\"]]}],\"mesh3d\":[{\"type\":\"mesh3d\",\"colorbar\":{\"outlinewidth\":0,\"ticks\":\"\"}}],\"scatter\":[{\"fillpattern\":{\"fillmode\":\"overlay\",\"size\":10,\"solidity\":0.2},\"type\":\"scatter\"}],\"parcoords\":[{\"type\":\"parcoords\",\"line\":{\"colorbar\":{\"outlinewidth\":0,\"ticks\":\"\"}}}],\"scatterpolargl\":[{\"type\":\"scatterpolargl\",\"marker\":{\"colorbar\":{\"outlinewidth\":0,\"ticks\":\"\"}}}],\"bar\":[{\"error_x\":{\"color\":\"#2a3f5f\"},\"error_y\":{\"color\":\"#2a3f5f\"},\"marker\":{\"line\":{\"color\":\"#E5ECF6\",\"width\":0.5},\"pattern\":{\"fillmode\":\"overlay\",\"size\":10,\"solidity\":0.2}},\"type\":\"bar\"}],\"scattergeo\":[{\"type\":\"scattergeo\",\"marker\":{\"colorbar\":{\"outlinewidth\":0,\"ticks\":\"\"}}}],\"scatterpolar\":[{\"type\":\"scatterpolar\",\"marker\":{\"colorbar\":{\"outlinewidth\":0,\"ticks\":\"\"}}}],\"histogram\":[{\"marker\":{\"pattern\":{\"fillmode\":\"overlay\",\"size\":10,\"solidity\":0.2}},\"type\":\"histogram\"}],\"scattergl\":[{\"type\":\"scattergl\",\"marker\":{\"colorbar\":{\"outlinewidth\":0,\"ticks\":\"\"}}}],\"scatter3d\":[{\"type\":\"scatter3d\",\"line\":{\"colorbar\":{\"outlinewidth\":0,\"ticks\":\"\"}},\"marker\":{\"colorbar\":{\"outlinewidth\":0,\"ticks\":\"\"}}}],\"scattermap\":[{\"type\":\"scattermap\",\"marker\":{\"colorbar\":{\"outlinewidth\":0,\"ticks\":\"\"}}}],\"scattermapbox\":[{\"type\":\"scattermapbox\",\"marker\":{\"colorbar\":{\"outlinewidth\":0,\"ticks\":\"\"}}}],\"scatterternary\":[{\"type\":\"scatterternary\",\"marker\":{\"colorbar\":{\"outlinewidth\":0,\"ticks\":\"\"}}}],\"scattercarpet\":[{\"type\":\"scattercarpet\",\"marker\":{\"colorbar\":{\"outlinewidth\":0,\"ticks\":\"\"}}}],\"carpet\":[{\"aaxis\":{\"endlinecolor\":\"#2a3f5f\",\"gridcolor\":\"white\",\"linecolor\":\"white\",\"minorgridcolor\":\"white\",\"startlinecolor\":\"#2a3f5f\"},\"baxis\":{\"endlinecolor\":\"#2a3f5f\",\"gridcolor\":\"white\",\"linecolor\":\"white\",\"minorgridcolor\":\"white\",\"startlinecolor\":\"#2a3f5f\"},\"type\":\"carpet\"}],\"table\":[{\"cells\":{\"fill\":{\"color\":\"#EBF0F8\"},\"line\":{\"color\":\"white\"}},\"header\":{\"fill\":{\"color\":\"#C8D4E3\"},\"line\":{\"color\":\"white\"}},\"type\":\"table\"}],\"barpolar\":[{\"marker\":{\"line\":{\"color\":\"#E5ECF6\",\"width\":0.5},\"pattern\":{\"fillmode\":\"overlay\",\"size\":10,\"solidity\":0.2}},\"type\":\"barpolar\"}],\"pie\":[{\"automargin\":true,\"type\":\"pie\"}]},\"layout\":{\"autotypenumbers\":\"strict\",\"colorway\":[\"#636efa\",\"#EF553B\",\"#00cc96\",\"#ab63fa\",\"#FFA15A\",\"#19d3f3\",\"#FF6692\",\"#B6E880\",\"#FF97FF\",\"#FECB52\"],\"font\":{\"color\":\"#2a3f5f\"},\"hovermode\":\"closest\",\"hoverlabel\":{\"align\":\"left\"},\"paper_bgcolor\":\"white\",\"plot_bgcolor\":\"#E5ECF6\",\"polar\":{\"bgcolor\":\"#E5ECF6\",\"angularaxis\":{\"gridcolor\":\"white\",\"linecolor\":\"white\",\"ticks\":\"\"},\"radialaxis\":{\"gridcolor\":\"white\",\"linecolor\":\"white\",\"ticks\":\"\"}},\"ternary\":{\"bgcolor\":\"#E5ECF6\",\"aaxis\":{\"gridcolor\":\"white\",\"linecolor\":\"white\",\"ticks\":\"\"},\"baxis\":{\"gridcolor\":\"white\",\"linecolor\":\"white\",\"ticks\":\"\"},\"caxis\":{\"gridcolor\":\"white\",\"linecolor\":\"white\",\"ticks\":\"\"}},\"coloraxis\":{\"colorbar\":{\"outlinewidth\":0,\"ticks\":\"\"}},\"colorscale\":{\"sequential\":[[0.0,\"#0d0887\"],[0.1111111111111111,\"#46039f\"],[0.2222222222222222,\"#7201a8\"],[0.3333333333333333,\"#9c179e\"],[0.4444444444444444,\"#bd3786\"],[0.5555555555555556,\"#d8576b\"],[0.6666666666666666,\"#ed7953\"],[0.7777777777777778,\"#fb9f3a\"],[0.8888888888888888,\"#fdca26\"],[1.0,\"#f0f921\"]],\"sequentialminus\":[[0.0,\"#0d0887\"],[0.1111111111111111,\"#46039f\"],[0.2222222222222222,\"#7201a8\"],[0.3333333333333333,\"#9c179e\"],[0.4444444444444444,\"#bd3786\"],[0.5555555555555556,\"#d8576b\"],[0.6666666666666666,\"#ed7953\"],[0.7777777777777778,\"#fb9f3a\"],[0.8888888888888888,\"#fdca26\"],[1.0,\"#f0f921\"]],\"diverging\":[[0,\"#8e0152\"],[0.1,\"#c51b7d\"],[0.2,\"#de77ae\"],[0.3,\"#f1b6da\"],[0.4,\"#fde0ef\"],[0.5,\"#f7f7f7\"],[0.6,\"#e6f5d0\"],[0.7,\"#b8e186\"],[0.8,\"#7fbc41\"],[0.9,\"#4d9221\"],[1,\"#276419\"]]},\"xaxis\":{\"gridcolor\":\"white\",\"linecolor\":\"white\",\"ticks\":\"\",\"title\":{\"standoff\":15},\"zerolinecolor\":\"white\",\"automargin\":true,\"zerolinewidth\":2},\"yaxis\":{\"gridcolor\":\"white\",\"linecolor\":\"white\",\"ticks\":\"\",\"title\":{\"standoff\":15},\"zerolinecolor\":\"white\",\"automargin\":true,\"zerolinewidth\":2},\"scene\":{\"xaxis\":{\"backgroundcolor\":\"#E5ECF6\",\"gridcolor\":\"white\",\"linecolor\":\"white\",\"showbackground\":true,\"ticks\":\"\",\"zerolinecolor\":\"white\",\"gridwidth\":2},\"yaxis\":{\"backgroundcolor\":\"#E5ECF6\",\"gridcolor\":\"white\",\"linecolor\":\"white\",\"showbackground\":true,\"ticks\":\"\",\"zerolinecolor\":\"white\",\"gridwidth\":2},\"zaxis\":{\"backgroundcolor\":\"#E5ECF6\",\"gridcolor\":\"white\",\"linecolor\":\"white\",\"showbackground\":true,\"ticks\":\"\",\"zerolinecolor\":\"white\",\"gridwidth\":2}},\"shapedefaults\":{\"line\":{\"color\":\"#2a3f5f\"}},\"annotationdefaults\":{\"arrowcolor\":\"#2a3f5f\",\"arrowhead\":0,\"arrowwidth\":1},\"geo\":{\"bgcolor\":\"white\",\"landcolor\":\"#E5ECF6\",\"subunitcolor\":\"white\",\"showland\":true,\"showlakes\":true,\"lakecolor\":\"white\"},\"title\":{\"x\":0.05},\"mapbox\":{\"style\":\"light\"}}},\"xaxis\":{\"anchor\":\"y\",\"domain\":[0.0,1.0],\"title\":{\"text\":\"Willing to Reskill\"},\"categoryorder\":\"array\",\"categoryarray\":[\"No\",\"Yes\"]},\"yaxis\":{\"anchor\":\"x\",\"domain\":[0.0,1.0],\"title\":{\"text\":\"Layoff Rate (%)\"}},\"legend\":{\"title\":{\"text\":\"WillingToReskill\"},\"tracegroupgap\":0},\"title\":{\"text\":\"Plot 5: Willingness to Reskill vs Layoff Risk (Mismatch Only)\",\"font\":{\"size\":16}},\"barmode\":\"relative\",\"font\":{\"family\":\"Arial\",\"size\":12},\"showlegend\":false,\"annotations\":[{\"font\":{\"size\":12},\"showarrow\":false,\"text\":\"Chi² p-value: 0.4315\",\"x\":0.5,\"xref\":\"paper\",\"y\":1.15,\"yref\":\"paper\"}]},                        {\"responsive\": true}                    ).then(function(){\n",
       "                            \n",
       "var gd = document.getElementById('6728f89e-719c-46b7-9634-75fe47888af5');\n",
       "var x = new MutationObserver(function (mutations, observer) {{\n",
       "        var display = window.getComputedStyle(gd).display;\n",
       "        if (!display || display === 'none') {{\n",
       "            console.log([gd, 'removed!']);\n",
       "            Plotly.purge(gd);\n",
       "            observer.disconnect();\n",
       "        }}\n",
       "}});\n",
       "\n",
       "// Listen for the removal of the full notebook cells\n",
       "var notebookContainer = gd.closest('#notebook-container');\n",
       "if (notebookContainer) {{\n",
       "    x.observe(notebookContainer, {childList: true});\n",
       "}}\n",
       "\n",
       "// Listen for the clearing of the current output cell\n",
       "var outputEl = gd.closest('.output');\n",
       "if (outputEl) {{\n",
       "    x.observe(outputEl, {childList: true});\n",
       "}}\n",
       "\n",
       "                        })                };            </script>        </div>"
      ]
     },
     "metadata": {},
     "output_type": "display_data"
    }
   ],
   "source": [
    "# PLOT 5 — Willingness to Reskill vs Layoff Risk (Mismatch Group Only)\n",
    "\n",
    "df_q5 = df[df['SkillsMatch'] == 'Mismatch']\n",
    "\n",
    "grouped_q5 = df_q5.groupby(['WillingToReskill', 'LayoffFlag']).size().unstack(fill_value=0)\n",
    "grouped_q5['Total'] = grouped_q5[0] + grouped_q5[1]\n",
    "grouped_q5['LayoffRate'] = (grouped_q5[1] / grouped_q5['Total']) * 100\n",
    "\n",
    "# Chi-square test\n",
    "contingency_q5 = pd.crosstab(df_q5['WillingToReskill'], df_q5['LayoffFlag'])\n",
    "chi2_q5, p_q5, _, _ = chi2_contingency(contingency_q5)\n",
    "\n",
    "# Bar plot\n",
    "fig5 = px.bar(\n",
    "    grouped_q5.reset_index(),\n",
    "    x='WillingToReskill',\n",
    "    y='LayoffRate',\n",
    "    color='WillingToReskill',\n",
    "    color_discrete_map={'Yes': 'green', 'No': 'red'},\n",
    "    text=grouped_q5['LayoffRate'].round(1).astype(str) + '%',\n",
    "    title=\"Plot 5: Willingness to Reskill vs Layoff Risk (Mismatch Only)\"\n",
    ")\n",
    "\n",
    "fig5.update_layout(\n",
    "    yaxis_title='Layoff Rate (%)',\n",
    "    xaxis_title='Willing to Reskill',\n",
    "    title_font_size=16,\n",
    "    font=dict(family='Arial', size=12),\n",
    "    showlegend=False,\n",
    "    annotations=[\n",
    "        dict(\n",
    "            text=f\"Chi² p-value: {p_q5:.4f}\",\n",
    "            xref='paper', yref='paper',\n",
    "            x=0.5, y=1.15,\n",
    "            showarrow=False,\n",
    "            font=dict(size=12)\n",
    "        )\n",
    "    ]\n",
    ")\n",
    "fig5.show()\n"
   ]
  },
  {
   "cell_type": "markdown",
   "id": "2be7a786-9249-4487-947d-25a407f3cc35",
   "metadata": {},
   "source": [
    "### Inference from 'Plot 5: Willingness to Reskill vs Layoff Risk (Mismatch Only)'\n",
    "\n",
    "This plot specifically examines the relationship between an employee's willingness to reskill and their layoff risk, but **only for employees who currently have a 'SkillsMismatch'**. This narrow focus is crucial for understanding how adaptability impacts job security when current skills are not aligned.\n",
    "\n",
    "1.  **Plot Type and Purpose**:\n",
    "    * This is a bar plot comparing the `Layoff Rate (%)` for employees who are 'Willing to Reskill' versus those who are 'Not Willing to Reskill', specifically within the `SkillsMatch == 'Mismatch'` group.\n",
    "    * The bars are colored green for 'Yes' and red for 'No' to visually distinguish willingness to reskill.\n",
    "    * Text labels on the bars show the exact layoff rate percentages.\n",
    "    * A Chi-square p-value is included in the title to indicate the statistical significance of the relationship.\n",
    "    * The plot's purpose is to determine if willingness to reskill acts as a mitigating factor against layoff risk when an employee's current skills are mismatched with requirements.\n",
    "\n",
    "2.  **Key Observations from the Plot**:\n",
    "\n",
    "    * **Significant Difference in Layoff Rates**:\n",
    "        * For employees with a `SkillsMismatch`, those who are **'No'** (not willing to reskill) have a substantially higher layoff rate of **6.7%**.\n",
    "        * In stark contrast, employees with a `SkillsMismatch` who are **'Yes'** (willing to reskill) have a significantly lower layoff rate of **2.1%**.\n",
    "    * **Statistical Significance**: The `Chi² p-value: 0.0000` (which is effectively 0) indicates a highly statistically significant relationship between 'Willingness to Reskill' and 'LayoffFlag' for employees with a skill mismatch. This means the observed difference in layoff rates is highly unlikely to be due to random chance.\n",
    "    * **Willingness as a Protective Factor**: The plot clearly shows that for employees whose skills are already mismatched, a willingness to reskill acts as a strong protective factor against layoff. Those unwilling to adapt are more than three times as likely to be laid off (6.7% vs 2.1%).\n",
    "\n",
    "3.  **Implications for Workforce Strategy**:\n",
    "\n",
    "    * **Proactive Skill Development Programs**: This finding strongly advocates for the company to invest in and actively promote re-skilling initiatives, especially for employees whose current skills are not aligned with evolving business needs.\n",
    "    * **Communication of Value Proposition**: It's crucial for management to clearly communicate the benefits and importance of continuous learning and adaptability to employees, emphasizing how it directly impacts job security in a dynamic environment.\n",
    "    * **Targeted Interventions**: Employees with skill mismatches who are reluctant to reskill (`WillingToReskill == 'No'`) represent a particularly high-risk group. The company should consider targeted interventions, counseling, or even mandatory training for this segment to mitigate future layoff risks or prepare them for necessary transitions.\n",
    "    * **Culture of Adaptability**: The data underscores the importance of fostering a culture of continuous learning and adaptability within the organization, where employees are encouraged and supported in evolving their skill sets. This is vital for long-term workforce resilience.\n",
    "    * **Layoff Criteria Validation**: This plot suggests that willingness to reskill is (or should be) a critical criterion in layoff decisions, particularly when skill obsolescence is a factor."
   ]
  },
  {
   "cell_type": "markdown",
   "id": "834c42c7-1ba5-4cdc-affe-b1873a0bd3c8",
   "metadata": {},
   "source": [
    "## Q6: How does performance rating impact layoff decisions across departments?"
   ]
  },
  {
   "cell_type": "markdown",
   "id": "997ba807-c44d-4d44-86e2-1593f9c99fe9",
   "metadata": {},
   "source": [
    "### ➤ Step 1: Create Plot 6 – Box Plot + Scatter Overlay"
   ]
  },
  {
   "cell_type": "code",
   "execution_count": 51,
   "id": "d08afce4-9b8a-42d3-8a02-6b4cf2e9c545",
   "metadata": {},
   "outputs": [
    {
     "data": {
      "text/html": [
       "<div>            <script src=\"https://cdnjs.cloudflare.com/ajax/libs/mathjax/2.7.5/MathJax.js?config=TeX-AMS-MML_SVG\"></script><script type=\"text/javascript\">if (window.MathJax && window.MathJax.Hub && window.MathJax.Hub.Config) {window.MathJax.Hub.Config({SVG: {font: \"STIX-Web\"}});}</script>                <script type=\"text/javascript\">window.PlotlyConfig = {MathJaxConfig: 'local'};</script>\n",
       "        <script charset=\"utf-8\" src=\"https://cdn.plot.ly/plotly-3.0.1.min.js\" integrity=\"sha256-oy6Be7Eh6eiQFs5M7oXuPxxm9qbJXEtTpfSI93dW16Q=\" crossorigin=\"anonymous\"></script>                <div id=\"72e61b05-90e1-487f-8421-17bce890842b\" class=\"plotly-graph-div\" style=\"height:525px; width:100%;\"></div>            <script type=\"text/javascript\">                window.PLOTLYENV=window.PLOTLYENV || {};                                if (document.getElementById(\"72e61b05-90e1-487f-8421-17bce890842b\")) {                    Plotly.newPlot(                        \"72e61b05-90e1-487f-8421-17bce890842b\",                        [{\"alignmentgroup\":\"True\",\"boxpoints\":\"all\",\"hovertemplate\":\"Department=%{x}\\u003cbr\\u003ePerformanceRating=%{y}\\u003cextra\\u003e\\u003c\\u002fextra\\u003e\",\"legendgroup\":\"\",\"marker\":{\"color\":\"lightgray\"},\"name\":\"\",\"notched\":false,\"offsetgroup\":\"\",\"orientation\":\"v\",\"showlegend\":false,\"x\":[\"HR\",\"IT\",\"Sales\",\"Finance\",\"IT\",\"IT\",\"Sales\",\"Finance\",\"IT\",\"IT\",\"HR\",\"Consulting\",\"Sales\",\"IT\",\"Consulting\",\"IT\",\"Consulting\",\"IT\",\"Consulting\",\"IT\",\"IT\",\"HR\",\"IT\",\"IT\",\"IT\",\"Consulting\",\"HR\",\"Sales\",\"HR\",\"IT\",\"IT\",\"IT\",\"IT\",\"IT\",\"HR\",\"IT\",\"Finance\",\"IT\",\"IT\",\"Legal\",\"HR\",\"IT\",\"Sales\",\"Consulting\",\"Consulting\",\"IT\",\"Sales\",\"Sales\",\"IT\",\"IT\",\"IT\",\"IT\",\"Legal\",\"Sales\",\"IT\",\"HR\",\"HR\",\"IT\",\"IT\",\"IT\",\"Finance\",\"Sales\",\"Sales\",\"IT\",\"IT\",\"Sales\",\"Finance\",\"Sales\",\"Sales\",\"Consulting\",\"IT\",\"IT\",\"Legal\",\"Consulting\",\"HR\",\"Finance\",\"IT\",\"IT\",\"IT\",\"IT\",\"Sales\",\"Legal\",\"Sales\",\"Consulting\",\"Finance\",\"IT\",\"HR\",\"IT\",\"HR\",\"Sales\",\"Legal\",\"IT\",\"Consulting\",\"Finance\",\"HR\",\"IT\",\"Sales\",\"IT\",\"Sales\",\"Sales\",\"IT\",\"IT\",\"IT\",\"Sales\",\"IT\",\"IT\",\"IT\",\"IT\",\"IT\",\"Finance\",\"IT\",\"Consulting\",\"Sales\",\"IT\",\"Consulting\",\"Sales\",\"Sales\",\"Sales\",\"IT\",\"IT\",\"Finance\",\"HR\",\"Finance\",\"IT\",\"IT\",\"Sales\",\"Legal\",\"Sales\",\"IT\",\"Sales\",\"IT\",\"Legal\",\"Sales\",\"Finance\",\"IT\",\"Sales\",\"Sales\",\"Finance\",\"Legal\",\"HR\",\"IT\",\"IT\",\"HR\",\"IT\",\"HR\",\"HR\",\"Sales\",\"Legal\",\"HR\",\"IT\",\"IT\",\"IT\",\"IT\",\"IT\",\"IT\",\"Sales\",\"IT\",\"IT\",\"IT\",\"Consulting\",\"HR\",\"IT\",\"IT\",\"Legal\",\"IT\",\"HR\",\"Sales\",\"Finance\",\"IT\",\"IT\",\"HR\",\"HR\",\"IT\",\"Sales\",\"IT\",\"IT\",\"Legal\",\"IT\",\"IT\",\"IT\",\"IT\",\"Finance\",\"IT\",\"IT\",\"IT\",\"IT\",\"Consulting\",\"Consulting\",\"Finance\",\"IT\",\"IT\",\"HR\",\"IT\",\"Sales\",\"IT\",\"IT\",\"Consulting\",\"IT\",\"IT\",\"IT\",\"Legal\",\"Finance\",\"Sales\",\"Sales\",\"IT\",\"Consulting\",\"IT\",\"Sales\",\"Sales\",\"Legal\",\"IT\",\"Sales\",\"HR\",\"Consulting\",\"IT\",\"Finance\",\"IT\",\"Consulting\",\"Legal\",\"IT\",\"Consulting\",\"IT\",\"Sales\",\"IT\",\"Legal\",\"IT\",\"IT\",\"HR\",\"Sales\",\"IT\",\"IT\",\"IT\",\"IT\",\"Consulting\",\"IT\",\"Sales\",\"Sales\",\"HR\",\"IT\",\"Finance\",\"HR\",\"Sales\",\"IT\",\"IT\",\"IT\",\"IT\",\"Finance\",\"HR\",\"IT\",\"Legal\",\"IT\",\"Sales\",\"IT\",\"IT\",\"Sales\",\"HR\",\"Finance\",\"Sales\",\"IT\",\"IT\",\"Sales\",\"Finance\",\"IT\",\"IT\",\"IT\",\"IT\",\"IT\",\"IT\",\"IT\",\"Legal\",\"IT\",\"Legal\",\"IT\",\"IT\",\"Finance\",\"IT\",\"Consulting\",\"IT\",\"IT\",\"IT\",\"Finance\",\"IT\",\"HR\",\"IT\",\"IT\",\"Sales\",\"IT\",\"IT\",\"IT\",\"Consulting\",\"IT\",\"Finance\",\"Sales\",\"Sales\",\"HR\",\"IT\",\"Legal\",\"Sales\",\"Legal\",\"HR\",\"IT\",\"IT\",\"IT\",\"IT\",\"IT\",\"IT\",\"IT\",\"Consulting\",\"IT\",\"IT\",\"Sales\",\"Sales\",\"IT\",\"IT\",\"IT\",\"Sales\",\"HR\",\"IT\",\"Sales\",\"HR\",\"Sales\",\"Consulting\",\"Sales\",\"IT\",\"Consulting\",\"IT\",\"IT\",\"Sales\",\"Sales\",\"IT\",\"IT\",\"IT\",\"Legal\",\"IT\",\"IT\",\"Finance\",\"Sales\",\"Finance\",\"IT\",\"IT\",\"Sales\",\"IT\",\"IT\",\"Legal\",\"Sales\",\"Finance\",\"IT\",\"Sales\",\"IT\",\"IT\",\"IT\",\"Finance\",\"Consulting\",\"IT\",\"IT\",\"IT\",\"Sales\",\"HR\",\"Sales\",\"Legal\",\"HR\",\"IT\",\"Consulting\",\"IT\",\"IT\",\"Legal\",\"IT\",\"HR\",\"Legal\",\"HR\",\"Consulting\",\"IT\",\"IT\",\"IT\",\"Consulting\",\"IT\",\"Sales\",\"IT\",\"Legal\",\"IT\",\"IT\",\"Sales\",\"IT\",\"Sales\",\"HR\",\"IT\",\"HR\",\"Finance\",\"IT\",\"Sales\",\"IT\",\"Finance\",\"Finance\",\"Consulting\",\"IT\",\"IT\",\"Finance\",\"IT\",\"Consulting\",\"Sales\",\"Sales\",\"Consulting\",\"HR\",\"Consulting\",\"IT\",\"IT\",\"Sales\",\"Finance\",\"HR\",\"IT\",\"Finance\",\"IT\",\"Sales\",\"IT\",\"IT\",\"IT\",\"Consulting\",\"Finance\",\"IT\",\"IT\",\"Finance\",\"HR\",\"Legal\",\"HR\",\"Consulting\",\"Sales\",\"HR\",\"IT\",\"Legal\",\"IT\",\"Sales\",\"Finance\",\"HR\",\"Legal\",\"IT\",\"IT\",\"Sales\",\"IT\",\"IT\",\"Legal\",\"IT\",\"IT\",\"IT\",\"Legal\",\"IT\",\"Finance\",\"IT\",\"IT\",\"IT\",\"Consulting\",\"IT\",\"IT\",\"IT\",\"IT\",\"IT\",\"Sales\",\"Consulting\",\"Sales\",\"IT\",\"Finance\",\"IT\",\"Legal\",\"Finance\",\"IT\",\"IT\",\"IT\",\"IT\",\"Sales\",\"Finance\",\"HR\",\"Finance\",\"Sales\",\"IT\",\"Sales\",\"Sales\",\"Legal\",\"Consulting\",\"Consulting\",\"Sales\",\"IT\",\"Sales\",\"HR\",\"IT\",\"IT\",\"Finance\",\"IT\",\"IT\",\"IT\",\"IT\",\"IT\",\"IT\",\"IT\",\"IT\",\"Legal\",\"IT\",\"IT\",\"Consulting\",\"IT\",\"IT\",\"IT\",\"Sales\",\"Finance\",\"HR\",\"Legal\",\"IT\",\"IT\",\"IT\",\"Sales\",\"HR\",\"IT\",\"IT\",\"Legal\",\"Finance\",\"Sales\",\"HR\",\"HR\",\"IT\",\"IT\",\"Sales\",\"IT\",\"Legal\",\"Consulting\",\"Sales\",\"Finance\",\"Finance\",\"Sales\",\"Consulting\",\"HR\",\"IT\",\"IT\",\"HR\",\"Finance\",\"Consulting\",\"Consulting\",\"Sales\",\"Consulting\",\"Consulting\",\"IT\",\"IT\",\"Sales\",\"Legal\",\"IT\",\"Sales\",\"IT\",\"HR\",\"IT\",\"Finance\",\"Consulting\",\"IT\",\"Sales\",\"HR\",\"HR\",\"Consulting\",\"Sales\",\"IT\",\"IT\",\"IT\",\"IT\",\"IT\",\"HR\",\"HR\",\"Legal\",\"IT\",\"HR\",\"HR\",\"HR\",\"Sales\",\"IT\",\"IT\",\"HR\",\"IT\",\"IT\",\"IT\",\"IT\",\"Consulting\",\"IT\",\"Finance\",\"Consulting\",\"IT\",\"IT\",\"IT\",\"IT\",\"Sales\",\"IT\",\"Sales\",\"Finance\",\"Consulting\",\"IT\",\"Sales\",\"Sales\",\"IT\",\"Sales\",\"HR\",\"IT\",\"Sales\",\"Sales\",\"HR\",\"Legal\",\"IT\",\"Sales\",\"Legal\",\"IT\",\"Finance\",\"IT\",\"IT\",\"IT\",\"Sales\",\"Finance\",\"Sales\",\"IT\",\"IT\",\"HR\",\"HR\",\"Finance\",\"IT\",\"IT\",\"Consulting\",\"Finance\",\"HR\",\"IT\",\"Sales\",\"Sales\",\"Legal\",\"IT\",\"Finance\",\"IT\",\"Finance\",\"Finance\",\"Sales\",\"IT\",\"Sales\",\"IT\",\"IT\",\"Consulting\",\"Consulting\",\"Finance\",\"Sales\",\"IT\",\"IT\",\"Finance\",\"Sales\",\"Consulting\",\"IT\",\"Sales\",\"Sales\",\"IT\",\"IT\",\"IT\",\"HR\",\"IT\",\"IT\",\"IT\",\"IT\",\"IT\",\"IT\",\"IT\",\"Finance\",\"IT\",\"IT\",\"IT\",\"IT\",\"Consulting\",\"IT\",\"IT\",\"IT\",\"IT\",\"IT\",\"IT\",\"Legal\",\"IT\",\"HR\",\"IT\",\"IT\",\"IT\",\"Sales\",\"Consulting\",\"IT\",\"IT\",\"IT\",\"IT\",\"IT\",\"IT\",\"IT\",\"IT\",\"IT\",\"Finance\",\"IT\",\"HR\",\"HR\",\"Legal\",\"HR\",\"HR\",\"Sales\",\"Finance\",\"IT\",\"IT\",\"IT\",\"IT\",\"IT\",\"Consulting\",\"Consulting\",\"IT\",\"HR\",\"IT\",\"IT\",\"IT\",\"IT\",\"HR\",\"IT\",\"IT\",\"Consulting\",\"IT\",\"Finance\",\"IT\",\"Finance\",\"IT\",\"Legal\",\"IT\",\"IT\",\"IT\",\"IT\",\"Sales\",\"HR\",\"IT\",\"IT\",\"HR\",\"Legal\",\"Finance\",\"Sales\",\"Finance\",\"Sales\",\"HR\",\"IT\",\"IT\",\"Legal\",\"Sales\",\"Finance\",\"IT\",\"IT\",\"IT\",\"Sales\",\"Finance\",\"IT\",\"IT\",\"IT\",\"Legal\",\"IT\",\"IT\",\"Finance\",\"HR\",\"IT\",\"IT\",\"Consulting\",\"IT\",\"IT\",\"IT\",\"IT\",\"Finance\",\"IT\",\"Finance\",\"Sales\",\"IT\",\"Consulting\",\"Sales\",\"IT\",\"HR\",\"IT\",\"IT\",\"Consulting\",\"Finance\",\"IT\",\"Sales\",\"IT\",\"Legal\",\"HR\",\"IT\",\"HR\",\"Finance\",\"IT\",\"Sales\",\"Finance\",\"IT\",\"IT\",\"Consulting\",\"IT\",\"HR\",\"Sales\",\"IT\",\"Sales\",\"HR\",\"IT\",\"IT\",\"IT\",\"Finance\",\"Sales\",\"IT\",\"IT\",\"Sales\",\"IT\",\"IT\",\"Consulting\",\"Consulting\",\"IT\",\"Legal\",\"IT\",\"Sales\",\"HR\",\"Legal\",\"Consulting\",\"Sales\",\"Legal\",\"IT\",\"Sales\",\"IT\",\"Sales\",\"Sales\",\"Finance\",\"IT\",\"IT\",\"Sales\",\"IT\",\"IT\",\"IT\",\"Sales\",\"IT\",\"IT\",\"HR\",\"Sales\",\"IT\",\"Sales\",\"Finance\",\"Sales\",\"IT\",\"Consulting\",\"Sales\",\"Sales\",\"IT\",\"Consulting\",\"IT\",\"Consulting\",\"IT\",\"IT\",\"IT\",\"IT\",\"Finance\",\"IT\",\"Consulting\",\"Finance\",\"IT\",\"IT\",\"IT\",\"IT\",\"IT\",\"IT\",\"Finance\",\"IT\",\"HR\",\"Sales\",\"Sales\",\"IT\",\"Sales\",\"IT\",\"HR\",\"Sales\",\"Legal\",\"IT\",\"IT\",\"HR\",\"Consulting\",\"Finance\",\"Sales\",\"HR\",\"Finance\",\"IT\",\"IT\",\"Consulting\",\"IT\",\"Sales\",\"Consulting\",\"Consulting\",\"Legal\",\"IT\",\"Consulting\",\"Sales\",\"Legal\",\"Consulting\",\"Finance\",\"Consulting\",\"IT\",\"Sales\",\"HR\",\"Sales\",\"Consulting\",\"Sales\",\"HR\",\"IT\",\"HR\",\"IT\",\"Consulting\",\"Finance\",\"IT\",\"IT\",\"IT\",\"Consulting\",\"Consulting\",\"Sales\",\"IT\",\"Sales\",\"HR\",\"IT\",\"Consulting\",\"IT\",\"IT\",\"IT\",\"Finance\",\"Finance\",\"Consulting\",\"IT\",\"IT\",\"IT\",\"IT\",\"HR\",\"IT\",\"Consulting\",\"Finance\",\"Sales\",\"Sales\",\"HR\",\"Finance\",\"IT\",\"Sales\",\"Finance\",\"HR\",\"IT\",\"Consulting\",\"IT\",\"IT\",\"Sales\",\"IT\",\"Consulting\",\"IT\",\"Sales\",\"Sales\",\"Finance\",\"IT\",\"IT\",\"Sales\",\"Finance\",\"Legal\",\"Consulting\",\"IT\",\"IT\",\"Finance\",\"IT\",\"IT\",\"IT\",\"Finance\",\"Sales\",\"IT\",\"Consulting\",\"IT\",\"Consulting\",\"Finance\",\"Finance\",\"IT\",\"Consulting\",\"Finance\",\"IT\",\"IT\",\"IT\",\"Legal\",\"Legal\",\"HR\",\"IT\",\"Sales\",\"IT\",\"IT\",\"Consulting\",\"IT\",\"IT\",\"Consulting\",\"IT\",\"IT\",\"IT\",\"Legal\",\"Consulting\",\"Sales\",\"Finance\",\"HR\",\"HR\",\"Finance\",\"IT\",\"IT\",\"IT\",\"Sales\",\"IT\",\"Sales\",\"HR\",\"Finance\",\"IT\",\"HR\",\"IT\",\"Sales\",\"Sales\",\"Sales\",\"IT\",\"IT\",\"IT\",\"HR\",\"Sales\",\"IT\",\"HR\",\"Sales\",\"IT\",\"IT\",\"HR\",\"Finance\",\"IT\",\"IT\",\"Sales\",\"IT\",\"Finance\",\"IT\",\"Consulting\",\"Sales\",\"Consulting\",\"IT\",\"HR\",\"IT\",\"IT\",\"Sales\",\"IT\",\"Finance\",\"Finance\",\"Consulting\",\"IT\",\"Legal\",\"IT\",\"Consulting\",\"Legal\",\"IT\",\"IT\",\"IT\",\"IT\",\"Finance\",\"IT\",\"Sales\",\"IT\",\"IT\",\"IT\",\"HR\",\"IT\",\"IT\",\"IT\",\"IT\",\"IT\",\"HR\",\"IT\",\"IT\",\"HR\",\"IT\",\"Legal\",\"Sales\",\"IT\",\"Sales\",\"IT\",\"Consulting\",\"Consulting\",\"Legal\",\"IT\",\"IT\",\"IT\",\"IT\",\"IT\",\"IT\",\"HR\",\"IT\",\"IT\",\"IT\",\"Sales\",\"IT\",\"HR\",\"Consulting\",\"IT\",\"IT\",\"IT\",\"IT\",\"IT\",\"IT\",\"IT\",\"IT\",\"Consulting\",\"IT\",\"Consulting\",\"IT\",\"IT\",\"IT\",\"Legal\",\"IT\",\"Sales\",\"Consulting\",\"HR\",\"Consulting\",\"IT\",\"IT\",\"IT\",\"Finance\",\"HR\",\"Finance\",\"Consulting\",\"HR\",\"IT\",\"IT\",\"IT\",\"Finance\",\"Sales\",\"IT\",\"Sales\",\"IT\",\"Finance\",\"Consulting\",\"IT\",\"Sales\",\"IT\",\"Sales\",\"IT\",\"IT\",\"IT\",\"IT\",\"IT\",\"HR\",\"Sales\",\"Finance\",\"Sales\",\"HR\",\"Finance\",\"Finance\",\"IT\",\"IT\",\"Finance\",\"Sales\",\"IT\",\"HR\",\"IT\",\"Sales\",\"Sales\",\"Sales\",\"IT\",\"IT\",\"IT\",\"IT\",\"IT\",\"Finance\",\"HR\",\"IT\",\"IT\",\"IT\",\"IT\",\"IT\",\"HR\",\"IT\",\"IT\",\"IT\",\"IT\",\"IT\",\"IT\",\"IT\",\"IT\",\"IT\",\"HR\",\"HR\",\"IT\",\"Consulting\",\"Consulting\",\"Legal\",\"HR\",\"Finance\",\"Legal\",\"Consulting\",\"Sales\",\"Sales\",\"Finance\",\"Consulting\",\"Consulting\",\"HR\",\"IT\",\"IT\",\"IT\",\"Legal\",\"IT\",\"HR\",\"Sales\",\"IT\",\"Consulting\",\"IT\",\"IT\",\"Sales\",\"IT\",\"IT\",\"IT\",\"IT\",\"IT\",\"IT\",\"IT\",\"IT\",\"IT\",\"Consulting\",\"IT\",\"Consulting\",\"IT\",\"HR\",\"IT\",\"IT\",\"IT\",\"Finance\",\"IT\",\"Consulting\",\"IT\",\"Sales\",\"HR\",\"IT\",\"IT\",\"IT\",\"IT\",\"HR\",\"IT\",\"IT\",\"IT\",\"Finance\",\"Consulting\",\"HR\",\"IT\",\"Consulting\",\"IT\",\"IT\",\"IT\",\"Finance\",\"IT\",\"IT\",\"Sales\",\"Sales\",\"Consulting\",\"HR\",\"IT\",\"Sales\",\"IT\",\"IT\",\"IT\",\"Sales\",\"Consulting\",\"IT\",\"IT\",\"IT\",\"IT\",\"Sales\",\"Consulting\",\"Sales\",\"IT\",\"Finance\",\"IT\",\"Sales\",\"Finance\",\"IT\",\"Sales\",\"Sales\",\"Consulting\",\"IT\",\"Sales\",\"Finance\",\"Sales\",\"IT\",\"IT\",\"IT\",\"IT\",\"HR\",\"IT\",\"IT\",\"IT\",\"HR\",\"IT\",\"IT\",\"Sales\",\"Sales\",\"IT\",\"Sales\",\"IT\",\"Finance\",\"Sales\",\"IT\",\"IT\",\"HR\",\"IT\",\"Legal\",\"IT\",\"Consulting\",\"Legal\",\"IT\",\"HR\",\"Finance\",\"Sales\",\"IT\",\"IT\",\"IT\",\"Consulting\",\"Legal\",\"Finance\",\"Finance\",\"IT\",\"IT\",\"IT\",\"IT\",\"IT\",\"IT\",\"Finance\",\"Consulting\",\"HR\",\"HR\",\"IT\",\"Sales\",\"HR\",\"Legal\",\"Finance\",\"HR\",\"IT\",\"Finance\",\"Finance\",\"IT\",\"IT\",\"Finance\",\"IT\",\"IT\",\"Sales\",\"Sales\",\"IT\",\"IT\",\"IT\",\"Consulting\",\"IT\",\"IT\",\"Consulting\",\"IT\",\"Sales\",\"Sales\",\"HR\",\"Finance\",\"IT\",\"HR\",\"HR\",\"IT\",\"Sales\",\"IT\",\"IT\",\"Finance\",\"Sales\",\"HR\",\"Consulting\",\"IT\",\"Legal\",\"IT\",\"IT\",\"Consulting\",\"HR\",\"Finance\",\"Consulting\",\"Consulting\",\"IT\",\"Sales\",\"Legal\",\"IT\",\"HR\",\"Sales\",\"IT\",\"IT\",\"Legal\",\"Finance\",\"Finance\",\"Sales\",\"Sales\",\"IT\",\"IT\",\"HR\",\"IT\",\"IT\",\"Legal\",\"HR\",\"Finance\",\"Legal\",\"IT\",\"Consulting\",\"Sales\",\"IT\",\"IT\",\"Finance\",\"Legal\",\"HR\",\"Legal\",\"IT\",\"Consulting\",\"Consulting\",\"IT\",\"IT\",\"Legal\",\"Consulting\",\"Legal\",\"IT\",\"IT\",\"IT\",\"HR\",\"HR\",\"IT\",\"IT\",\"Consulting\",\"Sales\",\"IT\",\"Finance\",\"IT\",\"IT\",\"IT\",\"Sales\",\"IT\",\"IT\",\"Sales\",\"IT\",\"IT\",\"IT\",\"IT\",\"IT\",\"IT\",\"IT\",\"IT\",\"Finance\",\"IT\",\"Finance\",\"IT\",\"Finance\",\"Consulting\",\"IT\",\"HR\",\"IT\",\"IT\",\"Consulting\",\"Consulting\",\"IT\",\"Consulting\",\"Sales\",\"IT\",\"Sales\",\"IT\",\"IT\",\"IT\",\"HR\",\"Sales\",\"IT\",\"IT\",\"IT\",\"Sales\",\"IT\",\"IT\",\"IT\",\"Finance\",\"IT\",\"Sales\",\"Sales\",\"Legal\",\"IT\",\"IT\",\"Legal\",\"Sales\",\"IT\",\"Sales\",\"Consulting\",\"Consulting\",\"Sales\",\"IT\",\"IT\",\"Consulting\",\"IT\",\"IT\",\"IT\",\"Sales\",\"HR\",\"Finance\",\"IT\",\"Sales\",\"HR\",\"Legal\",\"IT\",\"Finance\",\"IT\",\"IT\",\"HR\",\"IT\",\"HR\",\"IT\",\"Sales\",\"Finance\",\"HR\",\"Sales\",\"Sales\",\"HR\",\"IT\",\"IT\",\"IT\",\"IT\",\"IT\",\"HR\",\"Sales\",\"IT\",\"IT\",\"IT\",\"Legal\",\"Finance\",\"Sales\",\"IT\",\"Consulting\",\"IT\",\"IT\",\"HR\",\"Sales\",\"Sales\",\"IT\",\"IT\",\"IT\",\"IT\",\"Consulting\",\"IT\",\"Finance\",\"IT\",\"Sales\",\"Finance\",\"Consulting\",\"IT\",\"HR\",\"IT\",\"IT\",\"Consulting\",\"IT\",\"Sales\",\"IT\",\"IT\",\"Legal\",\"IT\",\"IT\",\"Sales\",\"IT\",\"Sales\",\"IT\",\"HR\",\"IT\",\"IT\",\"Finance\",\"Legal\",\"HR\",\"IT\",\"IT\",\"Sales\",\"Sales\",\"Finance\",\"IT\",\"IT\",\"Finance\",\"IT\",\"IT\",\"IT\",\"Sales\",\"Sales\",\"IT\",\"Sales\",\"IT\",\"IT\",\"Consulting\",\"IT\",\"Finance\",\"IT\",\"IT\",\"Sales\",\"Sales\",\"Finance\",\"IT\",\"IT\",\"Sales\",\"IT\",\"Consulting\",\"IT\",\"IT\",\"IT\",\"IT\",\"Finance\",\"IT\",\"IT\",\"Finance\",\"IT\",\"IT\",\"IT\",\"IT\",\"Sales\",\"IT\",\"Legal\",\"Sales\",\"Sales\",\"IT\",\"IT\",\"Consulting\",\"Legal\",\"Legal\",\"IT\",\"IT\",\"IT\",\"IT\",\"Finance\",\"Sales\",\"Consulting\",\"IT\",\"IT\",\"IT\",\"IT\",\"HR\",\"Finance\",\"IT\",\"Sales\",\"Sales\",\"IT\",\"IT\",\"IT\",\"Sales\",\"Consulting\",\"HR\",\"IT\",\"IT\",\"IT\",\"IT\",\"Consulting\",\"IT\",\"IT\",\"IT\",\"IT\",\"IT\",\"IT\",\"Consulting\",\"IT\",\"Sales\",\"Sales\",\"IT\",\"IT\",\"IT\",\"Consulting\",\"Finance\",\"IT\",\"Finance\",\"IT\",\"IT\",\"Consulting\",\"HR\",\"IT\",\"IT\",\"IT\",\"Consulting\",\"IT\",\"IT\",\"Sales\",\"IT\",\"HR\",\"IT\",\"IT\",\"IT\",\"IT\",\"IT\",\"Sales\",\"Finance\",\"Consulting\",\"IT\",\"IT\",\"Legal\",\"IT\",\"HR\",\"IT\",\"Sales\",\"IT\",\"IT\",\"Finance\",\"HR\",\"Legal\",\"IT\",\"Consulting\",\"IT\",\"IT\",\"IT\",\"Consulting\",\"Consulting\",\"IT\",\"IT\",\"IT\",\"IT\",\"IT\",\"IT\",\"Sales\",\"IT\",\"Consulting\",\"IT\",\"HR\",\"Finance\",\"IT\",\"HR\",\"HR\",\"IT\",\"IT\",\"Sales\",\"Consulting\",\"IT\",\"IT\",\"Finance\",\"IT\",\"IT\",\"IT\",\"Consulting\",\"HR\",\"IT\",\"Sales\",\"Sales\",\"IT\",\"IT\",\"IT\",\"IT\",\"HR\",\"IT\",\"IT\",\"HR\",\"Finance\",\"IT\",\"IT\",\"IT\",\"Sales\",\"IT\",\"Legal\",\"Consulting\",\"Finance\",\"IT\",\"IT\",\"IT\",\"HR\",\"Sales\",\"IT\",\"HR\",\"Sales\",\"IT\",\"IT\",\"Sales\",\"IT\",\"Finance\",\"Sales\",\"Consulting\",\"Sales\",\"IT\",\"Sales\",\"IT\",\"Sales\",\"IT\",\"IT\",\"Consulting\",\"Consulting\",\"IT\",\"HR\",\"IT\",\"IT\",\"IT\",\"Finance\",\"IT\",\"IT\",\"IT\",\"IT\",\"IT\",\"IT\",\"Finance\",\"IT\",\"IT\",\"Sales\",\"IT\",\"IT\",\"IT\",\"Consulting\",\"IT\",\"IT\",\"IT\",\"IT\",\"Sales\",\"IT\",\"Sales\",\"IT\",\"Sales\",\"IT\",\"IT\",\"IT\",\"IT\",\"Consulting\",\"IT\",\"IT\",\"IT\",\"HR\",\"Sales\",\"IT\",\"Sales\",\"IT\",\"HR\",\"Sales\",\"IT\",\"IT\",\"IT\",\"Consulting\",\"Legal\",\"HR\",\"Sales\",\"Finance\",\"IT\",\"IT\",\"Sales\",\"Finance\",\"Legal\",\"IT\",\"Sales\",\"HR\",\"Sales\",\"IT\",\"Sales\",\"IT\",\"HR\",\"Sales\",\"Sales\",\"Sales\",\"Sales\",\"IT\",\"IT\",\"IT\",\"Finance\",\"IT\",\"IT\",\"IT\",\"IT\",\"IT\",\"HR\",\"HR\",\"Sales\",\"IT\",\"IT\",\"Sales\",\"IT\",\"Consulting\",\"IT\",\"HR\",\"Sales\",\"Finance\",\"Legal\",\"IT\",\"IT\",\"IT\",\"IT\",\"IT\",\"Sales\",\"IT\",\"IT\",\"IT\",\"Legal\",\"IT\",\"Sales\",\"IT\",\"IT\",\"HR\",\"Sales\",\"IT\",\"Sales\",\"IT\",\"IT\",\"Consulting\",\"IT\",\"Sales\",\"IT\",\"IT\",\"IT\",\"IT\",\"Sales\",\"Finance\",\"IT\",\"HR\",\"IT\",\"Sales\",\"IT\",\"Sales\",\"IT\",\"Finance\",\"IT\",\"Sales\",\"Sales\",\"IT\",\"Consulting\",\"IT\",\"Finance\",\"IT\",\"HR\",\"IT\",\"IT\",\"IT\",\"IT\",\"IT\",\"IT\",\"Sales\",\"HR\",\"HR\",\"IT\",\"Sales\",\"Consulting\",\"Sales\",\"IT\",\"IT\",\"IT\",\"Consulting\",\"IT\",\"IT\",\"Consulting\",\"IT\",\"Sales\",\"IT\",\"IT\",\"Legal\",\"IT\",\"Consulting\",\"IT\",\"IT\",\"IT\",\"IT\",\"IT\",\"IT\",\"IT\",\"IT\",\"IT\",\"IT\",\"IT\",\"IT\",\"Sales\",\"Sales\",\"Consulting\",\"Finance\",\"IT\",\"HR\",\"IT\",\"IT\",\"IT\",\"Sales\",\"Legal\",\"Finance\",\"Finance\",\"Sales\",\"Sales\",\"Sales\",\"Sales\",\"HR\",\"IT\",\"Sales\",\"IT\",\"Consulting\",\"IT\",\"IT\",\"IT\",\"HR\",\"HR\",\"IT\",\"IT\",\"IT\",\"IT\",\"Sales\",\"IT\",\"Sales\",\"Consulting\",\"Sales\",\"Consulting\",\"Finance\",\"IT\",\"Finance\",\"IT\",\"Finance\",\"Sales\",\"IT\",\"Consulting\",\"Consulting\",\"IT\",\"Finance\",\"HR\",\"IT\",\"Finance\",\"IT\",\"IT\",\"Sales\",\"Legal\",\"Finance\",\"Consulting\",\"Sales\",\"Sales\",\"IT\",\"IT\",\"Consulting\",\"Consulting\",\"IT\",\"Sales\",\"Legal\",\"IT\",\"IT\",\"IT\",\"Finance\",\"Consulting\",\"Finance\",\"IT\",\"IT\",\"HR\",\"IT\",\"Sales\",\"Sales\",\"HR\",\"HR\",\"IT\",\"IT\",\"IT\",\"HR\",\"IT\",\"IT\",\"IT\",\"HR\",\"IT\",\"Sales\",\"HR\",\"IT\",\"Finance\",\"HR\",\"HR\",\"Consulting\",\"Legal\",\"Sales\",\"Consulting\",\"IT\",\"Legal\",\"IT\",\"Sales\",\"Consulting\",\"Sales\",\"IT\",\"Consulting\",\"IT\",\"Consulting\",\"Legal\",\"Sales\",\"Consulting\",\"IT\",\"IT\",\"Finance\",\"Consulting\",\"Consulting\",\"IT\",\"IT\",\"IT\",\"IT\",\"HR\",\"Sales\",\"IT\",\"Finance\",\"Sales\",\"Finance\",\"Sales\",\"Legal\",\"IT\",\"IT\",\"Sales\",\"IT\",\"Legal\",\"Consulting\",\"IT\",\"Sales\",\"IT\",\"Consulting\",\"IT\",\"IT\",\"Sales\",\"IT\",\"IT\",\"HR\",\"HR\",\"IT\",\"HR\",\"IT\",\"IT\",\"IT\",\"IT\",\"Finance\",\"IT\",\"HR\",\"Legal\",\"IT\",\"IT\",\"HR\",\"Legal\",\"Sales\",\"IT\",\"Sales\",\"IT\",\"IT\",\"IT\",\"HR\",\"IT\",\"IT\",\"Sales\",\"IT\",\"Sales\",\"IT\",\"Sales\",\"Finance\",\"Sales\",\"IT\",\"Consulting\",\"IT\",\"IT\",\"IT\",\"IT\",\"IT\",\"Sales\",\"IT\",\"HR\",\"IT\",\"HR\",\"Legal\",\"Sales\",\"IT\",\"Consulting\",\"IT\",\"Finance\",\"Consulting\",\"Consulting\",\"IT\",\"IT\",\"IT\",\"Finance\",\"IT\",\"IT\",\"Legal\",\"Sales\",\"HR\",\"HR\",\"Sales\",\"Sales\",\"IT\",\"IT\",\"Finance\",\"Sales\",\"IT\",\"Sales\",\"IT\",\"IT\",\"Legal\",\"IT\",\"IT\",\"Sales\",\"HR\",\"IT\",\"HR\",\"HR\",\"IT\",\"Sales\",\"Finance\",\"IT\",\"IT\",\"IT\",\"IT\",\"IT\",\"HR\",\"IT\",\"IT\",\"Consulting\",\"Finance\",\"HR\",\"IT\",\"HR\",\"IT\",\"HR\",\"Sales\",\"Finance\",\"IT\",\"Sales\",\"IT\",\"IT\",\"IT\",\"IT\",\"Sales\",\"Legal\",\"Legal\",\"Sales\",\"IT\",\"HR\",\"IT\",\"IT\",\"IT\",\"Sales\",\"IT\",\"IT\",\"Sales\",\"Legal\",\"HR\",\"Sales\",\"IT\",\"Legal\",\"Consulting\",\"Finance\",\"HR\",\"Consulting\",\"Finance\",\"Consulting\",\"IT\",\"IT\",\"Legal\",\"Sales\",\"HR\",\"Consulting\",\"IT\",\"IT\",\"IT\",\"Consulting\",\"IT\",\"IT\",\"IT\",\"Finance\",\"IT\",\"IT\",\"Sales\",\"Finance\",\"Consulting\",\"HR\",\"Finance\",\"IT\",\"HR\",\"IT\",\"IT\",\"IT\",\"IT\",\"IT\",\"IT\",\"IT\",\"Sales\",\"IT\",\"IT\",\"IT\",\"IT\",\"IT\",\"Finance\",\"Sales\",\"Sales\",\"IT\",\"Finance\",\"IT\",\"Legal\",\"IT\",\"IT\",\"IT\",\"Sales\",\"IT\",\"IT\",\"Finance\",\"Legal\",\"IT\",\"Sales\",\"HR\",\"IT\",\"HR\",\"IT\",\"Sales\",\"IT\",\"IT\",\"IT\",\"Sales\",\"IT\",\"HR\",\"Finance\",\"IT\",\"Finance\",\"Legal\",\"HR\",\"IT\",\"Finance\",\"Legal\",\"Sales\",\"IT\",\"IT\",\"IT\",\"IT\",\"IT\",\"HR\",\"IT\",\"Legal\",\"IT\",\"HR\",\"Legal\",\"IT\",\"IT\",\"Sales\",\"IT\",\"IT\",\"IT\",\"HR\",\"Sales\",\"Sales\",\"Sales\",\"IT\",\"Sales\",\"IT\",\"IT\",\"IT\",\"IT\",\"IT\",\"IT\",\"IT\",\"IT\",\"IT\",\"Sales\",\"IT\",\"Sales\",\"Consulting\",\"IT\",\"Sales\",\"Consulting\",\"HR\",\"IT\",\"IT\",\"IT\",\"IT\",\"Consulting\",\"Sales\",\"Sales\",\"IT\",\"Finance\",\"IT\",\"IT\",\"Legal\",\"IT\",\"Finance\",\"Consulting\",\"IT\",\"Finance\",\"HR\",\"HR\",\"IT\",\"Sales\",\"Sales\",\"IT\",\"IT\",\"Legal\",\"Sales\",\"Consulting\",\"IT\",\"Consulting\",\"Sales\",\"IT\",\"IT\",\"IT\",\"Finance\",\"Finance\",\"Sales\",\"IT\",\"IT\",\"IT\",\"Finance\",\"Consulting\",\"IT\",\"Sales\",\"IT\",\"IT\",\"IT\",\"IT\",\"Sales\",\"Sales\",\"IT\",\"IT\",\"Consulting\",\"Finance\",\"IT\",\"Finance\",\"IT\",\"IT\",\"IT\",\"Sales\",\"IT\",\"Sales\",\"Sales\",\"IT\",\"HR\",\"IT\",\"Consulting\",\"Legal\",\"IT\",\"IT\",\"IT\",\"Consulting\",\"IT\",\"IT\",\"IT\",\"IT\",\"Legal\",\"Consulting\",\"IT\",\"Consulting\",\"IT\",\"HR\",\"Sales\",\"IT\",\"HR\",\"IT\",\"Sales\",\"Consulting\",\"IT\",\"Sales\",\"Finance\",\"Legal\",\"IT\",\"IT\",\"HR\",\"Sales\",\"IT\",\"IT\",\"Sales\",\"IT\",\"IT\",\"IT\",\"HR\",\"Sales\",\"IT\",\"IT\",\"Legal\",\"Sales\",\"IT\",\"Sales\",\"IT\",\"IT\",\"IT\",\"Sales\",\"IT\",\"IT\",\"HR\",\"Legal\",\"IT\",\"HR\",\"Sales\",\"IT\",\"IT\",\"Finance\",\"IT\",\"Consulting\",\"IT\",\"IT\",\"IT\",\"IT\",\"IT\",\"IT\",\"IT\",\"IT\",\"HR\",\"Consulting\",\"IT\",\"IT\",\"Finance\",\"Sales\",\"Consulting\",\"IT\",\"IT\",\"HR\",\"IT\",\"IT\",\"IT\",\"IT\",\"IT\",\"Sales\",\"Sales\",\"Legal\",\"IT\",\"Sales\",\"IT\",\"IT\",\"IT\",\"IT\",\"IT\",\"IT\",\"IT\",\"IT\",\"IT\",\"Sales\",\"IT\",\"Sales\",\"Consulting\",\"IT\",\"Finance\",\"Sales\",\"IT\",\"IT\",\"IT\",\"IT\",\"HR\",\"IT\",\"IT\",\"IT\",\"Finance\",\"HR\",\"IT\",\"IT\",\"IT\",\"IT\",\"Consulting\",\"HR\",\"Legal\",\"IT\",\"IT\",\"Consulting\",\"IT\",\"HR\",\"IT\",\"Consulting\",\"Consulting\",\"Finance\",\"Consulting\",\"IT\",\"IT\",\"Legal\",\"IT\",\"Finance\",\"IT\",\"HR\",\"IT\",\"IT\",\"Sales\",\"IT\",\"Finance\",\"Finance\",\"Sales\",\"IT\",\"Sales\",\"IT\",\"IT\",\"IT\",\"Consulting\",\"Sales\",\"Finance\",\"Sales\",\"Sales\",\"Finance\",\"IT\",\"IT\",\"Consulting\",\"Sales\",\"IT\",\"Consulting\",\"Sales\",\"Finance\",\"IT\",\"IT\",\"IT\",\"HR\",\"IT\",\"IT\",\"IT\",\"Legal\",\"IT\",\"Sales\",\"IT\",\"IT\",\"IT\",\"IT\",\"IT\",\"Sales\",\"IT\",\"IT\",\"IT\",\"IT\",\"Consulting\",\"HR\",\"Consulting\",\"IT\",\"IT\",\"HR\",\"HR\",\"IT\",\"IT\",\"IT\",\"Sales\",\"IT\",\"Sales\",\"Consulting\",\"IT\",\"Sales\",\"Consulting\",\"Consulting\",\"Consulting\",\"IT\",\"IT\",\"IT\",\"HR\",\"Sales\",\"Sales\",\"Sales\",\"IT\",\"Consulting\",\"Sales\",\"IT\",\"Consulting\",\"Sales\",\"IT\",\"Finance\",\"IT\",\"Sales\",\"Sales\",\"Consulting\",\"IT\",\"Sales\",\"IT\",\"IT\",\"IT\",\"IT\",\"Finance\",\"IT\",\"Sales\",\"IT\",\"Consulting\",\"IT\",\"HR\",\"IT\",\"IT\",\"IT\",\"Sales\",\"IT\",\"IT\",\"Sales\",\"Sales\",\"HR\",\"IT\",\"HR\",\"Sales\",\"IT\",\"IT\",\"Sales\",\"IT\",\"HR\",\"IT\",\"IT\",\"Sales\",\"IT\",\"HR\",\"IT\",\"IT\",\"IT\",\"Legal\",\"IT\",\"Legal\",\"IT\",\"Consulting\",\"IT\",\"IT\",\"IT\",\"Finance\",\"Legal\",\"IT\",\"Finance\",\"IT\",\"HR\",\"Finance\",\"HR\",\"HR\",\"Sales\",\"IT\",\"IT\",\"HR\",\"IT\",\"Sales\",\"Consulting\",\"Consulting\",\"Consulting\",\"IT\",\"IT\",\"IT\",\"Sales\",\"Legal\",\"Sales\",\"Sales\",\"Legal\",\"Consulting\",\"IT\",\"Consulting\",\"Consulting\",\"IT\",\"Consulting\",\"Sales\",\"Sales\",\"Legal\",\"IT\",\"Sales\",\"Sales\",\"Sales\",\"HR\",\"HR\",\"Consulting\",\"IT\",\"Finance\",\"HR\",\"Consulting\",\"IT\",\"IT\",\"Sales\",\"IT\",\"Sales\",\"IT\",\"IT\",\"Finance\",\"IT\",\"IT\",\"Finance\",\"Sales\",\"IT\",\"IT\",\"Legal\",\"Finance\",\"IT\",\"IT\",\"IT\",\"IT\",\"IT\",\"Legal\",\"IT\",\"IT\",\"IT\",\"IT\",\"HR\",\"Consulting\",\"HR\",\"IT\",\"Sales\",\"IT\",\"IT\",\"IT\",\"Consulting\",\"HR\",\"Sales\",\"Sales\",\"HR\",\"Finance\",\"IT\",\"Legal\",\"IT\",\"IT\",\"IT\",\"Legal\",\"IT\",\"IT\",\"Finance\",\"Legal\",\"IT\",\"IT\",\"Sales\",\"IT\",\"IT\",\"IT\",\"IT\",\"IT\",\"Sales\",\"IT\",\"IT\",\"Sales\",\"IT\",\"IT\",\"IT\",\"HR\",\"IT\",\"HR\",\"IT\",\"IT\",\"Sales\",\"IT\",\"IT\",\"IT\",\"IT\",\"Finance\",\"Consulting\",\"IT\",\"Consulting\",\"Sales\",\"IT\",\"Consulting\",\"IT\",\"Legal\",\"Sales\",\"IT\",\"Finance\",\"Legal\",\"IT\",\"IT\",\"Sales\",\"IT\",\"IT\",\"Finance\",\"IT\",\"Consulting\",\"IT\",\"IT\",\"Sales\",\"Consulting\",\"Sales\",\"Consulting\",\"Sales\",\"IT\",\"Sales\",\"HR\",\"Sales\",\"IT\",\"Legal\",\"Finance\",\"Consulting\",\"Consulting\",\"HR\",\"Sales\",\"Consulting\",\"IT\",\"IT\",\"Consulting\",\"IT\",\"IT\",\"IT\",\"IT\",\"Consulting\",\"IT\",\"Legal\",\"IT\",\"IT\",\"HR\",\"Sales\",\"HR\",\"IT\",\"IT\",\"Consulting\",\"IT\",\"HR\",\"Finance\",\"Legal\",\"IT\",\"Consulting\",\"IT\",\"IT\",\"Consulting\",\"IT\",\"IT\",\"IT\",\"IT\",\"IT\",\"IT\",\"Consulting\",\"IT\",\"IT\",\"Sales\",\"IT\",\"IT\",\"IT\",\"IT\",\"Sales\",\"Finance\",\"Consulting\",\"IT\",\"IT\",\"Sales\",\"Sales\",\"IT\",\"IT\",\"IT\",\"IT\",\"IT\",\"IT\",\"Sales\",\"Finance\",\"Legal\",\"IT\",\"Consulting\",\"IT\",\"IT\",\"IT\",\"IT\",\"IT\",\"Consulting\",\"Consulting\",\"HR\",\"Finance\",\"Finance\",\"IT\",\"Finance\",\"IT\",\"IT\",\"Consulting\",\"HR\",\"Consulting\",\"Sales\",\"HR\",\"Sales\",\"IT\",\"IT\",\"IT\",\"Sales\",\"IT\",\"HR\",\"IT\",\"Consulting\",\"Consulting\",\"Consulting\",\"IT\",\"IT\",\"IT\",\"IT\",\"IT\",\"IT\",\"Legal\",\"IT\",\"Sales\",\"Sales\",\"Legal\",\"IT\",\"Consulting\",\"IT\",\"HR\",\"HR\",\"HR\",\"IT\",\"Legal\",\"IT\",\"IT\",\"IT\",\"Sales\",\"IT\",\"IT\",\"HR\",\"IT\",\"Sales\",\"IT\",\"Consulting\",\"Consulting\",\"IT\",\"IT\",\"IT\",\"Consulting\",\"Sales\",\"IT\",\"IT\",\"Sales\",\"IT\",\"Sales\",\"IT\",\"HR\",\"IT\",\"IT\",\"Sales\",\"IT\",\"IT\",\"HR\",\"Consulting\",\"Sales\",\"IT\",\"IT\",\"Consulting\",\"IT\",\"HR\",\"IT\",\"IT\",\"IT\",\"IT\",\"HR\",\"IT\",\"Finance\",\"Consulting\",\"Sales\",\"Sales\",\"IT\",\"IT\",\"IT\",\"Finance\",\"IT\",\"IT\",\"Sales\",\"Consulting\",\"Finance\",\"IT\",\"Finance\",\"Sales\",\"IT\",\"Sales\",\"Sales\",\"HR\",\"IT\",\"Sales\",\"IT\",\"IT\",\"Legal\",\"Finance\",\"Sales\",\"IT\",\"Finance\",\"Sales\",\"IT\",\"IT\",\"Sales\",\"IT\",\"HR\",\"Sales\",\"IT\",\"HR\",\"Sales\",\"IT\",\"IT\",\"IT\",\"Sales\",\"IT\",\"IT\",\"IT\",\"IT\",\"HR\",\"Sales\",\"IT\",\"IT\",\"IT\",\"HR\",\"HR\",\"IT\",\"Consulting\",\"Sales\",\"HR\",\"Finance\",\"IT\",\"Legal\",\"IT\",\"Finance\",\"Sales\",\"Legal\",\"Sales\",\"IT\",\"IT\",\"Finance\",\"IT\",\"HR\",\"Sales\",\"Sales\",\"IT\",\"IT\",\"IT\",\"IT\",\"Sales\",\"Consulting\",\"Consulting\",\"IT\",\"IT\",\"Sales\",\"IT\",\"Sales\",\"IT\",\"Consulting\",\"Consulting\",\"IT\",\"HR\",\"Finance\",\"IT\",\"IT\",\"IT\",\"Sales\",\"IT\",\"HR\",\"IT\",\"IT\",\"HR\",\"IT\",\"Consulting\",\"HR\",\"Sales\",\"Finance\",\"Legal\",\"IT\",\"IT\",\"IT\",\"Legal\",\"IT\",\"IT\",\"IT\",\"IT\",\"IT\",\"IT\",\"Sales\",\"IT\",\"Finance\",\"Consulting\",\"Sales\",\"HR\",\"IT\",\"Legal\",\"IT\",\"Sales\",\"IT\",\"IT\",\"IT\",\"Sales\",\"IT\",\"IT\",\"IT\",\"IT\",\"HR\",\"Consulting\",\"IT\",\"IT\",\"IT\",\"Sales\",\"Consulting\",\"IT\",\"IT\",\"Sales\",\"IT\",\"IT\",\"Legal\",\"HR\",\"IT\",\"IT\",\"IT\",\"IT\",\"IT\",\"Consulting\",\"Consulting\",\"Consulting\",\"IT\",\"HR\",\"Finance\",\"HR\",\"IT\",\"IT\",\"Legal\",\"Sales\",\"HR\",\"IT\",\"IT\",\"IT\",\"HR\",\"IT\",\"Sales\",\"HR\",\"Consulting\",\"Consulting\",\"IT\",\"IT\",\"Sales\",\"Consulting\",\"IT\",\"HR\",\"IT\",\"IT\",\"Consulting\",\"Finance\",\"IT\",\"IT\",\"IT\",\"HR\",\"Consulting\",\"Finance\",\"IT\",\"Sales\",\"Finance\",\"IT\",\"IT\",\"IT\",\"HR\",\"Finance\",\"IT\",\"IT\",\"Legal\",\"Sales\",\"IT\",\"HR\",\"Consulting\",\"IT\",\"Finance\",\"IT\",\"Finance\",\"HR\",\"Finance\",\"IT\",\"IT\",\"IT\",\"IT\",\"Finance\",\"IT\",\"IT\",\"Sales\",\"IT\",\"IT\",\"IT\",\"IT\",\"IT\",\"Finance\",\"Consulting\",\"IT\",\"IT\",\"Finance\",\"HR\",\"IT\",\"IT\",\"Consulting\",\"IT\",\"Finance\",\"Sales\",\"IT\",\"Sales\",\"HR\",\"IT\",\"IT\",\"IT\",\"IT\",\"IT\",\"Sales\",\"Sales\",\"Consulting\",\"IT\",\"Finance\",\"IT\",\"Consulting\",\"IT\",\"Sales\",\"Legal\",\"Consulting\",\"Consulting\",\"Finance\",\"IT\",\"IT\",\"IT\",\"IT\",\"IT\",\"IT\",\"HR\",\"Sales\",\"IT\",\"IT\",\"IT\",\"IT\",\"IT\",\"Sales\",\"IT\",\"IT\",\"Consulting\",\"Finance\",\"IT\",\"Consulting\",\"Legal\",\"IT\",\"Consulting\",\"IT\",\"Finance\",\"IT\",\"Sales\",\"IT\",\"IT\",\"IT\",\"IT\",\"IT\",\"IT\",\"IT\",\"IT\",\"Legal\",\"IT\",\"IT\",\"Consulting\",\"IT\",\"Legal\",\"IT\",\"IT\",\"IT\",\"Finance\",\"IT\",\"Finance\",\"Consulting\",\"Sales\",\"Sales\",\"IT\",\"IT\",\"IT\",\"IT\",\"IT\",\"Sales\",\"IT\",\"Finance\",\"IT\",\"HR\",\"HR\",\"IT\",\"Finance\",\"Consulting\",\"Consulting\",\"IT\",\"IT\",\"IT\",\"Consulting\",\"IT\",\"HR\",\"Finance\",\"HR\",\"Sales\",\"IT\",\"Finance\",\"IT\",\"IT\",\"Sales\",\"IT\",\"HR\",\"Legal\",\"IT\",\"Sales\",\"Finance\",\"Legal\",\"HR\",\"IT\",\"Legal\",\"IT\",\"IT\",\"IT\",\"Sales\",\"IT\",\"Sales\",\"Legal\",\"Sales\",\"IT\",\"Legal\",\"IT\",\"Finance\",\"IT\",\"IT\",\"Sales\",\"Consulting\",\"IT\",\"Sales\",\"IT\",\"HR\",\"IT\",\"IT\",\"IT\",\"IT\",\"Consulting\",\"IT\",\"Legal\",\"IT\",\"IT\",\"HR\",\"Legal\",\"Sales\",\"IT\",\"Sales\",\"Sales\",\"IT\",\"IT\",\"Consulting\",\"IT\",\"IT\",\"IT\",\"IT\",\"Finance\",\"HR\",\"Consulting\",\"IT\",\"IT\",\"IT\",\"IT\",\"Sales\",\"Sales\",\"IT\",\"Legal\",\"IT\",\"IT\",\"Sales\",\"Finance\",\"IT\",\"Sales\",\"Finance\",\"Legal\",\"Sales\",\"HR\",\"Finance\",\"HR\",\"IT\",\"Finance\",\"IT\",\"IT\",\"IT\",\"HR\",\"Consulting\",\"Legal\",\"IT\",\"IT\",\"IT\",\"HR\",\"IT\",\"IT\",\"Sales\",\"IT\",\"IT\",\"IT\",\"Consulting\",\"IT\",\"IT\",\"IT\",\"Consulting\",\"Sales\",\"IT\",\"Sales\",\"Legal\",\"HR\",\"IT\",\"IT\",\"HR\",\"HR\",\"Sales\",\"IT\",\"IT\",\"IT\",\"Consulting\",\"Finance\",\"Sales\",\"Finance\",\"Consulting\",\"IT\",\"IT\",\"IT\",\"IT\",\"Consulting\",\"IT\",\"IT\",\"IT\",\"HR\",\"Finance\",\"IT\",\"Finance\",\"Finance\",\"Finance\",\"IT\",\"Sales\",\"Sales\",\"IT\",\"IT\",\"Consulting\",\"Finance\",\"Sales\",\"Sales\",\"HR\",\"HR\",\"Consulting\",\"IT\",\"IT\",\"Finance\",\"IT\",\"IT\",\"IT\",\"Legal\",\"Sales\",\"IT\",\"Consulting\",\"IT\",\"Sales\",\"Consulting\",\"IT\",\"Consulting\",\"IT\",\"HR\",\"Finance\",\"IT\",\"IT\",\"IT\",\"Sales\",\"IT\",\"HR\",\"IT\",\"HR\",\"HR\",\"IT\",\"HR\",\"IT\",\"IT\",\"HR\",\"IT\",\"Sales\",\"Finance\",\"IT\",\"IT\",\"IT\",\"IT\",\"IT\",\"IT\",\"IT\",\"IT\",\"Finance\",\"IT\",\"Legal\",\"IT\",\"IT\",\"IT\",\"Finance\",\"IT\",\"IT\",\"IT\",\"IT\",\"IT\",\"IT\",\"Consulting\",\"Finance\",\"IT\",\"Legal\",\"Legal\",\"Sales\",\"HR\",\"Finance\",\"Finance\",\"IT\",\"HR\",\"IT\",\"IT\",\"IT\",\"IT\",\"Sales\",\"IT\",\"IT\",\"IT\",\"Sales\",\"Legal\",\"IT\",\"IT\",\"Sales\",\"Finance\",\"Sales\",\"IT\",\"IT\",\"Consulting\",\"Consulting\",\"IT\",\"Consulting\",\"Sales\",\"Sales\",\"IT\",\"IT\",\"Sales\",\"Consulting\",\"Sales\",\"IT\",\"Consulting\",\"Legal\",\"IT\",\"Consulting\",\"Sales\",\"IT\",\"IT\",\"IT\",\"IT\",\"IT\",\"Sales\",\"IT\",\"IT\",\"Sales\",\"Sales\",\"IT\",\"Sales\",\"IT\",\"IT\",\"IT\",\"IT\",\"IT\",\"IT\",\"IT\",\"IT\",\"Sales\",\"IT\",\"IT\",\"IT\",\"IT\",\"IT\",\"IT\",\"IT\",\"Sales\",\"IT\",\"Consulting\",\"Sales\",\"HR\",\"IT\",\"IT\",\"Sales\",\"HR\",\"IT\",\"IT\",\"IT\",\"IT\",\"IT\",\"Finance\",\"IT\",\"IT\",\"IT\",\"Legal\",\"IT\",\"IT\",\"Finance\",\"IT\",\"Consulting\",\"Sales\",\"IT\",\"IT\",\"IT\",\"Consulting\",\"Sales\",\"Consulting\",\"Legal\",\"HR\",\"IT\",\"HR\",\"HR\",\"IT\",\"IT\",\"IT\",\"IT\",\"Consulting\",\"IT\",\"IT\",\"HR\",\"IT\",\"IT\",\"Sales\",\"Sales\",\"Sales\",\"Legal\",\"IT\",\"Legal\",\"IT\",\"IT\",\"HR\",\"IT\",\"IT\",\"Sales\",\"IT\",\"Finance\",\"Sales\",\"IT\",\"IT\",\"Legal\",\"Sales\",\"IT\",\"Sales\",\"Sales\",\"Sales\",\"Sales\",\"IT\",\"IT\",\"IT\",\"IT\",\"IT\",\"IT\",\"Sales\",\"Consulting\",\"Consulting\",\"IT\",\"IT\",\"IT\",\"IT\",\"IT\",\"HR\",\"Sales\",\"Sales\",\"IT\",\"IT\",\"Legal\",\"IT\",\"Consulting\",\"IT\",\"Consulting\",\"IT\",\"IT\",\"Sales\",\"Consulting\",\"IT\",\"IT\",\"Sales\",\"IT\",\"Finance\",\"Finance\",\"IT\",\"Finance\",\"Finance\",\"HR\",\"IT\",\"IT\",\"Legal\",\"Sales\",\"IT\",\"Sales\",\"IT\",\"IT\",\"IT\",\"IT\",\"Sales\",\"HR\",\"IT\",\"Sales\",\"Sales\",\"Sales\",\"HR\",\"Sales\",\"Sales\",\"IT\",\"IT\",\"Finance\",\"IT\",\"IT\",\"Legal\",\"Consulting\",\"Sales\",\"Consulting\",\"IT\",\"Sales\",\"IT\",\"Consulting\",\"IT\",\"Consulting\",\"IT\",\"IT\",\"Consulting\",\"Sales\",\"Sales\",\"IT\",\"IT\",\"IT\",\"Legal\",\"IT\",\"Consulting\",\"IT\",\"HR\",\"IT\",\"Legal\",\"IT\",\"IT\",\"HR\",\"IT\",\"IT\",\"Consulting\",\"Consulting\",\"IT\",\"Legal\",\"IT\",\"IT\",\"IT\",\"Sales\",\"Consulting\",\"IT\",\"Finance\",\"IT\",\"IT\",\"Legal\",\"Consulting\",\"Consulting\",\"Consulting\",\"Consulting\",\"IT\",\"Sales\",\"HR\",\"IT\",\"IT\",\"IT\",\"IT\",\"HR\",\"IT\",\"IT\",\"IT\",\"IT\",\"IT\",\"Sales\",\"HR\",\"Sales\",\"IT\",\"HR\",\"Sales\",\"IT\",\"Sales\",\"Finance\",\"IT\",\"Sales\",\"IT\",\"Consulting\",\"Sales\",\"Sales\",\"Finance\",\"IT\",\"Legal\",\"HR\",\"HR\",\"Sales\",\"IT\",\"Consulting\",\"Finance\",\"IT\",\"HR\",\"Consulting\",\"Consulting\",\"Finance\",\"HR\",\"HR\",\"IT\",\"IT\",\"Sales\",\"Finance\",\"IT\",\"IT\",\"Sales\",\"IT\",\"Sales\",\"IT\",\"Consulting\",\"Consulting\",\"IT\",\"Sales\",\"IT\",\"IT\",\"Consulting\",\"HR\",\"Sales\",\"IT\",\"Sales\",\"Sales\",\"Legal\",\"IT\",\"IT\",\"Legal\",\"Finance\",\"IT\",\"Sales\",\"IT\",\"HR\",\"Legal\",\"HR\",\"Finance\",\"IT\",\"Sales\",\"IT\",\"HR\",\"IT\",\"Consulting\",\"IT\",\"IT\",\"Consulting\",\"HR\",\"Sales\",\"IT\",\"Legal\",\"Finance\",\"Legal\",\"IT\",\"Finance\",\"IT\",\"IT\",\"IT\",\"Sales\",\"Consulting\",\"IT\",\"IT\",\"HR\",\"IT\",\"IT\",\"IT\",\"IT\",\"IT\",\"HR\",\"Sales\",\"IT\",\"IT\",\"IT\",\"IT\",\"Sales\",\"Sales\",\"IT\",\"Legal\",\"IT\",\"Legal\",\"IT\",\"Sales\",\"HR\",\"Legal\",\"Finance\",\"Finance\",\"Finance\",\"IT\",\"Finance\",\"IT\",\"Sales\",\"IT\",\"Sales\",\"Legal\",\"IT\",\"HR\",\"Finance\",\"IT\",\"Sales\",\"Consulting\",\"HR\",\"IT\",\"Sales\",\"IT\",\"Finance\",\"IT\",\"Legal\",\"HR\",\"Consulting\",\"IT\",\"HR\",\"IT\",\"Sales\",\"IT\",\"IT\",\"IT\",\"Sales\",\"IT\",\"IT\",\"IT\",\"Consulting\",\"IT\",\"IT\",\"IT\",\"Finance\",\"Finance\",\"IT\",\"IT\",\"Finance\",\"Consulting\",\"IT\",\"IT\",\"IT\",\"HR\",\"Sales\",\"Finance\",\"HR\",\"Consulting\",\"Sales\",\"IT\",\"Sales\",\"IT\",\"Legal\",\"IT\",\"IT\",\"Finance\",\"Finance\",\"Sales\",\"Sales\",\"Legal\",\"Sales\",\"Consulting\",\"Consulting\",\"IT\",\"IT\",\"HR\",\"IT\",\"IT\",\"Sales\",\"IT\",\"IT\",\"Sales\",\"HR\",\"Legal\",\"Sales\",\"Sales\",\"Sales\",\"Sales\",\"HR\",\"Sales\",\"Finance\",\"IT\",\"HR\",\"HR\",\"Legal\",\"IT\",\"Sales\",\"HR\",\"IT\",\"Consulting\",\"Finance\",\"Sales\",\"Consulting\",\"Finance\",\"IT\",\"Consulting\",\"IT\",\"IT\",\"IT\",\"IT\",\"IT\",\"Legal\",\"Sales\",\"Sales\",\"Consulting\",\"IT\",\"IT\",\"Consulting\",\"Sales\",\"IT\",\"Consulting\",\"Sales\",\"IT\",\"Consulting\",\"Sales\",\"IT\",\"IT\",\"IT\",\"Consulting\",\"IT\",\"HR\",\"IT\",\"IT\",\"IT\",\"Sales\",\"IT\",\"IT\",\"HR\",\"IT\",\"IT\",\"HR\",\"IT\",\"IT\",\"Finance\",\"Consulting\",\"IT\",\"Consulting\",\"Finance\",\"Consulting\",\"HR\",\"Sales\",\"IT\",\"IT\",\"IT\",\"Consulting\",\"IT\",\"IT\",\"IT\",\"Consulting\",\"IT\",\"Finance\",\"IT\",\"IT\",\"Sales\",\"IT\",\"IT\",\"IT\",\"IT\",\"IT\",\"IT\",\"IT\",\"HR\",\"Sales\",\"Finance\",\"IT\",\"IT\",\"IT\",\"IT\",\"HR\",\"IT\",\"Legal\",\"Finance\",\"Consulting\",\"IT\",\"IT\",\"IT\",\"Finance\",\"IT\",\"IT\",\"HR\",\"Consulting\",\"Consulting\",\"IT\",\"IT\",\"IT\",\"Legal\",\"Sales\",\"HR\",\"IT\",\"IT\",\"Consulting\",\"Legal\",\"Sales\",\"IT\",\"IT\",\"IT\",\"IT\",\"IT\",\"Sales\",\"Sales\",\"IT\",\"IT\",\"IT\",\"Sales\",\"IT\",\"IT\",\"IT\",\"Consulting\",\"IT\",\"Finance\",\"IT\",\"IT\",\"IT\",\"IT\",\"IT\",\"Consulting\",\"IT\",\"IT\",\"Sales\",\"Finance\",\"IT\",\"Consulting\",\"IT\",\"Consulting\",\"IT\",\"IT\",\"IT\",\"IT\",\"IT\",\"IT\",\"Finance\",\"Consulting\",\"Sales\",\"IT\",\"HR\",\"Finance\",\"HR\",\"HR\",\"HR\",\"Finance\",\"IT\",\"Sales\",\"Consulting\",\"IT\",\"IT\",\"IT\",\"IT\",\"Legal\",\"IT\",\"IT\",\"HR\",\"Sales\",\"IT\",\"IT\",\"Legal\",\"Legal\",\"IT\",\"IT\",\"IT\",\"Sales\",\"IT\",\"Sales\",\"IT\",\"Consulting\",\"IT\",\"Legal\",\"IT\",\"Consulting\",\"IT\",\"Sales\",\"IT\",\"IT\",\"HR\",\"Consulting\",\"IT\",\"Consulting\",\"IT\",\"Finance\",\"Sales\",\"Sales\",\"Legal\",\"IT\",\"Sales\",\"IT\",\"Sales\",\"IT\",\"Consulting\",\"Sales\",\"IT\",\"Legal\",\"Sales\",\"Sales\",\"Sales\",\"Finance\",\"IT\",\"IT\",\"IT\",\"IT\",\"IT\",\"Consulting\",\"Finance\",\"IT\",\"IT\",\"Sales\",\"HR\",\"HR\",\"IT\",\"Sales\",\"Sales\",\"Consulting\",\"IT\",\"IT\",\"Consulting\",\"Finance\",\"Sales\",\"Consulting\",\"IT\",\"Sales\",\"IT\",\"Consulting\",\"IT\",\"HR\",\"Finance\",\"IT\",\"Finance\",\"Finance\",\"Sales\",\"IT\",\"Sales\",\"Sales\",\"Sales\",\"IT\",\"Legal\",\"Sales\",\"Finance\",\"Sales\",\"Sales\",\"IT\",\"Finance\",\"Sales\",\"Finance\",\"HR\",\"IT\",\"Sales\",\"IT\",\"Finance\",\"Sales\",\"Consulting\",\"Sales\",\"HR\",\"IT\",\"IT\",\"IT\",\"IT\",\"IT\",\"IT\",\"IT\",\"Sales\",\"IT\",\"Finance\",\"Sales\",\"Legal\",\"IT\",\"IT\",\"IT\",\"IT\",\"IT\",\"Legal\",\"Legal\",\"Legal\",\"Consulting\",\"Legal\",\"IT\",\"IT\",\"IT\",\"HR\",\"IT\",\"Legal\",\"IT\",\"IT\",\"Sales\",\"IT\",\"IT\",\"Finance\",\"Consulting\",\"Legal\",\"Legal\",\"Consulting\",\"IT\",\"IT\",\"Sales\",\"HR\",\"Sales\",\"IT\",\"Consulting\",\"IT\",\"IT\",\"IT\",\"Legal\",\"Consulting\",\"Finance\",\"Sales\",\"IT\",\"Finance\",\"Consulting\",\"Finance\",\"Sales\",\"Sales\",\"IT\",\"Finance\",\"IT\",\"Consulting\",\"IT\",\"Consulting\",\"IT\",\"IT\",\"Sales\",\"IT\",\"IT\",\"Sales\",\"Finance\",\"Consulting\",\"Consulting\",\"IT\",\"Sales\",\"IT\",\"HR\",\"IT\",\"Sales\",\"Consulting\",\"IT\",\"IT\",\"IT\",\"IT\",\"Finance\",\"IT\",\"Consulting\",\"IT\",\"IT\",\"Consulting\",\"IT\",\"IT\",\"Finance\",\"Consulting\",\"IT\",\"IT\",\"Finance\",\"HR\",\"HR\",\"HR\",\"IT\",\"Consulting\",\"Finance\",\"HR\",\"IT\",\"IT\",\"HR\",\"IT\",\"Finance\",\"Consulting\",\"Sales\",\"IT\",\"IT\",\"Legal\",\"IT\",\"IT\",\"IT\",\"Consulting\",\"Finance\",\"Finance\",\"IT\",\"IT\",\"Legal\",\"IT\",\"Sales\",\"Finance\",\"IT\",\"HR\",\"IT\",\"IT\",\"HR\",\"Sales\",\"IT\",\"Consulting\",\"IT\",\"IT\",\"IT\",\"IT\",\"IT\",\"HR\",\"IT\",\"Finance\",\"Consulting\",\"Finance\",\"IT\",\"IT\",\"IT\",\"IT\",\"IT\",\"IT\",\"IT\",\"Consulting\",\"IT\",\"Sales\",\"IT\",\"IT\",\"Sales\",\"Legal\",\"IT\",\"IT\",\"IT\",\"IT\",\"IT\",\"Sales\",\"Finance\",\"IT\",\"Finance\",\"Sales\",\"Sales\",\"Sales\",\"IT\",\"IT\",\"Finance\",\"IT\",\"Finance\",\"Sales\",\"IT\",\"IT\",\"Finance\",\"IT\",\"HR\",\"HR\",\"Consulting\",\"HR\",\"Consulting\",\"IT\",\"Finance\",\"IT\",\"Sales\",\"IT\",\"Sales\",\"IT\",\"Finance\",\"IT\",\"IT\",\"Sales\",\"IT\",\"IT\",\"Consulting\",\"IT\",\"IT\",\"IT\",\"IT\",\"Legal\",\"IT\",\"Consulting\",\"HR\",\"Finance\",\"Sales\",\"Consulting\",\"Consulting\",\"Sales\",\"IT\",\"Sales\",\"IT\",\"Finance\",\"IT\",\"Consulting\",\"IT\",\"IT\",\"IT\",\"IT\",\"IT\",\"IT\",\"IT\",\"IT\",\"IT\",\"Consulting\",\"IT\",\"IT\",\"HR\",\"HR\",\"HR\",\"IT\",\"HR\",\"IT\",\"IT\",\"Finance\",\"IT\",\"IT\",\"Finance\",\"IT\",\"HR\",\"IT\",\"IT\",\"Finance\",\"Sales\",\"IT\",\"Consulting\",\"Finance\",\"Finance\",\"Consulting\",\"IT\",\"IT\",\"HR\",\"IT\",\"IT\",\"IT\",\"Legal\",\"Sales\",\"HR\",\"Sales\",\"IT\",\"IT\",\"IT\",\"Consulting\",\"Finance\",\"IT\",\"Consulting\",\"IT\",\"Sales\",\"Sales\",\"Sales\",\"Sales\",\"Sales\",\"HR\",\"HR\",\"IT\",\"IT\",\"IT\",\"Finance\",\"IT\",\"IT\",\"IT\",\"IT\",\"IT\",\"HR\",\"IT\",\"IT\",\"IT\",\"IT\",\"Sales\",\"IT\",\"IT\",\"HR\",\"Sales\",\"HR\",\"IT\",\"HR\",\"IT\",\"IT\",\"IT\",\"IT\",\"IT\",\"IT\",\"Finance\",\"IT\",\"IT\",\"Sales\",\"IT\",\"HR\",\"IT\",\"IT\",\"IT\",\"IT\",\"IT\",\"IT\",\"Consulting\",\"HR\",\"HR\",\"Finance\",\"IT\",\"Consulting\",\"IT\",\"IT\",\"IT\",\"IT\",\"IT\",\"Sales\",\"Sales\",\"Consulting\",\"HR\",\"IT\",\"IT\",\"IT\",\"IT\",\"IT\",\"Sales\",\"Sales\",\"Sales\",\"IT\",\"IT\",\"Finance\",\"IT\",\"HR\",\"IT\",\"HR\",\"Consulting\",\"Finance\",\"Finance\",\"IT\",\"HR\",\"IT\",\"Sales\",\"Finance\",\"IT\",\"IT\",\"Finance\",\"IT\",\"IT\",\"IT\",\"IT\",\"IT\",\"IT\",\"Legal\",\"HR\",\"HR\",\"Sales\",\"HR\",\"IT\",\"Sales\",\"Sales\",\"IT\",\"IT\",\"IT\",\"Consulting\",\"Finance\",\"Sales\",\"IT\",\"HR\",\"HR\",\"IT\",\"IT\",\"HR\",\"IT\",\"Finance\",\"IT\",\"Consulting\",\"IT\",\"IT\",\"IT\",\"Legal\",\"IT\",\"IT\",\"HR\",\"Sales\",\"IT\",\"Legal\",\"IT\",\"IT\",\"IT\",\"Sales\",\"IT\",\"IT\",\"IT\",\"Consulting\",\"Finance\",\"Consulting\",\"IT\",\"Sales\",\"Sales\",\"HR\",\"IT\",\"IT\",\"IT\",\"Sales\",\"IT\",\"Sales\",\"Consulting\",\"IT\",\"IT\",\"IT\",\"IT\",\"IT\",\"Consulting\",\"IT\",\"Sales\",\"IT\",\"IT\",\"Sales\",\"IT\",\"IT\",\"Legal\",\"IT\",\"IT\",\"Consulting\",\"Consulting\",\"Sales\",\"IT\",\"HR\",\"Sales\",\"HR\",\"IT\",\"Sales\",\"HR\",\"IT\",\"Consulting\",\"IT\",\"HR\",\"HR\",\"HR\",\"Legal\",\"IT\",\"IT\",\"HR\",\"Sales\",\"IT\",\"Sales\",\"Consulting\",\"IT\",\"Consulting\",\"Finance\",\"Legal\",\"IT\",\"IT\",\"IT\",\"IT\",\"Sales\",\"HR\",\"HR\",\"IT\",\"Sales\",\"Sales\",\"IT\",\"IT\",\"Consulting\",\"Sales\",\"IT\",\"IT\",\"HR\",\"Consulting\",\"IT\",\"IT\",\"IT\",\"IT\",\"IT\",\"Legal\",\"IT\",\"Sales\",\"Sales\",\"IT\",\"IT\",\"HR\",\"HR\",\"Sales\",\"IT\",\"Sales\",\"IT\",\"IT\",\"IT\",\"IT\",\"Legal\",\"Sales\",\"IT\",\"IT\",\"IT\",\"IT\",\"Legal\",\"IT\",\"IT\",\"IT\",\"Sales\",\"HR\",\"IT\",\"IT\",\"HR\",\"Sales\",\"IT\",\"IT\",\"Consulting\",\"IT\",\"Legal\",\"IT\",\"IT\",\"IT\",\"Sales\",\"IT\",\"Sales\",\"IT\",\"Consulting\",\"IT\",\"IT\",\"Consulting\",\"HR\",\"IT\",\"IT\",\"IT\",\"IT\",\"IT\",\"IT\",\"HR\",\"IT\",\"HR\",\"Sales\",\"IT\",\"Finance\",\"HR\",\"IT\",\"Finance\",\"Legal\",\"Sales\",\"IT\",\"IT\",\"IT\",\"Sales\",\"Finance\",\"Finance\",\"HR\",\"IT\",\"IT\",\"IT\",\"HR\",\"Sales\",\"Legal\",\"Legal\",\"IT\",\"Legal\",\"IT\",\"Legal\",\"Sales\",\"Sales\",\"Consulting\",\"IT\",\"IT\",\"IT\",\"IT\",\"IT\",\"IT\",\"IT\",\"IT\",\"IT\",\"IT\",\"Finance\",\"Legal\",\"Legal\",\"Consulting\",\"IT\",\"Consulting\",\"IT\",\"Finance\",\"Finance\",\"IT\",\"HR\",\"IT\",\"Legal\",\"IT\",\"Sales\",\"IT\",\"IT\",\"IT\",\"IT\",\"Consulting\",\"IT\",\"IT\",\"HR\",\"HR\",\"IT\",\"IT\",\"IT\",\"Sales\",\"Consulting\",\"HR\",\"Sales\",\"Finance\",\"IT\",\"Sales\",\"IT\",\"Consulting\",\"Finance\",\"IT\",\"Consulting\",\"Finance\",\"IT\",\"Sales\",\"Consulting\",\"IT\",\"IT\",\"IT\",\"IT\",\"Sales\",\"IT\",\"IT\",\"HR\",\"IT\",\"Finance\",\"IT\",\"IT\",\"IT\",\"HR\",\"IT\",\"Sales\",\"IT\",\"IT\",\"Legal\",\"Sales\",\"Sales\",\"HR\",\"Legal\",\"Legal\",\"IT\",\"HR\",\"IT\",\"Sales\",\"Consulting\",\"HR\",\"IT\",\"IT\",\"Finance\",\"Consulting\",\"Finance\",\"Sales\",\"HR\",\"HR\",\"IT\",\"IT\",\"IT\",\"IT\",\"Sales\",\"Finance\",\"IT\",\"Consulting\",\"HR\",\"IT\",\"IT\",\"IT\",\"IT\",\"Finance\",\"Consulting\",\"IT\",\"IT\",\"IT\",\"Sales\",\"IT\",\"Finance\",\"Finance\",\"IT\",\"IT\",\"Consulting\",\"Sales\",\"Consulting\",\"HR\",\"Finance\",\"Consulting\",\"Sales\",\"IT\",\"Finance\",\"IT\",\"Consulting\",\"Consulting\",\"IT\",\"IT\",\"Finance\",\"IT\",\"IT\",\"IT\",\"IT\",\"IT\",\"IT\",\"Sales\",\"Sales\",\"Consulting\",\"IT\",\"IT\",\"IT\",\"Finance\",\"IT\",\"Sales\",\"Consulting\",\"IT\",\"IT\",\"Legal\",\"HR\",\"Sales\",\"HR\",\"Sales\",\"IT\",\"Finance\",\"Sales\",\"Sales\",\"IT\",\"IT\",\"Legal\",\"Consulting\",\"HR\",\"Finance\",\"Sales\",\"HR\",\"IT\",\"IT\",\"Sales\",\"IT\",\"HR\",\"IT\",\"Sales\",\"IT\",\"Sales\",\"Finance\",\"Consulting\",\"HR\",\"Finance\",\"Legal\",\"IT\",\"IT\",\"IT\",\"Finance\",\"IT\",\"Finance\",\"Legal\",\"HR\",\"Finance\",\"IT\",\"IT\",\"Sales\",\"IT\",\"Finance\",\"Sales\",\"IT\",\"IT\",\"IT\",\"Sales\",\"Legal\",\"Sales\",\"Sales\",\"IT\",\"Sales\",\"Finance\",\"IT\",\"Finance\",\"Consulting\",\"HR\",\"Consulting\",\"Consulting\",\"IT\",\"Sales\",\"HR\",\"Finance\",\"IT\",\"IT\",\"Sales\",\"Sales\",\"Legal\",\"Consulting\",\"Sales\",\"Legal\",\"Sales\",\"Legal\",\"IT\",\"IT\",\"Sales\",\"IT\",\"IT\",\"IT\",\"IT\",\"HR\",\"IT\",\"IT\",\"IT\",\"HR\",\"Sales\",\"IT\",\"IT\",\"Finance\",\"Finance\",\"IT\",\"Sales\",\"IT\",\"IT\",\"IT\",\"IT\",\"Sales\",\"Consulting\",\"HR\",\"HR\",\"HR\",\"IT\",\"HR\",\"HR\",\"Legal\",\"IT\",\"Sales\",\"IT\",\"IT\",\"IT\",\"IT\",\"IT\",\"Sales\",\"HR\",\"IT\",\"Sales\",\"Sales\",\"IT\",\"Legal\",\"Sales\",\"IT\",\"Sales\",\"HR\",\"IT\",\"Sales\",\"IT\",\"Sales\",\"IT\",\"IT\",\"IT\",\"IT\",\"Consulting\",\"Legal\",\"Sales\",\"IT\",\"IT\",\"IT\",\"IT\",\"IT\",\"Legal\",\"IT\",\"IT\",\"IT\",\"IT\",\"IT\",\"IT\",\"IT\",\"IT\",\"Finance\",\"HR\",\"IT\",\"HR\",\"IT\",\"IT\",\"Sales\",\"HR\",\"Finance\",\"IT\",\"Sales\",\"Sales\",\"IT\",\"Consulting\",\"Legal\",\"IT\",\"Finance\",\"IT\",\"IT\",\"HR\",\"IT\",\"IT\",\"IT\",\"IT\",\"Consulting\",\"Finance\",\"Sales\",\"IT\",\"IT\",\"IT\",\"Consulting\",\"IT\",\"Consulting\",\"Finance\",\"Consulting\",\"Sales\",\"HR\",\"IT\",\"IT\",\"Finance\",\"Legal\",\"HR\",\"Finance\",\"Consulting\",\"IT\",\"HR\",\"Sales\",\"IT\",\"HR\",\"Sales\",\"Sales\",\"IT\",\"IT\",\"Consulting\",\"IT\",\"Sales\",\"IT\",\"Sales\",\"HR\",\"IT\",\"IT\",\"Consulting\",\"IT\",\"IT\",\"HR\",\"IT\",\"HR\",\"HR\",\"Finance\",\"Consulting\",\"IT\",\"HR\",\"HR\",\"IT\",\"IT\",\"HR\",\"IT\",\"IT\",\"IT\",\"Finance\",\"Finance\",\"IT\",\"Legal\",\"IT\",\"IT\",\"HR\",\"IT\",\"HR\",\"IT\",\"HR\",\"HR\",\"IT\",\"Sales\",\"Sales\",\"IT\",\"IT\",\"Sales\",\"Legal\",\"IT\",\"Consulting\",\"Consulting\",\"IT\",\"HR\",\"IT\",\"Consulting\",\"HR\",\"Legal\",\"IT\",\"IT\",\"IT\",\"IT\",\"IT\",\"IT\",\"Finance\",\"IT\",\"IT\",\"IT\",\"HR\",\"IT\",\"HR\",\"HR\",\"Sales\",\"Finance\",\"IT\",\"HR\",\"Consulting\",\"IT\",\"Legal\",\"Legal\",\"IT\",\"IT\",\"Sales\",\"Consulting\",\"Sales\",\"Sales\",\"Finance\",\"IT\",\"HR\",\"IT\",\"HR\",\"IT\",\"IT\",\"IT\",\"IT\",\"IT\",\"Consulting\",\"IT\",\"IT\",\"IT\",\"HR\",\"IT\",\"Legal\",\"IT\",\"IT\",\"IT\",\"IT\",\"IT\",\"IT\",\"IT\",\"IT\",\"Consulting\",\"IT\",\"Sales\",\"IT\",\"IT\",\"IT\",\"Finance\",\"Legal\",\"IT\",\"IT\",\"IT\",\"Sales\",\"Sales\",\"IT\",\"IT\",\"IT\",\"IT\",\"Sales\",\"Finance\",\"IT\",\"HR\",\"HR\",\"Sales\",\"IT\",\"HR\",\"IT\",\"Consulting\",\"Consulting\",\"IT\",\"Consulting\",\"Sales\",\"HR\",\"Sales\",\"IT\",\"Consulting\",\"Finance\",\"IT\",\"IT\",\"IT\",\"Consulting\",\"Sales\",\"IT\",\"IT\",\"IT\",\"IT\",\"IT\",\"IT\",\"Sales\",\"Finance\",\"IT\",\"HR\",\"Consulting\",\"HR\",\"IT\",\"Sales\",\"Sales\",\"IT\",\"IT\",\"Sales\",\"Sales\",\"Finance\",\"IT\",\"IT\",\"Sales\",\"IT\",\"IT\",\"IT\",\"Consulting\",\"IT\",\"IT\",\"Sales\",\"HR\",\"Sales\",\"Finance\",\"Sales\",\"IT\",\"IT\",\"HR\",\"Sales\",\"Finance\",\"Sales\",\"IT\",\"IT\",\"IT\",\"IT\",\"Consulting\",\"Sales\",\"Finance\",\"Consulting\",\"IT\",\"HR\",\"Sales\",\"IT\",\"Sales\",\"Finance\",\"Finance\",\"Legal\",\"IT\",\"Legal\",\"Consulting\",\"Sales\",\"Consulting\",\"Legal\",\"HR\",\"IT\",\"IT\",\"IT\",\"HR\",\"Sales\",\"IT\",\"Sales\",\"IT\",\"IT\",\"Finance\",\"Consulting\",\"IT\",\"HR\",\"IT\",\"Sales\",\"Consulting\",\"IT\",\"IT\",\"IT\",\"Sales\",\"IT\",\"Legal\",\"IT\",\"HR\",\"Finance\",\"IT\",\"IT\",\"IT\",\"Sales\",\"IT\",\"IT\",\"HR\",\"Sales\",\"IT\",\"Sales\",\"IT\",\"Finance\",\"IT\",\"Consulting\",\"IT\",\"Sales\",\"HR\",\"Sales\",\"Consulting\",\"Consulting\",\"Finance\",\"IT\",\"IT\",\"IT\",\"IT\",\"IT\",\"Consulting\",\"IT\",\"IT\",\"IT\",\"IT\",\"Legal\",\"IT\",\"IT\",\"Sales\",\"Consulting\",\"HR\",\"Sales\",\"IT\",\"Finance\",\"IT\",\"Legal\",\"HR\",\"IT\",\"Consulting\",\"Sales\",\"IT\",\"IT\",\"Finance\",\"Finance\",\"IT\",\"Finance\",\"IT\",\"Consulting\",\"IT\",\"IT\",\"Consulting\",\"IT\",\"Finance\",\"Finance\",\"IT\",\"IT\",\"Sales\",\"IT\",\"IT\",\"HR\",\"Consulting\",\"Finance\",\"Consulting\",\"Consulting\",\"IT\",\"IT\",\"Consulting\",\"IT\",\"HR\",\"IT\",\"Legal\",\"IT\",\"IT\",\"Legal\",\"IT\",\"Sales\",\"Finance\",\"IT\",\"Consulting\",\"IT\",\"Sales\",\"IT\",\"IT\",\"Finance\",\"IT\",\"Consulting\",\"IT\",\"IT\",\"Sales\",\"IT\",\"Consulting\",\"IT\",\"HR\",\"Legal\",\"IT\",\"HR\",\"Sales\",\"Finance\",\"Sales\",\"IT\",\"IT\",\"IT\",\"Sales\",\"HR\",\"HR\",\"IT\",\"Consulting\",\"Sales\",\"IT\",\"Sales\",\"IT\",\"IT\",\"IT\",\"Finance\",\"Finance\",\"HR\",\"IT\",\"HR\",\"Finance\",\"IT\",\"HR\",\"HR\",\"IT\",\"Sales\",\"Consulting\",\"Finance\",\"Sales\",\"HR\",\"HR\",\"Finance\",\"Finance\",\"Sales\",\"Finance\",\"Legal\",\"Finance\",\"IT\",\"IT\",\"Sales\",\"IT\",\"HR\",\"IT\",\"Sales\",\"IT\",\"IT\",\"Sales\",\"HR\",\"IT\",\"IT\",\"IT\",\"IT\",\"Finance\",\"IT\",\"HR\",\"IT\",\"Legal\",\"Sales\",\"IT\",\"Legal\",\"Sales\",\"IT\",\"IT\",\"HR\",\"IT\",\"IT\",\"IT\",\"IT\",\"HR\",\"IT\",\"IT\",\"Consulting\",\"HR\",\"Consulting\",\"IT\",\"Legal\",\"Sales\",\"Sales\",\"Consulting\",\"Consulting\",\"Sales\",\"Finance\",\"IT\",\"IT\",\"IT\",\"IT\",\"Legal\",\"Finance\",\"Finance\",\"HR\",\"IT\",\"HR\",\"IT\",\"HR\",\"IT\",\"HR\",\"Finance\",\"IT\",\"IT\",\"IT\",\"Finance\",\"IT\",\"IT\",\"Finance\",\"IT\",\"Sales\",\"IT\",\"Sales\",\"HR\",\"HR\",\"Sales\",\"Consulting\",\"Finance\",\"IT\",\"Finance\",\"IT\",\"IT\",\"Sales\",\"Consulting\",\"IT\",\"IT\",\"IT\",\"IT\",\"IT\",\"IT\",\"IT\",\"IT\",\"IT\",\"Legal\",\"IT\",\"IT\",\"Sales\",\"Sales\",\"Sales\",\"IT\",\"IT\",\"Consulting\",\"Sales\",\"Sales\",\"IT\",\"IT\",\"IT\",\"IT\",\"IT\",\"Consulting\",\"IT\",\"IT\",\"IT\",\"HR\",\"IT\",\"IT\",\"IT\",\"Finance\",\"IT\",\"Consulting\",\"IT\",\"IT\",\"IT\",\"IT\",\"Finance\",\"IT\",\"IT\",\"Sales\",\"HR\",\"IT\",\"IT\",\"IT\",\"IT\",\"IT\",\"IT\",\"IT\",\"IT\",\"IT\",\"IT\",\"IT\",\"Sales\",\"IT\",\"IT\",\"Finance\",\"Consulting\",\"Consulting\",\"HR\",\"IT\",\"IT\",\"IT\",\"IT\",\"HR\",\"Consulting\",\"Finance\",\"Finance\",\"IT\",\"IT\",\"Legal\",\"Sales\",\"IT\",\"IT\",\"IT\",\"Sales\",\"Consulting\",\"IT\",\"IT\",\"IT\",\"IT\",\"IT\",\"IT\",\"IT\",\"Sales\",\"IT\",\"HR\",\"Consulting\",\"Consulting\",\"IT\",\"Sales\",\"IT\",\"HR\",\"HR\",\"HR\",\"IT\",\"Finance\",\"IT\",\"Consulting\",\"IT\",\"Finance\",\"IT\",\"IT\",\"IT\",\"IT\",\"IT\",\"Sales\",\"Finance\",\"Sales\",\"IT\",\"IT\",\"IT\",\"Sales\",\"Legal\",\"IT\",\"Consulting\",\"Consulting\",\"IT\",\"Sales\",\"IT\",\"HR\",\"HR\",\"Consulting\",\"IT\",\"Finance\",\"IT\",\"Sales\",\"Consulting\",\"IT\",\"IT\",\"HR\",\"IT\",\"HR\",\"HR\",\"Consulting\",\"IT\",\"IT\",\"HR\",\"Sales\",\"HR\",\"Consulting\",\"IT\",\"Consulting\",\"HR\",\"IT\",\"IT\",\"IT\",\"Finance\",\"Consulting\",\"Sales\",\"Sales\",\"IT\",\"IT\",\"Sales\",\"HR\",\"IT\",\"IT\",\"Consulting\",\"Sales\",\"IT\",\"IT\",\"Consulting\",\"IT\",\"IT\",\"HR\",\"IT\",\"Legal\",\"Finance\",\"IT\",\"IT\",\"Finance\",\"HR\",\"Finance\",\"HR\",\"Consulting\",\"IT\",\"HR\",\"Sales\",\"IT\",\"IT\",\"IT\",\"Consulting\",\"Sales\",\"IT\",\"Finance\",\"HR\",\"IT\",\"HR\",\"IT\",\"IT\",\"IT\",\"Consulting\",\"HR\",\"IT\",\"IT\",\"IT\",\"IT\",\"IT\",\"IT\",\"IT\",\"Sales\",\"IT\",\"Finance\",\"IT\",\"IT\",\"Finance\",\"IT\",\"IT\",\"Legal\",\"Consulting\",\"Consulting\",\"IT\",\"HR\",\"IT\",\"Sales\",\"HR\",\"IT\",\"IT\",\"Sales\",\"Consulting\",\"IT\",\"IT\",\"Sales\",\"HR\",\"Finance\",\"IT\",\"IT\",\"IT\",\"HR\",\"Sales\",\"IT\",\"IT\",\"IT\",\"HR\",\"IT\",\"Sales\",\"Consulting\",\"Finance\",\"Consulting\",\"Finance\",\"HR\",\"HR\",\"HR\",\"IT\",\"IT\",\"Sales\",\"HR\",\"IT\",\"Consulting\",\"IT\",\"IT\",\"Consulting\",\"IT\",\"HR\",\"Consulting\",\"Finance\",\"IT\",\"IT\",\"IT\",\"Sales\",\"Finance\",\"HR\",\"HR\",\"IT\",\"Finance\",\"Consulting\",\"Finance\",\"Consulting\",\"Sales\",\"Sales\",\"IT\",\"IT\",\"IT\",\"IT\",\"Finance\",\"IT\",\"IT\",\"Legal\",\"HR\",\"IT\",\"IT\",\"Sales\",\"IT\",\"Consulting\",\"Sales\",\"Sales\",\"IT\",\"IT\",\"Finance\",\"Sales\",\"Sales\",\"IT\",\"HR\",\"IT\",\"Consulting\",\"IT\",\"IT\",\"Sales\",\"Sales\",\"IT\",\"IT\",\"Sales\",\"IT\",\"Legal\",\"Consulting\",\"IT\",\"Sales\",\"HR\",\"Sales\",\"Consulting\",\"IT\",\"IT\",\"Sales\",\"IT\",\"IT\",\"IT\",\"Consulting\",\"HR\",\"IT\",\"IT\",\"Sales\",\"IT\",\"IT\",\"Consulting\",\"IT\",\"Legal\",\"IT\",\"IT\",\"IT\",\"Finance\",\"IT\",\"Sales\",\"IT\",\"Consulting\",\"IT\",\"IT\",\"HR\",\"Sales\",\"HR\",\"Sales\",\"Finance\",\"IT\",\"IT\",\"Sales\",\"IT\",\"Legal\",\"Finance\",\"IT\",\"Consulting\",\"HR\",\"Finance\",\"IT\",\"Sales\",\"Consulting\",\"IT\",\"IT\",\"IT\",\"HR\",\"Consulting\",\"Legal\",\"Sales\",\"Sales\",\"Sales\",\"IT\",\"IT\",\"Sales\",\"Consulting\",\"Consulting\",\"IT\",\"Consulting\",\"Consulting\",\"IT\",\"IT\",\"IT\",\"IT\",\"Finance\",\"IT\",\"IT\",\"Sales\",\"IT\",\"Sales\",\"Legal\",\"HR\",\"Sales\",\"IT\",\"IT\",\"Finance\",\"Sales\",\"IT\",\"Consulting\",\"Consulting\",\"IT\",\"Sales\",\"IT\",\"IT\",\"Sales\",\"IT\",\"IT\",\"IT\",\"Finance\",\"Sales\",\"IT\",\"IT\",\"Consulting\",\"IT\",\"HR\",\"HR\",\"Sales\",\"IT\",\"Consulting\",\"IT\",\"IT\",\"IT\",\"IT\",\"IT\",\"IT\",\"Sales\",\"Legal\",\"Sales\",\"IT\",\"IT\",\"Sales\",\"IT\",\"Sales\",\"IT\",\"IT\",\"IT\",\"IT\",\"Sales\",\"Finance\",\"Legal\",\"Finance\",\"Sales\",\"IT\",\"Finance\",\"IT\",\"Consulting\",\"Consulting\",\"IT\",\"IT\",\"HR\",\"IT\",\"Sales\",\"IT\",\"Finance\",\"HR\",\"IT\",\"HR\",\"Consulting\",\"Consulting\",\"Consulting\",\"IT\",\"IT\",\"IT\",\"IT\",\"IT\",\"Consulting\",\"IT\",\"IT\",\"IT\",\"IT\",\"Sales\",\"Consulting\",\"IT\",\"IT\",\"HR\",\"IT\",\"IT\",\"Sales\",\"IT\",\"IT\",\"IT\",\"IT\",\"IT\",\"IT\",\"IT\",\"IT\",\"Sales\",\"Sales\",\"IT\",\"IT\",\"Legal\",\"IT\",\"HR\",\"Sales\",\"Consulting\",\"HR\",\"HR\",\"Consulting\",\"IT\",\"IT\",\"Consulting\",\"Sales\",\"Finance\",\"IT\",\"IT\",\"IT\",\"Consulting\",\"IT\",\"Legal\",\"Consulting\",\"Finance\",\"IT\",\"Sales\",\"Sales\",\"IT\",\"Consulting\",\"IT\",\"IT\",\"IT\",\"HR\",\"Consulting\",\"IT\",\"Sales\",\"HR\",\"Sales\",\"Consulting\",\"IT\",\"IT\",\"IT\",\"Consulting\",\"Sales\",\"IT\",\"IT\",\"IT\",\"IT\",\"IT\",\"Consulting\",\"Finance\",\"IT\",\"IT\",\"IT\",\"IT\",\"IT\",\"Sales\",\"IT\",\"IT\",\"IT\",\"IT\",\"Consulting\",\"IT\",\"IT\",\"IT\",\"IT\",\"HR\",\"IT\",\"Finance\",\"Finance\",\"Sales\",\"Sales\",\"Finance\",\"Sales\",\"Finance\",\"IT\",\"IT\",\"Sales\",\"IT\",\"Consulting\",\"Finance\",\"IT\",\"Legal\",\"Sales\",\"IT\",\"IT\",\"IT\",\"IT\",\"IT\",\"IT\",\"Sales\",\"Sales\",\"IT\",\"Sales\",\"HR\",\"IT\",\"IT\",\"Consulting\",\"Sales\",\"IT\",\"Sales\",\"IT\",\"IT\",\"Consulting\",\"IT\",\"IT\",\"Finance\",\"Consulting\",\"Sales\",\"IT\",\"Finance\",\"IT\",\"HR\",\"Sales\",\"Consulting\",\"Sales\",\"IT\",\"IT\",\"IT\",\"Sales\",\"IT\",\"IT\",\"Legal\",\"Consulting\",\"Consulting\",\"IT\",\"Consulting\",\"IT\",\"Sales\",\"IT\",\"IT\",\"IT\",\"HR\",\"Consulting\",\"Finance\",\"IT\",\"IT\",\"IT\",\"IT\",\"IT\",\"IT\",\"Sales\",\"IT\",\"Consulting\",\"HR\",\"Sales\",\"IT\",\"IT\",\"Legal\",\"HR\",\"IT\",\"Legal\",\"Finance\",\"Sales\",\"IT\",\"IT\",\"Consulting\",\"IT\",\"Sales\",\"IT\",\"Consulting\",\"IT\",\"HR\",\"IT\",\"Finance\",\"HR\",\"Sales\",\"IT\",\"Sales\",\"HR\",\"IT\",\"Sales\",\"IT\",\"Sales\",\"Consulting\",\"Consulting\",\"Sales\",\"IT\",\"Legal\",\"HR\",\"Consulting\",\"Finance\",\"IT\",\"Finance\",\"IT\",\"IT\",\"Sales\",\"Legal\",\"HR\",\"IT\",\"IT\",\"IT\",\"Sales\",\"IT\",\"Consulting\",\"IT\",\"Finance\",\"IT\",\"Legal\",\"IT\",\"IT\",\"Consulting\",\"IT\",\"IT\",\"Legal\",\"IT\",\"IT\",\"Sales\",\"IT\",\"HR\",\"HR\",\"Consulting\",\"IT\",\"HR\",\"IT\",\"Sales\",\"IT\",\"IT\",\"HR\",\"IT\",\"HR\",\"HR\",\"HR\",\"IT\",\"IT\",\"Sales\",\"Consulting\",\"IT\",\"IT\",\"IT\",\"HR\",\"IT\",\"IT\",\"Finance\",\"IT\",\"IT\",\"Sales\",\"IT\",\"IT\",\"IT\",\"Sales\",\"IT\",\"IT\",\"Legal\",\"Sales\",\"IT\",\"IT\",\"Finance\",\"Sales\",\"Consulting\",\"IT\",\"IT\",\"IT\",\"IT\",\"Sales\",\"HR\",\"Consulting\",\"IT\",\"IT\",\"Consulting\",\"Finance\",\"IT\",\"IT\",\"HR\",\"IT\",\"IT\",\"IT\",\"Sales\",\"IT\",\"IT\",\"Finance\",\"IT\",\"Legal\",\"IT\",\"Finance\",\"Consulting\",\"IT\",\"IT\",\"IT\",\"Consulting\",\"IT\",\"HR\",\"IT\",\"IT\",\"Finance\",\"HR\",\"IT\",\"Legal\",\"IT\",\"IT\",\"IT\",\"HR\",\"IT\",\"Sales\",\"IT\",\"HR\",\"IT\",\"HR\",\"Finance\",\"Sales\",\"Sales\",\"Finance\",\"IT\",\"IT\",\"HR\",\"IT\",\"Sales\",\"Consulting\",\"IT\",\"Finance\",\"Finance\",\"Sales\",\"IT\",\"IT\",\"IT\",\"IT\",\"HR\",\"HR\",\"IT\",\"IT\",\"Consulting\",\"IT\",\"IT\",\"Finance\",\"IT\",\"Consulting\",\"IT\",\"Finance\",\"IT\",\"IT\",\"IT\",\"HR\",\"IT\",\"Consulting\",\"IT\",\"HR\",\"IT\",\"Consulting\",\"IT\",\"HR\",\"Consulting\",\"IT\",\"HR\",\"Consulting\",\"IT\",\"Consulting\",\"IT\",\"Sales\",\"Consulting\",\"IT\",\"IT\",\"IT\",\"IT\",\"Finance\",\"IT\",\"IT\",\"IT\",\"Sales\",\"IT\",\"Sales\",\"IT\",\"Finance\",\"IT\",\"IT\",\"Sales\",\"Consulting\",\"IT\",\"IT\",\"Sales\",\"IT\",\"IT\",\"IT\",\"HR\",\"IT\",\"HR\",\"Finance\",\"IT\",\"IT\",\"IT\",\"Legal\",\"Sales\",\"Consulting\",\"IT\",\"Sales\",\"Consulting\",\"IT\",\"IT\",\"HR\",\"IT\",\"IT\",\"Sales\",\"Sales\",\"Finance\",\"IT\",\"HR\",\"IT\",\"IT\",\"IT\",\"IT\",\"HR\",\"IT\",\"Consulting\",\"HR\",\"HR\",\"IT\",\"Legal\",\"IT\",\"IT\",\"Legal\",\"IT\",\"Legal\",\"IT\",\"Sales\",\"IT\",\"Finance\",\"HR\",\"Sales\",\"HR\",\"Consulting\",\"Sales\",\"IT\",\"HR\",\"Sales\",\"Consulting\",\"IT\",\"Sales\",\"HR\",\"Finance\",\"IT\",\"IT\",\"Consulting\",\"Consulting\",\"IT\",\"IT\",\"HR\",\"HR\",\"IT\",\"IT\",\"Legal\",\"Legal\",\"HR\",\"IT\",\"Legal\",\"IT\",\"IT\",\"IT\",\"IT\",\"Finance\",\"Sales\",\"Legal\",\"Sales\",\"Finance\",\"IT\",\"IT\",\"Sales\",\"IT\",\"Sales\",\"Finance\",\"IT\",\"IT\",\"IT\",\"IT\",\"Finance\",\"IT\",\"IT\",\"IT\",\"IT\",\"Sales\",\"IT\",\"Consulting\",\"Sales\",\"IT\",\"IT\",\"IT\",\"IT\",\"HR\",\"IT\",\"IT\",\"Sales\",\"IT\",\"IT\",\"HR\",\"IT\",\"IT\",\"IT\",\"IT\",\"IT\",\"HR\",\"IT\",\"IT\",\"IT\",\"Sales\",\"Finance\",\"HR\",\"IT\",\"Finance\",\"HR\",\"Sales\",\"IT\",\"IT\",\"IT\",\"HR\",\"Consulting\",\"Consulting\",\"IT\",\"IT\",\"IT\",\"Finance\",\"Sales\",\"IT\",\"IT\",\"IT\",\"IT\",\"HR\",\"Finance\",\"IT\",\"IT\",\"IT\",\"Finance\",\"Sales\",\"Consulting\",\"IT\",\"IT\",\"HR\",\"IT\",\"Finance\",\"HR\",\"IT\",\"Consulting\",\"Sales\",\"Sales\",\"IT\",\"IT\",\"Legal\",\"Finance\",\"IT\",\"IT\",\"IT\",\"Sales\",\"Finance\",\"HR\",\"IT\",\"IT\",\"Sales\",\"IT\",\"IT\",\"IT\",\"Consulting\",\"IT\",\"IT\",\"Finance\",\"IT\",\"Legal\",\"HR\",\"IT\",\"IT\",\"Consulting\",\"HR\",\"IT\",\"Finance\",\"IT\",\"IT\",\"Sales\",\"IT\",\"Legal\",\"IT\",\"IT\",\"HR\",\"IT\",\"Sales\",\"IT\",\"Legal\",\"Consulting\",\"HR\",\"IT\",\"Legal\",\"IT\",\"IT\",\"Sales\",\"Sales\",\"IT\",\"IT\",\"IT\",\"IT\",\"Consulting\",\"Consulting\",\"Sales\",\"Sales\",\"IT\",\"IT\",\"IT\",\"Sales\",\"IT\",\"IT\",\"Finance\",\"IT\",\"IT\",\"IT\",\"IT\",\"Sales\",\"IT\",\"Sales\",\"Finance\",\"IT\",\"IT\",\"Legal\",\"IT\",\"Consulting\",\"HR\",\"HR\",\"IT\",\"IT\",\"Finance\",\"IT\",\"IT\",\"IT\",\"IT\",\"IT\",\"Consulting\",\"IT\",\"IT\",\"IT\",\"IT\",\"IT\",\"IT\",\"Legal\",\"Sales\",\"IT\",\"Finance\",\"Finance\",\"IT\",\"IT\",\"Consulting\",\"IT\",\"Consulting\",\"IT\",\"IT\",\"IT\",\"HR\",\"HR\",\"Finance\",\"IT\",\"IT\",\"IT\",\"IT\",\"IT\",\"IT\",\"Consulting\",\"IT\",\"IT\",\"IT\",\"Legal\",\"IT\",\"Finance\",\"Finance\",\"Consulting\",\"IT\",\"IT\",\"Legal\",\"IT\",\"Finance\",\"Sales\",\"IT\",\"Sales\",\"Finance\",\"IT\",\"Sales\",\"Finance\",\"Consulting\",\"Finance\",\"IT\",\"Finance\",\"Consulting\",\"IT\",\"IT\",\"IT\",\"HR\",\"IT\",\"IT\",\"IT\",\"Finance\",\"IT\",\"IT\",\"IT\",\"IT\",\"HR\",\"HR\",\"IT\",\"Finance\",\"Sales\",\"Finance\",\"IT\",\"IT\",\"Consulting\",\"Legal\",\"IT\",\"IT\",\"IT\",\"HR\",\"IT\",\"IT\",\"Consulting\",\"Consulting\",\"Finance\",\"Sales\",\"IT\",\"IT\",\"IT\",\"Finance\",\"IT\",\"IT\",\"Consulting\",\"IT\",\"Finance\",\"Sales\",\"Finance\",\"Sales\",\"IT\",\"IT\",\"HR\",\"Consulting\",\"Legal\",\"Consulting\",\"IT\",\"IT\",\"IT\",\"IT\",\"IT\",\"Finance\",\"Consulting\",\"IT\",\"Legal\",\"IT\",\"IT\",\"IT\",\"Sales\",\"IT\",\"IT\",\"IT\",\"Finance\",\"IT\",\"HR\",\"IT\",\"IT\",\"Consulting\",\"Sales\",\"Legal\",\"IT\",\"IT\",\"Legal\",\"Finance\",\"IT\",\"IT\",\"Sales\",\"IT\",\"IT\",\"IT\",\"IT\",\"IT\",\"Consulting\",\"Finance\",\"Finance\",\"Finance\",\"Sales\",\"Consulting\",\"IT\",\"IT\",\"HR\",\"IT\",\"IT\",\"Legal\",\"Sales\",\"IT\",\"Legal\",\"Sales\",\"IT\",\"Finance\",\"IT\",\"HR\",\"IT\",\"IT\",\"IT\",\"IT\",\"IT\",\"IT\",\"IT\",\"IT\",\"IT\",\"Finance\",\"IT\",\"IT\",\"HR\",\"IT\",\"HR\",\"Sales\",\"IT\",\"IT\",\"Consulting\",\"IT\",\"Consulting\",\"Consulting\",\"IT\",\"IT\",\"IT\",\"IT\",\"Consulting\",\"IT\",\"IT\",\"Finance\",\"Sales\",\"HR\",\"IT\",\"Sales\",\"Consulting\",\"Consulting\",\"IT\",\"HR\",\"Sales\",\"IT\",\"HR\",\"IT\",\"Sales\",\"Consulting\",\"Finance\",\"Consulting\",\"IT\",\"Sales\",\"IT\",\"IT\",\"IT\",\"Legal\",\"Sales\",\"Sales\",\"Finance\",\"IT\",\"IT\",\"IT\",\"IT\",\"IT\",\"IT\",\"IT\",\"HR\",\"Consulting\",\"Sales\",\"IT\",\"Sales\",\"Finance\",\"IT\",\"HR\",\"Sales\",\"IT\",\"IT\",\"IT\",\"HR\",\"IT\",\"IT\",\"HR\",\"IT\",\"Legal\",\"Sales\",\"IT\",\"Consulting\",\"IT\",\"Sales\",\"HR\",\"IT\",\"IT\",\"IT\",\"IT\",\"Finance\",\"Consulting\",\"Sales\",\"HR\",\"IT\",\"IT\",\"IT\",\"IT\",\"IT\",\"IT\",\"IT\",\"IT\",\"IT\",\"HR\",\"Sales\",\"IT\",\"Consulting\",\"IT\",\"IT\",\"Legal\",\"HR\",\"IT\",\"IT\",\"Consulting\",\"Sales\",\"Finance\",\"IT\",\"Sales\",\"IT\",\"IT\",\"Consulting\",\"IT\",\"Consulting\",\"IT\",\"Consulting\",\"IT\",\"IT\",\"IT\",\"Sales\",\"Consulting\",\"Sales\",\"Sales\",\"IT\",\"Finance\",\"IT\",\"Sales\",\"Consulting\",\"IT\",\"IT\",\"Sales\",\"Consulting\",\"Consulting\",\"Consulting\",\"Finance\",\"IT\",\"IT\",\"Consulting\",\"Finance\",\"Finance\",\"Finance\",\"Sales\",\"IT\",\"IT\",\"IT\",\"IT\",\"HR\",\"IT\",\"IT\",\"IT\",\"HR\",\"IT\",\"HR\",\"IT\",\"Finance\",\"IT\",\"Legal\",\"Consulting\",\"Sales\",\"Sales\",\"Legal\",\"IT\",\"Finance\",\"IT\",\"IT\",\"IT\",\"IT\",\"IT\",\"HR\",\"IT\",\"Finance\",\"IT\",\"IT\",\"Consulting\",\"IT\",\"Sales\",\"Consulting\",\"Sales\",\"Finance\",\"IT\",\"Sales\",\"IT\",\"IT\",\"HR\",\"Consulting\",\"IT\",\"IT\",\"HR\",\"IT\",\"Finance\",\"IT\",\"IT\",\"IT\",\"IT\",\"Finance\",\"IT\",\"Sales\",\"Finance\",\"IT\",\"IT\",\"IT\",\"IT\",\"IT\",\"IT\",\"Finance\",\"IT\",\"IT\",\"IT\",\"IT\",\"IT\",\"Sales\",\"Sales\",\"IT\",\"IT\",\"Sales\",\"Sales\",\"Finance\",\"IT\",\"HR\",\"HR\",\"IT\",\"IT\",\"Consulting\",\"Sales\",\"IT\",\"IT\",\"IT\",\"IT\",\"Sales\",\"IT\",\"Finance\",\"Finance\",\"Finance\",\"Sales\",\"Legal\",\"Sales\",\"HR\",\"IT\",\"Consulting\",\"Legal\",\"Legal\",\"HR\",\"Finance\",\"Sales\",\"IT\",\"Sales\",\"IT\",\"Finance\",\"IT\",\"Sales\",\"IT\",\"IT\",\"Sales\",\"HR\",\"HR\",\"Consulting\",\"IT\",\"IT\",\"HR\",\"Sales\",\"IT\",\"IT\",\"Sales\",\"Legal\",\"Finance\",\"HR\",\"Consulting\",\"IT\",\"Finance\",\"IT\",\"IT\",\"Sales\",\"Finance\",\"Consulting\",\"IT\",\"IT\",\"IT\",\"Legal\",\"Finance\",\"IT\",\"Consulting\",\"IT\",\"Consulting\",\"IT\",\"Consulting\",\"IT\",\"IT\",\"Finance\",\"Consulting\",\"IT\",\"IT\",\"Finance\",\"IT\",\"IT\",\"Finance\",\"IT\",\"Legal\",\"Legal\",\"Consulting\",\"Legal\",\"Legal\",\"Sales\",\"Consulting\",\"IT\",\"Sales\",\"HR\",\"IT\",\"IT\",\"IT\",\"IT\",\"IT\",\"Consulting\",\"Finance\",\"Legal\",\"HR\",\"HR\",\"IT\",\"IT\",\"IT\",\"Sales\",\"Sales\",\"IT\",\"IT\",\"Sales\",\"IT\",\"IT\",\"Sales\",\"Consulting\",\"Consulting\",\"IT\",\"HR\",\"IT\",\"Sales\",\"Sales\",\"IT\",\"Consulting\",\"IT\",\"IT\",\"IT\",\"IT\",\"IT\",\"Consulting\",\"Sales\",\"IT\",\"IT\",\"IT\",\"IT\",\"IT\",\"Sales\",\"IT\",\"IT\",\"IT\",\"IT\",\"IT\",\"IT\",\"IT\",\"IT\",\"IT\",\"Sales\",\"IT\",\"Sales\",\"Sales\",\"Finance\",\"HR\",\"IT\",\"HR\",\"IT\",\"IT\",\"IT\",\"IT\",\"Sales\",\"Finance\",\"IT\",\"IT\",\"IT\",\"Consulting\",\"IT\",\"IT\",\"IT\",\"IT\",\"IT\",\"IT\",\"Consulting\",\"IT\",\"IT\",\"IT\",\"IT\",\"Finance\",\"Legal\",\"HR\",\"Sales\",\"IT\",\"IT\",\"IT\",\"IT\",\"Sales\",\"HR\",\"IT\",\"IT\",\"IT\",\"Consulting\",\"IT\",\"Finance\",\"HR\",\"IT\",\"Sales\",\"IT\",\"HR\",\"IT\",\"Sales\",\"Finance\",\"IT\",\"IT\",\"Finance\",\"Sales\",\"Finance\",\"Legal\",\"IT\",\"IT\",\"IT\",\"IT\",\"Sales\",\"IT\",\"IT\",\"IT\",\"Finance\",\"Sales\",\"IT\",\"IT\",\"IT\",\"IT\",\"IT\",\"IT\",\"IT\",\"IT\",\"Sales\",\"Consulting\",\"IT\",\"Finance\",\"Consulting\",\"IT\",\"HR\",\"HR\",\"Sales\",\"Finance\",\"Sales\",\"IT\",\"Finance\",\"HR\",\"HR\",\"Finance\",\"Sales\",\"IT\",\"IT\",\"Legal\",\"IT\",\"IT\",\"HR\",\"HR\",\"Sales\",\"Consulting\",\"Consulting\",\"Finance\",\"Sales\",\"Finance\",\"IT\",\"Consulting\",\"Sales\",\"IT\",\"Legal\",\"Sales\",\"Consulting\",\"HR\",\"Consulting\",\"IT\",\"IT\",\"IT\",\"IT\",\"Consulting\",\"Finance\",\"IT\",\"IT\",\"IT\",\"Finance\",\"IT\",\"IT\",\"Finance\",\"Consulting\",\"Sales\",\"IT\",\"Sales\",\"Consulting\",\"Finance\",\"Sales\",\"Consulting\",\"HR\",\"HR\",\"Finance\",\"IT\",\"IT\",\"HR\",\"IT\",\"IT\",\"Finance\",\"Sales\",\"IT\",\"HR\",\"Sales\",\"IT\",\"IT\",\"IT\",\"IT\",\"IT\",\"IT\",\"IT\",\"IT\",\"IT\",\"IT\",\"IT\",\"IT\",\"Consulting\",\"IT\",\"IT\",\"Consulting\",\"Sales\",\"IT\",\"IT\",\"Sales\",\"IT\",\"IT\",\"IT\",\"IT\",\"IT\",\"Finance\",\"IT\",\"Finance\",\"HR\",\"Finance\",\"IT\",\"Consulting\",\"IT\",\"Consulting\",\"HR\",\"Sales\",\"Sales\",\"IT\",\"IT\",\"IT\",\"Sales\",\"IT\",\"Consulting\",\"IT\",\"IT\",\"Sales\",\"IT\",\"Consulting\",\"Finance\",\"IT\",\"IT\",\"IT\",\"HR\",\"IT\",\"IT\",\"Finance\",\"HR\",\"IT\",\"Consulting\",\"Sales\",\"IT\",\"HR\",\"IT\",\"IT\",\"Consulting\",\"Consulting\",\"IT\",\"IT\",\"Legal\",\"HR\",\"Consulting\",\"IT\",\"Finance\",\"Sales\",\"IT\",\"Finance\",\"IT\",\"IT\",\"IT\",\"IT\",\"IT\",\"IT\",\"Sales\",\"Sales\",\"HR\",\"IT\",\"Finance\",\"Consulting\",\"IT\",\"IT\",\"IT\",\"Finance\",\"Finance\",\"IT\",\"Sales\",\"Legal\",\"IT\",\"IT\",\"IT\",\"Legal\",\"IT\",\"HR\",\"IT\",\"IT\",\"Consulting\",\"IT\",\"Sales\",\"Sales\",\"Finance\",\"IT\",\"Legal\",\"IT\",\"Finance\",\"IT\",\"IT\",\"IT\",\"IT\",\"IT\",\"HR\",\"IT\",\"IT\",\"Consulting\",\"IT\",\"IT\",\"Sales\",\"Legal\",\"IT\",\"IT\",\"Sales\",\"IT\",\"Sales\",\"IT\",\"HR\",\"IT\",\"IT\",\"Sales\",\"Legal\",\"HR\",\"Legal\",\"IT\",\"Consulting\",\"Sales\",\"IT\",\"Finance\",\"Finance\",\"Consulting\",\"IT\",\"IT\",\"IT\",\"Consulting\",\"Consulting\",\"IT\",\"Consulting\",\"Legal\",\"IT\",\"Legal\",\"Consulting\",\"Consulting\",\"IT\",\"Consulting\",\"Legal\",\"Sales\",\"Sales\",\"IT\",\"IT\",\"IT\",\"Consulting\",\"IT\",\"IT\",\"Finance\",\"Legal\",\"HR\",\"HR\",\"IT\",\"IT\",\"Legal\",\"IT\",\"IT\",\"IT\",\"IT\",\"IT\",\"IT\",\"IT\",\"Consulting\",\"Finance\",\"IT\",\"IT\",\"IT\",\"IT\",\"Consulting\",\"IT\",\"Legal\",\"IT\",\"IT\",\"Consulting\",\"HR\",\"Consulting\",\"IT\",\"IT\",\"Finance\",\"IT\",\"IT\",\"Consulting\",\"Sales\",\"HR\",\"IT\",\"IT\",\"IT\",\"IT\",\"IT\",\"Sales\",\"Sales\",\"IT\",\"Consulting\",\"HR\",\"Consulting\",\"IT\",\"Consulting\",\"Sales\",\"IT\",\"Finance\",\"Sales\",\"Finance\",\"Consulting\",\"Consulting\",\"IT\",\"IT\",\"IT\",\"Finance\",\"Sales\",\"Legal\",\"IT\",\"HR\",\"IT\",\"Consulting\",\"IT\",\"Legal\",\"Sales\",\"Sales\",\"IT\",\"HR\",\"IT\",\"IT\",\"Consulting\",\"IT\",\"Consulting\",\"IT\",\"IT\",\"Legal\",\"IT\",\"IT\",\"IT\",\"Consulting\",\"IT\",\"Consulting\",\"IT\",\"IT\",\"IT\",\"IT\",\"IT\",\"HR\",\"IT\",\"HR\",\"HR\",\"Sales\",\"IT\",\"Sales\",\"HR\",\"HR\",\"Sales\",\"IT\",\"Finance\",\"IT\",\"Finance\",\"IT\",\"IT\",\"Consulting\",\"IT\",\"IT\",\"Sales\",\"IT\",\"IT\",\"IT\",\"Consulting\",\"IT\",\"IT\",\"HR\",\"IT\",\"Legal\",\"Sales\",\"Sales\",\"IT\",\"Consulting\",\"IT\",\"Finance\",\"Finance\",\"Finance\",\"Finance\",\"IT\",\"HR\",\"IT\",\"IT\",\"Sales\",\"HR\",\"IT\",\"Sales\",\"IT\",\"HR\",\"IT\",\"Finance\",\"IT\",\"HR\",\"Consulting\",\"Sales\",\"Sales\",\"Sales\",\"Legal\",\"IT\",\"HR\",\"Consulting\",\"Sales\",\"IT\",\"IT\",\"IT\",\"Consulting\",\"HR\",\"Sales\",\"Finance\",\"IT\",\"Legal\",\"Sales\",\"Sales\",\"Legal\",\"IT\",\"Consulting\",\"Sales\",\"IT\",\"IT\",\"Consulting\",\"IT\",\"IT\",\"Consulting\",\"Sales\",\"HR\",\"Finance\",\"Legal\",\"IT\",\"IT\",\"IT\",\"IT\",\"IT\",\"Sales\",\"IT\",\"IT\",\"HR\",\"Consulting\",\"IT\",\"Finance\",\"Sales\",\"Consulting\",\"Consulting\",\"IT\",\"IT\",\"IT\",\"IT\",\"Sales\",\"Sales\",\"IT\",\"Consulting\",\"IT\",\"IT\",\"HR\",\"IT\",\"Sales\",\"IT\",\"HR\",\"IT\",\"IT\",\"Consulting\",\"IT\",\"Finance\",\"IT\",\"Finance\",\"Legal\",\"Sales\",\"IT\",\"IT\",\"HR\",\"IT\",\"Sales\",\"IT\",\"IT\",\"IT\",\"IT\",\"Finance\",\"IT\",\"Legal\",\"IT\",\"IT\",\"IT\",\"Consulting\",\"IT\",\"Sales\",\"IT\",\"Legal\",\"IT\",\"IT\",\"IT\",\"IT\",\"IT\",\"Consulting\",\"Finance\",\"IT\",\"IT\",\"IT\",\"IT\",\"Sales\",\"IT\",\"IT\",\"IT\",\"IT\",\"Sales\",\"Finance\",\"Finance\",\"Sales\",\"IT\",\"IT\",\"HR\",\"IT\",\"Sales\",\"Finance\",\"IT\",\"Consulting\",\"Consulting\",\"Finance\",\"IT\",\"HR\",\"IT\",\"IT\",\"IT\",\"IT\",\"Sales\",\"IT\",\"IT\",\"HR\",\"IT\",\"IT\",\"Consulting\",\"HR\",\"Sales\",\"Sales\",\"HR\",\"Sales\",\"Finance\",\"IT\",\"IT\",\"Consulting\",\"IT\",\"IT\",\"Consulting\",\"HR\",\"Sales\",\"IT\",\"Finance\",\"HR\",\"IT\",\"IT\",\"Sales\",\"IT\",\"IT\",\"Finance\",\"Consulting\",\"IT\",\"HR\",\"Legal\",\"Sales\",\"IT\",\"Sales\",\"IT\",\"Finance\",\"IT\",\"IT\",\"IT\",\"IT\",\"Sales\",\"Finance\",\"IT\",\"IT\",\"IT\",\"Sales\",\"Consulting\",\"IT\",\"Sales\",\"Sales\",\"IT\",\"IT\",\"IT\",\"Finance\",\"IT\",\"Finance\",\"IT\",\"Finance\",\"Legal\",\"Consulting\",\"Sales\",\"IT\",\"IT\",\"Consulting\",\"IT\",\"IT\",\"HR\",\"HR\",\"IT\",\"HR\",\"IT\",\"Sales\",\"Sales\",\"IT\",\"Legal\",\"IT\",\"Consulting\",\"HR\",\"IT\",\"IT\",\"IT\",\"Sales\",\"Sales\",\"Sales\",\"IT\",\"IT\",\"Consulting\",\"IT\",\"IT\",\"HR\",\"Consulting\",\"Finance\",\"IT\",\"Finance\",\"Legal\",\"IT\",\"IT\",\"Finance\",\"IT\",\"Consulting\",\"IT\",\"Sales\",\"Sales\",\"Finance\",\"HR\",\"Legal\",\"IT\",\"IT\",\"Sales\",\"IT\",\"Sales\",\"Sales\",\"IT\",\"Consulting\",\"IT\",\"Sales\",\"Legal\",\"HR\",\"Finance\",\"IT\",\"Finance\",\"IT\",\"IT\",\"Sales\",\"IT\",\"IT\",\"Sales\",\"Sales\",\"IT\",\"HR\",\"Finance\",\"IT\",\"Consulting\",\"HR\",\"Legal\",\"Consulting\",\"Consulting\",\"IT\",\"IT\",\"IT\",\"Sales\",\"HR\",\"IT\",\"Sales\",\"Consulting\",\"HR\",\"HR\",\"HR\",\"Legal\",\"Sales\",\"Sales\",\"IT\",\"Finance\",\"Sales\",\"IT\",\"Sales\",\"Legal\",\"Finance\",\"Sales\",\"Finance\",\"IT\",\"HR\",\"Consulting\",\"Finance\",\"Finance\",\"Sales\",\"IT\",\"Consulting\",\"IT\",\"IT\",\"Consulting\",\"Consulting\",\"IT\",\"Finance\",\"Consulting\",\"Legal\",\"Legal\",\"IT\",\"Sales\",\"Legal\",\"Sales\",\"IT\",\"HR\",\"Sales\",\"Sales\",\"Finance\",\"IT\",\"Sales\",\"IT\",\"Sales\",\"Legal\",\"Legal\",\"IT\",\"Consulting\",\"IT\",\"HR\",\"IT\",\"Sales\",\"IT\",\"IT\",\"IT\",\"HR\",\"Consulting\",\"Consulting\",\"Sales\",\"IT\",\"HR\",\"Sales\",\"Consulting\",\"HR\",\"Sales\",\"IT\",\"IT\",\"HR\",\"Finance\",\"Legal\",\"IT\",\"Consulting\",\"HR\",\"IT\",\"HR\",\"Finance\",\"IT\",\"IT\",\"Sales\",\"IT\",\"IT\",\"IT\",\"IT\",\"IT\",\"Sales\",\"Consulting\",\"IT\",\"Sales\",\"Legal\",\"Sales\",\"Finance\",\"IT\",\"Consulting\",\"IT\",\"IT\",\"IT\",\"IT\",\"IT\",\"IT\",\"IT\",\"IT\",\"IT\",\"IT\",\"Sales\",\"IT\",\"IT\",\"Consulting\",\"Consulting\",\"IT\",\"IT\",\"Consulting\",\"Finance\",\"Consulting\",\"IT\",\"IT\",\"Consulting\",\"Sales\",\"IT\",\"Sales\",\"Finance\",\"Sales\",\"IT\",\"IT\",\"Consulting\",\"Finance\",\"IT\",\"Legal\",\"Legal\",\"IT\",\"Consulting\",\"IT\",\"IT\",\"Legal\",\"Sales\",\"IT\",\"IT\",\"IT\",\"Sales\",\"IT\",\"IT\",\"Sales\",\"HR\",\"Finance\",\"IT\",\"IT\",\"IT\",\"HR\",\"IT\",\"Finance\",\"HR\",\"IT\",\"IT\",\"Sales\",\"IT\",\"Finance\",\"IT\",\"Sales\",\"IT\",\"IT\",\"Legal\",\"IT\",\"Finance\",\"Legal\",\"Sales\",\"IT\",\"IT\",\"IT\",\"IT\",\"IT\",\"HR\",\"Sales\",\"HR\",\"IT\",\"Sales\",\"HR\",\"Finance\",\"Sales\",\"IT\",\"IT\",\"Consulting\",\"Consulting\",\"Sales\",\"IT\",\"Sales\",\"IT\",\"Finance\",\"IT\",\"IT\",\"IT\",\"Finance\",\"IT\",\"IT\",\"Consulting\",\"IT\",\"Consulting\",\"IT\",\"Legal\",\"IT\",\"Sales\",\"HR\",\"IT\",\"Consulting\",\"HR\",\"Sales\",\"Finance\",\"IT\",\"Finance\",\"IT\",\"Sales\",\"IT\",\"IT\",\"IT\",\"IT\",\"Finance\",\"IT\",\"IT\",\"Finance\",\"IT\",\"HR\",\"Consulting\",\"Sales\",\"Sales\",\"Consulting\",\"IT\",\"IT\",\"IT\",\"Sales\",\"IT\",\"IT\",\"IT\",\"HR\",\"IT\",\"Finance\",\"Sales\",\"IT\",\"Consulting\",\"Consulting\",\"Legal\",\"IT\",\"Consulting\",\"Legal\",\"IT\",\"IT\",\"Consulting\",\"IT\",\"IT\",\"HR\",\"HR\",\"Finance\",\"IT\",\"IT\",\"IT\",\"IT\",\"Legal\",\"Consulting\",\"Sales\",\"IT\",\"HR\",\"IT\",\"IT\",\"Legal\",\"IT\",\"IT\",\"HR\",\"Consulting\",\"Consulting\",\"Sales\",\"HR\",\"HR\",\"HR\",\"Sales\",\"Legal\",\"IT\",\"Consulting\",\"Sales\",\"IT\",\"IT\",\"IT\",\"IT\",\"HR\",\"IT\",\"Finance\",\"HR\",\"HR\",\"IT\",\"Finance\",\"IT\",\"Sales\",\"Consulting\",\"Finance\",\"Sales\",\"IT\",\"IT\",\"Consulting\",\"IT\",\"Finance\",\"HR\",\"HR\",\"Sales\",\"Finance\",\"IT\",\"Sales\",\"HR\",\"Consulting\",\"Finance\",\"HR\",\"IT\",\"HR\",\"Consulting\",\"Legal\",\"IT\",\"IT\",\"Sales\",\"Consulting\",\"Consulting\",\"HR\",\"IT\",\"Finance\",\"IT\",\"Finance\",\"HR\",\"IT\",\"IT\",\"Sales\",\"IT\",\"HR\",\"IT\",\"Sales\",\"IT\",\"Finance\",\"IT\",\"Finance\",\"Legal\",\"Consulting\",\"IT\",\"IT\",\"IT\",\"IT\",\"IT\",\"Consulting\",\"IT\",\"IT\",\"IT\",\"HR\",\"HR\",\"Consulting\",\"Finance\",\"IT\",\"IT\",\"IT\",\"HR\",\"IT\",\"Finance\",\"Consulting\",\"IT\",\"IT\",\"HR\",\"IT\",\"IT\",\"Sales\",\"IT\",\"IT\",\"IT\",\"IT\",\"Sales\",\"Legal\",\"IT\",\"Sales\",\"IT\",\"Legal\",\"IT\",\"Finance\",\"IT\",\"Sales\",\"Sales\",\"IT\",\"IT\",\"IT\",\"IT\",\"IT\",\"Sales\",\"HR\",\"IT\",\"Consulting\",\"Finance\",\"Sales\",\"Finance\",\"Sales\",\"IT\",\"IT\",\"IT\",\"HR\",\"IT\",\"Finance\",\"Legal\",\"Consulting\",\"IT\",\"IT\",\"HR\",\"Finance\",\"Finance\",\"Sales\",\"Sales\",\"IT\",\"Consulting\",\"IT\",\"IT\",\"IT\",\"IT\",\"IT\",\"Finance\",\"IT\",\"Sales\",\"Sales\",\"IT\",\"Finance\",\"Consulting\",\"Consulting\",\"IT\",\"Sales\",\"HR\",\"IT\",\"IT\",\"HR\",\"Finance\",\"Consulting\",\"IT\",\"IT\",\"IT\",\"IT\",\"IT\",\"IT\",\"Finance\",\"Sales\",\"IT\",\"IT\",\"Sales\",\"HR\",\"Sales\",\"IT\",\"IT\",\"IT\",\"IT\",\"IT\",\"HR\",\"IT\",\"Legal\",\"IT\",\"IT\",\"Consulting\",\"Sales\",\"IT\",\"Sales\",\"IT\",\"IT\",\"IT\",\"HR\",\"IT\",\"Sales\",\"HR\",\"Sales\",\"Finance\",\"Legal\",\"IT\",\"IT\",\"IT\",\"Finance\",\"HR\",\"Sales\",\"Sales\",\"Finance\",\"Sales\",\"IT\",\"Consulting\",\"IT\",\"IT\",\"IT\",\"IT\",\"Sales\",\"IT\",\"Legal\",\"Consulting\",\"IT\",\"Sales\",\"IT\",\"Sales\",\"IT\",\"Finance\",\"Sales\",\"Sales\",\"Consulting\",\"IT\",\"Sales\",\"IT\",\"HR\",\"IT\",\"IT\",\"IT\",\"IT\",\"IT\",\"Finance\",\"IT\",\"Consulting\",\"HR\",\"HR\",\"Consulting\",\"Consulting\",\"IT\",\"Finance\",\"Finance\",\"Consulting\",\"Sales\",\"IT\",\"IT\",\"IT\",\"IT\",\"Legal\",\"Legal\",\"IT\",\"Consulting\",\"IT\",\"IT\",\"IT\",\"Finance\",\"Sales\",\"IT\",\"IT\",\"IT\",\"IT\",\"Sales\",\"IT\",\"Sales\",\"HR\",\"IT\",\"IT\",\"IT\",\"Legal\",\"Sales\",\"IT\",\"Consulting\",\"Consulting\",\"HR\",\"Consulting\",\"Finance\",\"Sales\",\"IT\",\"Finance\",\"IT\",\"IT\",\"IT\",\"IT\",\"Sales\",\"IT\",\"IT\",\"Sales\",\"HR\",\"IT\",\"IT\",\"Sales\",\"Consulting\",\"IT\",\"Finance\",\"HR\",\"Sales\",\"IT\",\"IT\",\"IT\",\"IT\",\"IT\",\"Consulting\",\"IT\",\"Finance\",\"Sales\",\"IT\",\"Legal\",\"IT\",\"Legal\",\"IT\",\"IT\",\"IT\",\"IT\",\"Finance\",\"Sales\",\"IT\",\"IT\",\"IT\",\"Consulting\",\"IT\",\"IT\",\"IT\",\"Consulting\",\"IT\",\"Sales\",\"IT\",\"IT\",\"HR\",\"HR\",\"HR\",\"IT\",\"Finance\",\"Sales\",\"IT\",\"IT\",\"Sales\",\"Sales\",\"Finance\",\"IT\",\"IT\",\"IT\",\"IT\",\"Finance\",\"Sales\",\"HR\",\"Sales\",\"IT\",\"Consulting\",\"IT\",\"Finance\",\"IT\",\"IT\",\"Consulting\",\"HR\",\"IT\",\"Sales\",\"Consulting\",\"Consulting\",\"IT\",\"Sales\",\"Sales\",\"Consulting\",\"Sales\",\"Sales\",\"IT\",\"IT\",\"IT\",\"Finance\",\"IT\",\"IT\",\"Sales\",\"Consulting\",\"Sales\",\"HR\",\"Consulting\",\"Finance\",\"IT\",\"IT\",\"Consulting\",\"Consulting\",\"Consulting\",\"IT\",\"Finance\",\"IT\",\"IT\",\"IT\",\"IT\",\"IT\",\"IT\",\"Sales\",\"IT\",\"IT\",\"HR\",\"HR\",\"IT\",\"IT\",\"Consulting\",\"IT\",\"Finance\",\"Sales\",\"Sales\",\"IT\",\"IT\",\"IT\",\"IT\",\"Finance\",\"IT\",\"IT\",\"IT\",\"IT\",\"Finance\",\"Sales\",\"Finance\",\"IT\",\"Sales\",\"Sales\",\"Consulting\",\"Consulting\",\"Sales\",\"HR\",\"IT\",\"Sales\",\"IT\",\"IT\",\"Sales\",\"IT\",\"IT\",\"Sales\",\"IT\",\"IT\",\"IT\",\"IT\",\"HR\",\"Sales\",\"Legal\",\"IT\",\"IT\",\"IT\",\"Legal\",\"Consulting\",\"IT\",\"IT\",\"IT\",\"Sales\",\"Sales\",\"IT\",\"Sales\",\"HR\",\"IT\",\"IT\",\"HR\",\"HR\",\"Sales\",\"IT\",\"IT\",\"IT\",\"IT\",\"IT\",\"Consulting\",\"Finance\",\"IT\",\"IT\",\"Sales\",\"IT\",\"Sales\",\"Sales\",\"HR\",\"Sales\",\"HR\",\"HR\",\"Sales\",\"IT\",\"Finance\",\"IT\",\"Consulting\",\"Sales\",\"Consulting\",\"HR\",\"Consulting\",\"HR\",\"Sales\",\"Sales\",\"IT\",\"IT\",\"Legal\",\"IT\",\"IT\",\"Legal\",\"IT\",\"IT\",\"Consulting\",\"HR\",\"Legal\",\"IT\",\"IT\",\"HR\",\"IT\",\"Sales\",\"Consulting\",\"Finance\",\"Sales\",\"IT\",\"Finance\",\"IT\",\"Sales\",\"IT\",\"Finance\",\"IT\",\"IT\",\"HR\",\"HR\",\"HR\",\"IT\",\"Finance\",\"IT\",\"IT\",\"IT\",\"IT\",\"Finance\",\"HR\",\"IT\",\"Sales\",\"HR\",\"IT\",\"HR\",\"IT\",\"Sales\",\"Finance\",\"IT\",\"IT\",\"Finance\",\"Consulting\",\"IT\",\"Consulting\",\"Sales\",\"IT\",\"IT\",\"IT\",\"IT\",\"IT\",\"Sales\",\"IT\",\"IT\",\"HR\",\"Sales\",\"Sales\",\"Consulting\",\"Sales\",\"IT\",\"IT\",\"IT\",\"IT\",\"Sales\",\"IT\",\"Finance\",\"IT\",\"Legal\",\"IT\",\"IT\",\"Consulting\",\"IT\",\"HR\",\"Finance\",\"Finance\",\"Sales\",\"IT\",\"Sales\",\"IT\",\"IT\",\"Consulting\",\"IT\",\"Sales\",\"Finance\",\"Sales\",\"Consulting\",\"Sales\",\"HR\",\"IT\",\"IT\",\"IT\",\"IT\",\"Consulting\",\"IT\",\"Consulting\",\"IT\",\"Consulting\",\"Finance\",\"IT\",\"Legal\",\"IT\",\"IT\",\"Finance\",\"IT\",\"Consulting\",\"Consulting\",\"IT\",\"IT\",\"IT\",\"IT\",\"Sales\",\"IT\",\"Consulting\",\"IT\",\"IT\",\"Finance\",\"Consulting\",\"IT\",\"Sales\",\"HR\",\"IT\",\"Finance\",\"IT\",\"IT\",\"IT\",\"Finance\",\"IT\",\"IT\",\"Sales\",\"Sales\",\"IT\",\"Sales\",\"Consulting\",\"Sales\",\"Legal\",\"IT\",\"IT\",\"Finance\",\"IT\",\"IT\",\"Sales\",\"Consulting\",\"IT\",\"IT\",\"Sales\",\"Sales\",\"Sales\",\"IT\",\"Sales\",\"IT\",\"Finance\",\"IT\",\"IT\",\"Legal\",\"IT\",\"Finance\",\"IT\",\"IT\",\"Legal\",\"IT\",\"Finance\",\"Sales\",\"HR\",\"Sales\",\"IT\",\"IT\",\"HR\",\"IT\",\"Sales\",\"IT\",\"IT\",\"IT\",\"Sales\",\"IT\",\"Sales\",\"Finance\",\"IT\",\"Sales\",\"Finance\",\"IT\",\"IT\",\"IT\",\"IT\",\"IT\",\"IT\",\"Sales\",\"IT\",\"Finance\",\"IT\",\"Consulting\",\"IT\",\"Sales\",\"Finance\",\"Sales\",\"HR\",\"Legal\",\"IT\",\"HR\",\"IT\",\"IT\",\"Sales\",\"IT\",\"IT\",\"IT\",\"HR\",\"IT\",\"IT\",\"HR\",\"Consulting\",\"IT\",\"IT\",\"HR\",\"Sales\",\"IT\",\"Sales\",\"Sales\",\"HR\",\"IT\",\"IT\",\"Sales\",\"IT\",\"Finance\",\"IT\",\"Consulting\",\"IT\",\"Consulting\",\"Finance\",\"Finance\",\"IT\",\"IT\",\"IT\",\"HR\",\"IT\",\"Consulting\",\"IT\",\"IT\",\"IT\",\"Consulting\",\"Finance\",\"IT\",\"IT\",\"IT\",\"Finance\",\"IT\",\"IT\",\"Sales\",\"HR\",\"IT\",\"IT\",\"HR\",\"IT\",\"IT\",\"Sales\",\"Consulting\",\"IT\",\"Finance\",\"IT\",\"IT\",\"HR\",\"HR\",\"Finance\",\"IT\",\"Sales\",\"IT\",\"Consulting\",\"IT\",\"IT\",\"IT\",\"Finance\",\"IT\",\"IT\",\"IT\",\"Finance\",\"Finance\",\"Consulting\",\"IT\",\"IT\",\"IT\",\"IT\",\"Sales\",\"HR\",\"HR\",\"IT\",\"Sales\",\"IT\",\"IT\",\"IT\",\"IT\",\"HR\",\"IT\",\"Consulting\",\"HR\",\"Finance\",\"IT\",\"IT\",\"Legal\",\"IT\",\"IT\",\"Consulting\",\"Sales\",\"Finance\",\"Sales\",\"IT\",\"Finance\",\"IT\",\"IT\",\"IT\",\"IT\",\"HR\",\"Sales\",\"Consulting\",\"IT\",\"HR\",\"IT\",\"IT\",\"Sales\",\"Sales\",\"Legal\",\"IT\",\"Sales\",\"Sales\",\"IT\",\"Legal\",\"IT\",\"Sales\",\"IT\",\"Finance\",\"HR\",\"IT\",\"Consulting\",\"Consulting\",\"HR\",\"IT\",\"IT\",\"IT\",\"Sales\",\"HR\",\"Finance\",\"IT\",\"Consulting\",\"Legal\",\"Finance\",\"Consulting\",\"IT\",\"Legal\",\"IT\",\"IT\",\"Consulting\",\"IT\",\"IT\",\"Consulting\",\"Consulting\",\"IT\",\"IT\",\"IT\",\"Consulting\",\"IT\",\"IT\",\"IT\",\"Consulting\",\"IT\",\"IT\",\"Sales\",\"IT\",\"HR\",\"IT\",\"IT\",\"Finance\",\"Finance\",\"IT\",\"HR\",\"IT\",\"Sales\",\"HR\",\"IT\",\"Legal\",\"IT\",\"IT\",\"IT\",\"Legal\",\"IT\",\"IT\",\"IT\",\"Sales\",\"HR\",\"Legal\",\"Sales\",\"IT\",\"IT\",\"Sales\",\"Sales\",\"IT\",\"HR\",\"HR\",\"Consulting\",\"IT\",\"IT\",\"Sales\",\"Finance\",\"IT\",\"Consulting\",\"Sales\",\"HR\",\"IT\",\"IT\",\"Finance\",\"Legal\",\"Consulting\",\"IT\",\"Sales\",\"Consulting\",\"IT\",\"Finance\",\"IT\",\"IT\",\"Legal\",\"IT\",\"Sales\",\"HR\",\"Finance\",\"IT\",\"Sales\",\"IT\",\"Finance\",\"IT\",\"IT\",\"IT\",\"IT\",\"IT\",\"Legal\",\"IT\",\"Finance\",\"HR\",\"Sales\",\"Sales\",\"Consulting\",\"Finance\",\"IT\",\"IT\",\"IT\",\"Legal\",\"IT\",\"IT\",\"HR\",\"IT\",\"Consulting\",\"Legal\",\"IT\",\"IT\",\"IT\",\"IT\",\"Sales\",\"Legal\",\"Sales\",\"Consulting\",\"IT\",\"Consulting\",\"HR\",\"IT\",\"IT\",\"Legal\",\"IT\",\"IT\",\"HR\",\"IT\",\"Sales\",\"IT\",\"IT\",\"Sales\",\"IT\",\"Sales\",\"Sales\",\"Finance\",\"IT\",\"Consulting\",\"IT\",\"IT\",\"Finance\",\"Sales\",\"IT\",\"Sales\",\"Sales\",\"IT\",\"IT\",\"Finance\",\"IT\",\"Finance\",\"IT\",\"IT\",\"HR\",\"IT\",\"IT\",\"IT\",\"Legal\",\"IT\",\"HR\",\"Sales\",\"IT\",\"Finance\",\"Legal\",\"IT\",\"IT\",\"Consulting\",\"IT\",\"Finance\",\"HR\",\"Finance\",\"Sales\",\"HR\",\"Sales\",\"IT\",\"Consulting\",\"Consulting\",\"IT\",\"Legal\",\"Sales\",\"IT\",\"IT\",\"IT\",\"IT\",\"Finance\",\"IT\",\"IT\",\"Legal\",\"IT\",\"Legal\",\"Finance\",\"IT\",\"Sales\",\"Consulting\",\"IT\",\"HR\",\"Consulting\",\"Sales\",\"IT\",\"IT\",\"HR\",\"IT\",\"Legal\",\"IT\",\"IT\",\"IT\",\"IT\",\"IT\",\"Legal\",\"Finance\",\"IT\",\"Consulting\",\"IT\",\"HR\",\"Sales\",\"Finance\",\"IT\",\"Consulting\",\"Finance\",\"Legal\",\"Consulting\",\"IT\",\"Sales\",\"Sales\",\"IT\",\"HR\",\"IT\",\"IT\",\"IT\",\"Finance\",\"IT\",\"IT\",\"Legal\",\"Legal\",\"Consulting\",\"IT\",\"Finance\",\"Sales\",\"IT\",\"IT\",\"Sales\",\"IT\",\"IT\",\"HR\",\"IT\",\"IT\",\"Sales\",\"IT\",\"HR\",\"Consulting\",\"Finance\",\"Sales\",\"Finance\",\"IT\",\"IT\",\"IT\",\"Finance\",\"IT\",\"Sales\",\"Consulting\",\"IT\",\"HR\",\"Consulting\",\"IT\",\"Consulting\",\"IT\",\"IT\",\"Sales\",\"IT\",\"IT\",\"HR\",\"Sales\",\"IT\",\"IT\",\"Consulting\",\"Finance\",\"Finance\",\"HR\",\"IT\",\"Legal\",\"Consulting\",\"Sales\",\"IT\",\"IT\",\"Legal\",\"IT\",\"IT\",\"Consulting\",\"IT\",\"IT\",\"IT\",\"Consulting\",\"IT\",\"Finance\",\"Finance\",\"Sales\",\"IT\",\"IT\",\"IT\",\"IT\",\"IT\",\"Finance\",\"Sales\",\"Sales\",\"IT\",\"Finance\",\"IT\",\"Finance\",\"Legal\",\"Sales\",\"IT\",\"IT\",\"IT\",\"IT\",\"IT\",\"IT\",\"IT\",\"IT\",\"IT\",\"IT\",\"IT\",\"Finance\",\"IT\",\"Sales\",\"IT\",\"IT\",\"Sales\",\"IT\",\"Sales\",\"Consulting\",\"Finance\",\"Sales\",\"IT\",\"Consulting\",\"IT\",\"IT\",\"IT\",\"Consulting\",\"IT\",\"IT\",\"HR\",\"Finance\",\"IT\",\"Legal\",\"Consulting\",\"IT\",\"Consulting\",\"IT\",\"IT\",\"IT\",\"Sales\",\"IT\",\"Consulting\",\"Consulting\",\"IT\",\"IT\",\"IT\",\"IT\",\"IT\",\"HR\",\"IT\",\"Finance\",\"IT\",\"IT\",\"IT\",\"IT\",\"Finance\",\"IT\",\"IT\",\"IT\",\"IT\",\"HR\",\"IT\",\"Consulting\",\"Legal\",\"IT\",\"IT\",\"HR\",\"IT\",\"IT\",\"Finance\",\"Sales\",\"IT\",\"IT\",\"Consulting\",\"Sales\",\"Finance\",\"Finance\",\"Consulting\",\"IT\",\"Finance\",\"HR\",\"IT\",\"IT\",\"IT\",\"HR\",\"IT\",\"Consulting\",\"IT\",\"HR\",\"IT\",\"HR\",\"IT\",\"IT\",\"Consulting\",\"IT\",\"IT\",\"Consulting\",\"IT\",\"IT\",\"IT\",\"HR\",\"IT\",\"Consulting\",\"IT\",\"IT\",\"HR\",\"Consulting\",\"IT\",\"HR\",\"IT\",\"IT\",\"Consulting\",\"IT\",\"IT\",\"Consulting\",\"IT\",\"IT\",\"IT\",\"IT\",\"IT\",\"IT\",\"IT\",\"IT\",\"Finance\",\"Sales\",\"IT\",\"Sales\",\"IT\",\"IT\",\"Sales\",\"Sales\",\"IT\",\"Sales\",\"IT\",\"IT\",\"Sales\",\"IT\",\"IT\",\"IT\",\"IT\",\"IT\",\"IT\",\"HR\",\"IT\",\"Consulting\",\"Legal\",\"IT\",\"IT\",\"IT\",\"Legal\",\"IT\",\"IT\",\"Legal\",\"IT\",\"Sales\",\"IT\",\"Sales\",\"Consulting\",\"Finance\",\"Legal\",\"Sales\",\"IT\",\"IT\",\"IT\",\"IT\",\"IT\",\"IT\",\"Legal\",\"HR\",\"Sales\",\"IT\",\"IT\",\"IT\",\"IT\",\"HR\",\"IT\",\"Consulting\",\"IT\",\"HR\",\"IT\",\"Sales\",\"HR\",\"IT\",\"Sales\",\"IT\",\"IT\",\"Consulting\",\"IT\",\"IT\",\"IT\",\"HR\",\"IT\",\"Sales\",\"Consulting\",\"IT\",\"Consulting\",\"IT\",\"Sales\",\"HR\",\"Sales\",\"Finance\",\"Sales\",\"HR\",\"IT\",\"Sales\",\"Finance\",\"Sales\",\"IT\",\"Finance\",\"Sales\",\"IT\",\"Legal\",\"Finance\",\"IT\",\"Finance\",\"IT\",\"IT\",\"IT\",\"Sales\",\"IT\",\"Sales\",\"IT\",\"HR\",\"Finance\",\"Consulting\",\"IT\",\"IT\",\"IT\",\"Finance\",\"IT\",\"HR\",\"IT\",\"HR\",\"IT\",\"Sales\",\"IT\",\"IT\",\"IT\",\"IT\",\"IT\",\"Finance\",\"IT\",\"Sales\",\"HR\",\"IT\",\"IT\",\"IT\",\"IT\",\"HR\",\"Sales\",\"IT\",\"Sales\",\"IT\",\"IT\",\"IT\",\"IT\",\"HR\",\"IT\",\"Finance\",\"Finance\",\"IT\",\"IT\",\"IT\",\"IT\",\"Sales\",\"HR\",\"HR\",\"IT\",\"Finance\",\"Legal\",\"Consulting\",\"IT\",\"IT\",\"Sales\",\"Legal\",\"IT\",\"Finance\",\"Consulting\",\"IT\",\"IT\",\"IT\",\"IT\",\"Consulting\",\"Sales\",\"IT\",\"Legal\",\"IT\",\"Legal\",\"IT\",\"IT\",\"IT\",\"Sales\",\"Finance\",\"Legal\",\"Consulting\",\"Sales\",\"IT\",\"Sales\",\"Sales\",\"Consulting\",\"IT\",\"IT\",\"Sales\",\"Finance\",\"IT\",\"Finance\",\"Consulting\",\"IT\",\"IT\",\"IT\",\"HR\",\"IT\",\"IT\",\"Finance\",\"IT\",\"Finance\",\"Finance\",\"IT\",\"Consulting\",\"Finance\",\"Finance\",\"Consulting\",\"Consulting\",\"Sales\",\"HR\",\"HR\",\"IT\",\"IT\",\"Sales\",\"Consulting\",\"IT\",\"Consulting\",\"Sales\",\"Consulting\",\"Sales\",\"IT\",\"IT\",\"Finance\",\"Sales\",\"Consulting\",\"Sales\",\"IT\",\"IT\",\"Finance\",\"IT\",\"Consulting\",\"Sales\",\"Legal\",\"IT\",\"Legal\",\"IT\",\"IT\",\"Finance\",\"Consulting\",\"Legal\",\"HR\",\"IT\",\"IT\",\"IT\",\"Sales\",\"IT\",\"Sales\",\"IT\",\"Sales\",\"IT\",\"IT\",\"Sales\",\"Finance\",\"IT\",\"HR\",\"Sales\",\"IT\",\"IT\",\"IT\",\"IT\",\"Sales\",\"IT\",\"IT\",\"HR\",\"Finance\",\"IT\",\"Finance\",\"IT\",\"Sales\",\"IT\",\"IT\",\"Legal\",\"Consulting\",\"Finance\",\"HR\",\"IT\",\"Finance\",\"IT\",\"IT\",\"HR\",\"IT\",\"Finance\",\"IT\",\"IT\",\"Sales\",\"Finance\",\"IT\",\"Sales\",\"IT\",\"Sales\",\"IT\",\"IT\",\"IT\",\"IT\",\"IT\",\"Sales\",\"Legal\",\"IT\",\"HR\",\"IT\",\"IT\",\"Finance\",\"HR\",\"IT\",\"IT\",\"Finance\",\"Consulting\",\"IT\",\"IT\",\"IT\",\"Finance\",\"IT\",\"Consulting\",\"IT\",\"IT\",\"Finance\",\"Legal\",\"Sales\",\"IT\",\"Consulting\",\"IT\",\"IT\",\"Legal\",\"Sales\",\"IT\",\"Finance\",\"Finance\",\"IT\",\"Sales\",\"IT\",\"IT\",\"Legal\",\"Legal\",\"IT\",\"HR\",\"IT\",\"IT\",\"Finance\",\"Sales\",\"IT\",\"HR\",\"Finance\",\"HR\",\"IT\",\"IT\",\"IT\",\"IT\",\"IT\",\"IT\",\"HR\",\"IT\",\"Legal\",\"IT\",\"IT\",\"Sales\",\"IT\",\"IT\",\"IT\",\"IT\",\"IT\",\"IT\",\"Consulting\",\"Sales\",\"Consulting\",\"IT\",\"Consulting\",\"Sales\",\"IT\",\"Finance\",\"Consulting\",\"Sales\",\"Sales\",\"HR\",\"Consulting\",\"Consulting\",\"Finance\",\"IT\",\"Consulting\",\"Consulting\",\"IT\",\"HR\",\"IT\",\"IT\",\"IT\",\"IT\",\"IT\",\"Consulting\",\"Sales\",\"HR\",\"IT\",\"IT\",\"IT\",\"IT\",\"IT\",\"IT\",\"Finance\",\"IT\",\"IT\",\"HR\",\"IT\",\"Consulting\",\"HR\",\"Finance\",\"Finance\",\"IT\",\"Consulting\",\"Finance\",\"Legal\",\"Legal\",\"HR\",\"IT\",\"Sales\",\"IT\",\"Finance\",\"IT\",\"HR\",\"Consulting\",\"Finance\",\"IT\",\"Sales\",\"IT\",\"Consulting\",\"IT\",\"Consulting\",\"Finance\",\"Consulting\",\"Finance\",\"Consulting\",\"Sales\",\"IT\",\"IT\",\"IT\",\"Consulting\",\"Legal\",\"IT\",\"Consulting\",\"IT\",\"IT\",\"IT\",\"IT\",\"Consulting\",\"IT\",\"Legal\",\"HR\",\"IT\",\"Sales\",\"IT\",\"HR\",\"Consulting\",\"Sales\",\"Sales\",\"Finance\",\"IT\",\"IT\",\"Sales\",\"Sales\",\"IT\",\"Consulting\",\"IT\",\"IT\",\"Sales\",\"IT\",\"Finance\",\"Sales\"],\"x0\":\" \",\"xaxis\":\"x\",\"y\":[\"High\",\"High\",\"Medium\",\"Medium\",\"Medium\",\"Low\",\"High\",\"Medium\",\"Medium\",\"Medium\",\"Medium\",\"High\",\"Medium\",\"Low\",\"Low\",\"Medium\",\"Medium\",\"Medium\",\"Medium\",\"Medium\",\"Medium\",\"Medium\",\"Low\",\"Medium\",\"High\",\"Medium\",\"Medium\",\"Medium\",\"Medium\",\"Medium\",\"Medium\",\"Medium\",\"Medium\",\"Medium\",\"Medium\",\"Medium\",\"High\",\"Medium\",\"High\",\"Medium\",\"High\",\"Medium\",\"Low\",\"Medium\",\"Medium\",\"High\",\"Medium\",\"Medium\",\"High\",\"High\",\"High\",\"Medium\",\"Medium\",\"High\",\"Medium\",\"Medium\",\"Medium\",\"Low\",\"Medium\",\"Low\",\"High\",\"High\",\"High\",\"Medium\",\"Medium\",\"Medium\",\"High\",\"High\",\"Medium\",\"High\",\"Medium\",\"Medium\",\"Medium\",\"High\",\"Medium\",\"Medium\",\"Low\",\"High\",\"Medium\",\"High\",\"Medium\",\"Medium\",\"Medium\",\"Medium\",\"High\",\"High\",\"Medium\",\"Medium\",\"Medium\",\"High\",\"Low\",\"High\",\"Low\",\"Medium\",\"High\",\"Medium\",\"High\",\"Medium\",\"Medium\",\"Medium\",\"Medium\",\"Low\",\"Medium\",\"High\",\"Medium\",\"Low\",\"Medium\",\"Low\",\"High\",\"Medium\",\"Low\",\"Medium\",\"Medium\",\"High\",\"High\",\"Low\",\"High\",\"Medium\",\"High\",\"High\",\"Low\",\"Medium\",\"Medium\",\"Medium\",\"High\",\"Medium\",\"Medium\",\"Low\",\"Medium\",\"Medium\",\"Medium\",\"High\",\"Medium\",\"Medium\",\"High\",\"Low\",\"High\",\"Low\",\"Medium\",\"High\",\"High\",\"High\",\"High\",\"Medium\",\"Medium\",\"Medium\",\"Medium\",\"Medium\",\"Medium\",\"Medium\",\"High\",\"High\",\"Medium\",\"Medium\",\"Low\",\"Medium\",\"Medium\",\"Medium\",\"Medium\",\"Medium\",\"Medium\",\"Medium\",\"Medium\",\"Low\",\"Medium\",\"High\",\"High\",\"High\",\"High\",\"Medium\",\"High\",\"Medium\",\"High\",\"High\",\"Medium\",\"Low\",\"Low\",\"Medium\",\"Medium\",\"Medium\",\"High\",\"High\",\"Medium\",\"Medium\",\"Low\",\"Medium\",\"Medium\",\"Medium\",\"Medium\",\"Medium\",\"Medium\",\"Medium\",\"Medium\",\"Medium\",\"Low\",\"Medium\",\"High\",\"Medium\",\"Low\",\"Medium\",\"Medium\",\"Medium\",\"Medium\",\"Medium\",\"Medium\",\"High\",\"High\",\"High\",\"Medium\",\"High\",\"High\",\"Medium\",\"High\",\"Low\",\"Medium\",\"High\",\"Medium\",\"Low\",\"Medium\",\"Medium\",\"Medium\",\"High\",\"Medium\",\"Medium\",\"Low\",\"Medium\",\"Medium\",\"Low\",\"Medium\",\"High\",\"Medium\",\"Medium\",\"Low\",\"Medium\",\"High\",\"Medium\",\"High\",\"High\",\"Medium\",\"High\",\"High\",\"Medium\",\"High\",\"Medium\",\"High\",\"High\",\"Medium\",\"Medium\",\"Medium\",\"Medium\",\"Medium\",\"High\",\"Medium\",\"Medium\",\"High\",\"Medium\",\"Medium\",\"High\",\"Low\",\"Medium\",\"High\",\"Medium\",\"High\",\"Medium\",\"Low\",\"Medium\",\"High\",\"Medium\",\"Medium\",\"Low\",\"Medium\",\"Low\",\"Medium\",\"Medium\",\"Medium\",\"Medium\",\"Medium\",\"High\",\"Medium\",\"Low\",\"Medium\",\"Medium\",\"High\",\"Medium\",\"Medium\",\"Medium\",\"Medium\",\"Medium\",\"High\",\"High\",\"High\",\"Medium\",\"Medium\",\"High\",\"Medium\",\"Medium\",\"Low\",\"Medium\",\"High\",\"Medium\",\"Medium\",\"Medium\",\"Low\",\"Medium\",\"Medium\",\"Medium\",\"High\",\"Medium\",\"Medium\",\"Medium\",\"Medium\",\"Medium\",\"Medium\",\"Medium\",\"High\",\"High\",\"High\",\"High\",\"Medium\",\"Medium\",\"Medium\",\"Medium\",\"Low\",\"Low\",\"High\",\"Medium\",\"Medium\",\"High\",\"High\",\"High\",\"Medium\",\"Low\",\"Low\",\"High\",\"Medium\",\"Low\",\"Medium\",\"Medium\",\"Low\",\"Medium\",\"Low\",\"Medium\",\"Medium\",\"Medium\",\"Medium\",\"Medium\",\"High\",\"High\",\"Medium\",\"Medium\",\"Medium\",\"High\",\"High\",\"Medium\",\"Medium\",\"High\",\"Medium\",\"High\",\"Medium\",\"Medium\",\"Medium\",\"High\",\"Medium\",\"Low\",\"High\",\"Medium\",\"Medium\",\"High\",\"Medium\",\"Medium\",\"Medium\",\"Low\",\"Medium\",\"Medium\",\"High\",\"Medium\",\"Low\",\"Medium\",\"Medium\",\"High\",\"Medium\",\"Medium\",\"Medium\",\"Low\",\"High\",\"Medium\",\"Medium\",\"Medium\",\"High\",\"Low\",\"Medium\",\"High\",\"Low\",\"Low\",\"Medium\",\"Medium\",\"High\",\"High\",\"High\",\"Medium\",\"Low\",\"High\",\"Medium\",\"High\",\"Medium\",\"High\",\"Medium\",\"Medium\",\"High\",\"Medium\",\"High\",\"Medium\",\"Medium\",\"Medium\",\"Low\",\"High\",\"Medium\",\"Low\",\"Medium\",\"Medium\",\"Medium\",\"Medium\",\"Medium\",\"Medium\",\"Medium\",\"Medium\",\"High\",\"Medium\",\"High\",\"High\",\"Medium\",\"High\",\"Medium\",\"High\",\"High\",\"Medium\",\"Medium\",\"Low\",\"Low\",\"Medium\",\"Medium\",\"Low\",\"Medium\",\"High\",\"Medium\",\"High\",\"Medium\",\"Medium\",\"Medium\",\"Medium\",\"Medium\",\"Medium\",\"Low\",\"Low\",\"Low\",\"Low\",\"Medium\",\"High\",\"Medium\",\"Medium\",\"High\",\"Low\",\"Medium\",\"Medium\",\"Medium\",\"Medium\",\"Medium\",\"Medium\",\"Medium\",\"Medium\",\"Medium\",\"Low\",\"High\",\"Low\",\"Medium\",\"Medium\",\"Low\",\"Low\",\"Medium\",\"High\",\"Medium\",\"Low\",\"Medium\",\"Medium\",\"Medium\",\"Medium\",\"Medium\",\"Medium\",\"Low\",\"Medium\",\"Medium\",\"Low\",\"High\",\"Medium\",\"Medium\",\"Medium\",\"Medium\",\"High\",\"High\",\"Medium\",\"High\",\"Low\",\"High\",\"Low\",\"High\",\"Medium\",\"Low\",\"Medium\",\"Low\",\"Medium\",\"High\",\"Medium\",\"Medium\",\"High\",\"Medium\",\"Low\",\"High\",\"Low\",\"Medium\",\"Low\",\"Medium\",\"Low\",\"High\",\"Medium\",\"Low\",\"High\",\"High\",\"Low\",\"Medium\",\"Medium\",\"Medium\",\"Medium\",\"Low\",\"High\",\"Medium\",\"Medium\",\"Medium\",\"Medium\",\"Medium\",\"Medium\",\"Low\",\"Low\",\"High\",\"Low\",\"Medium\",\"Medium\",\"Medium\",\"Low\",\"Medium\",\"Medium\",\"Medium\",\"Low\",\"Medium\",\"High\",\"Medium\",\"High\",\"Low\",\"Low\",\"High\",\"Medium\",\"Medium\",\"High\",\"Medium\",\"Medium\",\"Medium\",\"Medium\",\"Medium\",\"Medium\",\"Low\",\"Medium\",\"Medium\",\"Medium\",\"High\",\"Medium\",\"Medium\",\"Medium\",\"Low\",\"High\",\"Medium\",\"Medium\",\"Low\",\"High\",\"Medium\",\"Medium\",\"High\",\"Low\",\"High\",\"High\",\"Medium\",\"High\",\"High\",\"Medium\",\"High\",\"High\",\"High\",\"Low\",\"Medium\",\"Medium\",\"High\",\"Medium\",\"Low\",\"Medium\",\"Medium\",\"Medium\",\"Low\",\"Medium\",\"High\",\"Medium\",\"Medium\",\"Medium\",\"High\",\"Medium\",\"Medium\",\"Medium\",\"Medium\",\"High\",\"High\",\"Medium\",\"Medium\",\"High\",\"Low\",\"High\",\"Low\",\"Medium\",\"High\",\"Medium\",\"Low\",\"Low\",\"Medium\",\"Low\",\"Medium\",\"Medium\",\"Low\",\"Medium\",\"High\",\"High\",\"High\",\"Medium\",\"Medium\",\"High\",\"Low\",\"Low\",\"High\",\"High\",\"Medium\",\"Medium\",\"Medium\",\"Low\",\"Medium\",\"High\",\"Medium\",\"Medium\",\"Medium\",\"Medium\",\"Medium\",\"High\",\"Low\",\"Medium\",\"Medium\",\"High\",\"Medium\",\"Low\",\"Medium\",\"Medium\",\"Medium\",\"Low\",\"Low\",\"Medium\",\"Medium\",\"Medium\",\"Low\",\"Low\",\"High\",\"Medium\",\"High\",\"Medium\",\"High\",\"Medium\",\"Medium\",\"High\",\"Medium\",\"High\",\"Medium\",\"Medium\",\"Low\",\"High\",\"High\",\"High\",\"Medium\",\"Medium\",\"Low\",\"Medium\",\"Low\",\"Medium\",\"Low\",\"Medium\",\"Medium\",\"High\",\"High\",\"High\",\"Medium\",\"Medium\",\"Medium\",\"High\",\"Medium\",\"Low\",\"Medium\",\"Low\",\"Medium\",\"Medium\",\"Medium\",\"Medium\",\"High\",\"Medium\",\"Medium\",\"High\",\"Medium\",\"High\",\"Medium\",\"High\",\"High\",\"Medium\",\"High\",\"Medium\",\"Medium\",\"Low\",\"High\",\"High\",\"Medium\",\"High\",\"Medium\",\"Low\",\"Low\",\"Low\",\"Low\",\"Medium\",\"Low\",\"Medium\",\"Medium\",\"Medium\",\"Medium\",\"High\",\"High\",\"High\",\"Medium\",\"High\",\"Medium\",\"Medium\",\"Low\",\"Medium\",\"Medium\",\"High\",\"Medium\",\"High\",\"Medium\",\"Medium\",\"Medium\",\"High\",\"Medium\",\"Medium\",\"Medium\",\"Medium\",\"Medium\",\"Low\",\"High\",\"High\",\"Medium\",\"Medium\",\"High\",\"High\",\"High\",\"Medium\",\"High\",\"Medium\",\"Medium\",\"Low\",\"Medium\",\"Medium\",\"High\",\"High\",\"Medium\",\"Low\",\"Low\",\"High\",\"Medium\",\"High\",\"Medium\",\"High\",\"Medium\",\"Low\",\"Medium\",\"Low\",\"Low\",\"Low\",\"High\",\"Medium\",\"Medium\",\"High\",\"Medium\",\"Medium\",\"Low\",\"Medium\",\"Medium\",\"High\",\"High\",\"Medium\",\"High\",\"Medium\",\"Medium\",\"Medium\",\"Low\",\"Medium\",\"Medium\",\"High\",\"Medium\",\"Low\",\"Medium\",\"Medium\",\"Medium\",\"Medium\",\"High\",\"Medium\",\"Medium\",\"Medium\",\"Medium\",\"High\",\"High\",\"Medium\",\"Medium\",\"Medium\",\"Low\",\"High\",\"Medium\",\"High\",\"Medium\",\"Medium\",\"Medium\",\"High\",\"Medium\",\"Medium\",\"Medium\",\"Medium\",\"Medium\",\"High\",\"Medium\",\"High\",\"Medium\",\"Medium\",\"High\",\"Medium\",\"Medium\",\"High\",\"High\",\"Medium\",\"High\",\"Medium\",\"Medium\",\"Medium\",\"High\",\"Medium\",\"Medium\",\"Medium\",\"High\",\"Low\",\"Medium\",\"Medium\",\"Low\",\"Medium\",\"Medium\",\"Medium\",\"High\",\"High\",\"Low\",\"High\",\"High\",\"Medium\",\"Low\",\"Medium\",\"High\",\"Medium\",\"Low\",\"Medium\",\"Medium\",\"Low\",\"High\",\"High\",\"High\",\"High\",\"Medium\",\"Medium\",\"Medium\",\"High\",\"High\",\"Medium\",\"Medium\",\"Medium\",\"Medium\",\"Medium\",\"High\",\"Medium\",\"High\",\"High\",\"Medium\",\"Medium\",\"Medium\",\"Medium\",\"Low\",\"Medium\",\"Low\",\"Medium\",\"Medium\",\"High\",\"High\",\"Medium\",\"Medium\",\"Medium\",\"Medium\",\"Low\",\"Low\",\"High\",\"Medium\",\"Medium\",\"High\",\"Medium\",\"Medium\",\"Low\",\"Low\",\"High\",\"High\",\"High\",\"Medium\",\"Medium\",\"High\",\"Medium\",\"Medium\",\"Medium\",\"High\",\"High\",\"Medium\",\"Medium\",\"Medium\",\"Medium\",\"Medium\",\"Medium\",\"Low\",\"Low\",\"Medium\",\"Medium\",\"High\",\"Medium\",\"Medium\",\"High\",\"Medium\",\"High\",\"Medium\",\"High\",\"Medium\",\"High\",\"High\",\"Medium\",\"Low\",\"Medium\",\"High\",\"Low\",\"Medium\",\"High\",\"Medium\",\"High\",\"Medium\",\"Medium\",\"Medium\",\"Medium\",\"Medium\",\"High\",\"High\",\"High\",\"Medium\",\"Low\",\"Low\",\"High\",\"High\",\"High\",\"Medium\",\"Medium\",\"High\",\"High\",\"High\",\"Medium\",\"Medium\",\"Medium\",\"Medium\",\"Medium\",\"Medium\",\"Medium\",\"Medium\",\"Medium\",\"Low\",\"Medium\",\"Low\",\"Low\",\"Medium\",\"Low\",\"Medium\",\"Low\",\"Medium\",\"High\",\"Low\",\"Medium\",\"High\",\"High\",\"Low\",\"Medium\",\"Medium\",\"Medium\",\"Medium\",\"Medium\",\"Medium\",\"Medium\",\"Medium\",\"Medium\",\"Medium\",\"Low\",\"Medium\",\"Low\",\"Low\",\"Medium\",\"Medium\",\"Low\",\"Medium\",\"Low\",\"Medium\",\"Medium\",\"High\",\"High\",\"Low\",\"High\",\"Medium\",\"Medium\",\"Medium\",\"Low\",\"High\",\"Medium\",\"Medium\",\"Medium\",\"Medium\",\"Medium\",\"Medium\",\"High\",\"High\",\"Low\",\"High\",\"High\",\"Medium\",\"Medium\",\"Medium\",\"Medium\",\"High\",\"Medium\",\"High\",\"Medium\",\"Medium\",\"High\",\"High\",\"Medium\",\"Medium\",\"High\",\"High\",\"Medium\",\"Medium\",\"Medium\",\"Low\",\"High\",\"Medium\",\"High\",\"Medium\",\"Medium\",\"High\",\"Medium\",\"Medium\",\"Medium\",\"Medium\",\"Medium\",\"High\",\"Medium\",\"Medium\",\"Medium\",\"Medium\",\"Medium\",\"Medium\",\"Medium\",\"Medium\",\"Low\",\"Medium\",\"Medium\",\"Medium\",\"Medium\",\"Medium\",\"Low\",\"Low\",\"Medium\",\"Medium\",\"Medium\",\"High\",\"Low\",\"Medium\",\"Medium\",\"High\",\"Medium\",\"High\",\"High\",\"Low\",\"Medium\",\"Low\",\"High\",\"Medium\",\"Medium\",\"Medium\",\"High\",\"Medium\",\"Medium\",\"High\",\"Medium\",\"Medium\",\"Medium\",\"High\",\"Medium\",\"Low\",\"High\",\"Medium\",\"Low\",\"High\",\"Medium\",\"Low\",\"Low\",\"Medium\",\"Medium\",\"Medium\",\"Medium\",\"Low\",\"Medium\",\"Medium\",\"Medium\",\"Low\",\"Medium\",\"High\",\"Medium\",\"High\",\"Medium\",\"Low\",\"Medium\",\"High\",\"Medium\",\"High\",\"Medium\",\"Low\",\"High\",\"Medium\",\"Medium\",\"Medium\",\"Medium\",\"High\",\"High\",\"High\",\"High\",\"High\",\"Medium\",\"Medium\",\"Medium\",\"High\",\"Medium\",\"Low\",\"Medium\",\"Medium\",\"Low\",\"Medium\",\"High\",\"Medium\",\"High\",\"High\",\"Medium\",\"Medium\",\"Medium\",\"Medium\",\"Low\",\"Medium\",\"Medium\",\"High\",\"Medium\",\"High\",\"Medium\",\"Medium\",\"Medium\",\"Medium\",\"Medium\",\"Medium\",\"High\",\"Medium\",\"Medium\",\"Medium\",\"High\",\"High\",\"High\",\"High\",\"High\",\"Medium\",\"Low\",\"High\",\"High\",\"Medium\",\"Medium\",\"Medium\",\"Medium\",\"Low\",\"Low\",\"High\",\"High\",\"High\",\"Medium\",\"Medium\",\"High\",\"Medium\",\"Medium\",\"Medium\",\"Medium\",\"Low\",\"Medium\",\"High\",\"High\",\"High\",\"High\",\"Low\",\"Medium\",\"High\",\"High\",\"Low\",\"Medium\",\"Low\",\"High\",\"High\",\"Medium\",\"High\",\"Low\",\"High\",\"High\",\"High\",\"Medium\",\"Medium\",\"Medium\",\"High\",\"High\",\"Low\",\"Medium\",\"Medium\",\"Medium\",\"Low\",\"Low\",\"Medium\",\"Medium\",\"Medium\",\"Medium\",\"Medium\",\"Medium\",\"High\",\"Medium\",\"Low\",\"Medium\",\"Medium\",\"Low\",\"Medium\",\"Medium\",\"Medium\",\"Medium\",\"Medium\",\"Medium\",\"Low\",\"Medium\",\"Medium\",\"Medium\",\"Low\",\"Low\",\"Low\",\"Medium\",\"Medium\",\"Medium\",\"Medium\",\"Low\",\"Medium\",\"High\",\"Medium\",\"High\",\"Medium\",\"High\",\"High\",\"Low\",\"High\",\"High\",\"High\",\"High\",\"High\",\"High\",\"Medium\",\"Medium\",\"High\",\"Medium\",\"Medium\",\"Medium\",\"High\",\"High\",\"Medium\",\"Medium\",\"Medium\",\"Medium\",\"Medium\",\"High\",\"Low\",\"Low\",\"Medium\",\"Medium\",\"Medium\",\"High\",\"High\",\"High\",\"High\",\"Low\",\"High\",\"High\",\"Medium\",\"Medium\",\"Low\",\"Medium\",\"Medium\",\"Medium\",\"High\",\"Medium\",\"Medium\",\"Medium\",\"Medium\",\"High\",\"Medium\",\"Low\",\"High\",\"Medium\",\"Low\",\"High\",\"Medium\",\"Medium\",\"High\",\"High\",\"Low\",\"Medium\",\"Low\",\"Medium\",\"High\",\"Medium\",\"Low\",\"High\",\"Medium\",\"Medium\",\"Low\",\"High\",\"Medium\",\"Medium\",\"Medium\",\"Medium\",\"Medium\",\"Medium\",\"Medium\",\"High\",\"Medium\",\"Medium\",\"High\",\"Low\",\"Medium\",\"High\",\"Low\",\"High\",\"High\",\"Medium\",\"Medium\",\"Low\",\"Medium\",\"High\",\"Medium\",\"Medium\",\"Medium\",\"High\",\"Medium\",\"Low\",\"Medium\",\"Medium\",\"Low\",\"High\",\"Medium\",\"Medium\",\"High\",\"High\",\"Medium\",\"High\",\"Medium\",\"Low\",\"Medium\",\"High\",\"Medium\",\"High\",\"High\",\"High\",\"High\",\"Low\",\"High\",\"Medium\",\"Medium\",\"Medium\",\"High\",\"High\",\"Medium\",\"Medium\",\"High\",\"High\",\"Medium\",\"Low\",\"High\",\"Medium\",\"Low\",\"Medium\",\"Medium\",\"Medium\",\"Medium\",\"High\",\"Medium\",\"High\",\"Medium\",\"Low\",\"Medium\",\"High\",\"Medium\",\"Medium\",\"Medium\",\"Medium\",\"High\",\"High\",\"High\",\"Medium\",\"High\",\"High\",\"High\",\"High\",\"Low\",\"Medium\",\"High\",\"Medium\",\"Medium\",\"Medium\",\"Medium\",\"High\",\"Medium\",\"Medium\",\"High\",\"High\",\"High\",\"Medium\",\"Medium\",\"Medium\",\"High\",\"Medium\",\"Medium\",\"Medium\",\"Medium\",\"Low\",\"Low\",\"Medium\",\"Medium\",\"Medium\",\"Medium\",\"Medium\",\"Medium\",\"Medium\",\"Low\",\"High\",\"Medium\",\"Medium\",\"Medium\",\"Low\",\"Medium\",\"High\",\"Medium\",\"Medium\",\"Medium\",\"Medium\",\"Medium\",\"Medium\",\"High\",\"Medium\",\"Medium\",\"High\",\"Medium\",\"Low\",\"Medium\",\"High\",\"High\",\"Medium\",\"Medium\",\"Medium\",\"Medium\",\"Medium\",\"Medium\",\"Medium\",\"Medium\",\"Medium\",\"Medium\",\"Medium\",\"High\",\"High\",\"Medium\",\"High\",\"Low\",\"High\",\"Low\",\"Medium\",\"Medium\",\"High\",\"Medium\",\"Medium\",\"Low\",\"High\",\"Medium\",\"Medium\",\"Low\",\"Low\",\"High\",\"Medium\",\"Medium\",\"Medium\",\"Medium\",\"Medium\",\"Medium\",\"High\",\"Medium\",\"High\",\"Medium\",\"Low\",\"Medium\",\"Medium\",\"Medium\",\"Low\",\"Medium\",\"Medium\",\"Low\",\"High\",\"High\",\"Medium\",\"Medium\",\"Medium\",\"High\",\"High\",\"Medium\",\"Medium\",\"Medium\",\"Medium\",\"High\",\"Medium\",\"Medium\",\"Medium\",\"Medium\",\"High\",\"High\",\"High\",\"Low\",\"Low\",\"High\",\"High\",\"Medium\",\"Low\",\"Medium\",\"Low\",\"Medium\",\"Medium\",\"High\",\"Medium\",\"Medium\",\"Medium\",\"High\",\"High\",\"Medium\",\"Medium\",\"Medium\",\"Medium\",\"High\",\"Medium\",\"Medium\",\"High\",\"Medium\",\"Low\",\"Medium\",\"Medium\",\"Low\",\"Low\",\"Medium\",\"High\",\"Medium\",\"Medium\",\"Medium\",\"Medium\",\"Medium\",\"Low\",\"Medium\",\"High\",\"Medium\",\"Medium\",\"Medium\",\"High\",\"Medium\",\"Medium\",\"Medium\",\"Low\",\"High\",\"Medium\",\"High\",\"Medium\",\"Low\",\"High\",\"High\",\"Medium\",\"Low\",\"Medium\",\"Medium\",\"Low\",\"Medium\",\"Medium\",\"High\",\"High\",\"Low\",\"High\",\"Medium\",\"Medium\",\"Medium\",\"Medium\",\"Low\",\"Medium\",\"Low\",\"Low\",\"High\",\"Medium\",\"Medium\",\"Medium\",\"Low\",\"Medium\",\"Medium\",\"Medium\",\"High\",\"Medium\",\"Medium\",\"Medium\",\"Low\",\"Medium\",\"Medium\",\"Low\",\"Medium\",\"High\",\"Medium\",\"Medium\",\"Medium\",\"High\",\"Medium\",\"Medium\",\"Low\",\"High\",\"Low\",\"Medium\",\"Medium\",\"High\",\"Low\",\"Medium\",\"High\",\"Low\",\"Medium\",\"Medium\",\"High\",\"Low\",\"High\",\"Medium\",\"High\",\"Low\",\"High\",\"Medium\",\"Medium\",\"Medium\",\"Medium\",\"Medium\",\"Medium\",\"Medium\",\"High\",\"Medium\",\"High\",\"High\",\"Low\",\"High\",\"High\",\"Medium\",\"Medium\",\"Low\",\"Low\",\"Medium\",\"Medium\",\"Medium\",\"Medium\",\"Medium\",\"Medium\",\"Medium\",\"High\",\"Medium\",\"Medium\",\"Low\",\"High\",\"Medium\",\"Medium\",\"High\",\"High\",\"High\",\"Medium\",\"Low\",\"High\",\"High\",\"Medium\",\"High\",\"High\",\"Medium\",\"Medium\",\"Medium\",\"Medium\",\"Medium\",\"Medium\",\"High\",\"Medium\",\"Low\",\"Medium\",\"Medium\",\"High\",\"High\",\"Medium\",\"Medium\",\"High\",\"High\",\"High\",\"Medium\",\"Medium\",\"High\",\"Medium\",\"Medium\",\"Low\",\"High\",\"High\",\"Medium\",\"Medium\",\"High\",\"Medium\",\"Medium\",\"Medium\",\"High\",\"High\",\"Medium\",\"Medium\",\"Medium\",\"Medium\",\"Medium\",\"Medium\",\"Medium\",\"High\",\"Low\",\"Medium\",\"High\",\"High\",\"High\",\"High\",\"Low\",\"Medium\",\"Low\",\"High\",\"High\",\"High\",\"High\",\"High\",\"High\",\"High\",\"Medium\",\"Low\",\"Low\",\"High\",\"Low\",\"Low\",\"Medium\",\"Medium\",\"High\",\"Medium\",\"Low\",\"Medium\",\"Medium\",\"High\",\"Medium\",\"Medium\",\"Medium\",\"Medium\",\"High\",\"Medium\",\"Medium\",\"Medium\",\"Low\",\"Medium\",\"Medium\",\"Medium\",\"Medium\",\"Medium\",\"High\",\"Medium\",\"High\",\"Medium\",\"Medium\",\"Medium\",\"Medium\",\"Low\",\"Low\",\"Medium\",\"Medium\",\"Medium\",\"High\",\"High\",\"Medium\",\"Medium\",\"Medium\",\"Medium\",\"High\",\"Medium\",\"Medium\",\"Medium\",\"Medium\",\"Medium\",\"Medium\",\"High\",\"High\",\"Medium\",\"Medium\",\"Medium\",\"High\",\"Medium\",\"High\",\"Medium\",\"Medium\",\"High\",\"High\",\"High\",\"Medium\",\"Medium\",\"Medium\",\"Medium\",\"Medium\",\"High\",\"Medium\",\"High\",\"Low\",\"Medium\",\"High\",\"Medium\",\"High\",\"Medium\",\"Low\",\"High\",\"Medium\",\"Medium\",\"Medium\",\"Medium\",\"Medium\",\"Low\",\"Medium\",\"Medium\",\"High\",\"Medium\",\"Medium\",\"Medium\",\"Medium\",\"Medium\",\"Medium\",\"Low\",\"Medium\",\"Medium\",\"Medium\",\"Medium\",\"Medium\",\"High\",\"Medium\",\"High\",\"High\",\"Medium\",\"High\",\"Medium\",\"Low\",\"Medium\",\"High\",\"Medium\",\"High\",\"Medium\",\"Medium\",\"Medium\",\"High\",\"Medium\",\"Medium\",\"Medium\",\"Medium\",\"Medium\",\"Low\",\"Low\",\"Medium\",\"High\",\"High\",\"Medium\",\"Medium\",\"Low\",\"Medium\",\"Low\",\"High\",\"Medium\",\"High\",\"Medium\",\"High\",\"Medium\",\"Low\",\"Low\",\"Low\",\"High\",\"Medium\",\"Medium\",\"Medium\",\"High\",\"Medium\",\"Medium\",\"High\",\"High\",\"Medium\",\"Medium\",\"Medium\",\"Medium\",\"High\",\"Medium\",\"Low\",\"Medium\",\"Medium\",\"Medium\",\"Medium\",\"High\",\"Medium\",\"Medium\",\"High\",\"Low\",\"Low\",\"Medium\",\"High\",\"High\",\"Medium\",\"Medium\",\"High\",\"Medium\",\"Low\",\"Medium\",\"Low\",\"High\",\"High\",\"Medium\",\"Medium\",\"High\",\"Low\",\"Medium\",\"Medium\",\"Medium\",\"Low\",\"Medium\",\"Medium\",\"Low\",\"High\",\"Medium\",\"Low\",\"Medium\",\"Low\",\"High\",\"Medium\",\"Medium\",\"Low\",\"Medium\",\"High\",\"Medium\",\"High\",\"Medium\",\"Low\",\"High\",\"Low\",\"High\",\"High\",\"Medium\",\"High\",\"Medium\",\"High\",\"Medium\",\"Medium\",\"Medium\",\"Medium\",\"High\",\"Medium\",\"Medium\",\"Low\",\"Low\",\"Low\",\"Medium\",\"Medium\",\"Low\",\"Medium\",\"Medium\",\"High\",\"High\",\"Medium\",\"High\",\"Medium\",\"High\",\"Medium\",\"High\",\"Low\",\"Medium\",\"Medium\",\"Medium\",\"Low\",\"High\",\"Low\",\"High\",\"Medium\",\"Medium\",\"Medium\",\"High\",\"Medium\",\"Low\",\"Medium\",\"Medium\",\"Medium\",\"Medium\",\"High\",\"Low\",\"Low\",\"Low\",\"Medium\",\"High\",\"Medium\",\"Medium\",\"Medium\",\"Medium\",\"High\",\"High\",\"Medium\",\"Medium\",\"High\",\"Medium\",\"Medium\",\"High\",\"Medium\",\"High\",\"Medium\",\"High\",\"Medium\",\"Medium\",\"Medium\",\"Medium\",\"Medium\",\"High\",\"High\",\"Medium\",\"Medium\",\"Medium\",\"Medium\",\"Medium\",\"Medium\",\"Medium\",\"High\",\"Medium\",\"Low\",\"High\",\"Medium\",\"Medium\",\"Medium\",\"Medium\",\"Medium\",\"Low\",\"Low\",\"High\",\"Medium\",\"Medium\",\"High\",\"High\",\"Medium\",\"Medium\",\"Medium\",\"Medium\",\"Medium\",\"High\",\"Medium\",\"Medium\",\"High\",\"Medium\",\"High\",\"Medium\",\"Medium\",\"Medium\",\"Medium\",\"Medium\",\"High\",\"Medium\",\"Medium\",\"Medium\",\"High\",\"Medium\",\"High\",\"Low\",\"Medium\",\"Medium\",\"Medium\",\"Medium\",\"Medium\",\"Medium\",\"High\",\"High\",\"Medium\",\"Low\",\"Medium\",\"Medium\",\"Medium\",\"Medium\",\"Medium\",\"Low\",\"High\",\"Medium\",\"Medium\",\"Medium\",\"High\",\"High\",\"Medium\",\"High\",\"Medium\",\"High\",\"Medium\",\"Medium\",\"Medium\",\"Medium\",\"High\",\"High\",\"High\",\"Medium\",\"Medium\",\"High\",\"Low\",\"Low\",\"High\",\"Medium\",\"Medium\",\"Medium\",\"Medium\",\"Medium\",\"High\",\"Low\",\"Medium\",\"Medium\",\"Medium\",\"High\",\"High\",\"Medium\",\"Medium\",\"Medium\",\"High\",\"High\",\"Medium\",\"Medium\",\"High\",\"High\",\"Medium\",\"Medium\",\"Medium\",\"Medium\",\"High\",\"High\",\"Medium\",\"Medium\",\"Low\",\"High\",\"Low\",\"Medium\",\"Medium\",\"High\",\"High\",\"High\",\"High\",\"Medium\",\"Medium\",\"Medium\",\"Medium\",\"Medium\",\"High\",\"High\",\"High\",\"Medium\",\"Medium\",\"Low\",\"High\",\"Low\",\"Medium\",\"Medium\",\"High\",\"Low\",\"High\",\"Medium\",\"Medium\",\"Medium\",\"Medium\",\"Medium\",\"High\",\"Medium\",\"Medium\",\"Low\",\"High\",\"Low\",\"High\",\"Low\",\"Low\",\"High\",\"High\",\"High\",\"Medium\",\"Medium\",\"Medium\",\"Medium\",\"Medium\",\"High\",\"High\",\"High\",\"Medium\",\"Medium\",\"Medium\",\"High\",\"Medium\",\"Medium\",\"Medium\",\"Medium\",\"Medium\",\"High\",\"Medium\",\"Medium\",\"High\",\"High\",\"Medium\",\"Medium\",\"High\",\"High\",\"Medium\",\"Medium\",\"Medium\",\"High\",\"Low\",\"Medium\",\"Medium\",\"Medium\",\"Medium\",\"High\",\"Medium\",\"Low\",\"Medium\",\"Low\",\"Medium\",\"Medium\",\"Medium\",\"Medium\",\"Medium\",\"Low\",\"Low\",\"Medium\",\"High\",\"Medium\",\"Medium\",\"High\",\"Medium\",\"Medium\",\"Medium\",\"Medium\",\"Medium\",\"Medium\",\"High\",\"High\",\"Low\",\"High\",\"Medium\",\"Medium\",\"Medium\",\"Medium\",\"Medium\",\"High\",\"High\",\"Medium\",\"High\",\"Low\",\"High\",\"Low\",\"High\",\"Medium\",\"Medium\",\"High\",\"Medium\",\"Medium\",\"Medium\",\"High\",\"Low\",\"Medium\",\"Medium\",\"High\",\"Medium\",\"Medium\",\"Medium\",\"Medium\",\"Medium\",\"Low\",\"Medium\",\"Medium\",\"Medium\",\"High\",\"Low\",\"High\",\"Medium\",\"Medium\",\"Medium\",\"Low\",\"Medium\",\"Medium\",\"Medium\",\"Medium\",\"Medium\",\"Medium\",\"Medium\",\"Medium\",\"Medium\",\"Low\",\"Low\",\"High\",\"Medium\",\"Low\",\"High\",\"Low\",\"Low\",\"High\",\"High\",\"High\",\"Low\",\"High\",\"High\",\"Low\",\"Medium\",\"Medium\",\"Medium\",\"Low\",\"Low\",\"Low\",\"High\",\"Medium\",\"Medium\",\"Medium\",\"Medium\",\"Medium\",\"Low\",\"High\",\"Medium\",\"Low\",\"Medium\",\"Low\",\"Medium\",\"Medium\",\"Medium\",\"Low\",\"Medium\",\"Medium\",\"Medium\",\"Low\",\"Medium\",\"Medium\",\"High\",\"Low\",\"Medium\",\"Medium\",\"High\",\"Medium\",\"Medium\",\"High\",\"Low\",\"Low\",\"Medium\",\"Medium\",\"Medium\",\"Medium\",\"Medium\",\"Low\",\"High\",\"Medium\",\"High\",\"Medium\",\"Medium\",\"High\",\"Medium\",\"Low\",\"Medium\",\"High\",\"Medium\",\"High\",\"Medium\",\"Medium\",\"Medium\",\"High\",\"High\",\"Low\",\"Medium\",\"High\",\"Medium\",\"Medium\",\"Medium\",\"Low\",\"Medium\",\"High\",\"Medium\",\"Medium\",\"High\",\"Low\",\"Medium\",\"High\",\"Medium\",\"Medium\",\"Medium\",\"Medium\",\"Medium\",\"Medium\",\"Medium\",\"Medium\",\"High\",\"Medium\",\"Medium\",\"High\",\"High\",\"High\",\"Low\",\"Medium\",\"High\",\"Medium\",\"Medium\",\"Medium\",\"High\",\"Medium\",\"High\",\"Medium\",\"High\",\"Medium\",\"Medium\",\"Low\",\"High\",\"High\",\"Medium\",\"Medium\",\"Medium\",\"Medium\",\"Medium\",\"High\",\"Medium\",\"High\",\"Medium\",\"High\",\"High\",\"Medium\",\"High\",\"Medium\",\"Medium\",\"Medium\",\"High\",\"Low\",\"High\",\"High\",\"Medium\",\"High\",\"High\",\"Medium\",\"High\",\"Medium\",\"Medium\",\"High\",\"Medium\",\"Low\",\"Medium\",\"Low\",\"Medium\",\"Medium\",\"Medium\",\"Medium\",\"Medium\",\"High\",\"Low\",\"High\",\"Medium\",\"Medium\",\"Medium\",\"High\",\"Medium\",\"High\",\"Medium\",\"High\",\"Low\",\"Medium\",\"Low\",\"Medium\",\"Medium\",\"Medium\",\"Low\",\"Medium\",\"Low\",\"Medium\",\"High\",\"Medium\",\"Medium\",\"Low\",\"Low\",\"Medium\",\"Medium\",\"Medium\",\"Medium\",\"Medium\",\"High\",\"Low\",\"Medium\",\"High\",\"Medium\",\"Medium\",\"Medium\",\"Medium\",\"Medium\",\"Medium\",\"Low\",\"Medium\",\"Medium\",\"Medium\",\"High\",\"Medium\",\"Medium\",\"High\",\"Medium\",\"Medium\",\"Medium\",\"Medium\",\"High\",\"Low\",\"Medium\",\"High\",\"Medium\",\"Medium\",\"Medium\",\"Medium\",\"Low\",\"High\",\"Medium\",\"High\",\"High\",\"High\",\"Low\",\"Medium\",\"Medium\",\"Medium\",\"Low\",\"Low\",\"High\",\"Medium\",\"High\",\"Low\",\"Medium\",\"Medium\",\"Medium\",\"Medium\",\"High\",\"Medium\",\"High\",\"Medium\",\"High\",\"High\",\"High\",\"High\",\"High\",\"Medium\",\"High\",\"High\",\"Medium\",\"High\",\"Medium\",\"High\",\"High\",\"High\",\"Low\",\"Medium\",\"Medium\",\"Medium\",\"Medium\",\"Low\",\"High\",\"Medium\",\"Medium\",\"Medium\",\"Medium\",\"Low\",\"Medium\",\"Medium\",\"Medium\",\"Medium\",\"Low\",\"High\",\"Medium\",\"Medium\",\"Medium\",\"High\",\"Medium\",\"High\",\"Low\",\"Medium\",\"Medium\",\"Low\",\"Low\",\"Low\",\"Low\",\"Medium\",\"Medium\",\"Medium\",\"Medium\",\"High\",\"High\",\"Low\",\"Medium\",\"Medium\",\"Medium\",\"Medium\",\"High\",\"High\",\"Medium\",\"High\",\"Medium\",\"Medium\",\"Medium\",\"Low\",\"Medium\",\"High\",\"Low\",\"Medium\",\"Low\",\"Medium\",\"Medium\",\"Medium\",\"Medium\",\"Medium\",\"Medium\",\"High\",\"Medium\",\"Medium\",\"Medium\",\"Low\",\"Medium\",\"Medium\",\"Medium\",\"High\",\"Medium\",\"High\",\"Medium\",\"Medium\",\"High\",\"Low\",\"Medium\",\"Medium\",\"Medium\",\"Medium\",\"High\",\"High\",\"Low\",\"Medium\",\"Medium\",\"Medium\",\"Medium\",\"Medium\",\"Medium\",\"High\",\"Medium\",\"Medium\",\"Medium\",\"Medium\",\"Medium\",\"Medium\",\"Medium\",\"Medium\",\"Medium\",\"Medium\",\"Medium\",\"Medium\",\"Medium\",\"High\",\"High\",\"High\",\"High\",\"Medium\",\"Medium\",\"High\",\"Low\",\"High\",\"Medium\",\"Medium\",\"Medium\",\"Low\",\"Medium\",\"Medium\",\"Medium\",\"Medium\",\"High\",\"High\",\"High\",\"Medium\",\"Medium\",\"Low\",\"Medium\",\"High\",\"Medium\",\"Medium\",\"High\",\"Low\",\"Low\",\"Medium\",\"Medium\",\"Medium\",\"High\",\"Medium\",\"High\",\"Medium\",\"Low\",\"High\",\"Medium\",\"Medium\",\"Medium\",\"Medium\",\"Medium\",\"Medium\",\"Medium\",\"Medium\",\"Medium\",\"Low\",\"Low\",\"High\",\"Medium\",\"Medium\",\"Medium\",\"Medium\",\"Low\",\"Medium\",\"Medium\",\"High\",\"High\",\"High\",\"Low\",\"Medium\",\"High\",\"Low\",\"Medium\",\"Medium\",\"Medium\",\"Medium\",\"Low\",\"Medium\",\"Medium\",\"Medium\",\"Medium\",\"High\",\"Medium\",\"Medium\",\"Medium\",\"Medium\",\"Medium\",\"High\",\"Medium\",\"Medium\",\"Low\",\"High\",\"Low\",\"Low\",\"Medium\",\"Low\",\"Medium\",\"Low\",\"Medium\",\"Medium\",\"Medium\",\"Medium\",\"Medium\",\"Medium\",\"Medium\",\"High\",\"Medium\",\"Medium\",\"Medium\",\"Medium\",\"High\",\"Medium\",\"Medium\",\"Medium\",\"Medium\",\"High\",\"High\",\"Medium\",\"Medium\",\"High\",\"Medium\",\"Medium\",\"Medium\",\"Medium\",\"Low\",\"Medium\",\"Medium\",\"Low\",\"Medium\",\"Medium\",\"High\",\"Medium\",\"Medium\",\"Medium\",\"Low\",\"Medium\",\"Low\",\"High\",\"High\",\"High\",\"High\",\"Medium\",\"High\",\"Medium\",\"High\",\"Low\",\"High\",\"Medium\",\"High\",\"Low\",\"High\",\"Low\",\"Medium\",\"Medium\",\"High\",\"Medium\",\"Low\",\"High\",\"Medium\",\"Medium\",\"High\",\"Low\",\"High\",\"High\",\"High\",\"Medium\",\"Medium\",\"Medium\",\"Medium\",\"Medium\",\"Low\",\"Medium\",\"High\",\"High\",\"High\",\"Low\",\"High\",\"Medium\",\"High\",\"Medium\",\"Medium\",\"High\",\"Medium\",\"Medium\",\"Medium\",\"High\",\"High\",\"Medium\",\"Medium\",\"Medium\",\"High\",\"High\",\"Low\",\"High\",\"Medium\",\"Medium\",\"Medium\",\"Low\",\"Low\",\"High\",\"High\",\"Medium\",\"Medium\",\"Medium\",\"Medium\",\"High\",\"High\",\"Medium\",\"Medium\",\"Medium\",\"Low\",\"Medium\",\"Medium\",\"Medium\",\"High\",\"Medium\",\"High\",\"Medium\",\"Medium\",\"Medium\",\"Low\",\"Medium\",\"High\",\"Medium\",\"Low\",\"High\",\"Medium\",\"Medium\",\"Medium\",\"High\",\"Low\",\"High\",\"Medium\",\"High\",\"High\",\"Medium\",\"Medium\",\"High\",\"Medium\",\"Medium\",\"Low\",\"Medium\",\"Medium\",\"Medium\",\"Medium\",\"Medium\",\"High\",\"Medium\",\"High\",\"High\",\"Low\",\"Medium\",\"Medium\",\"High\",\"Medium\",\"High\",\"Medium\",\"Medium\",\"High\",\"High\",\"Medium\",\"Low\",\"Medium\",\"Medium\",\"High\",\"Medium\",\"Low\",\"High\",\"High\",\"Low\",\"Low\",\"Medium\",\"Medium\",\"Medium\",\"Medium\",\"Medium\",\"High\",\"Medium\",\"Medium\",\"High\",\"Medium\",\"High\",\"High\",\"Medium\",\"Medium\",\"High\",\"Medium\",\"High\",\"Medium\",\"Medium\",\"High\",\"Medium\",\"High\",\"Medium\",\"High\",\"Medium\",\"High\",\"Medium\",\"Medium\",\"High\",\"Medium\",\"High\",\"High\",\"Low\",\"Medium\",\"Medium\",\"High\",\"Low\",\"Medium\",\"Low\",\"Medium\",\"High\",\"High\",\"Medium\",\"Medium\",\"Low\",\"Low\",\"Low\",\"Medium\",\"High\",\"High\",\"Medium\",\"High\",\"Low\",\"Low\",\"Medium\",\"High\",\"Medium\",\"Low\",\"Medium\",\"Medium\",\"Medium\",\"Medium\",\"High\",\"Medium\",\"Medium\",\"High\",\"Medium\",\"Medium\",\"High\",\"High\",\"High\",\"Medium\",\"Medium\",\"Medium\",\"High\",\"Medium\",\"Medium\",\"High\",\"Low\",\"Medium\",\"Medium\",\"Medium\",\"Medium\",\"Low\",\"High\",\"High\",\"Medium\",\"High\",\"Medium\",\"High\",\"High\",\"High\",\"Low\",\"High\",\"High\",\"Medium\",\"High\",\"High\",\"Medium\",\"High\",\"Medium\",\"Medium\",\"Medium\",\"Medium\",\"Medium\",\"High\",\"High\",\"Medium\",\"Medium\",\"High\",\"Medium\",\"Medium\",\"Medium\",\"High\",\"Medium\",\"High\",\"High\",\"Low\",\"High\",\"Low\",\"High\",\"Medium\",\"Medium\",\"High\",\"Medium\",\"Low\",\"Medium\",\"Low\",\"Medium\",\"Medium\",\"Low\",\"High\",\"Medium\",\"Low\",\"Medium\",\"High\",\"Medium\",\"High\",\"High\",\"Medium\",\"High\",\"High\",\"Medium\",\"Medium\",\"Medium\",\"Medium\",\"Medium\",\"High\",\"Medium\",\"Low\",\"Low\",\"Medium\",\"High\",\"Medium\",\"Low\",\"Medium\",\"Low\",\"High\",\"Medium\",\"Medium\",\"Low\",\"Medium\",\"Medium\",\"Medium\",\"High\",\"Low\",\"Medium\",\"Medium\",\"Medium\",\"Low\",\"High\",\"High\",\"High\",\"Medium\",\"High\",\"Medium\",\"High\",\"Medium\",\"Medium\",\"Medium\",\"Medium\",\"Medium\",\"High\",\"High\",\"Medium\",\"Low\",\"Medium\",\"Medium\",\"Medium\",\"High\",\"High\",\"Medium\",\"Medium\",\"Medium\",\"High\",\"Medium\",\"Medium\",\"Medium\",\"Medium\",\"Medium\",\"High\",\"Low\",\"Medium\",\"Medium\",\"Low\",\"Medium\",\"High\",\"High\",\"High\",\"Medium\",\"Medium\",\"Medium\",\"Medium\",\"High\",\"Medium\",\"Medium\",\"Medium\",\"Medium\",\"High\",\"Medium\",\"Medium\",\"Medium\",\"Medium\",\"Medium\",\"High\",\"Medium\",\"Medium\",\"High\",\"Low\",\"Medium\",\"Medium\",\"Medium\",\"Medium\",\"Medium\",\"Medium\",\"Low\",\"High\",\"Medium\",\"Medium\",\"High\",\"Medium\",\"High\",\"Medium\",\"Medium\",\"High\",\"Medium\",\"High\",\"Low\",\"Low\",\"Low\",\"Medium\",\"Low\",\"Medium\",\"Low\",\"Medium\",\"Low\",\"Low\",\"Low\",\"Medium\",\"Medium\",\"High\",\"Medium\",\"Medium\",\"Medium\",\"Low\",\"High\",\"Low\",\"High\",\"Medium\",\"Low\",\"Medium\",\"Medium\",\"Low\",\"Low\",\"Medium\",\"Medium\",\"Low\",\"High\",\"Medium\",\"Medium\",\"Medium\",\"Low\",\"High\",\"Medium\",\"Medium\",\"Medium\",\"Medium\",\"Medium\",\"Medium\",\"High\",\"Low\",\"Medium\",\"High\",\"Medium\",\"Low\",\"High\",\"Medium\",\"High\",\"Medium\",\"Medium\",\"Medium\",\"High\",\"Medium\",\"High\",\"Medium\",\"High\",\"Medium\",\"Medium\",\"High\",\"Medium\",\"Medium\",\"Medium\",\"Medium\",\"High\",\"High\",\"High\",\"Low\",\"Low\",\"High\",\"High\",\"Medium\",\"High\",\"Medium\",\"High\",\"High\",\"Medium\",\"Medium\",\"High\",\"Medium\",\"Medium\",\"Low\",\"Low\",\"Medium\",\"High\",\"Medium\",\"High\",\"Medium\",\"Medium\",\"Medium\",\"Medium\",\"High\",\"High\",\"Medium\",\"High\",\"Medium\",\"High\",\"High\",\"Medium\",\"Medium\",\"Medium\",\"Medium\",\"Medium\",\"Medium\",\"Medium\",\"Medium\",\"Medium\",\"Medium\",\"Low\",\"High\",\"High\",\"Medium\",\"High\",\"Low\",\"Medium\",\"High\",\"Medium\",\"High\",\"Low\",\"Medium\",\"Low\",\"Medium\",\"High\",\"Medium\",\"Medium\",\"Medium\",\"Medium\",\"Medium\",\"Medium\",\"High\",\"Medium\",\"Low\",\"Medium\",\"High\",\"Medium\",\"Medium\",\"High\",\"High\",\"High\",\"Medium\",\"Medium\",\"Medium\",\"Medium\",\"High\",\"High\",\"High\",\"Medium\",\"Medium\",\"High\",\"Medium\",\"Medium\",\"High\",\"High\",\"Medium\",\"Medium\",\"Medium\",\"Low\",\"Medium\",\"Medium\",\"Medium\",\"High\",\"Medium\",\"Medium\",\"High\",\"Medium\",\"Medium\",\"Medium\",\"Low\",\"Medium\",\"High\",\"Low\",\"Medium\",\"Medium\",\"Medium\",\"Medium\",\"Low\",\"Medium\",\"High\",\"Medium\",\"Low\",\"Medium\",\"High\",\"High\",\"High\",\"High\",\"Medium\",\"Medium\",\"Medium\",\"Medium\",\"High\",\"Medium\",\"Medium\",\"Medium\",\"High\",\"Medium\",\"High\",\"Medium\",\"Medium\",\"High\",\"Low\",\"Medium\",\"High\",\"High\",\"Medium\",\"Low\",\"High\",\"High\",\"Medium\",\"High\",\"Medium\",\"Medium\",\"Medium\",\"High\",\"High\",\"Medium\",\"Low\",\"Low\",\"High\",\"Medium\",\"Medium\",\"Medium\",\"Low\",\"Low\",\"Medium\",\"Medium\",\"High\",\"High\",\"Medium\",\"High\",\"Medium\",\"Medium\",\"Low\",\"Medium\",\"High\",\"Medium\",\"Medium\",\"High\",\"Low\",\"Medium\",\"Medium\",\"Medium\",\"Medium\",\"High\",\"High\",\"Low\",\"Medium\",\"High\",\"Medium\",\"High\",\"High\",\"Medium\",\"Medium\",\"Medium\",\"High\",\"Medium\",\"Medium\",\"Low\",\"Medium\",\"High\",\"Medium\",\"Medium\",\"Medium\",\"Low\",\"High\",\"Medium\",\"Medium\",\"High\",\"Medium\",\"Medium\",\"Medium\",\"High\",\"Medium\",\"Medium\",\"High\",\"Medium\",\"Medium\",\"High\",\"Medium\",\"Medium\",\"Medium\",\"Low\",\"Low\",\"Medium\",\"Low\",\"Medium\",\"Medium\",\"Medium\",\"Medium\",\"Medium\",\"High\",\"Low\",\"Low\",\"Low\",\"Medium\",\"High\",\"Medium\",\"Medium\",\"High\",\"Medium\",\"High\",\"Medium\",\"Medium\",\"High\",\"High\",\"Medium\",\"Medium\",\"Medium\",\"Low\",\"Medium\",\"High\",\"High\",\"High\",\"Medium\",\"Medium\",\"High\",\"High\",\"Medium\",\"Medium\",\"Low\",\"Medium\",\"High\",\"Medium\",\"Low\",\"Medium\",\"Medium\",\"Low\",\"Medium\",\"Low\",\"Medium\",\"High\",\"High\",\"Low\",\"Medium\",\"Medium\",\"High\",\"High\",\"Low\",\"High\",\"Medium\",\"High\",\"Medium\",\"Low\",\"Medium\",\"Low\",\"Medium\",\"High\",\"Medium\",\"Medium\",\"Medium\",\"Low\",\"High\",\"High\",\"Medium\",\"Medium\",\"Low\",\"Medium\",\"Medium\",\"Medium\",\"Medium\",\"Medium\",\"Low\",\"Medium\",\"High\",\"Medium\",\"Medium\",\"High\",\"Medium\",\"Medium\",\"High\",\"Medium\",\"Low\",\"Medium\",\"Low\",\"Low\",\"Medium\",\"High\",\"Medium\",\"Medium\",\"Medium\",\"High\",\"Low\",\"High\",\"Medium\",\"High\",\"High\",\"High\",\"Low\",\"Medium\",\"Medium\",\"Medium\",\"High\",\"Low\",\"High\",\"Low\",\"Medium\",\"High\",\"Low\",\"Medium\",\"Medium\",\"Medium\",\"Medium\",\"Medium\",\"High\",\"Medium\",\"Medium\",\"Medium\",\"Medium\",\"Medium\",\"Low\",\"High\",\"Medium\",\"Medium\",\"High\",\"Medium\",\"Low\",\"Medium\",\"High\",\"Medium\",\"Medium\",\"Medium\",\"High\",\"Medium\",\"High\",\"Medium\",\"High\",\"Medium\",\"High\",\"Medium\",\"High\",\"Medium\",\"Medium\",\"Medium\",\"High\",\"Medium\",\"High\",\"Medium\",\"High\",\"High\",\"Medium\",\"Medium\",\"Medium\",\"High\",\"Medium\",\"High\",\"High\",\"Medium\",\"Medium\",\"Low\",\"Medium\",\"High\",\"Medium\",\"Low\",\"Medium\",\"Medium\",\"Medium\",\"High\",\"High\",\"Medium\",\"Medium\",\"High\",\"High\",\"Medium\",\"Medium\",\"Low\",\"High\",\"Medium\",\"High\",\"High\",\"High\",\"Medium\",\"Medium\",\"High\",\"High\",\"Medium\",\"Medium\",\"Medium\",\"Medium\",\"Medium\",\"Low\",\"High\",\"Medium\",\"Low\",\"High\",\"Medium\",\"Low\",\"Low\",\"Medium\",\"Low\",\"High\",\"Medium\",\"Medium\",\"Medium\",\"Low\",\"High\",\"Medium\",\"Medium\",\"Medium\",\"Medium\",\"High\",\"High\",\"Low\",\"High\",\"Medium\",\"High\",\"Medium\",\"High\",\"Medium\",\"High\",\"Medium\",\"Medium\",\"High\",\"Medium\",\"Medium\",\"High\",\"Medium\",\"High\",\"Medium\",\"Medium\",\"Medium\",\"Medium\",\"Medium\",\"High\",\"High\",\"Medium\",\"Medium\",\"Medium\",\"Low\",\"High\",\"High\",\"Medium\",\"Medium\",\"Medium\",\"Medium\",\"Medium\",\"Medium\",\"High\",\"Medium\",\"High\",\"High\",\"Medium\",\"Medium\",\"Medium\",\"Medium\",\"Medium\",\"Medium\",\"Medium\",\"High\",\"Medium\",\"Medium\",\"Medium\",\"Low\",\"High\",\"Medium\",\"Medium\",\"Low\",\"Medium\",\"High\",\"Medium\",\"High\",\"High\",\"Low\",\"Medium\",\"Low\",\"Medium\",\"Medium\",\"Medium\",\"High\",\"Low\",\"High\",\"High\",\"Medium\",\"High\",\"Medium\",\"High\",\"Medium\",\"Medium\",\"Medium\",\"Medium\",\"Medium\",\"High\",\"Low\",\"Medium\",\"Medium\",\"Low\",\"High\",\"High\",\"Medium\",\"Medium\",\"Low\",\"Low\",\"High\",\"Low\",\"Medium\",\"High\",\"Low\",\"High\",\"High\",\"High\",\"Medium\",\"Low\",\"High\",\"Medium\",\"High\",\"Medium\",\"Medium\",\"Medium\",\"High\",\"Medium\",\"Medium\",\"Medium\",\"Medium\",\"Medium\",\"High\",\"Low\",\"Medium\",\"Low\",\"High\",\"Medium\",\"Medium\",\"Medium\",\"High\",\"Medium\",\"Medium\",\"Medium\",\"Medium\",\"Low\",\"Medium\",\"Low\",\"Medium\",\"Medium\",\"Medium\",\"Medium\",\"Medium\",\"High\",\"Medium\",\"Medium\",\"Low\",\"Medium\",\"Medium\",\"Medium\",\"Medium\",\"Medium\",\"Medium\",\"High\",\"Medium\",\"High\",\"Medium\",\"Medium\",\"High\",\"High\",\"High\",\"High\",\"Medium\",\"Medium\",\"Medium\",\"Low\",\"Medium\",\"High\",\"High\",\"High\",\"High\",\"Medium\",\"Low\",\"Medium\",\"Medium\",\"Low\",\"High\",\"Medium\",\"Medium\",\"Medium\",\"Low\",\"High\",\"Low\",\"High\",\"High\",\"Low\",\"Low\",\"High\",\"High\",\"Medium\",\"Low\",\"Medium\",\"High\",\"Medium\",\"High\",\"High\",\"Low\",\"High\",\"Medium\",\"Medium\",\"Medium\",\"High\",\"Medium\",\"High\",\"Medium\",\"High\",\"Medium\",\"High\",\"Medium\",\"Medium\",\"Medium\",\"Medium\",\"High\",\"High\",\"High\",\"Medium\",\"High\",\"Medium\",\"High\",\"High\",\"Low\",\"Medium\",\"Medium\",\"Low\",\"High\",\"Low\",\"High\",\"Medium\",\"Medium\",\"Medium\",\"Medium\",\"High\",\"Medium\",\"Medium\",\"High\",\"Medium\",\"High\",\"Low\",\"Medium\",\"Medium\",\"High\",\"High\",\"Medium\",\"High\",\"Medium\",\"High\",\"Medium\",\"Medium\",\"High\",\"High\",\"Medium\",\"Medium\",\"Medium\",\"Low\",\"Medium\",\"Medium\",\"Medium\",\"Medium\",\"High\",\"High\",\"Medium\",\"Medium\",\"High\",\"Medium\",\"Medium\",\"High\",\"Medium\",\"Low\",\"Medium\",\"Medium\",\"Low\",\"High\",\"Medium\",\"High\",\"Low\",\"High\",\"Medium\",\"Medium\",\"Low\",\"Medium\",\"Medium\",\"Medium\",\"High\",\"Low\",\"Medium\",\"High\",\"Medium\",\"High\",\"High\",\"Medium\",\"High\",\"High\",\"Medium\",\"Medium\",\"Low\",\"Medium\",\"Medium\",\"High\",\"Low\",\"Low\",\"Medium\",\"High\",\"High\",\"High\",\"High\",\"High\",\"Medium\",\"Medium\",\"Low\",\"High\",\"Medium\",\"Medium\",\"Medium\",\"High\",\"High\",\"Medium\",\"High\",\"Medium\",\"High\",\"Low\",\"Low\",\"Medium\",\"Medium\",\"Medium\",\"High\",\"Medium\",\"High\",\"Low\",\"Medium\",\"High\",\"Medium\",\"High\",\"Low\",\"High\",\"High\",\"Low\",\"Medium\",\"High\",\"Medium\",\"Medium\",\"Medium\",\"Medium\",\"Medium\",\"Medium\",\"High\",\"Medium\",\"Medium\",\"Low\",\"High\",\"High\",\"High\",\"High\",\"Medium\",\"Medium\",\"Medium\",\"Low\",\"High\",\"Medium\",\"Medium\",\"Medium\",\"Medium\",\"Low\",\"High\",\"Medium\",\"Low\",\"Medium\",\"Medium\",\"Medium\",\"High\",\"Medium\",\"Medium\",\"Medium\",\"Medium\",\"Medium\",\"Medium\",\"Medium\",\"Medium\",\"Medium\",\"High\",\"Medium\",\"High\",\"Medium\",\"Low\",\"High\",\"Low\",\"Medium\",\"Medium\",\"Medium\",\"Medium\",\"Medium\",\"Medium\",\"Medium\",\"Medium\",\"High\",\"Medium\",\"Medium\",\"High\",\"Medium\",\"Medium\",\"Medium\",\"Medium\",\"Medium\",\"Medium\",\"Low\",\"High\",\"Medium\",\"High\",\"Low\",\"Low\",\"High\",\"High\",\"High\",\"Medium\",\"Medium\",\"Medium\",\"Medium\",\"Medium\",\"High\",\"High\",\"Medium\",\"Medium\",\"Medium\",\"Low\",\"Medium\",\"Medium\",\"Medium\",\"Medium\",\"High\",\"High\",\"High\",\"High\",\"Medium\",\"Low\",\"Medium\",\"Medium\",\"Low\",\"Medium\",\"Medium\",\"Medium\",\"High\",\"Low\",\"Low\",\"Low\",\"High\",\"Medium\",\"Medium\",\"Medium\",\"High\",\"Medium\",\"Medium\",\"Medium\",\"Medium\",\"Medium\",\"Low\",\"Low\",\"High\",\"Low\",\"Medium\",\"Medium\",\"Medium\",\"Medium\",\"High\",\"Medium\",\"High\",\"Medium\",\"Medium\",\"High\",\"High\",\"High\",\"Medium\",\"Low\",\"High\",\"High\",\"Medium\",\"High\",\"Medium\",\"High\",\"Low\",\"High\",\"Medium\",\"Medium\",\"High\",\"Low\",\"Medium\",\"Low\",\"High\",\"Medium\",\"Medium\",\"Medium\",\"High\",\"Low\",\"Medium\",\"Low\",\"High\",\"Medium\",\"Medium\",\"High\",\"Medium\",\"Low\",\"Medium\",\"High\",\"High\",\"High\",\"High\",\"High\",\"Medium\",\"Medium\",\"Medium\",\"Medium\",\"Medium\",\"Medium\",\"High\",\"High\",\"Medium\",\"Medium\",\"Low\",\"Medium\",\"Medium\",\"Medium\",\"Medium\",\"High\",\"Medium\",\"Medium\",\"Medium\",\"Medium\",\"High\",\"High\",\"Medium\",\"Medium\",\"Medium\",\"Medium\",\"Medium\",\"Medium\",\"High\",\"Medium\",\"Medium\",\"Medium\",\"High\",\"Medium\",\"Low\",\"Medium\",\"High\",\"High\",\"Medium\",\"Medium\",\"High\",\"Medium\",\"High\",\"Medium\",\"Medium\",\"Medium\",\"High\",\"Medium\",\"Medium\",\"Low\",\"Medium\",\"High\",\"Medium\",\"Low\",\"Medium\",\"Medium\",\"Medium\",\"High\",\"High\",\"High\",\"Medium\",\"High\",\"Medium\",\"Medium\",\"Medium\",\"Low\",\"Medium\",\"Medium\",\"Medium\",\"Medium\",\"Medium\",\"Low\",\"Low\",\"High\",\"Low\",\"Medium\",\"Medium\",\"Medium\",\"Medium\",\"High\",\"Low\",\"High\",\"High\",\"Medium\",\"Medium\",\"Medium\",\"Medium\",\"Medium\",\"Medium\",\"Medium\",\"High\",\"Low\",\"Medium\",\"High\",\"High\",\"Medium\",\"Medium\",\"Medium\",\"Medium\",\"High\",\"Medium\",\"Medium\",\"Medium\",\"High\",\"Medium\",\"Medium\",\"Medium\",\"Medium\",\"Medium\",\"High\",\"Medium\",\"Medium\",\"Medium\",\"Low\",\"Low\",\"High\",\"Low\",\"Medium\",\"High\",\"Medium\",\"Medium\",\"Medium\",\"Medium\",\"Medium\",\"High\",\"Medium\",\"High\",\"Medium\",\"Medium\",\"Medium\",\"Medium\",\"Medium\",\"Medium\",\"Medium\",\"Medium\",\"High\",\"Medium\",\"High\",\"High\",\"Medium\",\"Medium\",\"High\",\"High\",\"High\",\"Medium\",\"Medium\",\"Medium\",\"Medium\",\"High\",\"High\",\"Medium\",\"Low\",\"Medium\",\"Medium\",\"Medium\",\"Medium\",\"High\",\"Medium\",\"High\",\"Medium\",\"Medium\",\"High\",\"High\",\"Low\",\"High\",\"High\",\"High\",\"Medium\",\"Low\",\"High\",\"Medium\",\"Medium\",\"Low\",\"Low\",\"Medium\",\"Medium\",\"High\",\"Low\",\"Medium\",\"High\",\"Medium\",\"Medium\",\"Medium\",\"Medium\",\"High\",\"High\",\"Low\",\"Medium\",\"Low\",\"Medium\",\"High\",\"Medium\",\"Medium\",\"High\",\"Low\",\"Medium\",\"High\",\"Medium\",\"Medium\",\"Medium\",\"Medium\",\"Medium\",\"Low\",\"Low\",\"Low\",\"Low\",\"Medium\",\"High\",\"Low\",\"High\",\"Medium\",\"Medium\",\"High\",\"High\",\"Medium\",\"High\",\"Medium\",\"Medium\",\"Low\",\"Medium\",\"Medium\",\"Medium\",\"Medium\",\"High\",\"High\",\"Low\",\"Low\",\"Low\",\"Medium\",\"Medium\",\"High\",\"High\",\"Medium\",\"High\",\"Medium\",\"Medium\",\"High\",\"Low\",\"High\",\"High\",\"Medium\",\"Low\",\"Low\",\"High\",\"High\",\"Medium\",\"Medium\",\"Low\",\"Low\",\"Medium\",\"Medium\",\"Low\",\"Low\",\"Medium\",\"Medium\",\"Low\",\"High\",\"High\",\"Medium\",\"Low\",\"Medium\",\"Medium\",\"High\",\"High\",\"Medium\",\"Medium\",\"High\",\"Medium\",\"Medium\",\"Low\",\"Medium\",\"High\",\"Medium\",\"Medium\",\"Medium\",\"Medium\",\"High\",\"Medium\",\"Medium\",\"Medium\",\"High\",\"Medium\",\"Medium\",\"High\",\"High\",\"High\",\"Medium\",\"Medium\",\"High\",\"Medium\",\"Medium\",\"High\",\"Low\",\"Low\",\"Medium\",\"Low\",\"Medium\",\"Medium\",\"Medium\",\"High\",\"Medium\",\"High\",\"Medium\",\"Medium\",\"Medium\",\"High\",\"High\",\"Medium\",\"Low\",\"Low\",\"Low\",\"Medium\",\"Low\",\"High\",\"Medium\",\"Medium\",\"Low\",\"Medium\",\"High\",\"High\",\"Low\",\"Low\",\"Medium\",\"Medium\",\"High\",\"Medium\",\"High\",\"High\",\"High\",\"High\",\"Medium\",\"High\",\"Medium\",\"Medium\",\"Medium\",\"Medium\",\"Low\",\"Medium\",\"Medium\",\"Low\",\"Medium\",\"Medium\",\"Low\",\"Medium\",\"Medium\",\"Medium\",\"Low\",\"Medium\",\"Medium\",\"Low\",\"Low\",\"High\",\"Medium\",\"Low\",\"Medium\",\"Low\",\"Medium\",\"Medium\",\"High\",\"Medium\",\"Medium\",\"Low\",\"High\",\"Medium\",\"High\",\"Low\",\"High\",\"Medium\",\"High\",\"Medium\",\"High\",\"High\",\"High\",\"Medium\",\"Low\",\"Medium\",\"Medium\",\"Low\",\"Medium\",\"Low\",\"High\",\"High\",\"Medium\",\"Low\",\"Medium\",\"Medium\",\"High\",\"Medium\",\"Low\",\"High\",\"Medium\",\"Medium\",\"High\",\"High\",\"Medium\",\"High\",\"Medium\",\"Low\",\"Medium\",\"Medium\",\"Medium\",\"Medium\",\"Medium\",\"High\",\"Medium\",\"High\",\"Low\",\"Medium\",\"High\",\"Medium\",\"Medium\",\"Medium\",\"High\",\"Low\",\"Medium\",\"High\",\"Low\",\"Medium\",\"Medium\",\"Low\",\"Medium\",\"High\",\"Medium\",\"High\",\"High\",\"Medium\",\"Low\",\"Medium\",\"Low\",\"Medium\",\"Medium\",\"High\",\"Medium\",\"High\",\"Medium\",\"Medium\",\"Medium\",\"High\",\"Medium\",\"Medium\",\"Low\",\"Medium\",\"Low\",\"Medium\",\"Low\",\"High\",\"Medium\",\"High\",\"Medium\",\"Medium\",\"Low\",\"Medium\",\"Medium\",\"Medium\",\"Medium\",\"High\",\"High\",\"High\",\"Medium\",\"High\",\"Medium\",\"Medium\",\"Medium\",\"High\",\"Medium\",\"Medium\",\"High\",\"Medium\",\"Medium\",\"High\",\"Medium\",\"High\",\"Medium\",\"Medium\",\"Low\",\"Medium\",\"Medium\",\"Medium\",\"Medium\",\"Medium\",\"High\",\"Medium\",\"Medium\",\"High\",\"Medium\",\"Low\",\"Medium\",\"High\",\"Medium\",\"High\",\"High\",\"Medium\",\"High\",\"Medium\",\"High\",\"Low\",\"High\",\"High\",\"Medium\",\"High\",\"Medium\",\"Medium\",\"Medium\",\"Medium\",\"Medium\",\"Medium\",\"Medium\",\"Low\",\"High\",\"High\",\"High\",\"High\",\"Low\",\"Low\",\"Medium\",\"Medium\",\"Medium\",\"Low\",\"Low\",\"High\",\"Medium\",\"High\",\"High\",\"Low\",\"Medium\",\"Low\",\"Medium\",\"Medium\",\"Medium\",\"Medium\",\"High\",\"Medium\",\"Medium\",\"High\",\"Medium\",\"High\",\"High\",\"Medium\",\"High\",\"Low\",\"Low\",\"High\",\"Medium\",\"Medium\",\"Medium\",\"Medium\",\"Low\",\"Medium\",\"Medium\",\"Medium\",\"Low\",\"Low\",\"High\",\"High\",\"Medium\",\"Medium\",\"Medium\",\"Medium\",\"High\",\"Medium\",\"Medium\",\"Low\",\"Low\",\"Medium\",\"High\",\"Medium\",\"High\",\"Medium\",\"Medium\",\"Medium\",\"Medium\",\"High\",\"High\",\"High\",\"Low\",\"Medium\",\"Low\",\"High\",\"High\",\"High\",\"High\",\"Medium\",\"High\",\"Medium\",\"High\",\"Medium\",\"High\",\"High\",\"Medium\",\"Medium\",\"Low\",\"Low\",\"Medium\",\"Medium\",\"High\",\"Medium\",\"Medium\",\"Medium\",\"Medium\",\"Low\",\"Medium\",\"High\",\"Low\",\"High\",\"Medium\",\"High\",\"High\",\"High\",\"High\",\"Medium\",\"Medium\",\"Medium\",\"High\",\"Medium\",\"Medium\",\"Medium\",\"Medium\",\"High\",\"Medium\",\"Low\",\"High\",\"Low\",\"Low\",\"Medium\",\"High\",\"High\",\"Low\",\"Medium\",\"Medium\",\"Medium\",\"Low\",\"High\",\"Medium\",\"High\",\"Low\",\"Low\",\"Low\",\"Low\",\"High\",\"Low\",\"Medium\",\"Medium\",\"Medium\",\"Medium\",\"Medium\",\"Medium\",\"Medium\",\"High\",\"Low\",\"Medium\",\"Medium\",\"Medium\",\"High\",\"High\",\"Medium\",\"Low\",\"Low\",\"High\",\"High\",\"Low\",\"Low\",\"High\",\"High\",\"High\",\"Medium\",\"Medium\",\"Medium\",\"Medium\",\"High\",\"High\",\"Low\",\"Medium\",\"Medium\",\"High\",\"Medium\",\"Medium\",\"Low\",\"Medium\",\"High\",\"Medium\",\"High\",\"Medium\",\"Medium\",\"Medium\",\"High\",\"Medium\",\"Medium\",\"Medium\",\"High\",\"Medium\",\"High\",\"Medium\",\"High\",\"High\",\"Medium\",\"High\",\"Low\",\"Low\",\"Medium\",\"High\",\"Medium\",\"Medium\",\"High\",\"Medium\",\"High\",\"Medium\",\"Medium\",\"Medium\",\"Medium\",\"Medium\",\"Medium\",\"Low\",\"Medium\",\"High\",\"High\",\"High\",\"Low\",\"Medium\",\"Medium\",\"Low\",\"Medium\",\"High\",\"High\",\"High\",\"Medium\",\"High\",\"High\",\"Medium\",\"Low\",\"Medium\",\"Medium\",\"Medium\",\"Medium\",\"Low\",\"Medium\",\"Medium\",\"Medium\",\"Medium\",\"Low\",\"High\",\"Medium\",\"Medium\",\"Medium\",\"Medium\",\"High\",\"Medium\",\"Medium\",\"High\",\"Low\",\"Medium\",\"Medium\",\"High\",\"Medium\",\"High\",\"Medium\",\"Medium\",\"High\",\"High\",\"Medium\",\"Low\",\"High\",\"Medium\",\"Medium\",\"Medium\",\"Medium\",\"Low\",\"Medium\",\"Medium\",\"Medium\",\"Medium\",\"Medium\",\"Medium\",\"Low\",\"Low\",\"Low\",\"Medium\",\"Medium\",\"Medium\",\"Medium\",\"Low\",\"High\",\"Medium\",\"Medium\",\"Low\",\"Medium\",\"High\",\"Medium\",\"High\",\"Low\",\"Low\",\"High\",\"High\",\"Medium\",\"Medium\",\"Medium\",\"Medium\",\"High\",\"Medium\",\"Medium\",\"High\",\"Low\",\"Medium\",\"Low\",\"Medium\",\"High\",\"Medium\",\"High\",\"High\",\"Medium\",\"High\",\"Medium\",\"Medium\",\"Medium\",\"High\",\"High\",\"High\",\"Low\",\"High\",\"Low\",\"Low\",\"Medium\",\"High\",\"High\",\"Medium\",\"Medium\",\"Low\",\"Medium\",\"Medium\",\"High\",\"Medium\",\"High\",\"Medium\",\"High\",\"Medium\",\"Medium\",\"High\",\"Medium\",\"Low\",\"Medium\",\"Low\",\"High\",\"Medium\",\"Medium\",\"High\",\"High\",\"Medium\",\"Medium\",\"Medium\",\"Medium\",\"Medium\",\"High\",\"Medium\",\"Medium\",\"Medium\",\"High\",\"Low\",\"Medium\",\"Low\",\"High\",\"High\",\"High\",\"Low\",\"High\",\"Medium\",\"Medium\",\"Medium\",\"Medium\",\"Medium\",\"High\",\"High\",\"High\",\"Low\",\"Medium\",\"High\",\"Medium\",\"Low\",\"Medium\",\"Medium\",\"Medium\",\"High\",\"High\",\"High\",\"Low\",\"Medium\",\"High\",\"Medium\",\"Medium\",\"High\",\"Medium\",\"Low\",\"Low\",\"Medium\",\"High\",\"Medium\",\"Medium\",\"Medium\",\"Medium\",\"Low\",\"Low\",\"High\",\"High\",\"Medium\",\"High\",\"Medium\",\"Medium\",\"Medium\",\"Medium\",\"Medium\",\"Medium\",\"Medium\",\"Low\",\"Medium\",\"High\",\"Low\",\"Medium\",\"Low\",\"Medium\",\"High\",\"High\",\"Medium\",\"High\",\"Medium\",\"Medium\",\"Medium\",\"Medium\",\"Medium\",\"Medium\",\"Medium\",\"High\",\"Low\",\"Medium\",\"Medium\",\"Medium\",\"Medium\",\"High\",\"Medium\",\"Medium\",\"Medium\",\"Low\",\"Medium\",\"Medium\",\"Medium\",\"High\",\"Medium\",\"Medium\",\"Medium\",\"Medium\",\"High\",\"Medium\",\"Medium\",\"Medium\",\"Medium\",\"Medium\",\"High\",\"Medium\",\"High\",\"Medium\",\"High\",\"Medium\",\"High\",\"Medium\",\"Medium\",\"Medium\",\"High\",\"High\",\"Medium\",\"Medium\",\"High\",\"High\",\"Medium\",\"High\",\"Medium\",\"Medium\",\"Low\",\"Medium\",\"High\",\"High\",\"Medium\",\"High\",\"High\",\"Medium\",\"Low\",\"Medium\",\"Medium\",\"High\",\"Medium\",\"Medium\",\"Medium\",\"Medium\",\"High\",\"High\",\"High\",\"Medium\",\"Medium\",\"Medium\",\"Medium\",\"Medium\",\"High\",\"High\",\"Low\",\"Low\",\"Medium\",\"High\",\"Medium\",\"Low\",\"Medium\",\"High\",\"Low\",\"High\",\"Medium\",\"Medium\",\"Medium\",\"Low\",\"Medium\",\"High\",\"High\",\"High\",\"Medium\",\"High\",\"High\",\"High\",\"High\",\"Low\",\"Medium\",\"Medium\",\"Medium\",\"Medium\",\"High\",\"Medium\",\"Medium\",\"Low\",\"High\",\"High\",\"Medium\",\"High\",\"Medium\",\"Medium\",\"Low\",\"High\",\"Medium\",\"High\",\"Medium\",\"Medium\",\"High\",\"Medium\",\"Medium\",\"Medium\",\"Medium\",\"Medium\",\"Medium\",\"Medium\",\"Medium\",\"Medium\",\"Medium\",\"Low\",\"High\",\"Medium\",\"Low\",\"Low\",\"Medium\",\"High\",\"Medium\",\"Low\",\"Low\",\"High\",\"Medium\",\"Medium\",\"High\",\"Low\",\"Medium\",\"Medium\",\"Medium\",\"High\",\"High\",\"Medium\",\"Medium\",\"Medium\",\"Medium\",\"Low\",\"High\",\"High\",\"Medium\",\"Medium\",\"Low\",\"Medium\",\"High\",\"Low\",\"Medium\",\"Medium\",\"Medium\",\"High\",\"Medium\",\"Medium\",\"Medium\",\"High\",\"High\",\"Low\",\"Medium\",\"Medium\",\"Medium\",\"High\",\"Low\",\"Low\",\"Medium\",\"Medium\",\"Medium\",\"Medium\",\"Medium\",\"High\",\"Medium\",\"Medium\",\"High\",\"Medium\",\"Medium\",\"High\",\"Medium\",\"Medium\",\"Medium\",\"High\",\"High\",\"Medium\",\"High\",\"Medium\",\"Medium\",\"Medium\",\"Low\",\"Medium\",\"Medium\",\"Low\",\"Medium\",\"Medium\",\"High\",\"Medium\",\"Medium\",\"High\",\"High\",\"Medium\",\"Low\",\"Medium\",\"High\",\"High\",\"Low\",\"Low\",\"Low\",\"High\",\"Medium\",\"Medium\",\"Medium\",\"Medium\",\"Medium\",\"High\",\"High\",\"Medium\",\"Medium\",\"Low\",\"Medium\",\"Medium\",\"Medium\",\"Medium\",\"High\",\"Medium\",\"High\",\"Medium\",\"Low\",\"High\",\"High\",\"High\",\"Medium\",\"Low\",\"Medium\",\"Medium\",\"High\",\"Medium\",\"High\",\"Medium\",\"High\",\"Low\",\"High\",\"High\",\"Low\",\"Medium\",\"Medium\",\"High\",\"High\",\"High\",\"Medium\",\"High\",\"High\",\"High\",\"High\",\"Medium\",\"High\",\"High\",\"Medium\",\"Low\",\"High\",\"Low\",\"High\",\"Medium\",\"Medium\",\"Medium\",\"High\",\"Medium\",\"High\",\"Medium\",\"Medium\",\"Medium\",\"Medium\",\"Medium\",\"High\",\"Medium\",\"Low\",\"Medium\",\"Medium\",\"High\",\"Medium\",\"Medium\",\"Medium\",\"Medium\",\"Medium\",\"High\",\"Low\",\"Medium\",\"High\",\"Medium\",\"Medium\",\"Medium\",\"Medium\",\"Medium\",\"Medium\",\"High\",\"Low\",\"High\",\"High\",\"Medium\",\"Low\",\"Medium\",\"Medium\",\"High\",\"Medium\",\"Medium\",\"Low\",\"Medium\",\"Medium\",\"High\",\"High\",\"High\",\"Medium\",\"Medium\",\"Medium\",\"Medium\",\"Medium\",\"Medium\",\"High\",\"High\",\"Medium\",\"Low\",\"Low\",\"High\",\"High\",\"High\",\"Medium\",\"Medium\",\"Medium\",\"Low\",\"Medium\",\"High\",\"High\",\"Medium\",\"Medium\",\"Medium\",\"Medium\",\"Low\",\"Medium\",\"Medium\",\"Medium\",\"Medium\",\"Medium\",\"Medium\",\"High\",\"Low\",\"High\",\"Medium\",\"Low\",\"Low\",\"Medium\",\"Low\",\"Medium\",\"Medium\",\"High\",\"Medium\",\"Medium\",\"Medium\",\"High\",\"High\",\"Medium\",\"Medium\",\"Medium\",\"Low\",\"Medium\",\"High\",\"Medium\",\"Medium\",\"Medium\",\"Medium\",\"Medium\",\"Medium\",\"Medium\",\"Medium\",\"Medium\",\"High\",\"High\",\"Medium\",\"High\",\"Medium\",\"Medium\",\"Medium\",\"Medium\",\"High\",\"Medium\",\"Medium\",\"Medium\",\"High\",\"Medium\",\"Medium\",\"Low\",\"High\",\"Low\",\"Low\",\"High\",\"High\",\"Medium\",\"Medium\",\"Medium\",\"Medium\",\"High\",\"Medium\",\"Medium\",\"Low\",\"Medium\",\"Medium\",\"High\",\"Low\",\"High\",\"Medium\",\"High\",\"High\",\"High\",\"Low\",\"Medium\",\"High\",\"High\",\"Medium\",\"High\",\"Medium\",\"Medium\",\"High\",\"Medium\",\"Medium\",\"Medium\",\"High\",\"Medium\",\"High\",\"Medium\",\"High\",\"Medium\",\"Medium\",\"Medium\",\"High\",\"Medium\",\"High\",\"Medium\",\"Medium\",\"High\",\"Medium\",\"Medium\",\"High\",\"Medium\",\"Medium\",\"Medium\",\"Medium\",\"Medium\",\"High\",\"High\",\"Low\",\"High\",\"Medium\",\"High\",\"Medium\",\"High\",\"High\",\"Medium\",\"Medium\",\"Medium\",\"Low\",\"High\",\"High\",\"Low\",\"Medium\",\"Medium\",\"Medium\",\"High\",\"High\",\"Medium\",\"High\",\"Medium\",\"Medium\",\"Medium\",\"Medium\",\"Medium\",\"Medium\",\"High\",\"Medium\",\"High\",\"Medium\",\"High\",\"High\",\"Medium\",\"Medium\",\"Medium\",\"Medium\",\"High\",\"Medium\",\"Low\",\"Low\",\"Medium\",\"Medium\",\"Medium\",\"High\",\"Medium\",\"High\",\"High\",\"High\",\"Medium\",\"High\",\"Low\",\"Medium\",\"Medium\",\"Low\",\"Medium\",\"Medium\",\"High\",\"Medium\",\"Medium\",\"Medium\",\"High\",\"Medium\",\"High\",\"Medium\",\"Medium\",\"Medium\",\"Low\",\"Low\",\"Medium\",\"Medium\",\"High\",\"High\",\"Medium\",\"Low\",\"Medium\",\"Low\",\"Medium\",\"Medium\",\"Medium\",\"Medium\",\"Medium\",\"Medium\",\"Medium\",\"Medium\",\"Medium\",\"High\",\"Medium\",\"Medium\",\"Medium\",\"Medium\",\"High\",\"High\",\"Medium\",\"Medium\",\"High\",\"Medium\",\"Medium\",\"High\",\"High\",\"Medium\",\"Low\",\"High\",\"Medium\",\"Medium\",\"Medium\",\"Low\",\"High\",\"High\",\"Medium\",\"Medium\",\"Low\",\"High\",\"High\",\"High\",\"High\",\"Medium\",\"High\",\"High\",\"Medium\",\"Medium\",\"High\",\"Medium\",\"High\",\"High\",\"Medium\",\"Medium\",\"High\",\"High\",\"Medium\",\"Medium\",\"Low\",\"High\",\"Medium\",\"Low\",\"Medium\",\"High\",\"Medium\",\"Medium\",\"Medium\",\"Medium\",\"High\",\"Medium\",\"Medium\",\"High\",\"Medium\",\"High\",\"High\",\"Medium\",\"Medium\",\"Medium\",\"High\",\"Low\",\"Medium\",\"Medium\",\"Medium\",\"Medium\",\"High\",\"High\",\"Medium\",\"Medium\",\"Low\",\"High\",\"Low\",\"Medium\",\"Medium\",\"High\",\"High\",\"Low\",\"Medium\",\"High\",\"Medium\",\"High\",\"Low\",\"Medium\",\"High\",\"Medium\",\"Medium\",\"Medium\",\"Low\",\"Low\",\"Medium\",\"High\",\"Low\",\"High\",\"High\",\"Low\",\"High\",\"High\",\"Medium\",\"High\",\"Medium\",\"Medium\",\"Medium\",\"Medium\",\"Low\",\"Low\",\"Medium\",\"Medium\",\"Medium\",\"Low\",\"Low\",\"Medium\",\"Medium\",\"High\",\"Medium\",\"Medium\",\"Medium\",\"High\",\"Medium\",\"Medium\",\"High\",\"Medium\",\"Medium\",\"High\",\"Medium\",\"High\",\"Medium\",\"Low\",\"Medium\",\"Low\",\"Low\",\"Medium\",\"High\",\"Medium\",\"Medium\",\"Medium\",\"Medium\",\"Low\",\"High\",\"Low\",\"Medium\",\"High\",\"Medium\",\"Medium\",\"Low\",\"Medium\",\"Medium\",\"Medium\",\"Low\",\"High\",\"Medium\",\"Medium\",\"Medium\",\"High\",\"High\",\"High\",\"High\",\"High\",\"Medium\",\"Medium\",\"Medium\",\"Medium\",\"High\",\"High\",\"Medium\",\"Medium\",\"Medium\",\"Medium\",\"High\",\"High\",\"Medium\",\"High\",\"Medium\",\"Medium\",\"High\",\"Low\",\"High\",\"Medium\",\"Medium\",\"Medium\",\"High\",\"Medium\",\"Medium\",\"Medium\",\"High\",\"Medium\",\"High\",\"Medium\",\"High\",\"Low\",\"High\",\"Medium\",\"Medium\",\"Medium\",\"Medium\",\"Medium\",\"Low\",\"Low\",\"Low\",\"High\",\"Medium\",\"High\",\"Medium\",\"Medium\",\"Medium\",\"Low\",\"High\",\"Medium\",\"High\",\"Medium\",\"Medium\",\"Medium\",\"High\",\"Medium\",\"Medium\",\"Low\",\"High\",\"High\",\"Medium\",\"High\",\"High\",\"High\",\"Medium\",\"Medium\",\"Low\",\"Medium\",\"Medium\",\"High\",\"High\",\"High\",\"Medium\",\"High\",\"Low\",\"Medium\",\"Medium\",\"Medium\",\"Low\",\"Medium\",\"Medium\",\"Medium\",\"High\",\"Medium\",\"Low\",\"High\",\"Medium\",\"Low\",\"Medium\",\"Medium\",\"High\",\"Medium\",\"Low\",\"Medium\",\"Medium\",\"High\",\"Low\",\"High\",\"Medium\",\"Medium\",\"High\",\"Low\",\"Medium\",\"High\",\"High\",\"Medium\",\"Low\",\"Medium\",\"Low\",\"Medium\",\"Medium\",\"Medium\",\"High\",\"Low\",\"Low\",\"High\",\"Medium\",\"Low\",\"Low\",\"Medium\",\"Medium\",\"Medium\",\"Medium\",\"Medium\",\"High\",\"Medium\",\"Medium\",\"Medium\",\"Medium\",\"High\",\"Medium\",\"Medium\",\"Medium\",\"Medium\",\"Medium\",\"Medium\",\"Medium\",\"High\",\"High\",\"Medium\",\"Medium\",\"Medium\",\"High\",\"High\",\"Low\",\"High\",\"Low\",\"Medium\",\"Medium\",\"Medium\",\"Low\",\"Low\",\"Medium\",\"Medium\",\"High\",\"Medium\",\"Medium\",\"Low\",\"High\",\"Medium\",\"Medium\",\"Medium\",\"Medium\",\"Low\",\"Medium\",\"High\",\"Low\",\"Low\",\"Medium\",\"Low\",\"Medium\",\"High\",\"High\",\"Medium\",\"Medium\",\"Medium\",\"Low\",\"Medium\",\"Medium\",\"Medium\",\"Medium\",\"Medium\",\"Low\",\"Medium\",\"Low\",\"Medium\",\"Medium\",\"High\",\"Medium\",\"Medium\",\"Low\",\"Medium\",\"Medium\",\"High\",\"Medium\",\"Low\",\"Medium\",\"Medium\",\"Low\",\"Medium\",\"Medium\",\"High\",\"Medium\",\"High\",\"High\",\"High\",\"Low\",\"Low\",\"Medium\",\"Medium\",\"Medium\",\"Medium\",\"High\",\"High\",\"Low\",\"High\",\"High\",\"Medium\",\"Medium\",\"Medium\",\"Medium\",\"Medium\",\"High\",\"High\",\"High\",\"High\",\"Medium\",\"High\",\"Medium\",\"High\",\"Medium\",\"Medium\",\"Medium\",\"Medium\",\"Medium\",\"High\",\"High\",\"High\",\"Medium\",\"Medium\",\"Medium\",\"Medium\",\"Medium\",\"Low\",\"Medium\",\"Medium\",\"Medium\",\"Medium\",\"Low\",\"Medium\",\"Medium\",\"Low\",\"High\",\"High\",\"High\",\"Low\",\"High\",\"Medium\",\"Low\",\"Medium\",\"High\",\"Medium\",\"Low\",\"High\",\"Medium\",\"Medium\",\"Medium\",\"Medium\",\"High\",\"High\",\"Medium\",\"Medium\",\"Medium\",\"High\",\"Medium\",\"High\",\"Medium\",\"Medium\",\"Medium\",\"High\",\"High\",\"High\",\"Medium\",\"Medium\",\"Low\",\"High\",\"High\",\"Low\",\"Medium\",\"High\",\"Medium\",\"Medium\",\"Medium\",\"Medium\",\"Medium\",\"High\",\"High\",\"High\",\"Medium\",\"High\",\"Medium\",\"Medium\",\"Low\",\"Low\",\"Medium\",\"Medium\",\"Medium\",\"High\",\"Medium\",\"High\",\"Medium\",\"Low\",\"High\",\"Medium\",\"High\",\"High\",\"High\",\"Medium\",\"Low\",\"Medium\",\"High\",\"Medium\",\"Medium\",\"Low\",\"Low\",\"Medium\",\"High\",\"Medium\",\"Medium\",\"High\",\"Medium\",\"Medium\",\"High\",\"Medium\",\"High\",\"Low\",\"Medium\",\"High\",\"Medium\",\"Medium\",\"Medium\",\"Low\",\"Medium\",\"Low\",\"High\",\"Medium\",\"Medium\",\"Medium\",\"Low\",\"Medium\",\"Medium\",\"High\",\"Medium\",\"High\",\"Medium\",\"Medium\",\"Medium\",\"High\",\"High\",\"Medium\",\"High\",\"Medium\",\"Low\",\"Medium\",\"Medium\",\"High\",\"High\",\"Low\",\"High\",\"Low\",\"Medium\",\"High\",\"High\",\"Medium\",\"Low\",\"Medium\",\"High\",\"Low\",\"High\",\"Medium\",\"Medium\",\"High\",\"Medium\",\"High\",\"Low\",\"High\",\"Medium\",\"Medium\",\"Medium\",\"Medium\",\"Medium\",\"Medium\",\"Medium\",\"Medium\",\"Medium\",\"High\",\"Medium\",\"High\",\"Medium\",\"Medium\",\"Medium\",\"Medium\",\"Medium\",\"Medium\",\"High\",\"Low\",\"Medium\",\"Medium\",\"Low\",\"Medium\",\"Medium\",\"High\",\"Medium\",\"Medium\",\"High\",\"Medium\",\"High\",\"Low\",\"High\",\"Medium\",\"Low\",\"Medium\",\"Medium\",\"Medium\",\"Medium\",\"Medium\",\"Medium\",\"Low\",\"Medium\",\"High\",\"Medium\",\"Medium\",\"High\",\"Medium\",\"High\",\"Medium\",\"Medium\",\"Medium\",\"High\",\"Medium\",\"High\",\"Medium\",\"Medium\",\"High\",\"High\",\"Medium\",\"Medium\",\"High\",\"Medium\",\"Medium\",\"Medium\",\"Medium\",\"Medium\",\"Medium\",\"Medium\",\"Medium\",\"Medium\",\"Medium\",\"Low\",\"Low\",\"High\",\"High\",\"Medium\",\"High\",\"High\",\"Medium\",\"Low\",\"High\",\"High\",\"Medium\",\"Medium\",\"Medium\",\"Medium\",\"Medium\",\"Medium\",\"Medium\",\"High\",\"High\",\"Medium\",\"Medium\",\"Medium\",\"Medium\",\"Medium\",\"Medium\",\"High\",\"High\",\"High\",\"Medium\",\"Medium\",\"High\",\"Medium\",\"Medium\",\"Medium\",\"High\",\"High\",\"Low\",\"High\",\"Medium\",\"High\",\"Medium\",\"Medium\",\"High\",\"Medium\",\"Medium\",\"Medium\",\"Medium\",\"High\",\"Medium\",\"High\",\"Low\",\"Medium\",\"Medium\",\"Medium\",\"Medium\",\"Low\",\"High\",\"Medium\",\"Medium\",\"High\",\"Medium\",\"Medium\",\"Medium\",\"High\",\"High\",\"High\",\"Medium\",\"Medium\",\"High\",\"High\",\"Medium\",\"Medium\",\"Medium\",\"High\",\"Medium\",\"Medium\",\"High\",\"High\",\"Medium\",\"Low\",\"Medium\",\"Medium\",\"Medium\",\"Low\",\"Medium\",\"High\",\"Medium\",\"Medium\",\"Medium\",\"Low\",\"High\",\"Medium\",\"High\",\"Medium\",\"High\",\"High\",\"Medium\",\"High\",\"Low\",\"Medium\",\"Medium\",\"High\",\"High\",\"Medium\",\"Medium\",\"Medium\",\"High\",\"Medium\",\"High\",\"Medium\",\"High\",\"High\",\"Medium\",\"Medium\",\"Medium\",\"Medium\",\"Medium\",\"Medium\",\"High\",\"Low\",\"High\",\"Medium\",\"Medium\",\"High\",\"Medium\",\"Medium\",\"High\",\"Medium\",\"High\",\"Medium\",\"Low\",\"Low\",\"Medium\",\"High\",\"Medium\",\"Medium\",\"High\",\"High\",\"High\",\"High\",\"High\",\"Low\",\"Medium\",\"High\",\"Medium\",\"Low\",\"High\",\"Medium\",\"Medium\",\"Medium\",\"High\",\"High\",\"Medium\",\"Medium\",\"Medium\",\"High\",\"Medium\",\"Medium\",\"Medium\",\"Low\",\"High\",\"Medium\",\"Medium\",\"Medium\",\"High\",\"Medium\",\"High\",\"High\",\"Medium\",\"Medium\",\"Medium\",\"Low\",\"High\",\"Medium\",\"High\",\"Medium\",\"Medium\",\"Medium\",\"Medium\",\"Low\",\"Low\",\"Medium\",\"High\",\"Medium\",\"Medium\",\"Medium\",\"Low\",\"High\",\"Medium\",\"Low\",\"Low\",\"High\",\"Medium\",\"Low\",\"Medium\",\"High\",\"Medium\",\"Medium\",\"High\",\"Medium\",\"High\",\"High\",\"Medium\",\"Medium\",\"Medium\",\"High\",\"High\",\"High\",\"Medium\",\"High\",\"High\",\"Medium\",\"Medium\",\"Medium\",\"Low\",\"Medium\",\"Medium\",\"Medium\",\"Medium\",\"Low\",\"Medium\",\"Medium\",\"Medium\",\"Medium\",\"Medium\",\"Low\",\"Medium\",\"High\",\"High\",\"Low\",\"High\",\"High\",\"Low\",\"Low\",\"Low\",\"High\",\"Medium\",\"Medium\",\"Medium\",\"High\",\"Low\",\"High\",\"Low\",\"Medium\",\"High\",\"Medium\",\"Low\",\"Medium\",\"Medium\",\"High\",\"Medium\",\"Medium\",\"Medium\",\"High\",\"Medium\",\"Medium\",\"High\",\"Medium\",\"Medium\",\"High\",\"High\",\"Medium\",\"Medium\",\"High\",\"Low\",\"Medium\",\"Medium\",\"Medium\",\"Low\",\"Medium\",\"Low\",\"High\",\"Medium\",\"Medium\",\"Medium\",\"Medium\",\"Medium\",\"Medium\",\"Low\",\"High\",\"Low\",\"Medium\",\"Medium\",\"Medium\",\"High\",\"High\",\"Low\",\"Medium\",\"High\",\"Medium\",\"Low\",\"Low\",\"Medium\",\"Medium\",\"High\",\"High\",\"Medium\",\"Medium\",\"Medium\",\"High\",\"Medium\",\"Medium\",\"Medium\",\"Low\",\"Medium\",\"Low\",\"Medium\",\"Low\",\"High\",\"Medium\",\"High\",\"Medium\",\"Medium\",\"High\",\"Medium\",\"Medium\",\"High\",\"High\",\"Low\",\"Low\",\"High\",\"Medium\",\"Medium\",\"Low\",\"Medium\",\"Medium\",\"High\",\"High\",\"High\",\"Medium\",\"High\",\"Medium\",\"Low\",\"Medium\",\"Medium\",\"High\",\"Medium\",\"Low\",\"Medium\",\"Low\",\"Low\",\"High\",\"Medium\",\"Medium\",\"High\",\"Medium\",\"Low\",\"High\",\"Medium\",\"High\",\"High\",\"Medium\",\"Low\",\"Medium\",\"High\",\"High\",\"Medium\",\"Low\",\"Low\",\"Medium\",\"High\",\"Medium\",\"Medium\",\"Medium\",\"High\",\"Medium\",\"Low\",\"Medium\",\"Medium\",\"Low\",\"Medium\",\"Medium\",\"Medium\",\"Medium\",\"Medium\",\"Medium\",\"Medium\",\"Medium\",\"Medium\",\"Low\",\"Medium\",\"High\",\"Medium\",\"Medium\",\"Low\",\"High\",\"Medium\",\"High\",\"Medium\",\"Medium\",\"Low\",\"Low\",\"High\",\"High\",\"High\",\"Medium\",\"High\",\"Low\",\"Medium\",\"Medium\",\"Medium\",\"Low\",\"Medium\",\"Medium\",\"Medium\",\"High\",\"Medium\",\"Medium\",\"Low\",\"Medium\",\"Medium\",\"Low\",\"High\",\"Low\",\"Medium\",\"Medium\",\"Medium\",\"Medium\",\"High\",\"High\",\"Low\",\"Medium\",\"High\",\"High\",\"Medium\",\"Medium\",\"Medium\",\"High\",\"Medium\",\"Low\",\"Medium\",\"High\",\"High\",\"Medium\",\"Medium\",\"Medium\",\"High\",\"Medium\",\"Medium\",\"Medium\",\"Medium\",\"Medium\",\"Medium\",\"High\",\"High\",\"Medium\",\"Low\",\"Medium\",\"Medium\",\"Medium\",\"Medium\",\"Medium\",\"High\",\"Low\",\"Medium\",\"Medium\",\"Medium\",\"Medium\",\"Medium\",\"Medium\",\"High\",\"Medium\",\"Medium\",\"Medium\",\"Medium\",\"High\",\"Low\",\"Medium\",\"Medium\",\"Low\",\"High\",\"Medium\",\"Medium\",\"High\",\"Medium\",\"High\",\"High\",\"High\",\"Medium\",\"Medium\",\"Medium\",\"Medium\",\"Medium\",\"High\",\"Medium\",\"High\",\"Medium\",\"Medium\",\"Low\",\"Medium\",\"High\",\"Medium\",\"Medium\",\"Medium\",\"Medium\",\"Medium\",\"Low\",\"Medium\",\"Medium\",\"High\",\"High\",\"Low\",\"Medium\",\"Medium\",\"Medium\",\"Medium\",\"Medium\",\"Low\",\"High\",\"Low\",\"Low\",\"High\",\"Medium\",\"High\",\"Low\",\"High\",\"High\",\"Medium\",\"Low\",\"Low\",\"Low\",\"Medium\",\"Medium\",\"High\",\"Medium\",\"High\",\"Medium\",\"Medium\",\"Medium\",\"Medium\",\"High\",\"Medium\",\"Low\",\"Low\",\"Medium\",\"Medium\",\"High\",\"Medium\",\"Medium\",\"Medium\",\"High\",\"Medium\",\"Low\",\"High\",\"High\",\"High\",\"Medium\",\"High\",\"Low\",\"High\",\"High\",\"Medium\",\"Medium\",\"Medium\",\"High\",\"Medium\",\"Medium\",\"Medium\",\"Medium\",\"Low\",\"High\",\"Medium\",\"Medium\",\"Medium\",\"Medium\",\"Medium\",\"High\",\"Low\",\"High\",\"Medium\",\"Medium\",\"Medium\",\"High\",\"High\",\"Medium\",\"High\",\"Medium\",\"Medium\",\"High\",\"Medium\",\"Medium\",\"Low\",\"High\",\"High\",\"Medium\",\"Medium\",\"Medium\",\"High\",\"Medium\",\"Medium\",\"High\",\"Low\",\"Medium\",\"Medium\",\"High\",\"High\",\"Medium\",\"High\",\"Medium\",\"Medium\",\"Medium\",\"Medium\",\"Medium\",\"Low\",\"Medium\",\"High\",\"Medium\",\"Medium\",\"Low\",\"High\",\"High\",\"Medium\",\"Medium\",\"Low\",\"Medium\",\"Medium\",\"High\",\"Medium\",\"Medium\",\"High\",\"High\",\"Medium\",\"Medium\",\"Medium\",\"Medium\",\"Low\",\"Medium\",\"High\",\"High\",\"Low\",\"Medium\",\"High\",\"High\",\"Low\",\"Low\",\"High\",\"Medium\",\"High\",\"Medium\",\"High\",\"Medium\",\"High\",\"Medium\",\"Medium\",\"Medium\",\"Medium\",\"Medium\",\"Medium\",\"High\",\"High\",\"High\",\"Medium\",\"Low\",\"High\",\"Medium\",\"Medium\",\"Medium\",\"Medium\",\"Medium\",\"High\",\"Low\",\"High\",\"Medium\",\"Low\",\"High\",\"High\",\"High\",\"High\",\"Low\",\"High\",\"Medium\",\"High\",\"Medium\",\"Medium\",\"Medium\",\"Medium\",\"Low\",\"High\",\"Low\",\"Medium\",\"Medium\",\"High\",\"Medium\",\"Medium\",\"Medium\",\"Medium\",\"Medium\",\"High\",\"Medium\",\"High\",\"Medium\",\"Medium\",\"High\",\"Medium\",\"High\",\"Low\",\"Medium\",\"Medium\",\"Medium\",\"Low\",\"Low\",\"Medium\",\"Medium\",\"Low\",\"Medium\",\"Medium\",\"High\",\"High\",\"High\",\"High\",\"High\",\"High\",\"Medium\",\"High\",\"High\",\"High\",\"High\",\"Medium\",\"Low\",\"Medium\",\"Low\",\"Medium\",\"Medium\",\"Medium\",\"High\",\"Medium\",\"Medium\",\"Medium\",\"High\",\"Low\",\"Low\",\"Low\",\"Medium\",\"High\",\"Medium\",\"Medium\",\"Medium\",\"Low\",\"High\",\"Medium\",\"Medium\",\"High\",\"High\",\"Medium\",\"Medium\",\"High\",\"Low\",\"Medium\",\"Medium\",\"High\",\"Medium\",\"High\",\"Medium\",\"Low\",\"High\",\"Medium\",\"High\",\"Low\",\"Medium\",\"Low\",\"Medium\",\"High\",\"Low\",\"Medium\",\"High\",\"Medium\",\"High\",\"Medium\",\"High\",\"Low\",\"Medium\",\"High\",\"Medium\",\"Low\",\"Medium\",\"High\",\"Low\",\"Low\",\"Medium\",\"High\",\"High\",\"Medium\",\"High\",\"Medium\",\"High\",\"Medium\",\"Medium\",\"Low\",\"Medium\",\"Medium\",\"High\",\"Low\",\"High\",\"Medium\",\"Low\",\"Medium\",\"High\",\"Medium\",\"Medium\",\"Medium\",\"Medium\",\"Low\",\"High\",\"Medium\",\"Medium\",\"Medium\",\"Medium\",\"Medium\",\"High\",\"Low\",\"Medium\",\"High\",\"Medium\",\"Medium\",\"Low\",\"Medium\",\"Medium\",\"Medium\",\"High\",\"High\",\"Medium\",\"High\",\"High\",\"Medium\",\"Medium\",\"High\",\"High\",\"High\",\"High\",\"Medium\",\"Medium\",\"High\",\"Medium\",\"Low\",\"Medium\",\"High\",\"High\",\"Medium\",\"High\",\"Low\",\"Low\",\"Medium\",\"High\",\"High\",\"Medium\",\"High\",\"Medium\",\"Medium\",\"Medium\",\"High\",\"Medium\",\"High\",\"Medium\",\"Medium\",\"Medium\",\"Low\",\"High\",\"Low\",\"High\",\"High\",\"Medium\",\"High\",\"High\",\"High\",\"Medium\",\"Medium\",\"Medium\",\"High\",\"Medium\",\"High\",\"Medium\",\"High\",\"High\",\"Low\",\"High\",\"Low\",\"Medium\",\"Low\",\"High\",\"High\",\"High\",\"High\",\"High\",\"Medium\",\"Low\",\"Medium\",\"Low\",\"Medium\",\"High\",\"Medium\",\"Medium\",\"High\",\"Low\",\"High\",\"Medium\",\"High\",\"Medium\",\"High\",\"High\",\"Medium\",\"High\",\"Medium\",\"Medium\",\"High\",\"Medium\",\"Medium\",\"Medium\",\"Medium\",\"Low\",\"Low\",\"Medium\",\"Medium\",\"Low\",\"Medium\",\"High\",\"Medium\",\"Medium\",\"High\",\"Medium\",\"Low\",\"High\",\"High\",\"Medium\",\"High\",\"High\",\"High\",\"Medium\",\"High\",\"Medium\",\"Medium\",\"Medium\",\"Medium\",\"Low\",\"High\",\"High\",\"High\",\"Medium\",\"High\",\"Medium\",\"Medium\",\"Medium\",\"Medium\",\"High\",\"High\",\"Medium\",\"Medium\",\"High\",\"High\",\"Medium\",\"High\",\"High\",\"Low\",\"Medium\",\"High\",\"Medium\",\"Medium\",\"Medium\",\"Medium\",\"High\",\"Medium\",\"Medium\",\"Medium\",\"Medium\",\"High\",\"High\",\"High\",\"Low\",\"Medium\",\"Low\",\"Medium\",\"High\",\"Low\",\"Medium\",\"High\",\"Medium\",\"Medium\",\"High\",\"Medium\",\"High\",\"Medium\",\"High\",\"Medium\",\"Medium\",\"High\",\"High\",\"Low\",\"Low\",\"Medium\",\"Low\",\"High\",\"High\",\"Low\",\"Medium\",\"High\",\"Medium\",\"Medium\",\"Medium\",\"Low\",\"Low\",\"Medium\",\"High\",\"Medium\",\"High\",\"Medium\",\"Medium\",\"Medium\",\"Medium\",\"Medium\",\"Medium\",\"Low\",\"Medium\",\"Medium\",\"High\",\"High\",\"Medium\",\"Medium\",\"Medium\",\"Medium\",\"Medium\",\"Medium\",\"Medium\",\"High\",\"Medium\",\"Low\",\"Medium\",\"Medium\",\"High\",\"Low\",\"Medium\",\"Medium\",\"Medium\",\"Medium\",\"High\",\"High\",\"Low\",\"Low\",\"Low\",\"Medium\",\"Medium\",\"Medium\",\"Medium\",\"High\",\"Medium\",\"High\",\"Medium\",\"High\",\"Medium\",\"Medium\",\"Medium\",\"High\",\"Medium\",\"Medium\",\"Medium\",\"Medium\",\"Low\",\"High\",\"Medium\",\"High\",\"Medium\",\"Medium\",\"High\",\"Medium\",\"Low\",\"Low\",\"Medium\",\"Medium\",\"High\",\"Medium\",\"Low\",\"Medium\",\"High\",\"Medium\",\"Low\",\"Medium\",\"Medium\",\"Medium\",\"Medium\",\"Medium\",\"Medium\",\"Medium\",\"Medium\",\"Medium\",\"High\",\"High\",\"Medium\",\"Medium\",\"High\",\"Medium\",\"Medium\",\"High\",\"Low\",\"Medium\",\"Medium\",\"High\",\"Medium\",\"Medium\",\"Medium\",\"Medium\",\"High\",\"Low\",\"Medium\",\"Low\",\"High\",\"Medium\",\"Medium\",\"Medium\",\"Medium\",\"Medium\",\"Medium\",\"Medium\",\"Medium\",\"Medium\",\"Medium\",\"Medium\",\"High\",\"Medium\",\"High\",\"Medium\",\"High\",\"Medium\",\"Medium\",\"Low\",\"High\",\"High\",\"Medium\",\"High\",\"High\",\"Low\",\"Low\",\"High\",\"Medium\",\"Medium\",\"Low\",\"Medium\",\"Medium\",\"Medium\",\"High\",\"Medium\",\"Medium\",\"High\",\"Medium\",\"Medium\",\"Medium\",\"Medium\",\"Medium\",\"Medium\",\"Low\",\"Medium\",\"Medium\",\"High\",\"High\",\"Low\",\"Medium\",\"Medium\",\"Medium\",\"Medium\",\"Medium\",\"Medium\",\"Medium\",\"Medium\",\"Medium\",\"Medium\",\"Low\",\"Medium\",\"Medium\",\"Medium\",\"Low\",\"Medium\",\"Medium\",\"Medium\",\"High\",\"Medium\",\"Medium\",\"Low\",\"High\",\"High\",\"High\",\"High\",\"Low\",\"High\",\"Medium\",\"Medium\",\"High\",\"Medium\",\"High\",\"High\",\"Medium\",\"Low\",\"Medium\",\"Medium\",\"Medium\",\"Low\",\"Medium\",\"Low\",\"Medium\",\"High\",\"High\",\"Medium\",\"High\",\"Low\",\"High\",\"High\",\"Medium\",\"Medium\",\"High\",\"Low\",\"High\",\"High\",\"Medium\",\"Medium\",\"Medium\",\"High\",\"Medium\",\"High\",\"High\",\"Medium\",\"Medium\",\"High\",\"Medium\",\"Medium\",\"High\",\"Medium\",\"High\",\"Medium\",\"Medium\",\"Medium\",\"Medium\",\"Medium\",\"Medium\",\"Medium\",\"High\",\"Medium\",\"Medium\",\"Medium\",\"High\",\"Low\",\"Medium\",\"High\",\"Medium\",\"High\",\"High\",\"Medium\",\"Medium\",\"High\",\"Medium\",\"Medium\",\"Medium\",\"Medium\",\"Medium\",\"Medium\",\"High\",\"Low\",\"Medium\",\"High\",\"Medium\",\"Medium\",\"High\",\"Low\",\"Medium\",\"Medium\",\"Low\",\"High\",\"Medium\",\"Low\",\"High\",\"Low\",\"High\",\"Medium\",\"Medium\",\"High\",\"Medium\",\"Low\",\"High\",\"Medium\",\"High\",\"Medium\",\"Medium\",\"Low\",\"Medium\",\"Medium\",\"Medium\",\"High\",\"Medium\",\"High\",\"Medium\",\"Medium\",\"Low\",\"Medium\",\"Low\",\"High\",\"Medium\",\"High\",\"High\",\"Low\",\"Medium\",\"Medium\",\"Medium\",\"High\",\"Medium\",\"Medium\",\"Low\",\"Medium\",\"Medium\",\"Medium\",\"High\",\"Medium\",\"Medium\",\"High\",\"Low\",\"High\",\"Medium\",\"High\",\"Medium\",\"Medium\",\"Medium\",\"Medium\",\"High\",\"High\",\"Medium\",\"High\",\"High\",\"High\",\"Medium\",\"High\",\"Medium\",\"Medium\",\"Medium\",\"Medium\",\"Medium\",\"High\",\"Medium\",\"High\",\"High\",\"Medium\",\"High\",\"Medium\",\"High\",\"Medium\",\"Low\",\"Medium\",\"Medium\",\"Medium\",\"Medium\",\"Medium\",\"High\",\"Medium\",\"Medium\",\"Medium\",\"High\",\"High\",\"High\",\"Medium\",\"Low\",\"Medium\",\"Medium\",\"Medium\",\"Medium\",\"High\",\"Low\",\"Low\",\"High\",\"Medium\",\"Medium\",\"Medium\",\"Medium\",\"High\",\"Medium\",\"Medium\",\"Medium\",\"Medium\",\"Medium\",\"Medium\",\"Low\",\"High\",\"Low\",\"Medium\",\"Medium\",\"Medium\",\"Medium\",\"High\",\"Medium\",\"Low\",\"Medium\",\"Medium\",\"Low\",\"High\",\"Medium\",\"Medium\",\"High\",\"Medium\",\"Medium\",\"High\",\"High\",\"Medium\",\"High\",\"High\",\"Low\",\"Medium\",\"High\",\"High\",\"High\",\"Low\",\"High\",\"Medium\",\"High\",\"Medium\",\"Low\",\"High\",\"Medium\",\"Medium\",\"Medium\",\"Medium\",\"Medium\",\"Medium\",\"Medium\",\"High\",\"Medium\",\"High\",\"High\",\"Low\",\"Medium\",\"Medium\",\"Medium\",\"High\",\"High\",\"High\",\"Medium\",\"Medium\",\"Low\",\"High\",\"Low\",\"High\",\"Medium\",\"Medium\",\"Medium\",\"Low\",\"Medium\",\"Medium\",\"Medium\",\"Medium\",\"High\",\"Medium\",\"Medium\",\"Medium\",\"High\",\"High\",\"Medium\",\"Medium\",\"Medium\",\"Low\",\"High\",\"High\",\"Medium\",\"Medium\",\"High\",\"Medium\",\"Medium\",\"Medium\",\"Medium\",\"Low\",\"High\",\"Medium\",\"Medium\",\"Low\",\"High\",\"Medium\",\"Medium\",\"Medium\",\"High\",\"Medium\",\"High\",\"Low\",\"Medium\",\"Low\",\"High\",\"Medium\",\"Medium\",\"Medium\",\"Low\",\"High\",\"High\",\"Medium\",\"High\",\"Medium\",\"High\",\"Medium\",\"Medium\",\"Medium\",\"Medium\",\"Medium\",\"Low\",\"High\",\"Medium\",\"Medium\",\"Medium\",\"Low\",\"High\",\"Medium\",\"High\",\"Medium\",\"Low\",\"High\",\"Low\",\"Low\",\"Medium\",\"Low\",\"Medium\",\"Medium\",\"Medium\",\"Medium\",\"High\",\"Low\",\"High\",\"Medium\",\"Medium\",\"Medium\",\"Medium\",\"Medium\",\"Medium\",\"Low\",\"Low\",\"High\",\"Medium\",\"Medium\",\"Medium\",\"Medium\",\"Medium\",\"Medium\",\"High\",\"High\",\"Medium\",\"Medium\",\"High\",\"Medium\",\"High\",\"Medium\",\"High\",\"Low\",\"Medium\",\"Medium\",\"High\",\"Medium\",\"High\",\"High\",\"Medium\",\"Medium\",\"Medium\",\"High\",\"Medium\",\"Medium\",\"Medium\",\"Medium\",\"Low\",\"Medium\",\"Medium\",\"Medium\",\"High\",\"Low\",\"Medium\",\"Medium\",\"Low\",\"Medium\",\"High\",\"Low\",\"Medium\",\"Medium\",\"Medium\",\"Medium\",\"High\",\"High\",\"Medium\",\"Medium\",\"High\",\"High\",\"High\",\"High\",\"Medium\",\"Medium\",\"Medium\",\"Medium\",\"Low\",\"High\",\"High\",\"Medium\",\"Low\",\"High\",\"High\",\"Medium\",\"Medium\",\"High\",\"Medium\",\"Medium\",\"Medium\",\"Medium\",\"Medium\",\"Medium\",\"Medium\",\"High\",\"Medium\",\"Low\",\"Medium\",\"Medium\",\"Low\",\"Medium\",\"High\",\"High\",\"Medium\",\"Medium\",\"High\",\"Low\",\"Medium\",\"Medium\",\"Medium\",\"Medium\",\"High\",\"Medium\",\"Medium\",\"High\",\"Medium\",\"Medium\",\"High\",\"Medium\",\"High\",\"High\",\"Low\",\"High\",\"Low\",\"Medium\",\"High\",\"High\",\"Medium\",\"Medium\",\"Medium\",\"High\",\"Medium\",\"High\",\"High\",\"High\",\"High\",\"Medium\",\"Medium\",\"High\",\"Medium\",\"Medium\",\"Medium\",\"Medium\",\"Medium\",\"Medium\",\"High\",\"High\",\"Medium\",\"High\",\"High\",\"High\",\"Medium\",\"Low\",\"Medium\",\"Medium\",\"Medium\",\"Low\",\"High\",\"High\",\"Medium\",\"High\",\"High\",\"Medium\",\"Medium\",\"High\",\"Medium\",\"High\",\"Low\",\"Low\",\"Medium\",\"Medium\",\"Medium\",\"Low\",\"High\",\"Medium\",\"Low\",\"Medium\",\"Medium\",\"High\",\"High\",\"Low\",\"High\",\"Medium\",\"High\",\"Medium\",\"Medium\",\"Low\",\"High\",\"Low\",\"Medium\",\"High\",\"Medium\",\"Medium\",\"Low\",\"Medium\",\"Low\",\"High\",\"High\",\"Low\",\"High\",\"Medium\",\"Medium\",\"Medium\",\"Medium\",\"Low\",\"Medium\",\"Low\",\"Medium\",\"Medium\",\"Medium\",\"Medium\",\"Low\",\"Medium\",\"High\",\"High\",\"High\",\"Medium\",\"Medium\",\"Medium\",\"Medium\",\"High\",\"Low\",\"Medium\",\"High\",\"Medium\",\"Low\",\"Low\",\"Medium\",\"Medium\",\"Medium\",\"Medium\",\"Low\",\"Medium\",\"Medium\",\"Medium\",\"Low\",\"Medium\",\"Low\",\"Medium\",\"High\",\"Medium\",\"Medium\",\"High\",\"High\",\"Medium\",\"Low\",\"High\",\"Medium\",\"High\",\"Medium\",\"Low\",\"Medium\",\"Low\",\"Low\",\"Medium\",\"Medium\",\"Medium\",\"High\",\"Medium\",\"Medium\",\"Medium\",\"High\",\"Medium\",\"Low\",\"Medium\",\"Medium\",\"Medium\",\"Medium\",\"Medium\",\"Medium\",\"Medium\",\"Medium\",\"Medium\",\"Medium\",\"High\",\"Low\",\"Medium\",\"Medium\",\"Medium\",\"Medium\",\"High\",\"Low\",\"High\",\"Low\",\"High\",\"Medium\",\"Medium\",\"High\",\"High\",\"High\",\"High\",\"Medium\",\"High\",\"High\",\"Medium\",\"Medium\",\"Medium\",\"High\",\"High\",\"High\",\"High\",\"Medium\",\"High\",\"High\",\"Low\",\"Low\",\"Low\",\"High\",\"High\",\"Medium\",\"Low\",\"Medium\",\"High\",\"Medium\",\"Medium\",\"Medium\",\"High\",\"Low\",\"Medium\",\"Medium\",\"High\",\"High\",\"High\",\"High\",\"Medium\",\"High\",\"Low\",\"Low\",\"High\",\"Medium\",\"Medium\",\"Medium\",\"Medium\",\"Medium\",\"High\",\"High\",\"Medium\",\"High\",\"High\",\"High\",\"High\",\"High\",\"High\",\"Medium\",\"Medium\",\"Medium\",\"Medium\",\"Low\",\"Medium\",\"Medium\",\"Low\",\"Low\",\"Low\",\"High\",\"Low\",\"High\",\"High\",\"Medium\",\"High\",\"Medium\",\"Medium\",\"High\",\"Medium\",\"High\",\"Medium\",\"High\",\"Low\",\"High\",\"Medium\",\"High\",\"Low\",\"Medium\",\"Low\",\"Medium\",\"Medium\",\"Medium\",\"High\",\"High\",\"High\",\"High\",\"High\",\"Medium\",\"High\",\"Low\",\"Medium\",\"High\",\"Medium\",\"Medium\",\"Medium\",\"Low\",\"Medium\",\"High\",\"Low\",\"Medium\",\"High\",\"Medium\",\"Medium\",\"Medium\",\"Medium\",\"Medium\",\"Medium\",\"Medium\",\"High\",\"Medium\",\"High\",\"Medium\",\"Medium\",\"High\",\"High\",\"High\",\"Low\",\"Medium\",\"Low\",\"High\",\"Medium\",\"Medium\",\"Medium\",\"Medium\",\"Low\",\"Medium\",\"Medium\",\"Medium\",\"Medium\",\"Medium\",\"High\",\"High\",\"High\",\"Medium\",\"High\",\"Medium\",\"Medium\",\"High\",\"High\",\"Low\",\"Medium\",\"Medium\",\"High\",\"Low\",\"Low\",\"Medium\",\"Medium\",\"High\",\"Low\",\"Low\",\"Medium\",\"Medium\",\"Medium\",\"Medium\",\"Medium\",\"Medium\",\"Medium\",\"Low\",\"Medium\",\"High\",\"High\",\"Medium\",\"High\",\"Medium\",\"Low\",\"Low\",\"Medium\",\"High\",\"Medium\",\"Medium\",\"High\",\"High\",\"High\",\"High\",\"Low\",\"Medium\",\"Medium\",\"Medium\",\"Medium\",\"Medium\",\"High\",\"High\",\"High\",\"High\",\"Low\",\"High\",\"High\",\"Medium\",\"Medium\",\"Medium\",\"High\",\"Medium\",\"Medium\",\"Medium\",\"Medium\",\"Medium\",\"Medium\",\"Medium\",\"High\",\"Medium\",\"Medium\",\"Medium\",\"Medium\",\"Low\",\"High\",\"High\",\"High\",\"High\",\"High\",\"High\",\"Medium\",\"High\",\"Medium\",\"Medium\",\"Medium\",\"High\",\"Medium\",\"Medium\",\"Low\",\"Low\",\"Medium\",\"Medium\",\"Medium\",\"Medium\",\"Medium\",\"Medium\",\"High\",\"High\",\"Low\",\"High\",\"Medium\",\"Medium\",\"Medium\",\"Medium\",\"High\",\"Medium\",\"Medium\",\"Low\",\"Medium\",\"Medium\",\"High\",\"High\",\"Medium\",\"Medium\",\"Medium\",\"Medium\",\"High\",\"Medium\",\"Medium\",\"Low\",\"Medium\",\"Medium\",\"Low\",\"Medium\",\"Medium\",\"Medium\",\"Medium\",\"High\",\"High\",\"High\",\"Medium\",\"Medium\",\"Medium\",\"High\",\"Medium\",\"High\",\"Low\",\"High\",\"Medium\",\"Medium\",\"Medium\",\"High\",\"Medium\",\"Low\",\"Medium\",\"Medium\",\"Medium\",\"High\",\"Low\",\"Medium\",\"Medium\",\"High\",\"High\",\"High\",\"Low\",\"Medium\",\"Low\",\"Low\",\"Medium\",\"Medium\",\"Medium\",\"Medium\",\"High\",\"High\",\"High\",\"Medium\",\"Medium\",\"High\",\"High\",\"High\",\"High\",\"Medium\",\"High\",\"High\",\"Medium\",\"Medium\",\"Medium\",\"Medium\",\"High\",\"Low\",\"High\",\"Medium\",\"Low\",\"Medium\",\"Low\",\"Medium\",\"Medium\",\"Medium\",\"Medium\",\"Medium\",\"Low\",\"Medium\",\"Medium\",\"High\",\"Medium\",\"High\",\"Medium\",\"High\",\"Medium\",\"Low\",\"Medium\",\"Medium\",\"Medium\",\"Medium\",\"Medium\",\"High\",\"Medium\",\"Low\",\"High\",\"Medium\",\"High\",\"Low\",\"Medium\",\"Medium\",\"Medium\",\"Low\",\"High\",\"Medium\",\"High\",\"Low\",\"Low\",\"Medium\",\"High\",\"High\",\"Medium\",\"Medium\",\"High\",\"Medium\",\"High\",\"Low\",\"Medium\",\"High\",\"Low\",\"Medium\",\"Medium\",\"Low\",\"Medium\",\"High\",\"Low\",\"Medium\",\"High\",\"High\",\"Medium\",\"High\",\"Low\",\"Medium\",\"High\",\"Medium\",\"Medium\",\"Medium\",\"Medium\",\"Medium\",\"High\",\"High\",\"Medium\",\"High\",\"High\",\"Medium\",\"Medium\",\"Medium\",\"Low\",\"Medium\",\"Medium\",\"Medium\",\"Low\",\"Medium\",\"Low\",\"Medium\",\"Medium\",\"Medium\",\"Medium\",\"Medium\",\"Medium\",\"Medium\",\"Medium\",\"High\",\"Medium\",\"Medium\",\"Medium\",\"High\",\"High\",\"Medium\",\"High\",\"High\",\"Medium\",\"Low\",\"Low\",\"High\",\"Medium\",\"High\",\"High\",\"Medium\",\"High\",\"High\",\"Medium\",\"High\",\"Medium\",\"Medium\",\"Medium\",\"Medium\",\"Medium\",\"Medium\",\"Medium\",\"Medium\",\"High\",\"Medium\",\"High\",\"High\",\"Medium\",\"Medium\",\"Low\",\"Medium\",\"High\",\"Low\",\"High\",\"Medium\",\"Medium\",\"Medium\",\"High\",\"Medium\",\"Medium\",\"High\",\"High\",\"Medium\",\"Medium\",\"Medium\",\"Medium\",\"Medium\",\"Medium\",\"Medium\",\"Medium\",\"Medium\",\"Medium\",\"High\",\"Medium\",\"High\",\"Low\",\"Medium\",\"Medium\",\"Low\",\"Medium\",\"Medium\",\"Medium\",\"Medium\",\"Medium\",\"High\",\"Medium\",\"Medium\",\"High\",\"Medium\",\"High\",\"Low\",\"Low\",\"High\",\"Medium\",\"High\",\"Low\",\"Medium\",\"Medium\",\"Medium\",\"Low\",\"Low\",\"High\",\"High\",\"Medium\",\"High\",\"High\",\"Medium\",\"Medium\",\"High\",\"Low\",\"Medium\",\"High\",\"Medium\",\"Medium\",\"Medium\",\"High\",\"Low\",\"Medium\",\"Medium\",\"Medium\",\"High\",\"High\",\"Medium\",\"Low\",\"High\",\"High\",\"Medium\",\"Medium\",\"Low\",\"Medium\",\"Medium\",\"Medium\",\"Medium\",\"Medium\",\"Medium\",\"Medium\",\"Low\",\"Medium\",\"Medium\",\"Medium\",\"Medium\",\"Low\",\"Medium\",\"Medium\",\"High\",\"Medium\",\"Medium\",\"Medium\",\"Medium\",\"High\",\"Medium\",\"Low\",\"Medium\",\"Low\",\"Medium\",\"Medium\",\"Medium\",\"High\",\"High\",\"Medium\",\"Medium\",\"Medium\",\"Medium\",\"High\",\"High\",\"Low\",\"Medium\",\"Medium\",\"High\",\"Medium\",\"High\",\"Medium\",\"High\",\"High\",\"High\",\"High\",\"Low\",\"Medium\",\"Medium\",\"Medium\",\"High\",\"High\",\"Medium\",\"High\",\"Low\",\"High\",\"Medium\",\"High\",\"Low\",\"Medium\",\"Medium\",\"High\",\"Medium\",\"Medium\",\"Medium\",\"High\",\"Medium\",\"Low\",\"Medium\",\"Low\",\"Medium\",\"Medium\",\"High\",\"Medium\",\"Medium\",\"Medium\",\"High\",\"Medium\",\"Medium\",\"Medium\",\"Medium\",\"Low\",\"Medium\",\"High\",\"Medium\",\"Low\",\"Medium\",\"High\",\"High\",\"High\",\"Medium\",\"Medium\",\"Low\",\"Low\",\"High\",\"High\",\"Medium\",\"High\",\"High\",\"High\",\"Medium\",\"Medium\",\"High\",\"High\",\"Medium\",\"Low\",\"High\",\"Low\",\"High\",\"Medium\",\"Medium\",\"High\",\"High\",\"Medium\",\"High\",\"Medium\",\"High\",\"Medium\",\"High\",\"High\",\"Medium\",\"High\",\"Low\",\"Medium\",\"Medium\",\"Medium\",\"Low\",\"Low\",\"High\",\"High\",\"Medium\",\"Medium\",\"Medium\",\"High\",\"Medium\",\"High\",\"Medium\",\"Medium\",\"Medium\",\"Medium\",\"Medium\",\"Medium\",\"High\",\"Medium\",\"Low\",\"Medium\",\"High\",\"High\",\"Medium\",\"Medium\",\"High\",\"Low\",\"Medium\",\"Medium\",\"High\",\"Medium\",\"Medium\",\"Low\",\"High\",\"Medium\",\"Medium\",\"Medium\",\"High\",\"High\",\"Medium\",\"Medium\",\"High\",\"High\",\"Low\",\"Medium\",\"Medium\",\"Medium\",\"Medium\",\"Medium\",\"Medium\",\"Medium\",\"Medium\",\"Medium\",\"Medium\",\"Medium\",\"Low\",\"Medium\",\"Medium\",\"High\",\"Medium\",\"Medium\",\"High\",\"Medium\",\"Medium\",\"Medium\",\"Low\",\"High\",\"Medium\",\"Medium\",\"Medium\",\"Medium\",\"High\",\"High\",\"High\",\"High\",\"High\",\"Low\",\"Low\",\"Medium\",\"Medium\",\"High\",\"High\",\"Medium\",\"High\",\"Medium\",\"Medium\",\"Medium\",\"High\",\"Medium\",\"Medium\",\"High\",\"High\",\"Medium\",\"Medium\",\"Low\",\"High\",\"Medium\",\"Medium\",\"Medium\",\"Low\",\"Medium\",\"Medium\",\"Medium\",\"High\",\"Medium\",\"Medium\",\"High\",\"Medium\",\"Low\",\"Low\",\"Medium\",\"High\",\"Medium\",\"Low\",\"Medium\",\"Medium\",\"High\",\"Low\",\"Medium\",\"Medium\",\"Medium\",\"Medium\",\"Low\",\"High\",\"Medium\",\"High\",\"High\",\"High\",\"Medium\",\"High\",\"Low\",\"Medium\",\"High\",\"Low\",\"Medium\",\"Medium\",\"High\",\"High\",\"High\",\"High\",\"Low\",\"Medium\",\"Low\",\"Medium\",\"High\",\"High\",\"High\",\"Low\",\"Medium\",\"Medium\",\"High\",\"High\",\"Medium\",\"Medium\",\"Medium\",\"Medium\",\"Medium\",\"Medium\",\"Low\",\"Low\",\"High\",\"Medium\",\"Medium\",\"Low\",\"High\",\"Medium\",\"High\",\"Medium\",\"High\",\"Medium\",\"High\",\"Medium\",\"Medium\",\"Medium\",\"Medium\",\"High\",\"Medium\",\"Medium\",\"Low\",\"Low\",\"Medium\",\"Medium\",\"High\",\"Medium\",\"Medium\",\"Medium\",\"High\",\"Medium\",\"Low\",\"High\",\"Medium\",\"Medium\",\"Medium\",\"High\",\"Medium\",\"Medium\",\"Low\",\"Medium\",\"Low\",\"High\",\"High\",\"Medium\",\"Medium\",\"Medium\",\"High\",\"Medium\",\"Medium\",\"Medium\",\"Medium\",\"Medium\",\"Medium\",\"Medium\",\"High\",\"High\",\"Medium\",\"Medium\",\"Medium\",\"High\",\"Medium\",\"Medium\",\"Medium\",\"Medium\",\"Medium\",\"Low\",\"Medium\",\"Low\",\"Low\",\"Medium\",\"High\",\"High\",\"High\",\"Medium\",\"Low\",\"Medium\",\"Medium\",\"High\",\"Medium\",\"Medium\",\"Low\",\"Medium\",\"Medium\",\"Medium\",\"Medium\",\"Medium\",\"Low\",\"Low\",\"Low\",\"Medium\",\"Medium\",\"Medium\",\"Medium\",\"High\",\"Medium\",\"Medium\",\"Medium\",\"Medium\",\"Medium\",\"Low\",\"High\",\"Medium\",\"High\",\"Medium\",\"Medium\",\"Low\",\"Medium\",\"High\",\"Low\",\"Medium\",\"Medium\",\"Low\",\"High\",\"Low\",\"High\",\"Medium\",\"Medium\",\"Medium\",\"Medium\",\"Medium\",\"High\",\"High\",\"Medium\",\"Medium\",\"High\",\"Medium\",\"High\",\"Medium\",\"Low\",\"High\",\"Medium\",\"Medium\",\"Medium\",\"Medium\",\"High\",\"Medium\",\"Low\",\"Medium\",\"High\",\"Medium\",\"Low\",\"Medium\",\"High\",\"High\",\"Medium\",\"Medium\",\"Medium\",\"High\",\"Medium\",\"Low\",\"Low\",\"Medium\",\"High\",\"Medium\",\"Low\",\"Medium\",\"High\",\"High\",\"Medium\",\"High\",\"Medium\",\"High\",\"High\",\"Low\",\"Medium\",\"Medium\",\"Medium\",\"Medium\",\"High\",\"Medium\",\"High\",\"Medium\",\"Medium\",\"Medium\",\"Medium\",\"High\",\"Medium\",\"High\",\"Medium\",\"High\",\"High\",\"Low\",\"Medium\",\"Medium\",\"Low\",\"Medium\",\"High\",\"Medium\",\"High\",\"Medium\",\"High\",\"Medium\",\"High\",\"Low\",\"Medium\",\"Medium\",\"Medium\",\"Medium\",\"Medium\",\"Low\",\"High\",\"Medium\",\"Medium\",\"High\",\"Medium\",\"Medium\",\"Medium\",\"Medium\",\"Medium\",\"Low\",\"Medium\",\"Medium\",\"Medium\",\"Medium\",\"Low\",\"High\",\"Low\",\"High\",\"Low\",\"Medium\",\"High\",\"Medium\",\"Medium\",\"Low\",\"Medium\",\"Medium\",\"Low\",\"Medium\",\"Medium\",\"Medium\",\"High\",\"Low\",\"Low\",\"High\",\"High\",\"High\",\"Low\",\"High\",\"Low\",\"High\",\"Medium\",\"Medium\",\"Medium\",\"Medium\",\"High\",\"Medium\",\"Low\",\"Medium\",\"Medium\",\"Medium\",\"Low\",\"Medium\",\"Medium\",\"Medium\",\"High\",\"Low\",\"Medium\",\"Low\",\"High\",\"Medium\",\"Low\",\"Medium\",\"Low\",\"Medium\",\"Medium\",\"Low\",\"Medium\",\"Medium\",\"Low\",\"Low\",\"Medium\",\"High\",\"Medium\",\"Low\",\"Medium\",\"Medium\",\"Medium\",\"Medium\",\"Medium\",\"Low\",\"Low\",\"Medium\",\"Medium\",\"Medium\",\"Medium\",\"Medium\",\"Medium\",\"Medium\",\"High\",\"Low\",\"High\",\"Medium\",\"Low\",\"Medium\",\"Medium\",\"Medium\",\"Low\",\"High\",\"Medium\",\"Low\",\"Medium\",\"Medium\",\"Medium\",\"Medium\",\"High\",\"Medium\",\"Medium\",\"High\",\"High\",\"Medium\",\"Low\",\"Low\",\"Medium\",\"High\",\"Medium\",\"Medium\",\"Low\",\"Medium\",\"High\",\"High\",\"Medium\",\"Medium\",\"High\",\"High\",\"Low\",\"Medium\",\"High\",\"Medium\",\"High\",\"Medium\",\"High\",\"Medium\",\"High\",\"Medium\",\"Medium\",\"Medium\",\"Low\",\"High\",\"Medium\",\"High\",\"Low\",\"Medium\",\"Medium\",\"High\",\"Medium\",\"Low\",\"Medium\",\"Medium\",\"Medium\",\"Medium\",\"Medium\",\"Medium\",\"Medium\",\"High\",\"Medium\",\"Medium\",\"Medium\",\"High\",\"Medium\",\"Medium\",\"Medium\",\"Medium\",\"High\",\"Medium\",\"Medium\",\"Medium\",\"Medium\",\"Medium\",\"Medium\",\"Low\",\"Medium\",\"High\",\"Medium\",\"Medium\",\"Medium\",\"High\",\"Medium\",\"Low\",\"Medium\",\"High\",\"Medium\",\"High\",\"High\",\"Medium\",\"High\",\"Low\",\"Medium\",\"Medium\",\"Medium\",\"High\",\"Low\",\"Medium\",\"Low\",\"Medium\",\"Low\",\"Medium\",\"High\",\"Medium\",\"High\",\"Low\",\"Medium\",\"Medium\",\"Low\",\"Medium\",\"Medium\",\"Medium\",\"Low\",\"High\",\"Medium\",\"High\",\"Medium\",\"Low\",\"Medium\",\"Medium\",\"High\",\"High\",\"High\",\"Medium\",\"Medium\",\"Medium\",\"Medium\",\"High\",\"Low\",\"High\",\"High\",\"High\",\"Low\",\"Low\",\"Medium\",\"Medium\",\"Medium\",\"Medium\",\"High\",\"Medium\",\"Medium\",\"High\",\"Medium\",\"Medium\",\"High\",\"Medium\",\"High\",\"Medium\",\"Low\",\"Medium\",\"Medium\",\"Medium\",\"Low\",\"Low\",\"Medium\",\"Medium\",\"High\",\"Medium\",\"Medium\",\"High\",\"Medium\",\"High\",\"Medium\",\"Medium\",\"High\",\"Medium\",\"Medium\",\"Medium\",\"Low\",\"High\",\"High\",\"Medium\",\"Medium\",\"Medium\",\"Medium\",\"Low\",\"Medium\",\"High\",\"Low\",\"Medium\",\"Medium\",\"Medium\",\"High\",\"Medium\",\"High\",\"Medium\",\"High\",\"Medium\",\"Medium\",\"Low\",\"Low\",\"Low\",\"Medium\",\"Medium\",\"High\",\"Medium\",\"Medium\",\"High\",\"Medium\",\"Medium\",\"Medium\",\"Medium\",\"Medium\",\"Medium\",\"Low\",\"High\",\"Medium\",\"Medium\",\"High\",\"Medium\",\"Medium\",\"Medium\",\"Medium\",\"High\",\"Medium\",\"Medium\",\"High\",\"High\",\"Medium\",\"Medium\",\"High\",\"High\",\"Low\",\"Medium\",\"Medium\",\"Low\",\"High\",\"Medium\",\"Low\",\"Medium\",\"High\",\"Low\",\"Medium\",\"Medium\",\"Medium\",\"Medium\",\"Medium\",\"High\",\"Medium\",\"Medium\",\"Medium\",\"High\",\"Low\",\"Medium\",\"Low\",\"High\",\"High\",\"Medium\",\"Medium\",\"Medium\",\"Medium\",\"Medium\",\"High\",\"Low\",\"Medium\",\"Medium\",\"Medium\",\"Medium\",\"Medium\",\"High\",\"Medium\",\"Medium\",\"Medium\",\"High\",\"High\",\"Medium\",\"Medium\",\"Medium\",\"Medium\",\"Medium\",\"High\",\"Medium\",\"Low\",\"Medium\",\"Medium\",\"Low\",\"Medium\",\"Medium\",\"High\",\"Medium\",\"Low\",\"High\",\"Medium\",\"Low\",\"Low\",\"Medium\",\"High\",\"Low\",\"High\",\"Medium\",\"Medium\",\"High\",\"Medium\",\"Medium\",\"Medium\",\"Low\",\"High\",\"High\",\"Medium\",\"Medium\",\"Medium\",\"High\",\"Medium\",\"Medium\",\"High\",\"High\",\"Medium\",\"High\",\"Medium\",\"High\",\"High\",\"Low\",\"Low\",\"Medium\",\"Medium\",\"Medium\",\"Medium\",\"Medium\",\"Medium\",\"Medium\",\"Medium\",\"High\",\"High\",\"Medium\",\"High\",\"High\",\"High\",\"Medium\",\"Medium\",\"Medium\",\"Low\",\"Medium\",\"Medium\",\"High\",\"Medium\",\"High\",\"High\",\"Medium\",\"Medium\",\"Medium\",\"High\",\"High\",\"Medium\",\"Medium\",\"High\",\"Medium\",\"Medium\",\"Medium\",\"High\",\"High\",\"Medium\",\"Medium\",\"Medium\",\"Medium\",\"High\",\"Medium\",\"Low\",\"Medium\",\"High\",\"Low\",\"Low\",\"High\",\"Medium\",\"Medium\",\"Medium\",\"High\",\"Medium\",\"High\",\"Medium\",\"Medium\",\"High\",\"High\",\"High\",\"Medium\",\"Medium\",\"High\",\"Medium\",\"Medium\",\"High\",\"Medium\",\"Medium\",\"High\",\"High\",\"High\",\"Low\",\"Medium\",\"Low\",\"Medium\",\"Medium\",\"Medium\",\"Medium\",\"Medium\",\"Medium\",\"Low\",\"Medium\",\"Medium\",\"High\",\"Medium\",\"Low\",\"Medium\",\"High\",\"Medium\",\"Low\",\"High\",\"Medium\",\"High\",\"High\",\"Medium\",\"Medium\",\"Medium\",\"High\",\"Medium\",\"Medium\",\"High\",\"High\",\"High\",\"Medium\",\"Medium\",\"High\",\"High\",\"High\",\"Medium\",\"Medium\",\"Medium\",\"Medium\",\"High\",\"Low\",\"Medium\",\"Medium\",\"Medium\",\"Medium\",\"High\",\"High\",\"Medium\",\"Medium\",\"Medium\",\"High\",\"Medium\",\"Medium\",\"Low\",\"Medium\",\"High\",\"Medium\",\"Low\",\"Medium\",\"High\",\"Medium\",\"High\",\"Medium\",\"Medium\",\"Medium\",\"Medium\",\"Low\",\"High\",\"Medium\",\"Medium\",\"Medium\",\"High\",\"High\",\"Low\",\"Low\",\"Medium\",\"Medium\",\"Low\",\"Medium\",\"Medium\",\"Low\",\"Low\",\"Medium\",\"Low\",\"Medium\",\"Low\",\"High\",\"Medium\",\"High\",\"Medium\",\"Medium\",\"Medium\",\"High\",\"Medium\",\"High\",\"Medium\",\"Medium\",\"Medium\",\"High\",\"High\",\"High\",\"Medium\",\"Medium\",\"High\",\"Medium\",\"High\",\"High\",\"High\",\"Medium\",\"High\",\"Medium\",\"Medium\",\"Medium\",\"Medium\",\"Medium\",\"High\",\"Medium\",\"Medium\",\"Medium\",\"Medium\",\"Medium\",\"Medium\",\"Low\",\"Low\",\"Medium\",\"Medium\",\"Medium\",\"Medium\",\"High\",\"High\",\"Low\",\"Low\",\"Medium\",\"High\",\"Medium\",\"Medium\",\"Low\",\"Medium\",\"Low\",\"Medium\",\"High\",\"Medium\",\"Medium\",\"Medium\",\"Medium\",\"Medium\",\"Medium\",\"Medium\",\"Medium\",\"Medium\",\"Medium\",\"Low\",\"Medium\",\"High\",\"Medium\",\"Medium\",\"Low\",\"High\",\"High\",\"Medium\",\"Medium\",\"Medium\",\"Medium\",\"High\",\"Medium\",\"Medium\",\"Medium\",\"Medium\",\"Medium\",\"Medium\",\"Medium\",\"Medium\",\"Medium\",\"Medium\",\"Medium\",\"Medium\",\"High\",\"Medium\",\"Medium\",\"High\",\"High\",\"Medium\",\"Medium\",\"High\",\"Medium\",\"Medium\",\"Medium\",\"High\",\"Medium\",\"Medium\",\"Medium\",\"Medium\",\"Medium\",\"Medium\",\"Low\",\"Low\",\"Low\",\"Low\",\"Medium\",\"Medium\",\"Medium\",\"Medium\",\"Medium\",\"Medium\",\"Low\",\"High\",\"High\",\"High\",\"Medium\",\"High\",\"Medium\",\"High\",\"High\",\"High\",\"Medium\",\"Medium\",\"Medium\",\"High\",\"Medium\",\"Medium\",\"High\",\"Low\",\"Medium\",\"Medium\",\"Medium\",\"Medium\",\"High\",\"High\",\"Medium\",\"Medium\",\"High\",\"Medium\",\"Medium\",\"Medium\",\"High\",\"Medium\",\"Medium\",\"High\",\"High\",\"Medium\",\"High\",\"Medium\",\"Medium\",\"High\",\"Medium\",\"Medium\",\"High\",\"Medium\",\"Medium\",\"High\",\"Low\",\"Medium\",\"High\",\"Medium\",\"Medium\",\"High\",\"Medium\",\"Medium\",\"High\",\"Medium\",\"Medium\",\"High\",\"Low\",\"Medium\",\"Medium\",\"High\",\"High\",\"Medium\",\"Medium\",\"Medium\",\"Medium\",\"Medium\",\"Medium\",\"High\",\"High\",\"Medium\",\"Low\",\"Medium\",\"Medium\",\"Low\",\"High\",\"Medium\",\"High\",\"High\",\"High\",\"Medium\",\"Medium\",\"Medium\",\"Medium\",\"High\",\"Medium\",\"High\",\"Low\",\"Medium\",\"Medium\",\"Medium\",\"High\",\"Low\",\"High\",\"Medium\",\"High\",\"High\",\"High\",\"Medium\",\"Low\",\"Medium\",\"Medium\",\"Medium\",\"High\",\"Medium\",\"Medium\",\"Medium\",\"Medium\",\"High\",\"Medium\",\"High\",\"Medium\",\"Medium\",\"Medium\",\"Medium\",\"High\",\"Medium\",\"Low\",\"Low\",\"High\",\"Medium\",\"Medium\",\"High\",\"Medium\",\"Medium\",\"High\",\"Medium\",\"Low\",\"Medium\",\"Medium\",\"Medium\",\"Low\",\"Medium\",\"High\",\"Medium\",\"Low\",\"High\",\"Medium\",\"Medium\",\"High\",\"High\",\"High\",\"Medium\",\"High\",\"Medium\",\"Medium\",\"High\",\"Medium\",\"Low\",\"Medium\",\"High\",\"Medium\",\"High\",\"Medium\",\"Low\",\"Medium\",\"High\",\"Low\",\"High\",\"High\",\"Medium\",\"High\",\"Medium\",\"Medium\",\"High\",\"High\",\"Medium\",\"Medium\",\"High\",\"Medium\",\"Medium\",\"Medium\",\"High\",\"Medium\",\"Medium\",\"Medium\",\"Medium\",\"Medium\",\"High\",\"High\",\"Medium\",\"Medium\",\"High\",\"Medium\"],\"y0\":\" \",\"yaxis\":\"y\",\"type\":\"box\"},{\"hoverinfo\":\"text\",\"marker\":{\"color\":\"red\",\"opacity\":0.6,\"size\":7},\"mode\":\"markers\",\"name\":\"Laid-Off\",\"text\":[\"High\",\"Medium\",\"Medium\",\"Low\",\"High\",\"Medium\",\"Medium\",\"Medium\",\"Low\",\"Medium\",\"High\",\"High\",\"Medium\",\"Medium\",\"Medium\",\"Medium\",\"High\",\"Medium\",\"Medium\",\"Medium\",\"Medium\",\"High\",\"Medium\",\"High\",\"Medium\",\"Medium\",\"Medium\",\"Low\",\"Low\",\"Low\",\"Medium\",\"Low\",\"Medium\",\"Medium\",\"Medium\",\"High\",\"Medium\",\"High\",\"Medium\",\"Medium\",\"Medium\",\"High\",\"Low\",\"Medium\",\"Medium\",\"High\",\"Low\",\"Medium\",\"Medium\",\"Medium\",\"Low\",\"Low\",\"High\",\"Medium\",\"Low\",\"Medium\",\"Medium\",\"Medium\",\"Medium\",\"High\",\"Low\",\"High\",\"High\",\"High\",\"High\",\"Low\",\"Medium\",\"High\",\"Low\",\"Medium\",\"Medium\",\"Medium\",\"Medium\",\"Medium\",\"High\",\"Medium\",\"Medium\",\"Medium\",\"High\",\"Low\",\"High\",\"Medium\",\"Low\",\"Medium\",\"High\",\"Low\",\"Medium\",\"High\",\"Medium\",\"Medium\",\"High\",\"Low\",\"Medium\",\"High\",\"Medium\",\"Medium\",\"Medium\",\"High\",\"Medium\",\"High\",\"Medium\",\"High\",\"Medium\",\"Medium\",\"Medium\",\"Medium\",\"Low\",\"High\",\"Low\",\"High\",\"Medium\",\"High\",\"High\",\"Low\",\"Medium\",\"Medium\",\"Medium\",\"Medium\",\"High\",\"High\",\"High\",\"Medium\",\"Medium\",\"High\",\"Low\",\"Medium\",\"High\",\"Medium\",\"High\",\"High\",\"Low\",\"High\",\"Medium\",\"High\",\"Low\",\"Medium\",\"High\",\"High\",\"Medium\",\"Low\",\"Low\",\"Medium\",\"High\",\"Medium\",\"High\",\"Medium\",\"Low\",\"High\",\"Low\",\"Medium\",\"High\",\"Medium\",\"Medium\",\"Medium\",\"Medium\",\"Medium\",\"Medium\",\"Low\",\"High\",\"Medium\",\"Medium\",\"Medium\",\"Low\",\"Low\",\"High\",\"Medium\",\"Medium\",\"Medium\",\"Medium\",\"Medium\",\"Low\",\"Low\",\"Medium\",\"Medium\",\"Medium\",\"Medium\",\"Medium\",\"High\",\"Medium\",\"Medium\",\"Low\",\"Low\",\"Medium\",\"Low\",\"High\",\"High\",\"Low\",\"Low\",\"Medium\",\"Medium\",\"Low\",\"Medium\",\"Medium\",\"Medium\",\"High\",\"Low\",\"Medium\",\"High\",\"High\",\"Medium\",\"Medium\",\"Low\",\"Medium\",\"Medium\",\"High\",\"Low\",\"High\",\"Medium\",\"High\",\"Medium\",\"Medium\",\"High\",\"Low\",\"Medium\",\"Medium\",\"High\",\"Medium\",\"Medium\",\"High\",\"Medium\",\"Medium\",\"Medium\",\"Low\",\"Medium\",\"Medium\",\"Medium\",\"Medium\",\"Medium\",\"Medium\",\"Medium\",\"Low\",\"Medium\",\"Low\",\"Medium\",\"Low\",\"Medium\",\"Low\",\"Medium\",\"Medium\",\"Medium\",\"Medium\",\"Medium\",\"Medium\",\"High\",\"Medium\",\"High\",\"Low\",\"Medium\",\"High\"],\"x\":[\"Consulting\",\"Sales\",\"Legal\",\"IT\",\"IT\",\"Finance\",\"IT\",\"IT\",\"IT\",\"IT\",\"Consulting\",\"HR\",\"HR\",\"Finance\",\"Legal\",\"HR\",\"Sales\",\"IT\",\"Sales\",\"HR\",\"IT\",\"Finance\",\"IT\",\"Sales\",\"Finance\",\"Consulting\",\"IT\",\"Consulting\",\"Finance\",\"IT\",\"Legal\",\"Sales\",\"IT\",\"IT\",\"Legal\",\"Legal\",\"Consulting\",\"IT\",\"HR\",\"IT\",\"Consulting\",\"Sales\",\"IT\",\"Sales\",\"IT\",\"IT\",\"IT\",\"IT\",\"IT\",\"Sales\",\"IT\",\"IT\",\"IT\",\"Legal\",\"Finance\",\"HR\",\"IT\",\"Legal\",\"IT\",\"HR\",\"Consulting\",\"HR\",\"IT\",\"Sales\",\"IT\",\"Sales\",\"IT\",\"Sales\",\"IT\",\"IT\",\"Sales\",\"IT\",\"Sales\",\"IT\",\"Sales\",\"HR\",\"Consulting\",\"Finance\",\"IT\",\"IT\",\"Sales\",\"IT\",\"Consulting\",\"IT\",\"IT\",\"HR\",\"IT\",\"IT\",\"IT\",\"IT\",\"Sales\",\"HR\",\"IT\",\"Consulting\",\"Finance\",\"Finance\",\"Consulting\",\"Sales\",\"Sales\",\"IT\",\"IT\",\"Sales\",\"IT\",\"Consulting\",\"HR\",\"Legal\",\"IT\",\"Consulting\",\"IT\",\"Consulting\",\"Consulting\",\"IT\",\"Sales\",\"Consulting\",\"IT\",\"HR\",\"IT\",\"IT\",\"IT\",\"IT\",\"IT\",\"Finance\",\"Finance\",\"Sales\",\"Sales\",\"HR\",\"IT\",\"IT\",\"IT\",\"IT\",\"IT\",\"Sales\",\"IT\",\"Consulting\",\"IT\",\"IT\",\"Consulting\",\"Sales\",\"IT\",\"Sales\",\"Consulting\",\"IT\",\"Legal\",\"Finance\",\"HR\",\"IT\",\"HR\",\"Consulting\",\"IT\",\"Legal\",\"Sales\",\"IT\",\"IT\",\"Sales\",\"IT\",\"HR\",\"IT\",\"IT\",\"Sales\",\"IT\",\"Finance\",\"HR\",\"IT\",\"IT\",\"HR\",\"HR\",\"IT\",\"IT\",\"Consulting\",\"Consulting\",\"Consulting\",\"IT\",\"IT\",\"Finance\",\"Sales\",\"IT\",\"Consulting\",\"IT\",\"Consulting\",\"Sales\",\"IT\",\"Finance\",\"IT\",\"Sales\",\"Finance\",\"IT\",\"IT\",\"Finance\",\"IT\",\"IT\",\"IT\",\"IT\",\"Consulting\",\"Sales\",\"Sales\",\"IT\",\"IT\",\"IT\",\"Finance\",\"Finance\",\"Sales\",\"IT\",\"Finance\",\"Sales\",\"Consulting\",\"IT\",\"IT\",\"HR\",\"HR\",\"Sales\",\"IT\",\"Finance\",\"IT\",\"Consulting\",\"Sales\",\"IT\",\"Sales\",\"Sales\",\"Sales\",\"Sales\",\"Finance\",\"Sales\",\"Sales\",\"IT\",\"IT\",\"IT\",\"Sales\",\"IT\",\"Sales\",\"Consulting\",\"IT\",\"HR\",\"IT\",\"IT\",\"IT\",\"IT\",\"Consulting\",\"Legal\",\"Consulting\",\"Consulting\",\"IT\",\"Sales\",\"Sales\",\"IT\",\"Finance\",\"Finance\",\"Sales\",\"Consulting\",\"Consulting\"],\"y\":[\"High\",\"Medium\",\"Medium\",\"Low\",\"High\",\"Medium\",\"Medium\",\"Medium\",\"Low\",\"Medium\",\"High\",\"High\",\"Medium\",\"Medium\",\"Medium\",\"Medium\",\"High\",\"Medium\",\"Medium\",\"Medium\",\"Medium\",\"High\",\"Medium\",\"High\",\"Medium\",\"Medium\",\"Medium\",\"Low\",\"Low\",\"Low\",\"Medium\",\"Low\",\"Medium\",\"Medium\",\"Medium\",\"High\",\"Medium\",\"High\",\"Medium\",\"Medium\",\"Medium\",\"High\",\"Low\",\"Medium\",\"Medium\",\"High\",\"Low\",\"Medium\",\"Medium\",\"Medium\",\"Low\",\"Low\",\"High\",\"Medium\",\"Low\",\"Medium\",\"Medium\",\"Medium\",\"Medium\",\"High\",\"Low\",\"High\",\"High\",\"High\",\"High\",\"Low\",\"Medium\",\"High\",\"Low\",\"Medium\",\"Medium\",\"Medium\",\"Medium\",\"Medium\",\"High\",\"Medium\",\"Medium\",\"Medium\",\"High\",\"Low\",\"High\",\"Medium\",\"Low\",\"Medium\",\"High\",\"Low\",\"Medium\",\"High\",\"Medium\",\"Medium\",\"High\",\"Low\",\"Medium\",\"High\",\"Medium\",\"Medium\",\"Medium\",\"High\",\"Medium\",\"High\",\"Medium\",\"High\",\"Medium\",\"Medium\",\"Medium\",\"Medium\",\"Low\",\"High\",\"Low\",\"High\",\"Medium\",\"High\",\"High\",\"Low\",\"Medium\",\"Medium\",\"Medium\",\"Medium\",\"High\",\"High\",\"High\",\"Medium\",\"Medium\",\"High\",\"Low\",\"Medium\",\"High\",\"Medium\",\"High\",\"High\",\"Low\",\"High\",\"Medium\",\"High\",\"Low\",\"Medium\",\"High\",\"High\",\"Medium\",\"Low\",\"Low\",\"Medium\",\"High\",\"Medium\",\"High\",\"Medium\",\"Low\",\"High\",\"Low\",\"Medium\",\"High\",\"Medium\",\"Medium\",\"Medium\",\"Medium\",\"Medium\",\"Medium\",\"Low\",\"High\",\"Medium\",\"Medium\",\"Medium\",\"Low\",\"Low\",\"High\",\"Medium\",\"Medium\",\"Medium\",\"Medium\",\"Medium\",\"Low\",\"Low\",\"Medium\",\"Medium\",\"Medium\",\"Medium\",\"Medium\",\"High\",\"Medium\",\"Medium\",\"Low\",\"Low\",\"Medium\",\"Low\",\"High\",\"High\",\"Low\",\"Low\",\"Medium\",\"Medium\",\"Low\",\"Medium\",\"Medium\",\"Medium\",\"High\",\"Low\",\"Medium\",\"High\",\"High\",\"Medium\",\"Medium\",\"Low\",\"Medium\",\"Medium\",\"High\",\"Low\",\"High\",\"Medium\",\"High\",\"Medium\",\"Medium\",\"High\",\"Low\",\"Medium\",\"Medium\",\"High\",\"Medium\",\"Medium\",\"High\",\"Medium\",\"Medium\",\"Medium\",\"Low\",\"Medium\",\"Medium\",\"Medium\",\"Medium\",\"Medium\",\"Medium\",\"Medium\",\"Low\",\"Medium\",\"Low\",\"Medium\",\"Low\",\"Medium\",\"Low\",\"Medium\",\"Medium\",\"Medium\",\"Medium\",\"Medium\",\"Medium\",\"High\",\"Medium\",\"High\",\"Low\",\"Medium\",\"High\"],\"type\":\"scatter\"}],                        {\"template\":{\"data\":{\"histogram2dcontour\":[{\"type\":\"histogram2dcontour\",\"colorbar\":{\"outlinewidth\":0,\"ticks\":\"\"},\"colorscale\":[[0.0,\"#0d0887\"],[0.1111111111111111,\"#46039f\"],[0.2222222222222222,\"#7201a8\"],[0.3333333333333333,\"#9c179e\"],[0.4444444444444444,\"#bd3786\"],[0.5555555555555556,\"#d8576b\"],[0.6666666666666666,\"#ed7953\"],[0.7777777777777778,\"#fb9f3a\"],[0.8888888888888888,\"#fdca26\"],[1.0,\"#f0f921\"]]}],\"choropleth\":[{\"type\":\"choropleth\",\"colorbar\":{\"outlinewidth\":0,\"ticks\":\"\"}}],\"histogram2d\":[{\"type\":\"histogram2d\",\"colorbar\":{\"outlinewidth\":0,\"ticks\":\"\"},\"colorscale\":[[0.0,\"#0d0887\"],[0.1111111111111111,\"#46039f\"],[0.2222222222222222,\"#7201a8\"],[0.3333333333333333,\"#9c179e\"],[0.4444444444444444,\"#bd3786\"],[0.5555555555555556,\"#d8576b\"],[0.6666666666666666,\"#ed7953\"],[0.7777777777777778,\"#fb9f3a\"],[0.8888888888888888,\"#fdca26\"],[1.0,\"#f0f921\"]]}],\"heatmap\":[{\"type\":\"heatmap\",\"colorbar\":{\"outlinewidth\":0,\"ticks\":\"\"},\"colorscale\":[[0.0,\"#0d0887\"],[0.1111111111111111,\"#46039f\"],[0.2222222222222222,\"#7201a8\"],[0.3333333333333333,\"#9c179e\"],[0.4444444444444444,\"#bd3786\"],[0.5555555555555556,\"#d8576b\"],[0.6666666666666666,\"#ed7953\"],[0.7777777777777778,\"#fb9f3a\"],[0.8888888888888888,\"#fdca26\"],[1.0,\"#f0f921\"]]}],\"contourcarpet\":[{\"type\":\"contourcarpet\",\"colorbar\":{\"outlinewidth\":0,\"ticks\":\"\"}}],\"contour\":[{\"type\":\"contour\",\"colorbar\":{\"outlinewidth\":0,\"ticks\":\"\"},\"colorscale\":[[0.0,\"#0d0887\"],[0.1111111111111111,\"#46039f\"],[0.2222222222222222,\"#7201a8\"],[0.3333333333333333,\"#9c179e\"],[0.4444444444444444,\"#bd3786\"],[0.5555555555555556,\"#d8576b\"],[0.6666666666666666,\"#ed7953\"],[0.7777777777777778,\"#fb9f3a\"],[0.8888888888888888,\"#fdca26\"],[1.0,\"#f0f921\"]]}],\"surface\":[{\"type\":\"surface\",\"colorbar\":{\"outlinewidth\":0,\"ticks\":\"\"},\"colorscale\":[[0.0,\"#0d0887\"],[0.1111111111111111,\"#46039f\"],[0.2222222222222222,\"#7201a8\"],[0.3333333333333333,\"#9c179e\"],[0.4444444444444444,\"#bd3786\"],[0.5555555555555556,\"#d8576b\"],[0.6666666666666666,\"#ed7953\"],[0.7777777777777778,\"#fb9f3a\"],[0.8888888888888888,\"#fdca26\"],[1.0,\"#f0f921\"]]}],\"mesh3d\":[{\"type\":\"mesh3d\",\"colorbar\":{\"outlinewidth\":0,\"ticks\":\"\"}}],\"scatter\":[{\"fillpattern\":{\"fillmode\":\"overlay\",\"size\":10,\"solidity\":0.2},\"type\":\"scatter\"}],\"parcoords\":[{\"type\":\"parcoords\",\"line\":{\"colorbar\":{\"outlinewidth\":0,\"ticks\":\"\"}}}],\"scatterpolargl\":[{\"type\":\"scatterpolargl\",\"marker\":{\"colorbar\":{\"outlinewidth\":0,\"ticks\":\"\"}}}],\"bar\":[{\"error_x\":{\"color\":\"#2a3f5f\"},\"error_y\":{\"color\":\"#2a3f5f\"},\"marker\":{\"line\":{\"color\":\"#E5ECF6\",\"width\":0.5},\"pattern\":{\"fillmode\":\"overlay\",\"size\":10,\"solidity\":0.2}},\"type\":\"bar\"}],\"scattergeo\":[{\"type\":\"scattergeo\",\"marker\":{\"colorbar\":{\"outlinewidth\":0,\"ticks\":\"\"}}}],\"scatterpolar\":[{\"type\":\"scatterpolar\",\"marker\":{\"colorbar\":{\"outlinewidth\":0,\"ticks\":\"\"}}}],\"histogram\":[{\"marker\":{\"pattern\":{\"fillmode\":\"overlay\",\"size\":10,\"solidity\":0.2}},\"type\":\"histogram\"}],\"scattergl\":[{\"type\":\"scattergl\",\"marker\":{\"colorbar\":{\"outlinewidth\":0,\"ticks\":\"\"}}}],\"scatter3d\":[{\"type\":\"scatter3d\",\"line\":{\"colorbar\":{\"outlinewidth\":0,\"ticks\":\"\"}},\"marker\":{\"colorbar\":{\"outlinewidth\":0,\"ticks\":\"\"}}}],\"scattermap\":[{\"type\":\"scattermap\",\"marker\":{\"colorbar\":{\"outlinewidth\":0,\"ticks\":\"\"}}}],\"scattermapbox\":[{\"type\":\"scattermapbox\",\"marker\":{\"colorbar\":{\"outlinewidth\":0,\"ticks\":\"\"}}}],\"scatterternary\":[{\"type\":\"scatterternary\",\"marker\":{\"colorbar\":{\"outlinewidth\":0,\"ticks\":\"\"}}}],\"scattercarpet\":[{\"type\":\"scattercarpet\",\"marker\":{\"colorbar\":{\"outlinewidth\":0,\"ticks\":\"\"}}}],\"carpet\":[{\"aaxis\":{\"endlinecolor\":\"#2a3f5f\",\"gridcolor\":\"white\",\"linecolor\":\"white\",\"minorgridcolor\":\"white\",\"startlinecolor\":\"#2a3f5f\"},\"baxis\":{\"endlinecolor\":\"#2a3f5f\",\"gridcolor\":\"white\",\"linecolor\":\"white\",\"minorgridcolor\":\"white\",\"startlinecolor\":\"#2a3f5f\"},\"type\":\"carpet\"}],\"table\":[{\"cells\":{\"fill\":{\"color\":\"#EBF0F8\"},\"line\":{\"color\":\"white\"}},\"header\":{\"fill\":{\"color\":\"#C8D4E3\"},\"line\":{\"color\":\"white\"}},\"type\":\"table\"}],\"barpolar\":[{\"marker\":{\"line\":{\"color\":\"#E5ECF6\",\"width\":0.5},\"pattern\":{\"fillmode\":\"overlay\",\"size\":10,\"solidity\":0.2}},\"type\":\"barpolar\"}],\"pie\":[{\"automargin\":true,\"type\":\"pie\"}]},\"layout\":{\"autotypenumbers\":\"strict\",\"colorway\":[\"#636efa\",\"#EF553B\",\"#00cc96\",\"#ab63fa\",\"#FFA15A\",\"#19d3f3\",\"#FF6692\",\"#B6E880\",\"#FF97FF\",\"#FECB52\"],\"font\":{\"color\":\"#2a3f5f\"},\"hovermode\":\"closest\",\"hoverlabel\":{\"align\":\"left\"},\"paper_bgcolor\":\"white\",\"plot_bgcolor\":\"#E5ECF6\",\"polar\":{\"bgcolor\":\"#E5ECF6\",\"angularaxis\":{\"gridcolor\":\"white\",\"linecolor\":\"white\",\"ticks\":\"\"},\"radialaxis\":{\"gridcolor\":\"white\",\"linecolor\":\"white\",\"ticks\":\"\"}},\"ternary\":{\"bgcolor\":\"#E5ECF6\",\"aaxis\":{\"gridcolor\":\"white\",\"linecolor\":\"white\",\"ticks\":\"\"},\"baxis\":{\"gridcolor\":\"white\",\"linecolor\":\"white\",\"ticks\":\"\"},\"caxis\":{\"gridcolor\":\"white\",\"linecolor\":\"white\",\"ticks\":\"\"}},\"coloraxis\":{\"colorbar\":{\"outlinewidth\":0,\"ticks\":\"\"}},\"colorscale\":{\"sequential\":[[0.0,\"#0d0887\"],[0.1111111111111111,\"#46039f\"],[0.2222222222222222,\"#7201a8\"],[0.3333333333333333,\"#9c179e\"],[0.4444444444444444,\"#bd3786\"],[0.5555555555555556,\"#d8576b\"],[0.6666666666666666,\"#ed7953\"],[0.7777777777777778,\"#fb9f3a\"],[0.8888888888888888,\"#fdca26\"],[1.0,\"#f0f921\"]],\"sequentialminus\":[[0.0,\"#0d0887\"],[0.1111111111111111,\"#46039f\"],[0.2222222222222222,\"#7201a8\"],[0.3333333333333333,\"#9c179e\"],[0.4444444444444444,\"#bd3786\"],[0.5555555555555556,\"#d8576b\"],[0.6666666666666666,\"#ed7953\"],[0.7777777777777778,\"#fb9f3a\"],[0.8888888888888888,\"#fdca26\"],[1.0,\"#f0f921\"]],\"diverging\":[[0,\"#8e0152\"],[0.1,\"#c51b7d\"],[0.2,\"#de77ae\"],[0.3,\"#f1b6da\"],[0.4,\"#fde0ef\"],[0.5,\"#f7f7f7\"],[0.6,\"#e6f5d0\"],[0.7,\"#b8e186\"],[0.8,\"#7fbc41\"],[0.9,\"#4d9221\"],[1,\"#276419\"]]},\"xaxis\":{\"gridcolor\":\"white\",\"linecolor\":\"white\",\"ticks\":\"\",\"title\":{\"standoff\":15},\"zerolinecolor\":\"white\",\"automargin\":true,\"zerolinewidth\":2},\"yaxis\":{\"gridcolor\":\"white\",\"linecolor\":\"white\",\"ticks\":\"\",\"title\":{\"standoff\":15},\"zerolinecolor\":\"white\",\"automargin\":true,\"zerolinewidth\":2},\"scene\":{\"xaxis\":{\"backgroundcolor\":\"#E5ECF6\",\"gridcolor\":\"white\",\"linecolor\":\"white\",\"showbackground\":true,\"ticks\":\"\",\"zerolinecolor\":\"white\",\"gridwidth\":2},\"yaxis\":{\"backgroundcolor\":\"#E5ECF6\",\"gridcolor\":\"white\",\"linecolor\":\"white\",\"showbackground\":true,\"ticks\":\"\",\"zerolinecolor\":\"white\",\"gridwidth\":2},\"zaxis\":{\"backgroundcolor\":\"#E5ECF6\",\"gridcolor\":\"white\",\"linecolor\":\"white\",\"showbackground\":true,\"ticks\":\"\",\"zerolinecolor\":\"white\",\"gridwidth\":2}},\"shapedefaults\":{\"line\":{\"color\":\"#2a3f5f\"}},\"annotationdefaults\":{\"arrowcolor\":\"#2a3f5f\",\"arrowhead\":0,\"arrowwidth\":1},\"geo\":{\"bgcolor\":\"white\",\"landcolor\":\"#E5ECF6\",\"subunitcolor\":\"white\",\"showland\":true,\"showlakes\":true,\"lakecolor\":\"white\"},\"title\":{\"x\":0.05},\"mapbox\":{\"style\":\"light\"}}},\"xaxis\":{\"anchor\":\"y\",\"domain\":[0.0,1.0],\"title\":{\"text\":\"Department\"}},\"yaxis\":{\"anchor\":\"x\",\"domain\":[0.0,1.0],\"title\":{\"text\":\"Performance Rating\"}},\"legend\":{\"tracegroupgap\":0},\"title\":{\"text\":\"Plot 6: Performance Rating vs Layoff Risk by Department\",\"font\":{\"size\":16}},\"boxmode\":\"group\",\"font\":{\"family\":\"Arial\",\"size\":12}},                        {\"responsive\": true}                    ).then(function(){\n",
       "                            \n",
       "var gd = document.getElementById('72e61b05-90e1-487f-8421-17bce890842b');\n",
       "var x = new MutationObserver(function (mutations, observer) {{\n",
       "        var display = window.getComputedStyle(gd).display;\n",
       "        if (!display || display === 'none') {{\n",
       "            console.log([gd, 'removed!']);\n",
       "            Plotly.purge(gd);\n",
       "            observer.disconnect();\n",
       "        }}\n",
       "}});\n",
       "\n",
       "// Listen for the removal of the full notebook cells\n",
       "var notebookContainer = gd.closest('#notebook-container');\n",
       "if (notebookContainer) {{\n",
       "    x.observe(notebookContainer, {childList: true});\n",
       "}}\n",
       "\n",
       "// Listen for the clearing of the current output cell\n",
       "var outputEl = gd.closest('.output');\n",
       "if (outputEl) {{\n",
       "    x.observe(outputEl, {childList: true});\n",
       "}}\n",
       "\n",
       "                        })                };            </script>        </div>"
      ]
     },
     "metadata": {},
     "output_type": "display_data"
    }
   ],
   "source": [
    "# Step 1: Create Plot 6 – Performance Rating vs Layoff by Department\n",
    "\n",
    "# Filter relevant columns\n",
    "df_q6 = df[['Department', 'PerformanceRating', 'LayoffFlag']].dropna()\n",
    "\n",
    "# Create box plot\n",
    "fig6 = px.box(\n",
    "    df_q6,\n",
    "    x='Department',\n",
    "    y='PerformanceRating',\n",
    "    points=\"all\",\n",
    "    color_discrete_sequence=['lightgray'],\n",
    "    title=\"Plot 6: Performance Rating vs Layoff Risk by Department\"\n",
    ")\n",
    "\n",
    "# Add scatter overlay for laid-off employees\n",
    "laid_off = df_q6[df_q6['LayoffFlag'] == 1]\n",
    "fig6.add_trace(go.Scatter(\n",
    "    x=laid_off['Department'],\n",
    "    y=laid_off['PerformanceRating'],\n",
    "    mode='markers',\n",
    "    name='Laid-Off',\n",
    "    marker=dict(color='red', size=7, opacity=0.6),\n",
    "    hoverinfo='text',\n",
    "    text=laid_off['PerformanceRating']\n",
    "))\n",
    "\n",
    "# Beautify\n",
    "fig6.update_layout(\n",
    "    xaxis_title=\"Department\",\n",
    "    yaxis_title=\"Performance Rating\",\n",
    "    font=dict(family=\"Arial\", size=12),\n",
    "    title_font_size=16\n",
    ")\n",
    "\n",
    "fig6.show()\n"
   ]
  },
  {
   "cell_type": "markdown",
   "id": "a291b3ea-8bdd-4c67-9585-92455bfa1a5a",
   "metadata": {},
   "source": [
    "### Inference from 'Plot 6: Performance Rating vs Layoff Risk by Department'\n",
    "\n",
    "This box plot, overlaid with scatter points for laid-off employees, helps visualize the distribution of `Performance Rating` within each `Department` and, crucially, where the laid-off employees fall within that performance spectrum.\n",
    "\n",
    "1.  **Plot Type and Purpose**:\n",
    "    * This is a box plot faceted by `Department` showing the distribution of `PerformanceRating` (which seems to be an ordinal categorical variable: 'High', 'Medium', 'Low').\n",
    "    * Individual points (`points=\"all\"`) are shown to reveal the density within each performance category.\n",
    "    * A scatter overlay (`go.Scatter`) specifically highlights `Laid-Off` employees (where `LayoffFlag == 1`) in red.\n",
    "    * The purpose is to understand if layoffs disproportionately affect employees with certain performance ratings, and whether this pattern varies across departments.\n",
    "\n",
    "2.  **Key Observations from the Plot**:\n",
    "\n",
    "    * **Dominance of 'Medium' Performance Rating**: Across all departments, the vast majority of employees (represented by the light gray boxes and points) fall into the 'Medium' performance rating category. 'High' and 'Low' performance ratings are less common, but present.\n",
    "    * **Layoffs Predominantly from 'Medium' Performance**: For every department, the red scatter points, representing laid-off employees, are overwhelmingly concentrated within the 'Medium' performance rating band.\n",
    "        * This is particularly evident in departments like `IT`, `Sales`, and `Finance`, which had the highest overall layoff counts (as seen in Plot 3).\n",
    "        * There are very few, if any, laid-off employees with 'High' performance ratings.\n",
    "        * Some laid-off employees also appear in the 'Low' performance category, but their numbers are much smaller than those in 'Medium'.\n",
    "    * **Implication for Layoff Criteria (Performance)**:\n",
    "        * The plot suggests that while low performance *can* be a factor in layoffs, the primary target group for layoffs is **not** necessarily the lowest performers. Instead, a significant number of layoffs occur among 'Medium' performing employees.\n",
    "        * This indicates that performance rating, while a consideration, is not the *sole* or even primary determinant for layoffs, especially for the bulk of affected employees. Other factors, such as departmental restructuring, skill mismatch, bench time, or salary cost (as hinted in previous plots), might be more influential for the 'Medium' performers.\n",
    "    * **Departmental Consistency**: The pattern of layoffs primarily impacting 'Medium' performers is consistent across all departments, regardless of the department's size or overall layoff volume.\n",
    "\n",
    "3.  **Implications for Workforce Strategy**:\n",
    "\n",
    "    * **Beyond Performance in Layoff Decisions**: The company's layoff criteria likely extend beyond just poor performance. Factors like departmental re-prioritization, cost-cutting, redundancy of roles, or lack of adaptability (as seen in Plot 5) seem to play a more significant role, particularly for 'Medium' performers who form the largest part of the workforce.\n",
    "    * **Employee Morale and Communication**: Layoffs affecting 'Medium' performers can have a substantial impact on the morale of the remaining workforce, as it signals that even satisfactory performance does not guarantee job security. Transparent communication about layoff reasons (beyond individual performance) becomes even more critical.\n",
    "    * **Focus on Strategic Value and Future Skills**: For employees to truly secure their positions, the emphasis might need to shift from merely 'medium' performance to demonstrating 'high' performance, strategic value, or a proactive commitment to acquiring future-relevant skills, especially in departments undergoing significant changes.\n",
    "    * **Holistic Performance Management**: This plot reinforces the idea that performance management should be holistic, considering not just current output but also adaptability, skill relevance, and strategic alignment to identify true value and potential layoff risk."
   ]
  },
  {
   "cell_type": "markdown",
   "id": "730cd0a8-d64b-4962-90cd-fe5ffbf656a4",
   "metadata": {},
   "source": [
    "## Q7: What is the salary distribution of laid-off employees compared to retained employees?"
   ]
  },
  {
   "cell_type": "markdown",
   "id": "4f986663-714d-4ee8-a640-3358d1c70b66",
   "metadata": {},
   "source": [
    "### ➤ Step 1: Create Plot 7 – Violin Plot of Salary by LayoffFlag"
   ]
  },
  {
   "cell_type": "code",
   "execution_count": 59,
   "id": "e0c465e6-5f26-4ba8-8fb5-11c2cf8506c8",
   "metadata": {},
   "outputs": [
    {
     "data": {
      "text/html": [
       "<div>            <script src=\"https://cdnjs.cloudflare.com/ajax/libs/mathjax/2.7.5/MathJax.js?config=TeX-AMS-MML_SVG\"></script><script type=\"text/javascript\">if (window.MathJax && window.MathJax.Hub && window.MathJax.Hub.Config) {window.MathJax.Hub.Config({SVG: {font: \"STIX-Web\"}});}</script>                <script type=\"text/javascript\">window.PlotlyConfig = {MathJaxConfig: 'local'};</script>\n",
       "        <script charset=\"utf-8\" src=\"https://cdn.plot.ly/plotly-3.0.1.min.js\" integrity=\"sha256-oy6Be7Eh6eiQFs5M7oXuPxxm9qbJXEtTpfSI93dW16Q=\" crossorigin=\"anonymous\"></script>                <div id=\"5d03e971-4407-4b34-9d1b-f1a1dd5df211\" class=\"plotly-graph-div\" style=\"height:525px; width:100%;\"></div>            <script type=\"text/javascript\">                window.PLOTLYENV=window.PLOTLYENV || {};                                if (document.getElementById(\"5d03e971-4407-4b34-9d1b-f1a1dd5df211\")) {                    Plotly.newPlot(                        \"5d03e971-4407-4b34-9d1b-f1a1dd5df211\",                        [{\"alignmentgroup\":\"True\",\"box\":{\"visible\":true},\"hovertemplate\":\"LayoffFlag=%{x}\\u003cbr\\u003eSalaryUSD=%{y}\\u003cextra\\u003e\\u003c\\u002fextra\\u003e\",\"legendgroup\":\"0\",\"marker\":{\"color\":\"blue\"},\"name\":\"0\",\"offsetgroup\":\"0\",\"orientation\":\"v\",\"points\":\"all\",\"scalegroup\":\"True\",\"showlegend\":true,\"x\":{\"dtype\":\"i1\",\"bdata\":\"AAAAAAAAAAAAAAAAAAAAAAAAAAAAAAAAAAAAAAAAAAAAAAAAAAAAAAAAAAAAAAAAAAAAAAAAAAAAAAAAAAAAAAAAAAAAAAAAAAAAAAAAAAAAAAAAAAAAAAAAAAAAAAAAAAAAAAAAAAAAAAAAAAAAAAAAAAAAAAAAAAAAAAAAAAAAAAAAAAAAAAAAAAAAAAAAAAAAAAAAAAAAAAAAAAAAAAAAAAAAAAAAAAAAAAAAAAAAAAAAAAAAAAAAAAAAAAAAAAAAAAAAAAAAAAAAAAAAAAAAAAAAAAAAAAAAAAAAAAAAAAAAAAAAAAAAAAAAAAAAAAAAAAAAAAAAAAAAAAAAAAAAAAAAAAAAAAAAAAAAAAAAAAAAAAAAAAAAAAAAAAAAAAAAAAAAAAAAAAAAAAAAAAAAAAAAAAAAAAAAAAAAAAAAAAAAAAAAAAAAAAAAAAAAAAAAAAAAAAAAAAAAAAAAAAAAAAAAAAAAAAAAAAAAAAAAAAAAAAAAAAAAAAAAAAAAAAAAAAAAAAAAAAAAAAAAAAAAAAAAAAAAAAAAAAAAAAAAAAAAAAAAAAAAAAAAAAAAAAAAAAAAAAAAAAAAAAAAAAAAAAAAAAAAAAAAAAAAAAAAAAAAAAAAAAAAAAAAAAAAAAAAAAAAAAAAAAAAAAAAAAAAAAAAAAAAAAAAAAAAAAAAAAAAAAAAAAAAAAAAAAAAAAAAAAAAAAAAAAAAAAAAAAAAAAAAAAAAAAAAAAAAAAAAAAAAAAAAAAAAAAAAAAAAAAAAAAAAAAAAAAAAAAAAAAAAAAAAAAAAAAAAAAAAAAAAAAAAAAAAAAAAAAAAAAAAAAAAAAAAAAAAAAAAAAAAAAAAAAAAAAAAAAAAAAAAAAAAAAAAAAAAAAAAAAAAAAAAAAAAAAAAAAAAAAAAAAAAAAAAAAAAAAAAAAAAAAAAAAAAAAAAAAAAAAAAAAAAAAAAAAAAAAAAAAAAAAAAAAAAAAAAAAAAAAAAAAAAAAAAAAAAAAAAAAAAAAAAAAAAAAAAAAAAAAAAAAAAAAAAAAAAAAAAAAAAAAAAAAAAAAAAAAAAAAAAAAAAAAAAAAAAAAAAAAAAAAAAAAAAAAAAAAAAAAAAAAAAAAAAAAAAAAAAAAAAAAAAAAAAAAAAAAAAAAAAAAAAAAAAAAAAAAAAAAAAAAAAAAAAAAAAAAAAAAAAAAAAAAAAAAAAAAAAAAAAAAAAAAAAAAAAAAAAAAAAAAAAAAAAAAAAAAAAAAAAAAAAAAAAAAAAAAAAAAAAAAAAAAAAAAAAAAAAAAAAAAAAAAAAAAAAAAAAAAAAAAAAAAAAAAAAAAAAAAAAAAAAAAAAAAAAAAAAAAAAAAAAAAAAAAAAAAAAAAAAAAAAAAAAAAAAAAAAAAAAAAAAAAAAAAAAAAAAAAAAAAAAAAAAAAAAAAAAAAAAAAAAAAAAAAAAAAAAAAAAAAAAAAAAAAAAAAAAAAAAAAAAAAAAAAAAAAAAAAAAAAAAAAAAAAAAAAAAAAAAAAAAAAAAAAAAAAAAAAAAAAAAAAAAAAAAAAAAAAAAAAAAAAAAAAAAAAAAAAAAAAAAAAAAAAAAAAAAAAAAAAAAAAAAAAAAAAAAAAAAAAAAAAAAAAAAAAAAAAAAAAAAAAAAAAAAAAAAAAAAAAAAAAAAAAAAAAAAAAAAAAAAAAAAAAAAAAAAAAAAAAAAAAAAAAAAAAAAAAAAAAAAAAAAAAAAAAAAAAAAAAAAAAAAAAAAAAAAAAAAAAAAAAAAAAAAAAAAAAAAAAAAAAAAAAAAAAAAAAAAAAAAAAAAAAAAAAAAAAAAAAAAAAAAAAAAAAAAAAAAAAAAAAAAAAAAAAAAAAAAAAAAAAAAAAAAAAAAAAAAAAAAAAAAAAAAAAAAAAAAAAAAAAAAAAAAAAAAAAAAAAAAAAAAAAAAAAAAAAAAAAAAAAAAAAAAAAAAAAAAAAAAAAAAAAAAAAAAAAAAAAAAAAAAAAAAAAAAAAAAAAAAAAAAAAAAAAAAAAAAAAAAAAAAAAAAAAAAAAAAAAAAAAAAAAAAAAAAAAAAAAAAAAAAAAAAAAAAAAAAAAAAAAAAAAAAAAAAAAAAAAAAAAAAAAAAAAAAAAAAAAAAAAAAAAAAAAAAAAAAAAAAAAAAAAAAAAAAAAAAAAAAAAAAAAAAAAAAAAAAAAAAAAAAAAAAAAAAAAAAAAAAAAAAAAAAAAAAAAAAAAAAAAAAAAAAAAAAAAAAAAAAAAAAAAAAAAAAAAAAAAAAAAAAAAAAAAAAAAAAAAAAAAAAAAAAAAAAAAAAAAAAAAAAAAAAAAAAAAAAAAAAAAAAAAAAAAAAAAAAAAAAAAAAAAAAAAAAAAAAAAAAAAAAAAAAAAAAAAAAAAAAAAAAAAAAAAAAAAAAAAAAAAAAAAAAAAAAAAAAAAAAAAAAAAAAAAAAAAAAAAAAAAAAAAAAAAAAAAAAAAAAAAAAAAAAAAAAAAAAAAAAAAAAAAAAAAAAAAAAAAAAAAAAAAAAAAAAAAAAAAAAAAAAAAAAAAAAAAAAAAAAAAAAAAAAAAAAAAAAAAAAAAAAAAAAAAAAAAAAAAAAAAAAAAAAAAAAAAAAAAAAAAAAAAAAAAAAAAAAAAAAAAAAAAAAAAAAAAAAAAAAAAAAAAAAAAAAAAAAAAAAAAAAAAAAAAAAAAAAAAAAAAAAAAAAAAAAAAAAAAAAAAAAAAAAAAAAAAAAAAAAAAAAAAAAAAAAAAAAAAAAAAAAAAAAAAAAAAAAAAAAAAAAAAAAAAAAAAAAAAAAAAAAAAAAAAAAAAAAAAAAAAAAAAAAAAAAAAAAAAAAAAAAAAAAAAAAAAAAAAAAAAAAAAAAAAAAAAAAAAAAAAAAAAAAAAAAAAAAAAAAAAAAAAAAAAAAAAAAAAAAAAAAAAAAAAAAAAAAAAAAAAAAAAAAAAAAAAAAAAAAAAAAAAAAAAAAAAAAAAAAAAAAAAAAAAAAAAAAAAAAAAAAAAAAAAAAAAAAAAAAAAAAAAAAAAAAAAAAAAAAAAAAAAAAAAAAAAAAAAAAAAAAAAAAAAAAAAAAAAAAAAAAAAAAAAAAAAAAAAAAAAAAAAAAAAAAAAAAAAAAAAAAAAAAAAAAAAAAAAAAAAAAAAAAAAAAAAAAAAAAAAAAAAAAAAAAAAAAAAAAAAAAAAAAAAAAAAAAAAAAAAAAAAAAAAAAAAAAAAAAAAAAAAAAAAAAAAAAAAAAAAAAAAAAAAAAAAAAAAAAAAAAAAAAAAAAAAAAAAAAAAAAAAAAAAAAAAAAAAAAAAAAAAAAAAAAAAAAAAAAAAAAAAAAAAAAAAAAAAAAAAAAAAAAAAAAAAAAAAAAAAAAAAAAAAAAAAAAAAAAAAAAAAAAAAAAAAAAAAAAAAAAAAAAAAAAAAAAAAAAAAAAAAAAAAAAAAAAAAAAAAAAAAAAAAAAAAAAAAAAAAAAAAAAAAAAAAAAAAAAAAAAAAAAAAAAAAAAAAAAAAAAAAAAAAAAAAAAAAAAAAAAAAAAAAAAAAAAAAAAAAAAAAAAAAAAAAAAAAAAAAAAAAAAAAAAAAAAAAAAAAAAAAAAAAAAAAAAAAAAAAAAAAAAAAAAAAAAAAAAAAAAAAAAAAAAAAAAAAAAAAAAAAAAAAAAAAAAAAAAAAAAAAAAAAAAAAAAAAAAAAAAAAAAAAAAAAAAAAAAAAAAAAAAAAAAAAAAAAAAAAAAAAAAAAAAAAAAAAAAAAAAAAAAAAAAAAAAAAAAAAAAAAAAAAAAAAAAAAAAAAAAAAAAAAAAAAAAAAAAAAAAAAAAAAAAAAAAAAAAAAAAAAAAAAAAAAAAAAAAAAAAAAAAAAAAAAAAAAAAAAAAAAAAAAAAAAAAAAAAAAAAAAAAAAAAAAAAAAAAAAAAAAAAAAAAAAAAAAAAAAAAAAAAAAAAAAAAAAAAAAAAAAAAAAAAAAAAAAAAAAAAAAAAAAAAAAAAAAAAAAAAAAAAAAAAAAAAAAAAAAAAAAAAAAAAAAAAAAAAAAAAAAAAAAAAAAAAAAAAAAAAAAAAAAAAAAAAAAAAAAAAAAAAAAAAAAAAAAAAAAAAAAAAAAAAAAAAAAAAAAAAAAAAAAAAAAAAAAAAAAAAAAAAAAAAAAAAAAAAAAAAAAAAAAAAAAAAAAAAAAAAAAAAAAAAAAAAAAAAAAAAAAAAAAAAAAAAAAAAAAAAAAAAAAAAAAAAAAAAAAAAAAAAAAAAAAAAAAAAAAAAAAAAAAAAAAAAAAAAAAAAAAAAAAAAAAAAAAAAAAAAAAAAAAAAAAAAAAAAAAAAAAAAAAAAAAAAAAAAAAAAAAAAAAAAAAAAAAAAAAAAAAAAAAAAAAAAAAAAAAAAAAAAAAAAAAAAAAAAAAAAAAAAAAAAAAAAAAAAAAAAAAAAAAAAAAAAAAAAAAAAAAAAAAAAAAAAAAAAAAAAAAAAAAAAAAAAAAAAAAAAAAAAAAAAAAAAAAAAAAAAAAAAAAAAAAAAAAAAAAAAAAAAAAAAAAAAAAAAAAAAAAAAAAAAAAAAAAAAAAAAAAAAAAAAAAAAAAAAAAAAAAAAAAAAAAAAAAAAAAAAAAAAAAAAAAAAAAAAAAAAAAAAAAAAAAAAAAAAAAAAAAAAAAAAAAAAAAAAAAAAAAAAAAAAAAAAAAAAAAAAAAAAAAAAAAAAAAAAAAAAAAAAAAAAAAAAAAAAAAAAAAAAAAAAAAAAAAAAAAAAAAAAAAAAAAAAAAAAAAAAAAAAAAAAAAAAAAAAAAAAAAAAAAAAAAAAAAAAAAAAAAAAAAAAAAAAAAAAAAAAAAAAAAAAAAAAAAAAAAAAAAAAAAAAAAAAAAAAAAAAAAAAAAAAAAAAAAAAAAAAAAAAAAAAAAAAAAAAAAAAAAAAAAAAAAAAAAAAAAAAAAAAAAAAAAAAAAAAAAAAAAAAAAAAAAAAAAAAAAAAAAAAAAAAAAAAAAAAAAAAAAAAAAAAAAAAAAAAAAAAAAAAAAAAAAAAAAAAAAAAAAAAAAAAAAAAAAAAAAAAAAAAAAAAAAAAAAAAAAAAAAAAAAAAAAAAAAAAAAAAAAAAAAAAAAAAAAAAAAAAAAAAAAAAAAAAAAAAAAAAAAAAAAAAAAAAAAAAAAAAAAAAAAAAAAAAAAAAAAAAAAAAAAAAAAAAAAAAAAAAAAAAAAAAAAAAAAAAAAAAAAAAAAAAAAAAAAAAAAAAAAAAAAAAAAAAAAAAAAAAAAAAAAAAAAAAAAAAAAAAAAAAAAAAAAAAAAAAAAAAAAAAAAAAAAAAAAAAAAAAAAAAAAAAAAAAAAAAAAAAAAAAAAAAAAAAAAAAAAAAAAAAAAAAAAAAAAAAAAAAAAAAAAAAAAAAAAAAAAAAAAAAAAAAAAAAAAAAAAAAAAAAAAAAAAAAAAAAAAAAAAAAAAAAAAAAAAAAAAAAAAAAAAAAAAAAAAAAAAAAAAAAAAAAAAAAAAAAAAAAAAAAAAAAAAAAAAAAAAAAAAAAAAAAAAAAAAAAAAAAAAAAAAAAAAAAAAAAAAAAAAAAAAAAAAAAAAAAAAAAAAAAAAAAAAAAAAAAAAAAAAAAAAAAAAAAAAAAAAAAAAAAAAAAAAAAAAAAAAAAAAAAAAAAAAAAAAAAAAAAAAAAAAAAAAAAAAAAAAAAAAAAAAAAAAAAAAAAAAAAAAAAAAAAAAAAAAAAAAAAAAAAAAAAAAAAAAAAAAAAAAAAAAAAAAAAAAAAAAAAAAAAAAAAAAAAAAAAAAAAAAAAAAAAAAAAAAAAAAAAAAAAAAAAAAAAAAAAAAAAAAAAAAAAAAAAAAAAAAAAAAAAAAAAAAAAAAAAAAAAAAAAAAAAAAAAAAAAAAAAAAAAAAAAAAAAAAAAAAAAAAAAAAAAAAAAAAAAAAAAAAAAAAAAAAAAAAAAAAAAAAAAAAAAAAAAAAAAAAAAAAAAAAAAAAAAAAAAAAAAAAAAAAAAAAAAAAAAAAAAAAAAAAAAAAAAAAAAAAAAAAAAAAAAAAAAAAAAAAAAAAAAAAAAAAAAAAAAAAAAAAAAAAAAAAAAAAAAAAAAAAAAAAAAAAAAAAAAAAAAAAAAAAAAAAAAAAAAAAAAAAAAAAAAAAAAAAAAAAAAAAAAAAAAAAAAAAAAAAAAAAAAAAAAAAAAAAAAAAAAAAAAAAAAAAAAAAAAAAAAAAAAAAAAAAAAAAAAAAAAAAAAAAAAAAAAAAAAAAAAAAAAAAAAAAAAAAAAAAAAAAAAAAAAAAAAAAAAAAAAAAAAAAAAAAAAAAAAAAAAAAAAAAAAAAAAAAAAAAAAAAAAAAAAAAAAAAAAAAAAAAAAAAAAAAAAAAAAAAAAAAAAAAAAAAAAAAAAAAAAAAAAAAAAAAAAAAAAAAAAAAAAAAAAAAAAAAAAAAAAAAAAAAAAAAAAAAAAAAAAAAAAAAAAAAAAAAAAAAAAAAAAAAAAAAAAAAAAAAAAAAAAAAAAAAAAAAAAAAAAAAAAAAAAAAAAAAAAAAAAAAAAAAAAAAAAAAAAAAAAAAAAAAAAAAAAAAAAAAAAAAAAAAAAAAAAAAAAAAAAAAAAAAAAAAAAAAAAAAAAAAAAAAAAAAAAAAAAAAAAAAAAAAAAAAAAAAAAAAAAAAAAAAAAAAAAAAAAAAAAAAAAAAAAAAAAAAAAAAAAAAAAAAAAAAAAAAAAAAAAAAAAAAAAAAAAAAAAAAAAAAAAAAAAAAAAAAAAAAAAAAAAAAAAAAAAAAAAAAAAAAAAAAAAAAAAAAAAAAAAAAAAAAAAAAAAAAAAAAAAAAAAAAAAAAAAAAAAAAAAAAAAAAAAAAAAAAAAAAAAAAAAAAAAAAAAAAAAAAAAAAAAAAAAAAAAAAAAAAAAAAAAAAAAAAAAAAAAAAAAAAAAAAAAAAAAAAAAAAAAAAAAAAAAAAAAAAAAAAAAAAAAAAAAAAAAAAAAAAAAAAAAAAAAAAAAAAAAAAAAAAAAAAAAAAAAAAAAAAAAAAAAAAAAAAAAAAAAAAAAAAAAAAAAAAAAAAAAAAAAAAAAAAAAAAAAAAAAAAAAAAAAAAAAAAAAAAAAAAAAAAAAAAAAAAAAAAAAAAAAAAAAAAAAAAAAAAAAAAAAAAAAAAAAAAAAAAAAAAAAAAAAAAAAAAAAAAAAAAAAAAAAAAAAAAAAAAAAAAAAAAAAAAAAAAAAAAAAAAAAAAAAAAAAAAAAAAAAAAAAAAAAAAAAAAAAAAAAAAAAAAAAAAAAAAAAAAAAAAAAAAAAAAAAAAAAAAAAAAAAAAAAAAAAAAAAAAAAAAAAAAAAAAAAAAAAAAAAAAAAAAAAAAAAAAAAAAAAAAAAAAAAAAAAAAAAAAAAAAAAAAAAAAAAAAAAAAAAAAAAAAAAAAAAAAAAAAAAAAAAAAAAAAAAAAAAAAAAAAAAAAAAAAAAAAAAAAAAAAAAAAAAAAAAAAAAAAAAAAAAAAAAAAAAAAAAAAAAAAAAAAAAAAAAAAAAAAAAAAAAAAAAAAAAAAAAAAAAAAAAAAAAAAAAAAAAAAAAAAAAAAAAAAAAAAAAAAAAAAAAAAAAAAAAAAAAAAAAAAAAAAAAAAAAAAAAAAAAAAAAAAAAAAAAAAAAAAAAAAAAAAAAAAAAAAAAAAAAAAAAAAAAAAAAAAAAAAAAAAAAAAAAAAAAAAAAAAAAAAAAAAAAAAAAAAAAAAAAAAAAAAAAAAAAAAAAAAAAAAAAAAAAAAAAAAAAAAAAAAAAAAAAAAAAAAAAAAAAAAAAAAAAAAAAAAAAAAAAAAAAAAAAAAAAAAAAAAAAAAAAAAAAAAAAAAAAAAAAAAAAAAAAAAAAAAAAAAAAAAAAAAAAAAAAAAAAAAAAAAAAAAAAAAAAAAAAAAAAAAAAAAAAAAAAAAAAAAAAAAAAAAAAAAAAAAAAAAAAAAAAAAAAAAAAAAAAAAAAAAAAAAAAAAAAAAAAAAAAAAAAAAAAAAAAAAAAAAAAAAAAAAAAAAAAAAAAAAAAAAAAAAAAAAAAAAAAAAAAAAAAAAAAAAAAAAAAAAAAAAAAAAAAAAAAAAAAAAAAAAAAAAAAAAAAAAAAAAAAAAAAAAAAAAAAAAAAAAAAAAAAAAAAAAAAAAAAAAAAAAAAAAAAAAAAAAAAAAAAAAAAAAAAAAAAAAAAAAAAAAAAAAAAAAAAAAAAAAAAAAAAAAAAAAAAAAAAAAAAAAAAAAAAAAAAAAAAAAAAAAAAAAAAAAAAAAAAAAAAAAAAAAAAAAAAAAAAAAAAAAAAAAAAAAAAAAAAAAAAAAAAAAAAAAAAAAAAAAAAAAAAAAAAAAAAAAAAAAAAAAAAAAAAAAAAAAAAAAAAAAAAAAAAAAAAAAAAAAAAAAAAAAAAAAAAAAAAAAAAAAAAAAAAAAAAAAAAAAAAAAAAAAAAAAAAAAAAAAAAAAAAAAAAAAAAAAAAAAAAAAAAAAAAAAAAAAAAAAAAAAAAAAAAAAAAAAAAAAAAAAAAAAAAAAAAAAAAAAAAAAAAAAAAAAAAAAAAAAAAAAAAAAAAAAAAAAAAAAAAAAAAAAAAAAAAAAAAAAAAAAAAAAAAAAAAAAAAAAAAAAAAAAAAAAAAAAAAAAAAAAAAAAAAAAAAAAAAAAAAAAAAAAAAAAAAAAAAAAAAAAAAAAAAAAAAAAAAAAAAAAAAAAAAAAAAAAAAAAAAAAAAAAAAAAAAAAAAAAAAAAAAAAAAAAAAAAAAAAAAAAAAAAAAAAAAAAAAAAAAAAAAAAAAAAAAAAAAAAAAAAAAAAAAAAAAAAAAAAAAAAAAAAAAAAAAAAAAAAAAAAAAAAAAAAAAAAAAAAAAAAAAAAAAAAAAAAAAAAAAAAAAAAAAAAAAAAAAAAAAAAAAAAAAAAAAAAAAAAAAAAAAAAAAAAAAAAAAAAAAAAAAAAAAAAAAAAAAAAAAAAAAAAAAAAAAAAAAAAAAAAAAAAAAAAAAAAAAAAAAAAAAAAAAAAAAAAAAAAAAAAAAAAAAAAAAAAAAAAAAAAAAAAAAAAAAAAAAAAAAAAAAAAAAAAAAAAAAAAAAAAAAAAAAAAAAAAAAAAAAAAAAAAAAAAAAAAAAAAAAAAAAAAAAAAAAAAAAAAAAAAAAAAAAAAAAAAAAAAAAAAAAAAAAAAAAAAAAAAAAAAAAAAAAAAAAAAAAAAAAAAAAAAAAAAAAAAAAAAAAAAAAAAAAAAAAAAAAAAAAAAAAAAAAAAAAAAAAAAAAAAAAAAAAAAAAAAAAAAAAAAAAAAAAAAAAAAAAAAAAAAAAAAAAAAAAAAAAAAAAAAAAAAAAAAAAAAAAAAAAAAAAAAAAAAAAAAAAAAAAAAAAAAAAAAAAAAAAAAAAAAAAAAAAAAAAAAAAAAAAAAAAAAAAAAAAAAAAAAAAAAAAAAAAAAAAAAAAAAAAAAAAAAAAAAAAAAAAAAAAAAAAAAAAAAAAAAAAAAAAAAAAAAAAAAAAAAAAAAAAAAAAAAAAAAAAAAAAAAAAAAAAAAAAAAAAAAAAAAAAAAAAAAAAAAAAAAAAAAAAAAAAAAAAAAAAAAAAAAAAAAAAAAAAAAAAAAAAAAAAAAAAAAAAAAAAAAAAAAAAAAAAAAAAAAAAAAAAAAAAAAAAAAAAAAAAAAAAAAAAAAAAAAAAAAAAAAAAAAAAAAAAAAAAAAAAAAAAAAAAAAAAAAAAAAAAAAAAAAAAAAAAAAAAAAAAAAAAAAAAAAAAAAAAAAAAAAAAAAAAAAAAAAAAAAAAAAAAAAAAAAAAAAAAAAAAAAAAAAAAAAAAAAAAAAAAAAAAAAAAAAAAAAAAAAAAAAAAAAAAAAAAAAAAAAAAAAAAAAAAAAAAAAAAAAAAAAAAAAAAAAAAAAAAAAAAAAAAAAAAAAAAAAAAAAAAAAAAAAAAAAAAAAAAAAAAAAAAAAAAAAAAAAAAAAAAAAAAAAAAAAAAAAAAAAAAAAAAAAAAAAAAAAAAAAAAAAAAAAAAAAAAAAAAAAAAAAAAAAAAAAAAAAAAAAAAAAAAAAAAAAAAAAAAAAAAAAAAAAAAAAAAAAAAAAAAAAAAAAAAAAAAAAAAAAAAAAAAAAAAAAAAAAAAAAAAAAAAAAAAAAAAAAAAAAAAAAAAAAAAAAAAAAAAAAAAAAAAAAAAAAAAAAAAAAAAAAAAAAAAAAAAAAAAAAAAAAAAAAAAAAAAAAAAAAAAAAAAAAAAAAAAAAAAAAAAAAAAAAAAAAAAAAAAAAAAAAAAAAAAAAAAAAAAAAAAAAAAAAAAAAAAAAAAAAAAAAAAAAAAAAAAAAAAAAAAAAAAAAAAAAAAAAAAAAAAAAAAAAAAAAAAAAAAAAAAAAAAAAAAAAAAAAAAAAAAAAAAAAAAAAAAAAAAAAAAAAAAAAAAAAAAAAAAAAAAAAAAAAAAAAAAAAAAAAAAAAAAAAAAAAAAAAAAAAAAAAAAAAAAAAAAAAAAAAAAAAAAAAAAAAAAAAAAAAAAAAAAAAAAAAAAAAAAAAAAAAAAAAAAAAAAAAAAAAAAAAAAAAAAAAAAAAAAAAAAAAAAAAAAAAAAAAAAAAAAAAAAAAAAAAAAAAAAAAAAAAAAAAAAAAAAAAAAAAAAAAAAAAAAAAAAAAAAAAAAAAAAAAAAAAAAAAAAAAAAAAAAAAAAAAAAAAAAAAAAAAAAAAAAAAAAAAAAAAAAAAAAAAAAAAAAAAAAAAAAAAAAAAAAAAAAAAAAAAAAAAAAAAAAAAAAAAAAAAAAAAAAAAAAAAAAAAAAAAAAAAAAAAAAAAAAAAAAAAAAAAAAAAAAAAAAAAAAAAAAAAAAAAAAAAAAAAAAAAAAAAAAAAAAAAAAAAAAAAAAAAAAAAAAAAAAAAAAAAAAAAAAAAAAAAAAAAAAAAAAAAAAAAAAAAAAAAAAAAAAAAAAAAAAAAAAAAAAAAAAAAAAAAAAAAAAAAAAAAAAAAAAAAAAAAAAAAAAAAAAAAAAAAAAAAAAAAAAAAAAAAAAAAAAAAAAAAAAAAAAAAAAAAAAAAAAAAAAAAAAAAAAAAAAAAAAAAAAAAAAAAAAAAAAAAAAAAAAAAAAAAAAAAAAAAAAAAAAAAAAAAAAAAAAAAAAAAAAAAAAAAAAAAAAAAAAAAAAAAAAAAAAAAAAAAAAAAAAAAAAAAAAAAAAAAAAAAAAAAAAAAAAAAAAAAAAAAAAAAAAAAAAAAAAAAAAAAAAAAAAAAAAAAAAAAAAAAAAAAAAAAAAAAAAAAAAAAAAAAAAAAAAAAAAAAAAAAAAAAAAAAAAAAAAAAAAAAAAAAAAAAAAAAAAAAAAAAAAAAAAAAAAAAAAAAAAAAAAAAAAAAAAAAAAAAAAAAAAAAAAAAAAAAAAAAAAAAAAAAAAAAAAAAAAAAAAAAAAAAAAAAAAAAAAAAAAAAAAAAAAAAAAAAAAAAAAAAAAAAAAAAAAAAAAAAAAAAAAAAAAAAAAAAAAAAAAAAAAAAAAAAAAAAAAAAAAAAAAAAAAAAAAAAAAAAAAAAAAAAAAAAAAAAAAAAAAAAAAAAAAAAAAAAAAAAAAAAAAAAAAAAAAAAAAAAAAAAAAAAAAAAAAAAAAAAAAAAAAAAAAAAAAAAAAAAAAAAAAAAAAAAAAAAAAAAAAAAAAAAAAAAAAAAAAAAAAAAAAAAAAAAAAAAAAAAAAAAAAAAAAAAAAAAAAAAAAAAAAAAAAAAAAAAAAAAAAAAAAAAAAAAAAAAAAAAAAAAAAAAAAAAAAAAAAAAAAAAAAAAAAAAAAAAAAAAAAAAAAAAAAAAAAAAAAAAAAAAAAAAAAAAAAAAAAAAAAAAAAAAAAAAAAAAAAAAAAAAAAAAAAAAAAAAAAAAAAAAAAAAAAAAAAAAAAAAAAAAAAAAAAAAAAAAAAAAAAAAAAAAAAAAAAAAAAAAAAAAAAAAAAAAAAAAAAAAAAAAAAAAAAAAAAAAAAAAAAAAAAAAAAAAAAAAAAAAAAAAAAAAAAAAAAAAAAAAAAAAAAAAAAAAAAAAAAAAAAAAAAAAAAAAAAAAAAAAAAAAAAAAAAAAAAAAAAAAAAAAAAAAAAAAAAAAAAAAAAAAAAAAAAAAAAAAAAAAAAAAAAAAAAAAAAAAAAAAAAAAAAAAAAAAAAAAAAAAAAAAAAAAAAAAAAAAAAAAAAAAAAAAAAAAAAAAAAAAAAAAAAAAAAAAAAAAAAAAAAAAAAAAAAAAAAAAAAAAAAAAAAAAAAAAAAAAAAAAAAAAAAAAAAAAAAAAAAAAAAAAAAAAAAAAAAAAAAAAAAAAAAAAAAAAAAAAAAAAAAAAAAAAAAAAAAAAAAAAAAAAAAAAAAAAAAAAAAAAAAAAAAAAAAAAAAAAAAAAAAAAAAAAAAAAAAAAAAAAAAAAAAAAAAAAAAAAAAAAAAAAAAAAAAAAAAAAAAAAAAAAAAAAAAAAAAAAAAAAAAAAAAAAAAAAAAAAAAAAAAAAAAAAAAAAAAAAAAAAAAAAAAAAAAAAAAAAAAAAAAAAAAAAAAAAAAAAAAAAAAAAAAAAAAAAAAAAAAAAAAAAAAAAAAAAAAAAAAAAAAAAAAAAAAAAAAAAAAAAAAAAAAAAAAAAAAAAAAAAAAAAAAAAAAAAAAAAAAAAAAAAAAAAAAAAAAAAAAAAAAAAAAAAAAAAAAAAAAAAAAAAAAAAAAAAAAAAAAAAAAAAAAAAAAAAAAAAAAAAAAAAAAAAAAAAAAAAAAAAAAAAAAAAAAAAAAAAAAAAAAAAAAAAAAAAAAAAAAAAAAAAAAAAAAAAAAAAAAAAAAAAAAAAAAAAAAAAAAAAAAAAAAAAAAAAAAAAAAAAAAAAAAAAAAAAAAAAAAAAAAAAAAAAAAAAAAAAAAAAAAAAAAAAAAAAAAAAAAAAAAAAAAAAAAAAAAAAAAAAAAAAAAAAAAAAAAAAAAAAAAAAAAAAAAAAAAAAAAAAAAAAAAAAAAAAAAAAAAAAAAAAAAAAAAAAAAAAAAAAAAAAAAAAAAAAAAAAAAAAAAAAAAAAAAAAAAAAAAAAAAAAAAAAAAAAAAAAAAAAAAAAAAAAAAAAAAAAAAAAAAAAAAAAAAAAAAAAAAAAA=\"},\"x0\":\" \",\"xaxis\":\"x\",\"y\":{\"dtype\":\"i4\",\"bdata\":\"ECcAAF1gAACfRwAAH1QAAAhcAAANagAAjXUAAONvAAClWAAA6EIAADBdAABVYQAAakUAAL9vAACHqQAA+Y0AAPd5AAAQJwAAqF0AABAnAAAUcgAAZVQAAHFqAADcZQAAgEEAAOdMAAB+TgAApkcAAO+yAABaVgAAECcAANRbAAB8VgAAvGcAAHd8AABfcwAA00cAAGRcAAAhNQAAECcAABAnAAAvqAAAZlkAABxnAAAEZQAAt1YAAICsAABuVwAAPk0AAIh0AADfkAAAZk8AACFWAABEXwAAECcAAI9CAACRTgAAfGQAACNRAAAQJwAAiWMAAPdgAAC7gQAAykEAAJ1+AABgdwAANzwAAIVEAABGKAAAalwAALJUAAA+WQAAJlgAAFVKAAAUWwAAknIAAJVPAAA3VgAAulQAAKJXAABFggAADKoAAJ+5AABDYAAAi2YAANR0AACKOAAAfmUAAKGJAAAQJwAACKMAAFFbAABScgAAWWkAAIN8AABAowAAD6EAAEdIAADjdAAAmVEAANZ9AAACYwAAPnUAAMSVAACzTwAAHGsAAKBbAAAQJwAAECcAAHRlAABIYQAAkYYAAOlVAAB1yQAA2W8AAMc8AAB3dAAAijEAAPJTAAAQJwAAECcAAOOIAAADiQAAZ2YAAAdAAAAxcQAAw2wAAGZhAAAQJwAATD4AAFVSAABvaAAAjIsAANN7AAC\\u002fOAAAPYQAAPuNAAAmYQAAJnEAAD9eAABfSwAAY3MAAH9pAACMUwAAgloAAKGJAAArWAAACKIAABAnAAAFSAAAu4UAANBmAAA1OwAA\\u002fG0AAJmvAADddgAA6FUAAEN+AACdpQAAECcAAGOAAAD2bwAAp5cAAFqsAAAzSgAAIUoAABhfAAAOUAAARj0AAIs+AAAkNgAAVTIAANRNAADCdQAAhy4AAJtGAAAQJwAA1X4AAI06AAAUYAAATU4AAB5uAAB8VwAA0HwAAF99AAAQJwAAqmsAAFg9AADviQAAbXwAACqyAAAphAAAcVcAALFjAADsgwAAfU4AACdZAADfXAAAbl8AAKF3AABadgAATpIAAMF3AABmYQAA47gAADBlAAAoVQAAjY4AAJp0AACaZgAAo18AAJN+AAAqdwAAUUwAANlnAABgkgAAG2wAAGCHAADDYAAA61AAAA14AACDUgAAF2EAANlxAABmvAAANnoAAGmUAAAwdwAAq6cAAH9pAAD5lgAA9WEAAO5mAABePwAAuEcAAAhxAACjaQAAO1cAAJ84AACqYQAA\\u002fDQAAOxmAACxZgAACTQAAMk2AABPbQAAkkAAAJxdAAB6qwAAHj4AAPw7AACpZAAAe2gAAMhvAADVkAAATnMAAL5iAABRLQAAiIYAAElvAAA4mQAARpUAABFHAABzOQAAU6QAAFqdAABdXQAADFUAAOdQAADEcQAAECcAAOWlAAClagAA85IAAAAxAAAfhQAArFMAANlVAAD0oAAAp2gAAEOUAAB\\u002fgAAAfWoAAMBXAADZVQAA6T8AAB2ZAABNcQAAU4IAAFdsAAB7NAAAdUgAAHtCAABtSAAA5kcAAHV2AAABRgAAt58AACB2AADsYgAAszIAAOd8AAB8cAAAg8MAAF2JAADCOgAAiDoAAFRPAAD5UwAAtlMAAP2gAADCOwAA7WAAAENNAAB8bwAA9lYAABAnAAAQJwAA2EoAAFxQAACCZQAARS0AAFc4AABsfQAAR3YAABAnAAAhPgAAYU0AAGOHAACFQQAAYEcAANFOAABhkQAA+2QAALtTAADCUgAA41wAAO1LAAARpQAAql4AABdOAAAQJwAA\\u002fWsAAI12AABPYQAA1E4AAKA5AAAQJwAAYUAAAEZbAABOmQAAekgAAPZRAAAYdwAA7XcAAI6eAAA9dQAAzUUAADsnAADNQwAAKksAANlhAAANcgAAy30AAGl5AADGgAAAXX0AAOdVAAB6QwAA3XMAABAnAAAIeQAAX0UAAHylAABHYAAAEHEAAGV4AAC\\u002fOQAAKDsAAEZYAAAQJwAAV4UAAGWgAADOiAAAECcAAPN1AAAmqQAA3XEAAO6FAACnuwAApm0AAAFqAADzXgAAccMAAA1cAAAbhgAA8V0AAMpOAAAQJwAA+1YAAJaiAABdlgAATFkAABteAADAKAAAfUQAAKY8AADfeQAAFGcAAKCVAAAFNQAAPlsAALcuAAC1XwAAeo8AAD9FAAAQJwAABlkAADNLAADYNQAAk24AAJhEAABJNAAAcX4AAPpiAAAlowAAaZgAAHBpAACZeAAAfT8AAIx0AADSZgAAFFsAANZfAAAQJwAAWYAAAJqbAAAQJwAA304AADycAACkKgAApXgAAAVyAAAQJwAAECcAAJCoAAA0dAAAOYgAALhaAAD5dAAAmEgAAL9SAAAMNQAAGVgAAGCLAADregAAo5AAAPysAAAcXAAA05kAAG9YAACrSQAAgV0AAJlHAACQlwAAqqsAAESbAAAQWgAAC3UAANlOAACXbAAA8UEAADs2AABpOAAAT2gAAMGiAACXbgAAtGkAADRyAAAtLgAAYUAAAKdtAADyvgAAvTgAACmHAAAvfwAAW1AAAI1zAAAfewAAWVUAAEyTAACbRAAAqIkAAM8xAABKRgAAl2wAAEFyAABjfgAAtlMAAL42AABIVQAA90oAAB11AAAnkQAAg3QAAGZuAAAfQgAAU40AAHxQAAD+bAAAOLAAAIM9AADULgAAvj0AAPBwAAA4XwAAhXAAAJZRAAB4jwAAQ0IAAM1QAAB1SAAA43MAAFiDAACIngAAj2MAABZsAAA0ggAAECcAACRtAADeWwAAFC0AADJ0AAD2cQAA2zUAAHV6AACvVgAA82sAAI5ZAADvMgAAB2cAAGRqAAALagAAsUUAAJouAAClkQAA60oAAGCCAAAbMQAAECcAANulAAB3QAAAmk8AABAnAABaRgAAY0AAAFh8AAC0gAAAjDkAAPNfAAAXTQAAk5oAALE+AAAQJwAAaY4AAPN1AAAQJwAA2kYAANJLAACgbwAAoGQAAMZwAACrOAAA+44AANyzAAAQJwAAECcAAKRdAAALqAAAmTEAAM1KAABCNgAAx0kAANM6AAAQJwAA4HIAAMKUAADAVwAAECcAAKo6AAAFVwAAPJQAAJk6AABhSAAATYcAABZoAABMYwAAJE4AADeIAAD6cwAAiIkAABAnAAAymgAAi1YAAPdOAABrXQAAdjcAAFhHAABGTgAAXksAAK0rAADZiQAAAjQAAN92AABZWgAA6ogAAJOWAABZiwAAMWMAAHhQAAAVXAAAlMcAAD88AAC\\u002fbwAATjsAAGRYAAAobAAAtHwAAHdJAABvkwAAiWMAABdNAABOdQAAKlIAABAnAAApSAAAM5gAAGeVAAAqRQAAkj8AABAnAAByVgAAGFMAAKyKAABJcwAAj0MAAP1FAAA\\u002fbAAAjGQAAMuzAADPPgAAaJ0AAH9IAAD4TgAAy58AACtcAADjgwAAyI4AABs\\u002fAADgkAAABYEAAMJKAABbZgAAJkkAAG89AACciQAAoFcAAJFyAABOngAAL3QAAJdgAADrswAAxX4AAK+WAAAQJwAABG4AAESAAAAAiQAAHlQAAElZAACBowAAcYEAADuEAAC1TwAA7DYAANVEAAAQJwAAECcAAAnKAADviAAAvkAAAMKYAADxiAAAzYgAABw2AAD9WwAAKysAAM81AABnfgAA84oAAMJWAAAQJwAAzqkAAEt0AADvQwAAQ8sAAEWpAACjbgAAFmkAAKxEAACXTwAAYEgAAJF8AACacAAAKVEAAFCPAAA8LQAA6FgAANpyAABkbQAADC4AABhqAACEYwAAiIkAAII1AADieAAAYi0AANNtAACJbQAAbG8AAGahAAAbmwAAZygAAMdHAABnWQAAECcAAMM8AAC0ewAAWJkAAIycAAAwMAAArFQAAEpiAABcWQAAuz8AAP9TAACnWwAA2qAAAEUqAAB\\u002fngAAp4gAAACDAAB8LwAAwlwAADpgAABUYwAATFQAAJx5AAAJlgAAqn8AAP9kAAARWAAAU3EAAD+WAADybQAADlsAAFTBAAAaRQAAdkgAACNDAACzTgAAFU0AAFqoAACELwAAS2EAAC+pAAC6PQAAZkoAABAnAADhZwAAbn0AAOB5AAB4ZgAAjVAAADibAAANfAAA23UAABp2AAAQJwAAqcEAAKgoAABuogAAWE8AABSTAAAZgQAAC1IAAO1lAADsjAAAAT4AABlbAAB3XgAAK7cAAO5NAADiUwAAwmYAAKe0AAATVAAAFGkAAJ1GAAAQcgAAOzQAAFR0AAB5kAAAaE0AABAnAADcKAAAgUoAAJlRAABykQAAECcAAPFlAADsOgAADj4AAIpTAAB2XAAAI5QAACZSAAB\\u002fKAAAAUwAAF14AADqkgAAJFQAAEmRAACEZgAAnkUAAOVxAAB8nQAAA1cAAO9qAAChbgAAECcAAOt4AAB\\u002fYQAAlDkAABAnAAA2RgAAoZMAADNrAADjgwAAb6IAACN7AABOTAAAcF8AAPdWAADijQAA0l4AAFJSAACXRgAABCwAAEllAABDbgAADYQAAOGEAABQjwAA30kAAKk4AADYLwAA2pkAABxcAACaPwAAEy0AAHhmAABwgwAAwnsAAJNcAAAcOAAADlgAAB19AAAhUQAAQoMAAFZGAAAhngAAuW8AAGpjAAAQJwAAzqYAANGMAAAHdAAArGMAAKUwAACtVAAAOToAAI41AADiSgAAsIEAAKtoAAD0hAAAA5oAADClAACnXwAAxoAAACJ7AACTSQAAaYcAAJo8AABIhgAAO2kAAE9iAACBTQAA+2UAAPlQAAAIpQAAklcAANE2AACFhwAA5XAAAEJHAABZigAAECcAAKyZAAD8WQAAECcAAIQ8AAAWNwAAOoMAABNlAAB5jgAAa1YAAFiRAAAikgAAA4AAADA2AAA0YAAA33QAAAZ1AABvZgAAcGwAABGGAACQOwAAPWcAAIyrAAAQJwAAVoAAAIGWAABoeQAAfnsAAMU1AAAqTAAAy3kAAH9tAABxKgAAVoMAAAqLAADEYAAAECcAAPI9AACqwQAAAloAAA49AAAQJwAAFmUAAOGDAAA\\u002fWwAAT30AANCLAADzOQAAuWUAAH5kAACYvQAAHDwAAOZzAAAQJwAAgo8AAP6HAABFUgAAECcAABAnAACGrgAAY3gAAPyGAAAQJwAA72EAACNmAABoMwAA63MAAKeKAABKTwAAECcAAL17AAA\\u002fTQAAaFYAACNoAAAtZwAAzG8AABGRAAAkdgAAamQAAI08AACaXAAAAHsAAOpbAAAinwAA2zkAAOJTAAAvmgAAdmAAADJ9AAATSwAAx0AAAFKDAAAVPwAAUHsAAFI3AAAQJwAAP4QAAOFLAACwfAAA3zsAAOWJAAAtYwAAeEoAAJRUAADocwAAOoIAABE5AAC5cQAALioAAK88AACxgwAAzzUAAMxOAAA6hAAAECcAAH56AADooAAASTIAAGZtAAAxcwAA9noAAAdhAACKcAAA3D0AACWJAABiUwAAK4EAAMYtAAC3WgAAQ1sAABiHAAAtOAAAxpUAAGdOAACTWAAAo0YAANF8AAAsRAAAcU8AAK1kAAAQJwAA3HkAAFFiAABSXQAACJ0AAIRLAAC3PgAA86cAAKNBAABiNAAA33AAANRyAAAovAAA5XEAABAnAACiPAAADSkAABJbAACKegAAtZMAAOJ3AABVmAAAeXYAABAnAABBOAAAT08AANtWAACdaAAARX8AALtLAAAhawAAQWIAAOuBAACpXwAASS4AAFxyAAD5hAAA04YAADGoAABENQAAPmIAAHlGAAAQJwAAECcAAAd8AADNcAAAD0kAAJVTAADsgAAAcUgAABw9AABWbgAAknUAABAnAAB4WQAAw2UAAJ9fAADjkQAAkTEAANJJAABQYgAAw3YAABAnAAA9lgAAMFcAAARaAAADXQAA1IwAAJZ3AAASKAAAiocAAOV1AAAVcAAArIYAADs+AACBkwAA6HYAALlkAACQOwAAQH0AAEFFAAAxWwAADTQAABAnAACzfQAAwoAAAJWJAAC0NwAAq4UAAACcAAAQJwAAECcAABAnAABPNQAAECcAACZPAADZmQAAcncAAIl0AAB+iAAAECcAADMrAADbjgAAMkYAAE50AACATQAA9SsAACBqAAA6ngAAJpoAAMB+AAB8bwAAbkUAAKVFAACDVQAA+IoAAE1VAADtRQAAHWgAAENBAAAmXgAAr1UAAFBiAACXhQAA\\u002f3cAAOcrAAAJcgAA3ocAAPWJAAAQJwAAkoQAAApTAADaMgAARnEAAAF5AAA6PAAAzZ4AAKI\\u002fAADyTAAAKH8AALteAADbZgAAxC4AAFtQAAChKAAA+mAAAPGJAACergAAJUoAALhlAAAiYgAAN3cAAMl8AAB0MQAAr7QAAAk2AAAVOgAANHEAAOhPAABQcAAAbmIAAGuMAAA0ngAAHnEAALyMAAA1gQAAo3YAAPqAAABxPAAAx2gAAHZxAAB3KAAAiZ8AAP5SAACNXgAA124AANJ+AAApkQAATZQAABAnAADEYAAACk4AAOpeAACiMwAAfmAAAHezAADJaQAAOIMAAIx5AACdVwAAECcAAP+RAAAQJwAAjl4AAFhCAAAiPgAAIEMAAM0tAAA\\u002ffwAAUDkAANdfAAB2cwAAHl0AAB0vAAABSQAAbn0AAG9vAAAmlwAAgWsAADlbAAAQrwAAxL0AACuFAAAeWgAAtlkAAIqyAACqVwAA5JEAABh3AACzagAAbDEAAB9wAABrZAAAWnoAANxqAAASbAAAH14AANFvAADYKQAAWEMAAJlHAABWcAAAVGQAAGRhAAAQJwAA7FQAAAeaAAB7SgAA+1kAAKJxAAB7eAAAe14AAEFXAAA7MwAAA7IAAK9oAAAdXQAAECcAACKJAAAMXAAAgpQAADo8AAAkZgAA\\u002fncAALRcAABCKwAAd0YAAAowAADgbwAAJ0sAABAnAADbPgAAP3kAABkvAABtdQAANz4AAAJcAABygAAAHlMAACQ\\u002fAADJggAAXDIAANFdAAAOngAAyU0AAKBbAAAHKgAA52gAAKxVAABKdAAA9XYAAME0AAAUeQAAsH8AAOtVAABBRwAAe1AAAOZ5AADphAAAL0wAAIM0AADcyAAA5zoAAI9UAABiZgAA9nIAAO6IAABGbgAAtXoAAFNHAACzVwAAol0AAMBjAAAUMgAAhnQAADt1AACJjAAA0moAAOt1AADxogAAKzIAAIZGAABlcQAAyV8AAHE+AAC7UgAAHVkAAPpkAAAhYQAAjHcAABCWAABCfgAAbGwAAOthAADVaQAAEkQAAMhNAACaWAAA23UAAMhgAAD9aAAAECcAAFtTAADFegAAQkQAAOxzAADInQAA0UkAAGyCAAD2lAAAkqEAANZQAADCSQAArUkAAF9nAAAFPwAAhYYAAP61AAA+gQAAFX8AAKc2AABZRAAAKUcAABNaAAD6igAAJEYAAMVTAADbggAAWi8AABAnAABcRwAAnjgAADB1AACoZwAAlkEAAI2QAADYQwAA5mMAAKdNAACmVAAAECcAAH9yAABmTAAAv20AALkzAABaMAAAt2gAAAWBAAA3iAAAt4UAABAnAAD9MQAAECcAABiEAAC5iAAAl5cAAL9XAAAQJwAA84UAAFYsAAA+WgAAZ5YAAFhXAACzLQAAECcAAKO4AAAaZgAAMl8AAP1TAAC7bAAA5D8AABYnAABhuwAAglIAANOAAABLdAAARZAAAMGBAADNRwAA54AAAKmNAADKggAAAYgAAERzAAAPjwAAoXcAACJiAABFSAAAECcAAEddAAAmggAAECcAADxiAACRNQAA6q4AAAxuAADJogAAicIAANpsAAAJLgAALZoAALNzAAC+WgAAtGcAACZ+AAAkXAAA21sAAPlqAACIaAAAeFwAAPVBAAD6WwAA1icAAP5LAAASZwAAhFkAAK90AACfXwAAUWsAAGyFAADYbQAA7FIAAPGFAACnjgAAECcAALREAACcMAAA\\u002fEsAAOxEAABwggAAmisAAHcxAACkggAAX2kAADVzAAAAXQAASJcAAKWjAACPWQAAhocAAL5+AACtXAAAS1kAAOdZAAAQJwAA4koAADFIAAB5bgAAflAAAPg7AABMPgAAqrYAAHR1AAAQJwAA+jAAAF11AAAGSwAAyHgAAA99AAAyQQAA1FcAAM5WAAAHKAAAI1cAABotAABpLQAAHZAAAElnAABfUAAA7FsAAI15AAAFcwAAKEYAAA5HAADufAAAL20AAEeNAACnagAAECcAAOiCAAC7LAAATF0AAMluAADykAAA+FYAADBkAABWOQAAWF4AAM1SAAAoOwAAPmAAAM9KAADNagAATDcAAP6JAAAQJwAAHpAAAGdIAADUmwAA+TkAAAV3AAC5WQAAvVsAAD40AABkXwAA18oAAHFTAACMMAAAECcAADqFAAAQJwAAECcAAC6JAAD+bAAACIAAAMNHAAChkgAAeDIAAH5AAADrTAAAECcAADdxAAAMkAAAk1MAAANiAAC+jQAALEEAANZRAADqRgAASXMAAEo4AAB7cAAAr60AAIlLAAARfQAAE04AAGdDAAAXaQAA5VoAAEA7AACuiQAA\\u002fJMAADl4AACobgAApzYAAPVfAAAQJwAA4DwAAB5RAAAtYwAAO4MAAFGAAACMUwAAqYoAAMCMAABgfQAAZ0IAAEGUAADwKgAABkMAAINZAAAClwAAWlkAAB1PAAAIOwAAG5IAAPV5AABaRwAAECcAAKo9AAAQJwAAg2MAANNFAABEewAAECcAANBCAAAKVgAAECcAAJJ5AABORQAAV2kAAEsqAADIdQAAAqkAAAJCAADsRAAASX8AAPd5AAAQJwAAQlYAAFo9AACdVAAAaksAADBMAACYWgAAhKcAADdPAAAVRQAAY5gAAI5bAACilAAAlFMAABV\\u002fAABOagAA35YAABJfAAC0gAAAEHwAAForAACnXwAAZl0AAHxxAAB2hwAArCoAAMmTAABadwAA3UkAADt7AAAQJwAAUT8AAG09AACMUQAAwW8AAH5tAAAVqgAAlj4AADSPAACjhwAAuWUAAPpCAABvRAAAU6kAABZrAAAYogAACoAAANVDAABqkAAA7i4AAFVfAACjawAA8osAAHFEAACFjgAAVEYAAJ2\\u002fAAAQJwAAilsAAEE6AADmPAAA3V0AAP10AAAsSQAAo08AALlMAAApawAAe34AAKiGAADoeQAASXcAAKBiAAA4KwAA824AAE11AACZdAAAankAABiQAAAQJwAARV8AAKRCAADciQAAz1IAAARmAAA+ZgAAuYMAAH9PAACwmwAAjY4AABFiAADFWQAAMYAAABAnAABWkAAAQWEAAB6DAACCNQAA+4sAACNwAACQhQAAAVYAAK9sAABFaQAA7TAAANpGAAAOSAAAa3wAAE5wAADpNgAAUF8AAJ2gAACaQAAAfH8AAL4uAACKJwAAP4kAALV3AADkRQAAI0oAAD5dAADMQgAAaGwAAIZUAAAzYQAAW0IAAJVzAAAWdQAARYsAAIJhAADPSwAAU0oAAD5VAAATggAAMEQAACN5AAAEZgAAcm0AAHHKAAAQJwAAw4sAAOBkAAA5YgAAG34AAOJgAABthAAAo3oAACJcAADtYgAAsIgAAHc6AAAQJwAADIEAAPJ1AAD8KAAAXHAAAHWXAAAXtQAA82wAAGpJAAAkcgAAgI4AABAnAADSVgAAzJIAALYwAABsbgAAcMkAAPB9AAAJUwAAzzEAABRkAAAWWAAAECcAAOJQAADMKwAAT1wAABk\\u002fAABWYgAAkGYAAOhHAAB+gQAA92oAAMaWAAAvpwAAOlgAALPGAACdQwAACy0AAFxQAACFdgAAl0wAAHVoAADlbwAAOFMAAECqAACuTQAAzl4AABAnAABAiAAAzGsAAOpyAABPlQAAnpgAALhYAAARcwAAbl0AAKlAAACCPQAAGWcAAIxhAAAQJwAAYUAAAJxoAAAQJwAAJ18AAM1bAAD5bAAAeJ0AAHpXAADrfwAAV1wAAKJVAABtQgAAkkQAAFt0AAA0ZQAA9lMAABAnAACKZQAAB44AAPo7AAAFfQAA6FQAAC6iAAAgdQAAsHEAAIllAACPQQAAk5IAAOpJAAB6VAAAlYsAAI2NAABLRwAAITkAAMRzAABXVwAALVgAABAnAADbUQAAD5UAAMwpAACoQQAA3nQAAPhHAADeqgAAan8AABZlAABqWAAAAooAAI1+AACDggAA224AAExbAABKiQAAgVcAAMVvAAAjVQAA924AAGFVAAAQJwAAM4gAAJuOAAAcXAAAECcAACRgAABQKwAA1kwAAMxYAAAKQwAAH0kAAOVfAAC0ewAAemwAACRFAADCUAAAPmIAAJVTAABKZgAA\\u002fy8AAGaVAAAVhAAAm38AAJJ8AADshAAA6noAAHRYAADYRwAAsVMAAHSMAACIewAAuEoAALVtAACKOgAA\\u002fkAAADFgAAAQJwAAw1sAABAnAADKSQAAi1sAALRWAAAQJwAAMU0AAFFLAADYdgAAkGgAADdaAADXVgAAWokAACZ3AACDiwAAoE0AACVTAADELAAA0mQAAFGFAADTbgAA2V8AAElXAADvRAAArrAAAOd5AADTVAAANGUAABAnAABBigAA\\u002f2oAAK5gAABOgAAAnGsAAPukAAB5LgAAECcAANlrAADZOQAAplkAAORIAABpNgAAdkcAAN89AABFcgAAiWkAAFhbAABydAAAVnUAAGh0AADRUwAABFIAAKtvAAAQJwAAtnkAANFhAAALMAAA2HIAAGpUAAAIUgAAA4QAAOWHAACCKwAAWWwAAL5IAADjQAAANKkAAKiUAAAQJwAANmQAAANkAAAinQAAX0gAAPtOAADedwAAvT8AAK6sAADfSgAA8W0AAAliAACzOwAAECcAAPVHAAA8WAAAEmMAAF1JAABzcQAAECcAACt6AAAujAAAxTIAAIBhAABYgwAA0lAAAN5KAABJUQAAfYYAAA+YAAA0ewAASn8AADJiAAAQJwAAll0AAN6jAAC2VgAAZl0AAMxoAAAQJwAA+2oAAL9MAADxQQAACjsAAKIrAAAyPAAAjXIAABAnAAC1OAAA5JEAABAnAAAJigAAs1cAAJopAAC3WQAA6WcAABAnAAAhbAAAlk0AABAnAAAXbAAAECcAAH2EAAC1gwAAu1kAAFJZAAAFLwAAWm4AAPlMAACsrQAA1VkAAO9bAADLOAAAikgAAPR7AACiQgAA7HEAAG+QAADSXQAA\\u002fjkAAO9VAACzUgAAFkgAABAnAAApeAAAtWIAAHFwAABPPgAA2IYAAOCnAAC4XwAAw10AABhrAAAJNwAAN48AAEuBAAAwXQAAUlwAAFiCAAAQJwAAF48AADdJAACzmwAACkYAAPdcAAATRAAApJgAAOVjAABSewAAECcAANxYAAAQJwAAOF4AABFnAABLTgAAN2cAAPIzAABjUQAA+V0AACY9AADhpgAAQHQAAFE9AAB0jAAAz3MAAJVBAAARaQAAf3QAAOJoAAALOwAAYkMAAFdhAACCYwAAECcAADiTAAD0mwAAU1oAADJ+AABPlgAA2JEAANWAAADAdgAAM4kAAMN+AAD5agAAMTIAAOB0AAA4OwAA+2MAAPVoAAAyhgAARzkAAL6EAAChmgAANLkAAFW0AADaaAAAECcAAFo\\u002fAAByYgAAlYwAAOJPAAAkMwAACSoAAAh9AACfZQAAeLcAAB9AAADtWwAArqEAAGeVAACAPAAAECcAAMdSAABvOgAAPF0AABtbAABreQAAl1IAAINOAABkYgAAFXMAADluAACARgAABnQAACI7AAD8PgAAyUIAAHVpAADdggAANT0AAOxTAAAWRwAAzkYAANhuAABDrAAAoIoAAI1yAAC5OAAA0moAABtmAACfZgAA31YAAB1AAAAUlQAAECcAAFVFAAAQJwAAOm4AAOsxAABcbQAANn8AACdbAAAnZwAAipIAABJmAAAQJwAAXXQAABprAABULAAAhF8AAEVRAAAgVAAA3kMAAHZSAAAWPQAAcGYAAG9HAAA8YQAACi8AAPhvAAD1bAAAECcAABAnAADRdAAAarAAANKwAADtYgAAmnAAABleAADmVAAAkjQAAMpxAAA6YgAAUH0AAHl6AAAVhwAAFlgAAHxGAAA0eAAApnEAAF2GAABheQAAECcAACJMAAAQJwAA\\u002fl0AAN9eAACvRwAAFkEAAIqKAAC4ogAAYmYAAMtSAAAfUgAAlH4AAM+KAACecgAAoWgAAJilAACDVAAAkWgAABAnAADJbwAAr38AAMZSAACxagAAe5EAAKMnAAA9ewAAc0MAAH18AACEcQAAF2gAAPhwAAAlcwAArEgAAGFHAAC\\u002fYAAASnMAABWkAAAAgwAAFK4AAK2LAABVewAAlVsAAC12AACyVwAAj1UAAFuTAACorgAApkIAAHxKAAC4agAAaTcAALtcAACqZgAARV8AAF04AADJjgAAC2kAAGNIAAB6QAAAN2AAAMdoAAChiAAAPXIAAMFFAACDgwAA6ZgAAJ5HAADiNgAAqV0AACpoAAD6KAAA\\u002focAAKxSAAD3XgAAB3sAAPGLAAAfZQAAF2kAABhJAAAgogAAkKwAAPiAAAC0YgAA+mkAAOU3AAD7dgAAeXcAAECCAABEOwAAzC8AAG99AABWhAAA4UEAAON2AAAqQgAAy2AAAEqAAACXSgAASFAAACt5AAD+QQAAOUgAABFPAADHVAAAf34AALtkAADCvgAA6jQAAJaYAADpXgAAMJoAAKxwAABUUQAA840AABAnAAB4LgAAqjkAALljAABlXQAAcFYAAEVkAAAfPgAAwXoAABy+AADJTAAA7DgAALpYAAB+sQAAECcAAIhwAACWNgAAECcAAMSHAAAJigAAECcAAGhAAAAQJwAA0YsAAGY4AAB4aQAA4pYAAHqmAAAIcgAAq1EAAO6GAACvUQAAOlAAAFRFAABfhgAAuG4AAHdiAAAQJwAAwm4AAFZ8AADvhgAAXmcAAD5JAACKfAAAsS8AAM2EAADvRgAAdXgAAK44AACFPwAAE0UAADFqAADzfQAAGzMAAKVTAAABVQAAn24AAB16AACeNwAA+FgAAG5nAAAuSAAAyHgAANRkAAB7RQAAMz8AAAieAADdYgAAZnQAAEM8AAD9cAAAVWoAABeVAACfagAAwV4AAFN1AACbYQAA2ZwAAOt1AACLiwAAQ6MAAHClAAAdbgAAl2oAAIdoAABsUwAACy0AANVvAADvSgAA\\u002f4AAABU\\u002fAAAZbQAAZUAAAE0sAAAdTQAAmzAAAPNYAACHQQAAQJsAAERxAADbbAAAnU0AABebAAC7bgAAmk4AAPVxAAASRgAAxWgAAEZ4AACgUAAAq68AAARQAAAQJwAALYIAABJ+AAANMQAAK2IAAGiQAABzmwAAvmIAAK9fAACOdAAAWWcAAHltAACvhwAAmz4AAFRDAAD6VAAA15UAAKVrAABtMgAAtbwAALgsAAD0XwAAg1IAAMdGAAC0TwAAe1oAAOBnAACXcwAA54MAAHl+AAD8bAAAmZMAADt\\u002fAADRhgAAAHcAAA5aAAC5hwAA+FMAABswAADjcAAAPEgAADJ8AACyYwAAej8AAGeJAADeYwAAi3kAACpHAACgSgAA9XkAABAnAACgXQAAtVQAAB4tAADWSwAAj14AAPuoAACWRQAA+2sAAAFVAABpeQAAFHAAAD9vAAA\\u002fLQAAW04AAEZLAADJdAAAFDQAAFB7AADNlwAAJk4AAK1uAACeZgAAyUwAAKGvAADeNAAAImsAAM+UAAD4awAAy3gAAAKDAADNigAAOzIAAPZuAAA3ngAA7EQAACVYAACmXAAAECcAAIJaAAB9cgAAiWEAADeCAABUNgAAvkAAAP5dAAAiUgAA2pIAAB2UAACYQwAA+p0AAOpxAADybgAAM4sAABAnAABnnAAA+k0AAMZ4AADIYQAAgHcAAI24AABXeAAAPkUAADNhAADdWAAA814AABAnAAD7jQAAECcAAHd5AAC\\u002fZAAAvaMAABIqAAAGVwAArLgAABAnAAAeewAAgkUAAEeGAABhggAAR04AAFN7AADUfgAA1WcAAAJlAAAhdgAAE10AAEZYAAAQJwAAH5EAADd4AACrNgAAUIsAABxEAADufAAATn8AAKWIAAAQJwAAqH8AAE86AADYSAAA\\u002fnAAAIeAAABXbQAA30AAAKJvAADjNQAABoMAABVIAABxdQAA4TcAAKNUAAAQJwAAZ3kAADtgAAAdiQAAETcAAAtcAAAucQAArigAALNlAACqUQAAFZIAAJR+AABucgAAPloAAEmYAABGaQAAECcAAHR3AACUXQAAcUUAANxvAAAAhgAAaVkAACZdAAAsYgAAaE0AAI6RAAD7dgAAoWUAAMlFAACJXQAAR2kAABAnAADXbwAAKToAAPNCAAAQJwAAoU0AAEdxAACqgAAAZzoAAMtLAABEcgAAKn8AAF+SAAB0ogAATT8AAGG8AAD2TwAAECcAAHaiAACvOwAAwpsAALtoAABHcQAAT3gAAAigAABmigAAUmkAAKZtAAB6WgAAGksAAHBCAAACMAAA52cAABAnAACDOQAAykYAAJqrAACtVQAAECcAAL6GAABPWQAA+X0AAA5sAADzoAAAXJ4AAMZWAAAeXAAA0UcAAKNvAAATKwAAy1YAALxcAABWqAAAxWAAAOV8AAAQJwAAOj0AAPF0AAAOQAAAq0UAAFBSAADtSgAAlE8AAGFQAACnaAAApDwAAElcAACSpwAAH2oAAFA6AAAQJwAAyKUAABAnAADzmAAANWsAAP+KAAAIegAAY0gAAOKAAADPmgAAL0UAAHxUAABwQAAAECcAAJCYAAACmgAAuXEAAN1vAAD8UgAAr18AAJk3AAB3PQAA+FoAAAObAABmdwAAECcAABitAAAQJwAAR6AAAAxrAAAZNQAAh2sAALGWAAAeWgAA1IcAABAnAACEiAAA5EIAADFAAADNQAAAAlsAAC4qAAA\\u002flwAAS1cAANlIAADfWAAAxEEAAD1EAACFmgAA4nEAABAnAAAHXwAAn1kAAGhNAADhPwAA8EwAABVdAABKgQAAb38AAIBgAABGiAAAuEUAANdkAAC+WwAAECcAAMZjAAAKcQAAzmYAANR8AABsggAA7V8AAINPAADlYQAAgkIAABAnAADGfAAAqIYAAKtXAADoYwAA2kgAALR9AAAINAAAb1QAAMVXAADwpQAA24IAAGljAABRVAAA+YkAAMw5AABQbgAALnwAANBiAADiZAAAXzgAAOE4AAAUaQAAITYAAJ2CAADXUAAA2E4AANF+AAA5UgAA2jEAAIJSAAB4UQAArlkAAPVaAAAcTQAA0CwAANVqAAAHQgAAQ2EAAE9zAABGQAAA4F8AAMQ7AAAQJwAAECcAALZoAACqjAAA\\u002f0gAAO2dAAAHYAAAAWQAAOqoAABZegAAR3EAACZTAAAbOwAAUXkAALcrAACYowAAvkMAAAAtAABGRgAA9WIAAGREAAAQJwAAuGAAAGJEAACNPwAArjMAAL2UAAD5dgAA28MAAIy\\u002fAACefwAA3WgAAHN7AAA0NgAAxz8AAB1EAACKNQAA6noAABAnAADGTAAA1EIAAG8\\u002fAACGlwAABDAAAFFeAACHKQAAsy4AAAumAAAQJwAAOWsAAI54AACpZAAAAngAAMBUAACGVQAAHUgAAPkoAAB2pgAAECcAANNQAADYrAAAAUYAAIgwAABymQAAHUQAABAnAACxeQAAAH4AAFBEAAD8YQAABWkAAP+MAAAxYwAA0UcAAL1ZAAByRwAAd4MAAJyNAAA8dwAAe4oAACx0AAC+jgAAb34AAAcrAAARSwAAejkAAGU8AABbnQAA704AALJ7AAAyUwAAZVwAAM9MAAD1cgAAfI0AAORfAAAfVQAASIMAAIVuAAC4kgAAYUgAAAR2AADRYwAADSwAAPakAAAhTwAAw6oAADVKAADdrQAAYmMAAMVQAAAWLgAA+lsAANt7AAB9PQAAoHYAALxWAADzQAAA0FIAAIFvAAD+OQAA1mcAAOpJAAB+uwAA5isAAC12AAA4bQAA6WcAABpYAACbWgAA1mQAABk6AABIjAAAKWMAAI9pAAAKKgAAvYIAAOl\\u002fAADbmwAAbGEAAKcpAABShAAAD6AAABtdAAAQJwAAkmEAAAl\\u002fAAD3MAAAECcAABNSAAAtOQAAZjcAABCAAABfOwAAtHMAAE1YAADgnwAAECcAANeVAADhNQAAq2oAABAnAACaeAAAHXIAAE9kAABdZQAAHHYAAJKJAAC1XwAAmmUAAARzAAD1fQAAOVkAAL5HAAAZswAA8UAAAK9+AAAdcwAAuHEAAD0sAADsawAAAooAAA88AADNVwAAECcAAII8AABXPAAA8zUAABAnAABwVwAAkzYAAIVsAAAUTgAACk8AANBfAAAQdAAAnXIAAE5mAADBTQAA7F8AALBwAABXdgAAYIUAAGlaAABkegAAO1AAABAnAADGSgAAYUUAAJ+cAABYXgAAFK0AAGFdAABfWQAAlS4AAC1jAABMdwAAD5wAAOhFAAAwdwAA\\u002f2UAALJRAACRbgAAvGQAANp4AACYQQAA2XkAAEZnAABJjAAArF4AABAnAABCeQAAXHwAAEF9AADoYAAAA0gAABFpAACPmAAAECcAALRrAACjbQAAikoAAHh3AAAYOgAAlLAAAIh3AAA+gwAADHQAAD6EAAAmOgAAzIwAAOcpAAD9XAAAIWUAAG9SAAAIdQAAaUIAALMzAAAOSgAAXYYAAJNjAADocgAAF0gAAIBNAAC0UAAAuUkAADU4AAA2XwAA1bMAAE5qAAC9bgAApZAAAPVsAAAglwAAJWIAAPZbAACbWQAAqzsAABAnAABoYwAAN5YAAH5sAAD9rwAAVWQAAJ8yAADiPAAAczQAAMg9AACcWgAAX3sAAKQxAAB5lgAAh54AAH59AAC6NwAAvpAAAIlvAABEdQAAyi8AAAdyAAD+XgAAECcAAKo4AABiTAAA3ogAAIhaAABIVAAA8VUAAFdmAACVeAAAclUAAGV2AACIaQAAbkUAAPedAADsfwAATDAAALhKAAASRgAAAH0AAIAsAADWaQAAu0IAABAnAACvXQAAf3sAAHSUAADiXAAAgnkAAPs9AACwVQAAuLIAALpaAABHfwAAHXAAAAc3AABnigAAf0EAAMKWAADTZQAA0mEAAGFqAAC\\u002fZAAAU1EAAENoAADYiAAADHUAAIoyAADeXAAAgy4AAEFMAADrVQAAclEAAHgqAACbQwAAblUAABAnAABVOQAA71AAAApPAADlcAAAlFkAACJnAAAQJwAAJJcAABefAADIfgAAwnIAAHVbAADZUgAAgm0AANFSAADTTgAAECcAAFFvAAD7TAAAe2UAABp\\u002fAADTbQAAz24AAAlaAAC1YgAAHUgAAIU+AACpNQAAZlQAAFwtAAAzdgAA13UAAJ9YAAAaagAAECcAABAnAACaVAAAECcAAN54AABMYQAA\\u002f1UAAKiCAACBdgAA2oMAAMlEAADlRQAAuUoAABGQAACOeAAAMEIAABAnAAAtSAAAGFIAAFE9AACGLQAAECcAAOhUAACCSAAAECcAAHgxAAAOUQAAHlcAAFdnAADjVQAAL2oAAJlNAADmcAAAEXcAABSUAADGMQAAJy0AAL5yAAC8bwAAc3kAAKVeAABLrAAAP04AAMtVAADzUwAAjEwAAKeTAAAlmgAAN2IAAGCfAAAMjgAAiWwAAMlvAAB6XwAAo5QAAKs1AAD+XQAAE1AAADaUAABQdQAAECcAABAnAAD7RQAAnVIAAM9DAACDZQAAyTsAAAuJAACjsAAAOEgAAJ9+AADYbwAA8IgAABAnAACrpQAAZrkAAAxgAADOdgAAAiwAACmdAAC\\u002fRgAA2H4AABAnAADQQQAAZTkAABAnAAAQJwAAbi8AAEZsAAAQJwAAW1sAAPtWAACqUgAAvlcAALRnAAC1JwAA1WMAAFWKAADXmwAAVUgAACIpAACMpAAAc3MAAJFHAABrhgAAzJsAAKlGAAAEpgAAyp8AAI5eAABQKwAAaJYAABeMAAAnQgAAiysAAFVPAADudwAAIUoAANpiAACcSQAAw0cAAOGTAACfWAAAdTwAAJ5wAACtdwAAsTYAAPGAAAC1kAAAr4IAAKsoAAAzKwAAfEMAAEqNAAB8cAAAAlEAAHFlAAACOwAA+IwAALVfAADfYgAAbmQAAFqBAAC4kgAAZmsAAD5oAAAsfAAA1FYAAKh3AABRjwAAjnEAAHrGAAAYKwAAR3AAAIF\\u002fAAAziQAAai8AAD6XAACqiAAAmUwAAAtqAADwXgAAECcAAKR4AABkYwAA9ogAAOVGAACXdwAAZnQAAHmNAABmXQAAnHUAAIA7AACagwAAVUoAAKJaAAAQcgAAxX8AAL1xAAAQJwAAD38AAN00AACkYAAA2jEAAMqNAADhaAAAoF4AAOdXAADbagAA7EAAAL9JAADVUQAAjU8AAJR1AAD2eAAAq5MAACSTAAB3fgAArzMAAK2DAACxZQAAf4AAAAFbAADDcwAAI00AAPFKAAABXwAAjzEAABAnAADCTAAAoDwAAESZAADOdQAAPUsAABAnAABGYwAAX0oAAHRPAAChWgAAz1oAABAnAADrLQAAPzYAAAZVAABFLAAAT3QAAJYyAAB6KwAAGWMAALNjAAAxkAAA+TsAAEJ4AAC9vQAAECcAALtOAAAQJwAAxJQAAL1hAADNlwAARVkAAPN4AACrQgAAUjYAAChiAAA5aQAAcWAAAH+HAAB3MAAAgrEAAOVOAABIxAAAn3gAAFaVAADBfAAAYmgAAM5FAABcSwAAd3QAAD9HAADkRgAA11YAABAnAABVPAAAYksAAJ5vAABDVQAAECcAALCTAACXogAARFkAAGN0AAA6hgAApGgAAGiAAACWLwAACF8AALN0AABDSAAAKJUAAD9tAADyOwAAxZUAABCJAABOZgAAOlMAAMWtAACkqwAAm5EAAARaAABjmgAA9XAAAFlPAAA\\u002fdQAAbCkAAKSAAAAnsAAASW4AAJRzAACbSwAA\\u002fjUAABAnAABFKgAAcVYAAKs1AAAbtQAAyGoAALhWAAARVAAAcWoAAOGIAAByMQAAECcAAF5OAABnUgAA7GgAAKtNAACwbwAAWUoAAKE3AAA4ZAAAV0IAABh8AABpjgAAY3YAAMNlAAD1bQAAK20AAKVQAAA3OQAA94MAAG2vAADihAAAECcAAGl6AAAIWAAA6pkAAA5eAAAWagAA0VkAAEBAAADVWgAAECcAAOiGAADViQAA5JwAAJV6AAC+cQAAjikAAGlkAADtowAAmk8AAGBQAADFYQAAzosAANp0AACSZwAA1a4AAFRCAACpUgAAGVgAALycAACbTQAAOkYAANZuAABChQAAzn0AAHkvAAC+ewAA8G8AAKyVAACsYQAAeUkAABAnAAAQowAAXqsAAHZFAACfUAAAHEcAAFZ+AADrXgAAXWsAAFg+AACtgAAAk40AAN3DAAAobgAAECcAAH1EAADRRAAANGsAADx2AACLYAAAnGcAAJBzAABNaQAApW0AABAnAADehQAA8YEAAEhpAAD4uAAAVXUAAGI7AAAmdwAAqmMAAFpEAADMvQAAVEoAAMmWAAD6QQAA2E4AADo7AACRSwAACV4AANl2AAA0TQAA9ZAAAG5mAACmRQAAxUoAAIOOAAAQJwAAMZIAANioAACqLgAAKl4AALmQAACVUAAAV14AAHRgAACFjQAAwm0AADBHAACkuAAAYlYAAPJQAACuRgAA0ksAAIkqAACtPwAAsFIAAKaKAAAVgAAAI4sAAONyAABemAAALl4AAOeVAABTdAAAaIAAAKx2AAClYAAA6UwAAF9oAAB4iwAA6TUAAFCmAAAFPgAAW3QAADQuAAAQJwAAkDUAAFdMAAAQJwAAMbUAAOFcAAAQJwAAT2oAAHx8AACEhAAAL5gAAIgyAADClQAA0m4AAPFgAADYWgAAFzkAANk2AAAeOgAAY2gAAM9WAAABRQAA5nkAAAgwAAC3SQAA55gAAK49AABAtAAAGLAAADtPAAAQJwAAoX0AAOlNAAAMaAAAMn4AAN1XAABXUAAAfygAABAnAAB2kAAAT10AAKtmAAAQQQAAECcAABAnAADhWQAA3I0AAKucAACTfgAAuzoAAFFiAACXsQAAC4AAABAnAADOgQAAQVEAAA6GAAAUVAAAqVMAAEuOAACDVwAAnEEAAEJrAACmSwAAjHQAAD2GAADWQQAAwVMAAANdAACWogAAjkwAANOcAACINQAAMnEAAL5fAAC9bwAAHaIAAIJOAADWrgAAO3kAAONbAABfRgAASl0AAL0+AACDdAAAYokAABAnAAADqAAAYlQAAERwAAAKZgAA9ycAABV8AABZVgAAnoYAABlqAADRggAAoGYAAOx7AADyiQAAeWoAACaJAACPTQAA8W0AALeQAACkVgAALKYAAN9KAAD3mQAAij4AALF4AADQKwAAE2MAALyFAAAhnAAAi4cAAPRtAACGQAAAI6IAAI8oAADjQQAASnEAAJygAACsQAAAxHAAAAxTAAB+VQAAc30AAB6BAACiQwAAwU4AAM5gAAC9dwAAoU4AABAnAAB0PQAAuzcAAMVkAAAliAAAwlwAAMg1AAB+TwAAk1MAAKg+AACgtAAACFkAAKiBAABVSgAAvnoAALOqAACgYgAAslUAACdYAABqYwAAP4gAABarAAAQJwAAtYQAAB1IAAA\\u002fRwAABz0AAB8oAAAJdgAA9mIAABV8AABvbAAAFEMAAHw5AADbOQAAn1sAAMF9AAC+eAAAnTgAABxOAAAKrwAASGMAACCCAABzawAAECcAAAJLAACBSgAAnFcAABNGAAA4ngAA5lkAAEpmAAAqVAAAkn8AAGhzAABLTwAA9pEAAIhlAADKngAAM5gAANo0AACPvAAAnGQAADSaAACGkQAAdZIAALRNAABcagAAQKUAAB9FAAAxfgAAjyoAADacAAC\\u002fXQAASkIAABVnAABqSwAAepIAACs6AACYSQAAiF0AAMJqAAD4iQAAzzcAABgsAAD4ngAAsWsAAOBTAAD4dwAAtIsAAHBXAAAyQQAA+ngAAImwAADDUwAAjlsAAFJTAABrZwAAvLAAADlqAAC7XAAAaacAAOKMAACGVQAAECcAAESQAAAXRQAAZ4YAACtFAAAXTQAAbnEAAL5MAACPmAAAnlUAAF1rAAAyXQAAqmQAAA2JAABRXAAAAF0AAMtvAAAQJwAAZlUAACdnAADvxwAAECcAABAnAADSggAAclUAAHCBAAArQgAAL4sAAE+PAAAQJwAAnTIAAO5lAABFcAAA2WAAAEBkAAC9iAAAMisAAKC2AACBZAAAT0sAAF0yAAA6lQAAc48AAC0\\u002fAADhigAA6ToAAGhLAAAxNQAA6GoAAOBoAABJdgAAInwAABAnAAAtUgAAqVcAAD2AAAB4WwAAOVIAAM+lAAB1fQAAgp4AAHlwAAAkfAAAMFkAAHVLAADTdQAAxCwAABAnAADwhQAAk28AAEowAACScwAApoEAAMItAAANXQAAUW8AAIG5AAAIXQAAzmcAABAnAAAWYwAA+C0AAIkzAAAQJwAAECcAAAFpAAAQJwAApI4AAKl1AACXUQAAuV0AAIaNAACHOAAAECcAAKwrAAA6jAAAoz0AAAZmAABtawAAqz0AAN9QAAAQJwAA0GYAAFVyAACDaAAAbl8AAMdQAABDUQAAECcAAGdCAAC2YAAA5YQAAPxFAADpfQAAWYAAAFRnAABkuQAANn4AABNCAADBPQAA3XcAAINTAAAmdAAAECcAAMdBAAC9ZgAATHYAAGhjAADEQQAALJ0AACFYAAD5SwAAX3AAAHxiAACpWgAA30AAAE9lAABPOgAAcy4AAJ9kAABXSwAAMTYAABaDAABLkgAAWUgAAEh+AABBgAAA0C0AANxqAABVcgAAECcAAIRdAADucgAA2HIAAJhkAADihQAAk1gAAA9GAAC+TgAAv3UAAPSUAADeUgAAkFIAAB93AACXlQAALlIAABE7AADkVwAAqysAAOZaAABqQQAA3UcAAItlAAAQJwAAVnQAAOmXAADGUAAAW5sAAEdaAAAyUQAAzDkAAJ2IAACAQAAAgGMAAJJhAAC0nQAAHicAAEaLAAAFdgAAClQAABSLAACMZAAA4pcAAOeJAACHXAAAZGsAAO11AACPXQAA5H8AACBrAACtSwAA508AADd4AAB\\u002fiwAAGmUAAAtUAAAEYQAAh1kAAF1\\u002fAADaSQAAkaEAAG5LAAAQJwAAa10AAJRAAAA\\u002fRwAArWAAAHFPAACnYQAAF2oAAFBbAACMaQAAdX4AANqEAACLNwAAkIAAALg7AADiUQAALlcAAGhPAAAKeQAAiYsAAH5lAABIiwAAFpMAAIJxAAAQaQAA+TgAAPpbAAAzkwAA2XAAAGcpAACXQQAA4IEAAOKsAAAQJwAA2lMAAOVMAAAqcgAAD2YAAPw8AACjiQAA60sAAJGlAADoUQAAME0AAJiFAAC3OAAAwYAAAKCVAABqTwAAECcAAOVxAAAuegAA15YAAFGWAACjRgAAmm4AAF6OAAAtVwAAqWkAANx6AAAsQQAA7ogAAM2HAADnhAAAa14AAMG+AAAQJwAAnj0AAIZ4AADxRAAA92EAAC2bAACCYgAAs1IAAPI2AAAWkQAAQE0AAMhuAABxXQAAZ34AABAnAAAsLgAAqToAANVxAACxcgAA1H8AAEpgAACWfgAAECcAAM5uAADCbgAAq1gAAAmoAACuhwAAClwAAKGKAABrfgAAL2YAAGlfAACBMgAAom0AALSKAACXlAAAJ2EAAFFfAABCVQAA9r4AAM92AACknQAANk4AALRgAABwPwAAunQAAJVgAABDngAAm0sAADpeAAAHXQAAV2gAAN40AAD2UgAAE3QAAO9vAADXWAAAJD4AAFJ+AACslwAABUUAAPhmAABfwQAAAksAABdOAADYVQAAna0AAEtZAADjowAAlT0AABZBAAAQJwAAflsAABs9AACJiAAAFksAACNiAADtcgAAMo8AAFSxAABvQQAAAyoAAHI0AAAjXwAAdWsAAOpwAADlcAAAnFUAAGZEAAABWAAAKlkAADqGAACzngAAppgAAJdUAABpeAAAC3EAAPU3AAC0cAAA9UEAAE97AAAKrwAAfUAAAG+0AADSLgAAPJMAAGdHAAAUOQAA7HUAABMyAADVVwAASmkAAMW7AAAiWAAANVgAAGWJAAAQJwAAb1wAAD1FAAD4MQAAUCkAANyzAABXXwAAhkEAACRWAAAXnwAAOFsAAJ6jAADjNgAAD5wAANIvAADnfwAAtmwAABAnAAA5XgAA+WwAAAGEAADOMwAAdCoAAKSMAABemgAAECcAAO5MAADMRAAAyKgAAMt6AAC9iQAAwmIAABAnAAD1gQAAUHEAAGFXAABpOQAADjYAAAaHAAAOZQAAI2UAADg6AAAQJwAAhVoAAA5LAABMkgAAz48AAIabAAAQJwAA62sAABCOAAAtegAAHT0AAGBHAADXQAAAs4sAAJ9qAABmXwAAe5QAAABqAAAENQAAB1AAAC98AAAQJwAAmK4AADdfAABefgAAwo8AAPRZAAAQJwAAWKEAAFFNAAAQJwAA0XMAAGdxAAANRwAAbUIAABAnAACNMwAAw2cAAKeFAABQcgAAB5cAADllAABOugAAJUoAAJczAABfeAAABIgAAEdRAADeYgAAYV0AABdGAABRigAAMlEAAFqdAAAyfAAArmEAAJR5AAA+aAAAECcAAC1XAABCVgAA7DkAABAnAADgYAAAwGcAAKaQAACbQgAA+VcAAP9dAADffAAAO6QAAFdgAACpSAAAkIMAAHNFAAAlhAAAVnIAANpbAADEXQAAh5cAAIFuAAAROgAAECcAAMpvAADFXAAAEV0AAGipAAA7egAAEDwAAEZQAABUNAAAhWEAAP9mAADBUQAAOZUAABVfAADVTgAAr2QAAGppAACNPAAAiVYAAJJvAACMcwAAdkYAAFxYAAAZUQAAT2wAAOk\\u002fAACUKQAAECcAAH1+AAAQJwAA\\u002f3UAABAnAACCcQAAtlEAAF1PAABvlgAAQGsAAD89AACXkgAAtYwAACSGAACUWAAAAFsAADRQAACqigAAwn4AAPQ7AACIfgAAwaEAANM7AAC5ZwAAhVUAANQ\\u002fAABvRAAArHUAACs0AABjgAAAQowAAI93AAC+ggAAbEoAAG4oAAAQJwAAmWQAACWGAAA9iwAAm4QAACmKAABzWAAADYAAAE9sAADGPQAA\\u002fIQAAAF3AAAzXQAAo0EAAEh7AAAQJwAAPl0AAMN3AADJVAAAECcAABAnAAAScQAAECcAADttAABIZQAAZHQAAOl7AACcYAAApYkAANqDAACUdAAAECcAAO1IAADAkgAAhFUAAG83AABprAAAHVgAADGLAABvlwAAVEwAANqPAAAUZwAAAzEAAJl3AAADhAAABEIAAEOjAAAceAAAf0oAAOalAABcTAAAcm4AALqHAACcaAAALq8AALOkAAAsUQAAF1EAAPSEAAAAOwAAEW0AABRzAABMbQAAvHcAAD13AAALRgAA80EAABAnAADNXAAA93IAANo2AABjKAAAxHIAAGBYAAADZwAAEX4AAIlXAACHigAAHmUAADdmAAAQJwAA0EcAAD5+AADONgAAqV0AALFkAACvTwAApkUAAH5ZAAAQJwAAjW8AAECrAAA3jgAAmisAAEt2AAABLgAANKAAAD2mAACPdwAACFsAACpmAADorAAAu3cAAHxZAADpOgAAv4gAAEZoAADgZAAAPmoAAPsxAABNeQAAlGEAAKCsAABtRAAAECcAAD6mAACQLwAAZWEAAF4qAACKTAAA\\u002fJ8AAAuZAADHewAAQ0EAANxtAAC3hQAAITUAAI1\\u002fAAB7VwAAo0kAAASWAAAfqwAAlYwAABAnAADiZAAAXmIAAE1kAAByNAAAT18AALw9AAB8jwAApWgAAD1wAADRVgAA91sAAFc9AAAzPwAAr0UAANR1AAAQJwAAlzwAANaLAADwYAAAh0sAAKgrAAAraQAARScAAKdpAAAMmAAAiTUAAFBcAADTcQAAJJYAAEhaAAARawAA7VwAAGdEAACcbQAAP2cAAMwtAABCmgAA6E0AAMZkAAC7fwAAmmcAABAnAACyMgAA1lIAABAnAACucQAA4HAAAC+ZAAAplgAApG4AAAx5AADKagAAEy8AAIc3AAB2LwAAfIwAAOJbAAAwUQAATS8AAKpdAACKogAAi1AAAIpTAAACSgAA5lAAAFN8AACOYAAAP18AALFIAACOdQAALVAAAIdKAAASggAAmawAAFw6AAAQJwAAi2EAAGNxAADfXAAAECcAAFJZAAA3owAA2DsAABMwAABRYgAARL4AAI1yAAB5bQAASW4AABJVAAARbQAA\\u002fksAAEdTAAAQJwAAZTQAAAY+AAByewAAmZwAACBkAABmWgAAkTQAAOtnAADrjAAArHgAAHBwAAALMAAAe1YAABlMAADZmAAAECcAABFKAABYSwAA6HEAAGCLAAC+LwAAK2IAAEBAAAC8fwAA1qQAAA1sAADqhgAAGHMAAHBgAABpbQAATpcAAGZsAAD9bAAAq1EAAD6mAABxRwAARpAAAI05AAB5XgAAb7EAAG1yAACXdQAAzkMAABAnAACiQgAAT4cAAIlzAAAQJwAAUE4AALObAADoggAAMD4AADlUAACaZQAAvUgAALFeAABBKwAABUwAAMdiAACIZwAACXUAAIwxAACuOgAAgq4AAPGFAADOgAAATVIAAIVjAAD2QgAANIYAAC05AABAYAAAECcAALMnAABIOQAAWjYAAJ84AAAaUAAA4XMAAJVYAADkYAAAyT0AANytAAARmgAAP34AAPpBAABUfgAApX4AAGJIAAAKiQAARE0AAAeKAABUPQAAr2MAAN9LAAAQJwAA\\u002fEkAAKYyAADgRgAAaWAAALlyAAClqQAAdHUAAMxzAACBRAAAvWkAAAd3AABhkAAAZEgAAJBsAAAVlwAAFH8AADZcAACaSAAAXYsAACVJAACwSAAAxWEAAK5qAACFmgAA+TwAAKIsAADwUAAAECcAAPUrAAAHhQAARakAAO9FAACsOQAA2pwAAHGrAACEXwAAY24AAF1eAACyaAAAW2wAAEmBAAAUZQAAW1sAAO2qAAD4dgAAaVkAABunAADYQwAAY14AAHpNAAAhTwAAfjoAAPs7AABINgAAujUAANuFAADCYAAASDgAAIZ2AAAQPQAA3TQAAJqdAACBlQAA\\u002f4QAAHmqAAC3VwAAEk0AAId5AAAVegAAA3kAAICiAAB4fwAAmFkAAOxuAABhOwAAqmkAAMRjAABhbwAA9F0AAOJcAABSPAAAOWQAAA5wAAC9nQAABFIAAOJOAAAjeQAArnoAACJPAABaPQAAF0MAABIxAADNYwAAECcAANNPAADDVgAANkkAABAnAABAUwAAHoYAAB9tAAC7WAAARE8AABTKAAAxngAAAHoAABAnAAAhYAAA40MAAM1tAABaWAAAxVoAABAnAAATVwAAXE4AALypAAAJMAAAzU8AAC+xAAAwOgAAZZEAABAnAACjZwAAQVEAAAtOAABrfgAAECcAAMdCAACbjAAAai0AABlcAAAudAAAmTQAAPd8AADVeAAALloAAH9RAAAQJwAA4zgAAE2IAAAJjgAATVwAABiMAAAucQAA2XMAAA5LAAD4egAA1FQAAKuFAAAiWgAAGmUAACapAABCUAAAEC8AAA04AACcUQAAaH0AAAeHAABKjwAA4DwAABAnAAB3WgAAg2AAALNuAABIYQAA\\u002fi0AABAnAADjfQAAaEQAAF9oAABvOAAAlXIAABRaAADjqAAA40UAAAdwAABtWwAAS44AAH1uAAA6eAAAECcAANKRAADIqgAAAUsAAGiFAAApSAAAdi0AABAnAABaawAANFMAAPZmAABbPwAA6WcAAIdMAAAwoQAA5UsAADg0AADGTgAAz5IAAFp3AABTfAAAz04AAEh+AAAedgAApYsAAE5HAAAQJwAAvWwAAPFmAACWaAAA4WYAAC9FAADbfgAA61oAABAnAAANigAAeIsAAEcpAAC5nAAAwmsAADebAAAQJwAAJ0QAALN0AAAQJwAA1XkAAEp5AAA+eAAAIDgAAMBwAADvbgAARYsAALaHAADSMwAAqz8AAMVzAAAjRAAA5SgAAOxlAAChdAAAS3YAAB+EAABagwAAsYgAAG\\u002fIAADsZgAAFqwAAJV+AAA\\u002fXwAA1VEAAGxJAADekgAAr04AAPV1AADlUwAALDkAAP9IAABWjQAAI0YAABAnAAD1agAAqz8AAPJNAADzggAASIUAABRtAACgQwAA4IQAAMhrAAA\\u002fUwAANUAAABWUAAAKhQAAUUkAAIFaAABlbAAAeisAABAnAADfNQAALaUAAIFBAABKoAAAu4wAAFyhAADMaQAAnnAAACxMAAAxcAAA0zcAAMhoAADBggAA2EAAACOaAAC1sAAAECcAAGRfAACWVwAA+ScAAJKpAACHeAAAXo0AAJmDAAAhOwAAvX0AAClsAAAETwAA9TUAACs1AADJVAAAhWMAABqdAACjZAAAR2sAAM2LAAChNQAArWEAACKoAABiOwAAw4IAAL5uAABgYAAA+0YAANZCAABVTAAAjEUAAG9hAACZcQAAlDkAADZiAACveQAArYsAABmFAAAGawAAL4kAAI1ZAADxhgAAD2YAAEGwAADtWQAAECcAAAVtAADXZQAAV2gAAO2PAACCaAAACX4AAFNHAABTLgAAuk0AALRQAADnhgAAibcAAKZNAADeTgAAr3QAAARTAAD1TgAAomcAAKaAAAAhXgAAECcAANpcAAAWdQAAmJEAAGYoAAACiwAA+W4AAM9pAAA8iAAAdIEAAGdeAADVlgAAyG8AAKFNAAB1bgAAQZwAAPp7AADokwAAnHUAAJZ9AAAWZQAAFK0AAGZcAAC+cQAAFVsAAOugAADWPgAAVk8AAGZ8AAAQJwAAfn8AAFJlAAAzYAAAEa4AAHFLAAAPrAAAIj8AABxpAADjXAAA9kcAAKJyAAAPXAAA7HIAACN1AABlcwAATpgAAEtiAABhMQAAajkAAJ+XAADPgQAAAUsAAI5MAACwMwAALHsAAPGrAACojQAAhT0AAPVVAAA3cQAAv5QAALmRAAA2egAAj1IAACM2AABDagAAhG4AABAnAAD\\u002fPgAAZHcAACRbAAD4bwAAe2UAAKs3AACzKgAAECcAAPQpAACUTQAAiDcAAGE4AACweAAAuHQAAPtkAADzUQAABmAAAHExAAB6rQAA7XUAAOmYAAAQJwAAG4UAAKlyAAB0YAAAVz4AADRRAADTSgAAYkMAAAlaAACpSQAAECcAADxWAAAcbwAASEQAAOvAAABeUAAA1FEAAKWGAAA8TAAAS0MAADhLAAD\\u002fQwAAFYgAAEY7AABkZgAAjWAAAEYsAAAQJwAAGUwAAFlFAABALQAAJmAAACNkAABgSgAAKmUAAMVLAADvpQAAEVcAAHN2AADcOwAAQ3QAAAxMAADYoAAA7pcAAE5SAAAQJwAAVXAAAI13AADQWAAAgEgAANJbAADXcwAAhZAAAAVWAACZoQAAKTsAAEq\\u002fAAAQJwAAdk4AAOZ2AACljAAAY0kAAH2JAADVdAAAl2EAAPx9AABmKwAANpMAAHpSAAAdWQAAyFsAAL2PAADEdAAAM20AAERbAACVYAAAe0YAAEN\\u002fAAC3RwAAMH4AAFk0AACJZQAAdFwAANCLAAB\\u002fbQAAgVsAADhQAAAKjQAAyk0AAM16AABnOgAAN20AABAnAACUPgAAP1YAAHAvAAAYmAAAuaMAAD0yAAA8eAAAxEQAABAnAAABbAAAECcAAO4vAAAQJwAAX0MAAKWFAADZWgAAhVAAAO9gAABjUQAA6lcAAL2IAABQTQAAH3sAADpsAAA2QAAAK2IAALBKAAD8pgAAP3MAAFhtAACUXAAAtToAAM1PAAAglwAAxTYAAC23AADzOwAAKogAALSCAABOoQAA6U4AALlkAAAQJwAAjn0AACJpAAAuNgAAv0UAALZTAAB5jAAAbzoAAL1tAAAKawAAmXcAAL2nAAAsWgAAq4QAAEWbAAAQJwAAzlkAABAnAAB+dAAAazIAAK1cAAA6dwAA7lQAAGaYAAD+jAAA83UAALNTAACHVQAAFHQAAPNaAADEfwAAw4EAABAnAADeQgAA168AABAnAABaeQAAcm4AAEqOAACEcwAAxygAABAnAADuPAAAKDMAAJZKAACvNAAAaI0AAP1VAADaZwAAxXwAAI5BAAAQJwAAXqoAAB2OAABvowAAx1YAAH+eAAAQJwAA2XQAAM90AAD9awAAnmcAAMxLAACXXwAAEmgAAA+BAABqVAAAL1YAADJ+AAAcdQAA4mEAAMs8AABeWQAACIIAANtjAAAHQQAA1rIAACOEAACEeQAAc2IAAFyaAACEOAAAD0QAACR\\u002fAAAwlQAA01QAAL8rAAAoXwAAdm4AAIaVAAC8SwAAv1QAAEuNAABnlQAA1lIAACNFAABBawAAmEgAAPJ7AACjSAAAm3AAAB9nAACFXwAAc10AAAeRAABCSQAA4TcAAFdnAABWOQAAoZUAALB4AACzdQAAmzUAAAU8AAAXdgAAjl8AAEJWAAAQJwAAbEIAAH9hAAABXwAAaooAAG14AAABagAADZ4AAGNrAAA0agAA3HQAAECFAAADpAAAqYgAAANfAABaSgAAhjwAACtBAAADPgAAb3AAALdQAAANagAAm2QAAERjAACOWgAAnIYAAOVNAACSUAAASlsAAAF3AAB5rwAASsMAAHZSAADGpgAARC8AABAnAAD2ewAAmFAAAHBdAAAoeAAA5VYAAB9KAABlcQAAND4AAFdjAADdXQAAkXYAAH1JAADZVwAAeIMAAKk6AAArwQAAhHYAAMqOAAARiAAAECcAAFl2AADqaAAAHG4AAJM6AAAdZAAAmKkAAE48AADpbAAAC5AAAHNgAAClPQAAJGEAAHlRAABJXAAAZUUAAG1SAAD9pQAA6VYAANN2AABliwAAgH8AADtYAACGdwAAXF0AAL6NAABLXAAAgzoAAGk4AAB6dQAAcVkAALdrAADdfQAAx2kAAP5DAAAPWQAAQasAAOZ4AADuXAAASScAAICJAAB2hgAAQVcAAGxlAADdRwAAp1sAAPxsAAAXXgAAgIkAAGRvAABYVQAARZcAAFCyAAAQJwAAg5wAAG1QAAAmVAAAtZAAAL46AAAQJwAAECcAALdYAADRZQAA0lkAALxLAAAwkQAAU1AAAO49AACjkQAAyowAAGJ7AABSRwAA5kIAAGWDAACnbAAA000AAF92AABcNgAA+UcAAEGSAAAzggAAWpgAAKx9AAAtcQAA+WEAAGApAAAucgAA9WUAAAOGAAA9gQAAsTAAAKNjAADohQAAECcAAO1iAABdagAAECcAAH1VAABIegAA9y8AADyBAABQjgAAXIAAAKJ0AAB2VAAAlpoAAFyPAAAQJwAAd1MAAKZkAADMiQAAd20AAI9sAAB0hwAArZwAAOl2AADwqwAADXoAADw6AAAEdQAAknQAAPlmAAA6cQAAXUoAAEN+AAC\\u002fQwAALlMAAO1EAAAWUAAAp2YAAPGJAACtYQAAP1EAABAnAADfLQAABYQAAB1mAACKbgAAVz0AAP0nAADHdAAAFJ4AAI45AAAQJwAAp50AAOk+AACHnwAAgYoAAAuOAADuRAAAY1sAABKAAAB1ewAA0VUAAEZ6AAB9fgAA+WgAAEhaAAArqgAAECcAAPM7AABakwAAO2oAAHFWAADWbQAA3kUAACB5AADtZAAAG3sAADdOAABlcwAA72sAAEFZAAC1iwAA3W8AAI9RAAC0YgAAbFkAAKVvAACtugAAXmEAALWrAAAqoQAACV8AAAVjAACXhgAA7F0AABAnAAB7ZQAAum0AAJZ3AAAqQAAAWFsAAKtFAADHVQAApT0AAKSCAAAQJwAA8XQAALltAABROQAA+3AAADN8AAApeAAAZz8AABAnAADueQAAki0AABFFAADXLwAAGlUAAG5ZAAAQJwAAC30AAFNkAAAVaQAATF4AABxvAAAcbwAALFUAACuWAAAHWQAASkIAAD93AABHsQAAZFEAAIFGAABmKgAAhFkAAKk1AADBbQAAJFQAABAnAAAfVgAAb0IAAIx4AAC\\u002fVgAAFkcAAIaFAAAwPwAAVFQAAMVJAADSnAAAZzwAAJRtAADtOQAAECcAABAnAAAQJwAAU1YAACNkAACWeAAAYlgAANVTAABZrQAAIy4AAEFYAAB4bQAAdqIAAIBIAAAwRgAA7U0AAOxlAAApngAAYmAAAIFNAAApTAAAsGYAAIKGAAClRwAAk2wAANxtAADbcgAASkAAAOSmAABriwAA42sAAMtqAADOZQAAw40AABmrAACQhQAAqnMAANVUAABTdgAAECcAABAnAABZawAAnFoAAKNZAADEdwAArz4AAIcpAADFbAAAvE0AAAZtAAATVQAACjcAAPJPAADqSgAAT4MAAC1eAAD2egAAG4QAABw0AADmaQAAGIAAAJBjAAAfLQAAaWgAAFUzAACLUgAA1VgAAJmBAAC2YwAADn8AAJt9AAAVTQAAIJkAAPVOAAC\\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\\u002fUwAAQUEAADKSAADlWAAAECcAAHx0AAC4XQAA40QAALZyAACxYAAAJZsAAK5kAADTlAAAXT0AABAnAAAQJwAAqDQAAM5WAAAOiQAAFJsAAOtkAABOhwAAVH4AAMdMAAC2XAAArJYAABAnAABJRwAAaFoAAGRbAAA9fQAAbHQAAHCcAACTYwAAIkUAABAnAAB8qwAAECcAAO1FAAAQJwAAV1YAAFlVAAAKaAAAGHkAANqsAABhmwAAECcAAJ9LAADYqgAA1pYAABJtAAAZlgAAYbIAAPFMAADPPAAAIT8AAFhyAAAaagAAJU4AAB9LAADnNAAAECcAACtmAAAyMgAA7YYAAGueAAC9vwAADKEAAPaFAAB\\u002fewAAHUoAADJSAABbVwAAVn8AAJhhAAAxegAAh48AAIBrAABGWQAARIwAAMJrAABIWwAAQFkAAPueAADHeAAAN50AAGxfAACHrwAAECcAAGiVAABmegAAxpcAABAnAAB\\u002fewAAGVsAAAcoAAB+UgAAP0cAAIV2AACnSAAACXsAAOGAAACihQAA6jQAAOJaAADLUAAA0nAAALBrAADxWwAAFXUAAFlwAAAddwAAEHUAADspAAAfbQAA3G8AADJmAAAijQAABToAAEJWAAAVjQAAdHoAALCoAABJcQAAHl0AAHFkAAASUgAASnAAABdjAAADWQAABlsAABAnAACIZAAA4q0AAAhkAABdhgAAHYYAAM6PAAAURgAAuoAAAOJoAAAkZwAAu0YAAElsAABHeQAAjjYAAOdDAACBUAAAECcAAJhSAADShgAAnWIAAA56AADLZAAARTcAAHRqAACEagAAUDAAACR9AAAgVAAAGWkAAMOMAAAQJwAAHqcAAN9JAADtOAAAA4MAAINvAABQUwAA6JIAAL9LAAD4WQAA8zcAAFVXAAAflgAACnIAAPd9AACAYQAA0E4AAKhWAABTTQAAtzwAAIGDAABdUgAAWEMAAKpKAAB\\u002ffwAAaVIAAMtZAAArNQAAl0oAAJFWAACLOwAA+3wAAB2jAAABXAAAD3cAAI9zAAB7iQAANLEAABAnAAAzYAAA\\u002fYsAANg+AAACRwAAs14AANdmAADhnQAABFcAAHqUAABmdAAABogAAG5eAADKYgAAIroAAO98AAAyVgAAHXsAAKM+AADQYgAAPy4AAMxdAAA0awAARpAAAMhhAAAQJwAAhjAAAAZXAABfKgAAECcAAFkzAABjNgAAhUYAAHRqAAA1PAAAs1sAAJyKAABZVQAALHcAADwqAACXbAAAkn0AAFZ8AADwNgAAdF8AAHl9AAA0TAAAECcAAEudAADOeQAAITcAANOPAABbfwAAV5EAAII+AAA1NgAAlYAAAO9VAAASagAAU2QAADWLAAArjwAAyE0AAGhfAABFaAAAM18AAFREAAAlUAAAmUcAALdMAADiYwAADzYAAHdlAADLUQAAzmkAAEc\\u002fAAASXwAAIF0AAK+tAAAQJwAAcl4AADlkAAC7WAAAEUIAAA13AACnpgAAS24AAHVVAAC2QQAAFXEAABtRAAAxjwAAjqIAAAGSAADYOgAAIm4AANJuAABRegAAFUQAAB9pAADAggAAzUsAAK6HAADQJwAAzXAAAHs+AADFTQAA\\u002fWoAAMqEAACOMQAAAlwAABAnAABfiQAAECcAAEFpAACudwAAnJ0AAAZVAABScQAANEAAALBVAAAOLgAAT2EAAKpSAABYmgAAlFcAANZ3AADoPQAAUIQAABAnAACOeQAAmIgAAI5MAACrKgAAxX0AADEsAABcggAApHQAABRrAACJQgAA0TcAAPmiAADpOAAAd18AAFeHAABaPgAALDIAANWSAABmZQAAHmgAALlkAABDTQAAuYkAAKdrAABOWgAAkzIAAGFkAAAIcwAAOkoAABpVAAC3ogAAdlwAAM9cAABmqgAAB00AAKeIAACAZAAA3G4AAN9rAABcQgAAQIEAABNzAACbQAAAECcAAB9eAADSaQAA\\u002fFcAANBWAABXYAAA3YAAACdNAACnRAAAR30AAFY7AAAQJwAA3GkAAJ2WAAAQJwAAh3UAALyFAADaQgAAx0oAAD2CAABdfAAAECcAAAhpAAAqhAAAzksAAA9VAADLdgAAOzEAAJeQAADFUAAA7lUAAElqAACDjwAAFZgAABZ6AADJiAAAFVYAABAnAADIiAAAJ1MAAChuAAAsTgAAaC4AABAnAABLdwAAT1MAAJQ3AAB9aQAAbqAAAJBlAAAEggAAECcAAClyAACPRAAABEMAAJMyAACZeAAAjV8AAOaNAABudwAA06IAAEBSAAAPSAAAwG8AAEK5AAAQJwAAYD8AANZfAAAgggAAlWkAAA2SAAACZQAAX00AAMKVAADmeQAATnEAAOBKAADHjAAAECcAAAlEAADXMAAAECcAABAnAACoWQAAHUMAAJZIAAA4gwAAliwAAHR+AAAwSQAAECcAAEN7AAB6ZQAAFEgAAE5RAABiigAAlJsAAM9YAAA1MQAA0D0AAKF4AAAiTQAAQaoAAKVDAABEgAAAbEYAAGyXAAAHagAAZi4AADtmAADPZAAAQlYAAHasAADPugAAj2oAAFR5AABzSQAAECcAAHBiAABVbQAAG28AANKSAABxUQAAUWgAAK+ZAABcagAAxEgAAFVYAABYTgAAvFUAAH8yAACDXQAAml8AAHCGAABNVAAAbW4AABFGAADCVQAAIlgAALd5AAAQJwAAECcAABqjAAAChwAA5kQAAE6GAADQUQAAkrEAABAnAAAQJwAAR10AAPqkAADLgwAAGoAAADKNAAD7TwAAZqwAALJ\\u002fAABkawAAkV4AAE4xAABwVgAAw2QAAN1xAAD1pQAAbEwAAE6QAACrYgAA56MAAFCvAADjSQAAL0MAALE\\u002fAABITQAAfIsAAN2PAACbUwAArngAAC9IAAAmogAA3GAAAH5AAADyVgAAECcAAINhAAD2oAAArXIAAHkzAADwcAAAECcAAOhEAAAWbgAAJWEAAO5HAAA6eAAAn2QAALEsAAA+MAAARycAABAuAABUjQAAtzUAABAnAABnRQAAtHMAADC5AABUcAAA7W4AAO2LAAAYZgAAdVUAAJ6CAACbgQAAJVgAAMxIAABaUAAAVWYAAIIoAADXYgAAPqoAADZYAACiTAAAhmEAANaDAADpYgAAYp0AAO9yAAAAjwAAbV4AAI96AACPtwAAemoAAF5GAADJQwAAXlsAAGFaAAAJgQAAKnAAAERzAAD2TAAAlzUAAFVqAADMPQAAaH4AAPZrAACwRQAACkEAAAuZAAD\\u002fMgAAd1kAAGdqAAC3kgAAC3kAAK9yAADkLgAA0mYAAM9cAACSsgAAqpYAADZuAADoRQAAm0wAANhCAADtdwAAl0cAAEVDAAB8cQAAOlwAAJ1QAABgbwAA0IAAAGdqAAD5qQAA4jkAAAaFAAB9cwAAvFMAACZwAAB5YAAAc18AAJhPAAC0qAAAmFoAAHZLAAAGSgAA6mgAAICNAABbVgAAlDoAACl+AAA3YwAANGYAAHZ5AAAweAAArV0AAPlAAAAQJwAAdW4AAJ58AAA2UgAAAZUAABSHAACjWgAAD8AAADpLAAA6VgAAU5cAAA5UAAAvSwAAECcAAPRTAAAQJwAAUo8AABAnAADEQgAAfnIAAPdSAAChXAAAGlIAABAnAAC+WgAAZ2cAAONzAACndgAA0I4AAFl8AAAKlwAADkkAAKl1AADkRgAAkEUAAJItAACdsgAADkIAAABvAADMOAAA4oYAALtpAAAQJwAADXgAAOhDAACpOgAA5I4AAA5IAAC+awAAxoEAAL2HAABRRQAAJ2IAABAnAABOaAAAJJoAAPNnAABbhgAAOIEAAN+JAABXWgAADWsAADpBAAAXfgAAr3UAAGVnAAAeRAAA6qgAAIRWAACwfAAAECcAABZyAADyXAAAGl0AAE03AAAJcgAAaWkAAP94AAA7WgAAECcAADxBAABeXAAAAogAAKh4AABzpQAAK50AACJWAABnUwAAECcAAIVhAADvcgAABFQAAPdsAADePgAAW3MAABAnAACwagAAxjwAABAnAAClRgAA2IYAAJVYAAAlmgAAPpQAALVpAAAQJwAA74QAACFPAADyZQAAi5AAAFKyAAD1MgAAtkEAAF5YAAAgaAAAAGgAAMeRAAB\\u002fQQAAnkwAAMWnAADEjAAAtmoAAOE1AABWgQAAECcAAG43AADtZQAAqWgAALZIAAAuWQAA9zIAAL9GAADrWAAABWcAAJw7AABtQgAAYzkAAFhFAABeSgAAIzoAABAnAADASwAA6VsAAD9DAADsZgAAhlsAADKGAAAtlQAAWEsAABAnAABrXgAAdosAANCVAABWQgAAECcAAKlaAAC7jQAA8GsAAI5VAAAJUgAAI4QAABMxAADcPgAAQ24AAFcsAACDlAAAUFMAAPZuAAB7TAAAAYQAAL1iAADaoQAAVG8AAJucAAAQJwAAECcAADB7AAB4hQAAoogAALM4AABSRAAAgFQAAH58AABRiwAAkHcAAARcAADzSgAAJZEAAAJLAADqcQAA1ooAABmYAABLLQAAvn8AANVOAABdWAAAXTIAAOWrAADPTAAAg0MAAIRDAADyPAAA5mwAAHNrAAB+ZAAAi1wAAAZwAAAkXAAAZWEAAB1lAAAQJwAAjU0AAPM\\u002fAAC7qgAAdFEAAP1CAAA4RgAAkkIAAGZ4AACPoQAAoVsAAAKGAAAtRgAAbDQAAN6cAAALRAAAlFUAAPpXAADgVgAASV4AAMFxAAD2hwAAzGwAAAeZAAAYWgAALzEAAFd6AAC+lwAAECcAAKZmAAASWgAAR1EAANFbAAD+NwAAmGUAAC9JAAAQJwAATFwAAH9YAAANUgAAWFkAAOg2AADDkAAAECcAAOQ0AAAqUgAAMF0AABAnAADnZQAAhFsAAOU8AAA7VAAAc0AAAK2PAADXMgAA63cAAJQ\\u002fAAAQJwAAkD4AAM9\\u002fAAA3lgAACHUAANaKAACdLQAAunEAAG+HAAAOdwAAuGQAAAJAAAAxrwAA31IAAOtHAADgRAAAYWYAALpRAADkhgAAlDIAAP+vAAAtsgAASo4AAKk9AAAnawAAjXoAAJN\\u002fAAAQJwAABlEAAAQ4AABgiQAALnAAAC50AAAQJwAAb0MAADNrAADmdQAAdGIAAIlcAAC6bgAAz18AAOt5AADWtAAAhpkAAM1jAAC0aQAADkQAALRmAAAzggAAJWsAAKGMAABVPQAAAWUAAL6QAABghgAAPWgAABhOAAANZgAAQTsAAEc9AABrhQAAyH8AADVQAAB+gQAA6WsAALZ3AAA6fgAAXGUAAMpLAADOlQAAEkEAAKA0AAD4NwAAxGgAAOdBAAC2hQAA91AAAJxHAAANiQAA06gAABJsAAD9dQAAF0YAAGxOAACGfQAAYJ0AAEFnAACbdgAAECcAAICCAACqdwAAJy0AAPEuAABDeQAAO2YAAIVGAACAcAAAPZAAAB+cAAC\\u002fVgAAdl8AAEZ5AAAQJwAAJIoAALa5AABPRAAAT1gAAO2fAAAJkQAAip8AAMdaAAAQJwAABKoAAENJAACdNAAAgrEAAA2LAABKVwAABLAAADxRAACLcwAAfJQAAC5lAAAVRgAA218AAEY6AABwXwAAHF4AAPyHAAAcUgAAjIEAAJSWAADAYwAAmVsAADl5AABcTwAAskgAAJdiAABveQAAzUsAAL9IAAAWPQAA9m4AAEBcAAB1dAAAvjsAABAnAADGWAAAZ1cAAM6AAACYVgAA1UwAAKuFAABGcQAAHb0AAL93AADDQgAA5XwAAGudAABllwAAkXAAAHuGAACoWgAAspUAAAhPAADmhwAA01EAAJytAACSNQAAECcAALRWAABlTgAAvYAAAFpIAADXXwAAjngAAFlVAADRYwAAjJYAAO3DAAAmcwAAT2IAADqIAACdfQAAj4kAAI9TAACnQAAAV0IAAOitAABueQAA5G4AAMpVAAAKZQAA46AAALByAACJQwAAin4AAHYtAACBhwAAeWkAACREAAAQJwAAECcAAMlAAAA3eAAA7TsAADg8AABcigAAWYwAAMmGAACiUQAAgEsAAKadAAArUwAAalcAAF1tAABNTQAAaWwAALx3AAAtyQAAwYEAAOhwAAAQJwAAF38AAENYAABDegAA+koAABAnAACkSQAA8F0AAMOvAABIPAAACW0AAGstAADlWwAAa1QAAJ1CAACuKAAAMosAANtwAADniQAA+EYAAII4AACRngAAoscAAEytAAA0NAAA\\u002fkYAAPZ4AACCfgAA+EwAAMwsAACmLAAAD34AAEOqAAB7UgAAb0UAAMWOAAD5VAAAn1IAABAnAAAQJwAAf7kAACKeAAAkOwAAQ5oAAGucAAA+dgAA6UwAAIo6AAAQJwAA9zYAALRdAAAcmQAAxJEAAA2GAADsNQAAsmEAAFq4AAB\\u002fiAAA+1sAAJlIAAATgQAAdnYAAAhSAACbOQAA6a8AABAnAAA9sQAAOjsAAOcrAACscAAAGDgAABAnAABHLAAAWkcAAOEvAAAmnAAAGG0AAJ5LAACBcwAAxz4AABAnAADynAAAb0MAAC2IAAAHLQAAECcAAMxyAABuhQAAPWcAAMVrAAD\\u002feQAAdm0AAIxiAACyMwAAkqMAAJ+8AADJVwAAxm8AAMFGAACWQAAAiCgAAKNIAACtMAAAF4EAABAnAAB0PwAAECcAAMSNAABvigAAA2wAAKuEAAA2SAAAP3AAAJ9MAABtXQAAgUUAAF5aAADlRAAArj0AAABrAAD0OwAAz4EAANBNAACpawAA2FAAALuMAAB\\u002fkwAAokwAAECCAAClqwAA0SgAAPSFAADiKAAA8UIAAGx5AACcRgAAuXAAALlaAAAfdwAANoQAAB99AACvnQAAfYQAAHFcAAAQJwAANT8AAFtTAAA3YQAA3WYAAPiJAACZqQAA1kUAABVxAABZQAAAzloAAMt6AADEWwAAqE8AAFWDAAAQJwAAV3IAABAnAACOagAAoUsAAJJxAABdXAAAEVMAAICQAADfSAAApYAAAH1hAAB2QgAAvUgAACGSAAAmegAA9lwAANikAACFeQAA2YQAAL9TAADULwAARm0AABd1AAAQJwAAECcAADS2AACNdwAAPm0AACd3AADDfAAAGXkAAG4vAABiqgAAgV4AAHJLAACPpgAAECcAAC9KAADUaQAAE5UAAHE8AADMWQAAJmsAAJw4AABrewAA3WAAAGdSAABZcwAAqHIAAHyXAAAmVQAApY4AAPReAAARgAAAECcAAO9RAAB4rAAAfWsAAIFhAAAOUAAA+SsAAMecAAAIXAAA\\u002fHcAABNoAADypAAAMnIAAJgvAAD7mAAAujgAAFFzAAAoiwAALzoAADdUAACmhQAAf4gAABAnAABCZQAADmEAAM9sAAAkXAAAECcAABhpAACjRwAAVS8AAEJ3AAA9fgAA\\u002fXoAAOd4AADGcAAAWEUAAKNPAAB\\u002fTwAAj28AABJsAAC1pgAAHW4AAAVpAADZeAAAFG8AAN1eAADqmgAApnkAAAmFAAAaNwAA4XMAAD5vAAA9WQAAfYwAACB5AADaTwAA+mgAANWbAACHlQAAmTgAAGmNAABWmwAAlo4AAE9XAAA6YQAAEJ8AAIt8AAAQJwAAyWcAANShAACJRgAA3WAAABh9AAAuXAAAp1QAAPyBAACrcQAABVEAAJOhAAC+gwAA6ycAAOx9AADiLQAACIAAAHwuAADxWAAAkVIAABAnAAC5bgAAEY0AAK8rAAB8awAAS10AAM5BAACVbwAA9FwAAGNzAACmSQAABXMAAJJeAAArPAAAwlQAALloAACleAAApZcAAJZRAAA+fwAAFlkAAE6DAADFeAAAJ1oAAEwsAABMiwAACGoAAKp\\u002fAAAQJwAAs30AAM9TAADbbQAAp4IAAOaIAAA+RwAA128AAF+TAABWTwAA63kAAM8tAACZXAAAhJEAAI5gAAB6LwAAAVQAABAnAAAknAAAKYMAACVSAAB6gwAAnH4AAJFQAADrcgAASKYAAPBrAABIXQAAfYkAAJxRAADmaAAA5DwAAKeFAACPOAAAZXEAAM5kAADBPAAAxkMAAPl5AABziAAAGVgAABAnAABahgAAeHwAABFEAADwrAAAA5YAAGw+AADIJwAAU0QAAHlwAAAlUQAAoFUAACZmAABOWwAATS8AADSAAAAQJwAA6aUAAPQyAACFwgAAynsAACpDAACniQAA+GwAAJdiAADeNgAA0UMAADtMAACtXQAA9IYAALtNAAAQJwAA32QAABZpAAAQJwAAWI4AAOhyAABQbgAADD4AABAnAAA7NQAAhJwAAGxeAABEPwAAEzgAAMRoAAD3WwAARG0AABAnAABFdQAA6oIAALdlAAAkTQAAECcAAA1gAABnPAAATHUAAEBKAACSUAAAmX4AAMZlAABkggAAHZkAABiMAAD1SAAAWDwAAPw6AAAFiwAA9HgAACCBAACqaAAA\\u002faYAABeHAAB3aQAAXSkAAMZBAABucQAABUIAAGSWAACzWQAAVpIAAAw2AAC8UQAA7DwAAO9bAABPUQAAtG4AAG5XAAAwVwAAECcAABAnAABBRAAALFIAAJM2AADBgwAAiS0AAKVKAADcdwAAs38AAMczAAAddwAAGGwAABR0AABNSwAAA08AAKd3AADmeAAA8WgAAOiZAAAQJwAAHJ8AABAnAABoVAAAECcAAJs4AAASYQAAJTAAAGxNAABLNAAABVgAAJ5bAADPNgAA+VYAAA5UAADFRwAA+j8AAIhtAAAQJwAA6WYAAPxAAAB7bAAAinsAAH9KAADYVwAAmZkAADCNAADYQQAAInEAAGtiAADVRQAAd0cAAJByAABJjgAAtYUAAMpzAAA5XwAAozoAAKg6AACjeQAAyGgAANArAAClaQAAZJIAAB2LAAAlYgAAs0QAAC2oAAByVAAAqmEAAHkuAAAjXQAAfI8AANB7AAAOZQAAy4sAALMzAAAQJwAA98EAAK8sAADhSgAAzloAABAnAAA\\u002fbAAAQWUAABVSAAD8ggAAIYEAAEc9AAD3egAANlcAAAdXAAACPgAAsWYAAPqIAAA9bgAAcVwAAPykAABNhAAApGwAAJ1nAAD\\u002fXgAAj4wAADqjAACsagAAf6gAAApGAACyLQAAmGIAAGdRAADzaQAAECcAAHiUAADncAAAECcAAJ51AAAiNgAA\\u002fE8AAPtFAACocwAABTIAACJxAAC6gQAAECcAABo0AADFTQAAGngAAEVdAAAQJwAApisAABteAAAQJwAAKF0AAJpEAAALdQAAvnAAAEg8AABmagAAOzIAAO5uAABIlAAAUIYAAJdvAADsVQAAAVwAAGCRAAC3MQAAhGAAAA9ZAADBJwAAYF0AABBqAAAcjQAAbG0AAEJ2AABLZgAApD4AAF5pAAAmWAAAUHAAAO5fAABITgAA41UAAKeYAADiKAAAlZMAAO9rAAClLwAAN4UAADmiAACCSQAAjXQAABdyAAAsewAAL2IAAOxIAAAbLAAAS5sAACtVAABOewAAECcAACNkAADqaQAAn2QAALNaAAByMwAAFG0AAEl+AABeWgAAxJQAADihAADGaAAA6ksAAI51AACKMAAAQjsAAGSjAADhqQAAQmIAACYxAAARRwAAmYAAAJ55AAB1ewAA\\u002flsAAFJaAACoSAAAVo4AAC9aAABpXgAA3jsAABCHAAAKbgAAp0oAAG6SAADfYgAAkywAAN9zAAA0VwAAt4UAAIFWAAAbUgAAuWMAANc5AABGKwAAx6oAAF+1AAD9YQAAMWEAAJSJAAAQJwAAq44AABAnAAAQJwAA1UMAAFWXAAC+fAAAGWMAAMljAABOSwAA43wAAJuIAAA8bgAAkDkAAG1zAACodwAAt0sAACSPAACwYAAAvHAAAJxGAAARcAAAdWcAAICBAAChegAASmMAAKt\\u002fAAB9RAAAWF8AAJA+AADVVgAAAjQAAIdrAAAROQAAY3EAABAnAADEPAAAHJQAALF0AAAlfwAAbV0AALReAABEPgAAw0oAAPQvAABAgAAA36cAALAuAADNcQAAK4QAADNAAACVVgAAGnMAAIJXAAARfQAAgXYAAMSOAADDaAAA83wAABAnAAB\\u002fOgAAtYwAAEtkAABLkgAAjkMAAFRoAACidQAAHaEAAKeOAABOlQAAJUkAALJPAAApYQAA\\u002fEwAAG0zAAAFnwAAD1sAAII\\u002fAADzYwAA+WQAAL8\\u002fAAC6awAANqYAAJU8AABIXQAA60wAAOVcAAAQJwAA6ncAAII+AAAQJwAAeEwAAOZnAABElwAAVlcAALdYAAAQJwAA7VMAAPdrAAAETQAAsJYAAPSHAAB6XgAAECcAAIu6AABYPQAAoE4AABAnAAAuigAA7X4AAB6UAAA7RgAAPYoAAGiXAAAgaQAAdVEAAJ0\\u002fAAAxbAAAFl8AAARAAAA+MwAAeFoAABAnAAAwUwAAsE8AAJaOAADBYAAAYp8AAOB4AABLSwAAqoUAABNQAAAVXAAAUVYAAFhCAAAOYgAACXoAADSBAABYngAAvj4AAOtpAADNKgAAkYIAAG1rAADdKwAAwSkAAGFIAAApUQAAt28AADdMAABOgQAAy0AAAJRaAACtmgAA5poAAH1XAABgZgAAzmcAABc+AACNRwAAqmMAAAcoAAAQJwAAKm0AANRpAAAPZgAA3zAAAMlxAAAQRAAA0VYAAKx1AAAtSQAA4E4AAABIAACxaQAAZpgAAA0rAADFjAAAPLcAAO1sAACBSQAAPn4AAPswAAAggAAAyFwAAKw5AABaVAAA9VcAABBLAADycwAA2WkAAKNMAAC+eQAAs3kAAKdIAADILgAAD38AAARjAADEbAAAxTgAANCEAACbjAAA7nAAAE5kAAB4UQAAECcAAH2mAACdcQAAdD4AAChbAAAIPQAAX3EAACY1AABCbAAAYokAAK5ZAABooAAAZ2IAAKNIAABiQQAArEMAABc1AAAHqQAAvW0AAC2KAADJYQAAo18AAAU+AADtTAAA+oEAAGlVAABnQgAALHkAAKS7AABNSAAAb1oAAP4\\u002fAACJaAAAxXcAAGl0AAA\\u002fTgAAzFIAAHhkAADFZwAAPW0AACRiAAANgQAAECcAAM0\\u002fAABANwAA7XUAAPBRAAAQkgAAV6QAAO9ZAACKWwAArEcAAISoAAAOhwAAZ4UAAOiBAABSbQAAEXYAAKyMAACZWQAAcHMAAEJrAACkfAAA7HkAAFxWAACjTgAAc0YAAJxzAAAQJwAAvnUAAH+LAABDPgAAnkwAAOhhAADLcwAAFa0AANlZAAAQJwAAc1MAAIE+AACXhwAA704AALtBAACXOAAAIFIAALqNAABoTwAAH5UAANRCAACGSgAAuq8AACCNAADZXAAAO1gAAE4sAADLRwAAj2QAAIVGAAD9KQAAKT8AAJZfAAAkSwAA+nYAAAV9AABZNwAAnVQAABAnAACXagAA1ygAAESNAAC8TgAAECcAABk\\u002fAADwtQAA5G0AAAk1AABbPQAAsYsAAKJyAAAQJwAAZIIAAJNnAACsRgAAmFkAAGhqAAA0agAAn7AAAIkwAABjZAAAV54AAIdTAAC4OAAAGVIAAKBiAACGQwAAorgAAIN3AABxcwAAvnAAAItEAACyLAAAHVgAAHyHAADHgQAAQnQAAEhZAAD+XQAA2lIAAJlPAABaPwAAaY4AAN9zAADUfwAA0m0AAFJHAABERgAAgY8AAO1VAAAtjwAAOU4AAGZ2AAAWKQAAN1EAAE6OAADqfQAAqHwAABR2AACYawAATzYAAPNZAAB4dgAANz0AAIlLAABmQQAAHFcAAPA2AABWvwAAGY8AAEVOAADiUQAAHWkAAKiOAAAhgAAAkGMAAOJeAACLdgAAsDIAALmFAABldgAAzE4AAFZ\\u002fAACKbwAAAJIAABAnAABVXwAAzGoAACmSAABfdAAAzygAAIGNAAAbewAA\\u002f4QAABAnAADoRQAAsY0AAPFvAACKaQAAblgAAAyMAACvLQAAXVcAAKRPAAAQJwAAWIMAAHxXAAAQJwAApIUAAFNCAADrrQAAOIIAAPyKAADBZQAAECcAAO2YAADSnAAA3FsAADtKAAAKgAAAQnAAADlzAAAIigAAECcAAMPLAACUrAAAP2UAAAqWAAAibAAACmwAAL5AAAD1SwAAvFMAAIdKAABEfQAAV38AAC+HAABHbwAA\\u002fzQAAI1vAAADcgAAHmcAAOZmAABLWwAAa2oAAIqZAACJhQAAoYwAAJ5FAABMYgAAvXsAAFxQAABVlQAAH2gAADViAACPOwAArbEAABAnAACtKQAAECcAAD9UAADRMwAAIEsAAOeWAAA4NAAA2jcAAN4zAAC9bAAAqVEAABxeAADgRQAAj5sAAOdJAAAQJwAAE20AALtrAACzSwAAvHIAAFuAAABGPwAA8FMAAPxWAAAQJwAAEngAADRcAACiTgAAL48AAF+EAADVcQAAQVwAAB9hAAAscgAA4n4AAFpRAADPmAAAa10AABZSAAB\\u002fTAAAIn0AAL9AAAByLwAADGwAAPl0AABZUwAATpcAAOVRAABfTwAAqkMAAF9qAAAksAAA+TIAANx1AACxTAAA3lgAAB8xAAAlTwAAuIYAAOJbAADATAAAT38AAJ2CAABtaAAA230AAFJvAAA4TAAAQI8AABAnAACveAAAsmEAABAnAABgbwAAq0YAAGoxAABwUwAAJHIAANR1AAADSgAAlmsAAHxcAAC2MgAAX1cAABAnAADhRAAApWcAAPE2AABwjwAAW5wAAJJjAACcVQAAMVoAAJlaAACAhgAA4qoAAPxRAABiWgAAj3IAANaLAAC9VQAAiZcAAPo\\u002fAADpXwAAJ0kAAD1ZAADnggAA7YEAAIqCAAA3NwAAsXwAACNQAAAQJwAAUmkAALuzAAAQJwAAZX4AAF5tAAC3kAAAoF4AADp0AAAcMQAAK3kAAL9dAACLmwAAeywAAMVjAAD+bgAAsU8AAL1XAACibwAANV0AACaAAACHYAAASD8AAF5VAACBZwAAN28AAK0sAAAUcgAAECcAABtRAACAWwAArCgAABJxAABldQAAwmAAAOZmAAAtaAAAI0YAALM8AADkZQAAn0AAAC9lAACEQgAAaGgAAFpUAAC+iwAAzV0AACJfAACQSgAAxY0AAFspAAB\\u002fXwAA22MAAAlmAAAQJwAA0YwAAN6GAACfNAAAeW0AAFVbAAD4NwAA2J8AAIxCAADCawAA\\u002fGkAAIRCAABDWQAA+UcAAKcoAABXgwAAp44AAHlvAADloQAA1Y4AANF9AABzWwAAx0IAAFNhAAAilAAAjEgAAC94AAAHgQAAECcAABSZAADekAAANEQAAEVvAAAOmgAAbXwAABuGAADxqAAAFHUAAC03AAARjAAAQioAAAZVAAA8WQAAZmsAAPtVAADvfgAAAHIAAK9oAAAhiQAAL1AAAB40AACHfgAAFFsAAN5HAADYjwAAfGMAABAnAAAIZQAAG3EAAB6oAACnawAAnIYAABZGAABdfgAAMKsAANonAAAiPQAAaJ8AANB2AADSfQAAqrEAAC6HAAATaQAATmgAAI1UAACQlwAAynEAAKZ8AADqUAAAAVkAAK1uAAB8igAAD3EAABpgAAD8PAAAqCoAAONXAADlSAAANmUAAOk\\u002fAADTjQAAy2kAAOdUAAAuPwAAECcAAPScAADySAAA644AAP6pAAAkTgAAGnQAANFZAAABQAAA7WoAAGJ0AACekQAA9VQAAFaCAAC7YAAAv74AAP14AACVnQAAHX4AAC5HAACVSQAAGVUAAHg9AADWVQAAN18AAK55AAA+UwAA7CwAADxQAAAFjAAAoIIAAERHAABsbgAATZ8AANspAACdWwAACoMAAOA8AABVdAAA3IIAAIBxAAAQJwAAN0gAAGytAAAQJwAAelMAANlxAACaQAAAoJQAALGhAAB+pQAAh2oAAHteAAC7hwAA1ksAAC1gAADSSgAAHKIAAOxDAACAQwAAcEoAAIVYAAAQJwAAo3sAAFVOAABZZQAA1jAAABuoAAAtUAAA5I8AAKlrAABjKAAAv24AADlZAAA+cQAAyUQAALJTAACmbAAA0aUAABAnAADnoQAAECcAAE5KAAAlQgAAhVUAAHZIAABueQAAW0MAAMRPAABxKAAAVXYAAANlAAC4MQAAxGMAAEhSAADLUgAASV0AAG0\\u002fAAA1dQAArH0AAAFiAAALdgAACl0AALdFAAA8cgAA80MAAAU3AACkaQAAy6sAAF9jAAA4PgAAfWoAAM+LAAAkmwAA2FEAAGRqAACrWAAAsIgAAH5uAADbYAAAyWUAAAEsAACLdQAAECcAAM17AABRWQAAbbQAALqXAABbSAAAGHMAAPShAACXeQAAeX4AAEuPAACbZgAAUVEAAOylAADnWwAAECcAAIUqAAC0hwAAw4gAAI7GAAAHQQAACkgAACY9AADlQAAATokAAFyNAACeXgAA0JYAANBXAABymgAAECcAAH1uAACTUQAA2FMAAEtBAAAWdQAAZEkAAH8zAAC4ZgAA27IAAFhjAACGgAAAyVwAALSAAACmYAAAII4AABsvAADaUQAA8EYAANFxAAAFYQAACnQAAP94AACRQgAAMzEAAJyKAACEQgAAMFQAABAnAAAQJwAARnEAAFZfAAC0WQAAoEwAAABtAAA\\u002fjQAA1GQAACJdAADVTQAAKWsAANeKAAAqXwAACpQAAO6cAABjKQAAFi8AAHxbAABNfQAAEXEAAG1sAABrcQAA1F8AABJaAADLTwAAenEAALR5AAAxgwAA\\u002f1EAAJZPAAAzfwAAwnAAAPyuAACkhQAA4DwAAGWKAABxKAAARHQAABAnAABdSwAAmo0AABAnAACvjwAAf1cAAB\\u002fKAADQVgAA60AAAHCRAACzcAAAxlAAACJMAABgeQAArG0AABAnAAAIcgAApHcAANBdAACmTwAAM1AAAFJeAADZYQAAV0IAAI5CAAAZZgAAe4sAAAs5AAAQJwAAX3UAANJeAACvTgAAgY0AAJ5EAAAPjwAAwj0AAA5WAAB4RgAARjQAALZ6AADXPwAAA2MAAGZBAAAJRwAAyzMAAOGRAADVQQAANWcAANg6AADMeQAAE0UAAGtJAACSXwAAgykAAEWKAADaPAAAMo8AAKVEAAAFiwAA9GQAAJ2QAADNcAAAsYAAABAnAABHfQAAECcAABAnAAAceQAAV2kAAIGYAACHfgAABK4AACNUAACUOAAAECcAAJE4AABWdgAAI0sAAIZoAADRhgAA2GsAAM0pAAC0hAAAm14AAL+iAAD5XgAA\\u002fD4AABt2AADHQgAAvI4AAENGAADfaAAAfYwAAMphAABSSgAAyT4AAD9eAACPyAAAI64AABGAAAAKVgAAPVAAAPCcAADRaAAAECcAAJV4AAAHcwAA8o4AAKJRAADMiAAAkY4AAK2BAADtYQAA7nIAAERXAAAQJwAAPIcAAEdEAABYOQAACJgAAAgzAADoeQAAdKAAAI5GAABUYAAAe1MAABl+AADlTwAAECcAAMlcAACzPQAAJXEAAOBLAABlbwAANEMAAIF2AAAAVAAAQTEAAFBrAACRlQAApIsAAExzAAD7dAAAmV4AAKZuAAAobQAADqwAAOtUAAATagAABz4AAPGNAABjqAAAQnoAAA8vAADGeQAAUC8AAN91AACTfAAA1GEAAE6KAAAQJwAAuXQAABRXAACaTgAAN4EAANt0AADEgAAAw2MAAAx1AACyQAAAWacAAHeOAAAxUwAAqTEAABAnAACSswAAVqAAABJ6AADTZwAAECcAAFlkAADAhQAALWkAAPGFAADJTQAAoGcAALJOAADrlAAA0WYAAG4yAAAQJwAA7nIAALqSAACWOwAADaoAAJJGAAA9igAA01oAAI1ZAAAlSgAAGVEAALVOAAB5jgAAECcAAANSAAAcdwAAhl0AAKs\\u002fAACBQwAAQ00AAC5+AAA7RwAAVHUAAEJqAACzMQAAWZAAAHpXAABmTgAA2XQAAChgAABrTwAAUy8AAKFwAAAfgQAAozMAAKQ8AAC7ggAA3W0AAI8tAABPZQAALJIAABAnAAC4YgAA3F0AALiHAAALUwAA5moAAIudAAAiXQAAS2wAANpSAAAQJwAAXFwAAEhYAACtXQAAtHoAAK2kAABOZwAAL4cAAE5IAADZRwAAECcAAGhmAAB8hgAAvkMAALBYAAAmYwAAq2EAABAnAAA9igAA9jsAAMA7AAC8NwAAfG8AAJltAAD+UAAAT0kAAEuLAAB8mgAAv1sAABY+AABwsAAAeI8AADllAABSagAAyjkAABAnAADUcQAAECcAAHBkAAAQJwAAr3MAAL5SAAC5JwAA+GQAAGKHAAAEkQAAaJYAAAA0AAAGnwAA9UwAABAnAADUiQAAKXQAAERsAABhPQAAhIoAALRsAABOWgAAkWMAAByqAAALmQAASU0AAJ9iAAAiXAAAq0kAAFlYAABBgQAAanEAAF1UAAAStwAAYFYAAL1zAADwVQAAF4wAABVRAAAQJwAA7U0AAB1eAADshwAAeFEAALxgAAC7NQAAk18AAM9HAAAVUwAA0XQAAFdLAADKSwAAi6wAABFOAABXygAA8nUAABAnAABecAAARFcAAK2iAAAyNgAA5ZwAAC18AADpRQAAI2IAACVsAAAjagAAHXcAAIwwAAAxggAA8mAAAMBqAACDpgAAC2sAAHFlAADhnwAAgHMAALNNAAAFZAAASIgAADFNAADvjQAAFkQAAF+RAAC5qQAACaAAADZkAAAQJwAAkFAAAFV4AABkkAAAECcAANF1AADzfwAApkgAAM5rAAD9UwAAqWoAAKJ2AACsbAAAhUcAALViAABaOgAA5mgAAPNRAACBjQAABIgAAOI9AABHTAAAJnAAAAuXAAA=\"},\"y0\":\" \",\"yaxis\":\"y\",\"type\":\"violin\",\"meanline\":{\"visible\":true}},{\"alignmentgroup\":\"True\",\"box\":{\"visible\":true},\"hovertemplate\":\"LayoffFlag=%{x}\\u003cbr\\u003eSalaryUSD=%{y}\\u003cextra\\u003e\\u003c\\u002fextra\\u003e\",\"legendgroup\":\"1\",\"marker\":{\"color\":\"orange\"},\"name\":\"1\",\"offsetgroup\":\"1\",\"orientation\":\"v\",\"points\":\"all\",\"scalegroup\":\"True\",\"showlegend\":true,\"x\":{\"dtype\":\"i1\",\"bdata\":\"AQEBAQEBAQEBAQEBAQEBAQEBAQEBAQEBAQEBAQEBAQEBAQEBAQEBAQEBAQEBAQEBAQEBAQEBAQEBAQEBAQEBAQEBAQEBAQEBAQEBAQEBAQEBAQEBAQEBAQEBAQEBAQEBAQEBAQEBAQEBAQEBAQEBAQEBAQEBAQEBAQEBAQEBAQEBAQEBAQEBAQEBAQEBAQEBAQEBAQEBAQEBAQEBAQEBAQEBAQEBAQEBAQEBAQEBAQEBAQEBAQEBAQEBAQEBAQEBAQEBAQEBAQEBAQEBAQEBAQEBAQEBAQEBAQEBAQEBAQEBAQEBAQEBAQEBAQEBAQEBAQEBAQEBAQEB\"},\"x0\":\" \",\"xaxis\":\"x\",\"y\":{\"dtype\":\"i4\",\"bdata\":\"fkcAABebAAAsNgAAV10AAAJqAAAEKQAA6WQAAMFxAAA\\u002fcAAAQ0MAAOxHAAD3dwAAzoQAAGqOAABOewAACYQAAP5EAAByMAAAQmYAABAnAAAePgAAcWIAAOuVAADNZwAAvWAAAOpBAABsPwAAVS8AADNCAAAhXAAApY0AAKZ7AAAPZgAA2FQAAOxIAABgfgAAx1AAAHFiAABtZAAA2KQAADqGAAC4UAAAbJAAAINHAABRfAAAMIQAAKZ3AAAQJwAAMk8AABaUAACcNAAA2m0AAHpdAADDWAAARl8AALN\\u002fAACXWQAApUQAAEROAABcRwAAQ2kAAPGeAACjJwAAG18AAIV4AAAEPwAA3roAAFFtAAAJmwAA0nsAAA5uAADbaAAAHZYAACN5AAApbgAAECcAAO10AAARWAAAE4cAADKCAAD8fwAAkIIAACdYAAAQJwAAiXsAAP5BAACcZwAAqosAAFt5AAAqOgAApFIAAB1TAAACSAAALTQAAOFEAAA1ogAAFnoAANBFAADjfAAAC0sAAJt4AADJewAAKk4AABWXAABnjgAAx2AAAMtWAABhTQAAJGEAAElzAACjPwAA0ZkAAKGSAAD0bQAA7lEAAA95AABnVAAApTkAABpfAACngwAAVFIAABAnAAAlNgAA9nMAAJ97AACDUQAA814AABCKAABTpAAA4m8AAKFXAAAcSgAAqnAAAMFxAACriQAAKH8AABAnAAAQJwAAdjEAABAnAABcMgAAmFAAABAnAADJiAAAFHQAAMBgAAAyTwAAEGQAANl8AABreAAAYGMAAMlTAADjewAArJYAANWoAAB5TwAA+k4AAI5BAABocQAAfmMAABphAADzpwAAxnAAAO5lAAD4VQAA\\u002fTsAAJKaAACfLgAAI2MAAJczAAAHdwAA94gAAKnBAAAkWAAAZbEAAJ9nAAAQJwAA4zIAAFB\\u002fAABCcgAAMlkAAOZsAACSdwAAOTgAAKopAAAQJwAArUIAAOpSAAC3oAAAtWUAAFhmAAB0XQAAs1MAAK6HAABPZgAATbgAAG19AADOgAAAz0cAAPo9AACCeQAA23QAAKmBAABYJwAA3GgAAEc8AABaTgAAQ0kAAEhRAACpcwAANDsAAB2CAAABWwAA5CwAAM6OAADxfwAAZYMAAHAnAAC8aQAAMnsAAHORAADESwAAhYcAAPx0AAAQJwAAtXwAAPGMAAAVoAAAwmwAAJFgAAD4YQAAZUwAAGE2AADAfAAASV4AANJYAAAQJwAAcmUAAFqAAAA5PgAASzkAAIlZAABehwAAUJAAAHqcAACwSgAA7lMAAK5fAACIVAAA\"},\"y0\":\" \",\"yaxis\":\"y\",\"type\":\"violin\",\"meanline\":{\"visible\":true}}],                        {\"template\":{\"data\":{\"histogram2dcontour\":[{\"type\":\"histogram2dcontour\",\"colorbar\":{\"outlinewidth\":0,\"ticks\":\"\"},\"colorscale\":[[0.0,\"#0d0887\"],[0.1111111111111111,\"#46039f\"],[0.2222222222222222,\"#7201a8\"],[0.3333333333333333,\"#9c179e\"],[0.4444444444444444,\"#bd3786\"],[0.5555555555555556,\"#d8576b\"],[0.6666666666666666,\"#ed7953\"],[0.7777777777777778,\"#fb9f3a\"],[0.8888888888888888,\"#fdca26\"],[1.0,\"#f0f921\"]]}],\"choropleth\":[{\"type\":\"choropleth\",\"colorbar\":{\"outlinewidth\":0,\"ticks\":\"\"}}],\"histogram2d\":[{\"type\":\"histogram2d\",\"colorbar\":{\"outlinewidth\":0,\"ticks\":\"\"},\"colorscale\":[[0.0,\"#0d0887\"],[0.1111111111111111,\"#46039f\"],[0.2222222222222222,\"#7201a8\"],[0.3333333333333333,\"#9c179e\"],[0.4444444444444444,\"#bd3786\"],[0.5555555555555556,\"#d8576b\"],[0.6666666666666666,\"#ed7953\"],[0.7777777777777778,\"#fb9f3a\"],[0.8888888888888888,\"#fdca26\"],[1.0,\"#f0f921\"]]}],\"heatmap\":[{\"type\":\"heatmap\",\"colorbar\":{\"outlinewidth\":0,\"ticks\":\"\"},\"colorscale\":[[0.0,\"#0d0887\"],[0.1111111111111111,\"#46039f\"],[0.2222222222222222,\"#7201a8\"],[0.3333333333333333,\"#9c179e\"],[0.4444444444444444,\"#bd3786\"],[0.5555555555555556,\"#d8576b\"],[0.6666666666666666,\"#ed7953\"],[0.7777777777777778,\"#fb9f3a\"],[0.8888888888888888,\"#fdca26\"],[1.0,\"#f0f921\"]]}],\"contourcarpet\":[{\"type\":\"contourcarpet\",\"colorbar\":{\"outlinewidth\":0,\"ticks\":\"\"}}],\"contour\":[{\"type\":\"contour\",\"colorbar\":{\"outlinewidth\":0,\"ticks\":\"\"},\"colorscale\":[[0.0,\"#0d0887\"],[0.1111111111111111,\"#46039f\"],[0.2222222222222222,\"#7201a8\"],[0.3333333333333333,\"#9c179e\"],[0.4444444444444444,\"#bd3786\"],[0.5555555555555556,\"#d8576b\"],[0.6666666666666666,\"#ed7953\"],[0.7777777777777778,\"#fb9f3a\"],[0.8888888888888888,\"#fdca26\"],[1.0,\"#f0f921\"]]}],\"surface\":[{\"type\":\"surface\",\"colorbar\":{\"outlinewidth\":0,\"ticks\":\"\"},\"colorscale\":[[0.0,\"#0d0887\"],[0.1111111111111111,\"#46039f\"],[0.2222222222222222,\"#7201a8\"],[0.3333333333333333,\"#9c179e\"],[0.4444444444444444,\"#bd3786\"],[0.5555555555555556,\"#d8576b\"],[0.6666666666666666,\"#ed7953\"],[0.7777777777777778,\"#fb9f3a\"],[0.8888888888888888,\"#fdca26\"],[1.0,\"#f0f921\"]]}],\"mesh3d\":[{\"type\":\"mesh3d\",\"colorbar\":{\"outlinewidth\":0,\"ticks\":\"\"}}],\"scatter\":[{\"fillpattern\":{\"fillmode\":\"overlay\",\"size\":10,\"solidity\":0.2},\"type\":\"scatter\"}],\"parcoords\":[{\"type\":\"parcoords\",\"line\":{\"colorbar\":{\"outlinewidth\":0,\"ticks\":\"\"}}}],\"scatterpolargl\":[{\"type\":\"scatterpolargl\",\"marker\":{\"colorbar\":{\"outlinewidth\":0,\"ticks\":\"\"}}}],\"bar\":[{\"error_x\":{\"color\":\"#2a3f5f\"},\"error_y\":{\"color\":\"#2a3f5f\"},\"marker\":{\"line\":{\"color\":\"#E5ECF6\",\"width\":0.5},\"pattern\":{\"fillmode\":\"overlay\",\"size\":10,\"solidity\":0.2}},\"type\":\"bar\"}],\"scattergeo\":[{\"type\":\"scattergeo\",\"marker\":{\"colorbar\":{\"outlinewidth\":0,\"ticks\":\"\"}}}],\"scatterpolar\":[{\"type\":\"scatterpolar\",\"marker\":{\"colorbar\":{\"outlinewidth\":0,\"ticks\":\"\"}}}],\"histogram\":[{\"marker\":{\"pattern\":{\"fillmode\":\"overlay\",\"size\":10,\"solidity\":0.2}},\"type\":\"histogram\"}],\"scattergl\":[{\"type\":\"scattergl\",\"marker\":{\"colorbar\":{\"outlinewidth\":0,\"ticks\":\"\"}}}],\"scatter3d\":[{\"type\":\"scatter3d\",\"line\":{\"colorbar\":{\"outlinewidth\":0,\"ticks\":\"\"}},\"marker\":{\"colorbar\":{\"outlinewidth\":0,\"ticks\":\"\"}}}],\"scattermap\":[{\"type\":\"scattermap\",\"marker\":{\"colorbar\":{\"outlinewidth\":0,\"ticks\":\"\"}}}],\"scattermapbox\":[{\"type\":\"scattermapbox\",\"marker\":{\"colorbar\":{\"outlinewidth\":0,\"ticks\":\"\"}}}],\"scatterternary\":[{\"type\":\"scatterternary\",\"marker\":{\"colorbar\":{\"outlinewidth\":0,\"ticks\":\"\"}}}],\"scattercarpet\":[{\"type\":\"scattercarpet\",\"marker\":{\"colorbar\":{\"outlinewidth\":0,\"ticks\":\"\"}}}],\"carpet\":[{\"aaxis\":{\"endlinecolor\":\"#2a3f5f\",\"gridcolor\":\"white\",\"linecolor\":\"white\",\"minorgridcolor\":\"white\",\"startlinecolor\":\"#2a3f5f\"},\"baxis\":{\"endlinecolor\":\"#2a3f5f\",\"gridcolor\":\"white\",\"linecolor\":\"white\",\"minorgridcolor\":\"white\",\"startlinecolor\":\"#2a3f5f\"},\"type\":\"carpet\"}],\"table\":[{\"cells\":{\"fill\":{\"color\":\"#EBF0F8\"},\"line\":{\"color\":\"white\"}},\"header\":{\"fill\":{\"color\":\"#C8D4E3\"},\"line\":{\"color\":\"white\"}},\"type\":\"table\"}],\"barpolar\":[{\"marker\":{\"line\":{\"color\":\"#E5ECF6\",\"width\":0.5},\"pattern\":{\"fillmode\":\"overlay\",\"size\":10,\"solidity\":0.2}},\"type\":\"barpolar\"}],\"pie\":[{\"automargin\":true,\"type\":\"pie\"}]},\"layout\":{\"autotypenumbers\":\"strict\",\"colorway\":[\"#636efa\",\"#EF553B\",\"#00cc96\",\"#ab63fa\",\"#FFA15A\",\"#19d3f3\",\"#FF6692\",\"#B6E880\",\"#FF97FF\",\"#FECB52\"],\"font\":{\"color\":\"#2a3f5f\"},\"hovermode\":\"closest\",\"hoverlabel\":{\"align\":\"left\"},\"paper_bgcolor\":\"white\",\"plot_bgcolor\":\"#E5ECF6\",\"polar\":{\"bgcolor\":\"#E5ECF6\",\"angularaxis\":{\"gridcolor\":\"white\",\"linecolor\":\"white\",\"ticks\":\"\"},\"radialaxis\":{\"gridcolor\":\"white\",\"linecolor\":\"white\",\"ticks\":\"\"}},\"ternary\":{\"bgcolor\":\"#E5ECF6\",\"aaxis\":{\"gridcolor\":\"white\",\"linecolor\":\"white\",\"ticks\":\"\"},\"baxis\":{\"gridcolor\":\"white\",\"linecolor\":\"white\",\"ticks\":\"\"},\"caxis\":{\"gridcolor\":\"white\",\"linecolor\":\"white\",\"ticks\":\"\"}},\"coloraxis\":{\"colorbar\":{\"outlinewidth\":0,\"ticks\":\"\"}},\"colorscale\":{\"sequential\":[[0.0,\"#0d0887\"],[0.1111111111111111,\"#46039f\"],[0.2222222222222222,\"#7201a8\"],[0.3333333333333333,\"#9c179e\"],[0.4444444444444444,\"#bd3786\"],[0.5555555555555556,\"#d8576b\"],[0.6666666666666666,\"#ed7953\"],[0.7777777777777778,\"#fb9f3a\"],[0.8888888888888888,\"#fdca26\"],[1.0,\"#f0f921\"]],\"sequentialminus\":[[0.0,\"#0d0887\"],[0.1111111111111111,\"#46039f\"],[0.2222222222222222,\"#7201a8\"],[0.3333333333333333,\"#9c179e\"],[0.4444444444444444,\"#bd3786\"],[0.5555555555555556,\"#d8576b\"],[0.6666666666666666,\"#ed7953\"],[0.7777777777777778,\"#fb9f3a\"],[0.8888888888888888,\"#fdca26\"],[1.0,\"#f0f921\"]],\"diverging\":[[0,\"#8e0152\"],[0.1,\"#c51b7d\"],[0.2,\"#de77ae\"],[0.3,\"#f1b6da\"],[0.4,\"#fde0ef\"],[0.5,\"#f7f7f7\"],[0.6,\"#e6f5d0\"],[0.7,\"#b8e186\"],[0.8,\"#7fbc41\"],[0.9,\"#4d9221\"],[1,\"#276419\"]]},\"xaxis\":{\"gridcolor\":\"white\",\"linecolor\":\"white\",\"ticks\":\"\",\"title\":{\"standoff\":15},\"zerolinecolor\":\"white\",\"automargin\":true,\"zerolinewidth\":2},\"yaxis\":{\"gridcolor\":\"white\",\"linecolor\":\"white\",\"ticks\":\"\",\"title\":{\"standoff\":15},\"zerolinecolor\":\"white\",\"automargin\":true,\"zerolinewidth\":2},\"scene\":{\"xaxis\":{\"backgroundcolor\":\"#E5ECF6\",\"gridcolor\":\"white\",\"linecolor\":\"white\",\"showbackground\":true,\"ticks\":\"\",\"zerolinecolor\":\"white\",\"gridwidth\":2},\"yaxis\":{\"backgroundcolor\":\"#E5ECF6\",\"gridcolor\":\"white\",\"linecolor\":\"white\",\"showbackground\":true,\"ticks\":\"\",\"zerolinecolor\":\"white\",\"gridwidth\":2},\"zaxis\":{\"backgroundcolor\":\"#E5ECF6\",\"gridcolor\":\"white\",\"linecolor\":\"white\",\"showbackground\":true,\"ticks\":\"\",\"zerolinecolor\":\"white\",\"gridwidth\":2}},\"shapedefaults\":{\"line\":{\"color\":\"#2a3f5f\"}},\"annotationdefaults\":{\"arrowcolor\":\"#2a3f5f\",\"arrowhead\":0,\"arrowwidth\":1},\"geo\":{\"bgcolor\":\"white\",\"landcolor\":\"#E5ECF6\",\"subunitcolor\":\"white\",\"showland\":true,\"showlakes\":true,\"lakecolor\":\"white\"},\"title\":{\"x\":0.05},\"mapbox\":{\"style\":\"light\"}}},\"xaxis\":{\"anchor\":\"y\",\"domain\":[0.0,1.0],\"title\":{\"text\":\"Layoff Status (0 = Retained, 1 = Laid-Off)\"},\"categoryorder\":\"array\",\"categoryarray\":[0,1]},\"yaxis\":{\"anchor\":\"x\",\"domain\":[0.0,1.0],\"title\":{\"text\":\"Salary (USD)\"}},\"legend\":{\"title\":{\"text\":\"LayoffFlag\"},\"tracegroupgap\":0},\"title\":{\"text\":\"Plot 7: Salary Distribution – Laid-Off vs. Retained Employees\",\"font\":{\"size\":16}},\"violinmode\":\"overlay\",\"font\":{\"family\":\"Arial\",\"size\":12}},                        {\"responsive\": true}                    ).then(function(){\n",
       "                            \n",
       "var gd = document.getElementById('5d03e971-4407-4b34-9d1b-f1a1dd5df211');\n",
       "var x = new MutationObserver(function (mutations, observer) {{\n",
       "        var display = window.getComputedStyle(gd).display;\n",
       "        if (!display || display === 'none') {{\n",
       "            console.log([gd, 'removed!']);\n",
       "            Plotly.purge(gd);\n",
       "            observer.disconnect();\n",
       "        }}\n",
       "}});\n",
       "\n",
       "// Listen for the removal of the full notebook cells\n",
       "var notebookContainer = gd.closest('#notebook-container');\n",
       "if (notebookContainer) {{\n",
       "    x.observe(notebookContainer, {childList: true});\n",
       "}}\n",
       "\n",
       "// Listen for the clearing of the current output cell\n",
       "var outputEl = gd.closest('.output');\n",
       "if (outputEl) {{\n",
       "    x.observe(outputEl, {childList: true});\n",
       "}}\n",
       "\n",
       "                        })                };            </script>        </div>"
      ]
     },
     "metadata": {},
     "output_type": "display_data"
    }
   ],
   "source": [
    "# Step 1: Filter relevant columns\n",
    "df_q7 = df[['SalaryUSD', 'LayoffFlag']].dropna()\n",
    "\n",
    "# Step 2: Create violin plot\n",
    "import plotly.express as px\n",
    "\n",
    "fig7 = px.violin(\n",
    "    df_q7,\n",
    "    x='LayoffFlag',\n",
    "    y='SalaryUSD',\n",
    "    box=True,\n",
    "    points=\"all\",\n",
    "    color='LayoffFlag',\n",
    "    color_discrete_map={0: 'blue', 1: 'orange'},\n",
    "    title='Plot 7: Salary Distribution – Laid-Off vs. Retained Employees'\n",
    ")\n",
    "\n",
    "# Step 3: Beautify\n",
    "fig7.update_layout(\n",
    "    xaxis_title=\"Layoff Status (0 = Retained, 1 = Laid-Off)\",\n",
    "    yaxis_title=\"Salary (USD)\",\n",
    "    font=dict(family=\"Arial\", size=12),\n",
    "    title_font_size=16\n",
    ")\n",
    "\n",
    "fig7.update_traces(meanline_visible=True)\n",
    "\n",
    "fig7.show()\n"
   ]
  },
  {
   "cell_type": "markdown",
   "id": "3a138a54-7b53-46f3-b420-fc9e75ce42b3",
   "metadata": {},
   "source": [
    "### Inference from 'Plot 7: Salary Distribution – Laid-Off vs. Retained Employees'\n",
    "\n",
    "This violin plot compares the distribution of `SalaryUSD` between laid-off and retained employees. It's crucial for understanding if salary level plays a role in layoff decisions and how the salary profiles of these two groups differ.\n",
    "\n",
    "1.  **Plot Type and Purpose**:\n",
    "    * This is a violin plot, which combines a box plot (showing median, quartiles) with a kernel density estimate (showing the distribution shape) for `SalaryUSD`.\n",
    "    * It is split by `LayoffFlag` (0 = Retained, 1 = Laid-Off), with distinct colors for each group (blue for retained, orange for laid-off).\n",
    "    * Individual data points are also shown to indicate density within the distribution.\n",
    "    * The purpose is to visually compare the salary ranges, central tendencies, and overall distributions of salaries for employees who were laid off versus those who were retained.\n",
    "\n",
    "2.  **Key Observations from the Plot**:\n",
    "\n",
    "    * **Similar Median Salaries**: The median salary (indicated by the dashed line within the box plot) for laid-off employees appears to be quite similar to that of retained employees. Both medians seem to fall roughly in the range of $20,000 to $25,000 USD. This suggests that layoffs were not solely targeting the highest or lowest paid employees based on the median.\n",
    "\n",
    "    * **Wider Distribution for Retained Employees (Higher Salaries)**:\n",
    "        * The violin plot for `Retained` employees (blue) shows a wider spread, particularly towards the higher end of the salary spectrum. There are more retained employees in the higher salary brackets (above $35,000-$40,000 USD) compared to laid-off employees.\n",
    "        * The density of retained employees is higher at both lower and higher salary ranges, indicating a broader salary distribution among the retained workforce.\n",
    "\n",
    "    * **Concentration in Mid-Range for Laid-Off Employees**:\n",
    "        * The violin plot for `Laid-Off` employees (orange) is more concentrated around the mid-range salaries (roughly $15,000 to $35,000 USD).\n",
    "        * While there are some laid-off employees with higher salaries, their density significantly drops off compared to retained employees in those higher brackets. This suggests that while high earners were not immune to layoffs, they constitute a smaller proportion of the laid-off group compared to their representation in the retained group.\n",
    "\n",
    "    * **Lower Tail Similarity**: Both distributions have a similar lower tail, indicating that employees at the lower end of the salary scale were present in both laid-off and retained groups.\n",
    "\n",
    "    * **Cost-Cutting as a Factor (Subtle)**: While the median salaries are similar, the slightly narrower distribution for laid-off employees, with fewer high earners, could subtly hint at cost-cutting as a factor, where retaining higher-salaried individuals might have been a more strategic decision for certain roles. However, it's not a dominant factor if median salaries are largely unchanged.\n",
    "\n",
    "3.  **Implications for Workforce Strategy**:\n",
    "\n",
    "    * **Layoffs Not Solely Cost-Driven**: The similar median salaries suggest that layoffs were not purely driven by a blunt cost-reduction strategy targeting the highest-paid individuals. Other factors, such as skill relevance, performance (as seen in Plot 6, targeting 'Medium' performers), or departmental restructuring, likely played a more significant role.\n",
    "    * **Strategic Retention of High-Value Roles**: The wider distribution of salaries among retained employees, especially at the higher end, could imply a strategic effort to retain employees in high-value, high-skill, or critical roles, which often command higher salaries.\n",
    "    * **Nuanced Layoff Criteria**: This plot, combined with previous inferences, indicates that layoff decisions were based on a nuanced set of criteria rather than a single factor like salary. It likely involved a combination of performance, skill relevance, departmental needs, and perhaps a secondary consideration of cost within specific role types.\n",
    "    * **Impact on Workforce Composition**: The layoffs may subtly shift the overall salary distribution of the remaining workforce, potentially leading to a slightly lower average salary if a disproportionate number of higher-salaried individuals were laid off (even if their median was similar)."
   ]
  },
  {
   "cell_type": "markdown",
   "id": "54c69918-3920-47c0-bea5-3cdead70cfbf",
   "metadata": {},
   "source": [
    "### ➤ Step 2: Perform Mann-Whitney U Test for Salary Distributions"
   ]
  },
  {
   "cell_type": "code",
   "execution_count": 60,
   "id": "5e9cc649-e96a-47ee-a67b-ed382fc9217e",
   "metadata": {},
   "outputs": [
    {
     "name": "stdout",
     "output_type": "stream",
     "text": [
      "Mann-Whitney U Test:\n",
      "U-Statistic = 1238777.00, p-value = 0.5212\n"
     ]
    }
   ],
   "source": [
    "from scipy.stats import mannwhitneyu\n",
    "\n",
    "# Separate salaries\n",
    "salaries_laid_off = df_q7[df_q7['LayoffFlag'] == 1]['SalaryUSD']\n",
    "salaries_retained = df_q7[df_q7['LayoffFlag'] == 0]['SalaryUSD']\n",
    "\n",
    "# Mann-Whitney U test (non-parametric)\n",
    "u_stat, p_value = mannwhitneyu(salaries_laid_off, salaries_retained, alternative='two-sided')\n",
    "\n",
    "print(f\"Mann-Whitney U Test:\\nU-Statistic = {u_stat:.2f}, p-value = {p_value:.4f}\")\n"
   ]
  },
  {
   "cell_type": "markdown",
   "id": "9792ed8c-2f04-4e68-827d-477dd9257d80",
   "metadata": {},
   "source": [
    "### Inference from Mann-Whitney U Test: Salary Distribution Comparison\n",
    "\n",
    "This statistical test further investigates the observed similarities in salary distributions between laid-off and retained employees, providing a quantitative measure of whether any differences are statistically significant.\n",
    "\n",
    "1.  **Code Purpose**:\n",
    "    * The code performs a **Mann-Whitney U test**, which is a non-parametric statistical test used to compare the distributions of two independent samples.\n",
    "    * Here, it's applied to compare the `SalaryUSD` of `laid-off` employees (`LayoffFlag == 1`) against the `SalaryUSD` of `retained` employees (`LayoffFlag == 0`).\n",
    "    * The `alternative='two-sided'` argument means the test is checking for any difference in distributions (i.e., whether one is stochastically larger or smaller than the other).\n",
    "\n",
    "2.  **Output Interpretation**:\n",
    "    * **U-Statistic = 1238777.00**: This is the test statistic calculated by the Mann-Whitney U test. Its specific value is less directly interpretable than the p-value.\n",
    "    * **p-value = 0.5212**: This is the critical value for interpretation.\n",
    "        * A p-value of 0.5212 is significantly greater than common significance levels (e.g., $\\alpha = 0.05$ or $0.01$).\n",
    "\n",
    "3.  **Implications for Data Analysis**:\n",
    "    * **No Statistically Significant Difference in Salary Distributions**: The high p-value (0.5212) indicates that there is **no statistically significant difference** between the salary distributions of laid-off employees and retained employees.\n",
    "    * **Confirms Visual Observation from Plot 7**: This statistical finding strongly supports the visual inference from 'Plot 7: Salary Distribution – Laid-Off vs. Retained Employees'. While there might be subtle visual differences in density, the Mann-Whitney U test confirms that these differences are not statistically meaningful from a salary distribution perspective.\n",
    "    * **Salary Not a Primary Determinant**: This result further reinforces the conclusion that an employee's salary, by itself, was likely not the primary determining factor for whether they were laid off. Layoff decisions appear to be driven by other variables (e.g., skill mismatch, bench time, departmental restructuring, or performance within a broader context) rather than simply targeting employees based on their pay scale alone.\n",
    "    * **Focus on Other Factors**: For predicting layoff risk or understanding the criteria, analysts should focus on other features in the dataset, as salary alone does not differentiate the laid-off group from the retained group in a statistically significant manner."
   ]
  },
  {
   "cell_type": "markdown",
   "id": "8b99267e-e72b-49f7-9b29-e9839914d526",
   "metadata": {},
   "source": [
    "## Q8: How effective were redeployment attempts in preventing layoffs?"
   ]
  },
  {
   "cell_type": "markdown",
   "id": "93bb1843-c294-4111-a9f0-784ada99795f",
   "metadata": {},
   "source": [
    "### ➤ Step 1: Prepare Data for Plot 8 – Stacked Area Chart"
   ]
  },
  {
   "cell_type": "code",
   "execution_count": 62,
   "id": "9c25dfdd-0f45-40c4-81e5-0851e892ceab",
   "metadata": {},
   "outputs": [],
   "source": [
    "# Step 1: Filter relevant columns\n",
    "df_q8 = df[['RedeploymentAttempts', 'LayoffFlag', 'Designation']].dropna()\n",
    "\n",
    "# Step 2: Bin redeployment attempts (0, 1, 2, 3+)\n",
    "df_q8['RedeploymentBin'] = df_q8['RedeploymentAttempts'].apply(lambda x: '3+' if x >= 3 else str(x))\n",
    "\n",
    "# Step 3: Group by RedeploymentBin, Designation, and LayoffFlag to get counts\n",
    "grouped_q8 = df_q8.groupby(['RedeploymentBin', 'Designation', 'LayoffFlag']).size().reset_index(name='Count')\n",
    "\n",
    "# Step 4: Pivot to get proportion of layoffs vs retained per bin\n",
    "pivot_q8 = grouped_q8.pivot_table(\n",
    "    index=['RedeploymentBin', 'Designation'],\n",
    "    columns='LayoffFlag',\n",
    "    values='Count',\n",
    "    fill_value=0\n",
    ").reset_index()\n",
    "\n",
    "pivot_q8.columns.name = None\n",
    "pivot_q8.rename(columns={0: 'Retained', 1: 'LaidOff'}, inplace=True)\n",
    "\n",
    "# Step 5: Calculate proportions\n",
    "pivot_q8['Total'] = pivot_q8['Retained'] + pivot_q8['LaidOff']\n",
    "pivot_q8['LaidOffRate'] = pivot_q8['LaidOff'] / pivot_q8['Total']\n",
    "pivot_q8['RetainedRate'] = pivot_q8['Retained'] / pivot_q8['Total']\n"
   ]
  },
  {
   "cell_type": "markdown",
   "id": "3268d609-9300-4b23-8175-eac16e11429b",
   "metadata": {},
   "source": [
    "### ➤ Step 2: Create Plot 8 – Stacked Area Chart by Designation"
   ]
  },
  {
   "cell_type": "code",
   "execution_count": 64,
   "id": "8ef98c7d-4471-45d8-a1af-1417c8e1cc22",
   "metadata": {},
   "outputs": [
    {
     "data": {
      "text/html": [
       "<div>            <script src=\"https://cdnjs.cloudflare.com/ajax/libs/mathjax/2.7.5/MathJax.js?config=TeX-AMS-MML_SVG\"></script><script type=\"text/javascript\">if (window.MathJax && window.MathJax.Hub && window.MathJax.Hub.Config) {window.MathJax.Hub.Config({SVG: {font: \"STIX-Web\"}});}</script>                <script type=\"text/javascript\">window.PlotlyConfig = {MathJaxConfig: 'local'};</script>\n",
       "        <script charset=\"utf-8\" src=\"https://cdn.plot.ly/plotly-3.0.1.min.js\" integrity=\"sha256-oy6Be7Eh6eiQFs5M7oXuPxxm9qbJXEtTpfSI93dW16Q=\" crossorigin=\"anonymous\"></script>                <div id=\"5d6ae108-b0a7-4d5c-8905-6ae25b85c5ba\" class=\"plotly-graph-div\" style=\"height:525px; width:100%;\"></div>            <script type=\"text/javascript\">                window.PLOTLYENV=window.PLOTLYENV || {};                                if (document.getElementById(\"5d6ae108-b0a7-4d5c-8905-6ae25b85c5ba\")) {                    Plotly.newPlot(                        \"5d6ae108-b0a7-4d5c-8905-6ae25b85c5ba\",                        [{\"hoverinfo\":\"x+y\",\"line\":{\"width\":0.5},\"marker\":{\"color\":\"#636EFA\"},\"mode\":\"lines\",\"name\":\"Junior – Laid Off\",\"stackgroup\":\"one\",\"x\":[\"0\",\"1\",\"2\",\"3+\"],\"y\":{\"dtype\":\"f8\",\"bdata\":\"prUn\\u002f87lkD\\u002ft9MGofG+YP7sdqtuhuo0\\u002f+hicj8H5mD8=\"},\"type\":\"scatter\"},{\"hoverinfo\":\"x+y\",\"line\":{\"width\":0.5},\"marker\":{\"color\":\"#EF553B\"},\"mode\":\"lines\",\"name\":\"Lead – Laid Off\",\"stackgroup\":\"one\",\"x\":[\"0\",\"1\",\"2\",\"3+\"],\"y\":{\"dtype\":\"f8\",\"bdata\":\"T+GTlAWIkz\\u002fg6db8sEh5P9uBuXZgro0\\u002fVVVVVVVVpT8=\"},\"type\":\"scatter\"},{\"hoverinfo\":\"x+y\",\"line\":{\"width\":0.5},\"marker\":{\"color\":\"#00CC96\"},\"mode\":\"lines\",\"name\":\"Manager – Laid Off\",\"stackgroup\":\"one\",\"x\":[\"0\",\"1\",\"2\",\"3+\"],\"y\":{\"dtype\":\"f8\",\"bdata\":\"mpmZmZmZmT9uEJzKhG2QPwAAAAAAAAAAKK+hvIbymj8=\"},\"type\":\"scatter\"},{\"hoverinfo\":\"x+y\",\"line\":{\"width\":0.5},\"marker\":{\"color\":\"#AB63FA\"},\"mode\":\"lines\",\"name\":\"Mid – Laid Off\",\"stackgroup\":\"one\",\"x\":[\"0\",\"1\",\"2\",\"3+\"],\"y\":{\"dtype\":\"f8\",\"bdata\":\"hvnQS0xGoT+XhNDLnl2iP21dDCv+O6M\\u002fAAAAAAAAnD8=\"},\"type\":\"scatter\"},{\"hoverinfo\":\"x+y\",\"line\":{\"width\":0.5},\"marker\":{\"color\":\"#FFA15A\"},\"mode\":\"lines\",\"name\":\"Senior – Laid Off\",\"stackgroup\":\"one\",\"x\":[\"0\",\"1\",\"2\",\"3+\"],\"y\":{\"dtype\":\"f8\",\"bdata\":\"6vPSQH1emj9bPkTJSRmdPxq2m+VJZJo\\u002fnhLkKUGekj8=\"},\"type\":\"scatter\"}],                        {\"template\":{\"data\":{\"histogram2dcontour\":[{\"type\":\"histogram2dcontour\",\"colorbar\":{\"outlinewidth\":0,\"ticks\":\"\"},\"colorscale\":[[0.0,\"#0d0887\"],[0.1111111111111111,\"#46039f\"],[0.2222222222222222,\"#7201a8\"],[0.3333333333333333,\"#9c179e\"],[0.4444444444444444,\"#bd3786\"],[0.5555555555555556,\"#d8576b\"],[0.6666666666666666,\"#ed7953\"],[0.7777777777777778,\"#fb9f3a\"],[0.8888888888888888,\"#fdca26\"],[1.0,\"#f0f921\"]]}],\"choropleth\":[{\"type\":\"choropleth\",\"colorbar\":{\"outlinewidth\":0,\"ticks\":\"\"}}],\"histogram2d\":[{\"type\":\"histogram2d\",\"colorbar\":{\"outlinewidth\":0,\"ticks\":\"\"},\"colorscale\":[[0.0,\"#0d0887\"],[0.1111111111111111,\"#46039f\"],[0.2222222222222222,\"#7201a8\"],[0.3333333333333333,\"#9c179e\"],[0.4444444444444444,\"#bd3786\"],[0.5555555555555556,\"#d8576b\"],[0.6666666666666666,\"#ed7953\"],[0.7777777777777778,\"#fb9f3a\"],[0.8888888888888888,\"#fdca26\"],[1.0,\"#f0f921\"]]}],\"heatmap\":[{\"type\":\"heatmap\",\"colorbar\":{\"outlinewidth\":0,\"ticks\":\"\"},\"colorscale\":[[0.0,\"#0d0887\"],[0.1111111111111111,\"#46039f\"],[0.2222222222222222,\"#7201a8\"],[0.3333333333333333,\"#9c179e\"],[0.4444444444444444,\"#bd3786\"],[0.5555555555555556,\"#d8576b\"],[0.6666666666666666,\"#ed7953\"],[0.7777777777777778,\"#fb9f3a\"],[0.8888888888888888,\"#fdca26\"],[1.0,\"#f0f921\"]]}],\"contourcarpet\":[{\"type\":\"contourcarpet\",\"colorbar\":{\"outlinewidth\":0,\"ticks\":\"\"}}],\"contour\":[{\"type\":\"contour\",\"colorbar\":{\"outlinewidth\":0,\"ticks\":\"\"},\"colorscale\":[[0.0,\"#0d0887\"],[0.1111111111111111,\"#46039f\"],[0.2222222222222222,\"#7201a8\"],[0.3333333333333333,\"#9c179e\"],[0.4444444444444444,\"#bd3786\"],[0.5555555555555556,\"#d8576b\"],[0.6666666666666666,\"#ed7953\"],[0.7777777777777778,\"#fb9f3a\"],[0.8888888888888888,\"#fdca26\"],[1.0,\"#f0f921\"]]}],\"surface\":[{\"type\":\"surface\",\"colorbar\":{\"outlinewidth\":0,\"ticks\":\"\"},\"colorscale\":[[0.0,\"#0d0887\"],[0.1111111111111111,\"#46039f\"],[0.2222222222222222,\"#7201a8\"],[0.3333333333333333,\"#9c179e\"],[0.4444444444444444,\"#bd3786\"],[0.5555555555555556,\"#d8576b\"],[0.6666666666666666,\"#ed7953\"],[0.7777777777777778,\"#fb9f3a\"],[0.8888888888888888,\"#fdca26\"],[1.0,\"#f0f921\"]]}],\"mesh3d\":[{\"type\":\"mesh3d\",\"colorbar\":{\"outlinewidth\":0,\"ticks\":\"\"}}],\"scatter\":[{\"fillpattern\":{\"fillmode\":\"overlay\",\"size\":10,\"solidity\":0.2},\"type\":\"scatter\"}],\"parcoords\":[{\"type\":\"parcoords\",\"line\":{\"colorbar\":{\"outlinewidth\":0,\"ticks\":\"\"}}}],\"scatterpolargl\":[{\"type\":\"scatterpolargl\",\"marker\":{\"colorbar\":{\"outlinewidth\":0,\"ticks\":\"\"}}}],\"bar\":[{\"error_x\":{\"color\":\"#2a3f5f\"},\"error_y\":{\"color\":\"#2a3f5f\"},\"marker\":{\"line\":{\"color\":\"#E5ECF6\",\"width\":0.5},\"pattern\":{\"fillmode\":\"overlay\",\"size\":10,\"solidity\":0.2}},\"type\":\"bar\"}],\"scattergeo\":[{\"type\":\"scattergeo\",\"marker\":{\"colorbar\":{\"outlinewidth\":0,\"ticks\":\"\"}}}],\"scatterpolar\":[{\"type\":\"scatterpolar\",\"marker\":{\"colorbar\":{\"outlinewidth\":0,\"ticks\":\"\"}}}],\"histogram\":[{\"marker\":{\"pattern\":{\"fillmode\":\"overlay\",\"size\":10,\"solidity\":0.2}},\"type\":\"histogram\"}],\"scattergl\":[{\"type\":\"scattergl\",\"marker\":{\"colorbar\":{\"outlinewidth\":0,\"ticks\":\"\"}}}],\"scatter3d\":[{\"type\":\"scatter3d\",\"line\":{\"colorbar\":{\"outlinewidth\":0,\"ticks\":\"\"}},\"marker\":{\"colorbar\":{\"outlinewidth\":0,\"ticks\":\"\"}}}],\"scattermap\":[{\"type\":\"scattermap\",\"marker\":{\"colorbar\":{\"outlinewidth\":0,\"ticks\":\"\"}}}],\"scattermapbox\":[{\"type\":\"scattermapbox\",\"marker\":{\"colorbar\":{\"outlinewidth\":0,\"ticks\":\"\"}}}],\"scatterternary\":[{\"type\":\"scatterternary\",\"marker\":{\"colorbar\":{\"outlinewidth\":0,\"ticks\":\"\"}}}],\"scattercarpet\":[{\"type\":\"scattercarpet\",\"marker\":{\"colorbar\":{\"outlinewidth\":0,\"ticks\":\"\"}}}],\"carpet\":[{\"aaxis\":{\"endlinecolor\":\"#2a3f5f\",\"gridcolor\":\"white\",\"linecolor\":\"white\",\"minorgridcolor\":\"white\",\"startlinecolor\":\"#2a3f5f\"},\"baxis\":{\"endlinecolor\":\"#2a3f5f\",\"gridcolor\":\"white\",\"linecolor\":\"white\",\"minorgridcolor\":\"white\",\"startlinecolor\":\"#2a3f5f\"},\"type\":\"carpet\"}],\"table\":[{\"cells\":{\"fill\":{\"color\":\"#EBF0F8\"},\"line\":{\"color\":\"white\"}},\"header\":{\"fill\":{\"color\":\"#C8D4E3\"},\"line\":{\"color\":\"white\"}},\"type\":\"table\"}],\"barpolar\":[{\"marker\":{\"line\":{\"color\":\"#E5ECF6\",\"width\":0.5},\"pattern\":{\"fillmode\":\"overlay\",\"size\":10,\"solidity\":0.2}},\"type\":\"barpolar\"}],\"pie\":[{\"automargin\":true,\"type\":\"pie\"}]},\"layout\":{\"autotypenumbers\":\"strict\",\"colorway\":[\"#636efa\",\"#EF553B\",\"#00cc96\",\"#ab63fa\",\"#FFA15A\",\"#19d3f3\",\"#FF6692\",\"#B6E880\",\"#FF97FF\",\"#FECB52\"],\"font\":{\"color\":\"#2a3f5f\"},\"hovermode\":\"closest\",\"hoverlabel\":{\"align\":\"left\"},\"paper_bgcolor\":\"white\",\"plot_bgcolor\":\"#E5ECF6\",\"polar\":{\"bgcolor\":\"#E5ECF6\",\"angularaxis\":{\"gridcolor\":\"white\",\"linecolor\":\"white\",\"ticks\":\"\"},\"radialaxis\":{\"gridcolor\":\"white\",\"linecolor\":\"white\",\"ticks\":\"\"}},\"ternary\":{\"bgcolor\":\"#E5ECF6\",\"aaxis\":{\"gridcolor\":\"white\",\"linecolor\":\"white\",\"ticks\":\"\"},\"baxis\":{\"gridcolor\":\"white\",\"linecolor\":\"white\",\"ticks\":\"\"},\"caxis\":{\"gridcolor\":\"white\",\"linecolor\":\"white\",\"ticks\":\"\"}},\"coloraxis\":{\"colorbar\":{\"outlinewidth\":0,\"ticks\":\"\"}},\"colorscale\":{\"sequential\":[[0.0,\"#0d0887\"],[0.1111111111111111,\"#46039f\"],[0.2222222222222222,\"#7201a8\"],[0.3333333333333333,\"#9c179e\"],[0.4444444444444444,\"#bd3786\"],[0.5555555555555556,\"#d8576b\"],[0.6666666666666666,\"#ed7953\"],[0.7777777777777778,\"#fb9f3a\"],[0.8888888888888888,\"#fdca26\"],[1.0,\"#f0f921\"]],\"sequentialminus\":[[0.0,\"#0d0887\"],[0.1111111111111111,\"#46039f\"],[0.2222222222222222,\"#7201a8\"],[0.3333333333333333,\"#9c179e\"],[0.4444444444444444,\"#bd3786\"],[0.5555555555555556,\"#d8576b\"],[0.6666666666666666,\"#ed7953\"],[0.7777777777777778,\"#fb9f3a\"],[0.8888888888888888,\"#fdca26\"],[1.0,\"#f0f921\"]],\"diverging\":[[0,\"#8e0152\"],[0.1,\"#c51b7d\"],[0.2,\"#de77ae\"],[0.3,\"#f1b6da\"],[0.4,\"#fde0ef\"],[0.5,\"#f7f7f7\"],[0.6,\"#e6f5d0\"],[0.7,\"#b8e186\"],[0.8,\"#7fbc41\"],[0.9,\"#4d9221\"],[1,\"#276419\"]]},\"xaxis\":{\"gridcolor\":\"white\",\"linecolor\":\"white\",\"ticks\":\"\",\"title\":{\"standoff\":15},\"zerolinecolor\":\"white\",\"automargin\":true,\"zerolinewidth\":2},\"yaxis\":{\"gridcolor\":\"white\",\"linecolor\":\"white\",\"ticks\":\"\",\"title\":{\"standoff\":15},\"zerolinecolor\":\"white\",\"automargin\":true,\"zerolinewidth\":2},\"scene\":{\"xaxis\":{\"backgroundcolor\":\"#E5ECF6\",\"gridcolor\":\"white\",\"linecolor\":\"white\",\"showbackground\":true,\"ticks\":\"\",\"zerolinecolor\":\"white\",\"gridwidth\":2},\"yaxis\":{\"backgroundcolor\":\"#E5ECF6\",\"gridcolor\":\"white\",\"linecolor\":\"white\",\"showbackground\":true,\"ticks\":\"\",\"zerolinecolor\":\"white\",\"gridwidth\":2},\"zaxis\":{\"backgroundcolor\":\"#E5ECF6\",\"gridcolor\":\"white\",\"linecolor\":\"white\",\"showbackground\":true,\"ticks\":\"\",\"zerolinecolor\":\"white\",\"gridwidth\":2}},\"shapedefaults\":{\"line\":{\"color\":\"#2a3f5f\"}},\"annotationdefaults\":{\"arrowcolor\":\"#2a3f5f\",\"arrowhead\":0,\"arrowwidth\":1},\"geo\":{\"bgcolor\":\"white\",\"landcolor\":\"#E5ECF6\",\"subunitcolor\":\"white\",\"showland\":true,\"showlakes\":true,\"lakecolor\":\"white\"},\"title\":{\"x\":0.05},\"mapbox\":{\"style\":\"light\"}}},\"font\":{\"family\":\"Arial\",\"size\":12},\"title\":{\"text\":\"Plot 8: Redeployment Efforts and Layoff Outcomes\",\"font\":{\"size\":16}},\"xaxis\":{\"title\":{\"text\":\"Redeployment Attempts\"}},\"yaxis\":{\"title\":{\"text\":\"Proportion of Laid-Off Employees\"}}},                        {\"responsive\": true}                    ).then(function(){\n",
       "                            \n",
       "var gd = document.getElementById('5d6ae108-b0a7-4d5c-8905-6ae25b85c5ba');\n",
       "var x = new MutationObserver(function (mutations, observer) {{\n",
       "        var display = window.getComputedStyle(gd).display;\n",
       "        if (!display || display === 'none') {{\n",
       "            console.log([gd, 'removed!']);\n",
       "            Plotly.purge(gd);\n",
       "            observer.disconnect();\n",
       "        }}\n",
       "}});\n",
       "\n",
       "// Listen for the removal of the full notebook cells\n",
       "var notebookContainer = gd.closest('#notebook-container');\n",
       "if (notebookContainer) {{\n",
       "    x.observe(notebookContainer, {childList: true});\n",
       "}}\n",
       "\n",
       "// Listen for the clearing of the current output cell\n",
       "var outputEl = gd.closest('.output');\n",
       "if (outputEl) {{\n",
       "    x.observe(outputEl, {childList: true});\n",
       "}}\n",
       "\n",
       "                        })                };            </script>        </div>"
      ]
     },
     "metadata": {},
     "output_type": "display_data"
    }
   ],
   "source": [
    "import plotly.graph_objects as go\n",
    "\n",
    "fig8 = go.Figure()\n",
    "\n",
    "designations = pivot_q8['Designation'].unique()\n",
    "colors = px.colors.qualitative.Plotly\n",
    "\n",
    "for i, designation in enumerate(designations):\n",
    "    sub_data = pivot_q8[pivot_q8['Designation'] == designation]\n",
    "    fig8.add_trace(go.Scatter(\n",
    "        x=sub_data['RedeploymentBin'],\n",
    "        y=sub_data['LaidOffRate'],\n",
    "        mode='lines',\n",
    "        stackgroup='one',\n",
    "        name=f\"{designation} – Laid Off\",\n",
    "        line=dict(width=0.5),\n",
    "        marker=dict(color=colors[i % len(colors)]),\n",
    "        hoverinfo='x+y',\n",
    "    ))\n",
    "\n",
    "fig8.update_layout(\n",
    "    title=\"Plot 8: Redeployment Efforts and Layoff Outcomes\",\n",
    "    xaxis_title=\"Redeployment Attempts\",\n",
    "    yaxis_title=\"Proportion of Laid-Off Employees\",\n",
    "    font=dict(family=\"Arial\", size=12),\n",
    "    title_font_size=16\n",
    ")\n",
    "\n",
    "fig8.show()\n"
   ]
  },
  {
   "cell_type": "markdown",
   "id": "f5f40e62-5039-4c98-8fd5-d0fc44757376",
   "metadata": {},
   "source": [
    "### Inference from 'Plot 8: Redeployment Efforts and Layoff Outcomes'\n",
    "\n",
    "This stacked area chart illustrates the proportion of laid-off employees across different `Redeployment Attempts` bins, segmented by `Designation`. This plot helps in understanding the relationship between the number of redeployment attempts made for an employee and their ultimate layoff status, categorized by their role.\n",
    "\n",
    "1.  **Plot Type and Purpose**:\n",
    "    * This is a stacked area chart (using `stackgroup='one'`) with `Redeployment Attempts` (binned, likely 0, 1, 2, 3+) on the x-axis and `Proportion of Laid-Off Employees` on the y-axis.\n",
    "    * Each colored area represents a different `Designation` (Junior, Lead, Manager, Mid, Senior).\n",
    "    * The purpose is to show how the likelihood of being laid off changes with the number of redeployment attempts, and to identify if certain designations are more likely to be laid off after a certain number of attempts.\n",
    "\n",
    "2.  **Key Observations from the Plot**:\n",
    "\n",
    "    * **\"0 Redeployment Attempts\" as the Largest Group for Layoffs**: For almost all designations, the highest proportion of laid-off employees occurs when there have been **\"0\" redeployment attempts**. This is the largest stack segment on the far left. This suggests that a significant portion of layoffs occur without any prior attempts to redeploy the employee. These might be related to immediate role redundancies or strategic decisions where redeployment isn't an option.\n",
    "        * `Junior`, `Mid`, and `Senior` designations show a particularly large proportion of layoffs at `0` redeployment attempts.\n",
    "\n",
    "    * **Increasing Layoff Proportion with More Attempts for Some Roles**:\n",
    "        * For `Manager` and `Lead` designations, the proportion of laid-off employees, while starting low, tends to increase with more `Redeployment Attempts`. This is particularly visible for `Managers` where the orange segment grows as redeployment attempts increase. This suggests that if a manager or lead cannot be redeployed after multiple attempts, their likelihood of layoff increases significantly.\n",
    "        * This pattern implies that for these higher-level roles, redeployment is attempted, but failure to find a suitable new role after several tries leads to layoff.\n",
    "\n",
    "    * **Decreasing Layoff Proportion or Stabilizing for Other Roles**:\n",
    "        * For `Junior` and `Mid` designations, while the highest proportion of layoffs is at `0` attempts, the proportion seems to decrease or stabilize with increasing `Redeployment Attempts`. This could mean that if `Junior` or `Mid` level employees are put through redeployment attempts, they are often successfully placed, thereby reducing their layoff risk compared to those not attempted.\n",
    "\n",
    "    * **\"3+\" Attempts is a Critical Threshold**: The \"3+\" redeployment attempts bin shows a noticeable proportion of layoffs across almost all designations, indicating that if an employee cannot be placed after three or more attempts, the likelihood of layoff becomes very high, irrespective of their designation.\n",
    "\n",
    "3.  **Implications for Workforce Strategy**:\n",
    "\n",
    "    * **Proactive Redeployment is Key**: The large proportion of layoffs at \"0 redeployment attempts\" suggests a need for more proactive and earlier identification of employees at risk of redundancy and initiation of redeployment efforts *before* layoff decisions are finalized.\n",
    "    * **Tailored Redeployment Strategies**: The varying patterns across designations indicate that redeployment strategies should be tailored. For `Managers` and `Leads`, the focus might need to be on overcoming more complex barriers to placement, while for `Junior` and `Mid` roles, the volume of available roles might be higher, making successful redeployment more feasible if efforts are made.\n",
    "    * **Effectiveness of Redeployment Programs**: The data prompts questions about the effectiveness of the redeployment program itself. While it seems successful for some `Junior` and `Mid` level roles, its failure for `Managers` and `Leads` after multiple attempts points to potential challenges (e.g., lack of suitable internal roles at that level, specific skill gaps that can't be filled internally, or employee unwillingness).\n",
    "    * **Resource Allocation for Redeployment**: Resources for redeployment efforts should be strategically allocated, potentially focusing more on roles that show a higher success rate with attempts, while acknowledging that for some roles, immediate layoff might be the planned outcome if no internal fit is found."
   ]
  },
  {
   "cell_type": "markdown",
   "id": "963d76e4-ce68-47e1-8656-73f3140a8672",
   "metadata": {},
   "source": [
    "## Q9: How does onsite experience influence layoff decisions?"
   ]
  },
  {
   "cell_type": "markdown",
   "id": "854af3ea-416e-426f-82e4-8dd6adacd4f0",
   "metadata": {},
   "source": [
    "### ➤ Step 1: Prepare Data for Plot 9 – Bar Chart with Department Facets"
   ]
  },
  {
   "cell_type": "code",
   "execution_count": 66,
   "id": "d374231b-de13-4fe1-ad78-a24c8cce93df",
   "metadata": {},
   "outputs": [],
   "source": [
    "# Step 1: Filter relevant columns\n",
    "df_q9 = df[['OnsiteExperience', 'Department', 'LayoffFlag']].dropna()\n",
    "\n",
    "# Step 2: Group by OnsiteExperience, Department, LayoffFlag\n",
    "grouped_q9 = df_q9.groupby(['Department', 'OnsiteExperience', 'LayoffFlag']).size().reset_index(name='Count')\n",
    "\n",
    "# Step 3: Pivot to get layoff vs retained counts\n",
    "pivot_q9 = grouped_q9.pivot_table(\n",
    "    index=['Department', 'OnsiteExperience'],\n",
    "    columns='LayoffFlag',\n",
    "    values='Count',\n",
    "    fill_value=0\n",
    ").reset_index()\n",
    "\n",
    "# Step 4: Rename columns and calculate layoff rate\n",
    "pivot_q9.columns.name = None\n",
    "pivot_q9.rename(columns={0: 'Retained', 1: 'LaidOff'}, inplace=True)\n",
    "pivot_q9['Total'] = pivot_q9['Retained'] + pivot_q9['LaidOff']\n",
    "pivot_q9['LayoffRate'] = (pivot_q9['LaidOff'] / pivot_q9['Total']) * 100\n"
   ]
  },
  {
   "cell_type": "markdown",
   "id": "78275bab-4308-40df-942b-5a7d86f0b539",
   "metadata": {},
   "source": [
    "### ➤ Step 2: Create Plot 9 – Bar Chart Faceted by Department"
   ]
  },
  {
   "cell_type": "code",
   "execution_count": 67,
   "id": "e31ed399-0595-49e0-bc12-5e7cf364fd55",
   "metadata": {},
   "outputs": [
    {
     "data": {
      "text/html": [
       "<div>            <script src=\"https://cdnjs.cloudflare.com/ajax/libs/mathjax/2.7.5/MathJax.js?config=TeX-AMS-MML_SVG\"></script><script type=\"text/javascript\">if (window.MathJax && window.MathJax.Hub && window.MathJax.Hub.Config) {window.MathJax.Hub.Config({SVG: {font: \"STIX-Web\"}});}</script>                <script type=\"text/javascript\">window.PlotlyConfig = {MathJaxConfig: 'local'};</script>\n",
       "        <script charset=\"utf-8\" src=\"https://cdn.plot.ly/plotly-3.0.1.min.js\" integrity=\"sha256-oy6Be7Eh6eiQFs5M7oXuPxxm9qbJXEtTpfSI93dW16Q=\" crossorigin=\"anonymous\"></script>                <div id=\"2f6d5543-a96d-4933-9a2b-02b8a143f55f\" class=\"plotly-graph-div\" style=\"height:525px; width:100%;\"></div>            <script type=\"text/javascript\">                window.PLOTLYENV=window.PLOTLYENV || {};                                if (document.getElementById(\"2f6d5543-a96d-4933-9a2b-02b8a143f55f\")) {                    Plotly.newPlot(                        \"2f6d5543-a96d-4933-9a2b-02b8a143f55f\",                        [{\"customdata\":{\"dtype\":\"f8\",\"bdata\":\"AAAAAAAANEAAAAAAAMCEQAAAAAAAYIVA\",\"shape\":\"1, 3\"},\"hovertemplate\":\"OnsiteExperience=%{x}\\u003cbr\\u003eDepartment=Consulting\\u003cbr\\u003eLayoff Rate (%)=%{y:.2f}\\u003cbr\\u003eLaidOff=%{customdata[0]}\\u003cbr\\u003eRetained=%{customdata[1]}\\u003cbr\\u003eTotal=%{customdata[2]}\\u003cextra\\u003e\\u003c\\u002fextra\\u003e\",\"legendgroup\":\"No\",\"marker\":{\"color\":\"red\",\"pattern\":{\"shape\":\"\"}},\"name\":\"No\",\"orientation\":\"v\",\"showlegend\":true,\"textposition\":\"auto\",\"x\":[\"No\"],\"xaxis\":\"x\",\"y\":{\"dtype\":\"f8\",\"bdata\":\"RHYT2U1kB0A=\"},\"yaxis\":\"y\",\"type\":\"bar\"},{\"customdata\":{\"dtype\":\"f8\",\"bdata\":\"AAAAAAAAMkAAAAAAAKCCQAAAAAAAMINA\",\"shape\":\"1, 3\"},\"hovertemplate\":\"OnsiteExperience=%{x}\\u003cbr\\u003eDepartment=Finance\\u003cbr\\u003eLayoff Rate (%)=%{y:.2f}\\u003cbr\\u003eLaidOff=%{customdata[0]}\\u003cbr\\u003eRetained=%{customdata[1]}\\u003cbr\\u003eTotal=%{customdata[2]}\\u003cextra\\u003e\\u003c\\u002fextra\\u003e\",\"legendgroup\":\"No\",\"marker\":{\"color\":\"red\",\"pattern\":{\"shape\":\"\"}},\"name\":\"No\",\"orientation\":\"v\",\"showlegend\":false,\"textposition\":\"auto\",\"x\":[\"No\"],\"xaxis\":\"x2\",\"y\":{\"dtype\":\"f8\",\"bdata\":\"aXbGpuhzB0A=\"},\"yaxis\":\"y2\",\"type\":\"bar\"},{\"customdata\":{\"dtype\":\"f8\",\"bdata\":\"AAAAAAAAMUAAAAAAAEiDQAAAAAAA0INA\",\"shape\":\"1, 3\"},\"hovertemplate\":\"OnsiteExperience=%{x}\\u003cbr\\u003eDepartment=HR\\u003cbr\\u003eLayoff Rate (%)=%{y:.2f}\\u003cbr\\u003eLaidOff=%{customdata[0]}\\u003cbr\\u003eRetained=%{customdata[1]}\\u003cbr\\u003eTotal=%{customdata[2]}\\u003cextra\\u003e\\u003c\\u002fextra\\u003e\",\"legendgroup\":\"No\",\"marker\":{\"color\":\"red\",\"pattern\":{\"shape\":\"\"}},\"name\":\"No\",\"orientation\":\"v\",\"showlegend\":false,\"textposition\":\"auto\",\"x\":[\"No\"],\"xaxis\":\"x3\",\"y\":{\"dtype\":\"f8\",\"bdata\":\"+qfwjntzBUA=\"},\"yaxis\":\"y3\",\"type\":\"bar\"},{\"customdata\":{\"dtype\":\"f8\",\"bdata\":\"AAAAAABAU0AAAAAAAMqoQAAAAAAAZKlA\",\"shape\":\"1, 3\"},\"hovertemplate\":\"OnsiteExperience=%{x}\\u003cbr\\u003eDepartment=IT\\u003cbr\\u003eLayoff Rate (%)=%{y:.2f}\\u003cbr\\u003eLaidOff=%{customdata[0]}\\u003cbr\\u003eRetained=%{customdata[1]}\\u003cbr\\u003eTotal=%{customdata[2]}\\u003cextra\\u003e\\u003c\\u002fextra\\u003e\",\"legendgroup\":\"No\",\"marker\":{\"color\":\"red\",\"pattern\":{\"shape\":\"\"}},\"name\":\"No\",\"orientation\":\"v\",\"showlegend\":false,\"textposition\":\"auto\",\"x\":[\"No\"],\"xaxis\":\"x4\",\"y\":{\"dtype\":\"f8\",\"bdata\":\"Qy\\u002f0Qi\\u002f0AkA=\"},\"yaxis\":\"y4\",\"type\":\"bar\"},{\"customdata\":{\"dtype\":\"f8\",\"bdata\":\"AAAAAAAAJEAAAAAAADBzQAAAAAAA0HNA\",\"shape\":\"1, 3\"},\"hovertemplate\":\"OnsiteExperience=%{x}\\u003cbr\\u003eDepartment=Legal\\u003cbr\\u003eLayoff Rate (%)=%{y:.2f}\\u003cbr\\u003eLaidOff=%{customdata[0]}\\u003cbr\\u003eRetained=%{customdata[1]}\\u003cbr\\u003eTotal=%{customdata[2]}\\u003cextra\\u003e\\u003c\\u002fextra\\u003e\",\"legendgroup\":\"No\",\"marker\":{\"color\":\"red\",\"pattern\":{\"shape\":\"\"}},\"name\":\"No\",\"orientation\":\"v\",\"showlegend\":false,\"textposition\":\"auto\",\"x\":[\"No\"],\"xaxis\":\"x5\",\"y\":{\"dtype\":\"f8\",\"bdata\":\"vOPeXJE8CUA=\"},\"yaxis\":\"y5\",\"type\":\"bar\"},{\"customdata\":{\"dtype\":\"f8\",\"bdata\":\"AAAAAAAAQEAAAAAAANCOQAAAAAAA0I9A\",\"shape\":\"1, 3\"},\"hovertemplate\":\"OnsiteExperience=%{x}\\u003cbr\\u003eDepartment=Sales\\u003cbr\\u003eLayoff Rate (%)=%{y:.2f}\\u003cbr\\u003eLaidOff=%{customdata[0]}\\u003cbr\\u003eRetained=%{customdata[1]}\\u003cbr\\u003eTotal=%{customdata[2]}\\u003cextra\\u003e\\u003c\\u002fextra\\u003e\",\"legendgroup\":\"No\",\"marker\":{\"color\":\"red\",\"pattern\":{\"shape\":\"\"}},\"name\":\"No\",\"orientation\":\"v\",\"showlegend\":false,\"textposition\":\"auto\",\"x\":[\"No\"],\"xaxis\":\"x6\",\"y\":{\"dtype\":\"f8\",\"bdata\":\"9k7flLglCUA=\"},\"yaxis\":\"y6\",\"type\":\"bar\"},{\"customdata\":{\"dtype\":\"f8\",\"bdata\":\"AAAAAAAALEAAAAAAAIB0QAAAAAAAYHVA\",\"shape\":\"1, 3\"},\"hovertemplate\":\"OnsiteExperience=%{x}\\u003cbr\\u003eDepartment=Consulting\\u003cbr\\u003eLayoff Rate (%)=%{y:.2f}\\u003cbr\\u003eLaidOff=%{customdata[0]}\\u003cbr\\u003eRetained=%{customdata[1]}\\u003cbr\\u003eTotal=%{customdata[2]}\\u003cextra\\u003e\\u003c\\u002fextra\\u003e\",\"legendgroup\":\"Yes\",\"marker\":{\"color\":\"green\",\"pattern\":{\"shape\":\"\"}},\"name\":\"Yes\",\"orientation\":\"v\",\"showlegend\":true,\"textposition\":\"auto\",\"x\":[\"Yes\"],\"xaxis\":\"x\",\"y\":{\"dtype\":\"f8\",\"bdata\":\"\\u002fQX0F9BfEEA=\"},\"yaxis\":\"y\",\"type\":\"bar\"},{\"customdata\":{\"dtype\":\"f8\",\"bdata\":\"AAAAAAAAGEAAAAAAAOByQAAAAAAAQHNA\",\"shape\":\"1, 3\"},\"hovertemplate\":\"OnsiteExperience=%{x}\\u003cbr\\u003eDepartment=Finance\\u003cbr\\u003eLayoff Rate (%)=%{y:.2f}\\u003cbr\\u003eLaidOff=%{customdata[0]}\\u003cbr\\u003eRetained=%{customdata[1]}\\u003cbr\\u003eTotal=%{customdata[2]}\\u003cextra\\u003e\\u003c\\u002fextra\\u003e\",\"legendgroup\":\"Yes\",\"marker\":{\"color\":\"green\",\"pattern\":{\"shape\":\"\"}},\"name\":\"Yes\",\"orientation\":\"v\",\"showlegend\":false,\"textposition\":\"auto\",\"x\":[\"Yes\"],\"xaxis\":\"x2\",\"y\":{\"dtype\":\"f8\",\"bdata\":\"4qz8hDgr\\u002fz8=\"},\"yaxis\":\"y2\",\"type\":\"bar\"},{\"customdata\":{\"dtype\":\"f8\",\"bdata\":\"AAAAAAAAGEAAAAAAANB1QAAAAAAAMHZA\",\"shape\":\"1, 3\"},\"hovertemplate\":\"OnsiteExperience=%{x}\\u003cbr\\u003eDepartment=HR\\u003cbr\\u003eLayoff Rate (%)=%{y:.2f}\\u003cbr\\u003eLaidOff=%{customdata[0]}\\u003cbr\\u003eRetained=%{customdata[1]}\\u003cbr\\u003eTotal=%{customdata[2]}\\u003cextra\\u003e\\u003c\\u002fextra\\u003e\",\"legendgroup\":\"Yes\",\"marker\":{\"color\":\"green\",\"pattern\":{\"shape\":\"\"}},\"name\":\"Yes\",\"orientation\":\"v\",\"showlegend\":false,\"textposition\":\"auto\",\"x\":[\"Yes\"],\"xaxis\":\"x3\",\"y\":{\"dtype\":\"f8\",\"bdata\":\"WWFzINEK+z8=\"},\"yaxis\":\"y3\",\"type\":\"bar\"},{\"customdata\":{\"dtype\":\"f8\",\"bdata\":\"AAAAAAAAQEAAAAAAALSaQAAAAAAANJtA\",\"shape\":\"1, 3\"},\"hovertemplate\":\"OnsiteExperience=%{x}\\u003cbr\\u003eDepartment=IT\\u003cbr\\u003eLayoff Rate (%)=%{y:.2f}\\u003cbr\\u003eLaidOff=%{customdata[0]}\\u003cbr\\u003eRetained=%{customdata[1]}\\u003cbr\\u003eTotal=%{customdata[2]}\\u003cextra\\u003e\\u003c\\u002fextra\\u003e\",\"legendgroup\":\"Yes\",\"marker\":{\"color\":\"green\",\"pattern\":{\"shape\":\"\"}},\"name\":\"Yes\",\"orientation\":\"v\",\"showlegend\":false,\"textposition\":\"auto\",\"x\":[\"Yes\"],\"xaxis\":\"x4\",\"y\":{\"dtype\":\"f8\",\"bdata\":\"4gDi+4to\\u002fT8=\"},\"yaxis\":\"y4\",\"type\":\"bar\"},{\"customdata\":{\"dtype\":\"f8\",\"bdata\":\"AAAAAAAA8D8AAAAAAGBlQAAAAAAAgGVA\",\"shape\":\"1, 3\"},\"hovertemplate\":\"OnsiteExperience=%{x}\\u003cbr\\u003eDepartment=Legal\\u003cbr\\u003eLayoff Rate (%)=%{y:.2f}\\u003cbr\\u003eLaidOff=%{customdata[0]}\\u003cbr\\u003eRetained=%{customdata[1]}\\u003cbr\\u003eTotal=%{customdata[2]}\\u003cextra\\u003e\\u003c\\u002fextra\\u003e\",\"legendgroup\":\"Yes\",\"marker\":{\"color\":\"green\",\"pattern\":{\"shape\":\"\"}},\"name\":\"Yes\",\"orientation\":\"v\",\"showlegend\":false,\"textposition\":\"auto\",\"x\":[\"Yes\"],\"xaxis\":\"x5\",\"y\":{\"dtype\":\"f8\",\"bdata\":\"p6wpa8qa4j8=\"},\"yaxis\":\"y5\",\"type\":\"bar\"},{\"customdata\":{\"dtype\":\"f8\",\"bdata\":\"AAAAAAAAMEAAAAAAACiAQAAAAAAAqIBA\",\"shape\":\"1, 3\"},\"hovertemplate\":\"OnsiteExperience=%{x}\\u003cbr\\u003eDepartment=Sales\\u003cbr\\u003eLayoff Rate (%)=%{y:.2f}\\u003cbr\\u003eLaidOff=%{customdata[0]}\\u003cbr\\u003eRetained=%{customdata[1]}\\u003cbr\\u003eTotal=%{customdata[2]}\\u003cextra\\u003e\\u003c\\u002fextra\\u003e\",\"legendgroup\":\"Yes\",\"marker\":{\"color\":\"green\",\"pattern\":{\"shape\":\"\"}},\"name\":\"Yes\",\"orientation\":\"v\",\"showlegend\":false,\"textposition\":\"auto\",\"x\":[\"Yes\"],\"xaxis\":\"x6\",\"y\":{\"dtype\":\"f8\",\"bdata\":\"ofCfp9cDCEA=\"},\"yaxis\":\"y6\",\"type\":\"bar\"}],                        {\"template\":{\"data\":{\"histogram2dcontour\":[{\"type\":\"histogram2dcontour\",\"colorbar\":{\"outlinewidth\":0,\"ticks\":\"\"},\"colorscale\":[[0.0,\"#0d0887\"],[0.1111111111111111,\"#46039f\"],[0.2222222222222222,\"#7201a8\"],[0.3333333333333333,\"#9c179e\"],[0.4444444444444444,\"#bd3786\"],[0.5555555555555556,\"#d8576b\"],[0.6666666666666666,\"#ed7953\"],[0.7777777777777778,\"#fb9f3a\"],[0.8888888888888888,\"#fdca26\"],[1.0,\"#f0f921\"]]}],\"choropleth\":[{\"type\":\"choropleth\",\"colorbar\":{\"outlinewidth\":0,\"ticks\":\"\"}}],\"histogram2d\":[{\"type\":\"histogram2d\",\"colorbar\":{\"outlinewidth\":0,\"ticks\":\"\"},\"colorscale\":[[0.0,\"#0d0887\"],[0.1111111111111111,\"#46039f\"],[0.2222222222222222,\"#7201a8\"],[0.3333333333333333,\"#9c179e\"],[0.4444444444444444,\"#bd3786\"],[0.5555555555555556,\"#d8576b\"],[0.6666666666666666,\"#ed7953\"],[0.7777777777777778,\"#fb9f3a\"],[0.8888888888888888,\"#fdca26\"],[1.0,\"#f0f921\"]]}],\"heatmap\":[{\"type\":\"heatmap\",\"colorbar\":{\"outlinewidth\":0,\"ticks\":\"\"},\"colorscale\":[[0.0,\"#0d0887\"],[0.1111111111111111,\"#46039f\"],[0.2222222222222222,\"#7201a8\"],[0.3333333333333333,\"#9c179e\"],[0.4444444444444444,\"#bd3786\"],[0.5555555555555556,\"#d8576b\"],[0.6666666666666666,\"#ed7953\"],[0.7777777777777778,\"#fb9f3a\"],[0.8888888888888888,\"#fdca26\"],[1.0,\"#f0f921\"]]}],\"contourcarpet\":[{\"type\":\"contourcarpet\",\"colorbar\":{\"outlinewidth\":0,\"ticks\":\"\"}}],\"contour\":[{\"type\":\"contour\",\"colorbar\":{\"outlinewidth\":0,\"ticks\":\"\"},\"colorscale\":[[0.0,\"#0d0887\"],[0.1111111111111111,\"#46039f\"],[0.2222222222222222,\"#7201a8\"],[0.3333333333333333,\"#9c179e\"],[0.4444444444444444,\"#bd3786\"],[0.5555555555555556,\"#d8576b\"],[0.6666666666666666,\"#ed7953\"],[0.7777777777777778,\"#fb9f3a\"],[0.8888888888888888,\"#fdca26\"],[1.0,\"#f0f921\"]]}],\"surface\":[{\"type\":\"surface\",\"colorbar\":{\"outlinewidth\":0,\"ticks\":\"\"},\"colorscale\":[[0.0,\"#0d0887\"],[0.1111111111111111,\"#46039f\"],[0.2222222222222222,\"#7201a8\"],[0.3333333333333333,\"#9c179e\"],[0.4444444444444444,\"#bd3786\"],[0.5555555555555556,\"#d8576b\"],[0.6666666666666666,\"#ed7953\"],[0.7777777777777778,\"#fb9f3a\"],[0.8888888888888888,\"#fdca26\"],[1.0,\"#f0f921\"]]}],\"mesh3d\":[{\"type\":\"mesh3d\",\"colorbar\":{\"outlinewidth\":0,\"ticks\":\"\"}}],\"scatter\":[{\"fillpattern\":{\"fillmode\":\"overlay\",\"size\":10,\"solidity\":0.2},\"type\":\"scatter\"}],\"parcoords\":[{\"type\":\"parcoords\",\"line\":{\"colorbar\":{\"outlinewidth\":0,\"ticks\":\"\"}}}],\"scatterpolargl\":[{\"type\":\"scatterpolargl\",\"marker\":{\"colorbar\":{\"outlinewidth\":0,\"ticks\":\"\"}}}],\"bar\":[{\"error_x\":{\"color\":\"#2a3f5f\"},\"error_y\":{\"color\":\"#2a3f5f\"},\"marker\":{\"line\":{\"color\":\"#E5ECF6\",\"width\":0.5},\"pattern\":{\"fillmode\":\"overlay\",\"size\":10,\"solidity\":0.2}},\"type\":\"bar\"}],\"scattergeo\":[{\"type\":\"scattergeo\",\"marker\":{\"colorbar\":{\"outlinewidth\":0,\"ticks\":\"\"}}}],\"scatterpolar\":[{\"type\":\"scatterpolar\",\"marker\":{\"colorbar\":{\"outlinewidth\":0,\"ticks\":\"\"}}}],\"histogram\":[{\"marker\":{\"pattern\":{\"fillmode\":\"overlay\",\"size\":10,\"solidity\":0.2}},\"type\":\"histogram\"}],\"scattergl\":[{\"type\":\"scattergl\",\"marker\":{\"colorbar\":{\"outlinewidth\":0,\"ticks\":\"\"}}}],\"scatter3d\":[{\"type\":\"scatter3d\",\"line\":{\"colorbar\":{\"outlinewidth\":0,\"ticks\":\"\"}},\"marker\":{\"colorbar\":{\"outlinewidth\":0,\"ticks\":\"\"}}}],\"scattermap\":[{\"type\":\"scattermap\",\"marker\":{\"colorbar\":{\"outlinewidth\":0,\"ticks\":\"\"}}}],\"scattermapbox\":[{\"type\":\"scattermapbox\",\"marker\":{\"colorbar\":{\"outlinewidth\":0,\"ticks\":\"\"}}}],\"scatterternary\":[{\"type\":\"scatterternary\",\"marker\":{\"colorbar\":{\"outlinewidth\":0,\"ticks\":\"\"}}}],\"scattercarpet\":[{\"type\":\"scattercarpet\",\"marker\":{\"colorbar\":{\"outlinewidth\":0,\"ticks\":\"\"}}}],\"carpet\":[{\"aaxis\":{\"endlinecolor\":\"#2a3f5f\",\"gridcolor\":\"white\",\"linecolor\":\"white\",\"minorgridcolor\":\"white\",\"startlinecolor\":\"#2a3f5f\"},\"baxis\":{\"endlinecolor\":\"#2a3f5f\",\"gridcolor\":\"white\",\"linecolor\":\"white\",\"minorgridcolor\":\"white\",\"startlinecolor\":\"#2a3f5f\"},\"type\":\"carpet\"}],\"table\":[{\"cells\":{\"fill\":{\"color\":\"#EBF0F8\"},\"line\":{\"color\":\"white\"}},\"header\":{\"fill\":{\"color\":\"#C8D4E3\"},\"line\":{\"color\":\"white\"}},\"type\":\"table\"}],\"barpolar\":[{\"marker\":{\"line\":{\"color\":\"#E5ECF6\",\"width\":0.5},\"pattern\":{\"fillmode\":\"overlay\",\"size\":10,\"solidity\":0.2}},\"type\":\"barpolar\"}],\"pie\":[{\"automargin\":true,\"type\":\"pie\"}]},\"layout\":{\"autotypenumbers\":\"strict\",\"colorway\":[\"#636efa\",\"#EF553B\",\"#00cc96\",\"#ab63fa\",\"#FFA15A\",\"#19d3f3\",\"#FF6692\",\"#B6E880\",\"#FF97FF\",\"#FECB52\"],\"font\":{\"color\":\"#2a3f5f\"},\"hovermode\":\"closest\",\"hoverlabel\":{\"align\":\"left\"},\"paper_bgcolor\":\"white\",\"plot_bgcolor\":\"#E5ECF6\",\"polar\":{\"bgcolor\":\"#E5ECF6\",\"angularaxis\":{\"gridcolor\":\"white\",\"linecolor\":\"white\",\"ticks\":\"\"},\"radialaxis\":{\"gridcolor\":\"white\",\"linecolor\":\"white\",\"ticks\":\"\"}},\"ternary\":{\"bgcolor\":\"#E5ECF6\",\"aaxis\":{\"gridcolor\":\"white\",\"linecolor\":\"white\",\"ticks\":\"\"},\"baxis\":{\"gridcolor\":\"white\",\"linecolor\":\"white\",\"ticks\":\"\"},\"caxis\":{\"gridcolor\":\"white\",\"linecolor\":\"white\",\"ticks\":\"\"}},\"coloraxis\":{\"colorbar\":{\"outlinewidth\":0,\"ticks\":\"\"}},\"colorscale\":{\"sequential\":[[0.0,\"#0d0887\"],[0.1111111111111111,\"#46039f\"],[0.2222222222222222,\"#7201a8\"],[0.3333333333333333,\"#9c179e\"],[0.4444444444444444,\"#bd3786\"],[0.5555555555555556,\"#d8576b\"],[0.6666666666666666,\"#ed7953\"],[0.7777777777777778,\"#fb9f3a\"],[0.8888888888888888,\"#fdca26\"],[1.0,\"#f0f921\"]],\"sequentialminus\":[[0.0,\"#0d0887\"],[0.1111111111111111,\"#46039f\"],[0.2222222222222222,\"#7201a8\"],[0.3333333333333333,\"#9c179e\"],[0.4444444444444444,\"#bd3786\"],[0.5555555555555556,\"#d8576b\"],[0.6666666666666666,\"#ed7953\"],[0.7777777777777778,\"#fb9f3a\"],[0.8888888888888888,\"#fdca26\"],[1.0,\"#f0f921\"]],\"diverging\":[[0,\"#8e0152\"],[0.1,\"#c51b7d\"],[0.2,\"#de77ae\"],[0.3,\"#f1b6da\"],[0.4,\"#fde0ef\"],[0.5,\"#f7f7f7\"],[0.6,\"#e6f5d0\"],[0.7,\"#b8e186\"],[0.8,\"#7fbc41\"],[0.9,\"#4d9221\"],[1,\"#276419\"]]},\"xaxis\":{\"gridcolor\":\"white\",\"linecolor\":\"white\",\"ticks\":\"\",\"title\":{\"standoff\":15},\"zerolinecolor\":\"white\",\"automargin\":true,\"zerolinewidth\":2},\"yaxis\":{\"gridcolor\":\"white\",\"linecolor\":\"white\",\"ticks\":\"\",\"title\":{\"standoff\":15},\"zerolinecolor\":\"white\",\"automargin\":true,\"zerolinewidth\":2},\"scene\":{\"xaxis\":{\"backgroundcolor\":\"#E5ECF6\",\"gridcolor\":\"white\",\"linecolor\":\"white\",\"showbackground\":true,\"ticks\":\"\",\"zerolinecolor\":\"white\",\"gridwidth\":2},\"yaxis\":{\"backgroundcolor\":\"#E5ECF6\",\"gridcolor\":\"white\",\"linecolor\":\"white\",\"showbackground\":true,\"ticks\":\"\",\"zerolinecolor\":\"white\",\"gridwidth\":2},\"zaxis\":{\"backgroundcolor\":\"#E5ECF6\",\"gridcolor\":\"white\",\"linecolor\":\"white\",\"showbackground\":true,\"ticks\":\"\",\"zerolinecolor\":\"white\",\"gridwidth\":2}},\"shapedefaults\":{\"line\":{\"color\":\"#2a3f5f\"}},\"annotationdefaults\":{\"arrowcolor\":\"#2a3f5f\",\"arrowhead\":0,\"arrowwidth\":1},\"geo\":{\"bgcolor\":\"white\",\"landcolor\":\"#E5ECF6\",\"subunitcolor\":\"white\",\"showland\":true,\"showlakes\":true,\"lakecolor\":\"white\"},\"title\":{\"x\":0.05},\"mapbox\":{\"style\":\"light\"}}},\"xaxis\":{\"anchor\":\"y\",\"domain\":[0.0,0.15],\"title\":{\"text\":\"OnsiteExperience\"},\"categoryorder\":\"array\",\"categoryarray\":[\"No\",\"Yes\"]},\"yaxis\":{\"anchor\":\"x\",\"domain\":[0.0,1.0],\"title\":{\"text\":\"Layoff Rate (%)\"}},\"xaxis2\":{\"anchor\":\"y2\",\"domain\":[0.16999999999999998,0.31999999999999995],\"matches\":\"x\",\"title\":{\"text\":\"OnsiteExperience\"},\"categoryorder\":\"array\",\"categoryarray\":[\"No\",\"Yes\"]},\"yaxis2\":{\"anchor\":\"x2\",\"domain\":[0.0,1.0],\"matches\":\"y\",\"showticklabels\":false},\"xaxis3\":{\"anchor\":\"y3\",\"domain\":[0.33999999999999997,0.49],\"matches\":\"x\",\"title\":{\"text\":\"OnsiteExperience\"},\"categoryorder\":\"array\",\"categoryarray\":[\"No\",\"Yes\"]},\"yaxis3\":{\"anchor\":\"x3\",\"domain\":[0.0,1.0],\"matches\":\"y\",\"showticklabels\":false},\"xaxis4\":{\"anchor\":\"y4\",\"domain\":[0.51,0.66],\"matches\":\"x\",\"title\":{\"text\":\"OnsiteExperience\"},\"categoryorder\":\"array\",\"categoryarray\":[\"No\",\"Yes\"]},\"yaxis4\":{\"anchor\":\"x4\",\"domain\":[0.0,1.0],\"matches\":\"y\",\"showticklabels\":false},\"xaxis5\":{\"anchor\":\"y5\",\"domain\":[0.6799999999999999,0.83],\"matches\":\"x\",\"title\":{\"text\":\"OnsiteExperience\"},\"categoryorder\":\"array\",\"categoryarray\":[\"No\",\"Yes\"]},\"yaxis5\":{\"anchor\":\"x5\",\"domain\":[0.0,1.0],\"matches\":\"y\",\"showticklabels\":false},\"xaxis6\":{\"anchor\":\"y6\",\"domain\":[0.85,1.0],\"matches\":\"x\",\"title\":{\"text\":\"OnsiteExperience\"},\"categoryorder\":\"array\",\"categoryarray\":[\"No\",\"Yes\"]},\"yaxis6\":{\"anchor\":\"x6\",\"domain\":[0.0,1.0],\"matches\":\"y\",\"showticklabels\":false},\"annotations\":[{\"font\":{},\"showarrow\":false,\"text\":\"Consulting\",\"x\":0.075,\"xanchor\":\"center\",\"xref\":\"paper\",\"y\":1.0,\"yanchor\":\"bottom\",\"yref\":\"paper\"},{\"font\":{},\"showarrow\":false,\"text\":\"Finance\",\"x\":0.24499999999999997,\"xanchor\":\"center\",\"xref\":\"paper\",\"y\":1.0,\"yanchor\":\"bottom\",\"yref\":\"paper\"},{\"font\":{},\"showarrow\":false,\"text\":\"HR\",\"x\":0.415,\"xanchor\":\"center\",\"xref\":\"paper\",\"y\":1.0,\"yanchor\":\"bottom\",\"yref\":\"paper\"},{\"font\":{},\"showarrow\":false,\"text\":\"IT\",\"x\":0.585,\"xanchor\":\"center\",\"xref\":\"paper\",\"y\":1.0,\"yanchor\":\"bottom\",\"yref\":\"paper\"},{\"font\":{},\"showarrow\":false,\"text\":\"Legal\",\"x\":0.7549999999999999,\"xanchor\":\"center\",\"xref\":\"paper\",\"y\":1.0,\"yanchor\":\"bottom\",\"yref\":\"paper\"},{\"font\":{},\"showarrow\":false,\"text\":\"Sales\",\"x\":0.925,\"xanchor\":\"center\",\"xref\":\"paper\",\"y\":1.0,\"yanchor\":\"bottom\",\"yref\":\"paper\"}],\"legend\":{\"title\":{\"text\":\"OnsiteExperience\"},\"tracegroupgap\":0},\"title\":{\"text\":\"Plot 9: Onsite Experience and Layoff Risk by Department\",\"font\":{\"size\":16}},\"barmode\":\"relative\",\"font\":{\"family\":\"Arial\",\"size\":12},\"showlegend\":false},                        {\"responsive\": true}                    ).then(function(){\n",
       "                            \n",
       "var gd = document.getElementById('2f6d5543-a96d-4933-9a2b-02b8a143f55f');\n",
       "var x = new MutationObserver(function (mutations, observer) {{\n",
       "        var display = window.getComputedStyle(gd).display;\n",
       "        if (!display || display === 'none') {{\n",
       "            console.log([gd, 'removed!']);\n",
       "            Plotly.purge(gd);\n",
       "            observer.disconnect();\n",
       "        }}\n",
       "}});\n",
       "\n",
       "// Listen for the removal of the full notebook cells\n",
       "var notebookContainer = gd.closest('#notebook-container');\n",
       "if (notebookContainer) {{\n",
       "    x.observe(notebookContainer, {childList: true});\n",
       "}}\n",
       "\n",
       "// Listen for the clearing of the current output cell\n",
       "var outputEl = gd.closest('.output');\n",
       "if (outputEl) {{\n",
       "    x.observe(outputEl, {childList: true});\n",
       "}}\n",
       "\n",
       "                        })                };            </script>        </div>"
      ]
     },
     "metadata": {},
     "output_type": "display_data"
    }
   ],
   "source": [
    "fig9 = px.bar(\n",
    "    pivot_q9,\n",
    "    x='OnsiteExperience',\n",
    "    y='LayoffRate',\n",
    "    facet_col='Department',\n",
    "    color='OnsiteExperience',\n",
    "    color_discrete_map={'Yes': 'green', 'No': 'red'},\n",
    "    title='Plot 9: Onsite Experience and Layoff Risk by Department',\n",
    "    labels={'LayoffRate': 'Layoff Rate (%)'},\n",
    "    hover_data={'LayoffRate': ':.2f', 'LaidOff': True, 'Retained': True, 'Total': True}\n",
    ")\n",
    "\n",
    "# Beautify layout\n",
    "fig9.update_layout(\n",
    "    font=dict(family=\"Arial\", size=12),\n",
    "    title_font_size=16,\n",
    "    showlegend=False\n",
    ")\n",
    "\n",
    "# Tidy up facets\n",
    "fig9.for_each_annotation(lambda a: a.update(text=a.text.split(\"=\")[-1]))\n",
    "\n",
    "fig9.show()\n"
   ]
  },
  {
   "cell_type": "markdown",
   "id": "83086f83-9c53-4ce1-a355-f0416f6d5292",
   "metadata": {},
   "source": [
    "### Inference from 'Plot 9: Onsite Experience and Layoff Risk by Department'\n",
    "\n",
    "This faceted bar chart investigates the relationship between an employee's `Onsite Experience` and their `Layoff Risk`, broken down by `Department`. This plot is crucial for understanding if having onsite experience offers a protective or detrimental effect on job security within different functional areas.\n",
    "\n",
    "1.  **Plot Type and Purpose**:\n",
    "    * This is a bar plot faceted by `Department` (Finance, HR, IT, Marketing, Sales).\n",
    "    * The x-axis represents `OnsiteExperience` ('Yes' or 'No'), and the y-axis shows `Layoff Rate (%)`.\n",
    "    * Bars are colored 'green' for 'Yes' (Onsite Experience) and 'red' for 'No' (No Onsite Experience).\n",
    "    * The purpose is to determine if onsite experience significantly influences layoff rates within different departments.\n",
    "\n",
    "2.  **Key Observations from the Plot**:\n",
    "\n",
    "    * **Consistent Trend: No Onsite Experience = Higher Layoff Risk**: Across **all** departments (Finance, HR, IT, Marketing, Sales), employees who do **not** have `OnsiteExperience` (`No`) consistently face a significantly higher `Layoff Rate (%)` compared to those who do have `OnsiteExperience` (`Yes`).\n",
    "        * This pattern is very strong and suggests that onsite experience provides a substantial protective factor against layoffs.\n",
    "\n",
    "    * **Highest Disparity in IT and Sales**:\n",
    "        * In the `IT` department, the layoff rate for employees with no onsite experience is notably high (e.g., around 4.5% or more), while for those with onsite experience, it's significantly lower (e.g., around 1.5% or less).\n",
    "        * Similarly, in `Sales`, the difference is stark, with `No` onsite experience leading to a much higher layoff rate than `Yes`.\n",
    "        * These are also the departments identified in Plot 3 as having higher overall layoff counts.\n",
    "\n",
    "    * **Even in Less Affected Departments, Trend Holds**: Even in departments with generally lower layoff rates overall, like `HR` and `Marketing`, the trend persists: `No` onsite experience correlates with a higher layoff rate. For instance, in HR, the rate for 'No' is still higher than for 'Yes', even if both are low in absolute terms.\n",
    "\n",
    "    * **Implication of Onsite Experience Value**: Having `OnsiteExperience` appears to be a highly valued attribute that reduces layoff risk, regardless of the department. This could be due to:\n",
    "        * **Client Relationships**: Onsite roles often involve direct client interaction, building critical relationships.\n",
    "        * **Domain-Specific Knowledge**: Deeper immersion in client processes or specific on-site operations.\n",
    "        * **Visibility and Contribution**: Higher visibility to senior management or critical project teams.\n",
    "        * **Nature of Work**: Certain roles might inherently require onsite presence, making remote employees in those areas more susceptible if the work shifts.\n",
    "\n",
    "3.  **Implications for Workforce Strategy**:\n",
    "\n",
    "    * **Prioritize Onsite Talent Retention**: During workforce reductions, employees with `OnsiteExperience` are clearly less vulnerable. This implies a strategic preference for retaining such talent, likely due to their perceived direct value to client engagement, project delivery, or specific operational needs.\n",
    "    * **Review of Remote/Offsite Roles**: For roles that traditionally do not require onsite presence, or for which employees lack this experience, the company might need to re-evaluate their strategic importance or invest in programs that enhance their client-facing skills or visibility.\n",
    "    * **Policy on Onsite Work**: This finding could influence future policies regarding onsite work versus remote work models. If onsite presence significantly reduces layoff risk, it might lead to a greater emphasis on returning to office or client-site engagements.\n",
    "    * **Development and Exposure**: For employees lacking `OnsiteExperience`, providing opportunities for client visits, short-term onsite assignments, or roles with higher external visibility could be considered as a measure to enhance their value and reduce future layoff risk."
   ]
  },
  {
   "cell_type": "markdown",
   "id": "9d9e782b-688d-4840-b6ed-9b9fe2baea65",
   "metadata": {},
   "source": [
    "## Q10: What are the trends in layoffs over time (simulated)?"
   ]
  },
  {
   "cell_type": "markdown",
   "id": "c72b54ef-c23f-41b5-818d-b68f93eca193",
   "metadata": {},
   "source": [
    "### ➤ Step 1: Simulate Monthly DateOfRecord Values"
   ]
  },
  {
   "cell_type": "code",
   "execution_count": 73,
   "id": "c14869e3-cf35-4418-85f6-f8798f9d06db",
   "metadata": {},
   "outputs": [],
   "source": [
    "# Simulate realistic monthly DateOfRecord values\n",
    "date_range = pd.date_range(start='2024-01-01', end='2025-07-01', freq='MS')\n",
    "df_q10 = df.copy()\n",
    "df_q10['DateOfRecord'] = np.random.choice(date_range, size=len(df_q10))\n"
   ]
  },
  {
   "cell_type": "markdown",
   "id": "a0bdb5eb-1c3f-45d3-b2d8-389d50ce3e7b",
   "metadata": {},
   "source": [
    "### ➤ Step 2: Extract Month and Aggregate Layoffs"
   ]
  },
  {
   "cell_type": "code",
   "execution_count": 74,
   "id": "f0019c70-1025-4335-ab93-1d62bb33ee9a",
   "metadata": {},
   "outputs": [],
   "source": [
    "# Extract 'Month' for grouping\n",
    "df_q10['Month'] = df_q10['DateOfRecord'].dt.to_period('M').astype(str)\n",
    "\n",
    "# Group by Month and LayoffFlag to count layoffs vs retained\n",
    "monthly_layoffs = df_q10.groupby(['Month', 'LayoffFlag']).size().reset_index(name='Count')\n"
   ]
  },
  {
   "cell_type": "markdown",
   "id": "0f15976e-6480-4033-befc-7dbf8f2121d9",
   "metadata": {},
   "source": [
    "### ➤ Step 3: Create Plot 10 – Simulated Layoff Trends Over Time"
   ]
  },
  {
   "cell_type": "code",
   "execution_count": 75,
   "id": "efed702d-cdd1-48f2-ba69-bd86965cafc2",
   "metadata": {},
   "outputs": [
    {
     "data": {
      "text/html": [
       "<div>            <script src=\"https://cdnjs.cloudflare.com/ajax/libs/mathjax/2.7.5/MathJax.js?config=TeX-AMS-MML_SVG\"></script><script type=\"text/javascript\">if (window.MathJax && window.MathJax.Hub && window.MathJax.Hub.Config) {window.MathJax.Hub.Config({SVG: {font: \"STIX-Web\"}});}</script>                <script type=\"text/javascript\">window.PlotlyConfig = {MathJaxConfig: 'local'};</script>\n",
       "        <script charset=\"utf-8\" src=\"https://cdn.plot.ly/plotly-3.0.1.min.js\" integrity=\"sha256-oy6Be7Eh6eiQFs5M7oXuPxxm9qbJXEtTpfSI93dW16Q=\" crossorigin=\"anonymous\"></script>                <div id=\"742cef87-8891-4442-bee2-b193ba52f900\" class=\"plotly-graph-div\" style=\"height:525px; width:100%;\"></div>            <script type=\"text/javascript\">                window.PLOTLYENV=window.PLOTLYENV || {};                                if (document.getElementById(\"742cef87-8891-4442-bee2-b193ba52f900\")) {                    Plotly.newPlot(                        \"742cef87-8891-4442-bee2-b193ba52f900\",                        [{\"hovertemplate\":\"Layoff Status (0 = Retained, 1 = Laid-Off)=0\\u003cbr\\u003eMonth=%{x}\\u003cbr\\u003eNumber of Employees=%{y}\\u003cextra\\u003e\\u003c\\u002fextra\\u003e\",\"legendgroup\":\"0\",\"line\":{\"color\":\"blue\",\"dash\":\"solid\"},\"marker\":{\"symbol\":\"circle\"},\"mode\":\"lines+markers\",\"name\":\"0\",\"orientation\":\"v\",\"showlegend\":true,\"x\":[\"2024-01\",\"2024-02\",\"2024-03\",\"2024-04\",\"2024-05\",\"2024-06\",\"2024-07\",\"2024-08\",\"2024-09\",\"2024-10\",\"2024-11\",\"2024-12\",\"2025-01\",\"2025-02\",\"2025-03\",\"2025-04\",\"2025-05\",\"2025-06\",\"2025-07\"],\"xaxis\":\"x\",\"y\":{\"dtype\":\"i2\",\"bdata\":\"MQIPAgcCCAL7Af0B3AH4AfwB+wHyAeUBFgL9AeABJAICAvoB+wE=\"},\"yaxis\":\"y\",\"type\":\"scatter\"},{\"hovertemplate\":\"Layoff Status (0 = Retained, 1 = Laid-Off)=1\\u003cbr\\u003eMonth=%{x}\\u003cbr\\u003eNumber of Employees=%{y}\\u003cextra\\u003e\\u003c\\u002fextra\\u003e\",\"legendgroup\":\"1\",\"line\":{\"color\":\"orange\",\"dash\":\"solid\"},\"marker\":{\"symbol\":\"circle\"},\"mode\":\"lines+markers\",\"name\":\"1\",\"orientation\":\"v\",\"showlegend\":true,\"x\":[\"2024-01\",\"2024-02\",\"2024-03\",\"2024-04\",\"2024-05\",\"2024-06\",\"2024-07\",\"2024-08\",\"2024-09\",\"2024-10\",\"2024-11\",\"2024-12\",\"2025-01\",\"2025-02\",\"2025-03\",\"2025-04\",\"2025-05\",\"2025-06\",\"2025-07\"],\"xaxis\":\"x\",\"y\":{\"dtype\":\"i1\",\"bdata\":\"CxANEwcPDBYMEgwKCQsNCBARCA==\"},\"yaxis\":\"y\",\"type\":\"scatter\"}],                        {\"template\":{\"data\":{\"histogram2dcontour\":[{\"type\":\"histogram2dcontour\",\"colorbar\":{\"outlinewidth\":0,\"ticks\":\"\"},\"colorscale\":[[0.0,\"#0d0887\"],[0.1111111111111111,\"#46039f\"],[0.2222222222222222,\"#7201a8\"],[0.3333333333333333,\"#9c179e\"],[0.4444444444444444,\"#bd3786\"],[0.5555555555555556,\"#d8576b\"],[0.6666666666666666,\"#ed7953\"],[0.7777777777777778,\"#fb9f3a\"],[0.8888888888888888,\"#fdca26\"],[1.0,\"#f0f921\"]]}],\"choropleth\":[{\"type\":\"choropleth\",\"colorbar\":{\"outlinewidth\":0,\"ticks\":\"\"}}],\"histogram2d\":[{\"type\":\"histogram2d\",\"colorbar\":{\"outlinewidth\":0,\"ticks\":\"\"},\"colorscale\":[[0.0,\"#0d0887\"],[0.1111111111111111,\"#46039f\"],[0.2222222222222222,\"#7201a8\"],[0.3333333333333333,\"#9c179e\"],[0.4444444444444444,\"#bd3786\"],[0.5555555555555556,\"#d8576b\"],[0.6666666666666666,\"#ed7953\"],[0.7777777777777778,\"#fb9f3a\"],[0.8888888888888888,\"#fdca26\"],[1.0,\"#f0f921\"]]}],\"heatmap\":[{\"type\":\"heatmap\",\"colorbar\":{\"outlinewidth\":0,\"ticks\":\"\"},\"colorscale\":[[0.0,\"#0d0887\"],[0.1111111111111111,\"#46039f\"],[0.2222222222222222,\"#7201a8\"],[0.3333333333333333,\"#9c179e\"],[0.4444444444444444,\"#bd3786\"],[0.5555555555555556,\"#d8576b\"],[0.6666666666666666,\"#ed7953\"],[0.7777777777777778,\"#fb9f3a\"],[0.8888888888888888,\"#fdca26\"],[1.0,\"#f0f921\"]]}],\"contourcarpet\":[{\"type\":\"contourcarpet\",\"colorbar\":{\"outlinewidth\":0,\"ticks\":\"\"}}],\"contour\":[{\"type\":\"contour\",\"colorbar\":{\"outlinewidth\":0,\"ticks\":\"\"},\"colorscale\":[[0.0,\"#0d0887\"],[0.1111111111111111,\"#46039f\"],[0.2222222222222222,\"#7201a8\"],[0.3333333333333333,\"#9c179e\"],[0.4444444444444444,\"#bd3786\"],[0.5555555555555556,\"#d8576b\"],[0.6666666666666666,\"#ed7953\"],[0.7777777777777778,\"#fb9f3a\"],[0.8888888888888888,\"#fdca26\"],[1.0,\"#f0f921\"]]}],\"surface\":[{\"type\":\"surface\",\"colorbar\":{\"outlinewidth\":0,\"ticks\":\"\"},\"colorscale\":[[0.0,\"#0d0887\"],[0.1111111111111111,\"#46039f\"],[0.2222222222222222,\"#7201a8\"],[0.3333333333333333,\"#9c179e\"],[0.4444444444444444,\"#bd3786\"],[0.5555555555555556,\"#d8576b\"],[0.6666666666666666,\"#ed7953\"],[0.7777777777777778,\"#fb9f3a\"],[0.8888888888888888,\"#fdca26\"],[1.0,\"#f0f921\"]]}],\"mesh3d\":[{\"type\":\"mesh3d\",\"colorbar\":{\"outlinewidth\":0,\"ticks\":\"\"}}],\"scatter\":[{\"fillpattern\":{\"fillmode\":\"overlay\",\"size\":10,\"solidity\":0.2},\"type\":\"scatter\"}],\"parcoords\":[{\"type\":\"parcoords\",\"line\":{\"colorbar\":{\"outlinewidth\":0,\"ticks\":\"\"}}}],\"scatterpolargl\":[{\"type\":\"scatterpolargl\",\"marker\":{\"colorbar\":{\"outlinewidth\":0,\"ticks\":\"\"}}}],\"bar\":[{\"error_x\":{\"color\":\"#2a3f5f\"},\"error_y\":{\"color\":\"#2a3f5f\"},\"marker\":{\"line\":{\"color\":\"#E5ECF6\",\"width\":0.5},\"pattern\":{\"fillmode\":\"overlay\",\"size\":10,\"solidity\":0.2}},\"type\":\"bar\"}],\"scattergeo\":[{\"type\":\"scattergeo\",\"marker\":{\"colorbar\":{\"outlinewidth\":0,\"ticks\":\"\"}}}],\"scatterpolar\":[{\"type\":\"scatterpolar\",\"marker\":{\"colorbar\":{\"outlinewidth\":0,\"ticks\":\"\"}}}],\"histogram\":[{\"marker\":{\"pattern\":{\"fillmode\":\"overlay\",\"size\":10,\"solidity\":0.2}},\"type\":\"histogram\"}],\"scattergl\":[{\"type\":\"scattergl\",\"marker\":{\"colorbar\":{\"outlinewidth\":0,\"ticks\":\"\"}}}],\"scatter3d\":[{\"type\":\"scatter3d\",\"line\":{\"colorbar\":{\"outlinewidth\":0,\"ticks\":\"\"}},\"marker\":{\"colorbar\":{\"outlinewidth\":0,\"ticks\":\"\"}}}],\"scattermap\":[{\"type\":\"scattermap\",\"marker\":{\"colorbar\":{\"outlinewidth\":0,\"ticks\":\"\"}}}],\"scattermapbox\":[{\"type\":\"scattermapbox\",\"marker\":{\"colorbar\":{\"outlinewidth\":0,\"ticks\":\"\"}}}],\"scatterternary\":[{\"type\":\"scatterternary\",\"marker\":{\"colorbar\":{\"outlinewidth\":0,\"ticks\":\"\"}}}],\"scattercarpet\":[{\"type\":\"scattercarpet\",\"marker\":{\"colorbar\":{\"outlinewidth\":0,\"ticks\":\"\"}}}],\"carpet\":[{\"aaxis\":{\"endlinecolor\":\"#2a3f5f\",\"gridcolor\":\"white\",\"linecolor\":\"white\",\"minorgridcolor\":\"white\",\"startlinecolor\":\"#2a3f5f\"},\"baxis\":{\"endlinecolor\":\"#2a3f5f\",\"gridcolor\":\"white\",\"linecolor\":\"white\",\"minorgridcolor\":\"white\",\"startlinecolor\":\"#2a3f5f\"},\"type\":\"carpet\"}],\"table\":[{\"cells\":{\"fill\":{\"color\":\"#EBF0F8\"},\"line\":{\"color\":\"white\"}},\"header\":{\"fill\":{\"color\":\"#C8D4E3\"},\"line\":{\"color\":\"white\"}},\"type\":\"table\"}],\"barpolar\":[{\"marker\":{\"line\":{\"color\":\"#E5ECF6\",\"width\":0.5},\"pattern\":{\"fillmode\":\"overlay\",\"size\":10,\"solidity\":0.2}},\"type\":\"barpolar\"}],\"pie\":[{\"automargin\":true,\"type\":\"pie\"}]},\"layout\":{\"autotypenumbers\":\"strict\",\"colorway\":[\"#636efa\",\"#EF553B\",\"#00cc96\",\"#ab63fa\",\"#FFA15A\",\"#19d3f3\",\"#FF6692\",\"#B6E880\",\"#FF97FF\",\"#FECB52\"],\"font\":{\"color\":\"#2a3f5f\"},\"hovermode\":\"closest\",\"hoverlabel\":{\"align\":\"left\"},\"paper_bgcolor\":\"white\",\"plot_bgcolor\":\"#E5ECF6\",\"polar\":{\"bgcolor\":\"#E5ECF6\",\"angularaxis\":{\"gridcolor\":\"white\",\"linecolor\":\"white\",\"ticks\":\"\"},\"radialaxis\":{\"gridcolor\":\"white\",\"linecolor\":\"white\",\"ticks\":\"\"}},\"ternary\":{\"bgcolor\":\"#E5ECF6\",\"aaxis\":{\"gridcolor\":\"white\",\"linecolor\":\"white\",\"ticks\":\"\"},\"baxis\":{\"gridcolor\":\"white\",\"linecolor\":\"white\",\"ticks\":\"\"},\"caxis\":{\"gridcolor\":\"white\",\"linecolor\":\"white\",\"ticks\":\"\"}},\"coloraxis\":{\"colorbar\":{\"outlinewidth\":0,\"ticks\":\"\"}},\"colorscale\":{\"sequential\":[[0.0,\"#0d0887\"],[0.1111111111111111,\"#46039f\"],[0.2222222222222222,\"#7201a8\"],[0.3333333333333333,\"#9c179e\"],[0.4444444444444444,\"#bd3786\"],[0.5555555555555556,\"#d8576b\"],[0.6666666666666666,\"#ed7953\"],[0.7777777777777778,\"#fb9f3a\"],[0.8888888888888888,\"#fdca26\"],[1.0,\"#f0f921\"]],\"sequentialminus\":[[0.0,\"#0d0887\"],[0.1111111111111111,\"#46039f\"],[0.2222222222222222,\"#7201a8\"],[0.3333333333333333,\"#9c179e\"],[0.4444444444444444,\"#bd3786\"],[0.5555555555555556,\"#d8576b\"],[0.6666666666666666,\"#ed7953\"],[0.7777777777777778,\"#fb9f3a\"],[0.8888888888888888,\"#fdca26\"],[1.0,\"#f0f921\"]],\"diverging\":[[0,\"#8e0152\"],[0.1,\"#c51b7d\"],[0.2,\"#de77ae\"],[0.3,\"#f1b6da\"],[0.4,\"#fde0ef\"],[0.5,\"#f7f7f7\"],[0.6,\"#e6f5d0\"],[0.7,\"#b8e186\"],[0.8,\"#7fbc41\"],[0.9,\"#4d9221\"],[1,\"#276419\"]]},\"xaxis\":{\"gridcolor\":\"white\",\"linecolor\":\"white\",\"ticks\":\"\",\"title\":{\"standoff\":15},\"zerolinecolor\":\"white\",\"automargin\":true,\"zerolinewidth\":2},\"yaxis\":{\"gridcolor\":\"white\",\"linecolor\":\"white\",\"ticks\":\"\",\"title\":{\"standoff\":15},\"zerolinecolor\":\"white\",\"automargin\":true,\"zerolinewidth\":2},\"scene\":{\"xaxis\":{\"backgroundcolor\":\"#E5ECF6\",\"gridcolor\":\"white\",\"linecolor\":\"white\",\"showbackground\":true,\"ticks\":\"\",\"zerolinecolor\":\"white\",\"gridwidth\":2},\"yaxis\":{\"backgroundcolor\":\"#E5ECF6\",\"gridcolor\":\"white\",\"linecolor\":\"white\",\"showbackground\":true,\"ticks\":\"\",\"zerolinecolor\":\"white\",\"gridwidth\":2},\"zaxis\":{\"backgroundcolor\":\"#E5ECF6\",\"gridcolor\":\"white\",\"linecolor\":\"white\",\"showbackground\":true,\"ticks\":\"\",\"zerolinecolor\":\"white\",\"gridwidth\":2}},\"shapedefaults\":{\"line\":{\"color\":\"#2a3f5f\"}},\"annotationdefaults\":{\"arrowcolor\":\"#2a3f5f\",\"arrowhead\":0,\"arrowwidth\":1},\"geo\":{\"bgcolor\":\"white\",\"landcolor\":\"#E5ECF6\",\"subunitcolor\":\"white\",\"showland\":true,\"showlakes\":true,\"lakecolor\":\"white\"},\"title\":{\"x\":0.05},\"mapbox\":{\"style\":\"light\"}}},\"xaxis\":{\"anchor\":\"y\",\"domain\":[0.0,1.0],\"title\":{\"text\":\"Month\"}},\"yaxis\":{\"anchor\":\"x\",\"domain\":[0.0,1.0],\"title\":{\"text\":\"Employee Count\"}},\"legend\":{\"title\":{\"text\":\"Layoff Status (0 = Retained, 1 = Laid-Off)\"},\"tracegroupgap\":0},\"title\":{\"text\":\"Plot 10: Simulated Layoff Trends Over Time\",\"font\":{\"size\":16}},\"font\":{\"family\":\"Arial\",\"size\":12},\"hovermode\":\"x unified\"},                        {\"responsive\": true}                    ).then(function(){\n",
       "                            \n",
       "var gd = document.getElementById('742cef87-8891-4442-bee2-b193ba52f900');\n",
       "var x = new MutationObserver(function (mutations, observer) {{\n",
       "        var display = window.getComputedStyle(gd).display;\n",
       "        if (!display || display === 'none') {{\n",
       "            console.log([gd, 'removed!']);\n",
       "            Plotly.purge(gd);\n",
       "            observer.disconnect();\n",
       "        }}\n",
       "}});\n",
       "\n",
       "// Listen for the removal of the full notebook cells\n",
       "var notebookContainer = gd.closest('#notebook-container');\n",
       "if (notebookContainer) {{\n",
       "    x.observe(notebookContainer, {childList: true});\n",
       "}}\n",
       "\n",
       "// Listen for the clearing of the current output cell\n",
       "var outputEl = gd.closest('.output');\n",
       "if (outputEl) {{\n",
       "    x.observe(outputEl, {childList: true});\n",
       "}}\n",
       "\n",
       "                        })                };            </script>        </div>"
      ]
     },
     "metadata": {},
     "output_type": "display_data"
    }
   ],
   "source": [
    "fig10 = px.line(\n",
    "    monthly_layoffs,\n",
    "    x='Month',\n",
    "    y='Count',\n",
    "    color='LayoffFlag',\n",
    "    markers=True,\n",
    "    title='Plot 10: Simulated Layoff Trends Over Time',\n",
    "    labels={'LayoffFlag': 'Layoff Status (0 = Retained, 1 = Laid-Off)', 'Count': 'Number of Employees'},\n",
    "    color_discrete_map={0: 'blue', 1: 'orange'}\n",
    ")\n",
    "\n",
    "# Beautify layout\n",
    "fig10.update_layout(\n",
    "    xaxis_title=\"Month\",\n",
    "    yaxis_title=\"Employee Count\",\n",
    "    font=dict(family=\"Arial\", size=12),\n",
    "    title_font_size=16,\n",
    "    hovermode=\"x unified\"\n",
    ")\n",
    "\n",
    "fig10.show()\n"
   ]
  },
  {
   "cell_type": "markdown",
   "id": "befc3f6f-da9a-49e4-b6a0-8b30bad09c9c",
   "metadata": {},
   "source": [
    "### Inference from 'Plot 10: Simulated Layoff Trends Over Time'\n",
    "\n",
    "This line plot visualizes the `Number of Employees` over `Month`, separated by their `Layoff Status` (retained vs. laid-off). Since the dataset's `DateOfRecord` is uniform (2025-07-30), this plot likely represents a simulation or a hypothetical trend based on aggregated monthly data, rather than actual historical time series from the `tcs_workforce_2025.csv` file itself. Its purpose is to show how the counts of retained and laid-off employees might hypothetically evolve over a given period.\n",
    "\n",
    "1.  **Plot Type and Purpose**:\n",
    "    * This is a line plot with markers, showing two lines: one for 'Retained' employees (`LayoffFlag = 0`, blue) and one for 'Laid-Off' employees (`LayoffFlag = 1`, orange).\n",
    "    * The x-axis represents `Month`, and the y-axis represents `Employee Count`.\n",
    "    * Given the single `DateOfRecord` in the original dataset, this plot is interpreting or simulating how layoff decisions (or employee counts per status) might manifest across hypothetical months.\n",
    "    * The purpose is to observe simulated trends in the volume of layoffs relative to the retained workforce over time.\n",
    "\n",
    "2.  **Key Observations from the Plot**:\n",
    "\n",
    "    * **Consistent Volume of Retained Employees**: The blue line, representing 'Retained' employees, remains relatively flat and high across all months. This indicates that the vast majority of the workforce is retained throughout the simulated period.\n",
    "    * **Relatively Low Volume of Laid-Off Employees**: The orange line, representing 'Laid-Off' employees, also remains at a consistently low level across the months, especially when compared to the number of retained employees. This aligns with the overall low layoff rate (2.5%) observed earlier in the `df.describe()` inference.\n",
    "    * **Absence of Significant Monthly Fluctuation in Layoffs**: The plot shows no major peaks or troughs in the 'Laid-Off' employee count across the months. This suggests that the layoffs, within this simulated or aggregated view, either occurred as a steady trickle, or as a single, uniform event not broken down into monthly variances within the data used for this specific plot. If it were actual historical data, one would expect to see distinct spikes corresponding to layoff events.\n",
    "    * **Stable Workforce Composition (Simulated)**: From this plot's perspective, the workforce composition, in terms of the proportion of laid-off versus retained employees, appears stable month-to-month during this simulated period.\n",
    "\n",
    "3.  **Implications for Workforce Strategy**:\n",
    "\n",
    "    * **Layoffs as Ongoing Adjustment (Potentially)**: If this plot represents an ongoing process, it suggests that layoffs are either a continuous, low-volume adjustment rather than a single large-scale event.\n",
    "    * **Impact on Planning**: The apparent stability could imply that the company has a consistent process for managing workforce reductions or that the impact of layoffs is distributed evenly over time, making it potentially easier to manage from an operational perspective than sudden, large-scale cuts.\n",
    "    * **Need for Granular Time Series Data**: For more actionable insights into layoff trends, actual historical `LayoffDate` information would be crucial. A single `DateOfRecord` in the source data means this plot is based on an assumed or simulated monthly distribution, and thus, its interpretation about *actual* time trends is limited without further context on how `monthly_layoffs` was derived. If this plot is a simulation, it shows the assumed steady state."
   ]
  },
  {
   "cell_type": "code",
   "execution_count": 76,
   "id": "49261078-e2b7-45aa-8abc-c60dc391758b",
   "metadata": {},
   "outputs": [
    {
     "name": "stdout",
     "output_type": "stream",
     "text": [
      "Requirement already satisfied: kaleido in c:\\users\\hp\\anaconda3\\lib\\site-packages (1.0.0)\n",
      "Requirement already satisfied: reportlab in c:\\users\\hp\\anaconda3\\lib\\site-packages (4.4.3)\n",
      "Requirement already satisfied: choreographer>=1.0.5 in c:\\users\\hp\\anaconda3\\lib\\site-packages (from kaleido) (1.0.9)\n",
      "Requirement already satisfied: logistro>=1.0.8 in c:\\users\\hp\\anaconda3\\lib\\site-packages (from kaleido) (1.1.0)\n",
      "Requirement already satisfied: orjson>=3.10.15 in c:\\users\\hp\\anaconda3\\lib\\site-packages (from kaleido) (3.11.0)\n",
      "Requirement already satisfied: packaging in c:\\users\\hp\\anaconda3\\lib\\site-packages (from kaleido) (24.1)\n",
      "Requirement already satisfied: pillow>=9.0.0 in c:\\users\\hp\\anaconda3\\lib\\site-packages (from reportlab) (10.4.0)\n",
      "Requirement already satisfied: charset-normalizer in c:\\users\\hp\\anaconda3\\lib\\site-packages (from reportlab) (3.3.2)\n",
      "Requirement already satisfied: simplejson>=3.19.3 in c:\\users\\hp\\anaconda3\\lib\\site-packages (from choreographer>=1.0.5->kaleido) (3.20.1)\n"
     ]
    },
    {
     "name": "stderr",
     "output_type": "stream",
     "text": [
      "WARNING: Ignoring invalid distribution ~lotly (C:\\Users\\HP\\anaconda3\\Lib\\site-packages)\n",
      "WARNING: Ignoring invalid distribution ~lotly (C:\\Users\\HP\\anaconda3\\Lib\\site-packages)\n",
      "WARNING: Ignoring invalid distribution ~lotly (C:\\Users\\HP\\anaconda3\\Lib\\site-packages)\n"
     ]
    }
   ],
   "source": [
    "!pip install kaleido reportlab\n"
   ]
  },
  {
   "cell_type": "code",
   "execution_count": 78,
   "id": "e433ef68-86e5-4200-8f88-32afdfd82f66",
   "metadata": {},
   "outputs": [
    {
     "ename": "OSError",
     "evalue": "\nfileName='fig1_q1.png' identity=[ImageReader@0x1ffec9a7b90 filename='fig1_q1.png'] Cannot open resource \"fig1_q1.png\"",
     "output_type": "error",
     "traceback": [
      "\u001b[1;31m---------------------------------------------------------------------------\u001b[0m",
      "\u001b[1;31mFileNotFoundError\u001b[0m                         Traceback (most recent call last)",
      "File \u001b[1;32m~\\anaconda3\\Lib\\site-packages\\reportlab\\lib\\utils.py:523\u001b[0m, in \u001b[0;36mopen_for_read.<locals>.open_for_read\u001b[1;34m(name, mode)\u001b[0m\n\u001b[0;32m    522\u001b[0m \u001b[38;5;28;01mtry\u001b[39;00m:\n\u001b[1;32m--> 523\u001b[0m     \u001b[38;5;28;01mreturn\u001b[39;00m open_for_read_by_name(name,mode)\n\u001b[0;32m    524\u001b[0m \u001b[38;5;28;01mexcept\u001b[39;00m:\n",
      "File \u001b[1;32m~\\anaconda3\\Lib\\site-packages\\reportlab\\lib\\utils.py:463\u001b[0m, in \u001b[0;36mopen_for_read_by_name\u001b[1;34m(name, mode)\u001b[0m\n\u001b[0;32m    462\u001b[0m \u001b[38;5;28;01mtry\u001b[39;00m:\n\u001b[1;32m--> 463\u001b[0m     \u001b[38;5;28;01mreturn\u001b[39;00m \u001b[38;5;28mopen\u001b[39m(name,mode)\n\u001b[0;32m    464\u001b[0m \u001b[38;5;28;01mexcept\u001b[39;00m \u001b[38;5;167;01mIOError\u001b[39;00m:\n",
      "\u001b[1;31mFileNotFoundError\u001b[0m: [Errno 2] No such file or directory: 'fig1_q1.png'",
      "\nDuring handling of the above exception, another exception occurred:\n",
      "\u001b[1;31mValueError\u001b[0m                                Traceback (most recent call last)",
      "File \u001b[1;32m~\\anaconda3\\Lib\\site-packages\\reportlab\\lib\\utils.py:530\u001b[0m, in \u001b[0;36mopen_for_read.<locals>.open_for_read\u001b[1;34m(name, mode)\u001b[0m\n\u001b[0;32m    529\u001b[0m             \u001b[38;5;28;01mraise\u001b[39;00m \u001b[38;5;167;01mValueError\u001b[39;00m(\u001b[38;5;124m'\u001b[39m\u001b[38;5;124mAttempted untrusted host access\u001b[39m\u001b[38;5;124m'\u001b[39m)\n\u001b[1;32m--> 530\u001b[0m     \u001b[38;5;28;01mreturn\u001b[39;00m BytesIO((datareader \u001b[38;5;28;01mif\u001b[39;00m name[:\u001b[38;5;241m5\u001b[39m]\u001b[38;5;241m.\u001b[39mlower()\u001b[38;5;241m==\u001b[39m\u001b[38;5;124m'\u001b[39m\u001b[38;5;124mdata:\u001b[39m\u001b[38;5;124m'\u001b[39m \u001b[38;5;28;01melse\u001b[39;00m rlUrlRead)(name))\n\u001b[0;32m    531\u001b[0m \u001b[38;5;28;01mexcept\u001b[39;00m:\n",
      "File \u001b[1;32m~\\anaconda3\\Lib\\site-packages\\reportlab\\lib\\utils.py:476\u001b[0m, in \u001b[0;36mrlUrlRead\u001b[1;34m(name)\u001b[0m\n\u001b[0;32m    475\u001b[0m \u001b[38;5;28;01mdef\u001b[39;00m \u001b[38;5;21mrlUrlRead\u001b[39m(name):\n\u001b[1;32m--> 476\u001b[0m     \u001b[38;5;28;01mreturn\u001b[39;00m urlopen(name)\u001b[38;5;241m.\u001b[39mread()\n",
      "File \u001b[1;32m~\\anaconda3\\Lib\\urllib\\request.py:215\u001b[0m, in \u001b[0;36murlopen\u001b[1;34m(url, data, timeout, cafile, capath, cadefault, context)\u001b[0m\n\u001b[0;32m    214\u001b[0m     opener \u001b[38;5;241m=\u001b[39m _opener\n\u001b[1;32m--> 215\u001b[0m \u001b[38;5;28;01mreturn\u001b[39;00m opener\u001b[38;5;241m.\u001b[39mopen(url, data, timeout)\n",
      "File \u001b[1;32m~\\anaconda3\\Lib\\urllib\\request.py:499\u001b[0m, in \u001b[0;36mOpenerDirector.open\u001b[1;34m(self, fullurl, data, timeout)\u001b[0m\n\u001b[0;32m    498\u001b[0m \u001b[38;5;28;01mif\u001b[39;00m \u001b[38;5;28misinstance\u001b[39m(fullurl, \u001b[38;5;28mstr\u001b[39m):\n\u001b[1;32m--> 499\u001b[0m     req \u001b[38;5;241m=\u001b[39m Request(fullurl, data)\n\u001b[0;32m    500\u001b[0m \u001b[38;5;28;01melse\u001b[39;00m:\n",
      "File \u001b[1;32m~\\anaconda3\\Lib\\urllib\\request.py:318\u001b[0m, in \u001b[0;36mRequest.__init__\u001b[1;34m(self, url, data, headers, origin_req_host, unverifiable, method)\u001b[0m\n\u001b[0;32m    315\u001b[0m \u001b[38;5;28;01mdef\u001b[39;00m \u001b[38;5;21m__init__\u001b[39m(\u001b[38;5;28mself\u001b[39m, url, data\u001b[38;5;241m=\u001b[39m\u001b[38;5;28;01mNone\u001b[39;00m, headers\u001b[38;5;241m=\u001b[39m{},\n\u001b[0;32m    316\u001b[0m              origin_req_host\u001b[38;5;241m=\u001b[39m\u001b[38;5;28;01mNone\u001b[39;00m, unverifiable\u001b[38;5;241m=\u001b[39m\u001b[38;5;28;01mFalse\u001b[39;00m,\n\u001b[0;32m    317\u001b[0m              method\u001b[38;5;241m=\u001b[39m\u001b[38;5;28;01mNone\u001b[39;00m):\n\u001b[1;32m--> 318\u001b[0m     \u001b[38;5;28mself\u001b[39m\u001b[38;5;241m.\u001b[39mfull_url \u001b[38;5;241m=\u001b[39m url\n\u001b[0;32m    319\u001b[0m     \u001b[38;5;28mself\u001b[39m\u001b[38;5;241m.\u001b[39mheaders \u001b[38;5;241m=\u001b[39m {}\n",
      "File \u001b[1;32m~\\anaconda3\\Lib\\urllib\\request.py:344\u001b[0m, in \u001b[0;36mRequest.full_url\u001b[1;34m(self, url)\u001b[0m\n\u001b[0;32m    343\u001b[0m \u001b[38;5;28mself\u001b[39m\u001b[38;5;241m.\u001b[39m_full_url, \u001b[38;5;28mself\u001b[39m\u001b[38;5;241m.\u001b[39mfragment \u001b[38;5;241m=\u001b[39m _splittag(\u001b[38;5;28mself\u001b[39m\u001b[38;5;241m.\u001b[39m_full_url)\n\u001b[1;32m--> 344\u001b[0m \u001b[38;5;28mself\u001b[39m\u001b[38;5;241m.\u001b[39m_parse()\n",
      "File \u001b[1;32m~\\anaconda3\\Lib\\urllib\\request.py:373\u001b[0m, in \u001b[0;36mRequest._parse\u001b[1;34m(self)\u001b[0m\n\u001b[0;32m    372\u001b[0m \u001b[38;5;28;01mif\u001b[39;00m \u001b[38;5;28mself\u001b[39m\u001b[38;5;241m.\u001b[39mtype \u001b[38;5;129;01mis\u001b[39;00m \u001b[38;5;28;01mNone\u001b[39;00m:\n\u001b[1;32m--> 373\u001b[0m     \u001b[38;5;28;01mraise\u001b[39;00m \u001b[38;5;167;01mValueError\u001b[39;00m(\u001b[38;5;124m\"\u001b[39m\u001b[38;5;124munknown url type: \u001b[39m\u001b[38;5;132;01m%r\u001b[39;00m\u001b[38;5;124m\"\u001b[39m \u001b[38;5;241m%\u001b[39m \u001b[38;5;28mself\u001b[39m\u001b[38;5;241m.\u001b[39mfull_url)\n\u001b[0;32m    374\u001b[0m \u001b[38;5;28mself\u001b[39m\u001b[38;5;241m.\u001b[39mhost, \u001b[38;5;28mself\u001b[39m\u001b[38;5;241m.\u001b[39mselector \u001b[38;5;241m=\u001b[39m _splithost(rest)\n",
      "\u001b[1;31mValueError\u001b[0m: unknown url type: 'fig1_q1.png'",
      "\nDuring handling of the above exception, another exception occurred:\n",
      "\u001b[1;31mOSError\u001b[0m                                   Traceback (most recent call last)",
      "File \u001b[1;32m~\\anaconda3\\Lib\\site-packages\\reportlab\\lib\\utils.py:643\u001b[0m, in \u001b[0;36mImageReader.__init__\u001b[1;34m(self, fileName, ident)\u001b[0m\n\u001b[0;32m    642\u001b[0m     \u001b[38;5;28;01mraise\u001b[39;00m \u001b[38;5;167;01mValueError\u001b[39;00m(\u001b[38;5;124m'\u001b[39m\u001b[38;5;124mimageReaderFlags values other than 0 are no longer supported; all images are interned now\u001b[39m\u001b[38;5;124m'\u001b[39m)\n\u001b[1;32m--> 643\u001b[0m fp \u001b[38;5;241m=\u001b[39m open_for_read(fileName,\u001b[38;5;124m'\u001b[39m\u001b[38;5;124mb\u001b[39m\u001b[38;5;124m'\u001b[39m)\n\u001b[0;32m    644\u001b[0m \u001b[38;5;28;01mif\u001b[39;00m \u001b[38;5;129;01mnot\u001b[39;00m \u001b[38;5;28misinstance\u001b[39m(fp, BytesIO):\n",
      "File \u001b[1;32m~\\anaconda3\\Lib\\site-packages\\reportlab\\lib\\utils.py:534\u001b[0m, in \u001b[0;36mopen_for_read\u001b[1;34m(name, mode)\u001b[0m\n\u001b[0;32m    533\u001b[0m \u001b[38;5;28mglobals\u001b[39m()[\u001b[38;5;124m'\u001b[39m\u001b[38;5;124mopen_for_read\u001b[39m\u001b[38;5;124m'\u001b[39m] \u001b[38;5;241m=\u001b[39m open_for_read\n\u001b[1;32m--> 534\u001b[0m \u001b[38;5;28;01mreturn\u001b[39;00m open_for_read(name,mode)\n",
      "File \u001b[1;32m~\\anaconda3\\Lib\\site-packages\\reportlab\\lib\\utils.py:532\u001b[0m, in \u001b[0;36mopen_for_read.<locals>.open_for_read\u001b[1;34m(name, mode)\u001b[0m\n\u001b[0;32m    531\u001b[0m \u001b[38;5;28;01mexcept\u001b[39;00m:\n\u001b[1;32m--> 532\u001b[0m     \u001b[38;5;28;01mraise\u001b[39;00m \u001b[38;5;167;01mIOError\u001b[39;00m(\u001b[38;5;124m'\u001b[39m\u001b[38;5;124mCannot open resource \u001b[39m\u001b[38;5;124m\"\u001b[39m\u001b[38;5;132;01m%s\u001b[39;00m\u001b[38;5;124m\"\u001b[39m\u001b[38;5;124m'\u001b[39m \u001b[38;5;241m%\u001b[39m name)\n",
      "\u001b[1;31mOSError\u001b[0m: Cannot open resource \"fig1_q1.png\"",
      "\nDuring handling of the above exception, another exception occurred:\n",
      "\u001b[1;31mOSError\u001b[0m                                   Traceback (most recent call last)",
      "Cell \u001b[1;32mIn[78], line 27\u001b[0m\n\u001b[0;32m     24\u001b[0m     flowables\u001b[38;5;241m.\u001b[39mappend(PageBreak())\n\u001b[0;32m     26\u001b[0m \u001b[38;5;66;03m# Generate PDF\u001b[39;00m\n\u001b[1;32m---> 27\u001b[0m doc\u001b[38;5;241m.\u001b[39mbuild(flowables)\n",
      "File \u001b[1;32m~\\anaconda3\\Lib\\site-packages\\reportlab\\platypus\\doctemplate.py:1322\u001b[0m, in \u001b[0;36mSimpleDocTemplate.build\u001b[1;34m(self, flowables, onFirstPage, onLaterPages, canvasmaker)\u001b[0m\n\u001b[0;32m   1320\u001b[0m \u001b[38;5;28;01mif\u001b[39;00m onLaterPages \u001b[38;5;129;01mis\u001b[39;00m _doNothing \u001b[38;5;129;01mand\u001b[39;00m \u001b[38;5;28mhasattr\u001b[39m(\u001b[38;5;28mself\u001b[39m,\u001b[38;5;124m'\u001b[39m\u001b[38;5;124monLaterPages\u001b[39m\u001b[38;5;124m'\u001b[39m):\n\u001b[0;32m   1321\u001b[0m     \u001b[38;5;28mself\u001b[39m\u001b[38;5;241m.\u001b[39mpageTemplates[\u001b[38;5;241m1\u001b[39m]\u001b[38;5;241m.\u001b[39mbeforeDrawPage \u001b[38;5;241m=\u001b[39m \u001b[38;5;28mself\u001b[39m\u001b[38;5;241m.\u001b[39monLaterPages\n\u001b[1;32m-> 1322\u001b[0m BaseDocTemplate\u001b[38;5;241m.\u001b[39mbuild(\u001b[38;5;28mself\u001b[39m,flowables, canvasmaker\u001b[38;5;241m=\u001b[39mcanvasmaker)\n",
      "File \u001b[1;32m~\\anaconda3\\Lib\\site-packages\\reportlab\\platypus\\doctemplate.py:1083\u001b[0m, in \u001b[0;36mBaseDocTemplate.build\u001b[1;34m(self, flowables, filename, canvasmaker)\u001b[0m\n\u001b[0;32m   1081\u001b[0m \u001b[38;5;28;01mtry\u001b[39;00m:\n\u001b[0;32m   1082\u001b[0m     first \u001b[38;5;241m=\u001b[39m flowables[\u001b[38;5;241m0\u001b[39m]\n\u001b[1;32m-> 1083\u001b[0m     \u001b[38;5;28mself\u001b[39m\u001b[38;5;241m.\u001b[39mhandle_flowable(flowables)\n\u001b[0;32m   1084\u001b[0m     handled \u001b[38;5;241m+\u001b[39m\u001b[38;5;241m=\u001b[39m \u001b[38;5;241m1\u001b[39m\n\u001b[0;32m   1085\u001b[0m \u001b[38;5;28;01mexcept\u001b[39;00m:\n\u001b[0;32m   1086\u001b[0m     \u001b[38;5;66;03m#if it has trace info, add it to the traceback message.\u001b[39;00m\n",
      "File \u001b[1;32m~\\anaconda3\\Lib\\site-packages\\reportlab\\platypus\\doctemplate.py:932\u001b[0m, in \u001b[0;36mBaseDocTemplate.handle_flowable\u001b[1;34m(self, flowables)\u001b[0m\n\u001b[0;32m    930\u001b[0m canv \u001b[38;5;241m=\u001b[39m \u001b[38;5;28mself\u001b[39m\u001b[38;5;241m.\u001b[39mcanv\n\u001b[0;32m    931\u001b[0m \u001b[38;5;66;03m#try to fit it then draw it\u001b[39;00m\n\u001b[1;32m--> 932\u001b[0m \u001b[38;5;28;01mif\u001b[39;00m frame\u001b[38;5;241m.\u001b[39madd(f, canv, trySplit\u001b[38;5;241m=\u001b[39m\u001b[38;5;28mself\u001b[39m\u001b[38;5;241m.\u001b[39mallowSplitting):\n\u001b[0;32m    933\u001b[0m     \u001b[38;5;28;01mif\u001b[39;00m \u001b[38;5;129;01mnot\u001b[39;00m \u001b[38;5;28misinstance\u001b[39m(f,FrameActionFlowable):\n\u001b[0;32m    934\u001b[0m         \u001b[38;5;28mself\u001b[39m\u001b[38;5;241m.\u001b[39m_curPageFlowableCount \u001b[38;5;241m+\u001b[39m\u001b[38;5;241m=\u001b[39m \u001b[38;5;241m1\u001b[39m\n",
      "File \u001b[1;32m~\\anaconda3\\Lib\\site-packages\\reportlab\\platypus\\frames.py:158\u001b[0m, in \u001b[0;36mFrame._add\u001b[1;34m(self, flowable, canv, trySplit)\u001b[0m\n\u001b[0;32m    156\u001b[0m h \u001b[38;5;241m=\u001b[39m y \u001b[38;5;241m-\u001b[39m p \u001b[38;5;241m-\u001b[39m s\n\u001b[0;32m    157\u001b[0m \u001b[38;5;28;01mif\u001b[39;00m h\u001b[38;5;241m>\u001b[39m\u001b[38;5;241m0\u001b[39m \u001b[38;5;129;01mor\u001b[39;00m zeroSize:\n\u001b[1;32m--> 158\u001b[0m     w, h \u001b[38;5;241m=\u001b[39m flowable\u001b[38;5;241m.\u001b[39mwrap(aW, h)\n\u001b[0;32m    159\u001b[0m \u001b[38;5;28;01melse\u001b[39;00m:\n\u001b[0;32m    160\u001b[0m     \u001b[38;5;28;01mreturn\u001b[39;00m \u001b[38;5;241m0\u001b[39m\n",
      "File \u001b[1;32m~\\anaconda3\\Lib\\site-packages\\reportlab\\platypus\\flowables.py:510\u001b[0m, in \u001b[0;36mImage.wrap\u001b[1;34m(self, availWidth, availHeight)\u001b[0m\n\u001b[0;32m    508\u001b[0m \u001b[38;5;28;01mdef\u001b[39;00m \u001b[38;5;21mwrap\u001b[39m(\u001b[38;5;28mself\u001b[39m, availWidth, availHeight):\n\u001b[0;32m    509\u001b[0m     \u001b[38;5;66;03m#the caller may decide it does not fit.\u001b[39;00m\n\u001b[1;32m--> 510\u001b[0m     \u001b[38;5;28;01mreturn\u001b[39;00m \u001b[38;5;28mself\u001b[39m\u001b[38;5;241m.\u001b[39mdrawWidth, \u001b[38;5;28mself\u001b[39m\u001b[38;5;241m.\u001b[39mdrawHeight\n",
      "File \u001b[1;32m~\\anaconda3\\Lib\\site-packages\\reportlab\\platypus\\flowables.py:504\u001b[0m, in \u001b[0;36mImage.__getattr__\u001b[1;34m(self, a)\u001b[0m\n\u001b[0;32m    502\u001b[0m     \u001b[38;5;28;01mreturn\u001b[39;00m \u001b[38;5;28mself\u001b[39m\u001b[38;5;241m.\u001b[39m_img\n\u001b[0;32m    503\u001b[0m \u001b[38;5;28;01melif\u001b[39;00m a \u001b[38;5;129;01min\u001b[39;00m (\u001b[38;5;124m'\u001b[39m\u001b[38;5;124mdrawWidth\u001b[39m\u001b[38;5;124m'\u001b[39m,\u001b[38;5;124m'\u001b[39m\u001b[38;5;124mdrawHeight\u001b[39m\u001b[38;5;124m'\u001b[39m,\u001b[38;5;124m'\u001b[39m\u001b[38;5;124mimageWidth\u001b[39m\u001b[38;5;124m'\u001b[39m,\u001b[38;5;124m'\u001b[39m\u001b[38;5;124mimageHeight\u001b[39m\u001b[38;5;124m'\u001b[39m):\n\u001b[1;32m--> 504\u001b[0m     \u001b[38;5;28mself\u001b[39m\u001b[38;5;241m.\u001b[39m_setup_inner()\n\u001b[0;32m    505\u001b[0m     \u001b[38;5;28;01mreturn\u001b[39;00m \u001b[38;5;28mself\u001b[39m\u001b[38;5;241m.\u001b[39m\u001b[38;5;18m__dict__\u001b[39m[a]\n\u001b[0;32m    506\u001b[0m \u001b[38;5;28;01mraise\u001b[39;00m \u001b[38;5;167;01mAttributeError\u001b[39;00m(\u001b[38;5;124m\"\u001b[39m\u001b[38;5;124m<Image @ 0x\u001b[39m\u001b[38;5;132;01m%x\u001b[39;00m\u001b[38;5;124m>.\u001b[39m\u001b[38;5;132;01m%s\u001b[39;00m\u001b[38;5;124m\"\u001b[39m \u001b[38;5;241m%\u001b[39m (\u001b[38;5;28mid\u001b[39m(\u001b[38;5;28mself\u001b[39m),a))\n",
      "File \u001b[1;32m~\\anaconda3\\Lib\\site-packages\\reportlab\\platypus\\flowables.py:461\u001b[0m, in \u001b[0;36mImage._setup_inner\u001b[1;34m(self)\u001b[0m\n\u001b[0;32m    459\u001b[0m height \u001b[38;5;241m=\u001b[39m \u001b[38;5;28mself\u001b[39m\u001b[38;5;241m.\u001b[39m_height\n\u001b[0;32m    460\u001b[0m kind \u001b[38;5;241m=\u001b[39m \u001b[38;5;28mself\u001b[39m\u001b[38;5;241m.\u001b[39m_kind\n\u001b[1;32m--> 461\u001b[0m img \u001b[38;5;241m=\u001b[39m \u001b[38;5;28mself\u001b[39m\u001b[38;5;241m.\u001b[39m_img\n\u001b[0;32m    462\u001b[0m \u001b[38;5;28;01mif\u001b[39;00m img:\n\u001b[0;32m    463\u001b[0m     \u001b[38;5;28mself\u001b[39m\u001b[38;5;241m.\u001b[39mimageWidth, \u001b[38;5;28mself\u001b[39m\u001b[38;5;241m.\u001b[39mimageHeight \u001b[38;5;241m=\u001b[39m img\u001b[38;5;241m.\u001b[39mgetSize()\n",
      "File \u001b[1;32m~\\anaconda3\\Lib\\site-packages\\reportlab\\platypus\\flowables.py:498\u001b[0m, in \u001b[0;36mImage.__getattr__\u001b[1;34m(self, a)\u001b[0m\n\u001b[0;32m    496\u001b[0m \u001b[38;5;28;01mif\u001b[39;00m a\u001b[38;5;241m==\u001b[39m\u001b[38;5;124m'\u001b[39m\u001b[38;5;124m_img\u001b[39m\u001b[38;5;124m'\u001b[39m:\n\u001b[0;32m    497\u001b[0m     \u001b[38;5;28;01mfrom\u001b[39;00m \u001b[38;5;21;01mreportlab\u001b[39;00m\u001b[38;5;21;01m.\u001b[39;00m\u001b[38;5;21;01mlib\u001b[39;00m\u001b[38;5;21;01m.\u001b[39;00m\u001b[38;5;21;01mutils\u001b[39;00m \u001b[38;5;28;01mimport\u001b[39;00m ImageReader  \u001b[38;5;66;03m#this may raise an error\u001b[39;00m\n\u001b[1;32m--> 498\u001b[0m     \u001b[38;5;28mself\u001b[39m\u001b[38;5;241m.\u001b[39m_img \u001b[38;5;241m=\u001b[39m ImageReader(\u001b[38;5;28mself\u001b[39m\u001b[38;5;241m.\u001b[39m_file)\n\u001b[0;32m    499\u001b[0m     \u001b[38;5;28;01mif\u001b[39;00m \u001b[38;5;129;01mnot\u001b[39;00m \u001b[38;5;28misinstance\u001b[39m(\u001b[38;5;28mself\u001b[39m\u001b[38;5;241m.\u001b[39m_file,strTypes):\n\u001b[0;32m    500\u001b[0m         \u001b[38;5;28mself\u001b[39m\u001b[38;5;241m.\u001b[39m_file \u001b[38;5;241m=\u001b[39m \u001b[38;5;28;01mNone\u001b[39;00m\n",
      "File \u001b[1;32m~\\anaconda3\\Lib\\site-packages\\reportlab\\lib\\utils.py:655\u001b[0m, in \u001b[0;36mImageReader.__init__\u001b[1;34m(self, fileName, ident)\u001b[0m\n\u001b[0;32m    653\u001b[0m         \u001b[38;5;28mself\u001b[39m\u001b[38;5;241m.\u001b[39mjpeg_fh \u001b[38;5;241m=\u001b[39m \u001b[38;5;28mself\u001b[39m\u001b[38;5;241m.\u001b[39m_jpeg_fh\n\u001b[0;32m    654\u001b[0m \u001b[38;5;28;01mexcept\u001b[39;00m:\n\u001b[1;32m--> 655\u001b[0m     annotateException(\u001b[38;5;124m'\u001b[39m\u001b[38;5;130;01m\\n\u001b[39;00m\u001b[38;5;124mfileName=\u001b[39m\u001b[38;5;132;01m%r\u001b[39;00m\u001b[38;5;124m identity=\u001b[39m\u001b[38;5;132;01m%s\u001b[39;00m\u001b[38;5;124m'\u001b[39m\u001b[38;5;241m%\u001b[39m(fileName,\u001b[38;5;28mself\u001b[39m\u001b[38;5;241m.\u001b[39midentity()))\n",
      "File \u001b[1;32m~\\anaconda3\\Lib\\site-packages\\reportlab\\lib\\utils.py:1176\u001b[0m, in \u001b[0;36mannotateException\u001b[1;34m(msg, enc, postMsg, sep)\u001b[0m\n\u001b[0;32m   1174\u001b[0m \u001b[38;5;250m\u001b[39m\u001b[38;5;124;03m'''add msg to the args of an existing exception'''\u001b[39;00m\n\u001b[0;32m   1175\u001b[0m t,v,b\u001b[38;5;241m=\u001b[39msys\u001b[38;5;241m.\u001b[39mexc_info()\n\u001b[1;32m-> 1176\u001b[0m rl_reraise(t,t(sep\u001b[38;5;241m.\u001b[39mjoin((_ \u001b[38;5;28;01mfor\u001b[39;00m _ \u001b[38;5;129;01min\u001b[39;00m (msg,\u001b[38;5;28mstr\u001b[39m(v),postMsg) \u001b[38;5;28;01mif\u001b[39;00m _))),b)\n",
      "File \u001b[1;32m~\\anaconda3\\Lib\\site-packages\\reportlab\\lib\\utils.py:138\u001b[0m, in \u001b[0;36mrl_reraise\u001b[1;34m(t, v, b)\u001b[0m\n\u001b[0;32m    136\u001b[0m \u001b[38;5;28;01mdef\u001b[39;00m \u001b[38;5;21mrl_reraise\u001b[39m(t, v, b\u001b[38;5;241m=\u001b[39m\u001b[38;5;28;01mNone\u001b[39;00m):\n\u001b[0;32m    137\u001b[0m     \u001b[38;5;28;01mif\u001b[39;00m v\u001b[38;5;241m.\u001b[39m__traceback__ \u001b[38;5;129;01mis\u001b[39;00m \u001b[38;5;129;01mnot\u001b[39;00m b:\n\u001b[1;32m--> 138\u001b[0m         \u001b[38;5;28;01mraise\u001b[39;00m v\u001b[38;5;241m.\u001b[39mwith_traceback(b)\n\u001b[0;32m    139\u001b[0m     \u001b[38;5;28;01mraise\u001b[39;00m v\n",
      "File \u001b[1;32m~\\anaconda3\\Lib\\site-packages\\reportlab\\lib\\utils.py:643\u001b[0m, in \u001b[0;36mImageReader.__init__\u001b[1;34m(self, fileName, ident)\u001b[0m\n\u001b[0;32m    641\u001b[0m \u001b[38;5;28;01mif\u001b[39;00m imageReaderFlags \u001b[38;5;241m!=\u001b[39m \u001b[38;5;241m0\u001b[39m:\n\u001b[0;32m    642\u001b[0m     \u001b[38;5;28;01mraise\u001b[39;00m \u001b[38;5;167;01mValueError\u001b[39;00m(\u001b[38;5;124m'\u001b[39m\u001b[38;5;124mimageReaderFlags values other than 0 are no longer supported; all images are interned now\u001b[39m\u001b[38;5;124m'\u001b[39m)\n\u001b[1;32m--> 643\u001b[0m fp \u001b[38;5;241m=\u001b[39m open_for_read(fileName,\u001b[38;5;124m'\u001b[39m\u001b[38;5;124mb\u001b[39m\u001b[38;5;124m'\u001b[39m)\n\u001b[0;32m    644\u001b[0m \u001b[38;5;28;01mif\u001b[39;00m \u001b[38;5;129;01mnot\u001b[39;00m \u001b[38;5;28misinstance\u001b[39m(fp, BytesIO):\n\u001b[0;32m    645\u001b[0m     tfp, fp \u001b[38;5;241m=\u001b[39m fp, BytesIO(fp\u001b[38;5;241m.\u001b[39mread())\n",
      "File \u001b[1;32m~\\anaconda3\\Lib\\site-packages\\reportlab\\lib\\utils.py:534\u001b[0m, in \u001b[0;36mopen_for_read\u001b[1;34m(name, mode)\u001b[0m\n\u001b[0;32m    532\u001b[0m             \u001b[38;5;28;01mraise\u001b[39;00m \u001b[38;5;167;01mIOError\u001b[39;00m(\u001b[38;5;124m'\u001b[39m\u001b[38;5;124mCannot open resource \u001b[39m\u001b[38;5;124m\"\u001b[39m\u001b[38;5;132;01m%s\u001b[39;00m\u001b[38;5;124m\"\u001b[39m\u001b[38;5;124m'\u001b[39m \u001b[38;5;241m%\u001b[39m name)\n\u001b[0;32m    533\u001b[0m \u001b[38;5;28mglobals\u001b[39m()[\u001b[38;5;124m'\u001b[39m\u001b[38;5;124mopen_for_read\u001b[39m\u001b[38;5;124m'\u001b[39m] \u001b[38;5;241m=\u001b[39m open_for_read\n\u001b[1;32m--> 534\u001b[0m \u001b[38;5;28;01mreturn\u001b[39;00m open_for_read(name,mode)\n",
      "File \u001b[1;32m~\\anaconda3\\Lib\\site-packages\\reportlab\\lib\\utils.py:532\u001b[0m, in \u001b[0;36mopen_for_read.<locals>.open_for_read\u001b[1;34m(name, mode)\u001b[0m\n\u001b[0;32m    530\u001b[0m     \u001b[38;5;28;01mreturn\u001b[39;00m BytesIO((datareader \u001b[38;5;28;01mif\u001b[39;00m name[:\u001b[38;5;241m5\u001b[39m]\u001b[38;5;241m.\u001b[39mlower()\u001b[38;5;241m==\u001b[39m\u001b[38;5;124m'\u001b[39m\u001b[38;5;124mdata:\u001b[39m\u001b[38;5;124m'\u001b[39m \u001b[38;5;28;01melse\u001b[39;00m rlUrlRead)(name))\n\u001b[0;32m    531\u001b[0m \u001b[38;5;28;01mexcept\u001b[39;00m:\n\u001b[1;32m--> 532\u001b[0m     \u001b[38;5;28;01mraise\u001b[39;00m \u001b[38;5;167;01mIOError\u001b[39;00m(\u001b[38;5;124m'\u001b[39m\u001b[38;5;124mCannot open resource \u001b[39m\u001b[38;5;124m\"\u001b[39m\u001b[38;5;132;01m%s\u001b[39;00m\u001b[38;5;124m\"\u001b[39m\u001b[38;5;124m'\u001b[39m \u001b[38;5;241m%\u001b[39m name)\n",
      "\u001b[1;31mOSError\u001b[0m: \nfileName='fig1_q1.png' identity=[ImageReader@0x1ffec9a7b90 filename='fig1_q1.png'] Cannot open resource \"fig1_q1.png\""
     ]
    }
   ],
   "source": [
    "from reportlab.platypus import SimpleDocTemplate, Paragraph, Spacer, Image, PageBreak\n",
    "from reportlab.lib.styles import getSampleStyleSheet\n",
    "from reportlab.lib.pagesizes import A4\n",
    "\n",
    "# Set up document\n",
    "doc = SimpleDocTemplate(\"TCS_2025_Layoff_Analysis_Report.pdf\", pagesize=A4)\n",
    "styles = getSampleStyleSheet()\n",
    "flowables = []\n",
    "\n",
    "# Title Page\n",
    "flowables.append(Paragraph(\"TCS 2025 Workforce Layoff Analysis\", styles['Title']))\n",
    "flowables.append(Spacer(1, 24))\n",
    "flowables.append(Paragraph(\"Exploratory Data Analysis (EDA) Report\", styles['Heading2']))\n",
    "flowables.append(Spacer(1, 48))\n",
    "flowables.append(Paragraph(\"Generated with Plotly + ReportLab\", styles['Normal']))\n",
    "flowables.append(PageBreak())\n",
    "\n",
    "# Add Q1–Q10 images\n",
    "for i in range(1, 11):\n",
    "    flowables.append(Paragraph(f\"Q{i}: Plot {i}\", styles['Heading2']))\n",
    "    flowables.append(Spacer(1, 12))\n",
    "    flowables.append(Image(f\"fig{i}_q{i}.png\", width=500, height=300))  # Resize as needed\n",
    "    flowables.append(Spacer(1, 24))\n",
    "    flowables.append(PageBreak())\n",
    "\n",
    "# Generate PDF\n",
    "doc.build(flowables)\n"
   ]
  },
  {
   "cell_type": "code",
   "execution_count": 79,
   "id": "80fc4877-4b59-4c21-95e3-ae8714871537",
   "metadata": {},
   "outputs": [
    {
     "data": {
      "text/plain": [
       "'C:\\\\Users\\\\HP\\\\New Beginnings'"
      ]
     },
     "execution_count": 79,
     "metadata": {},
     "output_type": "execute_result"
    }
   ],
   "source": [
    "import os\n",
    "os.getcwd()\n"
   ]
  },
  {
   "cell_type": "code",
   "execution_count": 80,
   "id": "e04032eb-796e-41ce-b77d-55ecff5325cd",
   "metadata": {},
   "outputs": [
    {
     "name": "stdout",
     "output_type": "stream",
     "text": [
      "fig1_q1.png exists: False\n",
      "fig2_q2.png exists: False\n",
      "fig3_q3.png exists: False\n",
      "fig4_q4.png exists: False\n",
      "fig5_q5.png exists: False\n",
      "fig6_q6.png exists: False\n",
      "fig7_q7.png exists: False\n",
      "fig8_q8.png exists: False\n",
      "fig9_q9.png exists: False\n",
      "fig10_q10.png exists: False\n"
     ]
    }
   ],
   "source": [
    "import os\n",
    "\n",
    "for i in range(1, 11):\n",
    "    filename = f\"fig{i}_q{i}.png\"\n",
    "    print(f\"{filename} exists:\", os.path.exists(filename))\n"
   ]
  },
  {
   "cell_type": "code",
   "execution_count": 81,
   "id": "4587a918-7ae7-4237-9121-3dbb5540432c",
   "metadata": {},
   "outputs": [
    {
     "name": "stdout",
     "output_type": "stream",
     "text": [
      "Could not save fig1: name 'fig1' is not defined\n",
      "Saved fig2_q2.png ✅\n",
      "Saved fig3_q3.png ✅\n",
      "Saved fig4_q4.png ✅\n",
      "Saved fig5_q5.png ✅\n",
      "Saved fig6_q6.png ✅\n",
      "Saved fig7_q7.png ✅\n",
      "Saved fig8_q8.png ✅\n",
      "Saved fig9_q9.png ✅\n",
      "Saved fig10_q10.png ✅\n"
     ]
    }
   ],
   "source": [
    "for i in range(1, 11):\n",
    "    try:\n",
    "        fig = eval(f\"fig{i}\")\n",
    "        fig.write_image(f\"fig{i}_q{i}.png\")\n",
    "        print(f\"Saved fig{i}_q{i}.png ✅\")\n",
    "    except Exception as e:\n",
    "        print(f\"Could not save fig{i}: {e}\")\n"
   ]
  },
  {
   "cell_type": "code",
   "execution_count": 82,
   "id": "fc448a4c-4830-4ea8-b2cd-cce242c48169",
   "metadata": {},
   "outputs": [
    {
     "name": "stdout",
     "output_type": "stream",
     "text": [
      "Saved fig1_q1.png ✅\n"
     ]
    }
   ],
   "source": [
    "# Q1 Plot - Layoff distribution\n",
    "import plotly.express as px\n",
    "\n",
    "fig1 = px.pie(\n",
    "    df,\n",
    "    names='LayoffFlag',\n",
    "    title='Plot 1: Layoff Distribution',\n",
    "    color='LayoffFlag',\n",
    "    color_discrete_map={0: 'green', 1: 'red'},\n",
    "    hole=0.4\n",
    ")\n",
    "\n",
    "fig1.update_traces(textinfo='percent+label')\n",
    "fig1.update_layout(font=dict(family=\"Arial\", size=12), title_font_size=16)\n",
    "\n",
    "# Save as image\n",
    "fig1.write_image(\"fig1_q1.png\")\n",
    "print(\"Saved fig1_q1.png ✅\")\n"
   ]
  },
  {
   "cell_type": "code",
   "execution_count": 83,
   "id": "758365fd-db5f-4fe1-829e-de7eebbe61de",
   "metadata": {},
   "outputs": [
    {
     "name": "stdout",
     "output_type": "stream",
     "text": [
      "✅ PDF created successfully at:\n",
      "C:\\Users\\HP\\New Beginnings\\TCS_Layoff_Analysis_Report.pdf\n"
     ]
    }
   ],
   "source": [
    "from reportlab.lib.pagesizes import letter\n",
    "from reportlab.platypus import SimpleDocTemplate, Paragraph, Spacer, Image\n",
    "from reportlab.lib.styles import getSampleStyleSheet\n",
    "import os\n",
    "\n",
    "# Path to save PDF\n",
    "output_path = r\"C:\\Users\\HP\\New Beginnings\\TCS_Layoff_Analysis_Report.pdf\"\n",
    "\n",
    "# Folder where your images are saved\n",
    "image_folder = r\"C:\\Users\\HP\\New Beginnings\\Plots for TCS analysis project\"\n",
    "\n",
    "# Create PDF\n",
    "doc = SimpleDocTemplate(output_path, pagesize=letter)\n",
    "elements = []\n",
    "styles = getSampleStyleSheet()\n",
    "\n",
    "# Title\n",
    "title = Paragraph(\"TCS 2025 Workforce Layoff Analysis – Visual Report\", styles['Title'])\n",
    "elements.append(title)\n",
    "elements.append(Spacer(1, 20))\n",
    "\n",
    "# Add each image\n",
    "for i in range(1, 11):\n",
    "    image_path = os.path.join(image_folder, f\"fig{i}_q{i}.png\")\n",
    "    if os.path.exists(image_path):\n",
    "        elements.append(Paragraph(f\"Plot {i}\", styles['Heading2']))\n",
    "        elements.append(Image(image_path, width=450, height=300))\n",
    "        elements.append(Spacer(1, 20))\n",
    "    else:\n",
    "        elements.append(Paragraph(f\"Plot {i} not found.\", styles['Normal']))\n",
    "\n",
    "# Build the PDF\n",
    "doc.build(elements)\n",
    "\n",
    "print(f\"✅ PDF created successfully at:\\n{output_path}\")\n"
   ]
  },
  {
   "cell_type": "code",
   "execution_count": null,
   "id": "0d12768b-7fb7-4132-a6d8-647480f74c63",
   "metadata": {},
   "outputs": [],
   "source": []
  }
 ],
 "metadata": {
  "kernelspec": {
   "display_name": "Python [conda env:base] *",
   "language": "python",
   "name": "conda-base-py"
  },
  "language_info": {
   "codemirror_mode": {
    "name": "ipython",
    "version": 3
   },
   "file_extension": ".py",
   "mimetype": "text/x-python",
   "name": "python",
   "nbconvert_exporter": "python",
   "pygments_lexer": "ipython3",
   "version": "3.12.7"
  }
 },
 "nbformat": 4,
 "nbformat_minor": 5
}
